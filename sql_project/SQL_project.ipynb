{
 "cells": [
  {
   "cell_type": "markdown",
   "id": "528432b8",
   "metadata": {},
   "source": [
    "# Анализ БД для сервиса чтения книг по подписке с помощью SQL запросов"
   ]
  },
  {
   "cell_type": "markdown",
   "id": "8da07190",
   "metadata": {},
   "source": [
    "**ОГЛАВЛЕНИЕ:**\n",
    "\n",
    "1. [Цель проекта](#start)\n",
    "\n",
    "2. [Подключение к БД](#connection)\n",
    "     \n",
    "3. [Знакомство с данными](#info)\n",
    "      \n",
    "4. [Выполнение запросов](#query)\n",
    "\n",
    "    4.1 [Запросы для получения основных данных о БД](#general) \n",
    "    \n",
    "    4.2 [Запросы в рамках заданий](#tasks)\n",
    "    \n",
    "    4.2.1 [Количество книг с датой выпуска позже 1 января 2000 года](#year_release)\n",
    "      \n",
    "    4.2.2 [Подсчет средней оценки и количества обзоров для каждой книги](#avg_rating)\n",
    "      \n",
    "    4.2.3 [Определение издательства, выпустившего наибольшее число книг толще 50 страниц](#publisher)\n",
    "      \n",
    "    4.2.4 [Определение автора с самой высокой средней оценкой книг, имеющих 50 и более оценок](#author)\n",
    "      \n",
    "    4.2.5 [Подсчет среднего количества обзоров от пользователей, поставивших более 50 оценок](#avg_review)\n",
    "      \n",
    "    \n",
    "5. [Выводы по проекту](#conclusion)"
   ]
  },
  {
   "cell_type": "markdown",
   "id": "e09d6da7",
   "metadata": {},
   "source": [
    "## Цель проекта<a id=\"start\"></a>  "
   ]
  },
  {
   "cell_type": "markdown",
   "id": "63e806d5",
   "metadata": {},
   "source": [
    "*Проанализировать базу данных с информацией о книгах, издательствах, авторах, а также пользовательских обзорах книг, используя SQL-запросы. Эти данные помогут сформулировать ценностное предложение для нового продукта - сервиса для чтения книг по подписке*"
   ]
  },
  {
   "cell_type": "markdown",
   "id": "36212561",
   "metadata": {},
   "source": [
    "**Описание данных**\n",
    "\n",
    "*Таблица `books`*\n",
    "\n",
    "Содержит данные о книгах:\n",
    "\n",
    "- `book_id` — идентификатор книги;\n",
    "- `author_id` — идентификатор автора;\n",
    "- `title` — название книги;\n",
    "- `num_pages` — количество страниц;\n",
    "- `publication_date` — дата публикации книги;\n",
    "- `publisher_id` — идентификатор издателя.\n",
    "\n",
    "*Таблица `authors`*\n",
    "\n",
    "Содержит данные об авторах:\n",
    "\n",
    "- `author_id` — идентификатор автора;\n",
    "- `author` — имя автора.\n",
    "\n",
    "*Таблица `publishers`*\n",
    "\n",
    "Содержит данные об издательствах:\n",
    "\n",
    "- `publisher_id` — идентификатор издательства;\n",
    "- `publisher` — название издательства;\n",
    "\n",
    "*Таблица `ratings`*\n",
    "\n",
    "Содержит данные о пользовательских оценках книг:\n",
    "\n",
    "- `rating_id` — идентификатор оценки;\n",
    "- `book_id` — идентификатор книги;\n",
    "- `username` — имя пользователя, оставившего оценку;\n",
    "- `rating` — оценка книги.\n",
    "\n",
    "*Таблица `reviews`*\n",
    "\n",
    "Содержит данные о пользовательских обзорах на книги:\n",
    "\n",
    "- `review_id` — идентификатор обзора;\n",
    "- `book_id` — идентификатор книги;\n",
    "- `username` — имя пользователя, написавшего обзор;\n",
    "- `text` — текст обзора."
   ]
  },
  {
   "cell_type": "markdown",
   "id": "4f5a4636",
   "metadata": {},
   "source": [
    "## Подключение к БД  <a id=\"connection\"></a> "
   ]
  },
  {
   "cell_type": "code",
   "execution_count": 1,
   "id": "10ce716b",
   "metadata": {},
   "outputs": [],
   "source": [
    "# импортируем библиотеки\n",
    "import pandas as pd\n",
    "from sqlalchemy import create_engine"
   ]
  },
  {
   "cell_type": "markdown",
   "id": "13c76651",
   "metadata": {},
   "source": [
    "Выполним подключение к БД, используя параметры:"
   ]
  },
  {
   "cell_type": "code",
   "execution_count": 2,
   "id": "83d38798",
   "metadata": {},
   "outputs": [],
   "source": [
    "# устанавливаем параметры\n",
    "db_config = {'user': 'praktikum_student', # имя пользователя\n",
    "'pwd': 'Sdf4$2;d-d30pp', # пароль\n",
    "'host': 'rc1b-wcoijxj3yxfsf3fs.mdb.yandexcloud.net',\n",
    "'port': 6432, # порт подключения\n",
    "'db': 'data-analyst-final-project-db'} # название базы данных\n",
    "connection_string = 'postgresql://{}:{}@{}:{}/{}'.format(db_config['user'],\n",
    " db_config['pwd'],\n",
    " db_config['host'],\n",
    " db_config['port'],\n",
    " db_config['db'])\n",
    "# сохраняем коннектор\n",
    "engine = create_engine(connection_string, connect_args={'sslmode':'require'})\n"
   ]
  },
  {
   "cell_type": "markdown",
   "id": "839c3ae7",
   "metadata": {},
   "source": [
    "## Знакомство с данными <a id=\"info\"></a>  "
   ]
  },
  {
   "cell_type": "markdown",
   "id": "16684b8d",
   "metadata": {},
   "source": [
    "Выведем первые строки каждой таблицы, чтобы оптимизировать код, будем использовать функцию и цикл по названиям таблиц"
   ]
  },
  {
   "cell_type": "code",
   "execution_count": 3,
   "id": "3c4ed04e",
   "metadata": {},
   "outputs": [],
   "source": [
    "def function_query(query):\n",
    "    \"\"\"Эта функция выполняет переданный на вход запрос,\n",
    "    записывает его во внутреннюю переменную, выводит первые 5 строк результата на экран\"\"\"\n",
    "# чтобы выполнить SQL-запрос, используем Pandas\n",
    "    data_raw = pd.io.sql.read_sql(query, con = engine)\n",
    "    display(data_raw)\n",
    "    pd.options.display.max_colwidth = 150"
   ]
  },
  {
   "cell_type": "code",
   "execution_count": 4,
   "id": "21484892",
   "metadata": {},
   "outputs": [
    {
     "data": {
      "text/html": [
       "<div>\n",
       "<style scoped>\n",
       "    .dataframe tbody tr th:only-of-type {\n",
       "        vertical-align: middle;\n",
       "    }\n",
       "\n",
       "    .dataframe tbody tr th {\n",
       "        vertical-align: top;\n",
       "    }\n",
       "\n",
       "    .dataframe thead th {\n",
       "        text-align: right;\n",
       "    }\n",
       "</style>\n",
       "<table border=\"1\" class=\"dataframe\">\n",
       "  <thead>\n",
       "    <tr style=\"text-align: right;\">\n",
       "      <th></th>\n",
       "      <th>book_id</th>\n",
       "      <th>author_id</th>\n",
       "      <th>title</th>\n",
       "      <th>num_pages</th>\n",
       "      <th>publication_date</th>\n",
       "      <th>publisher_id</th>\n",
       "    </tr>\n",
       "  </thead>\n",
       "  <tbody>\n",
       "    <tr>\n",
       "      <th>0</th>\n",
       "      <td>1</td>\n",
       "      <td>546</td>\n",
       "      <td>'Salem's Lot</td>\n",
       "      <td>594</td>\n",
       "      <td>2005-11-01</td>\n",
       "      <td>93</td>\n",
       "    </tr>\n",
       "    <tr>\n",
       "      <th>1</th>\n",
       "      <td>2</td>\n",
       "      <td>465</td>\n",
       "      <td>1 000 Places to See Before You Die</td>\n",
       "      <td>992</td>\n",
       "      <td>2003-05-22</td>\n",
       "      <td>336</td>\n",
       "    </tr>\n",
       "    <tr>\n",
       "      <th>2</th>\n",
       "      <td>3</td>\n",
       "      <td>407</td>\n",
       "      <td>13 Little Blue Envelopes (Little Blue Envelope...</td>\n",
       "      <td>322</td>\n",
       "      <td>2010-12-21</td>\n",
       "      <td>135</td>\n",
       "    </tr>\n",
       "    <tr>\n",
       "      <th>3</th>\n",
       "      <td>4</td>\n",
       "      <td>82</td>\n",
       "      <td>1491: New Revelations of the Americas Before C...</td>\n",
       "      <td>541</td>\n",
       "      <td>2006-10-10</td>\n",
       "      <td>309</td>\n",
       "    </tr>\n",
       "    <tr>\n",
       "      <th>4</th>\n",
       "      <td>5</td>\n",
       "      <td>125</td>\n",
       "      <td>1776</td>\n",
       "      <td>386</td>\n",
       "      <td>2006-07-04</td>\n",
       "      <td>268</td>\n",
       "    </tr>\n",
       "  </tbody>\n",
       "</table>\n",
       "</div>"
      ],
      "text/plain": [
       "   book_id  author_id                                              title  \\\n",
       "0        1        546                                       'Salem's Lot   \n",
       "1        2        465                 1 000 Places to See Before You Die   \n",
       "2        3        407  13 Little Blue Envelopes (Little Blue Envelope...   \n",
       "3        4         82  1491: New Revelations of the Americas Before C...   \n",
       "4        5        125                                               1776   \n",
       "\n",
       "   num_pages publication_date  publisher_id  \n",
       "0        594       2005-11-01            93  \n",
       "1        992       2003-05-22           336  \n",
       "2        322       2010-12-21           135  \n",
       "3        541       2006-10-10           309  \n",
       "4        386       2006-07-04           268  "
      ]
     },
     "metadata": {},
     "output_type": "display_data"
    },
    {
     "data": {
      "text/html": [
       "<div>\n",
       "<style scoped>\n",
       "    .dataframe tbody tr th:only-of-type {\n",
       "        vertical-align: middle;\n",
       "    }\n",
       "\n",
       "    .dataframe tbody tr th {\n",
       "        vertical-align: top;\n",
       "    }\n",
       "\n",
       "    .dataframe thead th {\n",
       "        text-align: right;\n",
       "    }\n",
       "</style>\n",
       "<table border=\"1\" class=\"dataframe\">\n",
       "  <thead>\n",
       "    <tr style=\"text-align: right;\">\n",
       "      <th></th>\n",
       "      <th>author_id</th>\n",
       "      <th>author</th>\n",
       "    </tr>\n",
       "  </thead>\n",
       "  <tbody>\n",
       "    <tr>\n",
       "      <th>0</th>\n",
       "      <td>1</td>\n",
       "      <td>A.S. Byatt</td>\n",
       "    </tr>\n",
       "    <tr>\n",
       "      <th>1</th>\n",
       "      <td>2</td>\n",
       "      <td>Aesop/Laura Harris/Laura Gibbs</td>\n",
       "    </tr>\n",
       "    <tr>\n",
       "      <th>2</th>\n",
       "      <td>3</td>\n",
       "      <td>Agatha Christie</td>\n",
       "    </tr>\n",
       "    <tr>\n",
       "      <th>3</th>\n",
       "      <td>4</td>\n",
       "      <td>Alan Brennert</td>\n",
       "    </tr>\n",
       "    <tr>\n",
       "      <th>4</th>\n",
       "      <td>5</td>\n",
       "      <td>Alan Moore/David   Lloyd</td>\n",
       "    </tr>\n",
       "  </tbody>\n",
       "</table>\n",
       "</div>"
      ],
      "text/plain": [
       "   author_id                          author\n",
       "0          1                      A.S. Byatt\n",
       "1          2  Aesop/Laura Harris/Laura Gibbs\n",
       "2          3                 Agatha Christie\n",
       "3          4                   Alan Brennert\n",
       "4          5        Alan Moore/David   Lloyd"
      ]
     },
     "metadata": {},
     "output_type": "display_data"
    },
    {
     "data": {
      "text/html": [
       "<div>\n",
       "<style scoped>\n",
       "    .dataframe tbody tr th:only-of-type {\n",
       "        vertical-align: middle;\n",
       "    }\n",
       "\n",
       "    .dataframe tbody tr th {\n",
       "        vertical-align: top;\n",
       "    }\n",
       "\n",
       "    .dataframe thead th {\n",
       "        text-align: right;\n",
       "    }\n",
       "</style>\n",
       "<table border=\"1\" class=\"dataframe\">\n",
       "  <thead>\n",
       "    <tr style=\"text-align: right;\">\n",
       "      <th></th>\n",
       "      <th>rating_id</th>\n",
       "      <th>book_id</th>\n",
       "      <th>username</th>\n",
       "      <th>rating</th>\n",
       "    </tr>\n",
       "  </thead>\n",
       "  <tbody>\n",
       "    <tr>\n",
       "      <th>0</th>\n",
       "      <td>1</td>\n",
       "      <td>1</td>\n",
       "      <td>ryanfranco</td>\n",
       "      <td>4</td>\n",
       "    </tr>\n",
       "    <tr>\n",
       "      <th>1</th>\n",
       "      <td>2</td>\n",
       "      <td>1</td>\n",
       "      <td>grantpatricia</td>\n",
       "      <td>2</td>\n",
       "    </tr>\n",
       "    <tr>\n",
       "      <th>2</th>\n",
       "      <td>3</td>\n",
       "      <td>1</td>\n",
       "      <td>brandtandrea</td>\n",
       "      <td>5</td>\n",
       "    </tr>\n",
       "    <tr>\n",
       "      <th>3</th>\n",
       "      <td>4</td>\n",
       "      <td>2</td>\n",
       "      <td>lorichen</td>\n",
       "      <td>3</td>\n",
       "    </tr>\n",
       "    <tr>\n",
       "      <th>4</th>\n",
       "      <td>5</td>\n",
       "      <td>2</td>\n",
       "      <td>mariokeller</td>\n",
       "      <td>2</td>\n",
       "    </tr>\n",
       "  </tbody>\n",
       "</table>\n",
       "</div>"
      ],
      "text/plain": [
       "   rating_id  book_id       username  rating\n",
       "0          1        1     ryanfranco       4\n",
       "1          2        1  grantpatricia       2\n",
       "2          3        1   brandtandrea       5\n",
       "3          4        2       lorichen       3\n",
       "4          5        2    mariokeller       2"
      ]
     },
     "metadata": {},
     "output_type": "display_data"
    },
    {
     "data": {
      "text/html": [
       "<div>\n",
       "<style scoped>\n",
       "    .dataframe tbody tr th:only-of-type {\n",
       "        vertical-align: middle;\n",
       "    }\n",
       "\n",
       "    .dataframe tbody tr th {\n",
       "        vertical-align: top;\n",
       "    }\n",
       "\n",
       "    .dataframe thead th {\n",
       "        text-align: right;\n",
       "    }\n",
       "</style>\n",
       "<table border=\"1\" class=\"dataframe\">\n",
       "  <thead>\n",
       "    <tr style=\"text-align: right;\">\n",
       "      <th></th>\n",
       "      <th>review_id</th>\n",
       "      <th>book_id</th>\n",
       "      <th>username</th>\n",
       "      <th>text</th>\n",
       "    </tr>\n",
       "  </thead>\n",
       "  <tbody>\n",
       "    <tr>\n",
       "      <th>0</th>\n",
       "      <td>1</td>\n",
       "      <td>1</td>\n",
       "      <td>brandtandrea</td>\n",
       "      <td>Mention society tell send professor analysis. Over provide race technology continue these.</td>\n",
       "    </tr>\n",
       "    <tr>\n",
       "      <th>1</th>\n",
       "      <td>2</td>\n",
       "      <td>1</td>\n",
       "      <td>ryanfranco</td>\n",
       "      <td>Foot glass pretty audience hit themselves. Among admit investment argue security.</td>\n",
       "    </tr>\n",
       "    <tr>\n",
       "      <th>2</th>\n",
       "      <td>3</td>\n",
       "      <td>2</td>\n",
       "      <td>lorichen</td>\n",
       "      <td>Listen treat keep worry. Miss husband tax but person sport treatment industry. Kitchen decision deep the. Social party body the.</td>\n",
       "    </tr>\n",
       "    <tr>\n",
       "      <th>3</th>\n",
       "      <td>4</td>\n",
       "      <td>3</td>\n",
       "      <td>johnsonamanda</td>\n",
       "      <td>Finally month interesting blue could nature cultural bit. Prepare beat finish grow that smile teach. Dream me play near.</td>\n",
       "    </tr>\n",
       "    <tr>\n",
       "      <th>4</th>\n",
       "      <td>5</td>\n",
       "      <td>3</td>\n",
       "      <td>scotttamara</td>\n",
       "      <td>Nation purpose heavy give wait song will. List dinner another whole positive radio fast. Music staff many green.</td>\n",
       "    </tr>\n",
       "  </tbody>\n",
       "</table>\n",
       "</div>"
      ],
      "text/plain": [
       "   review_id  book_id       username  \\\n",
       "0          1        1   brandtandrea   \n",
       "1          2        1     ryanfranco   \n",
       "2          3        2       lorichen   \n",
       "3          4        3  johnsonamanda   \n",
       "4          5        3    scotttamara   \n",
       "\n",
       "                                                                                                                               text  \n",
       "0                                        Mention society tell send professor analysis. Over provide race technology continue these.  \n",
       "1                                                 Foot glass pretty audience hit themselves. Among admit investment argue security.  \n",
       "2  Listen treat keep worry. Miss husband tax but person sport treatment industry. Kitchen decision deep the. Social party body the.  \n",
       "3          Finally month interesting blue could nature cultural bit. Prepare beat finish grow that smile teach. Dream me play near.  \n",
       "4                  Nation purpose heavy give wait song will. List dinner another whole positive radio fast. Music staff many green.  "
      ]
     },
     "metadata": {},
     "output_type": "display_data"
    },
    {
     "data": {
      "text/html": [
       "<div>\n",
       "<style scoped>\n",
       "    .dataframe tbody tr th:only-of-type {\n",
       "        vertical-align: middle;\n",
       "    }\n",
       "\n",
       "    .dataframe tbody tr th {\n",
       "        vertical-align: top;\n",
       "    }\n",
       "\n",
       "    .dataframe thead th {\n",
       "        text-align: right;\n",
       "    }\n",
       "</style>\n",
       "<table border=\"1\" class=\"dataframe\">\n",
       "  <thead>\n",
       "    <tr style=\"text-align: right;\">\n",
       "      <th></th>\n",
       "      <th>publisher_id</th>\n",
       "      <th>publisher</th>\n",
       "    </tr>\n",
       "  </thead>\n",
       "  <tbody>\n",
       "    <tr>\n",
       "      <th>0</th>\n",
       "      <td>1</td>\n",
       "      <td>Ace</td>\n",
       "    </tr>\n",
       "    <tr>\n",
       "      <th>1</th>\n",
       "      <td>2</td>\n",
       "      <td>Ace Book</td>\n",
       "    </tr>\n",
       "    <tr>\n",
       "      <th>2</th>\n",
       "      <td>3</td>\n",
       "      <td>Ace Books</td>\n",
       "    </tr>\n",
       "    <tr>\n",
       "      <th>3</th>\n",
       "      <td>4</td>\n",
       "      <td>Ace Hardcover</td>\n",
       "    </tr>\n",
       "    <tr>\n",
       "      <th>4</th>\n",
       "      <td>5</td>\n",
       "      <td>Addison Wesley Publishing Company</td>\n",
       "    </tr>\n",
       "  </tbody>\n",
       "</table>\n",
       "</div>"
      ],
      "text/plain": [
       "   publisher_id                          publisher\n",
       "0             1                                Ace\n",
       "1             2                           Ace Book\n",
       "2             3                          Ace Books\n",
       "3             4                      Ace Hardcover\n",
       "4             5  Addison Wesley Publishing Company"
      ]
     },
     "metadata": {},
     "output_type": "display_data"
    }
   ],
   "source": [
    "#выводим первые строки таблиц в цикле\n",
    "table_name = ['books', 'authors', 'ratings', 'reviews', 'publishers']\n",
    "#пишем запрос в переменную\n",
    "for t in table_name:\n",
    "\n",
    "    query =  f'SELECT * FROM {t} LIMIT 5'\n",
    "    #вызываем функцию\n",
    "    function_query(query)"
   ]
  },
  {
   "cell_type": "code",
   "execution_count": 5,
   "id": "11d95723",
   "metadata": {},
   "outputs": [
    {
     "data": {
      "text/html": [
       "<div>\n",
       "<style scoped>\n",
       "    .dataframe tbody tr th:only-of-type {\n",
       "        vertical-align: middle;\n",
       "    }\n",
       "\n",
       "    .dataframe tbody tr th {\n",
       "        vertical-align: top;\n",
       "    }\n",
       "\n",
       "    .dataframe thead th {\n",
       "        text-align: right;\n",
       "    }\n",
       "</style>\n",
       "<table border=\"1\" class=\"dataframe\">\n",
       "  <thead>\n",
       "    <tr style=\"text-align: right;\">\n",
       "      <th></th>\n",
       "      <th>schemaname</th>\n",
       "      <th>tablename</th>\n",
       "      <th>tableowner</th>\n",
       "      <th>tablespace</th>\n",
       "      <th>hasindexes</th>\n",
       "      <th>hasrules</th>\n",
       "      <th>hastriggers</th>\n",
       "      <th>rowsecurity</th>\n",
       "    </tr>\n",
       "  </thead>\n",
       "  <tbody>\n",
       "    <tr>\n",
       "      <th>0</th>\n",
       "      <td>public</td>\n",
       "      <td>orders</td>\n",
       "      <td>praktikum_admin</td>\n",
       "      <td>None</td>\n",
       "      <td>True</td>\n",
       "      <td>False</td>\n",
       "      <td>False</td>\n",
       "      <td>False</td>\n",
       "    </tr>\n",
       "    <tr>\n",
       "      <th>1</th>\n",
       "      <td>public</td>\n",
       "      <td>visits</td>\n",
       "      <td>praktikum_admin</td>\n",
       "      <td>None</td>\n",
       "      <td>True</td>\n",
       "      <td>False</td>\n",
       "      <td>False</td>\n",
       "      <td>False</td>\n",
       "    </tr>\n",
       "    <tr>\n",
       "      <th>2</th>\n",
       "      <td>public</td>\n",
       "      <td>advertisment_costs</td>\n",
       "      <td>praktikum_admin</td>\n",
       "      <td>None</td>\n",
       "      <td>True</td>\n",
       "      <td>False</td>\n",
       "      <td>False</td>\n",
       "      <td>False</td>\n",
       "    </tr>\n",
       "    <tr>\n",
       "      <th>3</th>\n",
       "      <td>public</td>\n",
       "      <td>authors</td>\n",
       "      <td>praktikum_admin</td>\n",
       "      <td>None</td>\n",
       "      <td>True</td>\n",
       "      <td>False</td>\n",
       "      <td>True</td>\n",
       "      <td>False</td>\n",
       "    </tr>\n",
       "    <tr>\n",
       "      <th>4</th>\n",
       "      <td>public</td>\n",
       "      <td>second</td>\n",
       "      <td>praktikum_student</td>\n",
       "      <td>None</td>\n",
       "      <td>False</td>\n",
       "      <td>False</td>\n",
       "      <td>False</td>\n",
       "      <td>False</td>\n",
       "    </tr>\n",
       "    <tr>\n",
       "      <th>5</th>\n",
       "      <td>public</td>\n",
       "      <td>second_b</td>\n",
       "      <td>praktikum_student</td>\n",
       "      <td>None</td>\n",
       "      <td>False</td>\n",
       "      <td>False</td>\n",
       "      <td>False</td>\n",
       "      <td>False</td>\n",
       "    </tr>\n",
       "    <tr>\n",
       "      <th>6</th>\n",
       "      <td>public</td>\n",
       "      <td>publishers</td>\n",
       "      <td>praktikum_admin</td>\n",
       "      <td>None</td>\n",
       "      <td>True</td>\n",
       "      <td>False</td>\n",
       "      <td>True</td>\n",
       "      <td>False</td>\n",
       "    </tr>\n",
       "    <tr>\n",
       "      <th>7</th>\n",
       "      <td>public</td>\n",
       "      <td>author</td>\n",
       "      <td>praktikum_student</td>\n",
       "      <td>None</td>\n",
       "      <td>True</td>\n",
       "      <td>False</td>\n",
       "      <td>False</td>\n",
       "      <td>False</td>\n",
       "    </tr>\n",
       "    <tr>\n",
       "      <th>8</th>\n",
       "      <td>public</td>\n",
       "      <td>reviews</td>\n",
       "      <td>praktikum_admin</td>\n",
       "      <td>None</td>\n",
       "      <td>True</td>\n",
       "      <td>False</td>\n",
       "      <td>True</td>\n",
       "      <td>False</td>\n",
       "    </tr>\n",
       "    <tr>\n",
       "      <th>9</th>\n",
       "      <td>public</td>\n",
       "      <td>ratings</td>\n",
       "      <td>praktikum_admin</td>\n",
       "      <td>None</td>\n",
       "      <td>True</td>\n",
       "      <td>False</td>\n",
       "      <td>True</td>\n",
       "      <td>False</td>\n",
       "    </tr>\n",
       "    <tr>\n",
       "      <th>10</th>\n",
       "      <td>public</td>\n",
       "      <td>books</td>\n",
       "      <td>praktikum_admin</td>\n",
       "      <td>None</td>\n",
       "      <td>True</td>\n",
       "      <td>False</td>\n",
       "      <td>True</td>\n",
       "      <td>False</td>\n",
       "    </tr>\n",
       "  </tbody>\n",
       "</table>\n",
       "</div>"
      ],
      "text/plain": [
       "   schemaname           tablename         tableowner tablespace  hasindexes  \\\n",
       "0      public              orders    praktikum_admin       None        True   \n",
       "1      public              visits    praktikum_admin       None        True   \n",
       "2      public  advertisment_costs    praktikum_admin       None        True   \n",
       "3      public             authors    praktikum_admin       None        True   \n",
       "4      public              second  praktikum_student       None       False   \n",
       "5      public            second_b  praktikum_student       None       False   \n",
       "6      public          publishers    praktikum_admin       None        True   \n",
       "7      public              author  praktikum_student       None        True   \n",
       "8      public             reviews    praktikum_admin       None        True   \n",
       "9      public             ratings    praktikum_admin       None        True   \n",
       "10     public               books    praktikum_admin       None        True   \n",
       "\n",
       "    hasrules  hastriggers  rowsecurity  \n",
       "0      False        False        False  \n",
       "1      False        False        False  \n",
       "2      False        False        False  \n",
       "3      False         True        False  \n",
       "4      False        False        False  \n",
       "5      False        False        False  \n",
       "6      False         True        False  \n",
       "7      False        False        False  \n",
       "8      False         True        False  \n",
       "9      False         True        False  \n",
       "10     False         True        False  "
      ]
     },
     "metadata": {},
     "output_type": "display_data"
    },
    {
     "data": {
      "text/html": [
       "<div>\n",
       "<style scoped>\n",
       "    .dataframe tbody tr th:only-of-type {\n",
       "        vertical-align: middle;\n",
       "    }\n",
       "\n",
       "    .dataframe tbody tr th {\n",
       "        vertical-align: top;\n",
       "    }\n",
       "\n",
       "    .dataframe thead th {\n",
       "        text-align: right;\n",
       "    }\n",
       "</style>\n",
       "<table border=\"1\" class=\"dataframe\">\n",
       "  <thead>\n",
       "    <tr style=\"text-align: right;\">\n",
       "      <th></th>\n",
       "      <th>table_name</th>\n",
       "      <th>column_name</th>\n",
       "      <th>data_type</th>\n",
       "      <th>is_nullable</th>\n",
       "    </tr>\n",
       "  </thead>\n",
       "  <tbody>\n",
       "    <tr>\n",
       "      <th>0</th>\n",
       "      <td>authors</td>\n",
       "      <td>author_id</td>\n",
       "      <td>integer</td>\n",
       "      <td>NO</td>\n",
       "    </tr>\n",
       "    <tr>\n",
       "      <th>1</th>\n",
       "      <td>authors</td>\n",
       "      <td>author</td>\n",
       "      <td>text</td>\n",
       "      <td>YES</td>\n",
       "    </tr>\n",
       "    <tr>\n",
       "      <th>2</th>\n",
       "      <td>publishers</td>\n",
       "      <td>publisher_id</td>\n",
       "      <td>integer</td>\n",
       "      <td>NO</td>\n",
       "    </tr>\n",
       "    <tr>\n",
       "      <th>3</th>\n",
       "      <td>publishers</td>\n",
       "      <td>publisher</td>\n",
       "      <td>text</td>\n",
       "      <td>YES</td>\n",
       "    </tr>\n",
       "    <tr>\n",
       "      <th>4</th>\n",
       "      <td>reviews</td>\n",
       "      <td>review_id</td>\n",
       "      <td>integer</td>\n",
       "      <td>NO</td>\n",
       "    </tr>\n",
       "    <tr>\n",
       "      <th>5</th>\n",
       "      <td>reviews</td>\n",
       "      <td>book_id</td>\n",
       "      <td>integer</td>\n",
       "      <td>YES</td>\n",
       "    </tr>\n",
       "    <tr>\n",
       "      <th>6</th>\n",
       "      <td>reviews</td>\n",
       "      <td>username</td>\n",
       "      <td>text</td>\n",
       "      <td>YES</td>\n",
       "    </tr>\n",
       "    <tr>\n",
       "      <th>7</th>\n",
       "      <td>reviews</td>\n",
       "      <td>text</td>\n",
       "      <td>text</td>\n",
       "      <td>YES</td>\n",
       "    </tr>\n",
       "    <tr>\n",
       "      <th>8</th>\n",
       "      <td>ratings</td>\n",
       "      <td>rating_id</td>\n",
       "      <td>integer</td>\n",
       "      <td>NO</td>\n",
       "    </tr>\n",
       "    <tr>\n",
       "      <th>9</th>\n",
       "      <td>ratings</td>\n",
       "      <td>book_id</td>\n",
       "      <td>integer</td>\n",
       "      <td>YES</td>\n",
       "    </tr>\n",
       "    <tr>\n",
       "      <th>10</th>\n",
       "      <td>ratings</td>\n",
       "      <td>username</td>\n",
       "      <td>text</td>\n",
       "      <td>YES</td>\n",
       "    </tr>\n",
       "    <tr>\n",
       "      <th>11</th>\n",
       "      <td>ratings</td>\n",
       "      <td>rating</td>\n",
       "      <td>integer</td>\n",
       "      <td>YES</td>\n",
       "    </tr>\n",
       "    <tr>\n",
       "      <th>12</th>\n",
       "      <td>books</td>\n",
       "      <td>book_id</td>\n",
       "      <td>integer</td>\n",
       "      <td>NO</td>\n",
       "    </tr>\n",
       "    <tr>\n",
       "      <th>13</th>\n",
       "      <td>books</td>\n",
       "      <td>author_id</td>\n",
       "      <td>integer</td>\n",
       "      <td>YES</td>\n",
       "    </tr>\n",
       "    <tr>\n",
       "      <th>14</th>\n",
       "      <td>books</td>\n",
       "      <td>title</td>\n",
       "      <td>text</td>\n",
       "      <td>YES</td>\n",
       "    </tr>\n",
       "    <tr>\n",
       "      <th>15</th>\n",
       "      <td>books</td>\n",
       "      <td>num_pages</td>\n",
       "      <td>integer</td>\n",
       "      <td>YES</td>\n",
       "    </tr>\n",
       "    <tr>\n",
       "      <th>16</th>\n",
       "      <td>books</td>\n",
       "      <td>publication_date</td>\n",
       "      <td>date</td>\n",
       "      <td>YES</td>\n",
       "    </tr>\n",
       "    <tr>\n",
       "      <th>17</th>\n",
       "      <td>books</td>\n",
       "      <td>publisher_id</td>\n",
       "      <td>integer</td>\n",
       "      <td>YES</td>\n",
       "    </tr>\n",
       "  </tbody>\n",
       "</table>\n",
       "</div>"
      ],
      "text/plain": [
       "    table_name       column_name data_type is_nullable\n",
       "0      authors         author_id   integer          NO\n",
       "1      authors            author      text         YES\n",
       "2   publishers      publisher_id   integer          NO\n",
       "3   publishers         publisher      text         YES\n",
       "4      reviews         review_id   integer          NO\n",
       "5      reviews           book_id   integer         YES\n",
       "6      reviews          username      text         YES\n",
       "7      reviews              text      text         YES\n",
       "8      ratings         rating_id   integer          NO\n",
       "9      ratings           book_id   integer         YES\n",
       "10     ratings          username      text         YES\n",
       "11     ratings            rating   integer         YES\n",
       "12       books           book_id   integer          NO\n",
       "13       books         author_id   integer         YES\n",
       "14       books             title      text         YES\n",
       "15       books         num_pages   integer         YES\n",
       "16       books  publication_date      date         YES\n",
       "17       books      publisher_id   integer         YES"
      ]
     },
     "metadata": {},
     "output_type": "display_data"
    }
   ],
   "source": [
    "# какие ещё таблицы доступны в базе\n",
    "display(pd.io.sql.read_sql('''\n",
    "\n",
    "SELECT *\n",
    "FROM pg_catalog.pg_tables\n",
    "WHERE schemaname != 'pg_catalog' AND\n",
    "      schemaname != 'information_schema';\n",
    "\n",
    "''', con = engine))\n",
    "\n",
    "\n",
    "# смотрим на типы столбцов в интересующих таблицах\n",
    "display(pd.io.sql.read_sql('''\n",
    "SELECT \n",
    "    table_name, \n",
    "    column_name, \n",
    "    data_type, \n",
    "    is_nullable\n",
    "FROM INFORMATION_SCHEMA.COLUMNS \n",
    "WHERE table_name IN ('books', 'authors', 'publishers', 'ratings', 'reviews');\n",
    "''', con = engine))"
   ]
  },
  {
   "cell_type": "markdown",
   "id": "cc52b054",
   "metadata": {},
   "source": [
    "## Выполнение запросов <a id=\"query\"></a> "
   ]
  },
  {
   "cell_type": "markdown",
   "id": "87ccf6c9",
   "metadata": {},
   "source": [
    "### Запросы для получения основных данных о БД <a id=\"general\"></a> "
   ]
  },
  {
   "cell_type": "markdown",
   "id": "2997139d",
   "metadata": {},
   "source": [
    "Посчитаем, сколько всего книг содержится в БД:"
   ]
  },
  {
   "cell_type": "code",
   "execution_count": 6,
   "id": "1da2c471",
   "metadata": {},
   "outputs": [
    {
     "data": {
      "text/html": [
       "<div>\n",
       "<style scoped>\n",
       "    .dataframe tbody tr th:only-of-type {\n",
       "        vertical-align: middle;\n",
       "    }\n",
       "\n",
       "    .dataframe tbody tr th {\n",
       "        vertical-align: top;\n",
       "    }\n",
       "\n",
       "    .dataframe thead th {\n",
       "        text-align: right;\n",
       "    }\n",
       "</style>\n",
       "<table border=\"1\" class=\"dataframe\">\n",
       "  <thead>\n",
       "    <tr style=\"text-align: right;\">\n",
       "      <th></th>\n",
       "      <th>count</th>\n",
       "    </tr>\n",
       "  </thead>\n",
       "  <tbody>\n",
       "    <tr>\n",
       "      <th>0</th>\n",
       "      <td>1000</td>\n",
       "    </tr>\n",
       "  </tbody>\n",
       "</table>\n",
       "</div>"
      ],
      "text/plain": [
       "   count\n",
       "0   1000"
      ]
     },
     "metadata": {},
     "output_type": "display_data"
    }
   ],
   "source": [
    "query =  '''SELECT COUNT(*)\n",
    "            FROM books\n",
    "            \n",
    "            '''\n",
    "function_query(query)"
   ]
  },
  {
   "cell_type": "code",
   "execution_count": 7,
   "id": "cd4eff9c",
   "metadata": {},
   "outputs": [
    {
     "data": {
      "text/html": [
       "<div>\n",
       "<style scoped>\n",
       "    .dataframe tbody tr th:only-of-type {\n",
       "        vertical-align: middle;\n",
       "    }\n",
       "\n",
       "    .dataframe tbody tr th {\n",
       "        vertical-align: top;\n",
       "    }\n",
       "\n",
       "    .dataframe thead th {\n",
       "        text-align: right;\n",
       "    }\n",
       "</style>\n",
       "<table border=\"1\" class=\"dataframe\">\n",
       "  <thead>\n",
       "    <tr style=\"text-align: right;\">\n",
       "      <th></th>\n",
       "      <th>count</th>\n",
       "    </tr>\n",
       "  </thead>\n",
       "  <tbody>\n",
       "    <tr>\n",
       "      <th>0</th>\n",
       "      <td>636</td>\n",
       "    </tr>\n",
       "  </tbody>\n",
       "</table>\n",
       "</div>"
      ],
      "text/plain": [
       "   count\n",
       "0    636"
      ]
     },
     "metadata": {},
     "output_type": "display_data"
    }
   ],
   "source": [
    "#посчитаем количество авторов\n",
    "query =  '''SELECT COUNT(DISTINCT author_id) \n",
    "            FROM books\n",
    "            \n",
    "            '''\n",
    "function_query(query)"
   ]
  },
  {
   "cell_type": "code",
   "execution_count": 8,
   "id": "cd05f181",
   "metadata": {},
   "outputs": [
    {
     "data": {
      "text/html": [
       "<div>\n",
       "<style scoped>\n",
       "    .dataframe tbody tr th:only-of-type {\n",
       "        vertical-align: middle;\n",
       "    }\n",
       "\n",
       "    .dataframe tbody tr th {\n",
       "        vertical-align: top;\n",
       "    }\n",
       "\n",
       "    .dataframe thead th {\n",
       "        text-align: right;\n",
       "    }\n",
       "</style>\n",
       "<table border=\"1\" class=\"dataframe\">\n",
       "  <thead>\n",
       "    <tr style=\"text-align: right;\">\n",
       "      <th></th>\n",
       "      <th>count</th>\n",
       "    </tr>\n",
       "  </thead>\n",
       "  <tbody>\n",
       "    <tr>\n",
       "      <th>0</th>\n",
       "      <td>340</td>\n",
       "    </tr>\n",
       "  </tbody>\n",
       "</table>\n",
       "</div>"
      ],
      "text/plain": [
       "   count\n",
       "0    340"
      ]
     },
     "metadata": {},
     "output_type": "display_data"
    }
   ],
   "source": [
    "#посчитаем количество издательств\n",
    "query =  '''SELECT COUNT(DISTINCT publisher_id) \n",
    "            FROM books\n",
    "            \n",
    "            '''\n",
    "function_query(query)"
   ]
  },
  {
   "cell_type": "code",
   "execution_count": 9,
   "id": "4a081835",
   "metadata": {},
   "outputs": [
    {
     "data": {
      "text/html": [
       "<div>\n",
       "<style scoped>\n",
       "    .dataframe tbody tr th:only-of-type {\n",
       "        vertical-align: middle;\n",
       "    }\n",
       "\n",
       "    .dataframe tbody tr th {\n",
       "        vertical-align: top;\n",
       "    }\n",
       "\n",
       "    .dataframe thead th {\n",
       "        text-align: right;\n",
       "    }\n",
       "</style>\n",
       "<table border=\"1\" class=\"dataframe\">\n",
       "  <thead>\n",
       "    <tr style=\"text-align: right;\">\n",
       "      <th></th>\n",
       "      <th>min</th>\n",
       "      <th>avg</th>\n",
       "      <th>max</th>\n",
       "    </tr>\n",
       "  </thead>\n",
       "  <tbody>\n",
       "    <tr>\n",
       "      <th>0</th>\n",
       "      <td>1</td>\n",
       "      <td>3.93</td>\n",
       "      <td>5</td>\n",
       "    </tr>\n",
       "  </tbody>\n",
       "</table>\n",
       "</div>"
      ],
      "text/plain": [
       "   min   avg  max\n",
       "0    1  3.93    5"
      ]
     },
     "metadata": {},
     "output_type": "display_data"
    }
   ],
   "source": [
    "#посчитаем минимальный, максимальный, средний рейтинг книги\n",
    "query =  '''SELECT MIN(rating), ROUND(AVG(rating),2) AS avg, MAX(rating) \n",
    "            FROM ratings\n",
    "            \n",
    "            '''\n",
    "function_query(query)"
   ]
  },
  {
   "cell_type": "code",
   "execution_count": 10,
   "id": "3b5b2a05",
   "metadata": {},
   "outputs": [
    {
     "data": {
      "text/html": [
       "<div>\n",
       "<style scoped>\n",
       "    .dataframe tbody tr th:only-of-type {\n",
       "        vertical-align: middle;\n",
       "    }\n",
       "\n",
       "    .dataframe tbody tr th {\n",
       "        vertical-align: top;\n",
       "    }\n",
       "\n",
       "    .dataframe thead th {\n",
       "        text-align: right;\n",
       "    }\n",
       "</style>\n",
       "<table border=\"1\" class=\"dataframe\">\n",
       "  <thead>\n",
       "    <tr style=\"text-align: right;\">\n",
       "      <th></th>\n",
       "      <th>avg_reviews</th>\n",
       "    </tr>\n",
       "  </thead>\n",
       "  <tbody>\n",
       "    <tr>\n",
       "      <th>0</th>\n",
       "      <td>3.0</td>\n",
       "    </tr>\n",
       "  </tbody>\n",
       "</table>\n",
       "</div>"
      ],
      "text/plain": [
       "   avg_reviews\n",
       "0          3.0"
      ]
     },
     "metadata": {},
     "output_type": "display_data"
    }
   ],
   "source": [
    "#посчитаем среднее количество обзоров по книге\n",
    "query =  '''SELECT ROUND(AVG(c.cnt_review)) AS avg_reviews\n",
    "            FROM\n",
    "                (SELECT book_id, COUNT(review_id) AS cnt_review \n",
    "                FROM reviews\n",
    "                GROUP BY book_id) AS c\n",
    "            \n",
    "            '''\n",
    "function_query(query)"
   ]
  },
  {
   "cell_type": "code",
   "execution_count": 11,
   "id": "0bb2013d",
   "metadata": {},
   "outputs": [
    {
     "data": {
      "text/html": [
       "<div>\n",
       "<style scoped>\n",
       "    .dataframe tbody tr th:only-of-type {\n",
       "        vertical-align: middle;\n",
       "    }\n",
       "\n",
       "    .dataframe tbody tr th {\n",
       "        vertical-align: top;\n",
       "    }\n",
       "\n",
       "    .dataframe thead th {\n",
       "        text-align: right;\n",
       "    }\n",
       "</style>\n",
       "<table border=\"1\" class=\"dataframe\">\n",
       "  <thead>\n",
       "    <tr style=\"text-align: right;\">\n",
       "      <th></th>\n",
       "      <th>cnt_books_in_review</th>\n",
       "    </tr>\n",
       "  </thead>\n",
       "  <tbody>\n",
       "    <tr>\n",
       "      <th>0</th>\n",
       "      <td>994</td>\n",
       "    </tr>\n",
       "  </tbody>\n",
       "</table>\n",
       "</div>"
      ],
      "text/plain": [
       "   cnt_books_in_review\n",
       "0                  994"
      ]
     },
     "metadata": {},
     "output_type": "display_data"
    }
   ],
   "source": [
    "#посчитаем, сколько книг имеет отзывы\n",
    "query =  '''\n",
    "            SELECT COUNT(DISTINCT book_id) AS cnt_books_in_review\n",
    "                        FROM reviews\n",
    "                     \n",
    "            '''\n",
    "function_query(query)"
   ]
  },
  {
   "cell_type": "code",
   "execution_count": 12,
   "id": "33547369",
   "metadata": {},
   "outputs": [
    {
     "data": {
      "text/html": [
       "<div>\n",
       "<style scoped>\n",
       "    .dataframe tbody tr th:only-of-type {\n",
       "        vertical-align: middle;\n",
       "    }\n",
       "\n",
       "    .dataframe tbody tr th {\n",
       "        vertical-align: top;\n",
       "    }\n",
       "\n",
       "    .dataframe thead th {\n",
       "        text-align: right;\n",
       "    }\n",
       "</style>\n",
       "<table border=\"1\" class=\"dataframe\">\n",
       "  <thead>\n",
       "    <tr style=\"text-align: right;\">\n",
       "      <th></th>\n",
       "      <th>cnt_books_in_rating</th>\n",
       "    </tr>\n",
       "  </thead>\n",
       "  <tbody>\n",
       "    <tr>\n",
       "      <th>0</th>\n",
       "      <td>1000</td>\n",
       "    </tr>\n",
       "  </tbody>\n",
       "</table>\n",
       "</div>"
      ],
      "text/plain": [
       "   cnt_books_in_rating\n",
       "0                 1000"
      ]
     },
     "metadata": {},
     "output_type": "display_data"
    }
   ],
   "source": [
    "#посчитаем, все ли книги оценены\n",
    "query =  '''\n",
    "            SELECT COUNT(DISTINCT book_id) AS cnt_books_in_rating\n",
    "                        FROM ratings\n",
    "                     \n",
    "            '''\n",
    "function_query(query)"
   ]
  },
  {
   "cell_type": "code",
   "execution_count": 13,
   "id": "75fccc45",
   "metadata": {},
   "outputs": [
    {
     "data": {
      "text/html": [
       "<div>\n",
       "<style scoped>\n",
       "    .dataframe tbody tr th:only-of-type {\n",
       "        vertical-align: middle;\n",
       "    }\n",
       "\n",
       "    .dataframe tbody tr th {\n",
       "        vertical-align: top;\n",
       "    }\n",
       "\n",
       "    .dataframe thead th {\n",
       "        text-align: right;\n",
       "    }\n",
       "</style>\n",
       "<table border=\"1\" class=\"dataframe\">\n",
       "  <thead>\n",
       "    <tr style=\"text-align: right;\">\n",
       "      <th></th>\n",
       "      <th>username</th>\n",
       "      <th>cnt_rev</th>\n",
       "    </tr>\n",
       "  </thead>\n",
       "  <tbody>\n",
       "    <tr>\n",
       "      <th>0</th>\n",
       "      <td>susan85</td>\n",
       "      <td>29</td>\n",
       "    </tr>\n",
       "  </tbody>\n",
       "</table>\n",
       "</div>"
      ],
      "text/plain": [
       "  username  cnt_rev\n",
       "0  susan85       29"
      ]
     },
     "metadata": {},
     "output_type": "display_data"
    }
   ],
   "source": [
    "#найдем самого активного пользователя по ревью\n",
    "query =  '''SELECT username, COUNT(review_id) AS cnt_rev\n",
    "            FROM reviews\n",
    "            GROUP BY username\n",
    "            ORDER BY cnt_rev DESC\n",
    "            LIMIT 1\n",
    "        '''\n",
    "function_query(query)"
   ]
  },
  {
   "cell_type": "code",
   "execution_count": 14,
   "id": "ba1b4e85",
   "metadata": {},
   "outputs": [
    {
     "data": {
      "text/html": [
       "<div>\n",
       "<style scoped>\n",
       "    .dataframe tbody tr th:only-of-type {\n",
       "        vertical-align: middle;\n",
       "    }\n",
       "\n",
       "    .dataframe tbody tr th {\n",
       "        vertical-align: top;\n",
       "    }\n",
       "\n",
       "    .dataframe thead th {\n",
       "        text-align: right;\n",
       "    }\n",
       "</style>\n",
       "<table border=\"1\" class=\"dataframe\">\n",
       "  <thead>\n",
       "    <tr style=\"text-align: right;\">\n",
       "      <th></th>\n",
       "      <th>username</th>\n",
       "      <th>cnt_rat</th>\n",
       "    </tr>\n",
       "  </thead>\n",
       "  <tbody>\n",
       "    <tr>\n",
       "      <th>0</th>\n",
       "      <td>paul88</td>\n",
       "      <td>56</td>\n",
       "    </tr>\n",
       "  </tbody>\n",
       "</table>\n",
       "</div>"
      ],
      "text/plain": [
       "  username  cnt_rat\n",
       "0   paul88       56"
      ]
     },
     "metadata": {},
     "output_type": "display_data"
    }
   ],
   "source": [
    "#найдем самого активного пользователя по оценкам\n",
    "query =  '''SELECT username, COUNT(rating_id) AS cnt_rat\n",
    "            FROM ratings\n",
    "            GROUP BY username\n",
    "            ORDER BY cnt_rat DESC\n",
    "            LIMIT 1\n",
    "        '''\n",
    "function_query(query)"
   ]
  },
  {
   "cell_type": "code",
   "execution_count": 15,
   "id": "2dfc1502",
   "metadata": {},
   "outputs": [
    {
     "data": {
      "text/html": [
       "<div>\n",
       "<style scoped>\n",
       "    .dataframe tbody tr th:only-of-type {\n",
       "        vertical-align: middle;\n",
       "    }\n",
       "\n",
       "    .dataframe tbody tr th {\n",
       "        vertical-align: top;\n",
       "    }\n",
       "\n",
       "    .dataframe thead th {\n",
       "        text-align: right;\n",
       "    }\n",
       "</style>\n",
       "<table border=\"1\" class=\"dataframe\">\n",
       "  <thead>\n",
       "    <tr style=\"text-align: right;\">\n",
       "      <th></th>\n",
       "      <th>publisher</th>\n",
       "      <th>cnt_books</th>\n",
       "    </tr>\n",
       "  </thead>\n",
       "  <tbody>\n",
       "    <tr>\n",
       "      <th>0</th>\n",
       "      <td>Penguin Books</td>\n",
       "      <td>42</td>\n",
       "    </tr>\n",
       "    <tr>\n",
       "      <th>1</th>\n",
       "      <td>Vintage</td>\n",
       "      <td>31</td>\n",
       "    </tr>\n",
       "    <tr>\n",
       "      <th>2</th>\n",
       "      <td>Grand Central Publishing</td>\n",
       "      <td>25</td>\n",
       "    </tr>\n",
       "  </tbody>\n",
       "</table>\n",
       "</div>"
      ],
      "text/plain": [
       "                  publisher  cnt_books\n",
       "0             Penguin Books         42\n",
       "1                   Vintage         31\n",
       "2  Grand Central Publishing         25"
      ]
     },
     "metadata": {},
     "output_type": "display_data"
    }
   ],
   "source": [
    "#найдем ТОП-3 самых крупных издательств\n",
    "query =  '''SELECT p.publisher, b.cnt_books\n",
    "            FROM publishers AS p\n",
    "            INNER JOIN (\n",
    "                SELECT publisher_id, COUNT(book_id) AS cnt_books\n",
    "                FROM books \n",
    "    \n",
    "                GROUP BY publisher_id\n",
    "                ORDER BY cnt_books DESC\n",
    "                LIMIT 3) AS b ON p.publisher_id = b.publisher_id\n",
    "        '''\n",
    "function_query(query)\n"
   ]
  },
  {
   "cell_type": "code",
   "execution_count": 16,
   "id": "b795359f",
   "metadata": {},
   "outputs": [
    {
     "data": {
      "text/html": [
       "<div>\n",
       "<style scoped>\n",
       "    .dataframe tbody tr th:only-of-type {\n",
       "        vertical-align: middle;\n",
       "    }\n",
       "\n",
       "    .dataframe tbody tr th {\n",
       "        vertical-align: top;\n",
       "    }\n",
       "\n",
       "    .dataframe thead th {\n",
       "        text-align: right;\n",
       "    }\n",
       "</style>\n",
       "<table border=\"1\" class=\"dataframe\">\n",
       "  <thead>\n",
       "    <tr style=\"text-align: right;\">\n",
       "      <th></th>\n",
       "      <th>author</th>\n",
       "      <th>cnt_books</th>\n",
       "    </tr>\n",
       "  </thead>\n",
       "  <tbody>\n",
       "    <tr>\n",
       "      <th>0</th>\n",
       "      <td>Terry Pratchett</td>\n",
       "      <td>15</td>\n",
       "    </tr>\n",
       "    <tr>\n",
       "      <th>1</th>\n",
       "      <td>Laurell K. Hamilton</td>\n",
       "      <td>14</td>\n",
       "    </tr>\n",
       "    <tr>\n",
       "      <th>2</th>\n",
       "      <td>John Grisham</td>\n",
       "      <td>14</td>\n",
       "    </tr>\n",
       "    <tr>\n",
       "      <th>3</th>\n",
       "      <td>Stephen King</td>\n",
       "      <td>13</td>\n",
       "    </tr>\n",
       "    <tr>\n",
       "      <th>4</th>\n",
       "      <td>James Patterson</td>\n",
       "      <td>12</td>\n",
       "    </tr>\n",
       "  </tbody>\n",
       "</table>\n",
       "</div>"
      ],
      "text/plain": [
       "                author  cnt_books\n",
       "0      Terry Pratchett         15\n",
       "1  Laurell K. Hamilton         14\n",
       "2         John Grisham         14\n",
       "3         Stephen King         13\n",
       "4      James Patterson         12"
      ]
     },
     "metadata": {},
     "output_type": "display_data"
    }
   ],
   "source": [
    "#найдем ТОП-5 авторов, которым принадлежит максимальное количество книг в БД\n",
    "query =  '''SELECT a.author, b.cnt_books\n",
    "            FROM authors AS a\n",
    "            INNER JOIN (\n",
    "                SELECT author_id, COUNT(book_id) AS cnt_books\n",
    "                FROM books \n",
    "    \n",
    "                GROUP BY author_id\n",
    "                ORDER BY cnt_books DESC\n",
    "                LIMIT 5) AS b ON a.author_id = b.author_id\n",
    "        '''\n",
    "function_query(query)\n"
   ]
  },
  {
   "cell_type": "markdown",
   "id": "ed9db43c",
   "metadata": {},
   "source": [
    "Посчитаем, сколько книг в БД имеют максимальный средний рейтинг = 5:"
   ]
  },
  {
   "cell_type": "code",
   "execution_count": 17,
   "id": "ecb7f13a",
   "metadata": {},
   "outputs": [
    {
     "data": {
      "text/html": [
       "<div>\n",
       "<style scoped>\n",
       "    .dataframe tbody tr th:only-of-type {\n",
       "        vertical-align: middle;\n",
       "    }\n",
       "\n",
       "    .dataframe tbody tr th {\n",
       "        vertical-align: top;\n",
       "    }\n",
       "\n",
       "    .dataframe thead th {\n",
       "        text-align: right;\n",
       "    }\n",
       "</style>\n",
       "<table border=\"1\" class=\"dataframe\">\n",
       "  <thead>\n",
       "    <tr style=\"text-align: right;\">\n",
       "      <th></th>\n",
       "      <th>cnt_book</th>\n",
       "    </tr>\n",
       "  </thead>\n",
       "  <tbody>\n",
       "    <tr>\n",
       "      <th>0</th>\n",
       "      <td>44</td>\n",
       "    </tr>\n",
       "  </tbody>\n",
       "</table>\n",
       "</div>"
      ],
      "text/plain": [
       "   cnt_book\n",
       "0        44"
      ]
     },
     "metadata": {},
     "output_type": "display_data"
    }
   ],
   "source": [
    "query =  '''SELECT COUNT(b.book_id) as cnt_book\n",
    "            FROM (\n",
    "                SELECT book_id, AVG(rating) as avg_rat\n",
    "                FROM ratings\n",
    "                GROUP BY book_id\n",
    "                ORDER BY avg_rat DESC\n",
    "                ) AS b\n",
    "            WHERE b.avg_rat = 5\n",
    "        '''\n",
    "function_query(query)            "
   ]
  },
  {
   "cell_type": "markdown",
   "id": "9990dedc",
   "metadata": {},
   "source": [
    "Найдем ТОП-5 книг с максимальным количеством отзывов:"
   ]
  },
  {
   "cell_type": "code",
   "execution_count": 18,
   "id": "a41da057",
   "metadata": {},
   "outputs": [
    {
     "data": {
      "text/html": [
       "<div>\n",
       "<style scoped>\n",
       "    .dataframe tbody tr th:only-of-type {\n",
       "        vertical-align: middle;\n",
       "    }\n",
       "\n",
       "    .dataframe tbody tr th {\n",
       "        vertical-align: top;\n",
       "    }\n",
       "\n",
       "    .dataframe thead th {\n",
       "        text-align: right;\n",
       "    }\n",
       "</style>\n",
       "<table border=\"1\" class=\"dataframe\">\n",
       "  <thead>\n",
       "    <tr style=\"text-align: right;\">\n",
       "      <th></th>\n",
       "      <th>title</th>\n",
       "      <th>cnt_rev</th>\n",
       "    </tr>\n",
       "  </thead>\n",
       "  <tbody>\n",
       "    <tr>\n",
       "      <th>0</th>\n",
       "      <td>Twilight (Twilight  #1)</td>\n",
       "      <td>7</td>\n",
       "    </tr>\n",
       "    <tr>\n",
       "      <th>1</th>\n",
       "      <td>The Hobbit  or There and Back Again</td>\n",
       "      <td>6</td>\n",
       "    </tr>\n",
       "    <tr>\n",
       "      <th>2</th>\n",
       "      <td>The Curious Incident of the Dog in the Night-Time</td>\n",
       "      <td>6</td>\n",
       "    </tr>\n",
       "    <tr>\n",
       "      <th>3</th>\n",
       "      <td>Water for Elephants</td>\n",
       "      <td>6</td>\n",
       "    </tr>\n",
       "    <tr>\n",
       "      <th>4</th>\n",
       "      <td>The Da Vinci Code (Robert Langdon  #2)</td>\n",
       "      <td>6</td>\n",
       "    </tr>\n",
       "  </tbody>\n",
       "</table>\n",
       "</div>"
      ],
      "text/plain": [
       "                                               title  cnt_rev\n",
       "0                            Twilight (Twilight  #1)        7\n",
       "1                The Hobbit  or There and Back Again        6\n",
       "2  The Curious Incident of the Dog in the Night-Time        6\n",
       "3                                Water for Elephants        6\n",
       "4             The Da Vinci Code (Robert Langdon  #2)        6"
      ]
     },
     "metadata": {},
     "output_type": "display_data"
    }
   ],
   "source": [
    "query =  '''SELECT b.title, a.cnt_rev\n",
    "            FROM books AS b\n",
    "            INNER JOIN (\n",
    "                SELECT book_id, COUNT(review_id) AS cnt_rev\n",
    "                FROM reviews\n",
    "                GROUP BY book_id\n",
    "                ORDER BY cnt_rev DESC\n",
    "                LIMIT 5) AS a ON a.book_id = b.book_id\n",
    "        '''\n",
    "function_query(query)\n"
   ]
  },
  {
   "cell_type": "code",
   "execution_count": 19,
   "id": "855a57f2",
   "metadata": {},
   "outputs": [
    {
     "data": {
      "text/html": [
       "<div>\n",
       "<style scoped>\n",
       "    .dataframe tbody tr th:only-of-type {\n",
       "        vertical-align: middle;\n",
       "    }\n",
       "\n",
       "    .dataframe tbody tr th {\n",
       "        vertical-align: top;\n",
       "    }\n",
       "\n",
       "    .dataframe thead th {\n",
       "        text-align: right;\n",
       "    }\n",
       "</style>\n",
       "<table border=\"1\" class=\"dataframe\">\n",
       "  <thead>\n",
       "    <tr style=\"text-align: right;\">\n",
       "      <th></th>\n",
       "      <th>min</th>\n",
       "      <th>max</th>\n",
       "    </tr>\n",
       "  </thead>\n",
       "  <tbody>\n",
       "    <tr>\n",
       "      <th>0</th>\n",
       "      <td>1952-12-01</td>\n",
       "      <td>2020-03-31</td>\n",
       "    </tr>\n",
       "  </tbody>\n",
       "</table>\n",
       "</div>"
      ],
      "text/plain": [
       "          min         max\n",
       "0  1952-12-01  2020-03-31"
      ]
     },
     "metadata": {},
     "output_type": "display_data"
    }
   ],
   "source": [
    "#посмотрим даты выхода книг\n",
    "query =  '''SELECT MIN(publication_date), MAX(publication_date)\n",
    "            FROM books\n",
    "        '''\n",
    "function_query(query)"
   ]
  },
  {
   "cell_type": "code",
   "execution_count": 20,
   "id": "4a53cd1f",
   "metadata": {},
   "outputs": [
    {
     "data": {
      "text/html": [
       "<div>\n",
       "<style scoped>\n",
       "    .dataframe tbody tr th:only-of-type {\n",
       "        vertical-align: middle;\n",
       "    }\n",
       "\n",
       "    .dataframe tbody tr th {\n",
       "        vertical-align: top;\n",
       "    }\n",
       "\n",
       "    .dataframe thead th {\n",
       "        text-align: right;\n",
       "    }\n",
       "</style>\n",
       "<table border=\"1\" class=\"dataframe\">\n",
       "  <thead>\n",
       "    <tr style=\"text-align: right;\">\n",
       "      <th></th>\n",
       "      <th>cnt_users</th>\n",
       "    </tr>\n",
       "  </thead>\n",
       "  <tbody>\n",
       "    <tr>\n",
       "      <th>0</th>\n",
       "      <td>160</td>\n",
       "    </tr>\n",
       "  </tbody>\n",
       "</table>\n",
       "</div>"
      ],
      "text/plain": [
       "   cnt_users\n",
       "0        160"
      ]
     },
     "metadata": {},
     "output_type": "display_data"
    }
   ],
   "source": [
    "#посмотрим, сколько пользователей в БД\n",
    "query =  '''SELECT COUNT(DISTINCT username) AS cnt_users\n",
    "\n",
    "            FROM ratings\n",
    "        '''\n",
    "function_query(query)"
   ]
  },
  {
   "cell_type": "code",
   "execution_count": 21,
   "id": "80d7a870",
   "metadata": {},
   "outputs": [
    {
     "data": {
      "text/html": [
       "<div>\n",
       "<style scoped>\n",
       "    .dataframe tbody tr th:only-of-type {\n",
       "        vertical-align: middle;\n",
       "    }\n",
       "\n",
       "    .dataframe tbody tr th {\n",
       "        vertical-align: top;\n",
       "    }\n",
       "\n",
       "    .dataframe thead th {\n",
       "        text-align: right;\n",
       "    }\n",
       "</style>\n",
       "<table border=\"1\" class=\"dataframe\">\n",
       "  <thead>\n",
       "    <tr style=\"text-align: right;\">\n",
       "      <th></th>\n",
       "      <th>avg_scores</th>\n",
       "    </tr>\n",
       "  </thead>\n",
       "  <tbody>\n",
       "    <tr>\n",
       "      <th>0</th>\n",
       "      <td>40.0</td>\n",
       "    </tr>\n",
       "  </tbody>\n",
       "</table>\n",
       "</div>"
      ],
      "text/plain": [
       "   avg_scores\n",
       "0        40.0"
      ]
     },
     "metadata": {},
     "output_type": "display_data"
    }
   ],
   "source": [
    "#посмотрим среднее количество оценок на пользователя\n",
    "query =  '''SELECT ROUND(AVG(c.cnt_scores_per_user)) AS avg_scores\n",
    "            FROM (SELECT username, COUNT(rating_id) AS cnt_scores_per_user\n",
    "                FROM ratings\n",
    "                GROUP BY username) AS c\n",
    "        '''\n",
    "function_query(query)"
   ]
  },
  {
   "cell_type": "code",
   "execution_count": 22,
   "id": "3022ed3d",
   "metadata": {},
   "outputs": [
    {
     "data": {
      "text/html": [
       "<div>\n",
       "<style scoped>\n",
       "    .dataframe tbody tr th:only-of-type {\n",
       "        vertical-align: middle;\n",
       "    }\n",
       "\n",
       "    .dataframe tbody tr th {\n",
       "        vertical-align: top;\n",
       "    }\n",
       "\n",
       "    .dataframe thead th {\n",
       "        text-align: right;\n",
       "    }\n",
       "</style>\n",
       "<table border=\"1\" class=\"dataframe\">\n",
       "  <thead>\n",
       "    <tr style=\"text-align: right;\">\n",
       "      <th></th>\n",
       "      <th>avg_reviews</th>\n",
       "    </tr>\n",
       "  </thead>\n",
       "  <tbody>\n",
       "    <tr>\n",
       "      <th>0</th>\n",
       "      <td>17.0</td>\n",
       "    </tr>\n",
       "  </tbody>\n",
       "</table>\n",
       "</div>"
      ],
      "text/plain": [
       "   avg_reviews\n",
       "0         17.0"
      ]
     },
     "metadata": {},
     "output_type": "display_data"
    }
   ],
   "source": [
    "#посмотрим среднее количество отзывов на пользователя\n",
    "query =  '''SELECT ROUND(AVG(c.cnt_review_per_user)) AS avg_reviews\n",
    "            FROM (SELECT username, COUNT(review_id) AS cnt_review_per_user\n",
    "                FROM reviews\n",
    "                GROUP BY username) AS c\n",
    "        '''\n",
    "function_query(query)"
   ]
  },
  {
   "cell_type": "markdown",
   "id": "702e950d",
   "metadata": {},
   "source": [
    "Основная информация о БД:\n",
    "- В БД имеется информация о 1000 книг. \n",
    "- Эти книги созданы 636 авторами, изданы 340 издательствами. \n",
    "- Самая старая книга в БД вышла 1 декабря 1952 года, самая новая - 31 марта 2020\n",
    "- Книги оценены по рейтингу от 1 до 5, средний рейтинг книг составляет 3.93\n",
    "- Среднее количество отзывов на книгу - 3\n",
    "- 994 книги имеют отзывы, оценку - все книги из БД\n",
    "- В БД зарегистрировано 160 пользователей, они проставляют в среднем 40 оценок, оставляют в среднем 17 отзывов\n",
    "- Самый активный пользователь по составлению отзывов - susan85, этот пользователь оставил 29 отзывов.\n",
    "- Самый активный пользователь по оценкам - paul88, он дал оценку 56 раз.\n",
    "- Максимальное количество книг выпустило издательство Penguin Books - 42 книги. \n",
    "- Автору Terry Pratchett принадлежит 15 книг в БД, это наибольшее значение.\n",
    "- Книга \"Twilight (Twilight #1)\" имеет 7 отзывов, максимум по базе. \n",
    "- 44 книги в БД имеют средний рейтинг, равный максимальной оценке в 5."
   ]
  },
  {
   "cell_type": "markdown",
   "id": "700f8e72",
   "metadata": {},
   "source": [
    "### Запросы в рамках заданий  <a id=\"tasks\"></a> "
   ]
  },
  {
   "cell_type": "markdown",
   "id": "691b9170",
   "metadata": {},
   "source": [
    "#### Количество книг с датой выпуска позже 1 января 2000 года<a id=\"year_release\"></a>"
   ]
  },
  {
   "cell_type": "markdown",
   "id": "de4568c2",
   "metadata": {},
   "source": [
    "Посчитаем сколько книг вышло после 1 января 2000 года"
   ]
  },
  {
   "cell_type": "code",
   "execution_count": 23,
   "id": "56b04288",
   "metadata": {},
   "outputs": [
    {
     "data": {
      "text/html": [
       "<div>\n",
       "<style scoped>\n",
       "    .dataframe tbody tr th:only-of-type {\n",
       "        vertical-align: middle;\n",
       "    }\n",
       "\n",
       "    .dataframe tbody tr th {\n",
       "        vertical-align: top;\n",
       "    }\n",
       "\n",
       "    .dataframe thead th {\n",
       "        text-align: right;\n",
       "    }\n",
       "</style>\n",
       "<table border=\"1\" class=\"dataframe\">\n",
       "  <thead>\n",
       "    <tr style=\"text-align: right;\">\n",
       "      <th></th>\n",
       "      <th>count_books</th>\n",
       "    </tr>\n",
       "  </thead>\n",
       "  <tbody>\n",
       "    <tr>\n",
       "      <th>0</th>\n",
       "      <td>819</td>\n",
       "    </tr>\n",
       "  </tbody>\n",
       "</table>\n",
       "</div>"
      ],
      "text/plain": [
       "   count_books\n",
       "0          819"
      ]
     },
     "metadata": {},
     "output_type": "display_data"
    }
   ],
   "source": [
    "query =  '''--считаем кол-во книг с выпуском после 1 января 2000 года\n",
    "            SELECT COUNT(book_id) AS count_books\n",
    "            FROM books\n",
    "            WHERE publication_date > '2000-01-01'\n",
    "            '''\n",
    "function_query(query)"
   ]
  },
  {
   "cell_type": "markdown",
   "id": "6dddf494",
   "metadata": {},
   "source": [
    "Более половины книг вышло после 1 января 2000 года. "
   ]
  },
  {
   "cell_type": "markdown",
   "id": "c045f429",
   "metadata": {},
   "source": [
    "#### Подсчет средней оценки и количества обзоров для каждой книги<a id=\"avg_rating\"></a>"
   ]
  },
  {
   "cell_type": "markdown",
   "id": "3ea47f5c",
   "metadata": {},
   "source": [
    "Для каждой книги посчитаем количество обзоров и среднюю оценку:"
   ]
  },
  {
   "cell_type": "code",
   "execution_count": 24,
   "id": "ccfebd3e",
   "metadata": {},
   "outputs": [
    {
     "data": {
      "text/html": [
       "<div>\n",
       "<style scoped>\n",
       "    .dataframe tbody tr th:only-of-type {\n",
       "        vertical-align: middle;\n",
       "    }\n",
       "\n",
       "    .dataframe tbody tr th {\n",
       "        vertical-align: top;\n",
       "    }\n",
       "\n",
       "    .dataframe thead th {\n",
       "        text-align: right;\n",
       "    }\n",
       "</style>\n",
       "<table border=\"1\" class=\"dataframe\">\n",
       "  <thead>\n",
       "    <tr style=\"text-align: right;\">\n",
       "      <th></th>\n",
       "      <th>book_id</th>\n",
       "      <th>title</th>\n",
       "      <th>avg_rating</th>\n",
       "      <th>total_reviews</th>\n",
       "    </tr>\n",
       "  </thead>\n",
       "  <tbody>\n",
       "    <tr>\n",
       "      <th>0</th>\n",
       "      <td>518</td>\n",
       "      <td>Pop Goes the Weasel (Alex Cross  #5)</td>\n",
       "      <td>5.00</td>\n",
       "      <td>2.0</td>\n",
       "    </tr>\n",
       "    <tr>\n",
       "      <th>1</th>\n",
       "      <td>732</td>\n",
       "      <td>The Ghost Map: The Story of London's Most Terrifying Epidemic—and How It Changed Science  Cities  and the Modern World</td>\n",
       "      <td>5.00</td>\n",
       "      <td>2.0</td>\n",
       "    </tr>\n",
       "    <tr>\n",
       "      <th>2</th>\n",
       "      <td>347</td>\n",
       "      <td>In the Hand of the Goddess (Song of the Lioness  #2)</td>\n",
       "      <td>5.00</td>\n",
       "      <td>2.0</td>\n",
       "    </tr>\n",
       "    <tr>\n",
       "      <th>3</th>\n",
       "      <td>610</td>\n",
       "      <td>Tai-Pan (Asian Saga  #2)</td>\n",
       "      <td>5.00</td>\n",
       "      <td>2.0</td>\n",
       "    </tr>\n",
       "    <tr>\n",
       "      <th>4</th>\n",
       "      <td>330</td>\n",
       "      <td>How to Be a Domestic Goddess: Baking and the Art of Comfort Cooking</td>\n",
       "      <td>5.00</td>\n",
       "      <td>1.0</td>\n",
       "    </tr>\n",
       "    <tr>\n",
       "      <th>...</th>\n",
       "      <td>...</td>\n",
       "      <td>...</td>\n",
       "      <td>...</td>\n",
       "      <td>...</td>\n",
       "    </tr>\n",
       "    <tr>\n",
       "      <th>995</th>\n",
       "      <td>915</td>\n",
       "      <td>The World Is Flat: A Brief History of the Twenty-first Century</td>\n",
       "      <td>2.25</td>\n",
       "      <td>3.0</td>\n",
       "    </tr>\n",
       "    <tr>\n",
       "      <th>996</th>\n",
       "      <td>371</td>\n",
       "      <td>Junky</td>\n",
       "      <td>2.00</td>\n",
       "      <td>2.0</td>\n",
       "    </tr>\n",
       "    <tr>\n",
       "      <th>997</th>\n",
       "      <td>316</td>\n",
       "      <td>His Excellency: George Washington</td>\n",
       "      <td>2.00</td>\n",
       "      <td>2.0</td>\n",
       "    </tr>\n",
       "    <tr>\n",
       "      <th>998</th>\n",
       "      <td>202</td>\n",
       "      <td>Drowning Ruth</td>\n",
       "      <td>2.00</td>\n",
       "      <td>3.0</td>\n",
       "    </tr>\n",
       "    <tr>\n",
       "      <th>999</th>\n",
       "      <td>303</td>\n",
       "      <td>Harvesting the Heart</td>\n",
       "      <td>1.50</td>\n",
       "      <td>2.0</td>\n",
       "    </tr>\n",
       "  </tbody>\n",
       "</table>\n",
       "<p>1000 rows × 4 columns</p>\n",
       "</div>"
      ],
      "text/plain": [
       "     book_id  \\\n",
       "0        518   \n",
       "1        732   \n",
       "2        347   \n",
       "3        610   \n",
       "4        330   \n",
       "..       ...   \n",
       "995      915   \n",
       "996      371   \n",
       "997      316   \n",
       "998      202   \n",
       "999      303   \n",
       "\n",
       "                                                                                                                      title  \\\n",
       "0                                                                                      Pop Goes the Weasel (Alex Cross  #5)   \n",
       "1    The Ghost Map: The Story of London's Most Terrifying Epidemic—and How It Changed Science  Cities  and the Modern World   \n",
       "2                                                                      In the Hand of the Goddess (Song of the Lioness  #2)   \n",
       "3                                                                                                  Tai-Pan (Asian Saga  #2)   \n",
       "4                                                       How to Be a Domestic Goddess: Baking and the Art of Comfort Cooking   \n",
       "..                                                                                                                      ...   \n",
       "995                                                          The World Is Flat: A Brief History of the Twenty-first Century   \n",
       "996                                                                                                                   Junky   \n",
       "997                                                                                       His Excellency: George Washington   \n",
       "998                                                                                                           Drowning Ruth   \n",
       "999                                                                                                    Harvesting the Heart   \n",
       "\n",
       "     avg_rating  total_reviews  \n",
       "0          5.00            2.0  \n",
       "1          5.00            2.0  \n",
       "2          5.00            2.0  \n",
       "3          5.00            2.0  \n",
       "4          5.00            1.0  \n",
       "..          ...            ...  \n",
       "995        2.25            3.0  \n",
       "996        2.00            2.0  \n",
       "997        2.00            2.0  \n",
       "998        2.00            3.0  \n",
       "999        1.50            2.0  \n",
       "\n",
       "[1000 rows x 4 columns]"
      ]
     },
     "metadata": {},
     "output_type": "display_data"
    }
   ],
   "source": [
    "query =  '''--считаем кол-во обзоров и среднюю оценку для каждой книги\n",
    "        SELECT b.book_id,\n",
    "            b.title,\n",
    "           ROUND(i.avg_rating, 2) AS avg_rating,\n",
    "           c.total_reviews \n",
    "        FROM books AS b\n",
    "         LEFT OUTER JOIN \n",
    "          (SELECT book_id,\n",
    "              AVG(rating) AS avg_rating\n",
    "           FROM ratings\n",
    "           GROUP BY book_id\n",
    "           \n",
    "           ) AS i ON i.book_id = b.book_id\n",
    "        LEFT OUTER JOIN\n",
    "          (SELECT book_id,\n",
    "              COUNT(review_id) AS total_reviews\n",
    "           FROM reviews\n",
    "           GROUP BY book_id\n",
    "           ORDER BY total_reviews DESC) AS c ON i.book_id = c.book_id\n",
    "           ORDER BY avg_rating DESC\n",
    "           \n",
    "        '''\n",
    "function_query(query)"
   ]
  },
  {
   "cell_type": "code",
   "execution_count": 25,
   "id": "c6324a49",
   "metadata": {},
   "outputs": [
    {
     "data": {
      "text/html": [
       "<div>\n",
       "<style scoped>\n",
       "    .dataframe tbody tr th:only-of-type {\n",
       "        vertical-align: middle;\n",
       "    }\n",
       "\n",
       "    .dataframe tbody tr th {\n",
       "        vertical-align: top;\n",
       "    }\n",
       "\n",
       "    .dataframe thead th {\n",
       "        text-align: right;\n",
       "    }\n",
       "</style>\n",
       "<table border=\"1\" class=\"dataframe\">\n",
       "  <thead>\n",
       "    <tr style=\"text-align: right;\">\n",
       "      <th></th>\n",
       "      <th>book_id</th>\n",
       "      <th>title</th>\n",
       "      <th>avg_rating</th>\n",
       "      <th>total_rev</th>\n",
       "    </tr>\n",
       "  </thead>\n",
       "  <tbody>\n",
       "    <tr>\n",
       "      <th>0</th>\n",
       "      <td>17</td>\n",
       "      <td>A Dirty Job (Grim Reaper  #1)</td>\n",
       "      <td>5.00</td>\n",
       "      <td>4</td>\n",
       "    </tr>\n",
       "    <tr>\n",
       "      <th>1</th>\n",
       "      <td>444</td>\n",
       "      <td>Moneyball: The Art of Winning an Unfair Game</td>\n",
       "      <td>5.00</td>\n",
       "      <td>3</td>\n",
       "    </tr>\n",
       "    <tr>\n",
       "      <th>2</th>\n",
       "      <td>553</td>\n",
       "      <td>School's Out—Forever (Maximum Ride  #2)</td>\n",
       "      <td>5.00</td>\n",
       "      <td>3</td>\n",
       "    </tr>\n",
       "    <tr>\n",
       "      <th>3</th>\n",
       "      <td>459</td>\n",
       "      <td>My Name Is Asher Lev</td>\n",
       "      <td>5.00</td>\n",
       "      <td>2</td>\n",
       "    </tr>\n",
       "    <tr>\n",
       "      <th>4</th>\n",
       "      <td>972</td>\n",
       "      <td>Wherever You Go  There You Are: Mindfulness Meditation in Everyday Life</td>\n",
       "      <td>5.00</td>\n",
       "      <td>2</td>\n",
       "    </tr>\n",
       "    <tr>\n",
       "      <th>...</th>\n",
       "      <td>...</td>\n",
       "      <td>...</td>\n",
       "      <td>...</td>\n",
       "      <td>...</td>\n",
       "    </tr>\n",
       "    <tr>\n",
       "      <th>995</th>\n",
       "      <td>915</td>\n",
       "      <td>The World Is Flat: A Brief History of the Twenty-first Century</td>\n",
       "      <td>2.25</td>\n",
       "      <td>3</td>\n",
       "    </tr>\n",
       "    <tr>\n",
       "      <th>996</th>\n",
       "      <td>202</td>\n",
       "      <td>Drowning Ruth</td>\n",
       "      <td>2.00</td>\n",
       "      <td>3</td>\n",
       "    </tr>\n",
       "    <tr>\n",
       "      <th>997</th>\n",
       "      <td>371</td>\n",
       "      <td>Junky</td>\n",
       "      <td>2.00</td>\n",
       "      <td>2</td>\n",
       "    </tr>\n",
       "    <tr>\n",
       "      <th>998</th>\n",
       "      <td>316</td>\n",
       "      <td>His Excellency: George Washington</td>\n",
       "      <td>2.00</td>\n",
       "      <td>2</td>\n",
       "    </tr>\n",
       "    <tr>\n",
       "      <th>999</th>\n",
       "      <td>303</td>\n",
       "      <td>Harvesting the Heart</td>\n",
       "      <td>1.50</td>\n",
       "      <td>2</td>\n",
       "    </tr>\n",
       "  </tbody>\n",
       "</table>\n",
       "<p>1000 rows × 4 columns</p>\n",
       "</div>"
      ],
      "text/plain": [
       "     book_id  \\\n",
       "0         17   \n",
       "1        444   \n",
       "2        553   \n",
       "3        459   \n",
       "4        972   \n",
       "..       ...   \n",
       "995      915   \n",
       "996      202   \n",
       "997      371   \n",
       "998      316   \n",
       "999      303   \n",
       "\n",
       "                                                                       title  \\\n",
       "0                                              A Dirty Job (Grim Reaper  #1)   \n",
       "1                               Moneyball: The Art of Winning an Unfair Game   \n",
       "2                                    School's Out—Forever (Maximum Ride  #2)   \n",
       "3                                                       My Name Is Asher Lev   \n",
       "4    Wherever You Go  There You Are: Mindfulness Meditation in Everyday Life   \n",
       "..                                                                       ...   \n",
       "995           The World Is Flat: A Brief History of the Twenty-first Century   \n",
       "996                                                            Drowning Ruth   \n",
       "997                                                                    Junky   \n",
       "998                                        His Excellency: George Washington   \n",
       "999                                                     Harvesting the Heart   \n",
       "\n",
       "     avg_rating  total_rev  \n",
       "0          5.00          4  \n",
       "1          5.00          3  \n",
       "2          5.00          3  \n",
       "3          5.00          2  \n",
       "4          5.00          2  \n",
       "..          ...        ...  \n",
       "995        2.25          3  \n",
       "996        2.00          3  \n",
       "997        2.00          2  \n",
       "998        2.00          2  \n",
       "999        1.50          2  \n",
       "\n",
       "[1000 rows x 4 columns]"
      ]
     },
     "metadata": {},
     "output_type": "display_data"
    }
   ],
   "source": [
    "query =  '''--считаем кол-во обзоров и среднюю оценку для каждой книги\n",
    "        WITH a AS (\n",
    "                SELECT book_id,\n",
    "                  AVG(rating) AS avg_rating\n",
    "               FROM ratings\n",
    "               GROUP BY book_id\n",
    "           \n",
    "              ),\n",
    "              b AS (\n",
    "              SELECT book_id,\n",
    "                  COUNT(review_id) AS total_reviews\n",
    "               FROM reviews\n",
    "               GROUP BY book_id\n",
    "           \n",
    "               )\n",
    "              SELECT c.book_id,\n",
    "                c.title, a.avg_rating,\n",
    "               COALESCE(b.total_reviews, 0) AS total_rev\n",
    "               FROM books AS c\n",
    "               LEFT OUTER JOIN a ON a.book_id = c.book_id\n",
    "               LEFT OUTER JOIN b ON b.book_id = c.book_id\n",
    "               ORDER BY a.avg_rating DESC,  total_rev DESC\n",
    "        \n",
    "        \n",
    "        '''\n",
    "function_query(query) "
   ]
  },
  {
   "cell_type": "markdown",
   "id": "48a16af9",
   "metadata": {},
   "source": [
    "3 книги в БД имеют максимальный средний рейтинг = 5 и количество отзывов = 4 и 3. Это \"A Dirty Job (Grim Reaper #1)\", \"School's Out—Forever (Maximum Ride #2)\", \"Moneyball: The Art of Winning an Unfair Game\""
   ]
  },
  {
   "cell_type": "markdown",
   "id": "b6ca3042",
   "metadata": {},
   "source": [
    "#### Определение издательства, выпустившего наибольшее число книг толще 50 страниц<a id=\"publisher\"></a>"
   ]
  },
  {
   "cell_type": "markdown",
   "id": "85766c6c",
   "metadata": {},
   "source": [
    "Определим издательство, которое выпустило наибольшее число книг толще 50 страниц — так мы исключим из анализа брошюры"
   ]
  },
  {
   "cell_type": "code",
   "execution_count": 26,
   "id": "fb55bcc0",
   "metadata": {},
   "outputs": [
    {
     "data": {
      "text/html": [
       "<div>\n",
       "<style scoped>\n",
       "    .dataframe tbody tr th:only-of-type {\n",
       "        vertical-align: middle;\n",
       "    }\n",
       "\n",
       "    .dataframe tbody tr th {\n",
       "        vertical-align: top;\n",
       "    }\n",
       "\n",
       "    .dataframe thead th {\n",
       "        text-align: right;\n",
       "    }\n",
       "</style>\n",
       "<table border=\"1\" class=\"dataframe\">\n",
       "  <thead>\n",
       "    <tr style=\"text-align: right;\">\n",
       "      <th></th>\n",
       "      <th>publisher</th>\n",
       "      <th>cnt_books</th>\n",
       "    </tr>\n",
       "  </thead>\n",
       "  <tbody>\n",
       "    <tr>\n",
       "      <th>0</th>\n",
       "      <td>Penguin Books</td>\n",
       "      <td>42</td>\n",
       "    </tr>\n",
       "  </tbody>\n",
       "</table>\n",
       "</div>"
      ],
      "text/plain": [
       "       publisher  cnt_books\n",
       "0  Penguin Books         42"
      ]
     },
     "metadata": {},
     "output_type": "display_data"
    }
   ],
   "source": [
    "\n",
    "query =  '''--ищем издат-во, выпустившее наибольшее число книг толще 50 страниц\n",
    "            SELECT p.publisher, s.cnt_books\n",
    "            FROM publishers AS p\n",
    "            INNER JOIN\n",
    "                (SELECT publisher_id, COUNT(book_id) AS cnt_books\n",
    "                FROM books\n",
    "                WHERE num_pages > 50\n",
    "                GROUP BY publisher_id\n",
    "                ORDER BY cnt_books DESC\n",
    "                LIMIT 1) AS s ON s.publisher_id = p.publisher_id\n",
    "            '''\n",
    "function_query(query)"
   ]
  },
  {
   "cell_type": "markdown",
   "id": "cd1ace17",
   "metadata": {},
   "source": [
    "Даже с учетом исключения брошюр лидер остался тот же - Penguin Books\t"
   ]
  },
  {
   "cell_type": "markdown",
   "id": "668f1be7",
   "metadata": {},
   "source": [
    "#### Определение автора с самой высокой средней оценкой книг, имеющих 50 и более оценок<a id=\"author\"></a>"
   ]
  },
  {
   "cell_type": "markdown",
   "id": "c67b4296",
   "metadata": {},
   "source": [
    "Определим автора с самой высокой средней оценкой книг, учитывая только книги с 50 и более оценками"
   ]
  },
  {
   "cell_type": "code",
   "execution_count": 27,
   "id": "92e7d085",
   "metadata": {},
   "outputs": [
    {
     "data": {
      "text/html": [
       "<div>\n",
       "<style scoped>\n",
       "    .dataframe tbody tr th:only-of-type {\n",
       "        vertical-align: middle;\n",
       "    }\n",
       "\n",
       "    .dataframe tbody tr th {\n",
       "        vertical-align: top;\n",
       "    }\n",
       "\n",
       "    .dataframe thead th {\n",
       "        text-align: right;\n",
       "    }\n",
       "</style>\n",
       "<table border=\"1\" class=\"dataframe\">\n",
       "  <thead>\n",
       "    <tr style=\"text-align: right;\">\n",
       "      <th></th>\n",
       "      <th>author</th>\n",
       "      <th>avg_rat</th>\n",
       "    </tr>\n",
       "  </thead>\n",
       "  <tbody>\n",
       "    <tr>\n",
       "      <th>0</th>\n",
       "      <td>J.K. Rowling/Mary GrandPré</td>\n",
       "      <td>4.283844</td>\n",
       "    </tr>\n",
       "    <tr>\n",
       "      <th>1</th>\n",
       "      <td>Markus Zusak/Cao Xuân Việt Khương</td>\n",
       "      <td>4.264151</td>\n",
       "    </tr>\n",
       "    <tr>\n",
       "      <th>2</th>\n",
       "      <td>J.R.R. Tolkien</td>\n",
       "      <td>4.258446</td>\n",
       "    </tr>\n",
       "    <tr>\n",
       "      <th>3</th>\n",
       "      <td>Louisa May Alcott</td>\n",
       "      <td>4.192308</td>\n",
       "    </tr>\n",
       "    <tr>\n",
       "      <th>4</th>\n",
       "      <td>Rick Riordan</td>\n",
       "      <td>4.080645</td>\n",
       "    </tr>\n",
       "    <tr>\n",
       "      <th>5</th>\n",
       "      <td>William Golding</td>\n",
       "      <td>3.901408</td>\n",
       "    </tr>\n",
       "    <tr>\n",
       "      <th>6</th>\n",
       "      <td>J.D. Salinger</td>\n",
       "      <td>3.825581</td>\n",
       "    </tr>\n",
       "    <tr>\n",
       "      <th>7</th>\n",
       "      <td>Paulo Coelho/Alan R. Clarke/Özdemir İnce</td>\n",
       "      <td>3.789474</td>\n",
       "    </tr>\n",
       "    <tr>\n",
       "      <th>8</th>\n",
       "      <td>William Shakespeare/Paul Werstine/Barbara A. Mowat</td>\n",
       "      <td>3.787879</td>\n",
       "    </tr>\n",
       "    <tr>\n",
       "      <th>9</th>\n",
       "      <td>Dan Brown</td>\n",
       "      <td>3.754540</td>\n",
       "    </tr>\n",
       "    <tr>\n",
       "      <th>10</th>\n",
       "      <td>Lois Lowry</td>\n",
       "      <td>3.750000</td>\n",
       "    </tr>\n",
       "    <tr>\n",
       "      <th>11</th>\n",
       "      <td>George Orwell/Boris Grabnar/Peter Škerl</td>\n",
       "      <td>3.729730</td>\n",
       "    </tr>\n",
       "    <tr>\n",
       "      <th>12</th>\n",
       "      <td>Stephenie Meyer</td>\n",
       "      <td>3.662500</td>\n",
       "    </tr>\n",
       "    <tr>\n",
       "      <th>13</th>\n",
       "      <td>John Steinbeck</td>\n",
       "      <td>3.622951</td>\n",
       "    </tr>\n",
       "  </tbody>\n",
       "</table>\n",
       "</div>"
      ],
      "text/plain": [
       "                                                author   avg_rat\n",
       "0                           J.K. Rowling/Mary GrandPré  4.283844\n",
       "1                    Markus Zusak/Cao Xuân Việt Khương  4.264151\n",
       "2                                       J.R.R. Tolkien  4.258446\n",
       "3                                    Louisa May Alcott  4.192308\n",
       "4                                         Rick Riordan  4.080645\n",
       "5                                      William Golding  3.901408\n",
       "6                                        J.D. Salinger  3.825581\n",
       "7             Paulo Coelho/Alan R. Clarke/Özdemir İnce  3.789474\n",
       "8   William Shakespeare/Paul Werstine/Barbara A. Mowat  3.787879\n",
       "9                                            Dan Brown  3.754540\n",
       "10                                          Lois Lowry  3.750000\n",
       "11             George Orwell/Boris Grabnar/Peter Škerl  3.729730\n",
       "12                                     Stephenie Meyer  3.662500\n",
       "13                                      John Steinbeck  3.622951"
      ]
     },
     "metadata": {},
     "output_type": "display_data"
    }
   ],
   "source": [
    "query = ''' --ищем авторов с самой высокой средней оценкой книг, получивших 50 и более оценок\n",
    "            WITH c AS (\n",
    "                    SELECT book_id, AVG(rating) as avg_rating\n",
    "                    FROM ratings\n",
    "                    GROUP BY book_id\n",
    "                    HAVING COUNT(rating_id) >= 50\n",
    "                    ORDER BY avg_rating DESC\n",
    "                    --LIMIT 50\n",
    "                )\n",
    "            SELECT a.author, AVG(c.avg_rating) AS avg_rat\n",
    "            FROM authors AS a\n",
    "            INNER JOIN books AS b ON b.author_id = a.author_id\n",
    "            INNER JOIN c ON c.book_id = b.book_id\n",
    "            GROUP BY a.author\n",
    "            ORDER BY avg_rat DESC\n",
    "                    \n",
    "        '''\n",
    "function_query(query)"
   ]
  },
  {
   "cell_type": "markdown",
   "id": "c030e22b",
   "metadata": {},
   "source": [
    "Критериям запроса удовлетворяют 14 авторов БД. Но лидер среди них - J.K. Rowling, у нее самый высокий средний рейтинг книг."
   ]
  },
  {
   "cell_type": "markdown",
   "id": "49e4c7ab",
   "metadata": {},
   "source": [
    "Найдем, какая книга этого автора больше всех понравилась читателям (самый высокий средний рейтинг и 50 и более оценок):"
   ]
  },
  {
   "cell_type": "code",
   "execution_count": 29,
   "id": "e02fc07b",
   "metadata": {},
   "outputs": [
    {
     "data": {
      "text/html": [
       "<div>\n",
       "<style scoped>\n",
       "    .dataframe tbody tr th:only-of-type {\n",
       "        vertical-align: middle;\n",
       "    }\n",
       "\n",
       "    .dataframe tbody tr th {\n",
       "        vertical-align: top;\n",
       "    }\n",
       "\n",
       "    .dataframe thead th {\n",
       "        text-align: right;\n",
       "    }\n",
       "</style>\n",
       "<table border=\"1\" class=\"dataframe\">\n",
       "  <thead>\n",
       "    <tr style=\"text-align: right;\">\n",
       "      <th></th>\n",
       "      <th>author</th>\n",
       "      <th>book_id</th>\n",
       "      <th>title</th>\n",
       "    </tr>\n",
       "  </thead>\n",
       "  <tbody>\n",
       "    <tr>\n",
       "      <th>0</th>\n",
       "      <td>J.K. Rowling/Mary GrandPré</td>\n",
       "      <td>302</td>\n",
       "      <td>Harry Potter and the Prisoner of Azkaban (Harry Potter  #3)</td>\n",
       "    </tr>\n",
       "  </tbody>\n",
       "</table>\n",
       "</div>"
      ],
      "text/plain": [
       "                       author  book_id  \\\n",
       "0  J.K. Rowling/Mary GrandPré      302   \n",
       "\n",
       "                                                         title  \n",
       "0  Harry Potter and the Prisoner of Azkaban (Harry Potter  #3)  "
      ]
     },
     "metadata": {},
     "output_type": "display_data"
    }
   ],
   "source": [
    "query = ''' --ищем самую популярную книгу лучшего автора\n",
    "            SELECT a.author, b.book_id, b.title\n",
    "            FROM authors AS a\n",
    "            INNER JOIN books AS b ON b.author_id = a.author_id\n",
    "            WHERE b.book_id IN\n",
    "                (\n",
    "                    SELECT book_id\n",
    "                    FROM ratings\n",
    "                    GROUP BY book_id\n",
    "                    HAVING COUNT(rating_id) >= 50\n",
    "                    ORDER BY AVG(rating) DESC\n",
    "                    LIMIT 1\n",
    "                    )\n",
    "        '''\n",
    "function_query(query)"
   ]
  },
  {
   "cell_type": "markdown",
   "id": "a4502a33",
   "metadata": {},
   "source": [
    "\"Гарри Поттер и узник Азкабана\" - фаворит читателей"
   ]
  },
  {
   "cell_type": "markdown",
   "id": "daccfd95",
   "metadata": {},
   "source": [
    "#### Подсчет среднего количества обзоров от пользователей, поставивших более 50 оценок<a id=\"avg_review\"></a>"
   ]
  },
  {
   "cell_type": "markdown",
   "id": "557918cb",
   "metadata": {},
   "source": [
    "Посчитаем среднее количество обзоров от пользователей, которые поставили больше 50 оценок\n"
   ]
  },
  {
   "cell_type": "code",
   "execution_count": 30,
   "id": "da57d9fb",
   "metadata": {},
   "outputs": [
    {
     "data": {
      "text/html": [
       "<div>\n",
       "<style scoped>\n",
       "    .dataframe tbody tr th:only-of-type {\n",
       "        vertical-align: middle;\n",
       "    }\n",
       "\n",
       "    .dataframe tbody tr th {\n",
       "        vertical-align: top;\n",
       "    }\n",
       "\n",
       "    .dataframe thead th {\n",
       "        text-align: right;\n",
       "    }\n",
       "</style>\n",
       "<table border=\"1\" class=\"dataframe\">\n",
       "  <thead>\n",
       "    <tr style=\"text-align: right;\">\n",
       "      <th></th>\n",
       "      <th>avg_reviews</th>\n",
       "    </tr>\n",
       "  </thead>\n",
       "  <tbody>\n",
       "    <tr>\n",
       "      <th>0</th>\n",
       "      <td>24.33</td>\n",
       "    </tr>\n",
       "  </tbody>\n",
       "</table>\n",
       "</div>"
      ],
      "text/plain": [
       "   avg_reviews\n",
       "0        24.33"
      ]
     },
     "metadata": {},
     "output_type": "display_data"
    }
   ],
   "source": [
    "query = '''\n",
    "        --считаем среднее количество обзоров пользователей, поставивших более 50 оценок\n",
    "        SELECT ROUND(AVG(c.cnt_review),2) AS avg_reviews\n",
    "        FROM (\n",
    "            WITH a AS (\n",
    "                SELECT username, COUNT(review_id) AS cnt_review\n",
    "                FROM reviews\n",
    "                GROUP BY username),\n",
    "            b AS\n",
    "                (SELECT username\n",
    "                FROM ratings\n",
    "                GROUP BY username\n",
    "                HAVING COUNT(rating_id) > 50\n",
    "                )\n",
    "            SELECT b.username, a.cnt_review\n",
    "            FROM b\n",
    "            LEFT OUTER JOIN a ON a.username = b.username\n",
    "            ORDER BY a.cnt_review DESC\n",
    "        ) AS c'''\n",
    "\n",
    "function_query(query)            "
   ]
  },
  {
   "cell_type": "markdown",
   "id": "8081ab99",
   "metadata": {},
   "source": [
    "Активные пользователи оставили в среднем 24 отзыва."
   ]
  },
  {
   "cell_type": "markdown",
   "id": "025a9e69",
   "metadata": {},
   "source": [
    "Выведем пользователей, которые поставили более 50 оценок, и количество обзоров, которое они составили:"
   ]
  },
  {
   "cell_type": "code",
   "execution_count": 31,
   "id": "c8980607",
   "metadata": {},
   "outputs": [
    {
     "data": {
      "text/html": [
       "<div>\n",
       "<style scoped>\n",
       "    .dataframe tbody tr th:only-of-type {\n",
       "        vertical-align: middle;\n",
       "    }\n",
       "\n",
       "    .dataframe tbody tr th {\n",
       "        vertical-align: top;\n",
       "    }\n",
       "\n",
       "    .dataframe thead th {\n",
       "        text-align: right;\n",
       "    }\n",
       "</style>\n",
       "<table border=\"1\" class=\"dataframe\">\n",
       "  <thead>\n",
       "    <tr style=\"text-align: right;\">\n",
       "      <th></th>\n",
       "      <th>username</th>\n",
       "      <th>cnt_review</th>\n",
       "    </tr>\n",
       "  </thead>\n",
       "  <tbody>\n",
       "    <tr>\n",
       "      <th>0</th>\n",
       "      <td>sfitzgerald</td>\n",
       "      <td>28</td>\n",
       "    </tr>\n",
       "    <tr>\n",
       "      <th>1</th>\n",
       "      <td>martinadam</td>\n",
       "      <td>27</td>\n",
       "    </tr>\n",
       "    <tr>\n",
       "      <th>2</th>\n",
       "      <td>richard89</td>\n",
       "      <td>26</td>\n",
       "    </tr>\n",
       "    <tr>\n",
       "      <th>3</th>\n",
       "      <td>jennifermiller</td>\n",
       "      <td>25</td>\n",
       "    </tr>\n",
       "    <tr>\n",
       "      <th>4</th>\n",
       "      <td>paul88</td>\n",
       "      <td>22</td>\n",
       "    </tr>\n",
       "    <tr>\n",
       "      <th>5</th>\n",
       "      <td>xdavis</td>\n",
       "      <td>18</td>\n",
       "    </tr>\n",
       "  </tbody>\n",
       "</table>\n",
       "</div>"
      ],
      "text/plain": [
       "         username  cnt_review\n",
       "0     sfitzgerald          28\n",
       "1      martinadam          27\n",
       "2       richard89          26\n",
       "3  jennifermiller          25\n",
       "4          paul88          22\n",
       "5          xdavis          18"
      ]
     },
     "metadata": {},
     "output_type": "display_data"
    }
   ],
   "source": [
    "query = '''WITH a AS (\n",
    "                SELECT username, COUNT(review_id) AS cnt_review\n",
    "                FROM reviews\n",
    "                GROUP BY username),\n",
    "            b AS\n",
    "                (SELECT username\n",
    "                FROM ratings\n",
    "                GROUP BY username\n",
    "                HAVING COUNT(rating_id) > 50\n",
    "                )\n",
    "            SELECT b.username, a.cnt_review\n",
    "            FROM b\n",
    "            LEFT OUTER JOIN a ON a.username = b.username\n",
    "            ORDER BY a.cnt_review DESC\n",
    "        '''\n",
    "function_query(query)"
   ]
  },
  {
   "cell_type": "markdown",
   "id": "a717896b",
   "metadata": {},
   "source": [
    "В базе имеется 6 самых активных пользователей, как в части проставления оценок для книг, так и в части написания отзывов. Лидер - пользователь с ником sfitzgerald. Он поставил более 50  оценок и составил 28 отзывов."
   ]
  },
  {
   "cell_type": "markdown",
   "id": "d7e8f298",
   "metadata": {},
   "source": [
    "## Выводы по проекту <a id=\"conclusion\"></a> "
   ]
  },
  {
   "cell_type": "markdown",
   "id": "4227ec3a",
   "metadata": {},
   "source": [
    "<div class=\"alert alert-info\">  \n",
    "В рамках данного проекта средствами Python было произведено подключение к БД, содержащей информацию о книгах, авторах, издательствах, рейтингах и отзывов пользователей.\n",
    "    \n",
    "Получение основной информации о БД, а также выполнение заданий по проекту было осуществлено с помощью SQL-запросов.\n",
    "Получены следующие результаты:\n",
    "    \n",
    "- В БД имеется информация о 1000 книг. \n",
    "    \n",
    "- Эти книги созданы 636 авторами, изданы 340 издательствами. \n",
    "    \n",
    "- Самая старая книга в БД вышла 1 декабря 1952 года, самая новая - 31 марта 2020\n",
    "    \n",
    "- Книги оценены по рейтингу от 1 до 5, средний рейтинг книг составляет 3.93\n",
    "    \n",
    "- Среднее количество отзывов на книгу - 3\n",
    "    \n",
    "- 994 книги имеют отзывы, оценку - все книги из БД\n",
    "    \n",
    "- В БД зарегистрировано 160 пользователей, они проставляют в среднем 40 оценок, оставляют в среднем 17 отзывов    \n",
    "    \n",
    "- Самый активный пользователь по составлению отзывов - susan85, этот пользователь оставил 29 отзывов.\n",
    "    \n",
    "- Самый активный пользователь по оценкам - paul88, он дал оценку 56 раз.\n",
    "    \n",
    "- Максимальное количество книг выпустило издательство Penguin Books - 42 книги. \n",
    "    \n",
    "- Автору Terry Pratchett принадлежит 15 книг в БД, это наибольшее значение.\n",
    "    \n",
    "- Книга \"Twilight (Twilight #1)\" имеет 7 отзывов, максимум по базе. \n",
    "    \n",
    "- 44 книги в БД имеют средний рейтинг, равный максимальной оценке в 5.\n",
    "\n",
    "- Более половины книг вышло после 1 января 2000 года.\n",
    "    \n",
    "- Penguin Books издало максимальное количество книг толще 50 страниц\n",
    "\n",
    "- Автор с самой высокой средней оценкой книг (учитывая только книги с 50 и более оценками) - J.K. Rowling/Mary GrandPré\n",
    "    \n",
    "- Ее книга \"Гарри Поттер и узник Азкабана\" - фаворит читателей\n",
    "    \n",
    "- Активные пользователи, которые поставили более 50 оценок, оставили в среднем 24 отзыва\n",
    "    \n",
    "- Пользователь с ником sfitzgerald поставил более 50 оценок и составил 28 отзывов\n",
    "    \n",
    "    \n",
    "    \n",
    "</div>    "
   ]
  }
 ],
 "metadata": {
  "ExecuteTimeLog": [
   {
    "duration": 798,
    "start_time": "2023-04-08T07:59:11.680Z"
   },
   {
    "duration": 10727,
    "start_time": "2023-04-08T07:59:12.482Z"
   },
   {
    "duration": 4,
    "start_time": "2023-04-08T07:59:23.212Z"
   },
   {
    "duration": 637,
    "start_time": "2023-04-08T07:59:23.219Z"
   },
   {
    "duration": 179,
    "start_time": "2023-04-08T07:59:23.858Z"
   },
   {
    "duration": 93,
    "start_time": "2023-04-08T07:59:24.039Z"
   },
   {
    "duration": 84,
    "start_time": "2023-04-08T07:59:24.133Z"
   },
   {
    "duration": 81,
    "start_time": "2023-04-08T07:59:24.219Z"
   },
   {
    "duration": 85,
    "start_time": "2023-04-08T07:59:24.302Z"
   },
   {
    "duration": 83,
    "start_time": "2023-04-08T07:59:24.390Z"
   },
   {
    "duration": 80,
    "start_time": "2023-04-08T07:59:24.475Z"
   },
   {
    "duration": 102,
    "start_time": "2023-04-08T07:59:24.562Z"
   },
   {
    "duration": 92,
    "start_time": "2023-04-08T07:59:24.666Z"
   },
   {
    "duration": 84,
    "start_time": "2023-04-08T07:59:24.759Z"
   },
   {
    "duration": 98,
    "start_time": "2023-04-08T07:59:24.845Z"
   },
   {
    "duration": 84,
    "start_time": "2023-04-08T07:59:24.945Z"
   },
   {
    "duration": 86,
    "start_time": "2023-04-08T07:59:25.031Z"
   },
   {
    "duration": 83,
    "start_time": "2023-04-08T07:59:25.119Z"
   },
   {
    "duration": 97,
    "start_time": "2023-04-08T07:59:25.204Z"
   },
   {
    "duration": 80,
    "start_time": "2023-04-08T07:59:25.305Z"
   },
   {
    "duration": 82,
    "start_time": "2023-04-08T07:59:25.391Z"
   },
   {
    "duration": 85,
    "start_time": "2023-04-08T07:59:25.475Z"
   },
   {
    "duration": 91,
    "start_time": "2023-04-08T07:59:25.562Z"
   },
   {
    "duration": 130,
    "start_time": "2023-04-08T07:59:25.655Z"
   },
   {
    "duration": 206,
    "start_time": "2023-04-08T07:59:25.787Z"
   },
   {
    "duration": 146,
    "start_time": "2023-04-08T07:59:59.220Z"
   },
   {
    "duration": 122,
    "start_time": "2023-04-08T08:00:04.881Z"
   },
   {
    "duration": 114,
    "start_time": "2023-04-08T08:00:12.457Z"
   },
   {
    "duration": 126,
    "start_time": "2023-04-08T08:00:15.737Z"
   },
   {
    "duration": 127,
    "start_time": "2023-04-08T08:00:28.892Z"
   },
   {
    "duration": 318,
    "start_time": "2023-04-08T08:03:40.732Z"
   },
   {
    "duration": 82,
    "start_time": "2023-04-08T08:03:53.266Z"
   },
   {
    "duration": 81,
    "start_time": "2023-04-08T08:03:56.880Z"
   },
   {
    "duration": 595,
    "start_time": "2023-04-08T08:10:07.389Z"
   },
   {
    "duration": 19915,
    "start_time": "2023-04-08T08:10:07.987Z"
   },
   {
    "duration": 4,
    "start_time": "2023-04-08T08:10:27.905Z"
   },
   {
    "duration": 600,
    "start_time": "2023-04-08T08:10:27.912Z"
   },
   {
    "duration": 164,
    "start_time": "2023-04-08T08:10:28.514Z"
   },
   {
    "duration": 77,
    "start_time": "2023-04-08T08:10:28.680Z"
   },
   {
    "duration": 76,
    "start_time": "2023-04-08T08:10:28.759Z"
   },
   {
    "duration": 77,
    "start_time": "2023-04-08T08:10:28.837Z"
   },
   {
    "duration": 81,
    "start_time": "2023-04-08T08:10:28.917Z"
   },
   {
    "duration": 81,
    "start_time": "2023-04-08T08:10:29.001Z"
   },
   {
    "duration": 81,
    "start_time": "2023-04-08T08:10:29.085Z"
   },
   {
    "duration": 86,
    "start_time": "2023-04-08T08:10:29.168Z"
   },
   {
    "duration": 92,
    "start_time": "2023-04-08T08:10:29.256Z"
   },
   {
    "duration": 95,
    "start_time": "2023-04-08T08:10:29.350Z"
   },
   {
    "duration": 101,
    "start_time": "2023-04-08T08:10:29.447Z"
   },
   {
    "duration": 96,
    "start_time": "2023-04-08T08:10:29.550Z"
   },
   {
    "duration": 119,
    "start_time": "2023-04-08T08:10:29.648Z"
   },
   {
    "duration": 91,
    "start_time": "2023-04-08T08:10:29.769Z"
   },
   {
    "duration": 101,
    "start_time": "2023-04-08T08:10:29.862Z"
   },
   {
    "duration": 95,
    "start_time": "2023-04-08T08:10:29.969Z"
   },
   {
    "duration": 82,
    "start_time": "2023-04-08T08:10:30.069Z"
   },
   {
    "duration": 80,
    "start_time": "2023-04-08T08:10:30.153Z"
   },
   {
    "duration": 78,
    "start_time": "2023-04-08T08:10:30.235Z"
   },
   {
    "duration": 113,
    "start_time": "2023-04-08T08:10:30.315Z"
   },
   {
    "duration": 82,
    "start_time": "2023-04-08T08:10:30.430Z"
   },
   {
    "duration": 80,
    "start_time": "2023-04-08T08:10:30.514Z"
   },
   {
    "duration": 95,
    "start_time": "2023-04-08T08:10:30.596Z"
   },
   {
    "duration": 100,
    "start_time": "2023-04-08T08:10:30.695Z"
   },
   {
    "duration": 211,
    "start_time": "2023-04-08T08:10:30.797Z"
   },
   {
    "duration": 84,
    "start_time": "2023-04-08T08:10:31.010Z"
   },
   {
    "duration": 638,
    "start_time": "2023-04-08T15:12:41.305Z"
   },
   {
    "duration": 20392,
    "start_time": "2023-04-08T15:12:42.962Z"
   },
   {
    "duration": 5,
    "start_time": "2023-04-08T15:13:03.356Z"
   },
   {
    "duration": 677,
    "start_time": "2023-04-08T15:13:03.362Z"
   },
   {
    "duration": 97,
    "start_time": "2023-04-08T15:13:13.981Z"
   },
   {
    "duration": 107,
    "start_time": "2023-04-08T15:13:21.742Z"
   },
   {
    "duration": 171,
    "start_time": "2023-04-08T15:16:26.177Z"
   },
   {
    "duration": 83,
    "start_time": "2023-04-08T15:22:38.262Z"
   },
   {
    "duration": 113,
    "start_time": "2023-04-08T15:22:42.598Z"
   },
   {
    "duration": 85,
    "start_time": "2023-04-08T15:23:35.598Z"
   },
   {
    "duration": 85,
    "start_time": "2023-04-08T15:24:13.810Z"
   },
   {
    "duration": 81,
    "start_time": "2023-04-08T15:26:33.222Z"
   },
   {
    "duration": 87,
    "start_time": "2023-04-08T15:27:08.750Z"
   },
   {
    "duration": 87,
    "start_time": "2023-04-08T15:28:35.990Z"
   },
   {
    "duration": 88,
    "start_time": "2023-04-08T15:29:35.118Z"
   },
   {
    "duration": 82,
    "start_time": "2023-04-08T15:30:24.507Z"
   },
   {
    "duration": 80,
    "start_time": "2023-04-08T15:30:44.437Z"
   },
   {
    "duration": 91,
    "start_time": "2023-04-08T15:31:38.452Z"
   },
   {
    "duration": 85,
    "start_time": "2023-04-08T15:31:56.912Z"
   },
   {
    "duration": 292,
    "start_time": "2023-04-08T15:34:00.609Z"
   },
   {
    "duration": 174,
    "start_time": "2023-04-08T15:34:36.879Z"
   },
   {
    "duration": 204,
    "start_time": "2023-04-08T15:35:21.126Z"
   },
   {
    "duration": 86,
    "start_time": "2023-04-08T15:36:08.357Z"
   },
   {
    "duration": 574,
    "start_time": "2023-04-08T15:50:26.508Z"
   },
   {
    "duration": 12819,
    "start_time": "2023-04-08T15:50:27.084Z"
   },
   {
    "duration": 4,
    "start_time": "2023-04-08T15:50:39.905Z"
   },
   {
    "duration": 641,
    "start_time": "2023-04-08T15:50:39.911Z"
   },
   {
    "duration": 207,
    "start_time": "2023-04-08T15:50:40.555Z"
   },
   {
    "duration": 92,
    "start_time": "2023-04-08T15:50:40.765Z"
   },
   {
    "duration": 90,
    "start_time": "2023-04-08T15:50:40.859Z"
   },
   {
    "duration": 102,
    "start_time": "2023-04-08T15:50:40.951Z"
   },
   {
    "duration": 93,
    "start_time": "2023-04-08T15:50:41.055Z"
   },
   {
    "duration": 91,
    "start_time": "2023-04-08T15:50:41.150Z"
   },
   {
    "duration": 92,
    "start_time": "2023-04-08T15:50:41.242Z"
   },
   {
    "duration": 90,
    "start_time": "2023-04-08T15:50:41.335Z"
   },
   {
    "duration": 90,
    "start_time": "2023-04-08T15:50:41.428Z"
   },
   {
    "duration": 83,
    "start_time": "2023-04-08T15:50:41.521Z"
   },
   {
    "duration": 83,
    "start_time": "2023-04-08T15:50:41.606Z"
   },
   {
    "duration": 79,
    "start_time": "2023-04-08T15:50:41.692Z"
   },
   {
    "duration": 98,
    "start_time": "2023-04-08T15:50:41.774Z"
   },
   {
    "duration": 102,
    "start_time": "2023-04-08T15:50:41.874Z"
   },
   {
    "duration": 89,
    "start_time": "2023-04-08T15:50:41.978Z"
   },
   {
    "duration": 99,
    "start_time": "2023-04-08T15:50:42.068Z"
   },
   {
    "duration": 95,
    "start_time": "2023-04-08T15:50:42.169Z"
   },
   {
    "duration": 95,
    "start_time": "2023-04-08T15:50:42.266Z"
   },
   {
    "duration": 95,
    "start_time": "2023-04-08T15:50:42.363Z"
   },
   {
    "duration": 124,
    "start_time": "2023-04-08T15:50:42.460Z"
   },
   {
    "duration": 86,
    "start_time": "2023-04-08T15:50:42.586Z"
   },
   {
    "duration": 91,
    "start_time": "2023-04-08T15:50:42.673Z"
   },
   {
    "duration": 92,
    "start_time": "2023-04-08T15:50:42.766Z"
   },
   {
    "duration": 97,
    "start_time": "2023-04-08T15:50:42.860Z"
   },
   {
    "duration": 80,
    "start_time": "2023-04-08T15:50:42.959Z"
   },
   {
    "duration": 84,
    "start_time": "2023-04-08T15:50:43.041Z"
   },
   {
    "duration": 82,
    "start_time": "2023-04-08T15:56:29.258Z"
   },
   {
    "duration": 89,
    "start_time": "2023-04-08T15:56:32.777Z"
   },
   {
    "duration": 558,
    "start_time": "2023-04-08T15:56:44.085Z"
   },
   {
    "duration": 8815,
    "start_time": "2023-04-08T15:56:44.645Z"
   },
   {
    "duration": 4,
    "start_time": "2023-04-08T15:56:53.462Z"
   },
   {
    "duration": 566,
    "start_time": "2023-04-08T15:56:53.468Z"
   },
   {
    "duration": 166,
    "start_time": "2023-04-08T15:56:54.036Z"
   },
   {
    "duration": 75,
    "start_time": "2023-04-08T15:56:54.204Z"
   },
   {
    "duration": 80,
    "start_time": "2023-04-08T15:56:54.281Z"
   },
   {
    "duration": 87,
    "start_time": "2023-04-08T15:56:54.362Z"
   },
   {
    "duration": 91,
    "start_time": "2023-04-08T15:56:54.451Z"
   },
   {
    "duration": 84,
    "start_time": "2023-04-08T15:56:54.543Z"
   },
   {
    "duration": 85,
    "start_time": "2023-04-08T15:56:54.629Z"
   },
   {
    "duration": 84,
    "start_time": "2023-04-08T15:56:54.716Z"
   },
   {
    "duration": 77,
    "start_time": "2023-04-08T15:56:54.802Z"
   },
   {
    "duration": 91,
    "start_time": "2023-04-08T15:56:54.882Z"
   },
   {
    "duration": 85,
    "start_time": "2023-04-08T15:56:54.975Z"
   },
   {
    "duration": 78,
    "start_time": "2023-04-08T15:56:55.062Z"
   },
   {
    "duration": 78,
    "start_time": "2023-04-08T15:56:55.141Z"
   },
   {
    "duration": 77,
    "start_time": "2023-04-08T15:56:55.221Z"
   },
   {
    "duration": 76,
    "start_time": "2023-04-08T15:56:55.300Z"
   },
   {
    "duration": 82,
    "start_time": "2023-04-08T15:56:55.378Z"
   },
   {
    "duration": 80,
    "start_time": "2023-04-08T15:56:55.462Z"
   },
   {
    "duration": 83,
    "start_time": "2023-04-08T15:56:55.544Z"
   },
   {
    "duration": 85,
    "start_time": "2023-04-08T15:56:55.629Z"
   },
   {
    "duration": 117,
    "start_time": "2023-04-08T15:56:55.716Z"
   },
   {
    "duration": 80,
    "start_time": "2023-04-08T15:56:55.835Z"
   },
   {
    "duration": 84,
    "start_time": "2023-04-08T15:56:55.917Z"
   },
   {
    "duration": 78,
    "start_time": "2023-04-08T15:56:56.002Z"
   },
   {
    "duration": 83,
    "start_time": "2023-04-08T15:56:56.082Z"
   },
   {
    "duration": 85,
    "start_time": "2023-04-08T15:56:56.167Z"
   },
   {
    "duration": 87,
    "start_time": "2023-04-08T15:56:56.254Z"
   },
   {
    "duration": 285,
    "start_time": "2023-04-08T15:58:38.974Z"
   },
   {
    "duration": 116,
    "start_time": "2023-04-08T16:02:52.199Z"
   },
   {
    "duration": 122,
    "start_time": "2023-04-08T16:03:23.904Z"
   },
   {
    "duration": 140,
    "start_time": "2023-04-08T16:04:40.275Z"
   },
   {
    "duration": 120,
    "start_time": "2023-04-08T16:05:46.909Z"
   },
   {
    "duration": 125,
    "start_time": "2023-04-08T16:07:15.145Z"
   },
   {
    "duration": 130,
    "start_time": "2023-04-08T16:08:11.568Z"
   },
   {
    "duration": 279,
    "start_time": "2023-04-08T16:13:59.185Z"
   },
   {
    "duration": 262,
    "start_time": "2023-04-08T16:14:37.885Z"
   },
   {
    "duration": 315,
    "start_time": "2023-04-08T16:14:43.344Z"
   },
   {
    "duration": 98,
    "start_time": "2023-04-08T16:16:04.037Z"
   },
   {
    "duration": 255,
    "start_time": "2023-04-08T16:16:28.619Z"
   },
   {
    "duration": 156,
    "start_time": "2023-04-08T16:17:47.472Z"
   },
   {
    "duration": 256,
    "start_time": "2023-04-08T16:20:04.547Z"
   },
   {
    "duration": 96,
    "start_time": "2023-04-08T16:21:50.618Z"
   },
   {
    "duration": 187,
    "start_time": "2023-04-08T16:22:29.817Z"
   },
   {
    "duration": 121,
    "start_time": "2023-04-08T16:22:34.610Z"
   },
   {
    "duration": 179,
    "start_time": "2023-04-08T16:35:28.884Z"
   },
   {
    "duration": 207,
    "start_time": "2023-04-08T16:35:46.528Z"
   },
   {
    "duration": 170,
    "start_time": "2023-04-08T16:35:56.899Z"
   },
   {
    "duration": 121,
    "start_time": "2023-04-08T16:36:48.918Z"
   },
   {
    "duration": 130,
    "start_time": "2023-04-08T16:37:15.925Z"
   },
   {
    "duration": 545,
    "start_time": "2023-04-08T16:45:19.401Z"
   },
   {
    "duration": 9872,
    "start_time": "2023-04-08T16:45:19.948Z"
   },
   {
    "duration": 3,
    "start_time": "2023-04-08T16:45:29.822Z"
   },
   {
    "duration": 610,
    "start_time": "2023-04-08T16:45:29.826Z"
   },
   {
    "duration": 181,
    "start_time": "2023-04-08T16:45:30.439Z"
   },
   {
    "duration": 92,
    "start_time": "2023-04-08T16:45:30.622Z"
   },
   {
    "duration": 79,
    "start_time": "2023-04-08T16:45:30.717Z"
   },
   {
    "duration": 103,
    "start_time": "2023-04-08T16:45:30.798Z"
   },
   {
    "duration": 90,
    "start_time": "2023-04-08T16:45:30.903Z"
   },
   {
    "duration": 82,
    "start_time": "2023-04-08T16:45:30.994Z"
   },
   {
    "duration": 89,
    "start_time": "2023-04-08T16:45:31.078Z"
   },
   {
    "duration": 90,
    "start_time": "2023-04-08T16:45:31.169Z"
   },
   {
    "duration": 89,
    "start_time": "2023-04-08T16:45:31.261Z"
   },
   {
    "duration": 94,
    "start_time": "2023-04-08T16:45:31.354Z"
   },
   {
    "duration": 86,
    "start_time": "2023-04-08T16:45:31.451Z"
   },
   {
    "duration": 84,
    "start_time": "2023-04-08T16:45:31.539Z"
   },
   {
    "duration": 84,
    "start_time": "2023-04-08T16:45:31.625Z"
   },
   {
    "duration": 83,
    "start_time": "2023-04-08T16:45:31.711Z"
   },
   {
    "duration": 81,
    "start_time": "2023-04-08T16:45:31.802Z"
   },
   {
    "duration": 84,
    "start_time": "2023-04-08T16:45:31.885Z"
   },
   {
    "duration": 83,
    "start_time": "2023-04-08T16:45:31.972Z"
   },
   {
    "duration": 82,
    "start_time": "2023-04-08T16:45:32.057Z"
   },
   {
    "duration": 82,
    "start_time": "2023-04-08T16:45:32.140Z"
   },
   {
    "duration": 115,
    "start_time": "2023-04-08T16:45:32.224Z"
   },
   {
    "duration": 103,
    "start_time": "2023-04-08T16:45:32.340Z"
   },
   {
    "duration": 78,
    "start_time": "2023-04-08T16:45:32.445Z"
   },
   {
    "duration": 85,
    "start_time": "2023-04-08T16:45:32.525Z"
   },
   {
    "duration": 81,
    "start_time": "2023-04-08T16:45:32.611Z"
   },
   {
    "duration": 103,
    "start_time": "2023-04-08T16:45:32.694Z"
   },
   {
    "duration": 78,
    "start_time": "2023-04-08T16:45:32.801Z"
   },
   {
    "duration": 83,
    "start_time": "2023-04-08T16:45:32.881Z"
   }
  ],
  "kernelspec": {
   "display_name": "Python 3 (ipykernel)",
   "language": "python",
   "name": "python3"
  },
  "language_info": {
   "codemirror_mode": {
    "name": "ipython",
    "version": 3
   },
   "file_extension": ".py",
   "mimetype": "text/x-python",
   "name": "python",
   "nbconvert_exporter": "python",
   "pygments_lexer": "ipython3",
   "version": "3.9.12"
  },
  "toc": {
   "base_numbering": 1,
   "nav_menu": {},
   "number_sections": true,
   "sideBar": true,
   "skip_h1_title": true,
   "title_cell": "Table of Contents",
   "title_sidebar": "Contents",
   "toc_cell": false,
   "toc_position": {},
   "toc_section_display": true,
   "toc_window_display": false
  }
 },
 "nbformat": 4,
 "nbformat_minor": 5
}
