{
 "cells": [
  {
   "cell_type": "markdown",
   "metadata": {},
   "source": [
    "# Принятие решений в бизнесе"
   ]
  },
  {
   "cell_type": "markdown",
   "metadata": {},
   "source": [
    "# Цель проекта: "
   ]
  },
  {
   "cell_type": "markdown",
   "metadata": {},
   "source": [
    "Часть 1. Приоритизировать составленный с отделом маркетинга список гипотез для увеличения прибыли интернет-магазина согласно фреймворку  ICE и RICE.\n",
    "\n",
    "Список гипотез содержится в файле hypothesis.csv.\n",
    "Описание данных:\n",
    "- Hypothesis — краткое описание гипотезы;\n",
    "- Reach — охват пользователей по 10-балльной шкале;\n",
    "- Impact — влияние на пользователей по 10-балльной шкале;\n",
    "- Confidence — уверенность в гипотезе по 10-балльной шкале;\n",
    "- Efforts — затраты ресурсов на проверку гипотезы по 10-балльной шкале. Чем больше значение Efforts, тем дороже проверка гипотезы\n",
    "\n",
    "Часть 2. Проанализировать результаты проведенного А/В теста\n",
    "- Выполнить предобработку данных\n",
    "- Рассчитать кумулятивные метрики\n",
    "- Построить графики кумулятивной выручки по группам, среднего чека, среднего количества заказов на пользователя по группам, а также графики относительного изменения данных метрик у группы В к группе А. \n",
    "- Провести анализ выбросов в данных\n",
    "- Определить, существует ли статистически значимые различия в метриках по группам А/В теста (как по сырым, так и по отфильтрованным данным). \n",
    "- Сделать соответствующие выводы о необходимости остановки или дальнейшего продолжения эксперимента.\n",
    "\n",
    "Описание данных:\n",
    "\n",
    "Информация о заказах содержится в таблице orders.csv, где\n",
    "- transactionId — идентификатор заказа;\n",
    "- visitorId — идентификатор пользователя, совершившего заказ;\n",
    "- date — дата, когда был совершён заказ;\n",
    "- revenue — выручка заказа;\n",
    "- group — группа A/B-теста, в которую попал заказ\n",
    "\n",
    "Информация о посетителях интернет-магазина содержится в таблице visitors.csv, где\n",
    "- date — дата;\n",
    "- group — группа A/B-теста;\n",
    "- visitors — количество пользователей в указанную дату в указанной группе A/B-теста"
   ]
  },
  {
   "cell_type": "markdown",
   "metadata": {},
   "source": [
    "### Приоритизация гипотез "
   ]
  },
  {
   "cell_type": "code",
   "execution_count": 1,
   "metadata": {},
   "outputs": [],
   "source": [
    "#загружаем все необходимые библиотеки\n",
    "import pandas as pd\n",
    "import datetime as dt\n",
    "import numpy as np\n",
    "import matplotlib.pyplot as plt\n",
    "from pandas.plotting import register_matplotlib_converters\n",
    "import warnings\n",
    "import scipy.stats as stats\n",
    "# конвертеры, которые позволяют использовать типы pandas в matplotlib  \n",
    "register_matplotlib_converters()"
   ]
  },
  {
   "cell_type": "code",
   "execution_count": 2,
   "metadata": {},
   "outputs": [],
   "source": [
    "#читаем и записываем данные о гипотезах в переменную\n",
    "try:\n",
    "    hypothesis = pd.read_csv('/datasets/hypothesis.csv', sep=',')\n",
    "except:\n",
    "    hypothesis = pd.read_csv('https://code.s3.yandex.net/datasets/hypothesis.csv', sep=',')\n",
    "    "
   ]
  },
  {
   "cell_type": "code",
   "execution_count": 3,
   "metadata": {},
   "outputs": [
    {
     "data": {
      "text/html": [
       "<div>\n",
       "<style scoped>\n",
       "    .dataframe tbody tr th:only-of-type {\n",
       "        vertical-align: middle;\n",
       "    }\n",
       "\n",
       "    .dataframe tbody tr th {\n",
       "        vertical-align: top;\n",
       "    }\n",
       "\n",
       "    .dataframe thead th {\n",
       "        text-align: right;\n",
       "    }\n",
       "</style>\n",
       "<table border=\"1\" class=\"dataframe\">\n",
       "  <thead>\n",
       "    <tr style=\"text-align: right;\">\n",
       "      <th></th>\n",
       "      <th>Hypothesis</th>\n",
       "      <th>Reach</th>\n",
       "      <th>Impact</th>\n",
       "      <th>Confidence</th>\n",
       "      <th>Efforts</th>\n",
       "    </tr>\n",
       "  </thead>\n",
       "  <tbody>\n",
       "    <tr>\n",
       "      <th>0</th>\n",
       "      <td>Добавить два новых канала привлечения трафика,...</td>\n",
       "      <td>3</td>\n",
       "      <td>10</td>\n",
       "      <td>8</td>\n",
       "      <td>6</td>\n",
       "    </tr>\n",
       "    <tr>\n",
       "      <th>1</th>\n",
       "      <td>Запустить собственную службу доставки, что сок...</td>\n",
       "      <td>2</td>\n",
       "      <td>5</td>\n",
       "      <td>4</td>\n",
       "      <td>10</td>\n",
       "    </tr>\n",
       "    <tr>\n",
       "      <th>2</th>\n",
       "      <td>Добавить блоки рекомендаций товаров на сайт ин...</td>\n",
       "      <td>8</td>\n",
       "      <td>3</td>\n",
       "      <td>7</td>\n",
       "      <td>3</td>\n",
       "    </tr>\n",
       "    <tr>\n",
       "      <th>3</th>\n",
       "      <td>Изменить структура категорий, что увеличит кон...</td>\n",
       "      <td>8</td>\n",
       "      <td>3</td>\n",
       "      <td>3</td>\n",
       "      <td>8</td>\n",
       "    </tr>\n",
       "    <tr>\n",
       "      <th>4</th>\n",
       "      <td>Изменить цвет фона главной страницы, чтобы уве...</td>\n",
       "      <td>3</td>\n",
       "      <td>1</td>\n",
       "      <td>1</td>\n",
       "      <td>1</td>\n",
       "    </tr>\n",
       "  </tbody>\n",
       "</table>\n",
       "</div>"
      ],
      "text/plain": [
       "                                          Hypothesis  Reach  Impact  \\\n",
       "0  Добавить два новых канала привлечения трафика,...      3      10   \n",
       "1  Запустить собственную службу доставки, что сок...      2       5   \n",
       "2  Добавить блоки рекомендаций товаров на сайт ин...      8       3   \n",
       "3  Изменить структура категорий, что увеличит кон...      8       3   \n",
       "4  Изменить цвет фона главной страницы, чтобы уве...      3       1   \n",
       "\n",
       "   Confidence  Efforts  \n",
       "0           8        6  \n",
       "1           4       10  \n",
       "2           7        3  \n",
       "3           3        8  \n",
       "4           1        1  "
      ]
     },
     "metadata": {},
     "output_type": "display_data"
    }
   ],
   "source": [
    "#посмотрим, как выглядит датафрейм\n",
    "display(hypothesis.head(5))\n",
    "pd.options.display.max_colwidth = 130"
   ]
  },
  {
   "cell_type": "markdown",
   "metadata": {},
   "source": [
    "Приведем к нижнему регистру названия столбцов:"
   ]
  },
  {
   "cell_type": "code",
   "execution_count": 4,
   "metadata": {},
   "outputs": [],
   "source": [
    "hypothesis.columns = hypothesis.columns.str.lower()"
   ]
  },
  {
   "cell_type": "markdown",
   "metadata": {},
   "source": [
    "*ICE (влияние, уверенность, усилия) — один из самых популярных\n",
    "способов приоритизации задач.*\n",
    "\n",
    "**ICE score = (Impact x Confidence) / Efforts**\n",
    "\n",
    "*У этого метода есть модификация RICE (влияние, уверенность, усилия,\n",
    "охват):*\n",
    "\n",
    "**RICE score = (Reach x Impact x Confidence) / Efforts**\n",
    "\n",
    "*Фреймворк RICE состоит из четырёх компонент:*\n",
    "\n",
    "*- Reach — скольких пользователей затронет изменение, которое вы хотите внести;*\n",
    "\n",
    "*- Impact — насколько сильно изменение повлияет на пользователей, их опыт и удовлетворение от продукта;*\n",
    "\n",
    "*- Confidence — насколько вы уверены, что это изменение повлияет напользователей именно так;*\n",
    "\n",
    "*- Efforts — сколько стоит протестировать эту гипотезу*\n",
    "\n",
    "*Параметры фреймворков ICE и RICE оценивают в удобных шкалах: например, от 0 до 10.*"
   ]
  },
  {
   "cell_type": "markdown",
   "metadata": {},
   "source": [
    "Выполним приоритезацию гипотез на основе фреймворка ICE:"
   ]
  },
  {
   "cell_type": "code",
   "execution_count": 5,
   "metadata": {
    "scrolled": true
   },
   "outputs": [
    {
     "data": {
      "text/html": [
       "<div>\n",
       "<style scoped>\n",
       "    .dataframe tbody tr th:only-of-type {\n",
       "        vertical-align: middle;\n",
       "    }\n",
       "\n",
       "    .dataframe tbody tr th {\n",
       "        vertical-align: top;\n",
       "    }\n",
       "\n",
       "    .dataframe thead th {\n",
       "        text-align: right;\n",
       "    }\n",
       "</style>\n",
       "<table border=\"1\" class=\"dataframe\">\n",
       "  <thead>\n",
       "    <tr style=\"text-align: right;\">\n",
       "      <th></th>\n",
       "      <th>hypothesis</th>\n",
       "      <th>ICE</th>\n",
       "    </tr>\n",
       "  </thead>\n",
       "  <tbody>\n",
       "    <tr>\n",
       "      <th>8</th>\n",
       "      <td>Запустить акцию, дающую скидку на товар в день рождения</td>\n",
       "      <td>16.20</td>\n",
       "    </tr>\n",
       "    <tr>\n",
       "      <th>0</th>\n",
       "      <td>Добавить два новых канала привлечения трафика, что позволит привлекать на 30% больше пользователей</td>\n",
       "      <td>13.33</td>\n",
       "    </tr>\n",
       "    <tr>\n",
       "      <th>7</th>\n",
       "      <td>Добавить форму подписки на все основные страницы, чтобы собрать базу клиентов для email-рассылок</td>\n",
       "      <td>11.20</td>\n",
       "    </tr>\n",
       "    <tr>\n",
       "      <th>6</th>\n",
       "      <td>Показать на главной странице баннеры с актуальными акциями и распродажами, чтобы увеличить конверсию</td>\n",
       "      <td>8.00</td>\n",
       "    </tr>\n",
       "    <tr>\n",
       "      <th>2</th>\n",
       "      <td>Добавить блоки рекомендаций товаров на сайт интернет магазина, чтобы повысить конверсию и средний чек заказа</td>\n",
       "      <td>7.00</td>\n",
       "    </tr>\n",
       "    <tr>\n",
       "      <th>1</th>\n",
       "      <td>Запустить собственную службу доставки, что сократит срок доставки заказов</td>\n",
       "      <td>2.00</td>\n",
       "    </tr>\n",
       "    <tr>\n",
       "      <th>5</th>\n",
       "      <td>Добавить страницу отзывов клиентов о магазине, что позволит увеличить количество заказов</td>\n",
       "      <td>1.33</td>\n",
       "    </tr>\n",
       "    <tr>\n",
       "      <th>3</th>\n",
       "      <td>Изменить структура категорий, что увеличит конверсию, т.к. пользователи быстрее найдут нужный товар</td>\n",
       "      <td>1.12</td>\n",
       "    </tr>\n",
       "    <tr>\n",
       "      <th>4</th>\n",
       "      <td>Изменить цвет фона главной страницы, чтобы увеличить вовлеченность пользователей</td>\n",
       "      <td>1.00</td>\n",
       "    </tr>\n",
       "  </tbody>\n",
       "</table>\n",
       "</div>"
      ],
      "text/plain": [
       "                                                                                                     hypothesis  \\\n",
       "8                                                       Запустить акцию, дающую скидку на товар в день рождения   \n",
       "0            Добавить два новых канала привлечения трафика, что позволит привлекать на 30% больше пользователей   \n",
       "7              Добавить форму подписки на все основные страницы, чтобы собрать базу клиентов для email-рассылок   \n",
       "6          Показать на главной странице баннеры с актуальными акциями и распродажами, чтобы увеличить конверсию   \n",
       "2  Добавить блоки рекомендаций товаров на сайт интернет магазина, чтобы повысить конверсию и средний чек заказа   \n",
       "1                                     Запустить собственную службу доставки, что сократит срок доставки заказов   \n",
       "5                      Добавить страницу отзывов клиентов о магазине, что позволит увеличить количество заказов   \n",
       "3           Изменить структура категорий, что увеличит конверсию, т.к. пользователи быстрее найдут нужный товар   \n",
       "4                              Изменить цвет фона главной страницы, чтобы увеличить вовлеченность пользователей   \n",
       "\n",
       "     ICE  \n",
       "8  16.20  \n",
       "0  13.33  \n",
       "7  11.20  \n",
       "6   8.00  \n",
       "2   7.00  \n",
       "1   2.00  \n",
       "5   1.33  \n",
       "3   1.12  \n",
       "4   1.00  "
      ]
     },
     "metadata": {},
     "output_type": "display_data"
    }
   ],
   "source": [
    "#применим фреймворк ICE для приоритизации гипотез\n",
    "hypothesis['ICE'] = (hypothesis['impact'] * hypothesis['confidence']) / hypothesis['efforts']\n",
    "display(round(hypothesis[['hypothesis', 'ICE']], 2).sort_values(by = 'ICE', ascending = False))"
   ]
  },
  {
   "cell_type": "markdown",
   "metadata": {},
   "source": [
    "Выполним приоритезацию гипотез на основе фреймворка RICE:"
   ]
  },
  {
   "cell_type": "code",
   "execution_count": 6,
   "metadata": {},
   "outputs": [
    {
     "data": {
      "text/html": [
       "<div>\n",
       "<style scoped>\n",
       "    .dataframe tbody tr th:only-of-type {\n",
       "        vertical-align: middle;\n",
       "    }\n",
       "\n",
       "    .dataframe tbody tr th {\n",
       "        vertical-align: top;\n",
       "    }\n",
       "\n",
       "    .dataframe thead th {\n",
       "        text-align: right;\n",
       "    }\n",
       "</style>\n",
       "<table border=\"1\" class=\"dataframe\">\n",
       "  <thead>\n",
       "    <tr style=\"text-align: right;\">\n",
       "      <th></th>\n",
       "      <th>hypothesis</th>\n",
       "      <th>RICE</th>\n",
       "    </tr>\n",
       "  </thead>\n",
       "  <tbody>\n",
       "    <tr>\n",
       "      <th>7</th>\n",
       "      <td>Добавить форму подписки на все основные страницы, чтобы собрать базу клиентов для email-рассылок</td>\n",
       "      <td>112.0</td>\n",
       "    </tr>\n",
       "    <tr>\n",
       "      <th>2</th>\n",
       "      <td>Добавить блоки рекомендаций товаров на сайт интернет магазина, чтобы повысить конверсию и средний чек заказа</td>\n",
       "      <td>56.0</td>\n",
       "    </tr>\n",
       "    <tr>\n",
       "      <th>0</th>\n",
       "      <td>Добавить два новых канала привлечения трафика, что позволит привлекать на 30% больше пользователей</td>\n",
       "      <td>40.0</td>\n",
       "    </tr>\n",
       "    <tr>\n",
       "      <th>6</th>\n",
       "      <td>Показать на главной странице баннеры с актуальными акциями и распродажами, чтобы увеличить конверсию</td>\n",
       "      <td>40.0</td>\n",
       "    </tr>\n",
       "    <tr>\n",
       "      <th>8</th>\n",
       "      <td>Запустить акцию, дающую скидку на товар в день рождения</td>\n",
       "      <td>16.2</td>\n",
       "    </tr>\n",
       "    <tr>\n",
       "      <th>3</th>\n",
       "      <td>Изменить структура категорий, что увеличит конверсию, т.к. пользователи быстрее найдут нужный товар</td>\n",
       "      <td>9.0</td>\n",
       "    </tr>\n",
       "    <tr>\n",
       "      <th>1</th>\n",
       "      <td>Запустить собственную службу доставки, что сократит срок доставки заказов</td>\n",
       "      <td>4.0</td>\n",
       "    </tr>\n",
       "    <tr>\n",
       "      <th>5</th>\n",
       "      <td>Добавить страницу отзывов клиентов о магазине, что позволит увеличить количество заказов</td>\n",
       "      <td>4.0</td>\n",
       "    </tr>\n",
       "    <tr>\n",
       "      <th>4</th>\n",
       "      <td>Изменить цвет фона главной страницы, чтобы увеличить вовлеченность пользователей</td>\n",
       "      <td>3.0</td>\n",
       "    </tr>\n",
       "  </tbody>\n",
       "</table>\n",
       "</div>"
      ],
      "text/plain": [
       "                                                                                                     hypothesis  \\\n",
       "7              Добавить форму подписки на все основные страницы, чтобы собрать базу клиентов для email-рассылок   \n",
       "2  Добавить блоки рекомендаций товаров на сайт интернет магазина, чтобы повысить конверсию и средний чек заказа   \n",
       "0            Добавить два новых канала привлечения трафика, что позволит привлекать на 30% больше пользователей   \n",
       "6          Показать на главной странице баннеры с актуальными акциями и распродажами, чтобы увеличить конверсию   \n",
       "8                                                       Запустить акцию, дающую скидку на товар в день рождения   \n",
       "3           Изменить структура категорий, что увеличит конверсию, т.к. пользователи быстрее найдут нужный товар   \n",
       "1                                     Запустить собственную службу доставки, что сократит срок доставки заказов   \n",
       "5                      Добавить страницу отзывов клиентов о магазине, что позволит увеличить количество заказов   \n",
       "4                              Изменить цвет фона главной страницы, чтобы увеличить вовлеченность пользователей   \n",
       "\n",
       "    RICE  \n",
       "7  112.0  \n",
       "2   56.0  \n",
       "0   40.0  \n",
       "6   40.0  \n",
       "8   16.2  \n",
       "3    9.0  \n",
       "1    4.0  \n",
       "5    4.0  \n",
       "4    3.0  "
      ]
     },
     "metadata": {},
     "output_type": "display_data"
    }
   ],
   "source": [
    "#применим фреймворк RICE для приоритизации гипотез\n",
    "hypothesis['RICE'] = (hypothesis['reach'] * hypothesis['impact'] * hypothesis['confidence']) / hypothesis['efforts']\n",
    "display(round(hypothesis[['hypothesis', 'RICE']], 2).sort_values(by = 'RICE', ascending = False))"
   ]
  },
  {
   "cell_type": "markdown",
   "metadata": {},
   "source": [
    "Результаты применения ICE и RICE различаются. В первом фреймворке лидируют гипотезы, имеющие низкий показатель охвата (вовлеченности) пользователей reach, но с высоким уровнем impact (степень влияния изменения на охваченных пользователей) и уверенности в правильной оценке показателей confidence. \n",
    "Лидеры среди гипотез по оценке RICE имеют больший охват пользователей.\n",
    "Если сравнить лидеров ICE и RICE по трудозатратности efforts, то здесь нет различий, этот показатель на среднем уровне у обеих гипотез. Какую модель выбрать за основную, ICE или RICE, зависит от целей и стратегии компании."
   ]
  },
  {
   "cell_type": "markdown",
   "metadata": {},
   "source": [
    "*Таким образом, на основе данных об охвате пользователей, степени влияния, уверенности в оценке параметров, трудозатратности имеющихся гипотез была произведена приоритезация по критериям ICE и RICE. Результаты приоритизации должны быть учтены при дальнейшем составлении плана запуска проектов.*"
   ]
  },
  {
   "cell_type": "markdown",
   "metadata": {},
   "source": [
    "###  Анализ А/В теста"
   ]
  },
  {
   "cell_type": "markdown",
   "metadata": {},
   "source": [
    "#### Стабильность куммулятивных метрик "
   ]
  },
  {
   "cell_type": "markdown",
   "metadata": {},
   "source": [
    "##### Предобработка датасетов "
   ]
  },
  {
   "cell_type": "markdown",
   "metadata": {},
   "source": [
    "Загружаем данные в переменные, а затем выполним небольшую предобработку, чтобы проверить, что явных проблем с данными нет (пропуски, дубликаты)"
   ]
  },
  {
   "cell_type": "code",
   "execution_count": 7,
   "metadata": {},
   "outputs": [],
   "source": [
    "#считываем результаты А/В теста в переменные orders и visitors\n",
    "try:\n",
    "    orders, visitors = (\n",
    "        pd.read_csv('/datasets/orders.csv'),  # заказы\n",
    "        pd.read_csv('/datasets/visitors.csv')  # посещение сайта\n",
    "    )\n",
    "except:\n",
    "    orders, visitors = (\n",
    "        pd.read_csv('https://code.s3.yandex.net/datasets/orders.csv'),\n",
    "        pd.read_csv('https://code.s3.yandex.net/datasets/visitors.csv')\n",
    "    )"
   ]
  },
  {
   "cell_type": "code",
   "execution_count": 8,
   "metadata": {},
   "outputs": [
    {
     "data": {
      "text/html": [
       "<div>\n",
       "<style scoped>\n",
       "    .dataframe tbody tr th:only-of-type {\n",
       "        vertical-align: middle;\n",
       "    }\n",
       "\n",
       "    .dataframe tbody tr th {\n",
       "        vertical-align: top;\n",
       "    }\n",
       "\n",
       "    .dataframe thead th {\n",
       "        text-align: right;\n",
       "    }\n",
       "</style>\n",
       "<table border=\"1\" class=\"dataframe\">\n",
       "  <thead>\n",
       "    <tr style=\"text-align: right;\">\n",
       "      <th></th>\n",
       "      <th>transactionId</th>\n",
       "      <th>visitorId</th>\n",
       "      <th>date</th>\n",
       "      <th>revenue</th>\n",
       "      <th>group</th>\n",
       "    </tr>\n",
       "  </thead>\n",
       "  <tbody>\n",
       "    <tr>\n",
       "      <th>0</th>\n",
       "      <td>3667963787</td>\n",
       "      <td>3312258926</td>\n",
       "      <td>2019-08-15</td>\n",
       "      <td>1650</td>\n",
       "      <td>B</td>\n",
       "    </tr>\n",
       "    <tr>\n",
       "      <th>1</th>\n",
       "      <td>2804400009</td>\n",
       "      <td>3642806036</td>\n",
       "      <td>2019-08-15</td>\n",
       "      <td>730</td>\n",
       "      <td>B</td>\n",
       "    </tr>\n",
       "    <tr>\n",
       "      <th>2</th>\n",
       "      <td>2961555356</td>\n",
       "      <td>4069496402</td>\n",
       "      <td>2019-08-15</td>\n",
       "      <td>400</td>\n",
       "      <td>A</td>\n",
       "    </tr>\n",
       "    <tr>\n",
       "      <th>3</th>\n",
       "      <td>3797467345</td>\n",
       "      <td>1196621759</td>\n",
       "      <td>2019-08-15</td>\n",
       "      <td>9759</td>\n",
       "      <td>B</td>\n",
       "    </tr>\n",
       "    <tr>\n",
       "      <th>4</th>\n",
       "      <td>2282983706</td>\n",
       "      <td>2322279887</td>\n",
       "      <td>2019-08-15</td>\n",
       "      <td>2308</td>\n",
       "      <td>B</td>\n",
       "    </tr>\n",
       "  </tbody>\n",
       "</table>\n",
       "</div>"
      ],
      "text/plain": [
       "   transactionId   visitorId        date  revenue group\n",
       "0     3667963787  3312258926  2019-08-15     1650     B\n",
       "1     2804400009  3642806036  2019-08-15      730     B\n",
       "2     2961555356  4069496402  2019-08-15      400     A\n",
       "3     3797467345  1196621759  2019-08-15     9759     B\n",
       "4     2282983706  2322279887  2019-08-15     2308     B"
      ]
     },
     "execution_count": 8,
     "metadata": {},
     "output_type": "execute_result"
    }
   ],
   "source": [
    "orders.head(5)"
   ]
  },
  {
   "cell_type": "code",
   "execution_count": 9,
   "metadata": {},
   "outputs": [
    {
     "data": {
      "text/html": [
       "<div>\n",
       "<style scoped>\n",
       "    .dataframe tbody tr th:only-of-type {\n",
       "        vertical-align: middle;\n",
       "    }\n",
       "\n",
       "    .dataframe tbody tr th {\n",
       "        vertical-align: top;\n",
       "    }\n",
       "\n",
       "    .dataframe thead th {\n",
       "        text-align: right;\n",
       "    }\n",
       "</style>\n",
       "<table border=\"1\" class=\"dataframe\">\n",
       "  <thead>\n",
       "    <tr style=\"text-align: right;\">\n",
       "      <th></th>\n",
       "      <th>date</th>\n",
       "      <th>group</th>\n",
       "      <th>visitors</th>\n",
       "    </tr>\n",
       "  </thead>\n",
       "  <tbody>\n",
       "    <tr>\n",
       "      <th>0</th>\n",
       "      <td>2019-08-01</td>\n",
       "      <td>A</td>\n",
       "      <td>719</td>\n",
       "    </tr>\n",
       "    <tr>\n",
       "      <th>1</th>\n",
       "      <td>2019-08-02</td>\n",
       "      <td>A</td>\n",
       "      <td>619</td>\n",
       "    </tr>\n",
       "    <tr>\n",
       "      <th>2</th>\n",
       "      <td>2019-08-03</td>\n",
       "      <td>A</td>\n",
       "      <td>507</td>\n",
       "    </tr>\n",
       "    <tr>\n",
       "      <th>3</th>\n",
       "      <td>2019-08-04</td>\n",
       "      <td>A</td>\n",
       "      <td>717</td>\n",
       "    </tr>\n",
       "    <tr>\n",
       "      <th>4</th>\n",
       "      <td>2019-08-05</td>\n",
       "      <td>A</td>\n",
       "      <td>756</td>\n",
       "    </tr>\n",
       "  </tbody>\n",
       "</table>\n",
       "</div>"
      ],
      "text/plain": [
       "         date group  visitors\n",
       "0  2019-08-01     A       719\n",
       "1  2019-08-02     A       619\n",
       "2  2019-08-03     A       507\n",
       "3  2019-08-04     A       717\n",
       "4  2019-08-05     A       756"
      ]
     },
     "execution_count": 9,
     "metadata": {},
     "output_type": "execute_result"
    }
   ],
   "source": [
    "visitors.head(5)"
   ]
  },
  {
   "cell_type": "markdown",
   "metadata": {},
   "source": [
    "Изменим названия столбцов, приведем их к змеиному регистру и уберем заглавные буквы"
   ]
  },
  {
   "cell_type": "code",
   "execution_count": 10,
   "metadata": {},
   "outputs": [],
   "source": [
    "orders = orders.rename(columns = {'transactionId' : 'transaction_id', 'visitorId': 'visitor_id'})"
   ]
  },
  {
   "cell_type": "code",
   "execution_count": 11,
   "metadata": {},
   "outputs": [
    {
     "data": {
      "text/plain": [
       "Index(['transaction_id', 'visitor_id', 'date', 'revenue', 'group'], dtype='object')"
      ]
     },
     "execution_count": 11,
     "metadata": {},
     "output_type": "execute_result"
    }
   ],
   "source": [
    "#проверяем, что все ок:\n",
    "orders.columns"
   ]
  },
  {
   "cell_type": "code",
   "execution_count": 12,
   "metadata": {},
   "outputs": [
    {
     "name": "stdout",
     "output_type": "stream",
     "text": [
      "<class 'pandas.core.frame.DataFrame'>\n",
      "RangeIndex: 1197 entries, 0 to 1196\n",
      "Data columns (total 5 columns):\n",
      " #   Column          Non-Null Count  Dtype \n",
      "---  ------          --------------  ----- \n",
      " 0   transaction_id  1197 non-null   int64 \n",
      " 1   visitor_id      1197 non-null   int64 \n",
      " 2   date            1197 non-null   object\n",
      " 3   revenue         1197 non-null   int64 \n",
      " 4   group           1197 non-null   object\n",
      "dtypes: int64(3), object(2)\n",
      "memory usage: 46.9+ KB\n",
      "<class 'pandas.core.frame.DataFrame'>\n",
      "RangeIndex: 62 entries, 0 to 61\n",
      "Data columns (total 3 columns):\n",
      " #   Column    Non-Null Count  Dtype \n",
      "---  ------    --------------  ----- \n",
      " 0   date      62 non-null     object\n",
      " 1   group     62 non-null     object\n",
      " 2   visitors  62 non-null     int64 \n",
      "dtypes: int64(1), object(2)\n",
      "memory usage: 1.6+ KB\n"
     ]
    }
   ],
   "source": [
    "#выведем общую информацию о датасетах\n",
    "orders.info()\n",
    "visitors.info()"
   ]
  },
  {
   "cell_type": "markdown",
   "metadata": {},
   "source": [
    "Пропусков в датасетах нет"
   ]
  },
  {
   "cell_type": "code",
   "execution_count": 13,
   "metadata": {},
   "outputs": [
    {
     "data": {
      "text/plain": [
       "0"
      ]
     },
     "execution_count": 13,
     "metadata": {},
     "output_type": "execute_result"
    }
   ],
   "source": [
    "#проверяем на наличие дубликатов\n",
    "orders.duplicated().sum()\n",
    "visitors.duplicated().sum() "
   ]
  },
  {
   "cell_type": "markdown",
   "metadata": {},
   "source": [
    "Дубликатов тоже нет"
   ]
  },
  {
   "cell_type": "code",
   "execution_count": 14,
   "metadata": {},
   "outputs": [
    {
     "data": {
      "text/plain": [
       "array(['B', 'A'], dtype=object)"
      ]
     },
     "execution_count": 14,
     "metadata": {},
     "output_type": "execute_result"
    }
   ],
   "source": [
    "#проверяем, что в столбце с группами значения только А или В\n",
    "orders['group'].unique()"
   ]
  },
  {
   "cell_type": "markdown",
   "metadata": {},
   "source": [
    "Посмотрим, в течении какого периода проводился тест:"
   ]
  },
  {
   "cell_type": "code",
   "execution_count": 15,
   "metadata": {},
   "outputs": [
    {
     "name": "stdout",
     "output_type": "stream",
     "text": [
      "Старт теста: 2019-08-01\n",
      "Окончание теста: 2019-08-31\n"
     ]
    }
   ],
   "source": [
    "print('Старт теста:', visitors['date'].min())\n",
    "print('Окончание теста:', visitors['date'].max())"
   ]
  },
  {
   "cell_type": "markdown",
   "metadata": {},
   "source": [
    "Тест проводился в течении месяца, подписи осей графика нужно будет расположить вертикально, чтобы они не накладывались друг на друга. С качеством данных явных проблем нет, можно переходить к анализу результатов А/В теста"
   ]
  },
  {
   "cell_type": "markdown",
   "metadata": {},
   "source": [
    "Проведем ряд дополнительных исследований. Посчитаем, сколько уникальных пользователей в каждой из групп:"
   ]
  },
  {
   "cell_type": "code",
   "execution_count": 16,
   "metadata": {},
   "outputs": [
    {
     "name": "stdout",
     "output_type": "stream",
     "text": [
      "Кол-во уникальных пользователей в группе А: 503\n",
      "Кол-во уникальных пользователей в группе В: 586\n"
     ]
    }
   ],
   "source": [
    "#считаем количество уникальных пользователей в каждой группе\n",
    "cnt_users_A = orders[orders['group'] == 'A']['visitor_id'].nunique()\n",
    "cnt_users_B = orders[orders['group'] == 'B']['visitor_id'].nunique()\n",
    "print('Кол-во уникальных пользователей в группе А:', cnt_users_A)\n",
    "print('Кол-во уникальных пользователей в группе В:', cnt_users_B)"
   ]
  },
  {
   "cell_type": "markdown",
   "metadata": {},
   "source": [
    "А теперь проверим, нет ли у нас пользователей, которые попали и в ту, и в другую группу:"
   ]
  },
  {
   "cell_type": "code",
   "execution_count": 17,
   "metadata": {},
   "outputs": [
    {
     "data": {
      "text/plain": [
       "0"
      ]
     },
     "execution_count": 17,
     "metadata": {},
     "output_type": "execute_result"
    }
   ],
   "source": [
    "#фильтруем данные по группам\n",
    "users_A = orders[orders['group'] == 'A']\n",
    "users_B = orders[orders['group'] == 'B']\n",
    "#ищем количество пользователей в группе А, которые есть в группе В (порядок групп здесь не принципиален)\n",
    "visitors_both = users_A.loc[users_A['visitor_id'].isin(users_B), 'visitor_id'].count()\n",
    "\n",
    "visitors_both"
   ]
  },
  {
   "cell_type": "markdown",
   "metadata": {},
   "source": [
    "Пользователи четко разделены по группам, пересечений нет, а значит трафик А/В теста разделен без ошибок."
   ]
  },
  {
   "cell_type": "markdown",
   "metadata": {},
   "source": [
    "А теперь посмотрим на динамику ежедневных посещений интернет-магазина по группам."
   ]
  },
  {
   "cell_type": "code",
   "execution_count": 18,
   "metadata": {},
   "outputs": [
    {
     "data": {
      "image/png": "[encoded data removed]",
      "text/plain": [
       "<Figure size 720x360 with 1 Axes>"
      ]
     },
     "metadata": {
      "needs_background": "light"
     },
     "output_type": "display_data"
    }
   ],
   "source": [
    "#фильтруем данные\n",
    "visitors_A = visitors[visitors['group'] == 'A']\n",
    "visitors_B = visitors[visitors['group'] == 'B']\n",
    "\n",
    "#задаем размер графика побольше\n",
    "plt.figure(figsize=(10, 5))\n",
    "# Строим график динамики посещений по группе А\n",
    "plt.plot(visitors_A['date'], visitors_A['visitors'], label='A');\n",
    "\n",
    "# Строим график динамики посещений по группе B\n",
    "plt.plot(visitors_B['date'], visitors_B['visitors'], label='B');\n",
    "plt.xticks(rotation=45)\n",
    "plt.legend(); \n",
    "plt.ylabel('Кол-во посетителей')\n",
    "plt.suptitle('График динамики посещений по группам');"
   ]
  },
  {
   "cell_type": "markdown",
   "metadata": {},
   "source": [
    "Обе группы повторяют друг за другом взлеты и падения. Есть ощущение, что интернет-магазин не пользуется популярностью по выходным дням."
   ]
  },
  {
   "cell_type": "markdown",
   "metadata": {},
   "source": [
    "##### Графики кумулятивной выручки по группам"
   ]
  },
  {
   "cell_type": "markdown",
   "metadata": {},
   "source": [
    "Начинаем подсчет кумулятивных значений: "
   ]
  },
  {
   "cell_type": "code",
   "execution_count": 19,
   "metadata": {},
   "outputs": [],
   "source": [
    "# создаем массив уникальных пар значений дат и групп теста\n",
    "date_group = orders[['date','group']].drop_duplicates() "
   ]
  },
  {
   "cell_type": "code",
   "execution_count": 20,
   "metadata": {},
   "outputs": [],
   "source": [
    "#cчитаем агрегированные кумулятивные данные о заказах по дням\n",
    "orders_agg = date_group.apply(\n",
    "    lambda x: orders[\n",
    "        np.logical_and(\n",
    "            orders['date'] <= x['date'], orders['group'] == x['group']\n",
    "        )\n",
    "    ].agg(\n",
    "        {\n",
    "            'date' : 'max', \n",
    "            'group' : 'max', \n",
    "            'transaction_id' : 'nunique', \n",
    "            'visitor_id' : 'nunique', \n",
    "            'revenue' : 'sum'\n",
    "        }\n",
    "    ), \n",
    "    axis=1\n",
    ").sort_values(by=['date','group'])"
   ]
  },
  {
   "cell_type": "code",
   "execution_count": 21,
   "metadata": {},
   "outputs": [],
   "source": [
    "#cчитаем агрегированные кумулятивные данные о посещениях по дням\n",
    "visitors_agg = date_group.apply(\n",
    "    lambda x: visitors[\n",
    "        np.logical_and(\n",
    "            visitors['date'] <= x['date'], visitors['group'] == x['group']\n",
    "        )\n",
    "    ].agg(\n",
    "        {\n",
    "            'date' : 'max', \n",
    "            'group' : 'max', \n",
    "            'visitors' : 'sum'\n",
    "        }\n",
    "    ),\n",
    "    axis=1\n",
    ").sort_values(by=['date','group'])"
   ]
  },
  {
   "cell_type": "code",
   "execution_count": 22,
   "metadata": {},
   "outputs": [
    {
     "data": {
      "text/html": [
       "<div>\n",
       "<style scoped>\n",
       "    .dataframe tbody tr th:only-of-type {\n",
       "        vertical-align: middle;\n",
       "    }\n",
       "\n",
       "    .dataframe tbody tr th {\n",
       "        vertical-align: top;\n",
       "    }\n",
       "\n",
       "    .dataframe thead th {\n",
       "        text-align: right;\n",
       "    }\n",
       "</style>\n",
       "<table border=\"1\" class=\"dataframe\">\n",
       "  <thead>\n",
       "    <tr style=\"text-align: right;\">\n",
       "      <th></th>\n",
       "      <th>date</th>\n",
       "      <th>group</th>\n",
       "      <th>transaction_id</th>\n",
       "      <th>visitor_id</th>\n",
       "      <th>revenue</th>\n",
       "    </tr>\n",
       "  </thead>\n",
       "  <tbody>\n",
       "    <tr>\n",
       "      <th>55</th>\n",
       "      <td>2019-08-01</td>\n",
       "      <td>A</td>\n",
       "      <td>24</td>\n",
       "      <td>20</td>\n",
       "      <td>148579</td>\n",
       "    </tr>\n",
       "    <tr>\n",
       "      <th>66</th>\n",
       "      <td>2019-08-01</td>\n",
       "      <td>B</td>\n",
       "      <td>21</td>\n",
       "      <td>20</td>\n",
       "      <td>101217</td>\n",
       "    </tr>\n",
       "    <tr>\n",
       "      <th>175</th>\n",
       "      <td>2019-08-02</td>\n",
       "      <td>A</td>\n",
       "      <td>44</td>\n",
       "      <td>38</td>\n",
       "      <td>242401</td>\n",
       "    </tr>\n",
       "    <tr>\n",
       "      <th>173</th>\n",
       "      <td>2019-08-02</td>\n",
       "      <td>B</td>\n",
       "      <td>45</td>\n",
       "      <td>43</td>\n",
       "      <td>266748</td>\n",
       "    </tr>\n",
       "    <tr>\n",
       "      <th>291</th>\n",
       "      <td>2019-08-03</td>\n",
       "      <td>A</td>\n",
       "      <td>68</td>\n",
       "      <td>62</td>\n",
       "      <td>354874</td>\n",
       "    </tr>\n",
       "  </tbody>\n",
       "</table>\n",
       "</div>"
      ],
      "text/plain": [
       "           date group  transaction_id  visitor_id  revenue\n",
       "55   2019-08-01     A              24          20   148579\n",
       "66   2019-08-01     B              21          20   101217\n",
       "175  2019-08-02     A              44          38   242401\n",
       "173  2019-08-02     B              45          43   266748\n",
       "291  2019-08-03     A              68          62   354874"
      ]
     },
     "execution_count": 22,
     "metadata": {},
     "output_type": "execute_result"
    }
   ],
   "source": [
    "#посмотрим, что получилось\n",
    "orders_agg.head(5)"
   ]
  },
  {
   "cell_type": "code",
   "execution_count": 23,
   "metadata": {},
   "outputs": [
    {
     "data": {
      "text/html": [
       "<div>\n",
       "<style scoped>\n",
       "    .dataframe tbody tr th:only-of-type {\n",
       "        vertical-align: middle;\n",
       "    }\n",
       "\n",
       "    .dataframe tbody tr th {\n",
       "        vertical-align: top;\n",
       "    }\n",
       "\n",
       "    .dataframe thead th {\n",
       "        text-align: right;\n",
       "    }\n",
       "</style>\n",
       "<table border=\"1\" class=\"dataframe\">\n",
       "  <thead>\n",
       "    <tr style=\"text-align: right;\">\n",
       "      <th></th>\n",
       "      <th>date</th>\n",
       "      <th>group</th>\n",
       "      <th>visitors</th>\n",
       "    </tr>\n",
       "  </thead>\n",
       "  <tbody>\n",
       "    <tr>\n",
       "      <th>55</th>\n",
       "      <td>2019-08-01</td>\n",
       "      <td>A</td>\n",
       "      <td>719</td>\n",
       "    </tr>\n",
       "    <tr>\n",
       "      <th>66</th>\n",
       "      <td>2019-08-01</td>\n",
       "      <td>B</td>\n",
       "      <td>713</td>\n",
       "    </tr>\n",
       "    <tr>\n",
       "      <th>175</th>\n",
       "      <td>2019-08-02</td>\n",
       "      <td>A</td>\n",
       "      <td>1338</td>\n",
       "    </tr>\n",
       "    <tr>\n",
       "      <th>173</th>\n",
       "      <td>2019-08-02</td>\n",
       "      <td>B</td>\n",
       "      <td>1294</td>\n",
       "    </tr>\n",
       "    <tr>\n",
       "      <th>291</th>\n",
       "      <td>2019-08-03</td>\n",
       "      <td>A</td>\n",
       "      <td>1845</td>\n",
       "    </tr>\n",
       "  </tbody>\n",
       "</table>\n",
       "</div>"
      ],
      "text/plain": [
       "           date group  visitors\n",
       "55   2019-08-01     A       719\n",
       "66   2019-08-01     B       713\n",
       "175  2019-08-02     A      1338\n",
       "173  2019-08-02     B      1294\n",
       "291  2019-08-03     A      1845"
      ]
     },
     "execution_count": 23,
     "metadata": {},
     "output_type": "execute_result"
    }
   ],
   "source": [
    "visitors_agg.head(5)"
   ]
  },
  {
   "cell_type": "code",
   "execution_count": 24,
   "metadata": {},
   "outputs": [
    {
     "data": {
      "text/html": [
       "<div>\n",
       "<style scoped>\n",
       "    .dataframe tbody tr th:only-of-type {\n",
       "        vertical-align: middle;\n",
       "    }\n",
       "\n",
       "    .dataframe tbody tr th {\n",
       "        vertical-align: top;\n",
       "    }\n",
       "\n",
       "    .dataframe thead th {\n",
       "        text-align: right;\n",
       "    }\n",
       "</style>\n",
       "<table border=\"1\" class=\"dataframe\">\n",
       "  <thead>\n",
       "    <tr style=\"text-align: right;\">\n",
       "      <th></th>\n",
       "      <th>date</th>\n",
       "      <th>group</th>\n",
       "      <th>orders</th>\n",
       "      <th>buyers</th>\n",
       "      <th>revenue</th>\n",
       "      <th>visitors</th>\n",
       "    </tr>\n",
       "  </thead>\n",
       "  <tbody>\n",
       "    <tr>\n",
       "      <th>0</th>\n",
       "      <td>2019-08-01</td>\n",
       "      <td>A</td>\n",
       "      <td>24</td>\n",
       "      <td>20</td>\n",
       "      <td>148579</td>\n",
       "      <td>719</td>\n",
       "    </tr>\n",
       "    <tr>\n",
       "      <th>1</th>\n",
       "      <td>2019-08-01</td>\n",
       "      <td>B</td>\n",
       "      <td>21</td>\n",
       "      <td>20</td>\n",
       "      <td>101217</td>\n",
       "      <td>713</td>\n",
       "    </tr>\n",
       "    <tr>\n",
       "      <th>2</th>\n",
       "      <td>2019-08-02</td>\n",
       "      <td>A</td>\n",
       "      <td>44</td>\n",
       "      <td>38</td>\n",
       "      <td>242401</td>\n",
       "      <td>1338</td>\n",
       "    </tr>\n",
       "    <tr>\n",
       "      <th>3</th>\n",
       "      <td>2019-08-02</td>\n",
       "      <td>B</td>\n",
       "      <td>45</td>\n",
       "      <td>43</td>\n",
       "      <td>266748</td>\n",
       "      <td>1294</td>\n",
       "    </tr>\n",
       "    <tr>\n",
       "      <th>4</th>\n",
       "      <td>2019-08-03</td>\n",
       "      <td>A</td>\n",
       "      <td>68</td>\n",
       "      <td>62</td>\n",
       "      <td>354874</td>\n",
       "      <td>1845</td>\n",
       "    </tr>\n",
       "  </tbody>\n",
       "</table>\n",
       "</div>"
      ],
      "text/plain": [
       "         date group  orders  buyers  revenue  visitors\n",
       "0  2019-08-01     A      24      20   148579       719\n",
       "1  2019-08-01     B      21      20   101217       713\n",
       "2  2019-08-02     A      44      38   242401      1338\n",
       "3  2019-08-02     B      45      43   266748      1294\n",
       "4  2019-08-03     A      68      62   354874      1845"
      ]
     },
     "execution_count": 24,
     "metadata": {},
     "output_type": "execute_result"
    }
   ],
   "source": [
    "# объединяем кумулятивные данные в одной таблице и присваиваем ее столбцам понятные названия\n",
    "cum_data = orders_agg.merge(visitors_agg, left_on=['date', 'group'], right_on=['date', 'group'])\n",
    "cum_data.columns = ['date', 'group', 'orders', 'buyers', 'revenue', 'visitors']\n",
    "\n",
    "cum_data.head(5)"
   ]
  },
  {
   "cell_type": "code",
   "execution_count": 25,
   "metadata": {},
   "outputs": [
    {
     "data": {
      "image/png": "[encoded data removed]",
      "text/plain": [
       "<Figure size 720x360 with 1 Axes>"
      ]
     },
     "metadata": {
      "needs_background": "light"
     },
     "output_type": "display_data"
    }
   ],
   "source": [
    "# разделяем данные в переменные, исходя из группы\n",
    "cum_revenue_A = cum_data[cum_data['group']=='A'][['date','revenue', 'orders']]\n",
    "\n",
    "# теперь выделяем данные группы В\n",
    "cum_revenue_B = cum_data[cum_data['group']=='B'][['date','revenue', 'orders']]\n",
    "#задаем размер графика побольше\n",
    "plt.figure(figsize=(10, 5))\n",
    "# Строим график выручки группы А\n",
    "plt.plot(cum_revenue_A['date'], cum_revenue_A['revenue'], label='A');\n",
    "\n",
    "# Строим график выручки группы B\n",
    "plt.plot(cum_revenue_B['date'], cum_revenue_B['revenue'], label='B');\n",
    "plt.xticks(rotation=45)\n",
    "plt.legend(); \n",
    "plt.ylabel('Выручка, млн.руб.')\n",
    "plt.suptitle('График кумулятивной выручки по группам');"
   ]
  },
  {
   "cell_type": "markdown",
   "metadata": {},
   "source": [
    "По графику видно, что в обеих группах выручка увеличивается в течении всего периода проведения теста. Однако в группе В есть резкий скачок 18-08-2019, что возможно связано с появлением очень дорогих заказов или резким всплеском активности. Необходимо учесть это в дальнейшем. \n",
    "Уровень выручки в группе В превосходит группу А практически по всему периоду проведения эксперимента.\n",
    "Посмотрим, какая ситуация сложилась с показателями средних чеков по группам."
   ]
  },
  {
   "cell_type": "markdown",
   "metadata": {},
   "source": [
    "##### Графики кумулятивного среднего чека "
   ]
  },
  {
   "cell_type": "code",
   "execution_count": 26,
   "metadata": {},
   "outputs": [
    {
     "data": {
      "image/png": "[encoded data removed]",
      "text/plain": [
       "<Figure size 720x360 with 1 Axes>"
      ]
     },
     "metadata": {
      "needs_background": "light"
     },
     "output_type": "display_data"
    }
   ],
   "source": [
    "#задаем размер графика побольше\n",
    "plt.figure(figsize=(10, 5))\n",
    "#строим график среднего чека по датам в группе А\n",
    "plt.plot(cum_revenue_A['date'], cum_revenue_A['revenue']/cum_revenue_A['orders'], label='A');\n",
    "#строим график среднего чека по датам в группе В\n",
    "plt.plot(cum_revenue_B['date'], cum_revenue_B['revenue']/cum_revenue_B['orders'], label='B');\n",
    "#переворачиваем подписи по Х\n",
    "plt.xticks(rotation=45)\n",
    "plt.legend();\n",
    "plt.ylabel('Средний чек, руб.')\n",
    "plt.suptitle('График кумулятивного среднего чека по группам');"
   ]
  },
  {
   "cell_type": "markdown",
   "metadata": {},
   "source": [
    "В первой половине срока проведения теста были резкие колебания метрики среднего чека. Данные стабилизировались только к концу. В группе В здесь наблюдается тот же скачок (в дату 18-08-2019 - 19-08-2019), в эту группу, похоже, попали крупные заказы. Группа В превосходит группу А по уровню среднего чека к концу проведения эксперимента."
   ]
  },
  {
   "cell_type": "markdown",
   "metadata": {},
   "source": [
    "Построим график относительного изменения кумулятивного среднего чека группы B к группе A:"
   ]
  },
  {
   "cell_type": "code",
   "execution_count": 27,
   "metadata": {},
   "outputs": [
    {
     "data": {
      "image/png": "[encoded data removed]",
      "text/plain": [
       "<Figure size 720x360 with 1 Axes>"
      ]
     },
     "metadata": {
      "needs_background": "light"
     },
     "output_type": "display_data"
    }
   ],
   "source": [
    "# объединяем данные\n",
    "merged_data = cum_revenue_A.merge(cum_revenue_B, left_on='date', right_on='date', how='left', suffixes=['A', 'B']);\n",
    "\n",
    "#задаем размер графика побольше\n",
    "plt.figure(figsize=(10, 5))\n",
    "# cтроим график отношения средних чеков\n",
    "plt.plot(\n",
    "    merged_data['date'], \n",
    "    (merged_data['revenueB']/merged_data['ordersB'])/(merged_data['revenueA']/merged_data['ordersA'])-1\n",
    ");\n",
    "plt.suptitle('График относительного изменения среднего чека группы В к группе А')\n",
    "\n",
    "# добавляем ось X\n",
    "plt.axhline(y=0, color='black', linestyle='--');\n",
    "#переворачиваем подписи по Х\n",
    "plt.xticks(rotation=45);"
   ]
  },
  {
   "cell_type": "markdown",
   "metadata": {},
   "source": [
    "Судя по графику, резкий скачок в разнице между группами наблюдается не только 18-08-2019 - 19-08-2019, как уже показали предыдущие графики, но и в другие даты. Необходимо провести анализ выбросов в данных."
   ]
  },
  {
   "cell_type": "markdown",
   "metadata": {},
   "source": [
    "##### Графики кумулятивного среднего количества заказов на посетителя по группам "
   ]
  },
  {
   "cell_type": "code",
   "execution_count": 28,
   "metadata": {},
   "outputs": [],
   "source": [
    "# считаем кумулятивное количество заказов на посетителя, будем считать это отношение конверсией\n",
    "cum_data['conversion'] = cum_data['orders']/cum_data['visitors']\n",
    "\n",
    "# отделяем данные по группе A\n",
    "cum_data_A = cum_data[cum_data['group']=='A']\n",
    "\n",
    "# отделяем данные по группе B\n",
    "cum_data_B = cum_data[cum_data['group']=='B']"
   ]
  },
  {
   "cell_type": "code",
   "execution_count": 29,
   "metadata": {},
   "outputs": [
    {
     "data": {
      "text/html": [
       "<div>\n",
       "<style scoped>\n",
       "    .dataframe tbody tr th:only-of-type {\n",
       "        vertical-align: middle;\n",
       "    }\n",
       "\n",
       "    .dataframe tbody tr th {\n",
       "        vertical-align: top;\n",
       "    }\n",
       "\n",
       "    .dataframe thead th {\n",
       "        text-align: right;\n",
       "    }\n",
       "</style>\n",
       "<table border=\"1\" class=\"dataframe\">\n",
       "  <thead>\n",
       "    <tr style=\"text-align: right;\">\n",
       "      <th></th>\n",
       "      <th>date</th>\n",
       "      <th>group</th>\n",
       "      <th>orders</th>\n",
       "      <th>buyers</th>\n",
       "      <th>revenue</th>\n",
       "      <th>visitors</th>\n",
       "      <th>conversion</th>\n",
       "    </tr>\n",
       "  </thead>\n",
       "  <tbody>\n",
       "    <tr>\n",
       "      <th>0</th>\n",
       "      <td>2019-08-01</td>\n",
       "      <td>A</td>\n",
       "      <td>24</td>\n",
       "      <td>20</td>\n",
       "      <td>148579</td>\n",
       "      <td>719</td>\n",
       "      <td>0.033380</td>\n",
       "    </tr>\n",
       "    <tr>\n",
       "      <th>2</th>\n",
       "      <td>2019-08-02</td>\n",
       "      <td>A</td>\n",
       "      <td>44</td>\n",
       "      <td>38</td>\n",
       "      <td>242401</td>\n",
       "      <td>1338</td>\n",
       "      <td>0.032885</td>\n",
       "    </tr>\n",
       "    <tr>\n",
       "      <th>4</th>\n",
       "      <td>2019-08-03</td>\n",
       "      <td>A</td>\n",
       "      <td>68</td>\n",
       "      <td>62</td>\n",
       "      <td>354874</td>\n",
       "      <td>1845</td>\n",
       "      <td>0.036856</td>\n",
       "    </tr>\n",
       "    <tr>\n",
       "      <th>6</th>\n",
       "      <td>2019-08-04</td>\n",
       "      <td>A</td>\n",
       "      <td>84</td>\n",
       "      <td>77</td>\n",
       "      <td>425699</td>\n",
       "      <td>2562</td>\n",
       "      <td>0.032787</td>\n",
       "    </tr>\n",
       "    <tr>\n",
       "      <th>8</th>\n",
       "      <td>2019-08-05</td>\n",
       "      <td>A</td>\n",
       "      <td>109</td>\n",
       "      <td>100</td>\n",
       "      <td>549917</td>\n",
       "      <td>3318</td>\n",
       "      <td>0.032851</td>\n",
       "    </tr>\n",
       "  </tbody>\n",
       "</table>\n",
       "</div>"
      ],
      "text/plain": [
       "         date group  orders  buyers  revenue  visitors  conversion\n",
       "0  2019-08-01     A      24      20   148579       719    0.033380\n",
       "2  2019-08-02     A      44      38   242401      1338    0.032885\n",
       "4  2019-08-03     A      68      62   354874      1845    0.036856\n",
       "6  2019-08-04     A      84      77   425699      2562    0.032787\n",
       "8  2019-08-05     A     109     100   549917      3318    0.032851"
      ]
     },
     "execution_count": 29,
     "metadata": {},
     "output_type": "execute_result"
    }
   ],
   "source": [
    "cum_data_A.head(5)"
   ]
  },
  {
   "cell_type": "code",
   "execution_count": 30,
   "metadata": {},
   "outputs": [
    {
     "data": {
      "text/html": [
       "<div>\n",
       "<style scoped>\n",
       "    .dataframe tbody tr th:only-of-type {\n",
       "        vertical-align: middle;\n",
       "    }\n",
       "\n",
       "    .dataframe tbody tr th {\n",
       "        vertical-align: top;\n",
       "    }\n",
       "\n",
       "    .dataframe thead th {\n",
       "        text-align: right;\n",
       "    }\n",
       "</style>\n",
       "<table border=\"1\" class=\"dataframe\">\n",
       "  <thead>\n",
       "    <tr style=\"text-align: right;\">\n",
       "      <th></th>\n",
       "      <th>date</th>\n",
       "      <th>group</th>\n",
       "      <th>orders</th>\n",
       "      <th>buyers</th>\n",
       "      <th>revenue</th>\n",
       "      <th>visitors</th>\n",
       "      <th>conversion</th>\n",
       "    </tr>\n",
       "  </thead>\n",
       "  <tbody>\n",
       "    <tr>\n",
       "      <th>1</th>\n",
       "      <td>2019-08-01</td>\n",
       "      <td>B</td>\n",
       "      <td>21</td>\n",
       "      <td>20</td>\n",
       "      <td>101217</td>\n",
       "      <td>713</td>\n",
       "      <td>0.029453</td>\n",
       "    </tr>\n",
       "    <tr>\n",
       "      <th>3</th>\n",
       "      <td>2019-08-02</td>\n",
       "      <td>B</td>\n",
       "      <td>45</td>\n",
       "      <td>43</td>\n",
       "      <td>266748</td>\n",
       "      <td>1294</td>\n",
       "      <td>0.034776</td>\n",
       "    </tr>\n",
       "    <tr>\n",
       "      <th>5</th>\n",
       "      <td>2019-08-03</td>\n",
       "      <td>B</td>\n",
       "      <td>61</td>\n",
       "      <td>59</td>\n",
       "      <td>380996</td>\n",
       "      <td>1803</td>\n",
       "      <td>0.033833</td>\n",
       "    </tr>\n",
       "    <tr>\n",
       "      <th>7</th>\n",
       "      <td>2019-08-04</td>\n",
       "      <td>B</td>\n",
       "      <td>78</td>\n",
       "      <td>75</td>\n",
       "      <td>489567</td>\n",
       "      <td>2573</td>\n",
       "      <td>0.030315</td>\n",
       "    </tr>\n",
       "    <tr>\n",
       "      <th>9</th>\n",
       "      <td>2019-08-05</td>\n",
       "      <td>B</td>\n",
       "      <td>101</td>\n",
       "      <td>98</td>\n",
       "      <td>581995</td>\n",
       "      <td>3280</td>\n",
       "      <td>0.030793</td>\n",
       "    </tr>\n",
       "  </tbody>\n",
       "</table>\n",
       "</div>"
      ],
      "text/plain": [
       "         date group  orders  buyers  revenue  visitors  conversion\n",
       "1  2019-08-01     B      21      20   101217       713    0.029453\n",
       "3  2019-08-02     B      45      43   266748      1294    0.034776\n",
       "5  2019-08-03     B      61      59   380996      1803    0.033833\n",
       "7  2019-08-04     B      78      75   489567      2573    0.030315\n",
       "9  2019-08-05     B     101      98   581995      3280    0.030793"
      ]
     },
     "execution_count": 30,
     "metadata": {},
     "output_type": "execute_result"
    }
   ],
   "source": [
    "cum_data_B.head(5)"
   ]
  },
  {
   "cell_type": "markdown",
   "metadata": {},
   "source": [
    "Для задания масштаба осей нам необходимо передать максимальное и минимальное значение по осям Х и Y. По оси Х у нас даты проведения теста, начальная и конечная дата - 01/08/2019 и 31/08/2019 соответственно.\n",
    "Найдем минимальное и максимальное значение по оси Y, чтобы наш график не выходил за пределы масштаба:"
   ]
  },
  {
   "cell_type": "code",
   "execution_count": 31,
   "metadata": {},
   "outputs": [
    {
     "data": {
      "text/plain": [
       "(0.036323084275927994, 0.03685636856368564)"
      ]
     },
     "execution_count": 31,
     "metadata": {},
     "output_type": "execute_result"
    }
   ],
   "source": [
    "cum_data_B['conversion'].max(), cum_data_A['conversion'].max()"
   ]
  },
  {
   "cell_type": "code",
   "execution_count": 32,
   "metadata": {},
   "outputs": [
    {
     "data": {
      "text/plain": [
       "(0.029453015427769985, 0.029217427214536445)"
      ]
     },
     "execution_count": 32,
     "metadata": {},
     "output_type": "execute_result"
    }
   ],
   "source": [
    "cum_data_B['conversion'].min(), cum_data_A['conversion'].min()"
   ]
  },
  {
   "cell_type": "markdown",
   "metadata": {},
   "source": [
    "Соответственно, для масштаба осей по Y вполне подойдет интервал 0 - 0.04"
   ]
  },
  {
   "cell_type": "code",
   "execution_count": 33,
   "metadata": {},
   "outputs": [
    {
     "data": {
      "image/png": "[encoded data removed]",
      "text/plain": [
       "<Figure size 720x360 with 1 Axes>"
      ]
     },
     "metadata": {
      "needs_background": "light"
     },
     "output_type": "display_data"
    }
   ],
   "source": [
    "\n",
    "#задаем размер графика побольше\n",
    "plt.figure(figsize=(10, 5))\n",
    "# строим графики\n",
    "plt.plot(cum_data_A['date'], cum_data_A['conversion'], label='A');\n",
    "plt.plot(cum_data_B['date'], cum_data_B['conversion'], label='B');\n",
    "plt.legend();\n",
    "\n",
    "plt.suptitle('Кумулятивное среднее количество заказов на посетителя в группах');\n",
    "#переворачиваем подписи по Х\n",
    "plt.xticks(rotation=45);\n",
    "plt.ylabel('Кумулятивная конверсия')\n",
    "# задаем масштаб осей\n",
    "plt.axis([\"2019-08-01\", '2019-08-31', 0, 0.04]); \n"
   ]
  },
  {
   "cell_type": "markdown",
   "metadata": {},
   "source": [
    "График получился почти симметричный. В первой половине срока проведения теста в обеих группах были сильные колебания, к концу скачки уменьшились. Несмотря на наличие колебаний в начале проведения эксперимента конверсия группы В заметно выше, чем в группе А."
   ]
  },
  {
   "cell_type": "markdown",
   "metadata": {},
   "source": [
    "Построим график относительного изменения среднего количества заказов на посетителя группы В к группе А"
   ]
  },
  {
   "cell_type": "markdown",
   "metadata": {},
   "source": [
    "Объединяем столбцы с конверсиями по группам и датой в одной таблице:"
   ]
  },
  {
   "cell_type": "code",
   "execution_count": 34,
   "metadata": {},
   "outputs": [],
   "source": [
    "merged_data_conv = cum_data_A[['date','conversion']].merge(\n",
    "            cum_data_B[['date','conversion']], \n",
    "            left_on='date', \n",
    "            right_on='date', \n",
    "            how='left', \n",
    "            suffixes=['A', 'B']\n",
    "          )\n"
   ]
  },
  {
   "cell_type": "markdown",
   "metadata": {},
   "source": [
    "Посмотрим минимальное и максимальное значение отношения конверсий по формуле: кумулятивная метрика группы В / кумулятивная метрика группы А - 1, чтобы задать масштаб осей"
   ]
  },
  {
   "cell_type": "code",
   "execution_count": 35,
   "metadata": {},
   "outputs": [
    {
     "data": {
      "text/plain": [
       "-0.11763674614305752"
      ]
     },
     "execution_count": 35,
     "metadata": {},
     "output_type": "execute_result"
    }
   ],
   "source": [
    "(merged_data_conv ['conversionB']/merged_data_conv['conversionA']-1).min()"
   ]
  },
  {
   "cell_type": "code",
   "execution_count": 36,
   "metadata": {},
   "outputs": [
    {
     "data": {
      "text/plain": [
       "0.20861086572438148"
      ]
     },
     "execution_count": 36,
     "metadata": {},
     "output_type": "execute_result"
    }
   ],
   "source": [
    "(merged_data_conv ['conversionB']/merged_data_conv['conversionA']-1).max()"
   ]
  },
  {
   "cell_type": "markdown",
   "metadata": {},
   "source": [
    "Для масштаба оси Y нам вполне подойдет интервал -0.2 - 0.3, по оси X остаются даты начала и окончания теста"
   ]
  },
  {
   "cell_type": "code",
   "execution_count": 37,
   "metadata": {},
   "outputs": [
    {
     "data": {
      "image/png": "[encoded data removed]",
      "text/plain": [
       "<Figure size 720x360 with 1 Axes>"
      ]
     },
     "metadata": {
      "needs_background": "light"
     },
     "output_type": "display_data"
    }
   ],
   "source": [
    "#задаем размер графика побольше\n",
    "plt.figure(figsize=(10, 5))\n",
    "#строим график\n",
    "plt.plot(\n",
    "    merged_data_conv['date'], \n",
    "    merged_data_conv ['conversionB']/merged_data_conv['conversionA']-1, \n",
    "    label=\"Относительный прирост среднего количества заказов группы B относительно группы A\"\n",
    ");\n",
    "\n",
    "plt.suptitle('Относительное изменение количества заказов в группе В к группе А')\n",
    "plt.legend();\n",
    "\n",
    "plt.axhline(y=0, color='black', linestyle='--');\n",
    "\n",
    "#переворачиваем подписи по Х\n",
    "plt.xticks(rotation=45);\n",
    "plt.axis([\"2019-08-01\", '2019-08-31', -0.2, 0.3]);"
   ]
  },
  {
   "cell_type": "markdown",
   "metadata": {},
   "source": [
    "В первые дни проведения теста конверсия (среднее число заказов на посетителя) в группе В была ниже группы А, затем произошел стремительный рост, показатель в группе В стал выше группы А, однако эта метрика не зафиксировалась, ее колебания продолжаются. Рост продолжался до 18-08, а затем пошло постепенное снижение."
   ]
  },
  {
   "cell_type": "markdown",
   "metadata": {},
   "source": [
    "##### Анализ выбросов "
   ]
  },
  {
   "cell_type": "markdown",
   "metadata": {},
   "source": [
    "Графики кумулятивной выручки и среднего чека по группам показали резкие скачки метрик, поэтому необходимо провести анализ аномалий в данных. В нашем случае это аномально дорогие заказы и аномально активные пользователи, совершившие очень много заказов. Для начала построим гистограмму распределения стоимости заказов:"
   ]
  },
  {
   "cell_type": "code",
   "execution_count": 38,
   "metadata": {},
   "outputs": [
    {
     "data": {
      "image/png": "[encoded data removed]",
      "text/plain": [
       "<Figure size 720x360 with 1 Axes>"
      ]
     },
     "metadata": {
      "needs_background": "light"
     },
     "output_type": "display_data"
    }
   ],
   "source": [
    "#задаем размер графика побольше\n",
    "plt.figure(figsize=(10, 5))\n",
    "#разделим выручку на 1000000, чтобы не получить на графике цифры со степенями, гистограмму детализируем на 50 корзин\n",
    "\n",
    "plt.hist(orders['revenue']/1000000, bins = 50);\n",
    "plt.xlabel('Стоимость заказа, млн.руб')\n",
    "plt.ylabel('Частота')\n",
    "plt.title('Гистограмма распределения стоимости заказов');"
   ]
  },
  {
   "cell_type": "markdown",
   "metadata": {},
   "source": [
    "По гистограмме видно, что основная часть заказов распределилась в диапазоне от 0 до 50000, однако присутствуют и более дорогие заказы от 50000 до 100000. Построим точечный график распределения стоимости заказов:"
   ]
  },
  {
   "cell_type": "code",
   "execution_count": 39,
   "metadata": {},
   "outputs": [
    {
     "data": {
      "image/png": "[encoded data removed]",
      "text/plain": [
       "<Figure size 720x360 with 1 Axes>"
      ]
     },
     "metadata": {
      "needs_background": "light"
     },
     "output_type": "display_data"
    }
   ],
   "source": [
    "#задаем размер графика побольше\n",
    "plt.figure(figsize=(10, 5))\n",
    "#задаем значения по оси Х\n",
    "x_values = pd.Series(range(0,len(orders['revenue'])));\n",
    "\n",
    "plt.scatter(x_values, orders['revenue']); \n",
    "plt.xlabel('Частота')\n",
    "plt.ylabel('Стоимость заказа, млн.руб')\n",
    "plt.title('Точечный график распределения стоимости заказов');"
   ]
  },
  {
   "cell_type": "markdown",
   "metadata": {},
   "source": [
    "Посмотрим, как выглядит распределение по стоимости заказов, если убрать 2 точки с аномально дорогими. Для этого отфильтруем данные, установим верхнюю границу стоимости заказов в 150000, построим точечный график на получившемся срезе данных:"
   ]
  },
  {
   "cell_type": "code",
   "execution_count": 40,
   "metadata": {},
   "outputs": [
    {
     "data": {
      "image/png": "[encoded data removed]",
      "text/plain": [
       "<Figure size 720x360 with 1 Axes>"
      ]
     },
     "metadata": {
      "needs_background": "light"
     },
     "output_type": "display_data"
    }
   ],
   "source": [
    "#фильтруем данные по выручке\n",
    "orders_fil = orders.loc[orders['revenue'] < 150000]\n",
    "#задаем размер графика побольше\n",
    "plt.figure(figsize=(10, 5))\n",
    "#задаем значения по оси Х\n",
    "x_values = pd.Series(range(0,len(orders_fil['revenue'])));\n",
    "plt.scatter(x_values, orders_fil['revenue']);\n",
    "plt.xlabel('Частота')\n",
    "plt.ylabel('Стоимость заказа, млн.руб')\n",
    "plt.title('Точечный график распределения стоимости заказов по очищенным данным');"
   ]
  },
  {
   "cell_type": "markdown",
   "metadata": {},
   "source": [
    "По этому графику распределение стоимости заказов выглядит вполне равномерно, близко к нормальному."
   ]
  },
  {
   "cell_type": "code",
   "execution_count": 41,
   "metadata": {},
   "outputs": [
    {
     "name": "stdout",
     "output_type": "stream",
     "text": [
      "[18168.  28000.  58233.2]\n"
     ]
    }
   ],
   "source": [
    "print(np.percentile(orders['revenue'], [90, 95, 99]))"
   ]
  },
  {
   "cell_type": "markdown",
   "metadata": {},
   "source": [
    "Не более 1% заказов дороже 58 233,2 рублей, и не более 5% заказов дороже 28 000 рублей.\n",
    "Посмотрим на распределение количества заказов на пользователя.\n",
    "Таким образом, границей для того чтобы считать заказ аномально дорогим, можно считать 30 000 рублей"
   ]
  },
  {
   "cell_type": "markdown",
   "metadata": {},
   "source": [
    "Считаем количество заказов на пользователя"
   ]
  },
  {
   "cell_type": "code",
   "execution_count": 42,
   "metadata": {},
   "outputs": [
    {
     "data": {
      "text/html": [
       "<div>\n",
       "<style scoped>\n",
       "    .dataframe tbody tr th:only-of-type {\n",
       "        vertical-align: middle;\n",
       "    }\n",
       "\n",
       "    .dataframe tbody tr th {\n",
       "        vertical-align: top;\n",
       "    }\n",
       "\n",
       "    .dataframe thead th {\n",
       "        text-align: right;\n",
       "    }\n",
       "</style>\n",
       "<table border=\"1\" class=\"dataframe\">\n",
       "  <thead>\n",
       "    <tr style=\"text-align: right;\">\n",
       "      <th></th>\n",
       "      <th>visitor_id</th>\n",
       "      <th>orders</th>\n",
       "    </tr>\n",
       "  </thead>\n",
       "  <tbody>\n",
       "    <tr>\n",
       "      <th>1023</th>\n",
       "      <td>4256040402</td>\n",
       "      <td>11</td>\n",
       "    </tr>\n",
       "    <tr>\n",
       "      <th>591</th>\n",
       "      <td>2458001652</td>\n",
       "      <td>11</td>\n",
       "    </tr>\n",
       "    <tr>\n",
       "      <th>569</th>\n",
       "      <td>2378935119</td>\n",
       "      <td>9</td>\n",
       "    </tr>\n",
       "    <tr>\n",
       "      <th>487</th>\n",
       "      <td>2038680547</td>\n",
       "      <td>8</td>\n",
       "    </tr>\n",
       "    <tr>\n",
       "      <th>44</th>\n",
       "      <td>199603092</td>\n",
       "      <td>5</td>\n",
       "    </tr>\n",
       "    <tr>\n",
       "      <th>744</th>\n",
       "      <td>3062433592</td>\n",
       "      <td>5</td>\n",
       "    </tr>\n",
       "    <tr>\n",
       "      <th>55</th>\n",
       "      <td>237748145</td>\n",
       "      <td>5</td>\n",
       "    </tr>\n",
       "    <tr>\n",
       "      <th>917</th>\n",
       "      <td>3803269165</td>\n",
       "      <td>5</td>\n",
       "    </tr>\n",
       "    <tr>\n",
       "      <th>299</th>\n",
       "      <td>1230306981</td>\n",
       "      <td>5</td>\n",
       "    </tr>\n",
       "    <tr>\n",
       "      <th>897</th>\n",
       "      <td>3717692402</td>\n",
       "      <td>5</td>\n",
       "    </tr>\n",
       "  </tbody>\n",
       "</table>\n",
       "</div>"
      ],
      "text/plain": [
       "      visitor_id  orders\n",
       "1023  4256040402      11\n",
       "591   2458001652      11\n",
       "569   2378935119       9\n",
       "487   2038680547       8\n",
       "44     199603092       5\n",
       "744   3062433592       5\n",
       "55     237748145       5\n",
       "917   3803269165       5\n",
       "299   1230306981       5\n",
       "897   3717692402       5"
      ]
     },
     "metadata": {},
     "output_type": "display_data"
    },
    {
     "name": "stdout",
     "output_type": "stream",
     "text": [
      "Среднее значение количества заказов: 1.16\n"
     ]
    }
   ],
   "source": [
    "order_per_user = (\n",
    "    orders.groupby('visitor_id', as_index=False)\n",
    "    .agg({'transaction_id': 'nunique'})\n",
    ")\n",
    "\n",
    "order_per_user.columns = ['visitor_id', 'orders']\n",
    "\n",
    "display(order_per_user.sort_values(by='orders', ascending=False).head(10)) \n",
    "print('Среднее значение количества заказов:', round(order_per_user['orders'].mean(), 2))"
   ]
  },
  {
   "cell_type": "markdown",
   "metadata": {},
   "source": [
    "Есть пользователи, которые совершили 11, 9, 8 заказов за месяц. При среднем количестве заказов на пользователя чуть выше 1!\n",
    "Построим гистограмму распределения количества заказов на пользователя:"
   ]
  },
  {
   "cell_type": "code",
   "execution_count": 43,
   "metadata": {},
   "outputs": [
    {
     "data": {
      "image/png": "[encoded data removed]",
      "text/plain": [
       "<Figure size 720x360 with 1 Axes>"
      ]
     },
     "metadata": {
      "needs_background": "light"
     },
     "output_type": "display_data"
    }
   ],
   "source": [
    "#задаем размер графика побольше\n",
    "plt.figure(figsize=(10, 5))\n",
    "#строим гистограмму\n",
    "plt.hist(order_per_user['orders']);\n",
    "plt.xlabel('Количество заказов')\n",
    "plt.ylabel('Частота')\n",
    "plt.title('Гистограмма распределения количества заказов на пользователя');"
   ]
  },
  {
   "cell_type": "markdown",
   "metadata": {},
   "source": [
    "По гистограмме видно, что основная часть распределилась в интервале от 1 до 2 заказов, но есть также хвост со значениями от 2 до 11 заказов.\n",
    "Построим точечный график распределения количества заказов на пользователя:"
   ]
  },
  {
   "cell_type": "code",
   "execution_count": 44,
   "metadata": {},
   "outputs": [
    {
     "data": {
      "image/png": "[encoded data removed]",
      "text/plain": [
       "<Figure size 720x360 with 1 Axes>"
      ]
     },
     "metadata": {
      "needs_background": "light"
     },
     "output_type": "display_data"
    }
   ],
   "source": [
    "#задаем размер графика побольше\n",
    "plt.figure(figsize=(10, 5))\n",
    "#задаем значения по оси Х\n",
    "x_values = pd.Series(range(0,len(order_per_user)));\n",
    "plt.scatter(x_values, order_per_user['orders']);\n",
    "plt.xlabel('Частота')\n",
    "plt.ylabel('Количество заказов')\n",
    "plt.title('Точечный график распределения количества заказов на пользователя');"
   ]
  },
  {
   "cell_type": "markdown",
   "metadata": {},
   "source": [
    "Много пользователей с 2 заказами, и много с 3 и выше. Посчитаем долю таких пользователей, найдем перцентили:"
   ]
  },
  {
   "cell_type": "code",
   "execution_count": 45,
   "metadata": {},
   "outputs": [
    {
     "name": "stdout",
     "output_type": "stream",
     "text": [
      "[1. 2. 4.]\n"
     ]
    }
   ],
   "source": [
    "print(np.percentile(order_per_user['orders'], [90, 95, 99]))"
   ]
  },
  {
   "cell_type": "markdown",
   "metadata": {},
   "source": [
    "Не более 5% пользователей совершают более 2 заказов, и не более 1% - более 4 заказов. \n",
    "За верхнюю границу можно принять количество заказов, равное 3."
   ]
  },
  {
   "cell_type": "markdown",
   "metadata": {},
   "source": [
    "Поскольку у нас 2 критерия для попадания в список аномальных пользователей - стоимость заказа и количество заказов, целесообразно использовать значение 99-го перцентиля для дальнейшей фильтрации данных, чтобы не превысить допустимую границу. Таким образом, аномальными пользователями будем считать тех, кто оформил заказ стоимостью свыше 58233 рублей, а также совершившие от 4 и более заказов за период проведения эксперимента."
   ]
  },
  {
   "cell_type": "markdown",
   "metadata": {},
   "source": [
    "##### Подсчет статистической значимости различий в среднем количестве заказов на посетителя по группам по сырым данным "
   ]
  },
  {
   "cell_type": "markdown",
   "metadata": {},
   "source": [
    "Формулируем гипотезы.\n",
    "\n",
    "H_0: различий в среднем количестве заказов на посетителя между группами нет.\n",
    "\n",
    "H_а: различия в среднем между группами есть"
   ]
  },
  {
   "cell_type": "markdown",
   "metadata": {},
   "source": [
    "Подготовим таблицы для анализа. Создадим таблицу, в которой по дате будет собрана информация о количестве посетителей в каждой из групп, количестве заказов, выручке и кумулятивные метрики по каждой группе"
   ]
  },
  {
   "cell_type": "code",
   "execution_count": 46,
   "metadata": {},
   "outputs": [],
   "source": [
    "#отфильтровываем данные таблицы о посещениях по группе А\n",
    "visitorsADaily = visitors[visitors['group'] == 'A'][['date', 'visitors']]\n",
    "visitorsADaily.columns = ['date', 'visitorsPerDateA']\n",
    "\n",
    "#cчитаем кумулятивное количество посетителей по группе А\n",
    "visitorsACummulative = visitorsADaily.apply(\n",
    "    lambda x: visitorsADaily[visitorsADaily['date'] <= x['date']].agg(\n",
    "        {'date': 'max', 'visitorsPerDateA': 'sum'}\n",
    "    ),\n",
    "    axis=1,\n",
    ")\n",
    "visitorsACummulative.columns = ['date', 'visitorsCummulativeA']\n",
    "\n",
    "#отфильтровываем данные по группе В\n",
    "visitorsBDaily = visitors[visitors['group'] == 'B'][['date', 'visitors']]\n",
    "visitorsBDaily.columns = ['date', 'visitorsPerDateB']\n",
    "\n",
    "#считаем кумулятивное количество посетителей по группе В\n",
    "visitorsBCummulative = visitorsBDaily.apply(\n",
    "    lambda x: visitorsBDaily[visitorsBDaily['date'] <= x['date']].agg(\n",
    "        {'date': 'max', 'visitorsPerDateB': 'sum'}\n",
    "    ),\n",
    "    axis=1,\n",
    ")\n",
    "visitorsBCummulative.columns = ['date', 'visitorsCummulativeB']"
   ]
  },
  {
   "cell_type": "markdown",
   "metadata": {},
   "source": [
    "Теперь по аналогии готовим столбцы на основе таблицы orders"
   ]
  },
  {
   "cell_type": "code",
   "execution_count": 47,
   "metadata": {},
   "outputs": [],
   "source": [
    "#отфильтровываем данные из таблицы с заказами по группе А, группируем по дате\n",
    "ordersADaily = (\n",
    "    orders[orders['group'] == 'A'][['date', 'transaction_id', 'visitor_id', 'revenue']]\n",
    "    .groupby('date', as_index=False)\n",
    "    .agg({'transaction_id': pd.Series.nunique, 'revenue': 'sum'})\n",
    ")\n",
    "ordersADaily.columns = ['date', 'ordersPerDateA', 'revenuePerDateA']\n",
    "\n",
    "#считаем кумулятивное количество заказов и выручку за день по группе А\n",
    "ordersACummulative = ordersADaily.apply(\n",
    "    lambda x: ordersADaily[ordersADaily['date'] <= x['date']].agg(\n",
    "        {'date': 'max', 'ordersPerDateA': 'sum', 'revenuePerDateA': 'sum'}\n",
    "    ),\n",
    "    axis=1,\n",
    ").sort_values(by=['date'])\n",
    "ordersACummulative.columns = [\n",
    "    'date',\n",
    "    'ordersCummulativeA',\n",
    "    'revenueCummulativeA',\n",
    "]\n",
    "\n",
    "#аналогично - по группе В\n",
    "ordersBDaily = (\n",
    "    orders[orders['group'] == 'B'][['date', 'transaction_id', 'visitor_id', 'revenue']]\n",
    "    .groupby('date', as_index=False)\n",
    "    .agg({'transaction_id': pd.Series.nunique, 'revenue': 'sum'})\n",
    ")\n",
    "ordersBDaily.columns = ['date', 'ordersPerDateB', 'revenuePerDateB']\n",
    "\n",
    "ordersBCummulative = ordersBDaily.apply(\n",
    "    lambda x: ordersBDaily[ordersBDaily['date'] <= x['date']].agg(\n",
    "        {'date': 'max', 'ordersPerDateB': 'sum', 'revenuePerDateB': 'sum'}\n",
    "    ),\n",
    "    axis=1,\n",
    ").sort_values(by=['date'])\n",
    "ordersBCummulative.columns = [\n",
    "    'date',\n",
    "    'ordersCummulativeB',\n",
    "    'revenueCummulativeB',\n",
    "]"
   ]
  },
  {
   "cell_type": "code",
   "execution_count": 48,
   "metadata": {},
   "outputs": [
    {
     "data": {
      "text/html": [
       "<div>\n",
       "<style scoped>\n",
       "    .dataframe tbody tr th:only-of-type {\n",
       "        vertical-align: middle;\n",
       "    }\n",
       "\n",
       "    .dataframe tbody tr th {\n",
       "        vertical-align: top;\n",
       "    }\n",
       "\n",
       "    .dataframe thead th {\n",
       "        text-align: right;\n",
       "    }\n",
       "</style>\n",
       "<table border=\"1\" class=\"dataframe\">\n",
       "  <thead>\n",
       "    <tr style=\"text-align: right;\">\n",
       "      <th></th>\n",
       "      <th>date</th>\n",
       "      <th>ordersPerDateA</th>\n",
       "      <th>revenuePerDateA</th>\n",
       "      <th>ordersPerDateB</th>\n",
       "      <th>revenuePerDateB</th>\n",
       "      <th>ordersCummulativeA</th>\n",
       "      <th>revenueCummulativeA</th>\n",
       "      <th>ordersCummulativeB</th>\n",
       "      <th>revenueCummulativeB</th>\n",
       "      <th>visitorsPerDateA</th>\n",
       "      <th>visitorsPerDateB</th>\n",
       "      <th>visitorsCummulativeA</th>\n",
       "      <th>visitorsCummulativeB</th>\n",
       "    </tr>\n",
       "  </thead>\n",
       "  <tbody>\n",
       "    <tr>\n",
       "      <th>0</th>\n",
       "      <td>2019-08-01</td>\n",
       "      <td>24</td>\n",
       "      <td>148579</td>\n",
       "      <td>21</td>\n",
       "      <td>101217</td>\n",
       "      <td>24</td>\n",
       "      <td>148579</td>\n",
       "      <td>21</td>\n",
       "      <td>101217</td>\n",
       "      <td>719</td>\n",
       "      <td>713</td>\n",
       "      <td>719</td>\n",
       "      <td>713</td>\n",
       "    </tr>\n",
       "    <tr>\n",
       "      <th>1</th>\n",
       "      <td>2019-08-02</td>\n",
       "      <td>20</td>\n",
       "      <td>93822</td>\n",
       "      <td>24</td>\n",
       "      <td>165531</td>\n",
       "      <td>44</td>\n",
       "      <td>242401</td>\n",
       "      <td>45</td>\n",
       "      <td>266748</td>\n",
       "      <td>619</td>\n",
       "      <td>581</td>\n",
       "      <td>1338</td>\n",
       "      <td>1294</td>\n",
       "    </tr>\n",
       "    <tr>\n",
       "      <th>2</th>\n",
       "      <td>2019-08-03</td>\n",
       "      <td>24</td>\n",
       "      <td>112473</td>\n",
       "      <td>16</td>\n",
       "      <td>114248</td>\n",
       "      <td>68</td>\n",
       "      <td>354874</td>\n",
       "      <td>61</td>\n",
       "      <td>380996</td>\n",
       "      <td>507</td>\n",
       "      <td>509</td>\n",
       "      <td>1845</td>\n",
       "      <td>1803</td>\n",
       "    </tr>\n",
       "    <tr>\n",
       "      <th>3</th>\n",
       "      <td>2019-08-04</td>\n",
       "      <td>16</td>\n",
       "      <td>70825</td>\n",
       "      <td>17</td>\n",
       "      <td>108571</td>\n",
       "      <td>84</td>\n",
       "      <td>425699</td>\n",
       "      <td>78</td>\n",
       "      <td>489567</td>\n",
       "      <td>717</td>\n",
       "      <td>770</td>\n",
       "      <td>2562</td>\n",
       "      <td>2573</td>\n",
       "    </tr>\n",
       "    <tr>\n",
       "      <th>4</th>\n",
       "      <td>2019-08-05</td>\n",
       "      <td>25</td>\n",
       "      <td>124218</td>\n",
       "      <td>23</td>\n",
       "      <td>92428</td>\n",
       "      <td>109</td>\n",
       "      <td>549917</td>\n",
       "      <td>101</td>\n",
       "      <td>581995</td>\n",
       "      <td>756</td>\n",
       "      <td>707</td>\n",
       "      <td>3318</td>\n",
       "      <td>3280</td>\n",
       "    </tr>\n",
       "  </tbody>\n",
       "</table>\n",
       "</div>"
      ],
      "text/plain": [
       "         date  ordersPerDateA  revenuePerDateA  ordersPerDateB  \\\n",
       "0  2019-08-01              24           148579              21   \n",
       "1  2019-08-02              20            93822              24   \n",
       "2  2019-08-03              24           112473              16   \n",
       "3  2019-08-04              16            70825              17   \n",
       "4  2019-08-05              25           124218              23   \n",
       "\n",
       "   revenuePerDateB  ordersCummulativeA  revenueCummulativeA  \\\n",
       "0           101217                  24               148579   \n",
       "1           165531                  44               242401   \n",
       "2           114248                  68               354874   \n",
       "3           108571                  84               425699   \n",
       "4            92428                 109               549917   \n",
       "\n",
       "   ordersCummulativeB  revenueCummulativeB  visitorsPerDateA  \\\n",
       "0                  21               101217               719   \n",
       "1                  45               266748               619   \n",
       "2                  61               380996               507   \n",
       "3                  78               489567               717   \n",
       "4                 101               581995               756   \n",
       "\n",
       "   visitorsPerDateB  visitorsCummulativeA  visitorsCummulativeB  \n",
       "0               713                   719                   713  \n",
       "1               581                  1338                  1294  \n",
       "2               509                  1845                  1803  \n",
       "3               770                  2562                  2573  \n",
       "4               707                  3318                  3280  "
      ]
     },
     "execution_count": 48,
     "metadata": {},
     "output_type": "execute_result"
    }
   ],
   "source": [
    "#сводим все в одну таблицу\n",
    "data = (\n",
    "    ordersADaily.merge(\n",
    "        ordersBDaily, left_on='date', right_on='date', how='left'\n",
    "    )\n",
    "    .merge(ordersACummulative, left_on='date', right_on='date', how='left')\n",
    "    .merge(ordersBCummulative, left_on='date', right_on='date', how='left')\n",
    "    .merge(visitorsADaily, left_on='date', right_on='date', how='left')\n",
    "    .merge(visitorsBDaily, left_on='date', right_on='date', how='left')\n",
    "    .merge(visitorsACummulative, left_on='date', right_on='date', how='left')\n",
    "    .merge(visitorsBCummulative, left_on='date', right_on='date', how='left')\n",
    ")\n",
    "\n",
    "data.head(5)"
   ]
  },
  {
   "cell_type": "code",
   "execution_count": 49,
   "metadata": {},
   "outputs": [],
   "source": [
    "#считаем количество заказов на пользователя по группе А\n",
    "ordersByUsersA = (\n",
    "    orders[orders['group'] == 'A']\n",
    "    .groupby('visitor_id', as_index=False)\n",
    "    .agg({'transaction_id': pd.Series.nunique})\n",
    ")\n",
    "ordersByUsersA.columns = ['userId', 'orders']\n",
    "#считаем количество заказов на пользователя по группе B\n",
    "ordersByUsersB = (\n",
    "    orders[orders['group'] == 'B']\n",
    "    .groupby('visitor_id', as_index=False)\n",
    "    .agg({'transaction_id': pd.Series.nunique})\n",
    ")\n",
    "ordersByUsersB.columns = ['userId', 'orders'] \n"
   ]
  },
  {
   "cell_type": "code",
   "execution_count": 50,
   "metadata": {},
   "outputs": [
    {
     "name": "stdout",
     "output_type": "stream",
     "text": [
      "p_value: 0.017\n",
      "Относительное различие между группами: 13.81 %\n",
      "Отвергаем нулевую гипотезу\n"
     ]
    }
   ],
   "source": [
    "#в переменной sampleA пользователю будет определено количество заказов, а у тех, кто ничего не заказал - 0\n",
    "sampleA = pd.concat(\n",
    "    [\n",
    "        ordersByUsersA['orders'],\n",
    "        pd.Series(\n",
    "            0,\n",
    "            index=np.arange(\n",
    "                data['visitorsPerDateA'].sum() - len(ordersByUsersA['orders'])\n",
    "            ),\n",
    "            name='orders',\n",
    "        ),\n",
    "    ],\n",
    "    axis=0,\n",
    ")\n",
    "#аналогично для группы В\n",
    "sampleB = pd.concat(\n",
    "    [\n",
    "        ordersByUsersB['orders'],\n",
    "        pd.Series(\n",
    "            0,\n",
    "            index=np.arange(\n",
    "                data['visitorsPerDateB'].sum() - len(ordersByUsersB['orders'])\n",
    "            ),\n",
    "            name='orders',\n",
    "        ),\n",
    "    ],\n",
    "    axis=0,\n",
    ")\n",
    "#уровень статистической значимости\n",
    "alpha = 0.05\n",
    "#применяем тест Манна-Уитни\n",
    "results_pvalue = stats.mannwhitneyu(sampleA, sampleB)[1]\n",
    "\n",
    "print('p_value:', \"{0:.3f}\".format(results_pvalue))\n",
    "\n",
    "#вычисляем относительное различие в среднем между группами\n",
    "print('Относительное различие между группами:', \"{0:.2f}\".format((sampleB.mean() / sampleA.mean() - 1) * 100), '%')\n",
    "\n",
    "# условный оператор с выводом строки с ответом\n",
    "if results_pvalue < alpha:\n",
    "    print(\"Отвергаем нулевую гипотезу\")\n",
    "else:\n",
    "    print(\"Не получилось отвергнуть нулевую гипотезу\")"
   ]
  },
  {
   "cell_type": "markdown",
   "metadata": {},
   "source": [
    "Получившееся значение p-value меньше 0.05 (уровень критической значимости). Значит, нулевую гипотезу о том, что статистически значимых различий в среднем числе заказов между группами нет, отвергаем. \n",
    "\n",
    "Относительный прирост по количеству заказов группы B равен 13.8%\n",
    "Посмотрим, какие результаты получатся на отфильтрованных данных"
   ]
  },
  {
   "cell_type": "markdown",
   "metadata": {},
   "source": [
    "##### Подсчет статистической значимости различий в среднем чеке заказа по группам по сырым данным"
   ]
  },
  {
   "cell_type": "markdown",
   "metadata": {},
   "source": [
    "Формулируем гипотезы.\n",
    "H_0: различий в среднем чеке заказа между группами нет. \n",
    "H_а: различия в среднем чеке заказа между группами есть"
   ]
  },
  {
   "cell_type": "code",
   "execution_count": 51,
   "metadata": {},
   "outputs": [
    {
     "name": "stdout",
     "output_type": "stream",
     "text": [
      "p_value: 0.729\n",
      "Относительное различие между группами: 25.87 %\n",
      "Не получилось отвергнуть нулевую гипотезу\n"
     ]
    }
   ],
   "source": [
    "#передаем в тест Манна-Уитни данные о среднем чеке\n",
    "results_pvalue = stats.mannwhitneyu(\n",
    "    orders[orders['group']=='A']['revenue'], orders[orders['group']=='B']['revenue'])[1]\n",
    "\n",
    "print('p_value:', \"{0:.3f}\".format(results_pvalue))\n",
    "#вычисляем относительное различие в среднем между группами\n",
    "print('Относительное различие между группами:', '{0:.2f}'.format((orders[orders['group']=='B']['revenue'].mean()/orders[orders['group']=='A']['revenue'].mean()-1) * 100), '%') \n",
    "\n",
    "# условный оператор с выводом строки с ответом\n",
    "if results_pvalue < alpha:\n",
    "    print(\"Отвергаем нулевую гипотезу\")\n",
    "else:\n",
    "    print(\"Не получилось отвергнуть нулевую гипотезу\")\n",
    "\n",
    "\n"
   ]
  },
  {
   "cell_type": "markdown",
   "metadata": {},
   "source": [
    "Получившееся значение p-value значительно выше 0.05, что говорит о том, что нулевую гипотезу отвергать нельзя. Оснований предполагать, что в среднем чеке заказа есть различия между группами, нет.\n",
    "Однако средний чек группы В значительно выше, чем в группе А, относительное различие составляет 25.9%"
   ]
  },
  {
   "cell_type": "markdown",
   "metadata": {},
   "source": [
    "##### Подсчет статистической значимости различий в среднем количестве заказов на посетителя по группам с учетом аномалий"
   ]
  },
  {
   "cell_type": "markdown",
   "metadata": {},
   "source": [
    "Итак, аномально дорогими заказами мы решили считать заказы выше 30 000 рублей (менее 5% заказов) и пользователей, совершивших более 3 заказов, также считаем аномально активными (тоже менее 5% пользователей).\n",
    "Соберем эти аномалии воедино, чтобы оценить, какую долю мы хотим отсечь."
   ]
  },
  {
   "cell_type": "code",
   "execution_count": 52,
   "metadata": {},
   "outputs": [
    {
     "name": "stdout",
     "output_type": "stream",
     "text": [
      "1099    148427295\n",
      "18      199603092\n",
      "23      237748145\n",
      "949     887908475\n",
      "744     888512513\n",
      "dtype: int64\n",
      "20 - количество аномальных пользователей\n"
     ]
    }
   ],
   "source": [
    "#cчитаем аномально активных пользователей с более чем 3 заказами\n",
    "usersWithManyOrders = pd.concat(\n",
    "    [\n",
    "        ordersByUsersA[ordersByUsersA['orders'] >= 4]['userId'],\n",
    "        ordersByUsersB[ordersByUsersB['orders'] >= 4]['userId'],\n",
    "    ],\n",
    "    axis=0,\n",
    ")\n",
    "#считаем пользователей с аномально дорогими заказами\n",
    "usersWithExpensiveOrders = orders[orders['revenue'] >= 58233]['visitor_id']\n",
    "#объединяем их в одну таблицу, избавляемся от дубликатов\n",
    "abnormalUsers = (\n",
    "    pd.concat([usersWithManyOrders, usersWithExpensiveOrders], axis=0)\n",
    "    .drop_duplicates()\n",
    "    .sort_values()\n",
    ")\n",
    "#выведем 5 строк получившейся таблицы\n",
    "print(abnormalUsers.head(5))\n",
    "#считаем, сколько таких пользователей у нас получилось\n",
    "print(abnormalUsers.shape[0], '- количество аномальных пользователей') "
   ]
  },
  {
   "cell_type": "markdown",
   "metadata": {},
   "source": [
    "Получили всего 20 аномальных пользователей"
   ]
  },
  {
   "cell_type": "code",
   "execution_count": 53,
   "metadata": {},
   "outputs": [
    {
     "name": "stdout",
     "output_type": "stream",
     "text": [
      "1.94 %\n"
     ]
    }
   ],
   "source": [
    "#Посчитаем, сколько это от общего числа пользователей\n",
    "print(round(abnormalUsers.shape[0]/orders['visitor_id'].nunique(), 4) * 100 , '%')"
   ]
  },
  {
   "cell_type": "code",
   "execution_count": 54,
   "metadata": {},
   "outputs": [
    {
     "name": "stdout",
     "output_type": "stream",
     "text": [
      "6.43 %\n"
     ]
    }
   ],
   "source": [
    "#Посчитаем, какую долю данных мы усекаем\n",
    "orders_abnormal = orders.loc[orders['visitor_id'].isin(abnormalUsers), 'transaction_id'].count()\n",
    "print(round(orders_abnormal/orders.shape[0], 4) * 100, '%')"
   ]
  },
  {
   "cell_type": "markdown",
   "metadata": {},
   "source": [
    "Мы отсекаем 6,43% данных, укладываемся в предельно допустимую долю."
   ]
  },
  {
   "cell_type": "markdown",
   "metadata": {},
   "source": [
    "Фильтруем данные, подготавливаем для проверки гипотез:"
   ]
  },
  {
   "cell_type": "code",
   "execution_count": 55,
   "metadata": {},
   "outputs": [],
   "source": [
    "sampleAFiltered = pd.concat(\n",
    "    [\n",
    "        ordersByUsersA[\n",
    "            np.logical_not(ordersByUsersA['userId'].isin(abnormalUsers))\n",
    "        ]['orders'],\n",
    "        pd.Series(\n",
    "            0,\n",
    "            index=np.arange(\n",
    "                data['visitorsPerDateA'].sum() - len(ordersByUsersA['orders'])\n",
    "            ),\n",
    "            name='orders',\n",
    "        ),\n",
    "    ],\n",
    "    axis=0,\n",
    ")\n",
    "\n",
    "sampleBFiltered = pd.concat(\n",
    "    [\n",
    "        ordersByUsersB[\n",
    "            np.logical_not(ordersByUsersB['userId'].isin(abnormalUsers))\n",
    "        ]['orders'],\n",
    "        pd.Series(\n",
    "            0,\n",
    "            index=np.arange(\n",
    "                data['visitorsPerDateB'].sum() - len(ordersByUsersB['orders'])\n",
    "            ),\n",
    "            name='orders',\n",
    "        ),\n",
    "    ],\n",
    "    axis=0,\n",
    ") "
   ]
  },
  {
   "cell_type": "code",
   "execution_count": 56,
   "metadata": {},
   "outputs": [
    {
     "name": "stdout",
     "output_type": "stream",
     "text": [
      "p_value: 0.014\n",
      "Относительное различие между группами: 15.10 %\n",
      "Отвергаем нулевую гипотезу\n"
     ]
    }
   ],
   "source": [
    "#передаем в тест Манна-Уитни отфильтрованные данные:\n",
    "results_pvalue = stats.mannwhitneyu(sampleAFiltered, sampleBFiltered)[1]\n",
    "\n",
    "print('p_value:', \"{0:.3f}\".format(results_pvalue))\n",
    "#вычисляем относительное различие в среднем между группами\n",
    "print('Относительное различие между группами:', '{0:.2f}'.format((sampleBFiltered.mean()/sampleAFiltered.mean()-1) * 100), '%')\n",
    "\n",
    "# условный оператор с выводом строки с ответом\n",
    "if results_pvalue < alpha:\n",
    "    print(\"Отвергаем нулевую гипотезу\")\n",
    "else:\n",
    "    print(\"Не получилось отвергнуть нулевую гипотезу\")\n",
    "    "
   ]
  },
  {
   "cell_type": "markdown",
   "metadata": {},
   "source": [
    "Результаты практически не изменились. Получившееся значение p-value меньше 0.05 (уровень критической значимости). Значит, нулевую гипотезу о том, что статистически значимых различий в среднем числе заказов между группами нет, отвергаем.\n",
    "Показатели среднего числа заказов в группе В превышают  группу А на 15,1%"
   ]
  },
  {
   "cell_type": "markdown",
   "metadata": {},
   "source": [
    "Проверяем гипотезу о различиях в среднем чеке между группами на отфильтрованных данных:"
   ]
  },
  {
   "cell_type": "code",
   "execution_count": 57,
   "metadata": {},
   "outputs": [
    {
     "name": "stdout",
     "output_type": "stream",
     "text": [
      "p-value: 0.959\n",
      "Относительное различие между группами: -1.39 %\n",
      "Не получилось отвергнуть нулевую гипотезу\n"
     ]
    }
   ],
   "source": [
    "#передаем в тест Манна-Уитни данные о среднем чеке\n",
    "results_pvalue = stats.mannwhitneyu(\n",
    "            orders[\n",
    "                np.logical_and(\n",
    "                    orders['group'] == 'A',\n",
    "                    np.logical_not(orders['visitor_id'].isin(abnormalUsers)),\n",
    "                )\n",
    "            ]['revenue'],\n",
    "            orders[\n",
    "                np.logical_and(\n",
    "                    orders['group'] == 'B',\n",
    "                    np.logical_not(orders['visitor_id'].isin(abnormalUsers)),\n",
    "                )\n",
    "            ]['revenue'],\n",
    "        )[1]\n",
    "\n",
    "print('p-value:', \"{0:.3f}\".format(results_pvalue))\n",
    "#вычисляем относительное различие в среднем между группами\n",
    "print('Относительное различие между группами:',\n",
    "    \"{0:.2f}\".format((\n",
    "        orders[\n",
    "            np.logical_and(\n",
    "                orders['group'] == 'B',\n",
    "                np.logical_not(orders['visitor_id'].isin(abnormalUsers)),\n",
    "            )\n",
    "        ]['revenue'].mean()\n",
    "        / orders[\n",
    "            np.logical_and(\n",
    "                orders['group'] == 'A',\n",
    "                np.logical_not(orders['visitor_id'].isin(abnormalUsers)),\n",
    "            )\n",
    "        ]['revenue'].mean()\n",
    "        - 1\n",
    "    ) * 100), '%'\n",
    ")  \n",
    "\n",
    "# условный оператор с выводом строки с ответом\n",
    "if results_pvalue < alpha:\n",
    "    print(\"Отвергаем нулевую гипотезу\")\n",
    "else:\n",
    "    print(\"Не получилось отвергнуть нулевую гипотезу\")\n"
   ]
  },
  {
   "cell_type": "markdown",
   "metadata": {},
   "source": [
    "P-value увеличился, но и разница между сегментами существенно сократилась с 25,9% до -1,39%. \n",
    "Нулевую гипотезу отвергать нельзя, как и предполагалось в тесте без учета аномалий.\n",
    "Выбросы в данных повлияли на относительную разницу среднего чека между группами.\n",
    "С учетом аномалий группа B не превышает показатели группы А, напротив, слегка уступает по метрике среднего чека."
   ]
  },
  {
   "cell_type": "markdown",
   "metadata": {},
   "source": [
    "##### Графики кумулятивной выручки, среднего чека, количества заказов на пользователя по группам по очищенным данным "
   ]
  },
  {
   "cell_type": "markdown",
   "metadata": {},
   "source": [
    "Проверим, как будут выглядеть графики кумулятивной выручки, среднего чека, количества заказов на пользователя по группам в случае очищенных от аномалий данных."
   ]
  },
  {
   "cell_type": "code",
   "execution_count": 58,
   "metadata": {},
   "outputs": [
    {
     "data": {
      "text/html": [
       "<div>\n",
       "<style scoped>\n",
       "    .dataframe tbody tr th:only-of-type {\n",
       "        vertical-align: middle;\n",
       "    }\n",
       "\n",
       "    .dataframe tbody tr th {\n",
       "        vertical-align: top;\n",
       "    }\n",
       "\n",
       "    .dataframe thead th {\n",
       "        text-align: right;\n",
       "    }\n",
       "</style>\n",
       "<table border=\"1\" class=\"dataframe\">\n",
       "  <thead>\n",
       "    <tr style=\"text-align: right;\">\n",
       "      <th></th>\n",
       "      <th>transaction_id</th>\n",
       "      <th>visitor_id</th>\n",
       "      <th>date</th>\n",
       "      <th>revenue</th>\n",
       "      <th>group</th>\n",
       "    </tr>\n",
       "  </thead>\n",
       "  <tbody>\n",
       "    <tr>\n",
       "      <th>0</th>\n",
       "      <td>3667963787</td>\n",
       "      <td>3312258926</td>\n",
       "      <td>2019-08-15</td>\n",
       "      <td>1650</td>\n",
       "      <td>B</td>\n",
       "    </tr>\n",
       "    <tr>\n",
       "      <th>1</th>\n",
       "      <td>2804400009</td>\n",
       "      <td>3642806036</td>\n",
       "      <td>2019-08-15</td>\n",
       "      <td>730</td>\n",
       "      <td>B</td>\n",
       "    </tr>\n",
       "    <tr>\n",
       "      <th>2</th>\n",
       "      <td>2961555356</td>\n",
       "      <td>4069496402</td>\n",
       "      <td>2019-08-15</td>\n",
       "      <td>400</td>\n",
       "      <td>A</td>\n",
       "    </tr>\n",
       "    <tr>\n",
       "      <th>3</th>\n",
       "      <td>3797467345</td>\n",
       "      <td>1196621759</td>\n",
       "      <td>2019-08-15</td>\n",
       "      <td>9759</td>\n",
       "      <td>B</td>\n",
       "    </tr>\n",
       "    <tr>\n",
       "      <th>4</th>\n",
       "      <td>2282983706</td>\n",
       "      <td>2322279887</td>\n",
       "      <td>2019-08-15</td>\n",
       "      <td>2308</td>\n",
       "      <td>B</td>\n",
       "    </tr>\n",
       "  </tbody>\n",
       "</table>\n",
       "</div>"
      ],
      "text/plain": [
       "   transaction_id  visitor_id        date  revenue group\n",
       "0      3667963787  3312258926  2019-08-15     1650     B\n",
       "1      2804400009  3642806036  2019-08-15      730     B\n",
       "2      2961555356  4069496402  2019-08-15      400     A\n",
       "3      3797467345  1196621759  2019-08-15     9759     B\n",
       "4      2282983706  2322279887  2019-08-15     2308     B"
      ]
     },
     "execution_count": 58,
     "metadata": {},
     "output_type": "execute_result"
    }
   ],
   "source": [
    "#сохраняем очищенные данные\n",
    "orders_filtered = orders[\n",
    "            np.logical_not(orders['visitor_id'].isin(abnormalUsers)\n",
    "            )\n",
    "        ]\n",
    "\n",
    "orders_filtered.head(5)\n"
   ]
  },
  {
   "cell_type": "code",
   "execution_count": 59,
   "metadata": {},
   "outputs": [
    {
     "data": {
      "image/png": "[encoded data removed]",
      "text/plain": [
       "<Figure size 720x360 with 1 Axes>"
      ]
     },
     "metadata": {
      "needs_background": "light"
     },
     "output_type": "display_data"
    }
   ],
   "source": [
    "#делаем такой же алгоритм, как выше, только на очищенных данных\n",
    "date_group_f = orders_filtered[['date','group']].drop_duplicates() \n",
    "orders_agg_f = date_group_f.apply(\n",
    "    lambda x: orders_filtered[\n",
    "        np.logical_and(\n",
    "            orders_filtered['date'] <= x['date'], orders_filtered['group'] == x['group']\n",
    "        )\n",
    "    ].agg(\n",
    "        {\n",
    "            'date' : 'max', \n",
    "            'group' : 'max', \n",
    "            'transaction_id' : 'nunique', \n",
    "            'visitor_id' : 'nunique', \n",
    "            'revenue' : 'sum'\n",
    "        }\n",
    "    ), \n",
    "    axis=1\n",
    ").sort_values(by=['date','group'])\n",
    "\n",
    "cum_data_f = orders_agg_f.merge(visitors_agg, left_on=['date', 'group'], right_on=['date', 'group'])\n",
    "cum_data_f.columns = ['date', 'group', 'orders', 'buyers', 'revenue', 'visitors']\n",
    "cum_revenue_A_f = cum_data_f[cum_data_f['group']=='A'][['date','revenue', 'orders']]\n",
    "\n",
    "# теперь выделяем данные группы В\n",
    "cum_revenue_B_f = cum_data_f[cum_data_f['group']=='B'][['date','revenue', 'orders']]\n",
    "#задаем размер графика\n",
    "plt.figure(figsize=(10, 5))\n",
    "# Строим график выручки группы А\n",
    "plt.plot(cum_revenue_A_f['date'], cum_revenue_A_f['revenue'], label='A');\n",
    "\n",
    "# Строим график выручки группы B\n",
    "\n",
    "plt.plot(cum_revenue_B_f['date'], cum_revenue_B_f['revenue'], label='B');\n",
    "plt.xticks(rotation=45)\n",
    "plt.legend(); \n",
    "plt.ylabel('Кумулятивная выручка, млн.руб.')\n",
    "plt.suptitle('График кумулятивной выручки по группам');"
   ]
  },
  {
   "cell_type": "markdown",
   "metadata": {},
   "source": [
    "В полученном графике уже не такое сильное отклонение группы В от группы А, пропал резкий скачок, соответствующий дате 18-08-2019, однако линия В все равно расположена выше. "
   ]
  },
  {
   "cell_type": "code",
   "execution_count": 60,
   "metadata": {},
   "outputs": [
    {
     "data": {
      "image/png": "[encoded data removed]",
      "text/plain": [
       "<Figure size 720x360 with 1 Axes>"
      ]
     },
     "metadata": {
      "needs_background": "light"
     },
     "output_type": "display_data"
    }
   ],
   "source": [
    "#задаем размер графика\n",
    "plt.figure(figsize=(10, 5))\n",
    "#строим график среднего чека по датам в группе А\n",
    "plt.plot(cum_revenue_A_f['date'], cum_revenue_A_f['revenue']/cum_revenue_A_f['orders'], label='A');\n",
    "#строим график среднего чека по датам в группе В\n",
    "plt.plot(cum_revenue_B_f['date'], cum_revenue_B_f['revenue']/cum_revenue_B_f['orders'], label='B');\n",
    "#переворачиваем подписи по Х\n",
    "plt.xticks(rotation=45)\n",
    "plt.legend();\n",
    "plt.ylabel('Кумулятивный средний чек, руб.')\n",
    "plt.suptitle('График кумулятивного среднего чека по группам');"
   ]
  },
  {
   "cell_type": "markdown",
   "metadata": {},
   "source": [
    "На очищенных данных пропал резкий скачок метрики у группы В. После нескольких колебаний к концу эксперимента она стала уступать группе А, чего не было на графике по \"сырым\" данным."
   ]
  },
  {
   "cell_type": "code",
   "execution_count": 61,
   "metadata": {},
   "outputs": [
    {
     "data": {
      "image/png": "[encoded data removed]",
      "text/plain": [
       "<Figure size 720x360 with 1 Axes>"
      ]
     },
     "metadata": {
      "needs_background": "light"
     },
     "output_type": "display_data"
    }
   ],
   "source": [
    "# объединяем данные\n",
    "merged_data_f = cum_revenue_A_f.merge(cum_revenue_B_f, left_on='date', right_on='date', how='left', suffixes=['A', 'B']);\n",
    "\n",
    "#задаем размер графика\n",
    "plt.figure(figsize=(10, 5))\n",
    "# cтроим график отношения средних чеков\n",
    "plt.plot(\n",
    "    merged_data_f['date'], \n",
    "    (merged_data_f['revenueB']/merged_data_f['ordersB'])/(merged_data_f['revenueA']/merged_data_f['ordersA'])-1\n",
    ");\n",
    "plt.suptitle('График относительного изменения среднего чека группы В к группе А')\n",
    "\n",
    "# добавляем ось X\n",
    "plt.axhline(y=0, color='black', linestyle='--');\n",
    "#переворачиваем подписи по Х\n",
    "plt.xticks(rotation=45);"
   ]
  },
  {
   "cell_type": "markdown",
   "metadata": {},
   "source": [
    "График относительного изменения среднего чека группы В к группе А также свидетельствует о снижении этого показателя у группы В к концу эксперимента. Однако делать определенные выводы из этого графика нельзя."
   ]
  },
  {
   "cell_type": "code",
   "execution_count": 62,
   "metadata": {},
   "outputs": [],
   "source": [
    "cum_data_f['conversion'] = cum_data_f['orders']/cum_data_f['visitors']\n",
    "\n",
    "# отделяем данные по группе A\n",
    "cum_data_A_f = cum_data_f[cum_data_f['group']=='A']\n",
    "\n",
    "# отделяем данные по группе B\n",
    "cum_data_B_f = cum_data_f[cum_data_f['group']=='B']"
   ]
  },
  {
   "cell_type": "code",
   "execution_count": 63,
   "metadata": {},
   "outputs": [
    {
     "data": {
      "image/png": "[encoded data removed]",
      "text/plain": [
       "<Figure size 720x360 with 1 Axes>"
      ]
     },
     "metadata": {
      "needs_background": "light"
     },
     "output_type": "display_data"
    }
   ],
   "source": [
    "merged_data_conv_f = cum_data_A_f[['date','conversion']].merge(\n",
    "            cum_data_B_f[['date','conversion']], \n",
    "            left_on='date', \n",
    "            right_on='date', \n",
    "            how='left', \n",
    "            suffixes=['A', 'B']\n",
    "          )\n",
    "#задаем размер графика\n",
    "plt.figure(figsize=(10, 5))\n",
    "#строим график\n",
    "plt.plot(\n",
    "    merged_data_conv_f['date'], \n",
    "    merged_data_conv_f['conversionB']/merged_data_conv_f['conversionA']-1, \n",
    "    label=\"Относительный прирост среднего количества заказов группы B относительно группы A\"\n",
    ");\n",
    "\n",
    "plt.suptitle('Относительное изменение количества заказов в группе В к группе А')\n",
    "plt.legend();\n",
    "\n",
    "plt.axhline(y=0, color='black', linestyle='--');\n",
    "\n",
    "#переворачиваем подписи по Х\n",
    "plt.xticks(rotation=45);\n",
    "plt.axis([\"2019-08-01\", '2019-08-31', -0.2, 0.3]);"
   ]
  },
  {
   "cell_type": "markdown",
   "metadata": {},
   "source": [
    "А вот график по относительному изменению количества заказов на посетителя группы В к группе А практически не изменился на отфильтрованных данных. С заказами на посетителя в группе В все гораздо лучше, чем в группе А. Тенденция на снижение не наблюдается."
   ]
  },
  {
   "cell_type": "markdown",
   "metadata": {},
   "source": [
    "**Выводы:**\n",
    "- Существует статистически значимое различие по среднему количеству заказов между группами по «сырым», а также по данным после фильтрации аномалий; данная метрика в группе В превышает группу А на 15,1% на отфильтрованных данных\n",
    "\n",
    "- Нет статистически значимого различия по среднему чеку между группами ни по «сырым», ни по данным после фильтрации аномалий, группа В на отфильтрованных данных уступает группе А по этому показателю на 1.39%;\n",
    "\n",
    "Построенные графики кумулятивной выручки, среднего чека, количества заказов на пользователя показывают, что данные метрики продолжают колебаться, есть превосходство группы В по среднему количеству заказов на пользователя, кумулятивной выручке и небольшое отставание от группы А по среднему чеку.\n",
    "\n",
    "На мой взгляд, наиболее целесообразным в данной ситуации является остановить эксперимент и признать А/В тест успешным."
   ]
  },
  {
   "cell_type": "markdown",
   "metadata": {},
   "source": [
    "### Общий вывод"
   ]
  },
  {
   "cell_type": "markdown",
   "metadata": {},
   "source": [
    "<div class=\"alert alert-info\"> <b>\n",
    "На основе данных о гипотезах была проведена их приоритизация по фреймворку ICE и RICE.  В рейтинге по ICE лидируют гипотезы, имеющие низкий показатель охвата (вовлеченности) пользователей, но с высокой степенью влияния изменения на охваченных пользователей и уверенностью в правильной оценке показателей. Лидеры среди гипотез по оценке RICE имеют больший охват пользователей. Если сравнить лидеров ICE и RICE по трудозатратности, то здесь нет различий. Выбор между полученными рейтингами гипотез ICE и RICE зависит от целей и стратегии компании.</b> \n",
    "    \n",
    "<b>В ходе проекта был также проведен анализ результатов А/В теста. На этапе предобработки данных в исходных датафреймах были изменены названия столбцов на нижний регистр и соответствие \"змеиному коду\". В целом данные очень качественные, дубликатов нет, пропуски также отсуствуют.</b> \n",
    "    \n",
    "<b>Перед анализом А/В теста  были выдвинуты следующие задачи:</b> \n",
    "\n",
    "<b> 1. Построить графики кумулятивной выручки, среднего чека, среднего количества заказов на посетителя по группам, а также графики относительного изменения данных метрик в группе В к группе А.\n",
    "</b> \n",
    "    \n",
    "<b> 2. Провести анализ выбросов в данных: построить точечный график количества заказов по пользователям, точечный график стоимости заказов, посчитать 95-й и 99-й перцентили \n",
    "</b> \n",
    "        \n",
    "<b> 3. Посчитать статистическую значимость различий в среднем чеке заказа, среднем количестве заказов на пользователя по группам, как по \"сырым\", так и по очищенным от аномалий данным\n",
    "</b> \n",
    "    \n",
    "<b> В ходе анализа был изучен каждый из вышеперечисленных показателей, построены графики их изменения. Исследование позволило получить следующие результаты:</b> \n",
    "\n",
    "<b> 1. График кумулятивной выручки: в обеих группах выручка увеличивается в течении всего периода проведения теста. Уровень выручки в группе В превосходит группу А практически по всему периоду проведения эксперимента. До фильтрации данных на графике в группе В был резкий скачок (соответствующий дате 18-08-2019), который не фиксируется на очищенных от аномалий данных. Несмотря на это, превосходство группы В по выручке на отфильтрованных данных сохраняется. </b> \n",
    " \n",
    "<b>     График среднего чека: в первой половине срока проведения эксперимента были резкие колебания метрики среднего чека. Данные стабилизировались только к концу. На неотфильтрованных от аномалий данных группа В превосходит группу А по среднему чеку, на данных без аномальных пользователей к концу проведения эксперимента группа В, напротив, начинает уступать группе А. </b> \n",
    "\n",
    "<b>     График относительного изменения среднего чека группы В к группе А свидетельствует о снижении этого показателя у группы В к концу эксперимента на отфильтрованных данных, по сырым данным картина обратная - группа В превосходит группу А. В обоих случаях на графике метрика имеет сильные колебания, поэтому делать какие-либо точные выводы по нему нельзя.</b> \n",
    "\n",
    "<b>     График кумулятивного среднего количества заказов на посетителя по группам: в  первой половине срока проведения теста в обеих группах были сильные колебания, к концу скачки уменьшились, метрика стабилизировалась. Конверсия группы В заметно выше, чем в группе А. Об этом же свидетельствует график относительного изменения среднего количества заказов на посетителя в группе В к группе А, группа В явно лидирует, как на сырых, так и на отфильтрованных данных. </b> \n",
    "    \n",
    "<b> 2.  Построенные точечные графики количества заказов по пользователям, стоимости заказов показал начилие аномалий в данных. Подсчет перцентилей позволил определить, что менее 5% заказов оформляются на сумму выше 28 000 рублей, и не более 1% - свыше 58 233,2 рублей.  </b>\n",
    "    \n",
    " <b>    По количеству заказов ситуация следующая: не более 5% пользователей совершают более 2 заказов, и не более 1% - более 4 заказов.  </b>\n",
    "    \n",
    "<b>    Таким образом, аномальными пользователями были приняты те, кто оформил заказ на сумму свыше 58233 рублей, а также от 4 и более заказов в исследуемый период (99-й перцентиль). Из общего объема данных аномалии составляют 6,43%, что укладывается в верхний предел по фильтрации данных.</b> \n",
    "    \n",
    "    \n",
    "<b> 3. Существует статистически значимое различие по среднему количеству заказов на пользователя между группами как по «сырым», так и по данным после фильтрации аномалий, данная метрика в группе В превышает группу А на 15,1% (на отфильтрованных данных). </b>    \n",
    "    \n",
    "\n",
    "<b>Нет статистически значимого различия по среднему чеку между группами ни по «сырым», ни по данным после фильтрации аномалий, группа В на отфильтрованных данных уступает группе А по этому показателю на 1.39%.\n",
    "    \n",
    "\n",
    "<b>Поскольку есть явное превосходство группы В по одной из метрик (количество заказов на посетителя), и отсутствие различия (а соответственно, и проигрыша) по другой (средний чек заказа), а также превосходство группы В по данным из графика кумулятивной выручки, эксперимент целесообразно остановить и признать А/В тест успешным. </b> \n",
    "\n",
    "</div>  \n"
   ]
  }
 ],
 "metadata": {
  "ExecuteTimeLog": [
   {
    "duration": 410,
    "start_time": "2023-01-24T20:45:25.875Z"
   },
   {
    "duration": 81,
    "start_time": "2023-01-24T20:46:32.703Z"
   },
   {
    "duration": 15,
    "start_time": "2023-01-24T20:46:50.926Z"
   },
   {
    "duration": 10,
    "start_time": "2023-01-24T20:48:00.095Z"
   },
   {
    "duration": 27,
    "start_time": "2023-01-24T20:53:49.721Z"
   },
   {
    "duration": 11,
    "start_time": "2023-01-24T20:53:52.361Z"
   },
   {
    "duration": 3,
    "start_time": "2023-01-24T20:54:38.122Z"
   },
   {
    "duration": 13,
    "start_time": "2023-01-24T20:54:54.266Z"
   },
   {
    "duration": 8,
    "start_time": "2023-01-24T20:55:37.112Z"
   },
   {
    "duration": 9,
    "start_time": "2023-01-24T20:57:00.769Z"
   },
   {
    "duration": 404,
    "start_time": "2023-01-24T21:23:47.567Z"
   },
   {
    "duration": 183,
    "start_time": "2023-01-24T21:27:46.984Z"
   },
   {
    "duration": 366,
    "start_time": "2023-01-24T21:28:07.375Z"
   },
   {
    "duration": 9,
    "start_time": "2023-01-24T21:28:39.943Z"
   },
   {
    "duration": 11,
    "start_time": "2023-01-24T21:29:25.057Z"
   },
   {
    "duration": 11,
    "start_time": "2023-01-24T21:29:51.562Z"
   },
   {
    "duration": 14,
    "start_time": "2023-01-24T21:30:13.380Z"
   },
   {
    "duration": 10,
    "start_time": "2023-01-24T21:30:24.394Z"
   },
   {
    "duration": 5,
    "start_time": "2023-01-24T21:40:27.580Z"
   },
   {
    "duration": 7,
    "start_time": "2023-01-24T21:40:41.182Z"
   },
   {
    "duration": 7,
    "start_time": "2023-01-24T21:40:58.643Z"
   },
   {
    "duration": 6,
    "start_time": "2023-01-24T21:42:06.443Z"
   },
   {
    "duration": 21,
    "start_time": "2023-01-24T21:42:11.525Z"
   },
   {
    "duration": 59,
    "start_time": "2023-01-25T08:58:48.411Z"
   },
   {
    "duration": 9,
    "start_time": "2023-01-25T08:58:53.895Z"
   },
   {
    "duration": 778,
    "start_time": "2023-01-25T08:59:05.739Z"
   },
   {
    "duration": 135,
    "start_time": "2023-01-25T08:59:10.262Z"
   },
   {
    "duration": 12,
    "start_time": "2023-01-25T08:59:12.818Z"
   },
   {
    "duration": 7,
    "start_time": "2023-01-25T08:59:15.436Z"
   },
   {
    "duration": 4,
    "start_time": "2023-01-25T08:59:17.758Z"
   },
   {
    "duration": 5,
    "start_time": "2023-01-25T08:59:29.052Z"
   },
   {
    "duration": 6,
    "start_time": "2023-01-25T09:01:57.936Z"
   },
   {
    "duration": 52,
    "start_time": "2023-01-25T09:03:00.381Z"
   },
   {
    "duration": 148,
    "start_time": "2023-01-25T09:04:08.725Z"
   },
   {
    "duration": 120,
    "start_time": "2023-01-25T09:04:54.307Z"
   },
   {
    "duration": 9,
    "start_time": "2023-01-25T09:05:40.799Z"
   },
   {
    "duration": 278,
    "start_time": "2023-01-25T09:06:19.140Z"
   },
   {
    "duration": 267,
    "start_time": "2023-01-25T09:07:29.127Z"
   },
   {
    "duration": 265,
    "start_time": "2023-01-25T09:07:34.959Z"
   },
   {
    "duration": 4,
    "start_time": "2023-01-25T12:12:13.662Z"
   },
   {
    "duration": 10,
    "start_time": "2023-01-25T12:16:21.011Z"
   },
   {
    "duration": 6,
    "start_time": "2023-01-25T12:16:27.702Z"
   },
   {
    "duration": 229,
    "start_time": "2023-01-25T12:16:31.211Z"
   },
   {
    "duration": 10,
    "start_time": "2023-01-25T12:20:27.341Z"
   },
   {
    "duration": 166,
    "start_time": "2023-01-25T12:20:31.722Z"
   },
   {
    "duration": 9,
    "start_time": "2023-01-25T12:20:34.401Z"
   },
   {
    "duration": 50,
    "start_time": "2023-01-25T12:31:54.550Z"
   },
   {
    "duration": 8,
    "start_time": "2023-01-25T12:31:56.950Z"
   },
   {
    "duration": 8,
    "start_time": "2023-01-25T12:32:00.872Z"
   },
   {
    "duration": 4,
    "start_time": "2023-01-25T12:32:03.762Z"
   },
   {
    "duration": 5,
    "start_time": "2023-01-25T12:32:07.471Z"
   },
   {
    "duration": 5,
    "start_time": "2023-01-25T12:32:29.794Z"
   },
   {
    "duration": 18,
    "start_time": "2023-01-25T12:33:51.909Z"
   },
   {
    "duration": 8,
    "start_time": "2023-01-25T12:35:04.570Z"
   },
   {
    "duration": 4,
    "start_time": "2023-01-25T12:36:00.901Z"
   },
   {
    "duration": 9,
    "start_time": "2023-01-25T12:40:32.775Z"
   },
   {
    "duration": 4,
    "start_time": "2023-01-25T12:40:42.950Z"
   },
   {
    "duration": 6,
    "start_time": "2023-01-25T12:40:45.864Z"
   },
   {
    "duration": 156,
    "start_time": "2023-01-25T12:40:47.369Z"
   },
   {
    "duration": 111,
    "start_time": "2023-01-25T12:40:49.570Z"
   },
   {
    "duration": 8,
    "start_time": "2023-01-25T12:40:51.630Z"
   },
   {
    "duration": 8,
    "start_time": "2023-01-25T12:40:57.863Z"
   },
   {
    "duration": 10,
    "start_time": "2023-01-25T12:42:01.558Z"
   },
   {
    "duration": 10,
    "start_time": "2023-01-25T12:42:45.649Z"
   },
   {
    "duration": 261,
    "start_time": "2023-01-25T12:45:35.128Z"
   },
   {
    "duration": 257,
    "start_time": "2023-01-25T12:46:16.477Z"
   },
   {
    "duration": 266,
    "start_time": "2023-01-25T12:54:36.604Z"
   },
   {
    "duration": 278,
    "start_time": "2023-01-25T12:54:47.221Z"
   },
   {
    "duration": 450,
    "start_time": "2023-01-25T13:04:00.980Z"
   },
   {
    "duration": 431,
    "start_time": "2023-01-25T13:04:11.576Z"
   },
   {
    "duration": 370,
    "start_time": "2023-01-25T13:04:46.863Z"
   },
   {
    "duration": 358,
    "start_time": "2023-01-25T13:04:56.958Z"
   },
   {
    "duration": 358,
    "start_time": "2023-01-25T13:05:33.657Z"
   },
   {
    "duration": 478,
    "start_time": "2023-01-25T13:05:38.119Z"
   },
   {
    "duration": 476,
    "start_time": "2023-01-25T13:05:46.520Z"
   },
   {
    "duration": 413,
    "start_time": "2023-01-25T13:06:02.575Z"
   },
   {
    "duration": 6,
    "start_time": "2023-01-25T13:17:06.212Z"
   },
   {
    "duration": 9,
    "start_time": "2023-01-25T13:17:18.872Z"
   },
   {
    "duration": 9,
    "start_time": "2023-01-25T13:17:37.054Z"
   },
   {
    "duration": 252,
    "start_time": "2023-01-25T13:18:58.491Z"
   },
   {
    "duration": 265,
    "start_time": "2023-01-25T13:22:25.685Z"
   },
   {
    "duration": 269,
    "start_time": "2023-01-25T13:22:49.516Z"
   },
   {
    "duration": 417,
    "start_time": "2023-01-25T13:43:08.465Z"
   },
   {
    "duration": 427,
    "start_time": "2023-01-25T13:43:32.097Z"
   },
   {
    "duration": 378,
    "start_time": "2023-01-25T13:44:19.193Z"
   },
   {
    "duration": 50,
    "start_time": "2023-01-25T13:46:59.293Z"
   },
   {
    "duration": 401,
    "start_time": "2023-01-25T13:47:09.787Z"
   },
   {
    "duration": 462,
    "start_time": "2023-01-25T13:48:24.023Z"
   },
   {
    "duration": 252,
    "start_time": "2023-01-25T13:48:36.365Z"
   },
   {
    "duration": 339,
    "start_time": "2023-01-25T13:49:07.322Z"
   },
   {
    "duration": 262,
    "start_time": "2023-01-25T13:49:21.106Z"
   },
   {
    "duration": 350,
    "start_time": "2023-01-25T13:49:34.840Z"
   },
   {
    "duration": 411,
    "start_time": "2023-01-25T13:51:45.569Z"
   },
   {
    "duration": 298,
    "start_time": "2023-01-25T13:52:30.589Z"
   },
   {
    "duration": 359,
    "start_time": "2023-01-25T13:52:47.749Z"
   },
   {
    "duration": 299,
    "start_time": "2023-01-25T18:10:11.965Z"
   },
   {
    "duration": 315,
    "start_time": "2023-01-25T18:11:04.108Z"
   },
   {
    "duration": 281,
    "start_time": "2023-01-25T18:13:05.868Z"
   },
   {
    "duration": 272,
    "start_time": "2023-01-25T18:13:30.357Z"
   },
   {
    "duration": 270,
    "start_time": "2023-01-25T18:17:04.302Z"
   },
   {
    "duration": 362,
    "start_time": "2023-01-25T18:17:26.419Z"
   },
   {
    "duration": 396,
    "start_time": "2023-01-25T18:19:32.563Z"
   },
   {
    "duration": 4,
    "start_time": "2023-01-26T08:20:01.276Z"
   },
   {
    "duration": 4,
    "start_time": "2023-01-26T08:20:13.923Z"
   },
   {
    "duration": 5,
    "start_time": "2023-01-26T08:23:03.276Z"
   },
   {
    "duration": 294,
    "start_time": "2023-01-26T08:27:25.944Z"
   },
   {
    "duration": 385,
    "start_time": "2023-01-26T08:32:22.166Z"
   },
   {
    "duration": 15,
    "start_time": "2023-01-26T08:34:02.534Z"
   },
   {
    "duration": 60,
    "start_time": "2023-01-26T08:35:01.832Z"
   },
   {
    "duration": 6,
    "start_time": "2023-01-26T08:35:09.081Z"
   },
   {
    "duration": 7,
    "start_time": "2023-01-26T08:35:21.793Z"
   },
   {
    "duration": 6,
    "start_time": "2023-01-26T08:39:01.881Z"
   },
   {
    "duration": 5,
    "start_time": "2023-01-26T08:39:08.378Z"
   },
   {
    "duration": 398,
    "start_time": "2023-01-26T08:40:51.216Z"
   },
   {
    "duration": 272,
    "start_time": "2023-01-26T08:42:00.568Z"
   },
   {
    "duration": 250,
    "start_time": "2023-01-26T08:42:16.538Z"
   },
   {
    "duration": 590,
    "start_time": "2023-01-26T08:45:37.502Z"
   },
   {
    "duration": 301,
    "start_time": "2023-01-26T08:45:53.658Z"
   },
   {
    "duration": 411,
    "start_time": "2023-01-26T08:48:07.478Z"
   },
   {
    "duration": 395,
    "start_time": "2023-01-26T08:49:11.514Z"
   },
   {
    "duration": 423,
    "start_time": "2023-01-26T08:49:54.987Z"
   },
   {
    "duration": 7,
    "start_time": "2023-01-26T08:50:10.632Z"
   },
   {
    "duration": 287,
    "start_time": "2023-01-26T08:51:12.590Z"
   },
   {
    "duration": 366,
    "start_time": "2023-01-26T08:51:59.255Z"
   },
   {
    "duration": 327,
    "start_time": "2023-01-26T08:52:34.110Z"
   },
   {
    "duration": 272,
    "start_time": "2023-01-26T08:52:39.759Z"
   },
   {
    "duration": 367,
    "start_time": "2023-01-26T08:53:48.476Z"
   },
   {
    "duration": 9,
    "start_time": "2023-01-26T09:01:26.221Z"
   },
   {
    "duration": 50,
    "start_time": "2023-01-26T09:01:43.995Z"
   },
   {
    "duration": 8,
    "start_time": "2023-01-26T09:01:45.986Z"
   },
   {
    "duration": 10,
    "start_time": "2023-01-26T09:01:49.265Z"
   },
   {
    "duration": 4,
    "start_time": "2023-01-26T09:01:52.892Z"
   },
   {
    "duration": 4,
    "start_time": "2023-01-26T09:01:55.939Z"
   },
   {
    "duration": 9,
    "start_time": "2023-01-26T09:02:00.816Z"
   },
   {
    "duration": 7,
    "start_time": "2023-01-26T09:02:18.517Z"
   },
   {
    "duration": 156,
    "start_time": "2023-01-26T09:02:20.235Z"
   },
   {
    "duration": 9,
    "start_time": "2023-01-26T09:02:31.827Z"
   },
   {
    "duration": 142,
    "start_time": "2023-01-26T09:02:50.201Z"
   },
   {
    "duration": 133,
    "start_time": "2023-01-26T09:03:00.448Z"
   },
   {
    "duration": 129,
    "start_time": "2023-01-26T09:03:59.349Z"
   },
   {
    "duration": 128,
    "start_time": "2023-01-26T09:05:37.972Z"
   },
   {
    "duration": 135,
    "start_time": "2023-01-26T09:06:03.135Z"
   },
   {
    "duration": 4,
    "start_time": "2023-01-26T09:34:29.894Z"
   },
   {
    "duration": 133,
    "start_time": "2023-01-26T09:40:46.609Z"
   },
   {
    "duration": 170,
    "start_time": "2023-01-26T09:42:01.381Z"
   },
   {
    "duration": 186,
    "start_time": "2023-01-26T09:42:10.927Z"
   },
   {
    "duration": 179,
    "start_time": "2023-01-26T09:42:43.402Z"
   },
   {
    "duration": 197,
    "start_time": "2023-01-26T09:43:17.106Z"
   },
   {
    "duration": 311,
    "start_time": "2023-01-26T09:45:35.120Z"
   },
   {
    "duration": 10,
    "start_time": "2023-01-26T09:55:11.532Z"
   },
   {
    "duration": 10,
    "start_time": "2023-01-26T09:58:30.644Z"
   },
   {
    "duration": 11,
    "start_time": "2023-01-26T09:58:52.814Z"
   },
   {
    "duration": 12,
    "start_time": "2023-01-26T09:59:14.925Z"
   },
   {
    "duration": 13,
    "start_time": "2023-01-26T09:59:24.292Z"
   },
   {
    "duration": 10,
    "start_time": "2023-01-26T09:59:31.389Z"
   },
   {
    "duration": 11,
    "start_time": "2023-01-26T10:00:15.073Z"
   },
   {
    "duration": 48,
    "start_time": "2023-01-26T10:00:36.013Z"
   },
   {
    "duration": 11,
    "start_time": "2023-01-26T10:00:45.772Z"
   },
   {
    "duration": 15,
    "start_time": "2023-01-26T10:02:16.750Z"
   },
   {
    "duration": 126,
    "start_time": "2023-01-26T10:02:42.379Z"
   },
   {
    "duration": 113,
    "start_time": "2023-01-26T10:02:49.582Z"
   },
   {
    "duration": 127,
    "start_time": "2023-01-26T10:06:55.395Z"
   },
   {
    "duration": 4,
    "start_time": "2023-01-26T10:08:22.732Z"
   },
   {
    "duration": 9,
    "start_time": "2023-01-26T10:33:02.548Z"
   },
   {
    "duration": 91,
    "start_time": "2023-01-26T10:33:08.516Z"
   },
   {
    "duration": 108,
    "start_time": "2023-01-26T10:33:24.016Z"
   },
   {
    "duration": 11,
    "start_time": "2023-01-26T10:33:25.546Z"
   },
   {
    "duration": 20,
    "start_time": "2023-01-26T10:35:27.864Z"
   },
   {
    "duration": 108,
    "start_time": "2023-01-26T10:43:52.653Z"
   },
   {
    "duration": 25,
    "start_time": "2023-01-26T10:43:55.004Z"
   },
   {
    "duration": 141,
    "start_time": "2023-01-26T10:47:40.251Z"
   },
   {
    "duration": 14,
    "start_time": "2023-01-26T10:51:43.372Z"
   },
   {
    "duration": 13,
    "start_time": "2023-01-26T10:52:02.594Z"
   },
   {
    "duration": 4,
    "start_time": "2023-01-26T10:52:55.147Z"
   },
   {
    "duration": 26,
    "start_time": "2023-01-26T10:53:11.334Z"
   },
   {
    "duration": 12,
    "start_time": "2023-01-26T11:01:28.824Z"
   },
   {
    "duration": 11,
    "start_time": "2023-01-26T11:04:48.863Z"
   },
   {
    "duration": 794,
    "start_time": "2023-01-26T12:47:38.452Z"
   },
   {
    "duration": 12,
    "start_time": "2023-01-26T12:48:07.560Z"
   },
   {
    "duration": 10,
    "start_time": "2023-01-26T12:59:27.671Z"
   },
   {
    "duration": 5,
    "start_time": "2023-01-26T12:59:38.545Z"
   },
   {
    "duration": 6,
    "start_time": "2023-01-26T13:00:21.385Z"
   },
   {
    "duration": 4,
    "start_time": "2023-01-26T13:01:14.690Z"
   },
   {
    "duration": 14,
    "start_time": "2023-01-26T13:02:59.527Z"
   },
   {
    "duration": 5,
    "start_time": "2023-01-26T13:03:10.323Z"
   },
   {
    "duration": 13,
    "start_time": "2023-01-26T13:04:10.433Z"
   },
   {
    "duration": 12,
    "start_time": "2023-01-26T13:04:25.099Z"
   },
   {
    "duration": 5,
    "start_time": "2023-01-26T13:06:08.261Z"
   },
   {
    "duration": 6,
    "start_time": "2023-01-26T13:06:38.716Z"
   },
   {
    "duration": 6,
    "start_time": "2023-01-26T13:07:05.162Z"
   },
   {
    "duration": 7,
    "start_time": "2023-01-26T13:08:13.255Z"
   },
   {
    "duration": 6,
    "start_time": "2023-01-26T13:08:31.853Z"
   },
   {
    "duration": 6,
    "start_time": "2023-01-26T13:08:41.514Z"
   },
   {
    "duration": 12,
    "start_time": "2023-01-26T13:09:52.013Z"
   },
   {
    "duration": 17,
    "start_time": "2023-01-26T13:22:28.099Z"
   },
   {
    "duration": 24,
    "start_time": "2023-01-26T13:22:47.706Z"
   },
   {
    "duration": 954,
    "start_time": "2023-01-26T13:24:44.925Z"
   },
   {
    "duration": 15,
    "start_time": "2023-01-26T13:25:39.648Z"
   },
   {
    "duration": 44,
    "start_time": "2023-01-27T11:24:09.156Z"
   },
   {
    "duration": 1294,
    "start_time": "2023-01-27T11:24:25.225Z"
   },
   {
    "duration": 76,
    "start_time": "2023-01-27T11:24:26.522Z"
   },
   {
    "duration": 16,
    "start_time": "2023-01-27T11:24:26.601Z"
   },
   {
    "duration": 15,
    "start_time": "2023-01-27T11:24:26.620Z"
   },
   {
    "duration": 58,
    "start_time": "2023-01-27T11:24:26.638Z"
   },
   {
    "duration": 56,
    "start_time": "2023-01-27T11:24:26.698Z"
   },
   {
    "duration": 176,
    "start_time": "2023-01-27T11:24:26.756Z"
   },
   {
    "duration": 11,
    "start_time": "2023-01-27T11:24:26.934Z"
   },
   {
    "duration": 36,
    "start_time": "2023-01-27T11:24:26.946Z"
   },
   {
    "duration": 31,
    "start_time": "2023-01-27T11:24:26.984Z"
   },
   {
    "duration": 62,
    "start_time": "2023-01-27T11:24:27.017Z"
   },
   {
    "duration": 43,
    "start_time": "2023-01-27T11:24:27.081Z"
   },
   {
    "duration": 15,
    "start_time": "2023-01-27T11:24:27.125Z"
   },
   {
    "duration": 49,
    "start_time": "2023-01-27T11:24:27.142Z"
   },
   {
    "duration": 0,
    "start_time": "2023-01-27T11:24:27.193Z"
   },
   {
    "duration": 0,
    "start_time": "2023-01-27T11:24:27.194Z"
   },
   {
    "duration": 0,
    "start_time": "2023-01-27T11:24:27.195Z"
   },
   {
    "duration": 0,
    "start_time": "2023-01-27T11:24:27.196Z"
   },
   {
    "duration": 0,
    "start_time": "2023-01-27T11:24:27.196Z"
   },
   {
    "duration": 0,
    "start_time": "2023-01-27T11:24:27.197Z"
   },
   {
    "duration": 0,
    "start_time": "2023-01-27T11:24:27.198Z"
   },
   {
    "duration": 0,
    "start_time": "2023-01-27T11:24:27.200Z"
   },
   {
    "duration": 0,
    "start_time": "2023-01-27T11:24:27.200Z"
   },
   {
    "duration": 0,
    "start_time": "2023-01-27T11:24:27.201Z"
   },
   {
    "duration": 0,
    "start_time": "2023-01-27T11:24:27.202Z"
   },
   {
    "duration": 0,
    "start_time": "2023-01-27T11:24:27.203Z"
   },
   {
    "duration": 0,
    "start_time": "2023-01-27T11:24:27.204Z"
   },
   {
    "duration": 0,
    "start_time": "2023-01-27T11:24:27.205Z"
   },
   {
    "duration": 0,
    "start_time": "2023-01-27T11:24:27.206Z"
   },
   {
    "duration": 0,
    "start_time": "2023-01-27T11:24:27.207Z"
   },
   {
    "duration": 0,
    "start_time": "2023-01-27T11:24:27.208Z"
   },
   {
    "duration": 0,
    "start_time": "2023-01-27T11:24:27.209Z"
   },
   {
    "duration": 0,
    "start_time": "2023-01-27T11:24:27.209Z"
   },
   {
    "duration": 0,
    "start_time": "2023-01-27T11:24:27.210Z"
   },
   {
    "duration": 0,
    "start_time": "2023-01-27T11:24:27.211Z"
   },
   {
    "duration": 0,
    "start_time": "2023-01-27T11:24:27.212Z"
   },
   {
    "duration": 0,
    "start_time": "2023-01-27T11:24:27.213Z"
   },
   {
    "duration": 0,
    "start_time": "2023-01-27T11:24:27.214Z"
   },
   {
    "duration": 0,
    "start_time": "2023-01-27T11:24:27.215Z"
   },
   {
    "duration": 0,
    "start_time": "2023-01-27T11:24:27.216Z"
   },
   {
    "duration": 0,
    "start_time": "2023-01-27T11:24:27.217Z"
   },
   {
    "duration": 0,
    "start_time": "2023-01-27T11:24:27.218Z"
   },
   {
    "duration": 0,
    "start_time": "2023-01-27T11:24:27.219Z"
   },
   {
    "duration": 0,
    "start_time": "2023-01-27T11:24:27.220Z"
   },
   {
    "duration": 0,
    "start_time": "2023-01-27T11:24:27.221Z"
   },
   {
    "duration": 0,
    "start_time": "2023-01-27T11:24:27.222Z"
   },
   {
    "duration": 0,
    "start_time": "2023-01-27T11:24:27.223Z"
   },
   {
    "duration": 0,
    "start_time": "2023-01-27T11:24:27.224Z"
   },
   {
    "duration": 0,
    "start_time": "2023-01-27T11:24:27.240Z"
   },
   {
    "duration": 0,
    "start_time": "2023-01-27T11:24:27.241Z"
   },
   {
    "duration": 0,
    "start_time": "2023-01-27T11:24:27.242Z"
   },
   {
    "duration": 0,
    "start_time": "2023-01-27T11:24:27.243Z"
   },
   {
    "duration": 0,
    "start_time": "2023-01-27T11:24:27.243Z"
   },
   {
    "duration": 0,
    "start_time": "2023-01-27T11:24:27.244Z"
   },
   {
    "duration": 0,
    "start_time": "2023-01-27T11:24:27.245Z"
   },
   {
    "duration": 0,
    "start_time": "2023-01-27T11:24:27.245Z"
   },
   {
    "duration": 0,
    "start_time": "2023-01-27T11:24:27.246Z"
   },
   {
    "duration": 0,
    "start_time": "2023-01-27T11:24:27.246Z"
   },
   {
    "duration": 1092,
    "start_time": "2023-01-27T11:25:25.363Z"
   },
   {
    "duration": 24,
    "start_time": "2023-01-27T11:25:26.457Z"
   },
   {
    "duration": 12,
    "start_time": "2023-01-27T11:25:26.482Z"
   },
   {
    "duration": 5,
    "start_time": "2023-01-27T11:25:26.496Z"
   },
   {
    "duration": 23,
    "start_time": "2023-01-27T11:25:26.503Z"
   },
   {
    "duration": 25,
    "start_time": "2023-01-27T11:25:26.528Z"
   },
   {
    "duration": 46,
    "start_time": "2023-01-27T11:25:26.554Z"
   },
   {
    "duration": 8,
    "start_time": "2023-01-27T11:25:26.602Z"
   },
   {
    "duration": 15,
    "start_time": "2023-01-27T11:25:26.612Z"
   },
   {
    "duration": 6,
    "start_time": "2023-01-27T11:25:26.629Z"
   },
   {
    "duration": 22,
    "start_time": "2023-01-27T11:25:26.636Z"
   },
   {
    "duration": 21,
    "start_time": "2023-01-27T11:25:26.659Z"
   },
   {
    "duration": 14,
    "start_time": "2023-01-27T11:25:26.683Z"
   },
   {
    "duration": 6,
    "start_time": "2023-01-27T11:25:26.701Z"
   },
   {
    "duration": 10,
    "start_time": "2023-01-27T11:25:26.709Z"
   },
   {
    "duration": 20,
    "start_time": "2023-01-27T11:25:26.720Z"
   },
   {
    "duration": 158,
    "start_time": "2023-01-27T11:25:26.742Z"
   },
   {
    "duration": 127,
    "start_time": "2023-01-27T11:25:26.901Z"
   },
   {
    "duration": 14,
    "start_time": "2023-01-27T11:25:27.030Z"
   },
   {
    "duration": 17,
    "start_time": "2023-01-27T11:25:27.047Z"
   },
   {
    "duration": 13,
    "start_time": "2023-01-27T11:25:27.066Z"
   },
   {
    "duration": 292,
    "start_time": "2023-01-27T11:25:27.081Z"
   },
   {
    "duration": 266,
    "start_time": "2023-01-27T11:25:27.375Z"
   },
   {
    "duration": 364,
    "start_time": "2023-01-27T11:25:27.643Z"
   },
   {
    "duration": 5,
    "start_time": "2023-01-27T11:25:28.009Z"
   },
   {
    "duration": 16,
    "start_time": "2023-01-27T11:25:28.015Z"
   },
   {
    "duration": 22,
    "start_time": "2023-01-27T11:25:28.032Z"
   },
   {
    "duration": 6,
    "start_time": "2023-01-27T11:25:28.056Z"
   },
   {
    "duration": 7,
    "start_time": "2023-01-27T11:25:28.063Z"
   },
   {
    "duration": 293,
    "start_time": "2023-01-27T11:25:28.071Z"
   },
   {
    "duration": 61,
    "start_time": "2023-01-27T11:25:28.372Z"
   },
   {
    "duration": 0,
    "start_time": "2023-01-27T11:25:28.435Z"
   },
   {
    "duration": 0,
    "start_time": "2023-01-27T11:25:28.440Z"
   },
   {
    "duration": 0,
    "start_time": "2023-01-27T11:25:28.442Z"
   },
   {
    "duration": 0,
    "start_time": "2023-01-27T11:25:28.443Z"
   },
   {
    "duration": 0,
    "start_time": "2023-01-27T11:25:28.444Z"
   },
   {
    "duration": 0,
    "start_time": "2023-01-27T11:25:28.444Z"
   },
   {
    "duration": 0,
    "start_time": "2023-01-27T11:25:28.445Z"
   },
   {
    "duration": 0,
    "start_time": "2023-01-27T11:25:28.445Z"
   },
   {
    "duration": 0,
    "start_time": "2023-01-27T11:25:28.446Z"
   },
   {
    "duration": 0,
    "start_time": "2023-01-27T11:25:28.447Z"
   },
   {
    "duration": 0,
    "start_time": "2023-01-27T11:25:28.447Z"
   },
   {
    "duration": 0,
    "start_time": "2023-01-27T11:25:28.448Z"
   },
   {
    "duration": 0,
    "start_time": "2023-01-27T11:25:28.449Z"
   },
   {
    "duration": 0,
    "start_time": "2023-01-27T11:25:28.450Z"
   },
   {
    "duration": 0,
    "start_time": "2023-01-27T11:25:28.452Z"
   },
   {
    "duration": 0,
    "start_time": "2023-01-27T11:25:28.454Z"
   },
   {
    "duration": 0,
    "start_time": "2023-01-27T11:25:28.455Z"
   },
   {
    "duration": 0,
    "start_time": "2023-01-27T11:25:28.456Z"
   },
   {
    "duration": 0,
    "start_time": "2023-01-27T11:25:28.457Z"
   },
   {
    "duration": 0,
    "start_time": "2023-01-27T11:25:28.459Z"
   },
   {
    "duration": 0,
    "start_time": "2023-01-27T11:25:28.460Z"
   },
   {
    "duration": 0,
    "start_time": "2023-01-27T11:25:28.461Z"
   },
   {
    "duration": 0,
    "start_time": "2023-01-27T11:25:28.462Z"
   },
   {
    "duration": 0,
    "start_time": "2023-01-27T11:25:28.463Z"
   },
   {
    "duration": 0,
    "start_time": "2023-01-27T11:25:28.464Z"
   },
   {
    "duration": 0,
    "start_time": "2023-01-27T11:25:28.466Z"
   },
   {
    "duration": 7,
    "start_time": "2023-01-27T11:26:04.709Z"
   },
   {
    "duration": 5,
    "start_time": "2023-01-27T11:26:07.406Z"
   },
   {
    "duration": 5,
    "start_time": "2023-01-27T11:26:09.553Z"
   },
   {
    "duration": 370,
    "start_time": "2023-01-27T11:26:12.488Z"
   },
   {
    "duration": 157,
    "start_time": "2023-01-27T11:26:16.137Z"
   },
   {
    "duration": 113,
    "start_time": "2023-01-27T11:26:18.975Z"
   },
   {
    "duration": 1052,
    "start_time": "2023-01-27T11:26:24.624Z"
   },
   {
    "duration": 23,
    "start_time": "2023-01-27T11:26:25.678Z"
   },
   {
    "duration": 19,
    "start_time": "2023-01-27T11:26:25.703Z"
   },
   {
    "duration": 33,
    "start_time": "2023-01-27T11:26:25.724Z"
   },
   {
    "duration": 44,
    "start_time": "2023-01-27T11:26:25.758Z"
   },
   {
    "duration": 44,
    "start_time": "2023-01-27T11:26:25.804Z"
   },
   {
    "duration": 42,
    "start_time": "2023-01-27T11:26:25.850Z"
   },
   {
    "duration": 14,
    "start_time": "2023-01-27T11:26:25.894Z"
   },
   {
    "duration": 58,
    "start_time": "2023-01-27T11:26:25.909Z"
   },
   {
    "duration": 35,
    "start_time": "2023-01-27T11:26:25.970Z"
   },
   {
    "duration": 51,
    "start_time": "2023-01-27T11:26:26.006Z"
   },
   {
    "duration": 34,
    "start_time": "2023-01-27T11:26:26.058Z"
   },
   {
    "duration": 52,
    "start_time": "2023-01-27T11:26:26.094Z"
   },
   {
    "duration": 20,
    "start_time": "2023-01-27T11:26:26.150Z"
   },
   {
    "duration": 16,
    "start_time": "2023-01-27T11:26:26.172Z"
   },
   {
    "duration": 40,
    "start_time": "2023-01-27T11:26:26.189Z"
   },
   {
    "duration": 218,
    "start_time": "2023-01-27T11:26:26.231Z"
   },
   {
    "duration": 132,
    "start_time": "2023-01-27T11:26:26.455Z"
   },
   {
    "duration": 35,
    "start_time": "2023-01-27T11:26:26.589Z"
   },
   {
    "duration": 34,
    "start_time": "2023-01-27T11:26:26.626Z"
   },
   {
    "duration": 19,
    "start_time": "2023-01-27T11:26:26.662Z"
   },
   {
    "duration": 319,
    "start_time": "2023-01-27T11:26:26.684Z"
   },
   {
    "duration": 284,
    "start_time": "2023-01-27T11:26:27.005Z"
   },
   {
    "duration": 364,
    "start_time": "2023-01-27T11:26:27.291Z"
   },
   {
    "duration": 7,
    "start_time": "2023-01-27T11:26:27.657Z"
   },
   {
    "duration": 14,
    "start_time": "2023-01-27T11:26:27.665Z"
   },
   {
    "duration": 16,
    "start_time": "2023-01-27T11:26:27.680Z"
   },
   {
    "duration": 6,
    "start_time": "2023-01-27T11:26:27.700Z"
   },
   {
    "duration": 7,
    "start_time": "2023-01-27T11:26:27.707Z"
   },
   {
    "duration": 289,
    "start_time": "2023-01-27T11:26:27.715Z"
   },
   {
    "duration": 7,
    "start_time": "2023-01-27T11:26:28.006Z"
   },
   {
    "duration": 8,
    "start_time": "2023-01-27T11:26:28.014Z"
   },
   {
    "duration": 25,
    "start_time": "2023-01-27T11:26:28.023Z"
   },
   {
    "duration": 369,
    "start_time": "2023-01-27T11:26:28.051Z"
   },
   {
    "duration": 165,
    "start_time": "2023-01-27T11:26:28.422Z"
   },
   {
    "duration": 122,
    "start_time": "2023-01-27T11:26:28.589Z"
   },
   {
    "duration": 4,
    "start_time": "2023-01-27T11:26:28.712Z"
   },
   {
    "duration": 19,
    "start_time": "2023-01-27T11:26:28.718Z"
   },
   {
    "duration": 104,
    "start_time": "2023-01-27T11:26:28.738Z"
   },
   {
    "duration": 174,
    "start_time": "2023-01-27T11:26:28.843Z"
   },
   {
    "duration": 5,
    "start_time": "2023-01-27T11:26:29.019Z"
   },
   {
    "duration": 85,
    "start_time": "2023-01-27T11:26:29.026Z"
   },
   {
    "duration": 114,
    "start_time": "2023-01-27T11:26:29.113Z"
   },
   {
    "duration": 34,
    "start_time": "2023-01-27T11:26:29.229Z"
   },
   {
    "duration": 149,
    "start_time": "2023-01-27T11:26:29.265Z"
   },
   {
    "duration": 40,
    "start_time": "2023-01-27T11:26:29.415Z"
   },
   {
    "duration": 49,
    "start_time": "2023-01-27T11:26:29.456Z"
   },
   {
    "duration": 0,
    "start_time": "2023-01-27T11:26:29.506Z"
   },
   {
    "duration": 0,
    "start_time": "2023-01-27T11:26:29.507Z"
   },
   {
    "duration": 0,
    "start_time": "2023-01-27T11:26:29.508Z"
   },
   {
    "duration": 0,
    "start_time": "2023-01-27T11:26:29.509Z"
   },
   {
    "duration": 0,
    "start_time": "2023-01-27T11:26:29.510Z"
   },
   {
    "duration": 0,
    "start_time": "2023-01-27T11:26:29.511Z"
   },
   {
    "duration": 0,
    "start_time": "2023-01-27T11:26:29.515Z"
   },
   {
    "duration": 0,
    "start_time": "2023-01-27T11:26:29.517Z"
   },
   {
    "duration": 0,
    "start_time": "2023-01-27T11:26:29.518Z"
   },
   {
    "duration": 14,
    "start_time": "2023-01-27T11:34:48.449Z"
   },
   {
    "duration": 13,
    "start_time": "2023-01-27T11:34:54.708Z"
   },
   {
    "duration": 7,
    "start_time": "2023-01-27T11:34:58.734Z"
   },
   {
    "duration": 5,
    "start_time": "2023-01-27T11:35:00.551Z"
   },
   {
    "duration": 7,
    "start_time": "2023-01-27T11:35:04.451Z"
   },
   {
    "duration": 29,
    "start_time": "2023-01-27T11:35:10.438Z"
   },
   {
    "duration": 18,
    "start_time": "2023-01-27T11:35:14.430Z"
   },
   {
    "duration": 8,
    "start_time": "2023-01-27T11:35:22.767Z"
   },
   {
    "duration": 172,
    "start_time": "2023-01-27T11:40:05.807Z"
   },
   {
    "duration": 166,
    "start_time": "2023-01-27T11:40:23.308Z"
   },
   {
    "duration": 8,
    "start_time": "2023-01-27T11:41:28.261Z"
   },
   {
    "duration": 158,
    "start_time": "2023-01-27T11:42:19.532Z"
   },
   {
    "duration": 164,
    "start_time": "2023-01-27T11:43:35.014Z"
   },
   {
    "duration": 495,
    "start_time": "2023-01-27T11:47:08.407Z"
   },
   {
    "duration": 7,
    "start_time": "2023-01-27T11:49:21.911Z"
   },
   {
    "duration": 259,
    "start_time": "2023-01-27T11:49:59.332Z"
   },
   {
    "duration": 521,
    "start_time": "2023-01-27T11:51:16.753Z"
   },
   {
    "duration": 513,
    "start_time": "2023-01-27T11:51:45.187Z"
   },
   {
    "duration": 5,
    "start_time": "2023-01-27T11:52:37.359Z"
   },
   {
    "duration": 315,
    "start_time": "2023-01-27T11:52:42.406Z"
   },
   {
    "duration": 242,
    "start_time": "2023-01-27T11:53:32.727Z"
   },
   {
    "duration": 11,
    "start_time": "2023-01-27T11:54:13.847Z"
   },
   {
    "duration": 98,
    "start_time": "2023-01-27T11:55:05.712Z"
   },
   {
    "duration": 7,
    "start_time": "2023-01-27T11:57:15.430Z"
   },
   {
    "duration": 6,
    "start_time": "2023-01-27T11:57:24.610Z"
   },
   {
    "duration": 8,
    "start_time": "2023-01-27T11:57:32.282Z"
   },
   {
    "duration": 8,
    "start_time": "2023-01-27T11:57:52.722Z"
   },
   {
    "duration": 370,
    "start_time": "2023-01-27T12:02:41.151Z"
   },
   {
    "duration": 223,
    "start_time": "2023-01-27T12:03:46.797Z"
   },
   {
    "duration": 383,
    "start_time": "2023-01-27T12:05:06.489Z"
   },
   {
    "duration": 291,
    "start_time": "2023-01-27T12:08:26.154Z"
   },
   {
    "duration": 5,
    "start_time": "2023-01-27T12:12:28.149Z"
   },
   {
    "duration": 376,
    "start_time": "2023-01-27T12:12:57.626Z"
   },
   {
    "duration": 6,
    "start_time": "2023-01-27T12:15:55.718Z"
   },
   {
    "duration": 5,
    "start_time": "2023-01-27T12:16:27.718Z"
   },
   {
    "duration": 8,
    "start_time": "2023-01-27T12:37:37.110Z"
   },
   {
    "duration": 9,
    "start_time": "2023-01-27T12:38:07.266Z"
   },
   {
    "duration": 4,
    "start_time": "2023-01-27T12:38:11.573Z"
   },
   {
    "duration": 4,
    "start_time": "2023-01-27T12:38:23.645Z"
   },
   {
    "duration": 8,
    "start_time": "2023-01-27T12:38:26.760Z"
   },
   {
    "duration": 5,
    "start_time": "2023-01-27T12:38:37.637Z"
   },
   {
    "duration": 4,
    "start_time": "2023-01-27T12:38:57.187Z"
   },
   {
    "duration": 4,
    "start_time": "2023-01-27T12:39:24.458Z"
   },
   {
    "duration": 47,
    "start_time": "2023-01-27T12:39:38.047Z"
   },
   {
    "duration": 4,
    "start_time": "2023-01-27T12:39:47.881Z"
   },
   {
    "duration": 4,
    "start_time": "2023-01-27T12:39:52.645Z"
   },
   {
    "duration": 5,
    "start_time": "2023-01-27T12:39:58.883Z"
   },
   {
    "duration": 4,
    "start_time": "2023-01-27T12:40:19.870Z"
   },
   {
    "duration": 5,
    "start_time": "2023-01-27T12:40:38.654Z"
   },
   {
    "duration": 7,
    "start_time": "2023-01-27T12:40:43.816Z"
   },
   {
    "duration": 8,
    "start_time": "2023-01-27T12:40:55.520Z"
   },
   {
    "duration": 19,
    "start_time": "2023-01-27T12:40:57.714Z"
   },
   {
    "duration": 19,
    "start_time": "2023-01-27T12:41:23.163Z"
   },
   {
    "duration": 8,
    "start_time": "2023-01-27T12:41:43.067Z"
   },
   {
    "duration": 376,
    "start_time": "2023-01-27T12:41:46.854Z"
   },
   {
    "duration": 214,
    "start_time": "2023-01-27T12:41:52.082Z"
   },
   {
    "duration": 307,
    "start_time": "2023-01-27T12:41:57.964Z"
   },
   {
    "duration": 5,
    "start_time": "2023-01-27T12:42:01.642Z"
   },
   {
    "duration": 348,
    "start_time": "2023-01-27T12:42:04.961Z"
   },
   {
    "duration": 27,
    "start_time": "2023-01-27T12:43:59.664Z"
   },
   {
    "duration": 12,
    "start_time": "2023-01-27T12:44:20.218Z"
   },
   {
    "duration": 11,
    "start_time": "2023-01-27T12:44:56.519Z"
   },
   {
    "duration": 12,
    "start_time": "2023-01-27T12:45:05.648Z"
   },
   {
    "duration": 24,
    "start_time": "2023-01-27T12:47:20.924Z"
   },
   {
    "duration": 27,
    "start_time": "2023-01-27T12:48:39.950Z"
   },
   {
    "duration": 37,
    "start_time": "2023-01-27T12:48:56.518Z"
   },
   {
    "duration": 22,
    "start_time": "2023-01-27T12:49:23.475Z"
   },
   {
    "duration": 11,
    "start_time": "2023-01-27T19:50:56.082Z"
   },
   {
    "duration": 63,
    "start_time": "2023-01-27T19:55:01.796Z"
   },
   {
    "duration": 33,
    "start_time": "2023-01-27T19:55:34.653Z"
   },
   {
    "duration": 10,
    "start_time": "2023-01-27T19:55:39.204Z"
   },
   {
    "duration": 19,
    "start_time": "2023-01-27T19:55:42.932Z"
   },
   {
    "duration": 4,
    "start_time": "2023-01-27T19:55:46.680Z"
   },
   {
    "duration": 13,
    "start_time": "2023-01-27T19:55:49.737Z"
   },
   {
    "duration": 61,
    "start_time": "2023-01-27T19:55:52.173Z"
   },
   {
    "duration": 58,
    "start_time": "2023-01-27T19:56:02.217Z"
   },
   {
    "duration": 21,
    "start_time": "2023-01-27T19:56:37.755Z"
   },
   {
    "duration": 14,
    "start_time": "2023-01-27T20:00:06.323Z"
   },
   {
    "duration": 13,
    "start_time": "2023-01-27T20:00:34.180Z"
   },
   {
    "duration": 1099,
    "start_time": "2023-01-28T12:07:58.057Z"
   },
   {
    "duration": 26,
    "start_time": "2023-01-28T12:07:59.160Z"
   },
   {
    "duration": 12,
    "start_time": "2023-01-28T12:07:59.188Z"
   },
   {
    "duration": 4,
    "start_time": "2023-01-28T12:07:59.202Z"
   },
   {
    "duration": 17,
    "start_time": "2023-01-28T12:07:59.209Z"
   },
   {
    "duration": 57,
    "start_time": "2023-01-28T12:07:59.228Z"
   },
   {
    "duration": 78,
    "start_time": "2023-01-28T12:07:59.287Z"
   },
   {
    "duration": 9,
    "start_time": "2023-01-28T12:07:59.367Z"
   },
   {
    "duration": 10,
    "start_time": "2023-01-28T12:07:59.377Z"
   },
   {
    "duration": 4,
    "start_time": "2023-01-28T12:07:59.389Z"
   },
   {
    "duration": 7,
    "start_time": "2023-01-28T12:07:59.394Z"
   },
   {
    "duration": 21,
    "start_time": "2023-01-28T12:07:59.402Z"
   },
   {
    "duration": 20,
    "start_time": "2023-01-28T12:07:59.425Z"
   },
   {
    "duration": 8,
    "start_time": "2023-01-28T12:07:59.455Z"
   },
   {
    "duration": 6,
    "start_time": "2023-01-28T12:07:59.465Z"
   },
   {
    "duration": 10,
    "start_time": "2023-01-28T12:07:59.473Z"
   },
   {
    "duration": 176,
    "start_time": "2023-01-28T12:07:59.485Z"
   },
   {
    "duration": 125,
    "start_time": "2023-01-28T12:07:59.663Z"
   },
   {
    "duration": 15,
    "start_time": "2023-01-28T12:07:59.790Z"
   },
   {
    "duration": 10,
    "start_time": "2023-01-28T12:07:59.808Z"
   },
   {
    "duration": 33,
    "start_time": "2023-01-28T12:07:59.822Z"
   },
   {
    "duration": 278,
    "start_time": "2023-01-28T12:07:59.859Z"
   },
   {
    "duration": 270,
    "start_time": "2023-01-28T12:08:00.144Z"
   },
   {
    "duration": 403,
    "start_time": "2023-01-28T12:08:00.416Z"
   },
   {
    "duration": 5,
    "start_time": "2023-01-28T12:08:00.821Z"
   },
   {
    "duration": 56,
    "start_time": "2023-01-28T12:08:00.837Z"
   },
   {
    "duration": 70,
    "start_time": "2023-01-28T12:08:00.895Z"
   },
   {
    "duration": 60,
    "start_time": "2023-01-28T12:08:00.967Z"
   },
   {
    "duration": 44,
    "start_time": "2023-01-28T12:08:01.029Z"
   },
   {
    "duration": 284,
    "start_time": "2023-01-28T12:08:01.075Z"
   },
   {
    "duration": 7,
    "start_time": "2023-01-28T12:08:01.361Z"
   },
   {
    "duration": 27,
    "start_time": "2023-01-28T12:08:01.370Z"
   },
   {
    "duration": 20,
    "start_time": "2023-01-28T12:08:01.399Z"
   },
   {
    "duration": 492,
    "start_time": "2023-01-28T12:08:01.421Z"
   },
   {
    "duration": 174,
    "start_time": "2023-01-28T12:08:01.915Z"
   },
   {
    "duration": 136,
    "start_time": "2023-01-28T12:08:02.091Z"
   },
   {
    "duration": 5,
    "start_time": "2023-01-28T12:08:02.228Z"
   },
   {
    "duration": 45,
    "start_time": "2023-01-28T12:08:02.234Z"
   },
   {
    "duration": 109,
    "start_time": "2023-01-28T12:08:02.280Z"
   },
   {
    "duration": 221,
    "start_time": "2023-01-28T12:08:02.391Z"
   },
   {
    "duration": 5,
    "start_time": "2023-01-28T12:08:02.617Z"
   },
   {
    "duration": 147,
    "start_time": "2023-01-28T12:08:02.625Z"
   },
   {
    "duration": 160,
    "start_time": "2023-01-28T12:08:02.775Z"
   },
   {
    "duration": 34,
    "start_time": "2023-01-28T12:08:02.937Z"
   },
   {
    "duration": 126,
    "start_time": "2023-01-28T12:08:02.973Z"
   },
   {
    "duration": 27,
    "start_time": "2023-01-28T12:08:03.100Z"
   },
   {
    "duration": 28,
    "start_time": "2023-01-28T12:08:03.129Z"
   },
   {
    "duration": 14,
    "start_time": "2023-01-28T12:08:03.159Z"
   },
   {
    "duration": 6,
    "start_time": "2023-01-28T12:08:03.174Z"
   },
   {
    "duration": 10,
    "start_time": "2023-01-28T12:08:03.181Z"
   },
   {
    "duration": 13,
    "start_time": "2023-01-28T12:08:03.193Z"
   },
   {
    "duration": 42,
    "start_time": "2023-01-28T12:08:03.207Z"
   },
   {
    "duration": 16,
    "start_time": "2023-01-28T12:08:03.250Z"
   },
   {
    "duration": 9,
    "start_time": "2023-01-28T12:08:03.267Z"
   },
   {
    "duration": 415,
    "start_time": "2023-01-28T12:08:03.278Z"
   },
   {
    "duration": 243,
    "start_time": "2023-01-28T12:08:03.695Z"
   },
   {
    "duration": 390,
    "start_time": "2023-01-28T12:08:03.940Z"
   },
   {
    "duration": 22,
    "start_time": "2023-01-28T12:08:04.338Z"
   },
   {
    "duration": 493,
    "start_time": "2023-01-28T12:08:04.366Z"
   },
   {
    "duration": 14,
    "start_time": "2023-01-28T12:09:37.044Z"
   },
   {
    "duration": 0,
    "start_time": "2023-01-28T12:14:16.148Z"
   },
   {
    "duration": 0,
    "start_time": "2023-01-28T12:14:16.149Z"
   },
   {
    "duration": 0,
    "start_time": "2023-01-28T12:14:16.150Z"
   },
   {
    "duration": 0,
    "start_time": "2023-01-28T12:14:18.108Z"
   },
   {
    "duration": 0,
    "start_time": "2023-01-28T12:14:18.109Z"
   },
   {
    "duration": 0,
    "start_time": "2023-01-28T12:14:18.110Z"
   },
   {
    "duration": 0,
    "start_time": "2023-01-28T12:14:18.111Z"
   },
   {
    "duration": 0,
    "start_time": "2023-01-28T12:14:18.112Z"
   },
   {
    "duration": 0,
    "start_time": "2023-01-28T12:14:18.113Z"
   },
   {
    "duration": 0,
    "start_time": "2023-01-28T12:14:18.114Z"
   },
   {
    "duration": 12,
    "start_time": "2023-01-28T12:14:18.116Z"
   },
   {
    "duration": 0,
    "start_time": "2023-01-28T12:14:18.130Z"
   },
   {
    "duration": 0,
    "start_time": "2023-01-28T12:14:18.131Z"
   },
   {
    "duration": 0,
    "start_time": "2023-01-28T12:14:18.132Z"
   },
   {
    "duration": 0,
    "start_time": "2023-01-28T12:14:18.136Z"
   },
   {
    "duration": 0,
    "start_time": "2023-01-28T12:14:18.138Z"
   },
   {
    "duration": 4,
    "start_time": "2023-01-28T12:14:38.514Z"
   },
   {
    "duration": 1321,
    "start_time": "2023-01-28T12:14:46.930Z"
   },
   {
    "duration": 25,
    "start_time": "2023-01-28T12:14:48.253Z"
   },
   {
    "duration": 26,
    "start_time": "2023-01-28T12:14:48.279Z"
   },
   {
    "duration": 133,
    "start_time": "2023-01-28T12:14:48.321Z"
   },
   {
    "duration": 0,
    "start_time": "2023-01-28T12:14:48.457Z"
   },
   {
    "duration": 0,
    "start_time": "2023-01-28T12:14:48.459Z"
   },
   {
    "duration": 0,
    "start_time": "2023-01-28T12:14:48.460Z"
   },
   {
    "duration": 0,
    "start_time": "2023-01-28T12:14:48.461Z"
   },
   {
    "duration": 0,
    "start_time": "2023-01-28T12:14:48.462Z"
   },
   {
    "duration": 0,
    "start_time": "2023-01-28T12:14:48.463Z"
   },
   {
    "duration": 0,
    "start_time": "2023-01-28T12:14:48.464Z"
   },
   {
    "duration": 0,
    "start_time": "2023-01-28T12:14:48.465Z"
   },
   {
    "duration": 0,
    "start_time": "2023-01-28T12:14:48.467Z"
   },
   {
    "duration": 0,
    "start_time": "2023-01-28T12:14:48.467Z"
   },
   {
    "duration": 0,
    "start_time": "2023-01-28T12:14:48.469Z"
   },
   {
    "duration": 0,
    "start_time": "2023-01-28T12:14:48.470Z"
   },
   {
    "duration": 0,
    "start_time": "2023-01-28T12:14:48.471Z"
   },
   {
    "duration": 0,
    "start_time": "2023-01-28T12:14:48.472Z"
   },
   {
    "duration": 0,
    "start_time": "2023-01-28T12:14:48.473Z"
   },
   {
    "duration": 0,
    "start_time": "2023-01-28T12:14:48.474Z"
   },
   {
    "duration": 1,
    "start_time": "2023-01-28T12:14:48.475Z"
   },
   {
    "duration": 0,
    "start_time": "2023-01-28T12:14:48.477Z"
   },
   {
    "duration": 0,
    "start_time": "2023-01-28T12:14:48.478Z"
   },
   {
    "duration": 0,
    "start_time": "2023-01-28T12:14:48.479Z"
   },
   {
    "duration": 0,
    "start_time": "2023-01-28T12:14:48.481Z"
   },
   {
    "duration": 0,
    "start_time": "2023-01-28T12:14:48.482Z"
   },
   {
    "duration": 0,
    "start_time": "2023-01-28T12:14:48.484Z"
   },
   {
    "duration": 0,
    "start_time": "2023-01-28T12:14:48.485Z"
   },
   {
    "duration": 0,
    "start_time": "2023-01-28T12:14:48.486Z"
   },
   {
    "duration": 0,
    "start_time": "2023-01-28T12:14:48.538Z"
   },
   {
    "duration": 0,
    "start_time": "2023-01-28T12:14:48.539Z"
   },
   {
    "duration": 0,
    "start_time": "2023-01-28T12:14:48.541Z"
   },
   {
    "duration": 0,
    "start_time": "2023-01-28T12:14:48.542Z"
   },
   {
    "duration": 0,
    "start_time": "2023-01-28T12:14:48.543Z"
   },
   {
    "duration": 0,
    "start_time": "2023-01-28T12:14:48.544Z"
   },
   {
    "duration": 0,
    "start_time": "2023-01-28T12:14:48.546Z"
   },
   {
    "duration": 0,
    "start_time": "2023-01-28T12:14:48.547Z"
   },
   {
    "duration": 0,
    "start_time": "2023-01-28T12:14:48.549Z"
   },
   {
    "duration": 0,
    "start_time": "2023-01-28T12:14:48.550Z"
   },
   {
    "duration": 0,
    "start_time": "2023-01-28T12:14:48.552Z"
   },
   {
    "duration": 0,
    "start_time": "2023-01-28T12:14:48.553Z"
   },
   {
    "duration": 0,
    "start_time": "2023-01-28T12:14:48.554Z"
   },
   {
    "duration": 0,
    "start_time": "2023-01-28T12:14:48.555Z"
   },
   {
    "duration": 0,
    "start_time": "2023-01-28T12:14:48.556Z"
   },
   {
    "duration": 0,
    "start_time": "2023-01-28T12:14:48.557Z"
   },
   {
    "duration": 0,
    "start_time": "2023-01-28T12:14:48.559Z"
   },
   {
    "duration": 0,
    "start_time": "2023-01-28T12:14:48.560Z"
   },
   {
    "duration": 0,
    "start_time": "2023-01-28T12:14:48.561Z"
   },
   {
    "duration": 0,
    "start_time": "2023-01-28T12:14:48.562Z"
   },
   {
    "duration": 0,
    "start_time": "2023-01-28T12:14:48.563Z"
   },
   {
    "duration": 0,
    "start_time": "2023-01-28T12:14:48.564Z"
   },
   {
    "duration": 0,
    "start_time": "2023-01-28T12:14:48.565Z"
   },
   {
    "duration": 0,
    "start_time": "2023-01-28T12:14:48.566Z"
   },
   {
    "duration": 0,
    "start_time": "2023-01-28T12:14:48.567Z"
   },
   {
    "duration": 0,
    "start_time": "2023-01-28T12:14:48.568Z"
   },
   {
    "duration": 0,
    "start_time": "2023-01-28T12:14:48.569Z"
   },
   {
    "duration": 0,
    "start_time": "2023-01-28T12:14:48.570Z"
   },
   {
    "duration": 0,
    "start_time": "2023-01-28T12:14:48.571Z"
   },
   {
    "duration": 1,
    "start_time": "2023-01-28T12:14:48.572Z"
   },
   {
    "duration": 1135,
    "start_time": "2023-01-28T12:15:24.253Z"
   },
   {
    "duration": 24,
    "start_time": "2023-01-28T12:15:25.390Z"
   },
   {
    "duration": 46,
    "start_time": "2023-01-28T12:15:25.416Z"
   },
   {
    "duration": 9,
    "start_time": "2023-01-28T12:15:25.465Z"
   },
   {
    "duration": 50,
    "start_time": "2023-01-28T12:15:25.475Z"
   },
   {
    "duration": 38,
    "start_time": "2023-01-28T12:15:25.526Z"
   },
   {
    "duration": 53,
    "start_time": "2023-01-28T12:15:25.566Z"
   },
   {
    "duration": 8,
    "start_time": "2023-01-28T12:15:25.621Z"
   },
   {
    "duration": 57,
    "start_time": "2023-01-28T12:15:25.630Z"
   },
   {
    "duration": 15,
    "start_time": "2023-01-28T12:15:25.690Z"
   },
   {
    "duration": 21,
    "start_time": "2023-01-28T12:15:25.707Z"
   },
   {
    "duration": 47,
    "start_time": "2023-01-28T12:15:25.730Z"
   },
   {
    "duration": 20,
    "start_time": "2023-01-28T12:15:25.779Z"
   },
   {
    "duration": 26,
    "start_time": "2023-01-28T12:15:25.800Z"
   },
   {
    "duration": 50,
    "start_time": "2023-01-28T12:15:25.828Z"
   },
   {
    "duration": 47,
    "start_time": "2023-01-28T12:15:25.880Z"
   },
   {
    "duration": 225,
    "start_time": "2023-01-28T12:15:25.929Z"
   },
   {
    "duration": 136,
    "start_time": "2023-01-28T12:15:26.156Z"
   },
   {
    "duration": 31,
    "start_time": "2023-01-28T12:15:26.294Z"
   },
   {
    "duration": 50,
    "start_time": "2023-01-28T12:15:26.326Z"
   },
   {
    "duration": 33,
    "start_time": "2023-01-28T12:15:26.378Z"
   },
   {
    "duration": 314,
    "start_time": "2023-01-28T12:15:26.413Z"
   },
   {
    "duration": 266,
    "start_time": "2023-01-28T12:15:26.728Z"
   },
   {
    "duration": 463,
    "start_time": "2023-01-28T12:15:26.996Z"
   },
   {
    "duration": 7,
    "start_time": "2023-01-28T12:15:27.463Z"
   },
   {
    "duration": 48,
    "start_time": "2023-01-28T12:15:27.472Z"
   },
   {
    "duration": 25,
    "start_time": "2023-01-28T12:15:27.522Z"
   },
   {
    "duration": 35,
    "start_time": "2023-01-28T12:15:27.552Z"
   },
   {
    "duration": 30,
    "start_time": "2023-01-28T12:15:27.588Z"
   },
   {
    "duration": 298,
    "start_time": "2023-01-28T12:15:27.620Z"
   },
   {
    "duration": 7,
    "start_time": "2023-01-28T12:15:27.920Z"
   },
   {
    "duration": 31,
    "start_time": "2023-01-28T12:15:27.928Z"
   },
   {
    "duration": 24,
    "start_time": "2023-01-28T12:15:27.961Z"
   },
   {
    "duration": 487,
    "start_time": "2023-01-28T12:15:27.987Z"
   },
   {
    "duration": 177,
    "start_time": "2023-01-28T12:15:28.476Z"
   },
   {
    "duration": 130,
    "start_time": "2023-01-28T12:15:28.655Z"
   },
   {
    "duration": 5,
    "start_time": "2023-01-28T12:15:28.787Z"
   },
   {
    "duration": 39,
    "start_time": "2023-01-28T12:15:28.794Z"
   },
   {
    "duration": 122,
    "start_time": "2023-01-28T12:15:28.835Z"
   },
   {
    "duration": 181,
    "start_time": "2023-01-28T12:15:28.959Z"
   },
   {
    "duration": 5,
    "start_time": "2023-01-28T12:15:29.143Z"
   },
   {
    "duration": 130,
    "start_time": "2023-01-28T12:15:29.150Z"
   },
   {
    "duration": 129,
    "start_time": "2023-01-28T12:15:29.282Z"
   },
   {
    "duration": 32,
    "start_time": "2023-01-28T12:15:29.413Z"
   },
   {
    "duration": 157,
    "start_time": "2023-01-28T12:15:29.447Z"
   },
   {
    "duration": 36,
    "start_time": "2023-01-28T12:15:29.606Z"
   },
   {
    "duration": 13,
    "start_time": "2023-01-28T12:15:29.644Z"
   },
   {
    "duration": 22,
    "start_time": "2023-01-28T12:15:29.659Z"
   },
   {
    "duration": 24,
    "start_time": "2023-01-28T12:15:29.683Z"
   },
   {
    "duration": 9,
    "start_time": "2023-01-28T12:15:29.709Z"
   },
   {
    "duration": 15,
    "start_time": "2023-01-28T12:15:29.719Z"
   },
   {
    "duration": 45,
    "start_time": "2023-01-28T12:15:29.736Z"
   },
   {
    "duration": 16,
    "start_time": "2023-01-28T12:15:29.783Z"
   },
   {
    "duration": 17,
    "start_time": "2023-01-28T12:15:29.800Z"
   },
   {
    "duration": 448,
    "start_time": "2023-01-28T12:15:29.818Z"
   },
   {
    "duration": 276,
    "start_time": "2023-01-28T12:15:30.268Z"
   },
   {
    "duration": 353,
    "start_time": "2023-01-28T12:15:30.546Z"
   },
   {
    "duration": 6,
    "start_time": "2023-01-28T12:15:30.901Z"
   },
   {
    "duration": 424,
    "start_time": "2023-01-28T12:15:30.908Z"
   },
   {
    "duration": 47,
    "start_time": "2023-01-28T19:18:32.358Z"
   },
   {
    "duration": 1281,
    "start_time": "2023-01-28T19:18:37.702Z"
   },
   {
    "duration": 84,
    "start_time": "2023-01-28T19:18:41.565Z"
   },
   {
    "duration": 64,
    "start_time": "2023-01-28T19:18:44.270Z"
   },
   {
    "duration": 13,
    "start_time": "2023-01-28T19:19:22.799Z"
   },
   {
    "duration": 3,
    "start_time": "2023-01-28T19:19:26.867Z"
   },
   {
    "duration": 3,
    "start_time": "2023-01-28T19:19:29.817Z"
   },
   {
    "duration": 8,
    "start_time": "2023-01-28T19:19:38.859Z"
   },
   {
    "duration": 4,
    "start_time": "2023-01-28T19:20:58.679Z"
   },
   {
    "duration": 15,
    "start_time": "2023-01-28T19:21:00.981Z"
   },
   {
    "duration": 18,
    "start_time": "2023-01-28T19:21:38.300Z"
   },
   {
    "duration": 17,
    "start_time": "2023-01-28T19:22:01.595Z"
   },
   {
    "duration": 11,
    "start_time": "2023-01-28T19:33:46.990Z"
   },
   {
    "duration": 1237,
    "start_time": "2023-01-28T19:33:54.365Z"
   },
   {
    "duration": 29,
    "start_time": "2023-01-28T19:33:55.604Z"
   },
   {
    "duration": 14,
    "start_time": "2023-01-28T19:33:55.635Z"
   },
   {
    "duration": 5,
    "start_time": "2023-01-28T19:33:55.651Z"
   },
   {
    "duration": 16,
    "start_time": "2023-01-28T19:33:55.657Z"
   },
   {
    "duration": 12,
    "start_time": "2023-01-28T19:33:55.674Z"
   },
   {
    "duration": 162,
    "start_time": "2023-01-28T19:33:55.688Z"
   },
   {
    "duration": 9,
    "start_time": "2023-01-28T19:33:55.851Z"
   },
   {
    "duration": 9,
    "start_time": "2023-01-28T19:33:55.862Z"
   },
   {
    "duration": 4,
    "start_time": "2023-01-28T19:33:55.874Z"
   },
   {
    "duration": 6,
    "start_time": "2023-01-28T19:33:55.879Z"
   },
   {
    "duration": 16,
    "start_time": "2023-01-28T19:33:55.887Z"
   },
   {
    "duration": 16,
    "start_time": "2023-01-28T19:33:55.905Z"
   },
   {
    "duration": 4,
    "start_time": "2023-01-28T19:33:55.923Z"
   },
   {
    "duration": 5,
    "start_time": "2023-01-28T19:33:55.929Z"
   },
   {
    "duration": 6,
    "start_time": "2023-01-28T19:33:55.935Z"
   },
   {
    "duration": 188,
    "start_time": "2023-01-28T19:33:55.942Z"
   },
   {
    "duration": 126,
    "start_time": "2023-01-28T19:33:56.132Z"
   },
   {
    "duration": 8,
    "start_time": "2023-01-28T19:33:56.260Z"
   },
   {
    "duration": 12,
    "start_time": "2023-01-28T19:33:56.269Z"
   },
   {
    "duration": 12,
    "start_time": "2023-01-28T19:33:56.283Z"
   },
   {
    "duration": 308,
    "start_time": "2023-01-28T19:33:56.322Z"
   },
   {
    "duration": 280,
    "start_time": "2023-01-28T19:33:56.631Z"
   },
   {
    "duration": 402,
    "start_time": "2023-01-28T19:33:56.913Z"
   },
   {
    "duration": 7,
    "start_time": "2023-01-28T19:33:57.317Z"
   },
   {
    "duration": 15,
    "start_time": "2023-01-28T19:33:57.325Z"
   },
   {
    "duration": 10,
    "start_time": "2023-01-28T19:33:57.342Z"
   },
   {
    "duration": 6,
    "start_time": "2023-01-28T19:33:57.357Z"
   },
   {
    "duration": 9,
    "start_time": "2023-01-28T19:33:57.364Z"
   },
   {
    "duration": 319,
    "start_time": "2023-01-28T19:33:57.374Z"
   },
   {
    "duration": 9,
    "start_time": "2023-01-28T19:33:57.695Z"
   },
   {
    "duration": 18,
    "start_time": "2023-01-28T19:33:57.705Z"
   },
   {
    "duration": 8,
    "start_time": "2023-01-28T19:33:57.725Z"
   },
   {
    "duration": 398,
    "start_time": "2023-01-28T19:33:57.734Z"
   },
   {
    "duration": 181,
    "start_time": "2023-01-28T19:33:58.134Z"
   },
   {
    "duration": 147,
    "start_time": "2023-01-28T19:33:58.320Z"
   },
   {
    "duration": 4,
    "start_time": "2023-01-28T19:33:58.468Z"
   },
   {
    "duration": 15,
    "start_time": "2023-01-28T19:33:58.474Z"
   },
   {
    "duration": 135,
    "start_time": "2023-01-28T19:33:58.490Z"
   },
   {
    "duration": 194,
    "start_time": "2023-01-28T19:33:58.628Z"
   },
   {
    "duration": 4,
    "start_time": "2023-01-28T19:33:58.824Z"
   },
   {
    "duration": 103,
    "start_time": "2023-01-28T19:33:58.830Z"
   },
   {
    "duration": 122,
    "start_time": "2023-01-28T19:33:58.935Z"
   },
   {
    "duration": 31,
    "start_time": "2023-01-28T19:33:59.058Z"
   },
   {
    "duration": 149,
    "start_time": "2023-01-28T19:33:59.090Z"
   },
   {
    "duration": 30,
    "start_time": "2023-01-28T19:33:59.241Z"
   },
   {
    "duration": 11,
    "start_time": "2023-01-28T19:33:59.272Z"
   },
   {
    "duration": 10,
    "start_time": "2023-01-28T19:33:59.284Z"
   },
   {
    "duration": 27,
    "start_time": "2023-01-28T19:33:59.296Z"
   },
   {
    "duration": 7,
    "start_time": "2023-01-28T19:33:59.325Z"
   },
   {
    "duration": 10,
    "start_time": "2023-01-28T19:33:59.334Z"
   },
   {
    "duration": 25,
    "start_time": "2023-01-28T19:33:59.345Z"
   },
   {
    "duration": 15,
    "start_time": "2023-01-28T19:33:59.371Z"
   },
   {
    "duration": 40,
    "start_time": "2023-01-28T19:33:59.388Z"
   },
   {
    "duration": 449,
    "start_time": "2023-01-28T19:33:59.431Z"
   },
   {
    "duration": 272,
    "start_time": "2023-01-28T19:33:59.882Z"
   },
   {
    "duration": 359,
    "start_time": "2023-01-28T19:34:00.156Z"
   },
   {
    "duration": 6,
    "start_time": "2023-01-28T19:34:00.520Z"
   },
   {
    "duration": 401,
    "start_time": "2023-01-28T19:34:00.528Z"
   },
   {
    "duration": 528,
    "start_time": "2023-01-28T19:36:46.315Z"
   },
   {
    "duration": 5,
    "start_time": "2023-01-28T19:36:57.517Z"
   },
   {
    "duration": 66,
    "start_time": "2023-01-28T19:37:11.255Z"
   },
   {
    "duration": 4,
    "start_time": "2023-01-28T19:37:16.326Z"
   },
   {
    "duration": 6,
    "start_time": "2023-01-28T19:37:18.614Z"
   },
   {
    "duration": 6,
    "start_time": "2023-01-28T19:37:28.515Z"
   },
   {
    "duration": 173,
    "start_time": "2023-01-28T19:37:30.330Z"
   },
   {
    "duration": 138,
    "start_time": "2023-01-28T19:37:32.695Z"
   },
   {
    "duration": 9,
    "start_time": "2023-01-28T19:37:35.443Z"
   },
   {
    "duration": 8,
    "start_time": "2023-01-28T19:37:39.178Z"
   },
   {
    "duration": 13,
    "start_time": "2023-01-28T19:37:41.626Z"
   },
   {
    "duration": 507,
    "start_time": "2023-01-28T19:37:47.899Z"
   },
   {
    "duration": 326,
    "start_time": "2023-01-28T19:38:15.243Z"
   },
   {
    "duration": 73,
    "start_time": "2023-01-28T19:42:11.016Z"
   },
   {
    "duration": 376,
    "start_time": "2023-01-28T19:42:24.020Z"
   },
   {
    "duration": 281,
    "start_time": "2023-01-28T19:43:49.320Z"
   },
   {
    "duration": 293,
    "start_time": "2023-01-28T19:46:26.559Z"
   },
   {
    "duration": 385,
    "start_time": "2023-01-28T19:47:49.025Z"
   },
   {
    "duration": 349,
    "start_time": "2023-01-28T19:47:55.863Z"
   },
   {
    "duration": 6,
    "start_time": "2023-01-28T19:48:38.202Z"
   },
   {
    "duration": 9,
    "start_time": "2023-01-28T19:48:39.847Z"
   },
   {
    "duration": 10,
    "start_time": "2023-01-28T19:48:42.637Z"
   },
   {
    "duration": 5,
    "start_time": "2023-01-28T19:48:45.573Z"
   },
   {
    "duration": 5,
    "start_time": "2023-01-28T19:48:47.495Z"
   },
   {
    "duration": 314,
    "start_time": "2023-01-28T19:50:35.452Z"
   },
   {
    "duration": 337,
    "start_time": "2023-01-28T19:50:49.934Z"
   },
   {
    "duration": 12,
    "start_time": "2023-01-28T19:51:35.658Z"
   },
   {
    "duration": 5,
    "start_time": "2023-01-28T19:51:37.855Z"
   },
   {
    "duration": 5,
    "start_time": "2023-01-28T19:51:39.357Z"
   },
   {
    "duration": 403,
    "start_time": "2023-01-28T19:51:45.846Z"
   },
   {
    "duration": 189,
    "start_time": "2023-01-28T19:54:40.979Z"
   },
   {
    "duration": 202,
    "start_time": "2023-01-28T19:54:47.594Z"
   },
   {
    "duration": 259,
    "start_time": "2023-01-28T19:55:16.657Z"
   },
   {
    "duration": 282,
    "start_time": "2023-01-28T19:55:43.065Z"
   },
   {
    "duration": 1156,
    "start_time": "2023-01-28T19:55:54.416Z"
   },
   {
    "duration": 29,
    "start_time": "2023-01-28T19:55:55.574Z"
   },
   {
    "duration": 11,
    "start_time": "2023-01-28T19:55:55.605Z"
   },
   {
    "duration": 7,
    "start_time": "2023-01-28T19:55:55.618Z"
   },
   {
    "duration": 17,
    "start_time": "2023-01-28T19:55:55.627Z"
   },
   {
    "duration": 12,
    "start_time": "2023-01-28T19:55:55.646Z"
   },
   {
    "duration": 76,
    "start_time": "2023-01-28T19:55:55.660Z"
   },
   {
    "duration": 9,
    "start_time": "2023-01-28T19:55:55.737Z"
   },
   {
    "duration": 51,
    "start_time": "2023-01-28T19:55:55.748Z"
   },
   {
    "duration": 27,
    "start_time": "2023-01-28T19:55:55.802Z"
   },
   {
    "duration": 41,
    "start_time": "2023-01-28T19:55:55.831Z"
   },
   {
    "duration": 41,
    "start_time": "2023-01-28T19:55:55.873Z"
   },
   {
    "duration": 15,
    "start_time": "2023-01-28T19:55:55.916Z"
   },
   {
    "duration": 5,
    "start_time": "2023-01-28T19:55:55.933Z"
   },
   {
    "duration": 5,
    "start_time": "2023-01-28T19:55:55.940Z"
   },
   {
    "duration": 8,
    "start_time": "2023-01-28T19:55:55.947Z"
   },
   {
    "duration": 177,
    "start_time": "2023-01-28T19:55:55.956Z"
   },
   {
    "duration": 127,
    "start_time": "2023-01-28T19:55:56.135Z"
   },
   {
    "duration": 8,
    "start_time": "2023-01-28T19:55:56.263Z"
   },
   {
    "duration": 9,
    "start_time": "2023-01-28T19:55:56.273Z"
   },
   {
    "duration": 13,
    "start_time": "2023-01-28T19:55:56.283Z"
   },
   {
    "duration": 330,
    "start_time": "2023-01-28T19:55:56.297Z"
   },
   {
    "duration": 283,
    "start_time": "2023-01-28T19:55:56.629Z"
   },
   {
    "duration": 375,
    "start_time": "2023-01-28T19:55:56.914Z"
   },
   {
    "duration": 7,
    "start_time": "2023-01-28T19:55:57.291Z"
   },
   {
    "duration": 25,
    "start_time": "2023-01-28T19:55:57.300Z"
   },
   {
    "duration": 10,
    "start_time": "2023-01-28T19:55:57.327Z"
   },
   {
    "duration": 5,
    "start_time": "2023-01-28T19:55:57.340Z"
   },
   {
    "duration": 7,
    "start_time": "2023-01-28T19:55:57.346Z"
   },
   {
    "duration": 307,
    "start_time": "2023-01-28T19:55:57.354Z"
   },
   {
    "duration": 7,
    "start_time": "2023-01-28T19:55:57.663Z"
   },
   {
    "duration": 8,
    "start_time": "2023-01-28T19:55:57.672Z"
   },
   {
    "duration": 6,
    "start_time": "2023-01-28T19:55:57.681Z"
   },
   {
    "duration": 446,
    "start_time": "2023-01-28T19:55:57.689Z"
   },
   {
    "duration": 187,
    "start_time": "2023-01-28T19:55:58.136Z"
   },
   {
    "duration": 140,
    "start_time": "2023-01-28T19:55:58.325Z"
   },
   {
    "duration": 4,
    "start_time": "2023-01-28T19:55:58.467Z"
   },
   {
    "duration": 15,
    "start_time": "2023-01-28T19:55:58.473Z"
   },
   {
    "duration": 121,
    "start_time": "2023-01-28T19:55:58.491Z"
   },
   {
    "duration": 191,
    "start_time": "2023-01-28T19:55:58.614Z"
   },
   {
    "duration": 4,
    "start_time": "2023-01-28T19:55:58.806Z"
   },
   {
    "duration": 87,
    "start_time": "2023-01-28T19:55:58.811Z"
   },
   {
    "duration": 119,
    "start_time": "2023-01-28T19:55:58.899Z"
   },
   {
    "duration": 28,
    "start_time": "2023-01-28T19:55:59.020Z"
   },
   {
    "duration": 156,
    "start_time": "2023-01-28T19:55:59.049Z"
   },
   {
    "duration": 35,
    "start_time": "2023-01-28T19:55:59.207Z"
   },
   {
    "duration": 9,
    "start_time": "2023-01-28T19:55:59.244Z"
   },
   {
    "duration": 9,
    "start_time": "2023-01-28T19:55:59.254Z"
   },
   {
    "duration": 3,
    "start_time": "2023-01-28T19:55:59.265Z"
   },
   {
    "duration": 5,
    "start_time": "2023-01-28T19:55:59.270Z"
   },
   {
    "duration": 9,
    "start_time": "2023-01-28T19:55:59.276Z"
   },
   {
    "duration": 55,
    "start_time": "2023-01-28T19:55:59.286Z"
   },
   {
    "duration": 14,
    "start_time": "2023-01-28T19:55:59.342Z"
   },
   {
    "duration": 9,
    "start_time": "2023-01-28T19:55:59.357Z"
   },
   {
    "duration": 419,
    "start_time": "2023-01-28T19:55:59.367Z"
   },
   {
    "duration": 247,
    "start_time": "2023-01-28T19:55:59.788Z"
   },
   {
    "duration": 358,
    "start_time": "2023-01-28T19:56:00.037Z"
   },
   {
    "duration": 6,
    "start_time": "2023-01-28T19:56:00.396Z"
   },
   {
    "duration": 401,
    "start_time": "2023-01-28T19:56:00.404Z"
   },
   {
    "duration": 270,
    "start_time": "2023-01-28T19:59:58.402Z"
   },
   {
    "duration": 268,
    "start_time": "2023-01-28T20:00:14.941Z"
   },
   {
    "duration": 212,
    "start_time": "2023-01-28T20:00:25.394Z"
   },
   {
    "duration": 234,
    "start_time": "2023-01-28T20:00:48.239Z"
   },
   {
    "duration": 253,
    "start_time": "2023-01-28T20:01:02.711Z"
   },
   {
    "duration": 340,
    "start_time": "2023-01-28T20:01:31.417Z"
   },
   {
    "duration": 136,
    "start_time": "2023-01-28T20:04:33.441Z"
   },
   {
    "duration": 160,
    "start_time": "2023-01-28T20:05:16.557Z"
   },
   {
    "duration": 240,
    "start_time": "2023-01-28T20:06:15.003Z"
   },
   {
    "duration": 219,
    "start_time": "2023-01-28T20:10:20.762Z"
   },
   {
    "duration": 113,
    "start_time": "2023-01-28T20:10:39.590Z"
   },
   {
    "duration": 13,
    "start_time": "2023-01-28T20:11:30.499Z"
   },
   {
    "duration": 151,
    "start_time": "2023-01-28T20:12:03.713Z"
   },
   {
    "duration": 11,
    "start_time": "2023-01-28T20:12:37.141Z"
   },
   {
    "duration": 12,
    "start_time": "2023-01-28T20:12:48.438Z"
   },
   {
    "duration": 158,
    "start_time": "2023-01-28T20:16:00.321Z"
   },
   {
    "duration": 142,
    "start_time": "2023-01-28T20:20:35.662Z"
   },
   {
    "duration": 12,
    "start_time": "2023-01-28T20:24:53.149Z"
   },
   {
    "duration": 153,
    "start_time": "2023-01-28T20:24:56.581Z"
   },
   {
    "duration": 275,
    "start_time": "2023-01-28T20:26:39.742Z"
   },
   {
    "duration": 245,
    "start_time": "2023-01-28T20:26:49.539Z"
   },
   {
    "duration": 97,
    "start_time": "2023-01-28T20:33:38.437Z"
   },
   {
    "duration": 130,
    "start_time": "2023-01-28T20:33:40.338Z"
   },
   {
    "duration": 39,
    "start_time": "2023-01-28T20:33:48.034Z"
   },
   {
    "duration": 159,
    "start_time": "2023-01-28T20:33:50.937Z"
   },
   {
    "duration": 40,
    "start_time": "2023-01-28T20:33:55.417Z"
   },
   {
    "duration": 35,
    "start_time": "2023-01-28T20:35:11.105Z"
   },
   {
    "duration": 29,
    "start_time": "2023-01-28T20:35:33.343Z"
   },
   {
    "duration": 7,
    "start_time": "2023-01-28T20:35:59.908Z"
   },
   {
    "duration": 30,
    "start_time": "2023-01-28T20:36:05.183Z"
   },
   {
    "duration": 8,
    "start_time": "2023-01-28T20:36:15.996Z"
   },
   {
    "duration": 31,
    "start_time": "2023-01-28T20:36:55.120Z"
   },
   {
    "duration": 32,
    "start_time": "2023-01-28T20:37:18.116Z"
   },
   {
    "duration": 32,
    "start_time": "2023-01-28T20:37:26.470Z"
   },
   {
    "duration": 37,
    "start_time": "2023-01-28T20:37:33.117Z"
   },
   {
    "duration": 32,
    "start_time": "2023-01-28T20:37:40.560Z"
   },
   {
    "duration": 52,
    "start_time": "2023-01-28T20:37:44.598Z"
   },
   {
    "duration": 33,
    "start_time": "2023-01-28T20:37:54.841Z"
   },
   {
    "duration": 28,
    "start_time": "2023-01-28T20:38:03.975Z"
   },
   {
    "duration": 29,
    "start_time": "2023-01-28T20:38:08.985Z"
   },
   {
    "duration": 7,
    "start_time": "2023-01-28T20:39:59.238Z"
   },
   {
    "duration": 13,
    "start_time": "2023-01-28T20:40:31.193Z"
   },
   {
    "duration": 7,
    "start_time": "2023-01-28T20:40:44.638Z"
   },
   {
    "duration": 12,
    "start_time": "2023-01-28T20:41:06.787Z"
   },
   {
    "duration": 31,
    "start_time": "2023-01-28T20:41:50.538Z"
   },
   {
    "duration": 19,
    "start_time": "2023-01-28T20:42:01.993Z"
   },
   {
    "duration": 33,
    "start_time": "2023-01-28T20:42:12.093Z"
   },
   {
    "duration": 11,
    "start_time": "2023-01-28T20:50:51.344Z"
   },
   {
    "duration": 5,
    "start_time": "2023-01-28T20:51:06.599Z"
   },
   {
    "duration": 5,
    "start_time": "2023-01-28T20:51:12.180Z"
   },
   {
    "duration": 5,
    "start_time": "2023-01-28T20:51:18.031Z"
   },
   {
    "duration": 5,
    "start_time": "2023-01-28T20:51:26.018Z"
   },
   {
    "duration": 6,
    "start_time": "2023-01-28T20:51:40.360Z"
   },
   {
    "duration": 5,
    "start_time": "2023-01-28T20:51:45.645Z"
   },
   {
    "duration": 4,
    "start_time": "2023-01-28T20:52:10.557Z"
   },
   {
    "duration": 5,
    "start_time": "2023-01-28T20:52:16.586Z"
   },
   {
    "duration": 10,
    "start_time": "2023-01-28T20:53:11.105Z"
   },
   {
    "duration": 6,
    "start_time": "2023-01-28T20:53:15.619Z"
   },
   {
    "duration": 6,
    "start_time": "2023-01-28T20:53:47.837Z"
   },
   {
    "duration": 5,
    "start_time": "2023-01-28T20:54:30.955Z"
   },
   {
    "duration": 6,
    "start_time": "2023-01-28T20:57:46.310Z"
   },
   {
    "duration": 5,
    "start_time": "2023-01-28T20:58:14.725Z"
   },
   {
    "duration": 4,
    "start_time": "2023-01-28T21:00:41.919Z"
   },
   {
    "duration": 16,
    "start_time": "2023-01-28T21:00:41.925Z"
   },
   {
    "duration": 23,
    "start_time": "2023-01-28T21:00:41.970Z"
   },
   {
    "duration": 25,
    "start_time": "2023-01-28T21:03:47.310Z"
   },
   {
    "duration": 28,
    "start_time": "2023-01-28T21:04:20.338Z"
   },
   {
    "duration": 26,
    "start_time": "2023-01-28T21:04:33.411Z"
   },
   {
    "duration": 27,
    "start_time": "2023-01-28T21:04:42.724Z"
   },
   {
    "duration": 17,
    "start_time": "2023-01-28T21:06:30.920Z"
   },
   {
    "duration": 16,
    "start_time": "2023-01-28T21:06:44.038Z"
   },
   {
    "duration": 418,
    "start_time": "2023-01-28T21:08:45.642Z"
   },
   {
    "duration": 780,
    "start_time": "2023-01-28T21:09:24.321Z"
   },
   {
    "duration": 455,
    "start_time": "2023-01-28T21:09:36.591Z"
   },
   {
    "duration": 476,
    "start_time": "2023-01-28T21:09:45.241Z"
   },
   {
    "duration": 370,
    "start_time": "2023-01-28T21:10:54.520Z"
   },
   {
    "duration": 312,
    "start_time": "2023-01-28T21:11:13.471Z"
   },
   {
    "duration": 372,
    "start_time": "2023-01-28T21:11:45.555Z"
   },
   {
    "duration": 409,
    "start_time": "2023-01-28T21:12:13.963Z"
   },
   {
    "duration": 7,
    "start_time": "2023-01-28T21:19:23.877Z"
   },
   {
    "duration": 6,
    "start_time": "2023-01-28T21:19:54.749Z"
   },
   {
    "duration": 67,
    "start_time": "2023-01-28T21:20:08.619Z"
   },
   {
    "duration": 11,
    "start_time": "2023-01-28T21:20:10.309Z"
   },
   {
    "duration": 9,
    "start_time": "2023-01-28T21:20:13.423Z"
   },
   {
    "duration": 4,
    "start_time": "2023-01-28T21:20:16.641Z"
   },
   {
    "duration": 10,
    "start_time": "2023-01-28T21:20:22.216Z"
   },
   {
    "duration": 5,
    "start_time": "2023-01-28T21:20:24.748Z"
   },
   {
    "duration": 7,
    "start_time": "2023-01-28T21:20:28.105Z"
   },
   {
    "duration": 7,
    "start_time": "2023-01-28T21:21:47.291Z"
   },
   {
    "duration": 8,
    "start_time": "2023-01-28T21:22:18.016Z"
   },
   {
    "duration": 7,
    "start_time": "2023-01-28T21:23:52.665Z"
   },
   {
    "duration": 235,
    "start_time": "2023-01-28T21:34:04.141Z"
   },
   {
    "duration": 11,
    "start_time": "2023-01-28T21:34:55.284Z"
   },
   {
    "duration": 10,
    "start_time": "2023-01-28T21:35:06.842Z"
   },
   {
    "duration": 8,
    "start_time": "2023-01-28T21:35:17.714Z"
   },
   {
    "duration": 9,
    "start_time": "2023-01-28T21:35:22.342Z"
   },
   {
    "duration": 320,
    "start_time": "2023-01-28T21:35:44.816Z"
   },
   {
    "duration": 867,
    "start_time": "2023-01-28T21:49:42.799Z"
   },
   {
    "duration": 913,
    "start_time": "2023-01-28T21:51:00.036Z"
   },
   {
    "duration": 71,
    "start_time": "2023-01-28T21:51:20.375Z"
   },
   {
    "duration": 3,
    "start_time": "2023-01-28T21:51:40.067Z"
   },
   {
    "duration": 4,
    "start_time": "2023-01-28T21:51:43.173Z"
   },
   {
    "duration": 8,
    "start_time": "2023-01-28T21:51:47.957Z"
   },
   {
    "duration": 860,
    "start_time": "2023-01-28T21:51:53.771Z"
   },
   {
    "duration": 853,
    "start_time": "2023-01-28T21:52:07.925Z"
   },
   {
    "duration": 7,
    "start_time": "2023-01-28T21:52:45.384Z"
   },
   {
    "duration": 890,
    "start_time": "2023-01-28T21:53:12.726Z"
   },
   {
    "duration": 79,
    "start_time": "2023-01-28T21:53:44.570Z"
   },
   {
    "duration": 848,
    "start_time": "2023-01-28T21:53:54.639Z"
   },
   {
    "duration": 856,
    "start_time": "2023-01-28T21:54:10.234Z"
   },
   {
    "duration": 791,
    "start_time": "2023-01-28T21:54:27.428Z"
   },
   {
    "duration": 7,
    "start_time": "2023-01-28T21:54:59.428Z"
   },
   {
    "duration": 11,
    "start_time": "2023-01-28T21:55:19.131Z"
   },
   {
    "duration": 16,
    "start_time": "2023-01-28T21:55:26.189Z"
   },
   {
    "duration": 6,
    "start_time": "2023-01-28T21:55:43.295Z"
   },
   {
    "duration": 5,
    "start_time": "2023-01-28T21:55:49.316Z"
   },
   {
    "duration": 7,
    "start_time": "2023-01-28T21:55:58.630Z"
   },
   {
    "duration": 7,
    "start_time": "2023-01-28T21:56:13.059Z"
   },
   {
    "duration": 9,
    "start_time": "2023-01-28T21:58:42.125Z"
   },
   {
    "duration": 1174,
    "start_time": "2023-01-28T22:01:16.323Z"
   },
   {
    "duration": 29,
    "start_time": "2023-01-28T22:01:17.499Z"
   },
   {
    "duration": 12,
    "start_time": "2023-01-28T22:01:17.530Z"
   },
   {
    "duration": 3,
    "start_time": "2023-01-28T22:01:17.544Z"
   },
   {
    "duration": 20,
    "start_time": "2023-01-28T22:01:17.549Z"
   },
   {
    "duration": 14,
    "start_time": "2023-01-28T22:01:17.571Z"
   },
   {
    "duration": 62,
    "start_time": "2023-01-28T22:01:17.587Z"
   },
   {
    "duration": 10,
    "start_time": "2023-01-28T22:01:17.651Z"
   },
   {
    "duration": 10,
    "start_time": "2023-01-28T22:01:17.663Z"
   },
   {
    "duration": 6,
    "start_time": "2023-01-28T22:01:17.677Z"
   },
   {
    "duration": 6,
    "start_time": "2023-01-28T22:01:17.685Z"
   },
   {
    "duration": 20,
    "start_time": "2023-01-28T22:01:17.692Z"
   },
   {
    "duration": 8,
    "start_time": "2023-01-28T22:01:17.713Z"
   },
   {
    "duration": 3,
    "start_time": "2023-01-28T22:01:17.723Z"
   },
   {
    "duration": 5,
    "start_time": "2023-01-28T22:01:17.728Z"
   },
   {
    "duration": 7,
    "start_time": "2023-01-28T22:01:17.735Z"
   },
   {
    "duration": 7,
    "start_time": "2023-01-28T22:01:17.743Z"
   },
   {
    "duration": 332,
    "start_time": "2023-01-28T22:01:17.751Z"
   },
   {
    "duration": 5,
    "start_time": "2023-01-28T22:01:18.085Z"
   },
   {
    "duration": 184,
    "start_time": "2023-01-28T22:01:18.091Z"
   },
   {
    "duration": 121,
    "start_time": "2023-01-28T22:01:18.277Z"
   },
   {
    "duration": 8,
    "start_time": "2023-01-28T22:01:18.399Z"
   },
   {
    "duration": 11,
    "start_time": "2023-01-28T22:01:18.421Z"
   },
   {
    "duration": 17,
    "start_time": "2023-01-28T22:01:18.433Z"
   },
   {
    "duration": 297,
    "start_time": "2023-01-28T22:01:18.452Z"
   },
   {
    "duration": 294,
    "start_time": "2023-01-28T22:01:18.751Z"
   },
   {
    "duration": 373,
    "start_time": "2023-01-28T22:01:19.048Z"
   },
   {
    "duration": 6,
    "start_time": "2023-01-28T22:01:19.425Z"
   },
   {
    "duration": 12,
    "start_time": "2023-01-28T22:01:19.432Z"
   },
   {
    "duration": 11,
    "start_time": "2023-01-28T22:01:19.445Z"
   },
   {
    "duration": 6,
    "start_time": "2023-01-28T22:01:19.458Z"
   },
   {
    "duration": 6,
    "start_time": "2023-01-28T22:01:19.466Z"
   },
   {
    "duration": 333,
    "start_time": "2023-01-28T22:01:19.474Z"
   },
   {
    "duration": 14,
    "start_time": "2023-01-28T22:01:19.809Z"
   },
   {
    "duration": 8,
    "start_time": "2023-01-28T22:01:19.824Z"
   },
   {
    "duration": 6,
    "start_time": "2023-01-28T22:01:19.834Z"
   },
   {
    "duration": 382,
    "start_time": "2023-01-28T22:01:19.841Z"
   },
   {
    "duration": 210,
    "start_time": "2023-01-28T22:01:20.225Z"
   },
   {
    "duration": 157,
    "start_time": "2023-01-28T22:01:20.437Z"
   },
   {
    "duration": 241,
    "start_time": "2023-01-28T22:01:20.596Z"
   },
   {
    "duration": 5,
    "start_time": "2023-01-28T22:01:20.838Z"
   },
   {
    "duration": 31,
    "start_time": "2023-01-28T22:01:20.845Z"
   },
   {
    "duration": 139,
    "start_time": "2023-01-28T22:01:20.878Z"
   },
   {
    "duration": 148,
    "start_time": "2023-01-28T22:01:21.021Z"
   },
   {
    "duration": 5,
    "start_time": "2023-01-28T22:01:21.171Z"
   },
   {
    "duration": 105,
    "start_time": "2023-01-28T22:01:21.178Z"
   },
   {
    "duration": 113,
    "start_time": "2023-01-28T22:01:21.285Z"
   },
   {
    "duration": 38,
    "start_time": "2023-01-28T22:01:21.399Z"
   },
   {
    "duration": 160,
    "start_time": "2023-01-28T22:01:21.438Z"
   },
   {
    "duration": 43,
    "start_time": "2023-01-28T22:01:21.601Z"
   },
   {
    "duration": 11,
    "start_time": "2023-01-28T22:01:21.646Z"
   },
   {
    "duration": 10,
    "start_time": "2023-01-28T22:01:21.659Z"
   },
   {
    "duration": 13,
    "start_time": "2023-01-28T22:01:21.670Z"
   },
   {
    "duration": 21,
    "start_time": "2023-01-28T22:01:21.685Z"
   },
   {
    "duration": 18,
    "start_time": "2023-01-28T22:01:21.707Z"
   },
   {
    "duration": 28,
    "start_time": "2023-01-28T22:01:21.726Z"
   },
   {
    "duration": 14,
    "start_time": "2023-01-28T22:01:21.755Z"
   },
   {
    "duration": 22,
    "start_time": "2023-01-28T22:01:21.770Z"
   },
   {
    "duration": 467,
    "start_time": "2023-01-28T22:01:21.793Z"
   },
   {
    "duration": 285,
    "start_time": "2023-01-28T22:01:22.262Z"
   },
   {
    "duration": 357,
    "start_time": "2023-01-28T22:01:22.549Z"
   },
   {
    "duration": 13,
    "start_time": "2023-01-28T22:01:22.908Z"
   },
   {
    "duration": 410,
    "start_time": "2023-01-28T22:01:22.922Z"
   }
  ],
  "kernelspec": {
   "display_name": "Python 3 (ipykernel)",
   "language": "python",
   "name": "python3"
  },
  "language_info": {
   "codemirror_mode": {
    "name": "ipython",
    "version": 3
   },
   "file_extension": ".py",
   "mimetype": "text/x-python",
   "name": "python",
   "nbconvert_exporter": "python",
   "pygments_lexer": "ipython3",
   "version": "3.9.12"
  },
  "toc": {
   "base_numbering": 1,
   "nav_menu": {},
   "number_sections": true,
   "sideBar": true,
   "skip_h1_title": true,
   "title_cell": "Table of Contents",
   "title_sidebar": "Contents",
   "toc_cell": false,
   "toc_position": {},
   "toc_section_display": true,
   "toc_window_display": false
  }
 },
 "nbformat": 4,
 "nbformat_minor": 2
}
