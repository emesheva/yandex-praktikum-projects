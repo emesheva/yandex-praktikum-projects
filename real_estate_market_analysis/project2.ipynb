{
 "cells": [
  {
   "cell_type": "markdown",
   "metadata": {},
   "source": [
    "# Исследование объявлений о продаже квартир\n",
    "\n",
    "В вашем распоряжении данные сервиса Яндекс.Недвижимость — архив объявлений о продаже квартир в Санкт-Петербурге и соседних населённых пунктов за несколько лет. Нужно научиться определять рыночную стоимость объектов недвижимости. Ваша задача — установить параметры. Это позволит построить автоматизированную систему: она отследит аномалии и мошенническую деятельность. \n",
    "\n",
    "По каждой квартире на продажу доступны два вида данных. Первые вписаны пользователем, вторые — получены автоматически на основе картографических данных. Например, расстояние до центра, аэропорта, ближайшего парка и водоёма. "
   ]
  },
  {
   "cell_type": "markdown",
   "metadata": {},
   "source": [
    "**Цель проекта:**"
   ]
  },
  {
   "cell_type": "markdown",
   "metadata": {},
   "source": [
    "<div class=\"alert alert-info\">Определить, какие параметры влияют на рыночную стоимость объектов недвижимости. Изучить все закономерности.  Полученные результаты будут использованы в дальнейшем для построения автоматизированной системы.</div> \n",
    "\n"
   ]
  },
  {
   "cell_type": "markdown",
   "metadata": {},
   "source": [
    "### Загрузка данных и изучение общей информации "
   ]
  },
  {
   "cell_type": "code",
   "execution_count": 1,
   "metadata": {},
   "outputs": [],
   "source": [
    "import pandas as pd #главная библиотека для анализа данных\n",
    "import matplotlib.pyplot as plt #библиотека для построения графиков\n",
    "import datetime as dt #библиотека для работы с датами\n",
    "import seaborn as sns #будем ее использовать для построения красивой диаграммы рассеяния"
   ]
  },
  {
   "cell_type": "code",
   "execution_count": 2,
   "metadata": {},
   "outputs": [],
   "source": [
    "#читаем файл и записываем его в датафрейм\n",
    "data = pd.read_csv('/datasets/real_estate_data.csv')"
   ]
  },
  {
   "cell_type": "markdown",
   "metadata": {},
   "source": [
    "*Выведем на экран первые 10 строк*"
   ]
  },
  {
   "cell_type": "code",
   "execution_count": 3,
   "metadata": {
    "scrolled": true
   },
   "outputs": [
    {
     "data": {
      "text/html": [
       "<div>\n",
       "<style scoped>\n",
       "    .dataframe tbody tr th:only-of-type {\n",
       "        vertical-align: middle;\n",
       "    }\n",
       "\n",
       "    .dataframe tbody tr th {\n",
       "        vertical-align: top;\n",
       "    }\n",
       "\n",
       "    .dataframe thead th {\n",
       "        text-align: right;\n",
       "    }\n",
       "</style>\n",
       "<table border=\"1\" class=\"dataframe\">\n",
       "  <thead>\n",
       "    <tr style=\"text-align: right;\">\n",
       "      <th></th>\n",
       "      <th>total_images</th>\n",
       "      <th>last_price</th>\n",
       "      <th>total_area</th>\n",
       "      <th>first_day_exposition</th>\n",
       "      <th>rooms</th>\n",
       "      <th>ceiling_height</th>\n",
       "      <th>floors_total</th>\n",
       "      <th>living_area</th>\n",
       "      <th>floor</th>\n",
       "      <th>is_apartment</th>\n",
       "      <th>...</th>\n",
       "      <th>kitchen_area</th>\n",
       "      <th>balcony</th>\n",
       "      <th>locality_name</th>\n",
       "      <th>airports_nearest</th>\n",
       "      <th>cityCenters_nearest</th>\n",
       "      <th>parks_around3000</th>\n",
       "      <th>parks_nearest</th>\n",
       "      <th>ponds_around3000</th>\n",
       "      <th>ponds_nearest</th>\n",
       "      <th>days_exposition</th>\n",
       "    </tr>\n",
       "  </thead>\n",
       "  <tbody>\n",
       "    <tr>\n",
       "      <th>0</th>\n",
       "      <td>20</td>\n",
       "      <td>13000000.0</td>\n",
       "      <td>108.00</td>\n",
       "      <td>2019-03-07T00:00:00</td>\n",
       "      <td>3</td>\n",
       "      <td>2.70</td>\n",
       "      <td>16.0</td>\n",
       "      <td>51.00</td>\n",
       "      <td>8</td>\n",
       "      <td>NaN</td>\n",
       "      <td>...</td>\n",
       "      <td>25.00</td>\n",
       "      <td>NaN</td>\n",
       "      <td>Санкт-Петербург</td>\n",
       "      <td>18863.0</td>\n",
       "      <td>16028.0</td>\n",
       "      <td>1.0</td>\n",
       "      <td>482.0</td>\n",
       "      <td>2.0</td>\n",
       "      <td>755.0</td>\n",
       "      <td>NaN</td>\n",
       "    </tr>\n",
       "    <tr>\n",
       "      <th>1</th>\n",
       "      <td>7</td>\n",
       "      <td>3350000.0</td>\n",
       "      <td>40.40</td>\n",
       "      <td>2018-12-04T00:00:00</td>\n",
       "      <td>1</td>\n",
       "      <td>NaN</td>\n",
       "      <td>11.0</td>\n",
       "      <td>18.60</td>\n",
       "      <td>1</td>\n",
       "      <td>NaN</td>\n",
       "      <td>...</td>\n",
       "      <td>11.00</td>\n",
       "      <td>2.0</td>\n",
       "      <td>посёлок Шушары</td>\n",
       "      <td>12817.0</td>\n",
       "      <td>18603.0</td>\n",
       "      <td>0.0</td>\n",
       "      <td>NaN</td>\n",
       "      <td>0.0</td>\n",
       "      <td>NaN</td>\n",
       "      <td>81.0</td>\n",
       "    </tr>\n",
       "    <tr>\n",
       "      <th>2</th>\n",
       "      <td>10</td>\n",
       "      <td>5196000.0</td>\n",
       "      <td>56.00</td>\n",
       "      <td>2015-08-20T00:00:00</td>\n",
       "      <td>2</td>\n",
       "      <td>NaN</td>\n",
       "      <td>5.0</td>\n",
       "      <td>34.30</td>\n",
       "      <td>4</td>\n",
       "      <td>NaN</td>\n",
       "      <td>...</td>\n",
       "      <td>8.30</td>\n",
       "      <td>0.0</td>\n",
       "      <td>Санкт-Петербург</td>\n",
       "      <td>21741.0</td>\n",
       "      <td>13933.0</td>\n",
       "      <td>1.0</td>\n",
       "      <td>90.0</td>\n",
       "      <td>2.0</td>\n",
       "      <td>574.0</td>\n",
       "      <td>558.0</td>\n",
       "    </tr>\n",
       "    <tr>\n",
       "      <th>3</th>\n",
       "      <td>0</td>\n",
       "      <td>64900000.0</td>\n",
       "      <td>159.00</td>\n",
       "      <td>2015-07-24T00:00:00</td>\n",
       "      <td>3</td>\n",
       "      <td>NaN</td>\n",
       "      <td>14.0</td>\n",
       "      <td>NaN</td>\n",
       "      <td>9</td>\n",
       "      <td>NaN</td>\n",
       "      <td>...</td>\n",
       "      <td>NaN</td>\n",
       "      <td>0.0</td>\n",
       "      <td>Санкт-Петербург</td>\n",
       "      <td>28098.0</td>\n",
       "      <td>6800.0</td>\n",
       "      <td>2.0</td>\n",
       "      <td>84.0</td>\n",
       "      <td>3.0</td>\n",
       "      <td>234.0</td>\n",
       "      <td>424.0</td>\n",
       "    </tr>\n",
       "    <tr>\n",
       "      <th>4</th>\n",
       "      <td>2</td>\n",
       "      <td>10000000.0</td>\n",
       "      <td>100.00</td>\n",
       "      <td>2018-06-19T00:00:00</td>\n",
       "      <td>2</td>\n",
       "      <td>3.03</td>\n",
       "      <td>14.0</td>\n",
       "      <td>32.00</td>\n",
       "      <td>13</td>\n",
       "      <td>NaN</td>\n",
       "      <td>...</td>\n",
       "      <td>41.00</td>\n",
       "      <td>NaN</td>\n",
       "      <td>Санкт-Петербург</td>\n",
       "      <td>31856.0</td>\n",
       "      <td>8098.0</td>\n",
       "      <td>2.0</td>\n",
       "      <td>112.0</td>\n",
       "      <td>1.0</td>\n",
       "      <td>48.0</td>\n",
       "      <td>121.0</td>\n",
       "    </tr>\n",
       "    <tr>\n",
       "      <th>5</th>\n",
       "      <td>10</td>\n",
       "      <td>2890000.0</td>\n",
       "      <td>30.40</td>\n",
       "      <td>2018-09-10T00:00:00</td>\n",
       "      <td>1</td>\n",
       "      <td>NaN</td>\n",
       "      <td>12.0</td>\n",
       "      <td>14.40</td>\n",
       "      <td>5</td>\n",
       "      <td>NaN</td>\n",
       "      <td>...</td>\n",
       "      <td>9.10</td>\n",
       "      <td>NaN</td>\n",
       "      <td>городской посёлок Янино-1</td>\n",
       "      <td>NaN</td>\n",
       "      <td>NaN</td>\n",
       "      <td>NaN</td>\n",
       "      <td>NaN</td>\n",
       "      <td>NaN</td>\n",
       "      <td>NaN</td>\n",
       "      <td>55.0</td>\n",
       "    </tr>\n",
       "    <tr>\n",
       "      <th>6</th>\n",
       "      <td>6</td>\n",
       "      <td>3700000.0</td>\n",
       "      <td>37.30</td>\n",
       "      <td>2017-11-02T00:00:00</td>\n",
       "      <td>1</td>\n",
       "      <td>NaN</td>\n",
       "      <td>26.0</td>\n",
       "      <td>10.60</td>\n",
       "      <td>6</td>\n",
       "      <td>NaN</td>\n",
       "      <td>...</td>\n",
       "      <td>14.40</td>\n",
       "      <td>1.0</td>\n",
       "      <td>посёлок Парголово</td>\n",
       "      <td>52996.0</td>\n",
       "      <td>19143.0</td>\n",
       "      <td>0.0</td>\n",
       "      <td>NaN</td>\n",
       "      <td>0.0</td>\n",
       "      <td>NaN</td>\n",
       "      <td>155.0</td>\n",
       "    </tr>\n",
       "    <tr>\n",
       "      <th>7</th>\n",
       "      <td>5</td>\n",
       "      <td>7915000.0</td>\n",
       "      <td>71.60</td>\n",
       "      <td>2019-04-18T00:00:00</td>\n",
       "      <td>2</td>\n",
       "      <td>NaN</td>\n",
       "      <td>24.0</td>\n",
       "      <td>NaN</td>\n",
       "      <td>22</td>\n",
       "      <td>NaN</td>\n",
       "      <td>...</td>\n",
       "      <td>18.90</td>\n",
       "      <td>2.0</td>\n",
       "      <td>Санкт-Петербург</td>\n",
       "      <td>23982.0</td>\n",
       "      <td>11634.0</td>\n",
       "      <td>0.0</td>\n",
       "      <td>NaN</td>\n",
       "      <td>0.0</td>\n",
       "      <td>NaN</td>\n",
       "      <td>NaN</td>\n",
       "    </tr>\n",
       "    <tr>\n",
       "      <th>8</th>\n",
       "      <td>20</td>\n",
       "      <td>2900000.0</td>\n",
       "      <td>33.16</td>\n",
       "      <td>2018-05-23T00:00:00</td>\n",
       "      <td>1</td>\n",
       "      <td>NaN</td>\n",
       "      <td>27.0</td>\n",
       "      <td>15.43</td>\n",
       "      <td>26</td>\n",
       "      <td>NaN</td>\n",
       "      <td>...</td>\n",
       "      <td>8.81</td>\n",
       "      <td>NaN</td>\n",
       "      <td>посёлок Мурино</td>\n",
       "      <td>NaN</td>\n",
       "      <td>NaN</td>\n",
       "      <td>NaN</td>\n",
       "      <td>NaN</td>\n",
       "      <td>NaN</td>\n",
       "      <td>NaN</td>\n",
       "      <td>189.0</td>\n",
       "    </tr>\n",
       "    <tr>\n",
       "      <th>9</th>\n",
       "      <td>18</td>\n",
       "      <td>5400000.0</td>\n",
       "      <td>61.00</td>\n",
       "      <td>2017-02-26T00:00:00</td>\n",
       "      <td>3</td>\n",
       "      <td>2.50</td>\n",
       "      <td>9.0</td>\n",
       "      <td>43.60</td>\n",
       "      <td>7</td>\n",
       "      <td>NaN</td>\n",
       "      <td>...</td>\n",
       "      <td>6.50</td>\n",
       "      <td>2.0</td>\n",
       "      <td>Санкт-Петербург</td>\n",
       "      <td>50898.0</td>\n",
       "      <td>15008.0</td>\n",
       "      <td>0.0</td>\n",
       "      <td>NaN</td>\n",
       "      <td>0.0</td>\n",
       "      <td>NaN</td>\n",
       "      <td>289.0</td>\n",
       "    </tr>\n",
       "    <tr>\n",
       "      <th>10</th>\n",
       "      <td>5</td>\n",
       "      <td>5050000.0</td>\n",
       "      <td>39.60</td>\n",
       "      <td>2017-11-16T00:00:00</td>\n",
       "      <td>1</td>\n",
       "      <td>2.67</td>\n",
       "      <td>12.0</td>\n",
       "      <td>20.30</td>\n",
       "      <td>3</td>\n",
       "      <td>NaN</td>\n",
       "      <td>...</td>\n",
       "      <td>8.50</td>\n",
       "      <td>NaN</td>\n",
       "      <td>Санкт-Петербург</td>\n",
       "      <td>38357.0</td>\n",
       "      <td>13878.0</td>\n",
       "      <td>1.0</td>\n",
       "      <td>310.0</td>\n",
       "      <td>2.0</td>\n",
       "      <td>553.0</td>\n",
       "      <td>137.0</td>\n",
       "    </tr>\n",
       "    <tr>\n",
       "      <th>11</th>\n",
       "      <td>9</td>\n",
       "      <td>3300000.0</td>\n",
       "      <td>44.00</td>\n",
       "      <td>2018-08-27T00:00:00</td>\n",
       "      <td>2</td>\n",
       "      <td>NaN</td>\n",
       "      <td>5.0</td>\n",
       "      <td>31.00</td>\n",
       "      <td>4</td>\n",
       "      <td>False</td>\n",
       "      <td>...</td>\n",
       "      <td>6.00</td>\n",
       "      <td>1.0</td>\n",
       "      <td>Ломоносов</td>\n",
       "      <td>48252.0</td>\n",
       "      <td>51677.0</td>\n",
       "      <td>0.0</td>\n",
       "      <td>NaN</td>\n",
       "      <td>0.0</td>\n",
       "      <td>NaN</td>\n",
       "      <td>7.0</td>\n",
       "    </tr>\n",
       "    <tr>\n",
       "      <th>12</th>\n",
       "      <td>10</td>\n",
       "      <td>3890000.0</td>\n",
       "      <td>54.00</td>\n",
       "      <td>2016-06-30T00:00:00</td>\n",
       "      <td>2</td>\n",
       "      <td>NaN</td>\n",
       "      <td>5.0</td>\n",
       "      <td>30.00</td>\n",
       "      <td>5</td>\n",
       "      <td>NaN</td>\n",
       "      <td>...</td>\n",
       "      <td>9.00</td>\n",
       "      <td>0.0</td>\n",
       "      <td>Сертолово</td>\n",
       "      <td>NaN</td>\n",
       "      <td>NaN</td>\n",
       "      <td>NaN</td>\n",
       "      <td>NaN</td>\n",
       "      <td>NaN</td>\n",
       "      <td>NaN</td>\n",
       "      <td>90.0</td>\n",
       "    </tr>\n",
       "    <tr>\n",
       "      <th>13</th>\n",
       "      <td>20</td>\n",
       "      <td>3550000.0</td>\n",
       "      <td>42.80</td>\n",
       "      <td>2017-07-01T00:00:00</td>\n",
       "      <td>2</td>\n",
       "      <td>2.56</td>\n",
       "      <td>5.0</td>\n",
       "      <td>27.00</td>\n",
       "      <td>5</td>\n",
       "      <td>NaN</td>\n",
       "      <td>...</td>\n",
       "      <td>5.20</td>\n",
       "      <td>1.0</td>\n",
       "      <td>Петергоф</td>\n",
       "      <td>37868.0</td>\n",
       "      <td>33058.0</td>\n",
       "      <td>1.0</td>\n",
       "      <td>294.0</td>\n",
       "      <td>3.0</td>\n",
       "      <td>298.0</td>\n",
       "      <td>366.0</td>\n",
       "    </tr>\n",
       "    <tr>\n",
       "      <th>14</th>\n",
       "      <td>1</td>\n",
       "      <td>4400000.0</td>\n",
       "      <td>36.00</td>\n",
       "      <td>2016-06-23T00:00:00</td>\n",
       "      <td>1</td>\n",
       "      <td>NaN</td>\n",
       "      <td>6.0</td>\n",
       "      <td>17.00</td>\n",
       "      <td>1</td>\n",
       "      <td>NaN</td>\n",
       "      <td>...</td>\n",
       "      <td>8.00</td>\n",
       "      <td>0.0</td>\n",
       "      <td>Пушкин</td>\n",
       "      <td>20782.0</td>\n",
       "      <td>30759.0</td>\n",
       "      <td>0.0</td>\n",
       "      <td>NaN</td>\n",
       "      <td>1.0</td>\n",
       "      <td>96.0</td>\n",
       "      <td>203.0</td>\n",
       "    </tr>\n",
       "  </tbody>\n",
       "</table>\n",
       "<p>15 rows × 22 columns</p>\n",
       "</div>"
      ],
      "text/plain": [
       "    total_images  last_price  total_area first_day_exposition  rooms  \\\n",
       "0             20  13000000.0      108.00  2019-03-07T00:00:00      3   \n",
       "1              7   3350000.0       40.40  2018-12-04T00:00:00      1   \n",
       "2             10   5196000.0       56.00  2015-08-20T00:00:00      2   \n",
       "3              0  64900000.0      159.00  2015-07-24T00:00:00      3   \n",
       "4              2  10000000.0      100.00  2018-06-19T00:00:00      2   \n",
       "5             10   2890000.0       30.40  2018-09-10T00:00:00      1   \n",
       "6              6   3700000.0       37.30  2017-11-02T00:00:00      1   \n",
       "7              5   7915000.0       71.60  2019-04-18T00:00:00      2   \n",
       "8             20   2900000.0       33.16  2018-05-23T00:00:00      1   \n",
       "9             18   5400000.0       61.00  2017-02-26T00:00:00      3   \n",
       "10             5   5050000.0       39.60  2017-11-16T00:00:00      1   \n",
       "11             9   3300000.0       44.00  2018-08-27T00:00:00      2   \n",
       "12            10   3890000.0       54.00  2016-06-30T00:00:00      2   \n",
       "13            20   3550000.0       42.80  2017-07-01T00:00:00      2   \n",
       "14             1   4400000.0       36.00  2016-06-23T00:00:00      1   \n",
       "\n",
       "    ceiling_height  floors_total  living_area  floor is_apartment  ...  \\\n",
       "0             2.70          16.0        51.00      8          NaN  ...   \n",
       "1              NaN          11.0        18.60      1          NaN  ...   \n",
       "2              NaN           5.0        34.30      4          NaN  ...   \n",
       "3              NaN          14.0          NaN      9          NaN  ...   \n",
       "4             3.03          14.0        32.00     13          NaN  ...   \n",
       "5              NaN          12.0        14.40      5          NaN  ...   \n",
       "6              NaN          26.0        10.60      6          NaN  ...   \n",
       "7              NaN          24.0          NaN     22          NaN  ...   \n",
       "8              NaN          27.0        15.43     26          NaN  ...   \n",
       "9             2.50           9.0        43.60      7          NaN  ...   \n",
       "10            2.67          12.0        20.30      3          NaN  ...   \n",
       "11             NaN           5.0        31.00      4        False  ...   \n",
       "12             NaN           5.0        30.00      5          NaN  ...   \n",
       "13            2.56           5.0        27.00      5          NaN  ...   \n",
       "14             NaN           6.0        17.00      1          NaN  ...   \n",
       "\n",
       "    kitchen_area  balcony              locality_name  airports_nearest  \\\n",
       "0          25.00      NaN            Санкт-Петербург           18863.0   \n",
       "1          11.00      2.0             посёлок Шушары           12817.0   \n",
       "2           8.30      0.0            Санкт-Петербург           21741.0   \n",
       "3            NaN      0.0            Санкт-Петербург           28098.0   \n",
       "4          41.00      NaN            Санкт-Петербург           31856.0   \n",
       "5           9.10      NaN  городской посёлок Янино-1               NaN   \n",
       "6          14.40      1.0          посёлок Парголово           52996.0   \n",
       "7          18.90      2.0            Санкт-Петербург           23982.0   \n",
       "8           8.81      NaN             посёлок Мурино               NaN   \n",
       "9           6.50      2.0            Санкт-Петербург           50898.0   \n",
       "10          8.50      NaN            Санкт-Петербург           38357.0   \n",
       "11          6.00      1.0                  Ломоносов           48252.0   \n",
       "12          9.00      0.0                  Сертолово               NaN   \n",
       "13          5.20      1.0                   Петергоф           37868.0   \n",
       "14          8.00      0.0                     Пушкин           20782.0   \n",
       "\n",
       "   cityCenters_nearest  parks_around3000  parks_nearest  ponds_around3000  \\\n",
       "0              16028.0               1.0          482.0               2.0   \n",
       "1              18603.0               0.0            NaN               0.0   \n",
       "2              13933.0               1.0           90.0               2.0   \n",
       "3               6800.0               2.0           84.0               3.0   \n",
       "4               8098.0               2.0          112.0               1.0   \n",
       "5                  NaN               NaN            NaN               NaN   \n",
       "6              19143.0               0.0            NaN               0.0   \n",
       "7              11634.0               0.0            NaN               0.0   \n",
       "8                  NaN               NaN            NaN               NaN   \n",
       "9              15008.0               0.0            NaN               0.0   \n",
       "10             13878.0               1.0          310.0               2.0   \n",
       "11             51677.0               0.0            NaN               0.0   \n",
       "12                 NaN               NaN            NaN               NaN   \n",
       "13             33058.0               1.0          294.0               3.0   \n",
       "14             30759.0               0.0            NaN               1.0   \n",
       "\n",
       "    ponds_nearest  days_exposition  \n",
       "0           755.0              NaN  \n",
       "1             NaN             81.0  \n",
       "2           574.0            558.0  \n",
       "3           234.0            424.0  \n",
       "4            48.0            121.0  \n",
       "5             NaN             55.0  \n",
       "6             NaN            155.0  \n",
       "7             NaN              NaN  \n",
       "8             NaN            189.0  \n",
       "9             NaN            289.0  \n",
       "10          553.0            137.0  \n",
       "11            NaN              7.0  \n",
       "12            NaN             90.0  \n",
       "13          298.0            366.0  \n",
       "14           96.0            203.0  \n",
       "\n",
       "[15 rows x 22 columns]"
      ]
     },
     "metadata": {},
     "output_type": "display_data"
    }
   ],
   "source": [
    "#указываем разделитель\n",
    "data = pd.read_csv('/datasets/real_estate_data.csv', sep='\\t')\n",
    "#выводим для проверки первые 10 строк\n",
    "display(data.head(15))                "
   ]
  },
  {
   "cell_type": "markdown",
   "metadata": {},
   "source": [
    "*Есть пропуски как в столбцах, добавленных пользователем, так и полученных автоматически - картографических. В некоторых столбцах, на мой взгляд, нужно поменять тип данных (например, days_exposition)*"
   ]
  },
  {
   "cell_type": "code",
   "execution_count": 4,
   "metadata": {},
   "outputs": [
    {
     "name": "stdout",
     "output_type": "stream",
     "text": [
      "<class 'pandas.core.frame.DataFrame'>\n",
      "RangeIndex: 23699 entries, 0 to 23698\n",
      "Data columns (total 22 columns):\n",
      " #   Column                Non-Null Count  Dtype  \n",
      "---  ------                --------------  -----  \n",
      " 0   total_images          23699 non-null  int64  \n",
      " 1   last_price            23699 non-null  float64\n",
      " 2   total_area            23699 non-null  float64\n",
      " 3   first_day_exposition  23699 non-null  object \n",
      " 4   rooms                 23699 non-null  int64  \n",
      " 5   ceiling_height        14504 non-null  float64\n",
      " 6   floors_total          23613 non-null  float64\n",
      " 7   living_area           21796 non-null  float64\n",
      " 8   floor                 23699 non-null  int64  \n",
      " 9   is_apartment          2775 non-null   object \n",
      " 10  studio                23699 non-null  bool   \n",
      " 11  open_plan             23699 non-null  bool   \n",
      " 12  kitchen_area          21421 non-null  float64\n",
      " 13  balcony               12180 non-null  float64\n",
      " 14  locality_name         23650 non-null  object \n",
      " 15  airports_nearest      18157 non-null  float64\n",
      " 16  cityCenters_nearest   18180 non-null  float64\n",
      " 17  parks_around3000      18181 non-null  float64\n",
      " 18  parks_nearest         8079 non-null   float64\n",
      " 19  ponds_around3000      18181 non-null  float64\n",
      " 20  ponds_nearest         9110 non-null   float64\n",
      " 21  days_exposition       20518 non-null  float64\n",
      "dtypes: bool(2), float64(14), int64(3), object(3)\n",
      "memory usage: 3.7+ MB\n"
     ]
    }
   ],
   "source": [
    "#посмотрим общую информацию о датафрейме\n",
    "data.info()"
   ]
  },
  {
   "cell_type": "markdown",
   "metadata": {},
   "source": [
    "*В таблице 23699 строк и 22 столбца. Почти половина из них содержит пропуски. Также есть несоответствия типов данных. С этим нужно будет поработать.*"
   ]
  },
  {
   "cell_type": "code",
   "execution_count": 5,
   "metadata": {},
   "outputs": [
    {
     "data": {
      "text/plain": [
       "(23699, 22)"
      ]
     },
     "execution_count": 5,
     "metadata": {},
     "output_type": "execute_result"
    }
   ],
   "source": [
    "#оценим первоначальное количество строк, чтобы после предобработки данных посчитать долю удаленных строк\n",
    "data.shape"
   ]
  },
  {
   "cell_type": "markdown",
   "metadata": {},
   "source": [
    "*Построим гистограмму по всем числовым столбцам датасета*"
   ]
  },
  {
   "cell_type": "code",
   "execution_count": 6,
   "metadata": {},
   "outputs": [
    {
     "data": {
      "image/png": "[encoded data removed]",
      "text/plain": [
       "<Figure size 1080x1440 with 20 Axes>"
      ]
     },
     "metadata": {
      "needs_background": "light"
     },
     "output_type": "display_data"
    }
   ],
   "source": [
    "data.hist(figsize=(15, 20));"
   ]
  },
  {
   "cell_type": "markdown",
   "metadata": {},
   "source": [
    "<div class=\"alert alert-info\">\n",
    "Выводы на основе первого знакомства с данными:\n",
    "\n",
    "1) В датафрейме 23699 строк*\n",
    "\n",
    "2) Пропуски присутствуют в столбцах, как заполняемых вручную пользователем: floors_total (количество этажей в доме), living_area (жилая площадь в метрах), is_apartment (столбец-признак апартаментов), kitchen_area (площадь кухни), balcony (число балконов), floors_total (количество этажей в доме, но пропусков тут немного), locality_name (название населенного пункта), так и определяемых системой автоматически: airports_nearest (расстояние до ближайшего аэропорта), cityCenters_nearest (расстояние до центра города), parks_around3000 (число парков в радиусе 3 км), parks_nearest (расстояние до ближайшего парка), ponds_around3000 (число водоемов  в радиусе 3 км), ponds_nearest (расстояние до ближайшего парка), days_exposition (количество дней размещения объявления). \n",
    "\n",
    "Для принятия решения о том, нужно ли что-то из них заполнять или удалять, проверим долю этим пропусков и характер данных.\n",
    "\n",
    "3) Нужно будет поменять тип данных в столбцах days_exposition, balcony, is_apartment, floors_total\n",
    "    </div>"
   ]
  },
  {
   "cell_type": "markdown",
   "metadata": {},
   "source": [
    "### Предобработка данных"
   ]
  },
  {
   "cell_type": "markdown",
   "metadata": {},
   "source": [
    "#### Удаление пропусков"
   ]
  },
  {
   "cell_type": "markdown",
   "metadata": {},
   "source": [
    "*Выведем общее количество пропусков по столбцам*"
   ]
  },
  {
   "cell_type": "code",
   "execution_count": 7,
   "metadata": {},
   "outputs": [
    {
     "data": {
      "text/plain": [
       "total_images                0\n",
       "last_price                  0\n",
       "total_area                  0\n",
       "first_day_exposition        0\n",
       "rooms                       0\n",
       "ceiling_height           9195\n",
       "floors_total               86\n",
       "living_area              1903\n",
       "floor                       0\n",
       "is_apartment            20924\n",
       "studio                      0\n",
       "open_plan                   0\n",
       "kitchen_area             2278\n",
       "balcony                 11519\n",
       "locality_name              49\n",
       "airports_nearest         5542\n",
       "cityCenters_nearest      5519\n",
       "parks_around3000         5518\n",
       "parks_nearest           15620\n",
       "ponds_around3000         5518\n",
       "ponds_nearest           14589\n",
       "days_exposition          3181\n",
       "dtype: int64"
      ]
     },
     "execution_count": 7,
     "metadata": {},
     "output_type": "execute_result"
    }
   ],
   "source": [
    "data.isnull().sum()"
   ]
  },
  {
   "cell_type": "markdown",
   "metadata": {},
   "source": [
    "**Столбец is_apartment**\n",
    "\n",
    "*В столбце is_apartment хранится признак апартаментов. Апартаменты появились в России сравнительно недавно, поэтому скорее всего если пользователь данное поле не заполняет, то квартира просто не относится к апартаментам.* "
   ]
  },
  {
   "cell_type": "code",
   "execution_count": 8,
   "metadata": {},
   "outputs": [
    {
     "data": {
      "text/plain": [
       "array([nan, False, True], dtype=object)"
      ]
     },
     "execution_count": 8,
     "metadata": {},
     "output_type": "execute_result"
    }
   ],
   "source": [
    "#выведем перечень уникальных значений столбца is_apartment\n",
    "data['is_apartment'].unique()"
   ]
  },
  {
   "cell_type": "markdown",
   "metadata": {},
   "source": [
    "*Пропуски в столбце заполним значением False (квартира не относится к апартаментам)*"
   ]
  },
  {
   "cell_type": "code",
   "execution_count": 9,
   "metadata": {},
   "outputs": [],
   "source": [
    "#заполним пропуски в столбце значением False \n",
    "data['is_apartment'] = data['is_apartment'].fillna(False)"
   ]
  },
  {
   "cell_type": "markdown",
   "metadata": {},
   "source": [
    "*Проверяем результат*"
   ]
  },
  {
   "cell_type": "code",
   "execution_count": 10,
   "metadata": {},
   "outputs": [
    {
     "name": "stdout",
     "output_type": "stream",
     "text": [
      "[False  True]\n"
     ]
    },
    {
     "data": {
      "text/plain": [
       "0"
      ]
     },
     "execution_count": 10,
     "metadata": {},
     "output_type": "execute_result"
    }
   ],
   "source": [
    "#проверяем, что все заполнилось, больше нет значения NaN\n",
    "print(data['is_apartment'].unique())\n",
    "data['is_apartment'].isnull().sum()"
   ]
  },
  {
   "cell_type": "markdown",
   "metadata": {},
   "source": [
    "**Столбец balcony**\n",
    "\n",
    "*В столбце balcony находится информация о количестве балконов в доме. Пропуски в этом поле связаны скорее всего с тем, что у квартиры просто нет балкона. Если балкон отсутствует, пользователь не заполняет это поле. Проверим, что в поле содержится точно количество балконов, а не признак его наличия.*  "
   ]
  },
  {
   "cell_type": "code",
   "execution_count": 11,
   "metadata": {},
   "outputs": [
    {
     "data": {
      "text/plain": [
       "array([nan,  2.,  0.,  1.,  5.,  4.,  3.])"
      ]
     },
     "execution_count": 11,
     "metadata": {},
     "output_type": "execute_result"
    }
   ],
   "source": [
    "#выведем перечень уникальных значений столбца balcony\n",
    "data['balcony'].unique()"
   ]
  },
  {
   "cell_type": "markdown",
   "metadata": {},
   "source": [
    "*В столбце указывается количество балконов. Считаю, что NaN можно заполнить значением 0 (у квартиры нет балкона)*"
   ]
  },
  {
   "cell_type": "code",
   "execution_count": 12,
   "metadata": {},
   "outputs": [],
   "source": [
    "#заполним пропуски в столбце значением 0 \n",
    "data['balcony'] = data['balcony'].fillna(0)\n"
   ]
  },
  {
   "cell_type": "code",
   "execution_count": 13,
   "metadata": {},
   "outputs": [
    {
     "data": {
      "text/plain": [
       "array([0., 2., 1., 5., 4., 3.])"
      ]
     },
     "execution_count": 13,
     "metadata": {},
     "output_type": "execute_result"
    }
   ],
   "source": [
    "#проверим, что все заполнилось, значения NaN больше нет\n",
    "data['balcony'].unique()"
   ]
  },
  {
   "cell_type": "markdown",
   "metadata": {},
   "source": [
    "**Столбец ceiling_height**\n",
    "\n",
    "*В столбце находится информация о высоте потолков. Как правило, в домах одной типовой застройки (хрущевки, сталинки и т.п.) высота потолков примерно одинаковая. Поэтому этот столбец можно заполнить средним значением. Но для начала нужно сгруппировать данные так, чтобы можно было получить группы домов одной типовой застройки. Столбца с годом строительства дома у нас нет. Поэтому по годам разбить данные не получится.* \n",
    "*По высоте потолка квартиры разделяются на так называемые \"сталинки\" (около 3 метров), \"хрущевки\" (в пределах 2,5 м) и более современные дома, начиная с \"брежневок\" (в районе 2,7 м). Еще имеет смысл выделить в отдельную группу современные дома бизнес-класса, в них, как правило, высота потолка от 2,8 до 3 м.*\n",
    "\n",
    "*Основные характеристики \"сталинок\":*\n",
    "\n",
    "*Как правило, от 2 комнат (1-комнатные встречаются очень редко)*\n",
    "\n",
    "*Кухня - от 7 кв.м.*\n",
    "\n",
    "*Общая площадь находится в пределах:*\n",
    "\n",
    "*1-комнатные от 32 до 50 кв.м.*\n",
    "\n",
    "*2-комнатные от 44 до 66 кв.м.*\n",
    "\n",
    "*3-комнатные от 57 до 85 кв.м.*\n",
    "\n",
    "*4-комнатные от 80 до 110 кв.м.*\n",
    "\n",
    "*Высота потолка - 3 м.*\n",
    "\n",
    "*Основные характеристики \"хрущевок\" такие:*\n",
    "\n",
    "*5 этажей в доме*\n",
    "\n",
    "*Кухня - до 6 кв.м., не больше*\n",
    "\n",
    "*Количество комнат - до 4 (4-комнатные встречаются, но очень редко)*\n",
    "\n",
    "*Общая площадь находится в пределах:*\n",
    "\n",
    "*1-комнатные от 28 до 33 кв.м.*\n",
    "\n",
    "*2-комнатные от 38 до 46 кв.м.*\n",
    "\n",
    "*3-комнатные от 48 до 58 кв.м.*\n",
    "\n",
    "*Высота потолка - 2.5 метров*\n",
    "\n",
    "\n",
    "*Основные характеристики современных домов:*\n",
    "\n",
    "*От 8 этажей в доме*\n",
    "\n",
    "*Кухня - от 9 кв.м.*\n",
    "\n",
    "*Высота потолка - 2.7 м.*\n",
    "\n",
    "*Отличительные особенности квартир бизнес-класса:*\n",
    "\n",
    "*Кухня - от 12 кв.м.*\n",
    "\n",
    "*Площадь 1-комнатной квартиры начинается от 40 кв.м.*\n",
    "\n",
    "*Высота потолка - 3 м.*"
   ]
  },
  {
   "cell_type": "code",
   "execution_count": 14,
   "metadata": {},
   "outputs": [
    {
     "data": {
      "text/plain": [
       "array([  2.7 ,    nan,   3.03,   2.5 ,   2.67,   2.56,   3.05,   2.75,\n",
       "         2.6 ,   2.9 ,   2.8 ,   2.55,   3.  ,   2.65,   3.2 ,   2.61,\n",
       "         3.25,   3.45,   2.77,   2.85,   2.64,   2.57,   4.15,   3.5 ,\n",
       "         3.3 ,   2.71,   4.  ,   2.47,   2.73,   2.84,   3.1 ,   2.34,\n",
       "         3.4 ,   3.06,   2.72,   2.54,   2.51,   2.78,   2.76,  25.  ,\n",
       "         2.58,   3.7 ,   2.52,   5.2 ,   2.87,   2.66,   2.59,   2.  ,\n",
       "         2.45,   3.6 ,   2.92,   3.11,   3.13,   3.8 ,   3.15,   3.55,\n",
       "         3.16,   3.62,   3.12,   2.53,   2.74,   2.96,   2.46,   5.3 ,\n",
       "         5.  ,   2.79,   2.95,   4.06,   2.94,   3.82,   3.54,   3.53,\n",
       "         2.83,   4.7 ,   2.4 ,   3.38,   3.01,   5.6 ,   3.65,   3.9 ,\n",
       "         3.18,   3.35,   2.3 ,   3.57,   2.48,   2.62,   2.82,   3.98,\n",
       "         2.63,   3.83,   3.52,   3.95,   3.75,   2.88,   3.67,   3.87,\n",
       "         3.66,   3.85,   3.86,   4.19,   3.24,   4.8 ,   4.5 ,   4.2 ,\n",
       "         3.36,  32.  ,   3.08,   3.68,   3.07,   3.37,   3.09,   8.  ,\n",
       "         3.26,   3.34,   2.81,   3.44,   2.97,   3.14,   4.37,   2.68,\n",
       "         3.22,   3.27,  27.  ,   4.1 ,   2.93,   3.46,  24.  ,   3.47,\n",
       "         3.33,   3.63,   3.32,  26.  ,   1.2 ,   8.3 ,   2.98,   2.86,\n",
       "         3.17,   4.4 ,   3.28,   3.04,   4.45,   5.5 ,   3.84,   3.23,\n",
       "         3.02,   3.21,   3.43,   3.78,   4.3 ,   3.39,   2.69,   3.31,\n",
       "         4.65,   3.56,   2.2 ,   3.51,   3.93,   3.42,   2.99,   3.49,\n",
       "        14.  ,   4.14,   2.91,   3.88,   1.75,   4.25,   3.29,  20.  ,\n",
       "         2.25,   3.76,   3.69,   6.  ,  22.6 ,   2.89,   3.58,   5.8 ,\n",
       "        27.5 ,   2.49,   4.9 ,   3.48,  10.3 ,   1.  , 100.  ,   3.59])"
      ]
     },
     "execution_count": 14,
     "metadata": {},
     "output_type": "execute_result"
    }
   ],
   "source": [
    "#просмотрим уникальные значения в этом столбце\n",
    "data['ceiling_height'].unique()"
   ]
  },
  {
   "cell_type": "markdown",
   "metadata": {},
   "source": [
    "*Помимо NaN здесь присутствуют аномальные значения: 32., 25., 27., 24., 26., 20., 100. Скорее всего они появились вследствии опечатки, пользователь не там поставил запятую, то есть 32. соответствует 3.2 и т.д. Это нужно исправить. А вот выбивающееся значение в 100 и 1 метр я бы удалила*"
   ]
  },
  {
   "cell_type": "code",
   "execution_count": 15,
   "metadata": {},
   "outputs": [],
   "source": [
    "#выбираем строки с аномальными значениями, присваиваем новое:\n",
    "data.loc[data['ceiling_height'] == 32, 'ceiling_height'] = 3.2\n",
    "data.loc[data['ceiling_height'] == 25, 'ceiling_height'] = 2.5\n",
    "data.loc[data['ceiling_height'] == 24, 'ceiling_height'] = 2.4\n",
    "data.loc[data['ceiling_height'] == 27, 'ceiling_height'] = 2.7\n",
    "data.loc[data['ceiling_height'] == 26, 'ceiling_height'] = 2.6\n",
    "data.loc[data['ceiling_height'] == 20, 'ceiling_height'] = 2.0\n",
    "data.loc[data['ceiling_height'] == 27.5, 'ceiling_height'] = 2.75\n",
    "data.loc[data['ceiling_height'] == 22.6, 'ceiling_height'] = 2.26\n"
   ]
  },
  {
   "cell_type": "code",
   "execution_count": 16,
   "metadata": {},
   "outputs": [
    {
     "name": "stdout",
     "output_type": "stream",
     "text": [
      "4.2195873243596775e-05\n",
      "4.2195873243596775e-05\n"
     ]
    }
   ],
   "source": [
    "#посмотрим, сколько строк с аномальным значением в 100 м и 1 м:\n",
    "print(len(data.query('ceiling_height == 100.')) / len(data))\n",
    "print(len(data.query('ceiling_height == 1.')) / len(data)) "
   ]
  },
  {
   "cell_type": "markdown",
   "metadata": {},
   "source": [
    "*Количество таких строк небольшое, можно спокойно удалить*"
   ]
  },
  {
   "cell_type": "code",
   "execution_count": 17,
   "metadata": {},
   "outputs": [],
   "source": [
    "#удаляем из датасета строки с аномальными значениями\n",
    "data = data.loc[(data['ceiling_height'] != 100.) & (data['ceiling_height'] != 1.)]\n"
   ]
  },
  {
   "cell_type": "code",
   "execution_count": 18,
   "metadata": {},
   "outputs": [
    {
     "data": {
      "text/plain": [
       "array([ 2.7 ,   nan,  3.03,  2.5 ,  2.67,  2.56,  3.05,  2.75,  2.6 ,\n",
       "        2.9 ,  2.8 ,  2.55,  3.  ,  2.65,  3.2 ,  2.61,  3.25,  3.45,\n",
       "        2.77,  2.85,  2.64,  2.57,  4.15,  3.5 ,  3.3 ,  2.71,  4.  ,\n",
       "        2.47,  2.73,  2.84,  3.1 ,  2.34,  3.4 ,  3.06,  2.72,  2.54,\n",
       "        2.51,  2.78,  2.76,  2.58,  3.7 ,  2.52,  5.2 ,  2.87,  2.66,\n",
       "        2.59,  2.  ,  2.45,  3.6 ,  2.92,  3.11,  3.13,  3.8 ,  3.15,\n",
       "        3.55,  3.16,  3.62,  3.12,  2.53,  2.74,  2.96,  2.46,  5.3 ,\n",
       "        5.  ,  2.79,  2.95,  4.06,  2.94,  3.82,  3.54,  3.53,  2.83,\n",
       "        4.7 ,  2.4 ,  3.38,  3.01,  5.6 ,  3.65,  3.9 ,  3.18,  3.35,\n",
       "        2.3 ,  3.57,  2.48,  2.62,  2.82,  3.98,  2.63,  3.83,  3.52,\n",
       "        3.95,  3.75,  2.88,  3.67,  3.87,  3.66,  3.85,  3.86,  4.19,\n",
       "        3.24,  4.8 ,  4.5 ,  4.2 ,  3.36,  3.08,  3.68,  3.07,  3.37,\n",
       "        3.09,  8.  ,  3.26,  3.34,  2.81,  3.44,  2.97,  3.14,  4.37,\n",
       "        2.68,  3.22,  3.27,  4.1 ,  2.93,  3.46,  3.47,  3.33,  3.63,\n",
       "        3.32,  1.2 ,  8.3 ,  2.98,  2.86,  3.17,  4.4 ,  3.28,  3.04,\n",
       "        4.45,  5.5 ,  3.84,  3.23,  3.02,  3.21,  3.43,  3.78,  4.3 ,\n",
       "        3.39,  2.69,  3.31,  4.65,  3.56,  2.2 ,  3.51,  3.93,  3.42,\n",
       "        2.99,  3.49, 14.  ,  4.14,  2.91,  3.88,  1.75,  4.25,  3.29,\n",
       "        2.25,  3.76,  3.69,  6.  ,  2.26,  2.89,  3.58,  5.8 ,  2.49,\n",
       "        4.9 ,  3.48, 10.3 ,  3.59])"
      ]
     },
     "execution_count": 18,
     "metadata": {},
     "output_type": "execute_result"
    }
   ],
   "source": [
    "#проверим, что больше аномалий нет:\n",
    "data['ceiling_height'].unique()"
   ]
  },
  {
   "cell_type": "code",
   "execution_count": 19,
   "metadata": {},
   "outputs": [],
   "source": [
    "#для того, чтобы заполнить пропуски с группировкой по типу застройки, создадим функцию\n",
    "#она возвращает категорию дома, исходя из его этажности, площади кухни и общей площади квартиры\n",
    "#для категории домов бизнес-класса у нас сравнительно мало типичных характеристик, поэтому в отдельный класс можно выделить только 1-комнатные квартиры\n",
    "#для домов, не попадающих ни в одну из категорий, вернем значение \"иное\"\n",
    "\n",
    "def categorize_house(row):\n",
    "\n",
    "    kitchen = row['kitchen_area']\n",
    "    floors = row['floors_total']\n",
    "    rooms = row['rooms']\n",
    "    area = row['total_area']\n",
    "\n",
    "    if (kitchen <= 6) and (floors == 5) and ((rooms == 1 and 28 <= area <= 33) | (rooms == 2 and 38 <= area <= 46) | (rooms == 3 and 48 <= area <= 58)):\n",
    "        return 'хрущевка'\n",
    "\n",
    "    if (kitchen >= 7) and (floors <= 5) and ((rooms == 1 and 32 <= area <= 50) | (rooms == 2 and 44 <= area <= 66) | (rooms == 3 and 57 <= area <= 85) | (rooms == 4 and 80 <= area <= 110)):\n",
    "        return 'сталинка'\n",
    "    \n",
    "    if (kitchen >= 9) and (floors >= 8):\n",
    "        return 'новостройка'\n",
    "    \n",
    "    if (kitchen >= 12) and (rooms == 1 and area >= 45):\n",
    "        return 'бизнес'\n",
    "    return 'иное'\n",
    "\n"
   ]
  },
  {
   "cell_type": "code",
   "execution_count": 20,
   "metadata": {},
   "outputs": [],
   "source": [
    "#добавим новый столбец, в котором будет храниться категория постройки дома\n",
    "# применим функцию методом apply()\n",
    "data['house_category'] = data.apply(categorize_house, axis=1);\n"
   ]
  },
  {
   "cell_type": "code",
   "execution_count": 21,
   "metadata": {},
   "outputs": [
    {
     "data": {
      "text/html": [
       "<div>\n",
       "<style scoped>\n",
       "    .dataframe tbody tr th:only-of-type {\n",
       "        vertical-align: middle;\n",
       "    }\n",
       "\n",
       "    .dataframe tbody tr th {\n",
       "        vertical-align: top;\n",
       "    }\n",
       "\n",
       "    .dataframe thead th {\n",
       "        text-align: right;\n",
       "    }\n",
       "</style>\n",
       "<table border=\"1\" class=\"dataframe\">\n",
       "  <thead>\n",
       "    <tr style=\"text-align: right;\">\n",
       "      <th></th>\n",
       "      <th>total_images</th>\n",
       "      <th>last_price</th>\n",
       "      <th>total_area</th>\n",
       "      <th>first_day_exposition</th>\n",
       "      <th>rooms</th>\n",
       "      <th>ceiling_height</th>\n",
       "      <th>floors_total</th>\n",
       "      <th>living_area</th>\n",
       "      <th>floor</th>\n",
       "      <th>is_apartment</th>\n",
       "      <th>...</th>\n",
       "      <th>balcony</th>\n",
       "      <th>locality_name</th>\n",
       "      <th>airports_nearest</th>\n",
       "      <th>cityCenters_nearest</th>\n",
       "      <th>parks_around3000</th>\n",
       "      <th>parks_nearest</th>\n",
       "      <th>ponds_around3000</th>\n",
       "      <th>ponds_nearest</th>\n",
       "      <th>days_exposition</th>\n",
       "      <th>house_category</th>\n",
       "    </tr>\n",
       "  </thead>\n",
       "  <tbody>\n",
       "    <tr>\n",
       "      <th>0</th>\n",
       "      <td>20</td>\n",
       "      <td>13000000.0</td>\n",
       "      <td>108.00</td>\n",
       "      <td>2019-03-07T00:00:00</td>\n",
       "      <td>3</td>\n",
       "      <td>2.70</td>\n",
       "      <td>16.0</td>\n",
       "      <td>51.00</td>\n",
       "      <td>8</td>\n",
       "      <td>False</td>\n",
       "      <td>...</td>\n",
       "      <td>0.0</td>\n",
       "      <td>Санкт-Петербург</td>\n",
       "      <td>18863.0</td>\n",
       "      <td>16028.0</td>\n",
       "      <td>1.0</td>\n",
       "      <td>482.0</td>\n",
       "      <td>2.0</td>\n",
       "      <td>755.0</td>\n",
       "      <td>NaN</td>\n",
       "      <td>новостройка</td>\n",
       "    </tr>\n",
       "    <tr>\n",
       "      <th>1</th>\n",
       "      <td>7</td>\n",
       "      <td>3350000.0</td>\n",
       "      <td>40.40</td>\n",
       "      <td>2018-12-04T00:00:00</td>\n",
       "      <td>1</td>\n",
       "      <td>NaN</td>\n",
       "      <td>11.0</td>\n",
       "      <td>18.60</td>\n",
       "      <td>1</td>\n",
       "      <td>False</td>\n",
       "      <td>...</td>\n",
       "      <td>2.0</td>\n",
       "      <td>посёлок Шушары</td>\n",
       "      <td>12817.0</td>\n",
       "      <td>18603.0</td>\n",
       "      <td>0.0</td>\n",
       "      <td>NaN</td>\n",
       "      <td>0.0</td>\n",
       "      <td>NaN</td>\n",
       "      <td>81.0</td>\n",
       "      <td>новостройка</td>\n",
       "    </tr>\n",
       "    <tr>\n",
       "      <th>2</th>\n",
       "      <td>10</td>\n",
       "      <td>5196000.0</td>\n",
       "      <td>56.00</td>\n",
       "      <td>2015-08-20T00:00:00</td>\n",
       "      <td>2</td>\n",
       "      <td>NaN</td>\n",
       "      <td>5.0</td>\n",
       "      <td>34.30</td>\n",
       "      <td>4</td>\n",
       "      <td>False</td>\n",
       "      <td>...</td>\n",
       "      <td>0.0</td>\n",
       "      <td>Санкт-Петербург</td>\n",
       "      <td>21741.0</td>\n",
       "      <td>13933.0</td>\n",
       "      <td>1.0</td>\n",
       "      <td>90.0</td>\n",
       "      <td>2.0</td>\n",
       "      <td>574.0</td>\n",
       "      <td>558.0</td>\n",
       "      <td>сталинка</td>\n",
       "    </tr>\n",
       "    <tr>\n",
       "      <th>3</th>\n",
       "      <td>0</td>\n",
       "      <td>64900000.0</td>\n",
       "      <td>159.00</td>\n",
       "      <td>2015-07-24T00:00:00</td>\n",
       "      <td>3</td>\n",
       "      <td>NaN</td>\n",
       "      <td>14.0</td>\n",
       "      <td>NaN</td>\n",
       "      <td>9</td>\n",
       "      <td>False</td>\n",
       "      <td>...</td>\n",
       "      <td>0.0</td>\n",
       "      <td>Санкт-Петербург</td>\n",
       "      <td>28098.0</td>\n",
       "      <td>6800.0</td>\n",
       "      <td>2.0</td>\n",
       "      <td>84.0</td>\n",
       "      <td>3.0</td>\n",
       "      <td>234.0</td>\n",
       "      <td>424.0</td>\n",
       "      <td>иное</td>\n",
       "    </tr>\n",
       "    <tr>\n",
       "      <th>4</th>\n",
       "      <td>2</td>\n",
       "      <td>10000000.0</td>\n",
       "      <td>100.00</td>\n",
       "      <td>2018-06-19T00:00:00</td>\n",
       "      <td>2</td>\n",
       "      <td>3.03</td>\n",
       "      <td>14.0</td>\n",
       "      <td>32.00</td>\n",
       "      <td>13</td>\n",
       "      <td>False</td>\n",
       "      <td>...</td>\n",
       "      <td>0.0</td>\n",
       "      <td>Санкт-Петербург</td>\n",
       "      <td>31856.0</td>\n",
       "      <td>8098.0</td>\n",
       "      <td>2.0</td>\n",
       "      <td>112.0</td>\n",
       "      <td>1.0</td>\n",
       "      <td>48.0</td>\n",
       "      <td>121.0</td>\n",
       "      <td>новостройка</td>\n",
       "    </tr>\n",
       "    <tr>\n",
       "      <th>5</th>\n",
       "      <td>10</td>\n",
       "      <td>2890000.0</td>\n",
       "      <td>30.40</td>\n",
       "      <td>2018-09-10T00:00:00</td>\n",
       "      <td>1</td>\n",
       "      <td>NaN</td>\n",
       "      <td>12.0</td>\n",
       "      <td>14.40</td>\n",
       "      <td>5</td>\n",
       "      <td>False</td>\n",
       "      <td>...</td>\n",
       "      <td>0.0</td>\n",
       "      <td>городской посёлок Янино-1</td>\n",
       "      <td>NaN</td>\n",
       "      <td>NaN</td>\n",
       "      <td>NaN</td>\n",
       "      <td>NaN</td>\n",
       "      <td>NaN</td>\n",
       "      <td>NaN</td>\n",
       "      <td>55.0</td>\n",
       "      <td>новостройка</td>\n",
       "    </tr>\n",
       "    <tr>\n",
       "      <th>6</th>\n",
       "      <td>6</td>\n",
       "      <td>3700000.0</td>\n",
       "      <td>37.30</td>\n",
       "      <td>2017-11-02T00:00:00</td>\n",
       "      <td>1</td>\n",
       "      <td>NaN</td>\n",
       "      <td>26.0</td>\n",
       "      <td>10.60</td>\n",
       "      <td>6</td>\n",
       "      <td>False</td>\n",
       "      <td>...</td>\n",
       "      <td>1.0</td>\n",
       "      <td>посёлок Парголово</td>\n",
       "      <td>52996.0</td>\n",
       "      <td>19143.0</td>\n",
       "      <td>0.0</td>\n",
       "      <td>NaN</td>\n",
       "      <td>0.0</td>\n",
       "      <td>NaN</td>\n",
       "      <td>155.0</td>\n",
       "      <td>новостройка</td>\n",
       "    </tr>\n",
       "    <tr>\n",
       "      <th>7</th>\n",
       "      <td>5</td>\n",
       "      <td>7915000.0</td>\n",
       "      <td>71.60</td>\n",
       "      <td>2019-04-18T00:00:00</td>\n",
       "      <td>2</td>\n",
       "      <td>NaN</td>\n",
       "      <td>24.0</td>\n",
       "      <td>NaN</td>\n",
       "      <td>22</td>\n",
       "      <td>False</td>\n",
       "      <td>...</td>\n",
       "      <td>2.0</td>\n",
       "      <td>Санкт-Петербург</td>\n",
       "      <td>23982.0</td>\n",
       "      <td>11634.0</td>\n",
       "      <td>0.0</td>\n",
       "      <td>NaN</td>\n",
       "      <td>0.0</td>\n",
       "      <td>NaN</td>\n",
       "      <td>NaN</td>\n",
       "      <td>новостройка</td>\n",
       "    </tr>\n",
       "    <tr>\n",
       "      <th>8</th>\n",
       "      <td>20</td>\n",
       "      <td>2900000.0</td>\n",
       "      <td>33.16</td>\n",
       "      <td>2018-05-23T00:00:00</td>\n",
       "      <td>1</td>\n",
       "      <td>NaN</td>\n",
       "      <td>27.0</td>\n",
       "      <td>15.43</td>\n",
       "      <td>26</td>\n",
       "      <td>False</td>\n",
       "      <td>...</td>\n",
       "      <td>0.0</td>\n",
       "      <td>посёлок Мурино</td>\n",
       "      <td>NaN</td>\n",
       "      <td>NaN</td>\n",
       "      <td>NaN</td>\n",
       "      <td>NaN</td>\n",
       "      <td>NaN</td>\n",
       "      <td>NaN</td>\n",
       "      <td>189.0</td>\n",
       "      <td>иное</td>\n",
       "    </tr>\n",
       "    <tr>\n",
       "      <th>9</th>\n",
       "      <td>18</td>\n",
       "      <td>5400000.0</td>\n",
       "      <td>61.00</td>\n",
       "      <td>2017-02-26T00:00:00</td>\n",
       "      <td>3</td>\n",
       "      <td>2.50</td>\n",
       "      <td>9.0</td>\n",
       "      <td>43.60</td>\n",
       "      <td>7</td>\n",
       "      <td>False</td>\n",
       "      <td>...</td>\n",
       "      <td>2.0</td>\n",
       "      <td>Санкт-Петербург</td>\n",
       "      <td>50898.0</td>\n",
       "      <td>15008.0</td>\n",
       "      <td>0.0</td>\n",
       "      <td>NaN</td>\n",
       "      <td>0.0</td>\n",
       "      <td>NaN</td>\n",
       "      <td>289.0</td>\n",
       "      <td>иное</td>\n",
       "    </tr>\n",
       "    <tr>\n",
       "      <th>10</th>\n",
       "      <td>5</td>\n",
       "      <td>5050000.0</td>\n",
       "      <td>39.60</td>\n",
       "      <td>2017-11-16T00:00:00</td>\n",
       "      <td>1</td>\n",
       "      <td>2.67</td>\n",
       "      <td>12.0</td>\n",
       "      <td>20.30</td>\n",
       "      <td>3</td>\n",
       "      <td>False</td>\n",
       "      <td>...</td>\n",
       "      <td>0.0</td>\n",
       "      <td>Санкт-Петербург</td>\n",
       "      <td>38357.0</td>\n",
       "      <td>13878.0</td>\n",
       "      <td>1.0</td>\n",
       "      <td>310.0</td>\n",
       "      <td>2.0</td>\n",
       "      <td>553.0</td>\n",
       "      <td>137.0</td>\n",
       "      <td>иное</td>\n",
       "    </tr>\n",
       "    <tr>\n",
       "      <th>11</th>\n",
       "      <td>9</td>\n",
       "      <td>3300000.0</td>\n",
       "      <td>44.00</td>\n",
       "      <td>2018-08-27T00:00:00</td>\n",
       "      <td>2</td>\n",
       "      <td>NaN</td>\n",
       "      <td>5.0</td>\n",
       "      <td>31.00</td>\n",
       "      <td>4</td>\n",
       "      <td>False</td>\n",
       "      <td>...</td>\n",
       "      <td>1.0</td>\n",
       "      <td>Ломоносов</td>\n",
       "      <td>48252.0</td>\n",
       "      <td>51677.0</td>\n",
       "      <td>0.0</td>\n",
       "      <td>NaN</td>\n",
       "      <td>0.0</td>\n",
       "      <td>NaN</td>\n",
       "      <td>7.0</td>\n",
       "      <td>хрущевка</td>\n",
       "    </tr>\n",
       "    <tr>\n",
       "      <th>12</th>\n",
       "      <td>10</td>\n",
       "      <td>3890000.0</td>\n",
       "      <td>54.00</td>\n",
       "      <td>2016-06-30T00:00:00</td>\n",
       "      <td>2</td>\n",
       "      <td>NaN</td>\n",
       "      <td>5.0</td>\n",
       "      <td>30.00</td>\n",
       "      <td>5</td>\n",
       "      <td>False</td>\n",
       "      <td>...</td>\n",
       "      <td>0.0</td>\n",
       "      <td>Сертолово</td>\n",
       "      <td>NaN</td>\n",
       "      <td>NaN</td>\n",
       "      <td>NaN</td>\n",
       "      <td>NaN</td>\n",
       "      <td>NaN</td>\n",
       "      <td>NaN</td>\n",
       "      <td>90.0</td>\n",
       "      <td>сталинка</td>\n",
       "    </tr>\n",
       "    <tr>\n",
       "      <th>13</th>\n",
       "      <td>20</td>\n",
       "      <td>3550000.0</td>\n",
       "      <td>42.80</td>\n",
       "      <td>2017-07-01T00:00:00</td>\n",
       "      <td>2</td>\n",
       "      <td>2.56</td>\n",
       "      <td>5.0</td>\n",
       "      <td>27.00</td>\n",
       "      <td>5</td>\n",
       "      <td>False</td>\n",
       "      <td>...</td>\n",
       "      <td>1.0</td>\n",
       "      <td>Петергоф</td>\n",
       "      <td>37868.0</td>\n",
       "      <td>33058.0</td>\n",
       "      <td>1.0</td>\n",
       "      <td>294.0</td>\n",
       "      <td>3.0</td>\n",
       "      <td>298.0</td>\n",
       "      <td>366.0</td>\n",
       "      <td>хрущевка</td>\n",
       "    </tr>\n",
       "    <tr>\n",
       "      <th>14</th>\n",
       "      <td>1</td>\n",
       "      <td>4400000.0</td>\n",
       "      <td>36.00</td>\n",
       "      <td>2016-06-23T00:00:00</td>\n",
       "      <td>1</td>\n",
       "      <td>NaN</td>\n",
       "      <td>6.0</td>\n",
       "      <td>17.00</td>\n",
       "      <td>1</td>\n",
       "      <td>False</td>\n",
       "      <td>...</td>\n",
       "      <td>0.0</td>\n",
       "      <td>Пушкин</td>\n",
       "      <td>20782.0</td>\n",
       "      <td>30759.0</td>\n",
       "      <td>0.0</td>\n",
       "      <td>NaN</td>\n",
       "      <td>1.0</td>\n",
       "      <td>96.0</td>\n",
       "      <td>203.0</td>\n",
       "      <td>иное</td>\n",
       "    </tr>\n",
       "    <tr>\n",
       "      <th>15</th>\n",
       "      <td>16</td>\n",
       "      <td>4650000.0</td>\n",
       "      <td>39.00</td>\n",
       "      <td>2017-11-18T00:00:00</td>\n",
       "      <td>1</td>\n",
       "      <td>NaN</td>\n",
       "      <td>14.0</td>\n",
       "      <td>20.50</td>\n",
       "      <td>5</td>\n",
       "      <td>False</td>\n",
       "      <td>...</td>\n",
       "      <td>1.0</td>\n",
       "      <td>Санкт-Петербург</td>\n",
       "      <td>12900.0</td>\n",
       "      <td>14259.0</td>\n",
       "      <td>1.0</td>\n",
       "      <td>590.0</td>\n",
       "      <td>1.0</td>\n",
       "      <td>296.0</td>\n",
       "      <td>19.0</td>\n",
       "      <td>иное</td>\n",
       "    </tr>\n",
       "    <tr>\n",
       "      <th>16</th>\n",
       "      <td>11</td>\n",
       "      <td>6700000.0</td>\n",
       "      <td>82.00</td>\n",
       "      <td>2017-11-23T00:00:00</td>\n",
       "      <td>3</td>\n",
       "      <td>3.05</td>\n",
       "      <td>5.0</td>\n",
       "      <td>55.60</td>\n",
       "      <td>1</td>\n",
       "      <td>False</td>\n",
       "      <td>...</td>\n",
       "      <td>0.0</td>\n",
       "      <td>Санкт-Петербург</td>\n",
       "      <td>22108.0</td>\n",
       "      <td>10698.0</td>\n",
       "      <td>3.0</td>\n",
       "      <td>420.0</td>\n",
       "      <td>0.0</td>\n",
       "      <td>NaN</td>\n",
       "      <td>397.0</td>\n",
       "      <td>сталинка</td>\n",
       "    </tr>\n",
       "    <tr>\n",
       "      <th>17</th>\n",
       "      <td>6</td>\n",
       "      <td>4180000.0</td>\n",
       "      <td>36.00</td>\n",
       "      <td>2016-09-09T00:00:00</td>\n",
       "      <td>1</td>\n",
       "      <td>NaN</td>\n",
       "      <td>17.0</td>\n",
       "      <td>16.50</td>\n",
       "      <td>7</td>\n",
       "      <td>False</td>\n",
       "      <td>...</td>\n",
       "      <td>1.0</td>\n",
       "      <td>Санкт-Петербург</td>\n",
       "      <td>33564.0</td>\n",
       "      <td>14616.0</td>\n",
       "      <td>0.0</td>\n",
       "      <td>NaN</td>\n",
       "      <td>1.0</td>\n",
       "      <td>859.0</td>\n",
       "      <td>571.0</td>\n",
       "      <td>новостройка</td>\n",
       "    </tr>\n",
       "    <tr>\n",
       "      <th>18</th>\n",
       "      <td>8</td>\n",
       "      <td>3250000.0</td>\n",
       "      <td>31.00</td>\n",
       "      <td>2017-01-27T00:00:00</td>\n",
       "      <td>1</td>\n",
       "      <td>2.50</td>\n",
       "      <td>5.0</td>\n",
       "      <td>19.40</td>\n",
       "      <td>2</td>\n",
       "      <td>False</td>\n",
       "      <td>...</td>\n",
       "      <td>1.0</td>\n",
       "      <td>Санкт-Петербург</td>\n",
       "      <td>44060.0</td>\n",
       "      <td>10842.0</td>\n",
       "      <td>1.0</td>\n",
       "      <td>759.0</td>\n",
       "      <td>0.0</td>\n",
       "      <td>NaN</td>\n",
       "      <td>168.0</td>\n",
       "      <td>хрущевка</td>\n",
       "    </tr>\n",
       "    <tr>\n",
       "      <th>19</th>\n",
       "      <td>16</td>\n",
       "      <td>14200000.0</td>\n",
       "      <td>121.00</td>\n",
       "      <td>2019-01-09T00:00:00</td>\n",
       "      <td>3</td>\n",
       "      <td>2.75</td>\n",
       "      <td>16.0</td>\n",
       "      <td>76.00</td>\n",
       "      <td>8</td>\n",
       "      <td>False</td>\n",
       "      <td>...</td>\n",
       "      <td>0.0</td>\n",
       "      <td>Санкт-Петербург</td>\n",
       "      <td>38900.0</td>\n",
       "      <td>12843.0</td>\n",
       "      <td>0.0</td>\n",
       "      <td>NaN</td>\n",
       "      <td>0.0</td>\n",
       "      <td>NaN</td>\n",
       "      <td>97.0</td>\n",
       "      <td>новостройка</td>\n",
       "    </tr>\n",
       "  </tbody>\n",
       "</table>\n",
       "<p>20 rows × 23 columns</p>\n",
       "</div>"
      ],
      "text/plain": [
       "    total_images  last_price  total_area first_day_exposition  rooms  \\\n",
       "0             20  13000000.0      108.00  2019-03-07T00:00:00      3   \n",
       "1              7   3350000.0       40.40  2018-12-04T00:00:00      1   \n",
       "2             10   5196000.0       56.00  2015-08-20T00:00:00      2   \n",
       "3              0  64900000.0      159.00  2015-07-24T00:00:00      3   \n",
       "4              2  10000000.0      100.00  2018-06-19T00:00:00      2   \n",
       "5             10   2890000.0       30.40  2018-09-10T00:00:00      1   \n",
       "6              6   3700000.0       37.30  2017-11-02T00:00:00      1   \n",
       "7              5   7915000.0       71.60  2019-04-18T00:00:00      2   \n",
       "8             20   2900000.0       33.16  2018-05-23T00:00:00      1   \n",
       "9             18   5400000.0       61.00  2017-02-26T00:00:00      3   \n",
       "10             5   5050000.0       39.60  2017-11-16T00:00:00      1   \n",
       "11             9   3300000.0       44.00  2018-08-27T00:00:00      2   \n",
       "12            10   3890000.0       54.00  2016-06-30T00:00:00      2   \n",
       "13            20   3550000.0       42.80  2017-07-01T00:00:00      2   \n",
       "14             1   4400000.0       36.00  2016-06-23T00:00:00      1   \n",
       "15            16   4650000.0       39.00  2017-11-18T00:00:00      1   \n",
       "16            11   6700000.0       82.00  2017-11-23T00:00:00      3   \n",
       "17             6   4180000.0       36.00  2016-09-09T00:00:00      1   \n",
       "18             8   3250000.0       31.00  2017-01-27T00:00:00      1   \n",
       "19            16  14200000.0      121.00  2019-01-09T00:00:00      3   \n",
       "\n",
       "    ceiling_height  floors_total  living_area  floor  is_apartment  ...  \\\n",
       "0             2.70          16.0        51.00      8         False  ...   \n",
       "1              NaN          11.0        18.60      1         False  ...   \n",
       "2              NaN           5.0        34.30      4         False  ...   \n",
       "3              NaN          14.0          NaN      9         False  ...   \n",
       "4             3.03          14.0        32.00     13         False  ...   \n",
       "5              NaN          12.0        14.40      5         False  ...   \n",
       "6              NaN          26.0        10.60      6         False  ...   \n",
       "7              NaN          24.0          NaN     22         False  ...   \n",
       "8              NaN          27.0        15.43     26         False  ...   \n",
       "9             2.50           9.0        43.60      7         False  ...   \n",
       "10            2.67          12.0        20.30      3         False  ...   \n",
       "11             NaN           5.0        31.00      4         False  ...   \n",
       "12             NaN           5.0        30.00      5         False  ...   \n",
       "13            2.56           5.0        27.00      5         False  ...   \n",
       "14             NaN           6.0        17.00      1         False  ...   \n",
       "15             NaN          14.0        20.50      5         False  ...   \n",
       "16            3.05           5.0        55.60      1         False  ...   \n",
       "17             NaN          17.0        16.50      7         False  ...   \n",
       "18            2.50           5.0        19.40      2         False  ...   \n",
       "19            2.75          16.0        76.00      8         False  ...   \n",
       "\n",
       "    balcony              locality_name  airports_nearest  cityCenters_nearest  \\\n",
       "0       0.0            Санкт-Петербург           18863.0              16028.0   \n",
       "1       2.0             посёлок Шушары           12817.0              18603.0   \n",
       "2       0.0            Санкт-Петербург           21741.0              13933.0   \n",
       "3       0.0            Санкт-Петербург           28098.0               6800.0   \n",
       "4       0.0            Санкт-Петербург           31856.0               8098.0   \n",
       "5       0.0  городской посёлок Янино-1               NaN                  NaN   \n",
       "6       1.0          посёлок Парголово           52996.0              19143.0   \n",
       "7       2.0            Санкт-Петербург           23982.0              11634.0   \n",
       "8       0.0             посёлок Мурино               NaN                  NaN   \n",
       "9       2.0            Санкт-Петербург           50898.0              15008.0   \n",
       "10      0.0            Санкт-Петербург           38357.0              13878.0   \n",
       "11      1.0                  Ломоносов           48252.0              51677.0   \n",
       "12      0.0                  Сертолово               NaN                  NaN   \n",
       "13      1.0                   Петергоф           37868.0              33058.0   \n",
       "14      0.0                     Пушкин           20782.0              30759.0   \n",
       "15      1.0            Санкт-Петербург           12900.0              14259.0   \n",
       "16      0.0            Санкт-Петербург           22108.0              10698.0   \n",
       "17      1.0            Санкт-Петербург           33564.0              14616.0   \n",
       "18      1.0            Санкт-Петербург           44060.0              10842.0   \n",
       "19      0.0            Санкт-Петербург           38900.0              12843.0   \n",
       "\n",
       "   parks_around3000  parks_nearest  ponds_around3000  ponds_nearest  \\\n",
       "0               1.0          482.0               2.0          755.0   \n",
       "1               0.0            NaN               0.0            NaN   \n",
       "2               1.0           90.0               2.0          574.0   \n",
       "3               2.0           84.0               3.0          234.0   \n",
       "4               2.0          112.0               1.0           48.0   \n",
       "5               NaN            NaN               NaN            NaN   \n",
       "6               0.0            NaN               0.0            NaN   \n",
       "7               0.0            NaN               0.0            NaN   \n",
       "8               NaN            NaN               NaN            NaN   \n",
       "9               0.0            NaN               0.0            NaN   \n",
       "10              1.0          310.0               2.0          553.0   \n",
       "11              0.0            NaN               0.0            NaN   \n",
       "12              NaN            NaN               NaN            NaN   \n",
       "13              1.0          294.0               3.0          298.0   \n",
       "14              0.0            NaN               1.0           96.0   \n",
       "15              1.0          590.0               1.0          296.0   \n",
       "16              3.0          420.0               0.0            NaN   \n",
       "17              0.0            NaN               1.0          859.0   \n",
       "18              1.0          759.0               0.0            NaN   \n",
       "19              0.0            NaN               0.0            NaN   \n",
       "\n",
       "    days_exposition  house_category  \n",
       "0               NaN     новостройка  \n",
       "1              81.0     новостройка  \n",
       "2             558.0        сталинка  \n",
       "3             424.0            иное  \n",
       "4             121.0     новостройка  \n",
       "5              55.0     новостройка  \n",
       "6             155.0     новостройка  \n",
       "7               NaN     новостройка  \n",
       "8             189.0            иное  \n",
       "9             289.0            иное  \n",
       "10            137.0            иное  \n",
       "11              7.0        хрущевка  \n",
       "12             90.0        сталинка  \n",
       "13            366.0        хрущевка  \n",
       "14            203.0            иное  \n",
       "15             19.0            иное  \n",
       "16            397.0        сталинка  \n",
       "17            571.0     новостройка  \n",
       "18            168.0        хрущевка  \n",
       "19             97.0     новостройка  \n",
       "\n",
       "[20 rows x 23 columns]"
      ]
     },
     "metadata": {},
     "output_type": "display_data"
    }
   ],
   "source": [
    "#посмотрим, как отработала функция на первых 20 строках датасета\n",
    "display(data.head(20))"
   ]
  },
  {
   "cell_type": "markdown",
   "metadata": {},
   "source": [
    "*Функция отработала корректно. Теперь можно заполнять пропуски. Для хрущевок заполним высоту потолка значением 2.5; для сталинок - 3.0; для новостроек - 2.7, для бизнеса - 3.0, а вот для домов категории \"иное\" точной информации о высоте потолка у нас нет, поэтому заполним значение медианным по данной группе, чтобы избежать искажения из-за выбросов*"
   ]
  },
  {
   "cell_type": "code",
   "execution_count": 22,
   "metadata": {},
   "outputs": [],
   "source": [
    "data.loc[(data['house_category'] == 'хрущевка') & (data['ceiling_height'].isna()), 'ceiling_height'] = 2.5;\n",
    "data.loc[(data['house_category'] == 'сталинка') & (data['ceiling_height'].isna()), 'ceiling_height'] = 3.0;\n",
    "data.loc[(data['house_category'] == 'новостройка') & (data['ceiling_height'].isna()), 'ceiling_height'] = 2.7;\n",
    "data.loc[(data['house_category'] == 'бизнес') & (data['ceiling_height'].isna()), 'ceiling_height'] = 3.0;\n",
    "data.loc[(data['house_category'] == 'иное') & (data['ceiling_height'].isna()), 'ceiling_height'] = round(data.loc[(data['house_category'] == 'иное'), 'ceiling_height'].median(), 1);"
   ]
  },
  {
   "cell_type": "code",
   "execution_count": 23,
   "metadata": {},
   "outputs": [
    {
     "data": {
      "text/plain": [
       "0"
      ]
     },
     "execution_count": 23,
     "metadata": {},
     "output_type": "execute_result"
    }
   ],
   "source": [
    "#проверим, что все пропуски заполнились\n",
    "data['ceiling_height'].isnull().sum()"
   ]
  },
  {
   "cell_type": "markdown",
   "metadata": {},
   "source": [
    "**Столбец kitchen_area**\n",
    "\n",
    "*Площадь кухни так же связана с типом постройки дома. Поэтому заполнять пропуски будем так же, исходя из значения в столбце категории постройки дома. Для того, чтобы определиться, использовать среднее или медиану, посмотрим на уникальные значения в этом столбце*  "
   ]
  },
  {
   "cell_type": "code",
   "execution_count": 24,
   "metadata": {
    "scrolled": false
   },
   "outputs": [
    {
     "data": {
      "text/plain": [
       "array([ 25.  ,  11.  ,   8.3 ,    nan,  41.  ,   9.1 ,  14.4 ,  18.9 ,\n",
       "         8.81,   6.5 ,   8.5 ,   6.  ,   9.  ,   5.2 ,   8.  ,   7.6 ,\n",
       "         5.6 ,  12.  ,   5.7 ,   6.1 ,  19.6 ,  15.  ,   7.  ,   9.2 ,\n",
       "        11.7 ,  13.4 ,  17.  ,   6.3 ,  11.6 ,   8.8 ,  10.  ,  17.6 ,\n",
       "         7.5 ,   9.5 ,  50.  ,  15.5 ,  10.7 ,  11.1 ,  20.  ,  11.9 ,\n",
       "        16.  ,   5.3 ,  11.5 ,   7.2 ,   6.2 ,  10.4 ,   7.1 ,   4.9 ,\n",
       "         7.3 ,  11.95,  10.2 ,   6.4 ,   5.5 ,  13.  ,   8.4 ,  23.6 ,\n",
       "        10.8 ,  18.3 ,   5.  ,   8.2 ,  24.  ,  23.8 ,   6.6 ,  26.85,\n",
       "        15.4 ,   7.8 ,  33.8 ,   5.4 ,  12.72,  12.2 ,  19.  ,  12.4 ,\n",
       "         7.9 ,  10.3 ,   9.8 ,  17.5 ,  14.7 ,  20.91,  21.3 ,  10.6 ,\n",
       "        10.9 ,   9.7 ,   7.7 ,  12.5 ,  11.4 ,   8.6 ,  11.24,  14.1 ,\n",
       "        15.7 ,  13.29,  14.  ,  12.9 ,  12.7 ,  16.5 ,   9.36,  21.5 ,\n",
       "        35.  ,  10.5 ,   8.7 ,  19.3 ,  21.4 ,  40.  ,  49.2 ,  11.52,\n",
       "         8.9 ,   9.6 ,  30.  ,  14.2 ,   8.1 ,  10.44,   4.5 ,  16.3 ,\n",
       "        11.2 ,  18.4 ,   7.4 ,  11.3 ,   9.4 ,  13.1 ,  10.19,   7.06,\n",
       "        22.  ,  36.  ,   5.1 ,  18.7 ,   9.9 ,  14.3 ,  18.  ,  23.  ,\n",
       "        19.4 ,  11.8 ,  13.3 ,  17.7 ,  23.1 ,  10.63,  21.1 ,  11.33,\n",
       "        13.5 ,  19.5 ,  13.2 ,  17.2 ,  77.  ,  13.8 ,  12.3 ,   9.3 ,\n",
       "         5.8 ,  26.1 ,  12.88,   9.28,  16.1 ,  14.5 ,  31.  ,   5.9 ,\n",
       "        10.1 ,  23.4 ,  16.2 ,  19.2 ,  28.6 ,  15.1 ,  26.4 ,   8.98,\n",
       "        10.59,  17.9 ,  16.8 ,  11.27,  16.74,   9.57,  23.43,  15.2 ,\n",
       "         8.07,  12.24,  13.39,  36.6 ,  10.84,  15.3 ,  18.5 ,  23.9 ,\n",
       "        19.7 ,  19.9 ,  22.1 ,  10.35,  10.69,  16.9 ,   5.49,  31.2 ,\n",
       "         6.8 ,   8.29,   6.7 ,  13.6 ,  16.6 ,  10.75,  18.8 ,  17.8 ,\n",
       "         2.  ,   6.77,  11.06,  12.6 ,   7.71,  27.  ,  11.35,  13.31,\n",
       "        63.  ,  21.  ,  20.6 ,  11.78,  20.5 ,  13.79,  20.52,   5.75,\n",
       "        66.  ,  18.78,  23.5 ,  24.3 ,   6.9 ,  14.8 ,   8.87,  14.9 ,\n",
       "         8.71,   9.95,  17.53,  42.6 ,  25.2 ,   8.31,   9.67,  16.7 ,\n",
       "        14.61,  32.  ,  22.4 ,  16.4 ,   6.36,  17.1 ,  13.14,  18.2 ,\n",
       "         9.18,  13.7 ,  15.61,  22.31,   9.45,  29.  ,  14.49,   5.35,\n",
       "        29.9 ,  25.1 ,   8.08,  13.11,   6.25,  26.  ,  35.35,  12.8 ,\n",
       "        30.2 ,  10.09,  46.  ,  32.1 ,  11.29,  14.56,  11.11,  11.49,\n",
       "        13.67,  16.72,  24.5 ,  11.14,  20.9 ,  11.05,   4.  ,  14.84,\n",
       "         8.21,  12.18,  25.34,   9.25,   8.65,  13.9 ,  13.53,  15.09,\n",
       "         9.39,  18.6 ,  15.9 ,  24.7 ,  12.35,  20.8 ,  27.4 ,   7.17,\n",
       "         3.  ,   8.23,  24.03,   9.17,  43.  ,  10.45,  11.39,  19.92,\n",
       "        20.2 ,  10.72,  20.07,  11.81,  18.45,  10.51,  39.  ,  10.91,\n",
       "         6.73,  11.85,  37.8 ,   4.8 , 100.7 ,  21.6 ,   5.78,  12.1 ,\n",
       "        11.28,   9.97,  10.68,  21.2 ,  10.56,   9.68,   8.25,   4.7 ,\n",
       "        17.4 ,  10.02,  40.2 ,  11.62,  14.6 ,  11.71,  13.69,  18.1 ,\n",
       "        22.22,  17.3 ,   6.35,  23.3 ,  10.88,   6.76,  28.  ,  10.29,\n",
       "        11.63,  25.6 ,  19.1 ,  15.6 ,  21.87,   3.2 ,  12.27,  10.39,\n",
       "        10.89,  60.  ,  11.53,   5.68,  10.55,  33.  ,   3.8 ,  36.2 ,\n",
       "         9.22,   5.62,  38.  ,  21.9 ,  12.17,  19.8 ,  37.  ,   4.2 ,\n",
       "        21.7 ,  12.38,  11.46,   7.89,  31.7 ,  24.4 ,  14.57,  30.9 ,\n",
       "        10.15,  12.05,   9.27,  15.33,   6.58,   9.93,  35.05,  25.3 ,\n",
       "        28.8 ,  13.05,  29.4 ,  36.5 ,   7.92,  15.8 ,  15.69,  42.  ,\n",
       "         7.85,  13.16,  12.86,  48.  ,  30.5 ,  29.3 ,  45.  ,   9.32,\n",
       "        44.  ,   5.74,  11.26,  13.38,  14.31,  26.6 ,   6.55,  10.52,\n",
       "         6.72,  13.02,  11.17,  56.2 ,  12.52,  28.2 ,  12.29,  11.59,\n",
       "         8.38,   5.47,  10.18,  10.64,  18.88,   9.89,  36.3 ,  12.92,\n",
       "        23.53,  37.7 ,  10.36,  14.05,   9.04,  10.78,  14.24,  13.42,\n",
       "        32.8 ,  20.16,  10.12,   7.12,  17.64,  23.25,  11.41,  11.42,\n",
       "        40.4 ,  31.47,  13.55,  13.28,  14.55,   9.38,   8.32,  11.55,\n",
       "        13.81,  24.1 ,  11.51,   7.65,   9.91,  16.83,  11.34, 100.  ,\n",
       "        11.16,  18.34,  34.19,   6.02,  18.07,  20.1 ,  12.08,   7.18,\n",
       "         8.11,   8.05,   8.06,  12.96,  42.4 ,   8.93,  44.9 ,  10.62,\n",
       "         9.72,  22.5 ,  11.18,  10.22,  51.  ,  21.8 ,  10.94,  13.49,\n",
       "        31.73,  70.  ,  25.7 ,   5.86,   7.63,  11.47,  13.25,  22.2 ,\n",
       "        19.35,  17.28,  14.04,  39.9 ,  21.76,   4.3 ,  10.06,   8.19,\n",
       "        28.4 ,  22.7 ,  14.74,  11.12,  25.11,  14.02,  13.06,   8.01,\n",
       "        20.38,   5.53,  46.8 ,  11.31,  17.85,  20.7 ,  34.78,   9.46,\n",
       "         6.31,  42.5 ,   9.48,  43.4 ,  11.57,  12.44,  14.46,  12.58,\n",
       "        12.47,   7.95,  16.32,  15.26,  12.23,  11.37,  27.9 ,   8.58,\n",
       "        19.51,  12.39,   9.65,   9.05,   6.84,  20.3 ,  26.5 ,  63.4 ,\n",
       "        41.9 ,   6.82,  11.36,  10.08,  10.54,   9.16,  14.95,  12.84,\n",
       "        22.9 ,   8.76,  10.03,   9.35,  11.13,   7.87,   2.89,  45.5 ,\n",
       "         7.36,  24.9 ,   9.59,   7.97,   9.85,  33.9 ,  42.8 ,   7.86,\n",
       "         5.25,  10.26,   5.33,  12.85,   9.51,  58.4 ,  10.34,  23.71,\n",
       "        19.42,   6.83,  11.92,  13.17,  13.27,  11.84,  12.56,  53.1 ,\n",
       "        20.56,  41.3 ,   9.01,   8.73,   5.82,   3.7 ,   2.4 ,  31.8 ,\n",
       "        42.7 ,  40.5 ,  12.02,   8.57,  12.76,   8.66,  11.04,  40.3 ,\n",
       "        15.83,  18.59,   9.37,  23.38,  10.42,  13.93,   7.54,  23.42,\n",
       "        13.64,   5.61,  19.45,  17.59,  29.1 ,   5.65,  15.42,  11.09,\n",
       "        11.73,  15.72,  25.4 ,  10.25,  10.38,  13.41,   5.23,   9.09,\n",
       "        11.45,  11.74,  14.64,  12.14,   8.84,  16.66,  10.27,   3.5 ,\n",
       "        12.55,  32.55,  16.26,   6.62,  10.33,  13.26,  32.3 ,  23.2 ,\n",
       "        14.14,   9.62,  34.  ,  10.92,  10.58,  22.8 ,  15.85,   7.78,\n",
       "         8.94,   9.82,  34.7 ,   8.45,  15.62,  22.3 ,  14.17,  15.39,\n",
       "        56.  ,   8.43,  87.2 ,  12.66,   8.35,   8.47,  22.72,   9.52,\n",
       "        28.1 ,  14.97,   4.6 ,   5.29,  10.49,  15.07,  15.37,  20.31,\n",
       "        23.28,   8.54,  30.59,  27.57,   9.71,  28.63,   9.98,  37.9 ,\n",
       "         6.91,  25.9 ,  47.  ,  51.8 ,  14.27,  40.7 ,  19.61,   9.44,\n",
       "        27.76,  25.86,  36.4 ,  15.78,  10.05,  26.2 ,  10.32,  19.39,\n",
       "         9.77,  29.5 ,  13.73,  10.71,  10.73,  13.84,   6.19,  28.5 ,\n",
       "        16.25,  13.47,   4.4 ,  43.2 ,  27.5 ,  11.67,  44.7 ,  12.57,\n",
       "        16.27,   6.28,  12.01,  37.6 ,  13.35,   3.4 ,   8.61,   8.96,\n",
       "        34.8 ,  27.3 ,  10.24,   8.15,  35.5 ,   4.1 ,  10.43,  16.46,\n",
       "         7.19,  62.  ,  34.3 ,  48.5 ,  30.6 ,  17.55,  10.74,  13.24,\n",
       "         5.91,   9.43,  20.92,   8.13,  33.1 ,  10.37,  16.77,   6.27,\n",
       "        26.8 ,  12.37,  22.6 ,  33.6 ,   9.76,  16.92,  15.54,   6.23,\n",
       "        15.35,  37.5 ,  21.82,   7.94,  34.1 ,   6.03,  15.55,   8.44,\n",
       "        43.8 ,  29.09,  18.93,  12.75,   6.33,  24.8 ,   5.64,  22.43,\n",
       "        39.1 ,  27.6 ,   7.48,  32.7 ,   5.44,   6.22,   7.41,  27.1 ,\n",
       "        17.06,  75.  ,  34.51,   6.26,  35.6 ,   9.83,  54.3 ,  28.7 ,\n",
       "         3.3 ,  13.63,  62.5 ,  10.47,  11.87,  28.3 ,  11.25,   5.42,\n",
       "        18.25,   8.82,   9.58,   5.04,  13.52,  11.44,   8.48,  13.21,\n",
       "         8.03,  16.89,  26.9 ,  35.4 ,  13.95,  14.72,   9.34,  64.  ,\n",
       "        37.78,  23.7 ,  29.8 ,   6.95,  16.05,  11.65,  38.1 ,  10.99,\n",
       "        10.86,   8.85,  14.65,   9.24,  16.45,   7.84,  93.2 ,   9.79,\n",
       "         7.03,  17.12,   5.28,  12.53,  14.51,   9.31,  31.6 ,  72.  ,\n",
       "         6.86,  11.07,  14.06,  93.  ,   6.93,  15.15,  32.9 ,   8.34,\n",
       "        55.7 ,  24.89,  35.9 ,  22.78,  16.47,  38.86,  18.16,   8.69,\n",
       "        25.5 ,  22.46,  13.74,  54.2 ,  19.21,  31.5 ,  12.11,  11.98,\n",
       "        10.17,  35.7 ,  12.71,   2.3 ,  16.07,   9.42,  20.77,  28.64,\n",
       "        13.86,  10.01,  24.2 ,  12.45,  12.87,  14.33,  12.15,  39.7 ,\n",
       "        65.  ,   5.06,  14.29,  14.43,  25.02,   8.52,  11.56,  12.89,\n",
       "         8.63,  13.32,  16.42,   5.31,  14.77,  27.2 ,   9.26,  14.93,\n",
       "        31.4 ,   9.06,   6.61,  20.4 ,   6.65,  19.19,  20.24,  13.77,\n",
       "         6.37,  53.  ,  14.58,   9.19,   8.67,  21.22, 112.  ,  13.58,\n",
       "        12.03,  10.87,  19.28,  16.48,  32.6 ,   9.08,  12.69,   8.09,\n",
       "         5.21,  12.83,  54.  ,  11.64, 107.  ,   1.3 ,  55.5 ,  48.3 ,\n",
       "         9.11,  21.53,  29.86,  28.52,  15.43,  15.57,  13.43,  19.94,\n",
       "         8.77,  50.2 ,  15.03,  16.38,  13.33,  12.43,  17.61,   9.66,\n",
       "        12.32,  58.  ,  24.6 ,   6.47,  41.1 ,   8.12,  21.25,  10.13,\n",
       "        41.6 ,  49.4 ,  12.25,  28.56,  11.69,  14.85,  15.18,   8.02,\n",
       "        11.22,   8.95,  34.6 ,  29.2 ,   9.73,  10.46,  26.7 ,  29.7 ,\n",
       "        32.4 ,  12.93,  12.63,  15.24,   8.18,  22.15,  11.43,   7.02,\n",
       "        11.93,   7.09,   6.16,   7.15,  13.65,  10.79,  14.98,  34.4 ,\n",
       "         5.14,   9.75,   5.59,  35.1 ,  13.04,  10.95,  16.03,   9.13,\n",
       "        17.44,  40.1 ,   5.85,   6.24,  21.74,  31.3 ,  30.8 ,  16.88,\n",
       "        21.55,  18.55,  17.87,  13.83])"
      ]
     },
     "execution_count": 24,
     "metadata": {},
     "output_type": "execute_result"
    }
   ],
   "source": [
    "data['kitchen_area'].unique()"
   ]
  },
  {
   "cell_type": "markdown",
   "metadata": {},
   "source": [
    "*Здесь также присутствуют аномальные значения в 50, 100 квадратных метров. Они могут помешать при заполнении пропусков. Посмотрим, какую долю они составляют, на мой взгляд, значение площади кухни в 50 кв.м. уже можно считать аномальным, даже в частных домах таких больших кухонь, как правило, не бывает*"
   ]
  },
  {
   "cell_type": "code",
   "execution_count": 25,
   "metadata": {},
   "outputs": [
    {
     "name": "stdout",
     "output_type": "stream",
     "text": [
      "0.0024475672025994853\n"
     ]
    }
   ],
   "source": [
    "print(len(data.query('kitchen_area >= 50.')) / len(data))"
   ]
  },
  {
   "cell_type": "markdown",
   "metadata": {},
   "source": [
    " "
   ]
  },
  {
   "cell_type": "markdown",
   "metadata": {},
   "source": [
    "*Доля таких значений всего 0.2 %. Думаю, что нужно от них избавиться. Перезаписывать их, разделяя на 10, не будем, поскольку значений больше 20, довольно много.*"
   ]
  },
  {
   "cell_type": "code",
   "execution_count": 26,
   "metadata": {},
   "outputs": [],
   "source": [
    "#удаляем из датасета строки с аномальными значениями - кухня больше 50 кв.м.\n",
    "data = data.loc[data['kitchen_area'] < 50.]"
   ]
  },
  {
   "cell_type": "markdown",
   "metadata": {},
   "source": [
    "*Теперь займемся пропусками. Разброс значений довольно большой, поэтому будем использовать медианное значение для каждой категории постройки дома*"
   ]
  },
  {
   "cell_type": "code",
   "execution_count": 27,
   "metadata": {},
   "outputs": [],
   "source": [
    "for i in data['house_category'].unique():\n",
    "    data.loc[(data['house_category'] == i) & (data['kitchen_area'].isna()), 'kitchen_area'] = round(data.loc[(data['house_category'] == i), 'kitchen_area'].median(), 1)"
   ]
  },
  {
   "cell_type": "markdown",
   "metadata": {},
   "source": [
    "*Проверяем, что получилось. Сначала проверим, какие медианные значения площади кухни получились в каждом типе домов:*"
   ]
  },
  {
   "cell_type": "code",
   "execution_count": 28,
   "metadata": {},
   "outputs": [
    {
     "data": {
      "text/plain": [
       "15.149999999999999"
      ]
     },
     "execution_count": 28,
     "metadata": {},
     "output_type": "execute_result"
    }
   ],
   "source": [
    "data.loc[(data['house_category'] == 'бизнес'),'kitchen_area'].median()"
   ]
  },
  {
   "cell_type": "code",
   "execution_count": 29,
   "metadata": {},
   "outputs": [
    {
     "data": {
      "text/plain": [
       "5.6"
      ]
     },
     "execution_count": 29,
     "metadata": {},
     "output_type": "execute_result"
    }
   ],
   "source": [
    "data.loc[(data['house_category'] == 'хрущевка'),'kitchen_area'].median()"
   ]
  },
  {
   "cell_type": "code",
   "execution_count": 30,
   "metadata": {},
   "outputs": [
    {
     "data": {
      "text/plain": [
       "8.9"
      ]
     },
     "execution_count": 30,
     "metadata": {},
     "output_type": "execute_result"
    }
   ],
   "source": [
    "data.loc[(data['house_category'] == 'сталинка'),'kitchen_area'].median()"
   ]
  },
  {
   "cell_type": "code",
   "execution_count": 31,
   "metadata": {},
   "outputs": [
    {
     "data": {
      "text/plain": [
       "11.3"
      ]
     },
     "execution_count": 31,
     "metadata": {},
     "output_type": "execute_result"
    }
   ],
   "source": [
    "data.loc[(data['house_category'] == 'новостройка'),'kitchen_area'].median()"
   ]
  },
  {
   "cell_type": "code",
   "execution_count": 32,
   "metadata": {},
   "outputs": [
    {
     "data": {
      "text/plain": [
       "7.6"
      ]
     },
     "execution_count": 32,
     "metadata": {},
     "output_type": "execute_result"
    }
   ],
   "source": [
    "data.loc[(data['house_category'] == 'иное'),'kitchen_area'].median()"
   ]
  },
  {
   "cell_type": "markdown",
   "metadata": {},
   "source": [
    "*Медианные значения площади кухни вполне реалистичны. Теперь проверим, что пропусков в этом столбце больше нет:*"
   ]
  },
  {
   "cell_type": "code",
   "execution_count": 33,
   "metadata": {},
   "outputs": [
    {
     "data": {
      "text/plain": [
       "0"
      ]
     },
     "execution_count": 33,
     "metadata": {},
     "output_type": "execute_result"
    }
   ],
   "source": [
    "#проверим, что все пропуски заполнились\n",
    "data['kitchen_area'].isnull().sum()"
   ]
  },
  {
   "cell_type": "markdown",
   "metadata": {},
   "source": [
    "*Пропуски в столбцах с картографическими данными не заполняем. Оставляем их, как есть, так как заполнение средним значением может привести к искажениям в данных.*"
   ]
  },
  {
   "cell_type": "markdown",
   "metadata": {},
   "source": [
    "*В столбцах parks_around3000, parks_nearest, ponds_around3000, ponds_nearest содержится довольно специфическая, на мой взгляд, информация. Она точно не первостепенна при покупке квартиры, поэтому заполнять пропуски в этих столбцах не будем.*"
   ]
  },
  {
   "cell_type": "markdown",
   "metadata": {},
   "source": [
    "**Столбец days_exposition**\n",
    "\n",
    "*В столбце days_exposition хранится информация о том, сколько дней было размещено объявление. Если оно пустое, то скорее всего на момент выгрузки данных эта квартира не была продана. Поэтому заполнение пропусков в этом поле может привести к тому, что мы неправильно проанализируем данные. Пропуск в данном столбце будем интерпретировать отсутствием продажи.*"
   ]
  },
  {
   "cell_type": "markdown",
   "metadata": {},
   "source": [
    "**Столбец living_area**\n",
    "\n",
    "*Пропуски в этом столбце заполнять нецелесообразно, поскольку при имеющемся наборе данных получить реалистичные значения не представляется возможным. Можно вычесть площадь кухни из общей площади, но при отсутствии площади санузлов и коридоров это значение будет сильно завышено*"
   ]
  },
  {
   "cell_type": "markdown",
   "metadata": {},
   "source": [
    "#### Изменение типов данных"
   ]
  },
  {
   "cell_type": "markdown",
   "metadata": {},
   "source": [
    "**Столбец balcony**"
   ]
  },
  {
   "cell_type": "code",
   "execution_count": 34,
   "metadata": {},
   "outputs": [
    {
     "data": {
      "text/plain": [
       "array([0, 2, 1, 5, 4, 3])"
      ]
     },
     "execution_count": 34,
     "metadata": {},
     "output_type": "execute_result"
    }
   ],
   "source": [
    "#теперь можно изменить его тип с вещественного на целый, так как 1.5 балконов не бывает\n",
    "data['balcony'] = data['balcony'].astype('int')\n",
    "#проверяем, что все получилось\n",
    "data['balcony'].unique()"
   ]
  },
  {
   "cell_type": "markdown",
   "metadata": {},
   "source": [
    "**Столбец as_apartment**"
   ]
  },
  {
   "cell_type": "markdown",
   "metadata": {},
   "source": [
    "Столбец as_apartment - это признак того, что объект является апартаментами. Соответственно, для этого столбца просится булев тип данных. Мы заполнили пропуски в нем на предыдущем этапе, значит можно менять тип."
   ]
  },
  {
   "cell_type": "code",
   "execution_count": 35,
   "metadata": {},
   "outputs": [],
   "source": [
    "data['is_apartment'] = data['is_apartment'].astype('bool')"
   ]
  },
  {
   "cell_type": "markdown",
   "metadata": {},
   "source": [
    "**Столбец floors_total**"
   ]
  },
  {
   "cell_type": "markdown",
   "metadata": {},
   "source": [
    "*В столбце floors_total указывается количество этажей в доме. Это целочисленная величина, так как 1,5 этажей быть не может. Его нужно привести к целому типу int. Однако сперва удалить пропуски (NaN), чтобы при изменении типа не получить ошибку. Пропусков в этом столбце всего 86, что составляет 0.4% от общего объема данных, поэтому такие строки можно удалить.*"
   ]
  },
  {
   "cell_type": "code",
   "execution_count": 36,
   "metadata": {},
   "outputs": [],
   "source": [
    "#удаляем пропуски\n",
    "data = data.dropna(subset = ['floors_total'])"
   ]
  },
  {
   "cell_type": "code",
   "execution_count": 37,
   "metadata": {},
   "outputs": [],
   "source": [
    "#меняем тип данных в столбце\n",
    "data['floors_total'] = data['floors_total'].astype('int')"
   ]
  },
  {
   "cell_type": "code",
   "execution_count": 38,
   "metadata": {},
   "outputs": [
    {
     "data": {
      "text/plain": [
       "array([16, 11,  5, 14, 12, 26, 24, 27,  9,  6, 17, 25,  3, 23, 19, 18,  4,\n",
       "        2, 10,  7, 15,  8, 22, 13, 20, 28, 36, 21, 35, 60,  1, 29, 33, 52,\n",
       "       37])"
      ]
     },
     "execution_count": 38,
     "metadata": {},
     "output_type": "execute_result"
    }
   ],
   "source": [
    "#посмотрим теперь на значения столбца\n",
    "data['floors_total'].unique()"
   ]
  },
  {
   "cell_type": "markdown",
   "metadata": {},
   "source": [
    "Проверим, что все отработало корректно, выведем общую информацию о датафрейме:"
   ]
  },
  {
   "cell_type": "code",
   "execution_count": 39,
   "metadata": {},
   "outputs": [
    {
     "name": "stdout",
     "output_type": "stream",
     "text": [
      "<class 'pandas.core.frame.DataFrame'>\n",
      "Int64Index: 21322 entries, 0 to 23698\n",
      "Data columns (total 23 columns):\n",
      " #   Column                Non-Null Count  Dtype  \n",
      "---  ------                --------------  -----  \n",
      " 0   total_images          21322 non-null  int64  \n",
      " 1   last_price            21322 non-null  float64\n",
      " 2   total_area            21322 non-null  float64\n",
      " 3   first_day_exposition  21322 non-null  object \n",
      " 4   rooms                 21322 non-null  int64  \n",
      " 5   ceiling_height        21322 non-null  float64\n",
      " 6   floors_total          21322 non-null  int64  \n",
      " 7   living_area           20885 non-null  float64\n",
      " 8   floor                 21322 non-null  int64  \n",
      " 9   is_apartment          21322 non-null  bool   \n",
      " 10  studio                21322 non-null  bool   \n",
      " 11  open_plan             21322 non-null  bool   \n",
      " 12  kitchen_area          21322 non-null  float64\n",
      " 13  balcony               21322 non-null  int64  \n",
      " 14  locality_name         21283 non-null  object \n",
      " 15  airports_nearest      16503 non-null  float64\n",
      " 16  cityCenters_nearest   16524 non-null  float64\n",
      " 17  parks_around3000      16525 non-null  float64\n",
      " 18  parks_nearest         7337 non-null   float64\n",
      " 19  ponds_around3000      16525 non-null  float64\n",
      " 20  ponds_nearest         8207 non-null   float64\n",
      " 21  days_exposition       18359 non-null  float64\n",
      " 22  house_category        21322 non-null  object \n",
      "dtypes: bool(3), float64(12), int64(5), object(3)\n",
      "memory usage: 3.5+ MB\n"
     ]
    }
   ],
   "source": [
    "data.info()"
   ]
  },
  {
   "cell_type": "markdown",
   "metadata": {},
   "source": [
    "#### Поиск и удаление аномальных значений в столбцах без пропусков"
   ]
  },
  {
   "cell_type": "markdown",
   "metadata": {},
   "source": [
    "*Проверим, какие значения хранятся в столбцах, в которых отсутствовали пропуски. Их мы не проверяли на наличие аномалий.*"
   ]
  },
  {
   "cell_type": "code",
   "execution_count": 40,
   "metadata": {},
   "outputs": [
    {
     "data": {
      "text/plain": [
       "array([20,  7, 10,  2,  6,  5, 18,  9,  1, 16, 11,  8, 12, 13,  3, 15, 17,\n",
       "       14,  0, 19, 32,  4, 35, 39, 23, 21, 27, 30, 24, 25, 28, 31, 22, 29,\n",
       "       26, 50, 42, 37])"
      ]
     },
     "execution_count": 40,
     "metadata": {},
     "output_type": "execute_result"
    }
   ],
   "source": [
    "data['total_images'].unique()"
   ]
  },
  {
   "cell_type": "code",
   "execution_count": 41,
   "metadata": {},
   "outputs": [
    {
     "data": {
      "text/plain": [
       "array([13000000.,  3350000.,  5196000., ..., 21400000.,  9470000.,\n",
       "       11475000.])"
      ]
     },
     "execution_count": 41,
     "metadata": {},
     "output_type": "execute_result"
    }
   ],
   "source": [
    "data['last_price'].unique()"
   ]
  },
  {
   "cell_type": "code",
   "execution_count": 42,
   "metadata": {},
   "outputs": [
    {
     "data": {
      "text/plain": [
       "12190.0"
      ]
     },
     "execution_count": 42,
     "metadata": {},
     "output_type": "execute_result"
    }
   ],
   "source": [
    "data['last_price'].min()"
   ]
  },
  {
   "cell_type": "code",
   "execution_count": 43,
   "metadata": {},
   "outputs": [
    {
     "data": {
      "text/plain": [
       "401300000.0"
      ]
     },
     "execution_count": 43,
     "metadata": {},
     "output_type": "execute_result"
    }
   ],
   "source": [
    "data['last_price'].max()"
   ]
  },
  {
   "cell_type": "markdown",
   "metadata": {},
   "source": [
    "*Стоимость выше 400 миллионов, конечно, немаленькая, но имеет место на рынке недвижимости. Аномалией считать не будем*"
   ]
  },
  {
   "cell_type": "code",
   "execution_count": 44,
   "metadata": {},
   "outputs": [
    {
     "data": {
      "text/plain": [
       "array([108.  ,  40.4 ,  56.  , ...,  66.86, 133.81,  76.75])"
      ]
     },
     "execution_count": 44,
     "metadata": {},
     "output_type": "execute_result"
    }
   ],
   "source": [
    "data['total_area'].unique()"
   ]
  },
  {
   "cell_type": "code",
   "execution_count": 45,
   "metadata": {},
   "outputs": [
    {
     "data": {
      "text/plain": [
       "14.0"
      ]
     },
     "execution_count": 45,
     "metadata": {},
     "output_type": "execute_result"
    }
   ],
   "source": [
    "data['total_area'].min()"
   ]
  },
  {
   "cell_type": "code",
   "execution_count": 46,
   "metadata": {},
   "outputs": [
    {
     "data": {
      "text/plain": [
       "631.2"
      ]
     },
     "execution_count": 46,
     "metadata": {},
     "output_type": "execute_result"
    }
   ],
   "source": [
    "data['total_area'].max()"
   ]
  },
  {
   "cell_type": "code",
   "execution_count": 47,
   "metadata": {},
   "outputs": [
    {
     "data": {
      "text/plain": [
       "array([ 3,  1,  2,  4,  5,  6, 11,  7,  8, 14, 10,  9, 19, 16])"
      ]
     },
     "execution_count": 47,
     "metadata": {},
     "output_type": "execute_result"
    }
   ],
   "source": [
    "data['rooms'].unique()"
   ]
  },
  {
   "cell_type": "code",
   "execution_count": 48,
   "metadata": {},
   "outputs": [
    {
     "data": {
      "text/plain": [
       "array([16, 11,  5, 14, 12, 26, 24, 27,  9,  6, 17, 25,  3, 23, 19, 18,  4,\n",
       "        2, 10,  7, 15,  8, 22, 13, 20, 28, 36, 21, 35, 60,  1, 29, 33, 52,\n",
       "       37])"
      ]
     },
     "execution_count": 48,
     "metadata": {},
     "output_type": "execute_result"
    }
   ],
   "source": [
    "data['floors_total'].unique()"
   ]
  },
  {
   "cell_type": "code",
   "execution_count": 49,
   "metadata": {},
   "outputs": [
    {
     "data": {
      "text/plain": [
       "array([ 8,  1,  4, 13,  5,  6, 22, 26,  7,  3,  2, 11, 15,  9, 18, 10, 19,\n",
       "       20, 27, 16, 25, 17, 14, 12, 21, 28, 24, 23, 30, 29, 32, 33, 31])"
      ]
     },
     "execution_count": 49,
     "metadata": {},
     "output_type": "execute_result"
    }
   ],
   "source": [
    "data['floor'].unique()"
   ]
  },
  {
   "cell_type": "code",
   "execution_count": 50,
   "metadata": {},
   "outputs": [
    {
     "data": {
      "text/plain": [
       "array([51.  , 18.6 , 34.3 , ..., 31.65, 13.59, 42.55])"
      ]
     },
     "execution_count": 50,
     "metadata": {},
     "output_type": "execute_result"
    }
   ],
   "source": [
    "data['living_area'].unique()"
   ]
  },
  {
   "cell_type": "code",
   "execution_count": 51,
   "metadata": {},
   "outputs": [
    {
     "data": {
      "text/plain": [
       "2.0"
      ]
     },
     "execution_count": 51,
     "metadata": {},
     "output_type": "execute_result"
    }
   ],
   "source": [
    "data['living_area'].min()"
   ]
  },
  {
   "cell_type": "markdown",
   "metadata": {},
   "source": [
    "*А вот это значение никак не увязывается с действительностью. Не может жилая площадь быть равна 2 кв.м. Считаю, что это значение нужно удалить из датасета. Проверим, сколько в выборке квартир с жилой площадью менее 5 кв.м. (все, что меньше 5, на мой взгляд, является аномальным значением):*"
   ]
  },
  {
   "cell_type": "code",
   "execution_count": 52,
   "metadata": {},
   "outputs": [
    {
     "name": "stdout",
     "output_type": "stream",
     "text": [
      "4.689991558015196e-05\n"
     ]
    }
   ],
   "source": [
    "print(len(data.query('living_area == 2.0')) / len(data))"
   ]
  },
  {
   "cell_type": "markdown",
   "metadata": {},
   "source": [
    "*Доля таких объектов очень маленькая, поэтому можем смело удалить их*"
   ]
  },
  {
   "cell_type": "code",
   "execution_count": 53,
   "metadata": {},
   "outputs": [],
   "source": [
    "#удаляем из датасета строки с аномальными значениями - жилая площадь составляет 2 кв.м.\n",
    "data = data.loc[data['living_area'] > 2.0]"
   ]
  },
  {
   "cell_type": "code",
   "execution_count": 54,
   "metadata": {},
   "outputs": [
    {
     "data": {
      "text/plain": [
       "347.5"
      ]
     },
     "execution_count": 54,
     "metadata": {},
     "output_type": "execute_result"
    }
   ],
   "source": [
    "data['living_area'].max()"
   ]
  },
  {
   "cell_type": "code",
   "execution_count": 55,
   "metadata": {},
   "outputs": [
    {
     "data": {
      "text/plain": [
       "array([ 1.,  0.,  2., nan,  3.])"
      ]
     },
     "execution_count": 55,
     "metadata": {},
     "output_type": "execute_result"
    }
   ],
   "source": [
    "data['parks_around3000'].unique()"
   ]
  },
  {
   "cell_type": "code",
   "execution_count": 56,
   "metadata": {},
   "outputs": [
    {
     "data": {
      "text/plain": [
       "array([ 2.,  0.,  1., nan,  3.])"
      ]
     },
     "execution_count": 56,
     "metadata": {},
     "output_type": "execute_result"
    }
   ],
   "source": [
    "data['ponds_around3000'].unique()"
   ]
  },
  {
   "cell_type": "markdown",
   "metadata": {},
   "source": [
    "*В целом, по всем столбцам удалось избавиться от аномалий.* \n",
    "*Картографические расстояния оставим без проверки. Их значения могут сильно варьироваться, определить, какое из них аномальное, довольно сложно.*"
   ]
  },
  {
   "cell_type": "markdown",
   "metadata": {},
   "source": [
    "#### Поиск и удаление дубликатов"
   ]
  },
  {
   "cell_type": "markdown",
   "metadata": {},
   "source": [
    "*Проверим столбец locality_name на наличие неявных дубликатов.*"
   ]
  },
  {
   "cell_type": "code",
   "execution_count": 57,
   "metadata": {},
   "outputs": [
    {
     "data": {
      "text/plain": [
       "array(['Санкт-Петербург', 'посёлок Шушары', 'городской посёлок Янино-1',\n",
       "       'посёлок Парголово', 'посёлок Мурино', 'Ломоносов', 'Сертолово',\n",
       "       'Петергоф', 'Пушкин', 'деревня Кудрово', 'Колпино', 'Гатчина',\n",
       "       'поселок Мурино', 'деревня Фёдоровское', 'Выборг', 'Кронштадт',\n",
       "       'Кировск', 'деревня Новое Девяткино', 'посёлок Металлострой',\n",
       "       'посёлок городского типа Лебяжье',\n",
       "       'посёлок городского типа Сиверский', 'поселок Молодцово',\n",
       "       'поселок городского типа Кузьмоловский',\n",
       "       'садовое товарищество Новая Ропша', 'Павловск',\n",
       "       'деревня Пикколово', 'Всеволожск', 'Волхов', 'Кингисепп',\n",
       "       'Приозерск', 'Сестрорецк', 'деревня Куттузи', 'посёлок Аннино',\n",
       "       'деревня Заклинье', 'поселок Торковичи', 'поселок Первомайское',\n",
       "       'Красное Село', 'посёлок Понтонный', 'деревня Старая',\n",
       "       'деревня Лесколово', 'село Путилово', 'Ивангород', 'Мурино',\n",
       "       'Сланцы', 'Шлиссельбург', 'Сясьстрой', 'Никольское', 'Зеленогорск',\n",
       "       'Сосновый Бор', 'поселок Новый Свет', 'деревня Оржицы',\n",
       "       'деревня Кальтино', 'Кудрово', 'поселок Романовка',\n",
       "       'посёлок Бугры', 'поселок Бугры', 'поселок городского типа Рощино',\n",
       "       'Кириши', 'Луга', 'Волосово', 'Отрадное', 'село Павлово',\n",
       "       'поселок Оредеж', 'посёлок городского типа Красный Бор',\n",
       "       'Коммунар', 'посёлок Молодёжное', 'деревня Нурма',\n",
       "       'поселок городского типа Синявино', 'Тосно', 'посёлок Новый Свет',\n",
       "       'посёлок городского типа Кузьмоловский', 'посёлок Стрельна',\n",
       "       'Бокситогорск', 'посёлок Александровская', 'деревня Лопухинка',\n",
       "       'поселок Терволово', 'поселок городского типа Советский',\n",
       "       'Подпорожье', 'посёлок Петровское',\n",
       "       'посёлок городского типа Токсово', 'поселок Сельцо',\n",
       "       'посёлок городского типа Вырица', 'деревня Келози',\n",
       "       'деревня Вартемяги', 'посёлок Тельмана',\n",
       "       'городской поселок Большая Ижора', 'Тихвин', nan,\n",
       "       'деревня Агалатово', 'посёлок Новогорелово',\n",
       "       'городской посёлок Лесогорский', 'деревня Лаголово',\n",
       "       'поселок Цвелодубово', 'поселок городского типа Рахья',\n",
       "       'поселок городского типа Вырица', 'деревня Белогорка',\n",
       "       'поселок Заводской', 'городской посёлок Новоселье',\n",
       "       'деревня Большие Колпаны', 'деревня Горбунки', 'деревня Заневка',\n",
       "       'Приморск', 'городской посёлок Фёдоровское', 'деревня Мистолово',\n",
       "       'Новая Ладога', 'поселок Зимитицы', 'поселок Барышево',\n",
       "       'деревня Разметелево', 'поселок городского типа имени Свердлова',\n",
       "       'деревня Пеники', 'поселок Рябово', 'деревня Пудомяги',\n",
       "       'деревня Бегуницы', 'посёлок Поляны', 'городской посёлок Мга',\n",
       "       'поселок Елизаветино', 'посёлок городского типа Кузнечное',\n",
       "       'деревня Колтуши', 'поселок Запорожское',\n",
       "       'посёлок городского типа Рощино', 'деревня Гостилицы',\n",
       "       'деревня Малое Карлино', 'посёлок Мичуринское',\n",
       "       'посёлок городского типа имени Морозова', 'посёлок Песочный',\n",
       "       'посёлок Сосново', 'деревня Аро', 'поселок Ильичёво',\n",
       "       'посёлок городского типа Тайцы', 'деревня Малое Верево',\n",
       "       'поселок станции Вещево', 'деревня Калитино',\n",
       "       'посёлок городского типа Ульяновка', 'деревня Чудской Бор',\n",
       "       'поселок городского типа Дубровка', 'деревня Мины',\n",
       "       'поселок Войсковицы', 'посёлок городского типа имени Свердлова',\n",
       "       'деревня Коркино', 'посёлок Ропша',\n",
       "       'поселок городского типа Приладожский', 'посёлок Щеглово',\n",
       "       'посёлок Гаврилово', 'Лодейное Поле', 'Пикалёво',\n",
       "       'деревня Рабитицы', 'деревня Кузьмолово', 'деревня Малые Колпаны',\n",
       "       'поселок Тельмана', 'городской посёлок Назия', 'посёлок Репино',\n",
       "       'городской посёлок Павлово', 'посёлок Ильичёво', 'поселок Углово',\n",
       "       'деревня Низино', 'поселок Старая Малукса',\n",
       "       'садовое товарищество Рахья', 'поселок Аннино', 'поселок Победа',\n",
       "       'деревня Меньково', 'деревня Старые Бегуницы', 'посёлок Сапёрный',\n",
       "       'поселок Семрино', 'поселок Гаврилово', 'поселок Глажево',\n",
       "       'поселок Кобринское', 'деревня Гарболово', 'деревня Юкки',\n",
       "       'поселок станции Приветнинское', 'деревня Мануйлово',\n",
       "       'поселок Поляны', 'поселок Цвылёво', 'поселок Мельниково',\n",
       "       'посёлок Плодовое', 'посёлок Пудость', 'посёлок Усть-Луга',\n",
       "       'Светогорск', 'посёлок Победа', 'Любань', 'поселок Селезнёво',\n",
       "       'поселок городского типа Рябово', 'Каменногорск', 'деревня Кривко',\n",
       "       'деревня Парицы', 'поселок Жилпосёлок',\n",
       "       'посёлок городского типа Мга', 'городской поселок Янино-1',\n",
       "       'посёлок Войскорово', 'село Никольское', 'посёлок Терволово',\n",
       "       'поселок Стеклянный', 'посёлок Мыза-Ивановка',\n",
       "       'село Русско-Высоцкое', 'поселок городского типа Лебяжье',\n",
       "       'поселок городского типа Форносово', 'поселок Житково',\n",
       "       'поселок городского типа Красный Бор', 'городской посёлок Виллози',\n",
       "       'деревня Шпаньково', 'деревня Кипень', 'посёлок Сумино',\n",
       "       'посёлок Возрождение', 'деревня Старосиверская',\n",
       "       'посёлок Кикерино', 'поселок Возрождение',\n",
       "       'деревня Старое Хинколово', 'посёлок Пригородный',\n",
       "       'посёлок Торфяное', 'городской посёлок Будогощь',\n",
       "       'поселок Суходолье', 'поселок Красная Долина', 'деревня Хапо-Ое',\n",
       "       'поселок городского типа Дружная Горка', 'деревня Извара',\n",
       "       'поселок Лисий Нос', 'деревня Яльгелево', 'посёлок Стеклянный',\n",
       "       'село Рождествено', 'деревня Сяськелево', 'деревня Камышовка',\n",
       "       'садоводческое некоммерческое товарищество Лесная Поляна',\n",
       "       'поселок Жилгородок', 'посёлок городского типа Павлово',\n",
       "       'деревня Ялгино', 'деревня Батово', 'поселок Новый Учхоз',\n",
       "       'поселок Гончарово', 'поселок Почап', 'посёлок Сапёрное',\n",
       "       'посёлок Платформа 69-й километр', 'поселок Каложицы',\n",
       "       'деревня Фалилеево', 'деревня Пельгора',\n",
       "       'поселок городского типа Лесогорский', 'деревня Торошковичи',\n",
       "       'посёлок Белоостров', 'посёлок Алексеевка',\n",
       "       'посёлок городского типа Важины', 'поселок Глебычево',\n",
       "       'поселок Лукаши', 'поселок Петровское', 'деревня Щеглово',\n",
       "       'городской посёлок Рощино', 'поселок городского типа Никольский',\n",
       "       'поселок Кингисеппский',\n",
       "       'посёлок при железнодорожной станции Вещево', 'поселок Ушаки',\n",
       "       'деревня Старополье', 'деревня Котлы', 'деревня Сижно',\n",
       "       'деревня Лампово', 'деревня Торосово',\n",
       "       'посёлок Форт Красная Горка', 'деревня Новолисино',\n",
       "       'посёлок станции Громово', 'поселок городского типа Ефимовский',\n",
       "       'деревня Глинка', 'посёлок Мельниково',\n",
       "       'поселок городского типа Назия', 'деревня Старая Пустошь',\n",
       "       'поселок Коммунары', 'поселок Починок', 'деревня Разбегаево',\n",
       "       'посёлок городского типа Рябово', 'поселок Гладкое',\n",
       "       'посёлок при железнодорожной станции Приветнинское',\n",
       "       'поселок Тёсово-4', 'посёлок Жилгородок', 'деревня Бор',\n",
       "       'посёлок Коробицыно', 'деревня Большая Вруда', 'деревня Курковицы',\n",
       "       'посёлок Лисий Нос', 'поселок Серебрянский',\n",
       "       'городской посёлок Советский', 'посёлок Кобралово',\n",
       "       'поселок Кобралово', 'поселок городского типа Кондратьево',\n",
       "       'село Копорье', 'поселок Любань', 'деревня Реброво',\n",
       "       'деревня Зимитицы', 'деревня Тойворово', 'поселок Семиозерье',\n",
       "       'поселок Лесное', 'поселок Совхозный', 'поселок Усть-Луга',\n",
       "       'посёлок Суйда', 'посёлок городского типа Форносово',\n",
       "       'деревня Нижние Осельки', 'поселок Мичуринское', 'поселок Перово',\n",
       "       'Высоцк', 'поселок Гарболово', 'село Шум', 'поселок Котельский',\n",
       "       'посёлок Ленинское', 'деревня Большая Пустомержа', 'деревня Пижма',\n",
       "       'коттеджный поселок Кивеннапа Север', 'поселок Коробицыно',\n",
       "       'поселок Ромашки', 'деревня Каськово', 'деревня Куровицы',\n",
       "       'поселок Сумино', 'поселок городского типа Большая Ижора',\n",
       "       'поселок Кирпичное', 'деревня Ям-Тесово', 'деревня Терпилицы',\n",
       "       'посёлок городского типа Вознесенье',\n",
       "       'поселок городского типа Токсово', 'посёлок Шугозеро',\n",
       "       'деревня Ваганово', 'поселок Пушное', 'садовое товарищество Садко',\n",
       "       'деревня Выскатка', 'поселок Громово', 'посёлок станции Свирь',\n",
       "       'деревня Кисельня', 'село Старая Ладога', 'посёлок Старая Малукса',\n",
       "       'поселок Калитино', 'посёлок Высокоключевой',\n",
       "       'садовое товарищество Приладожский',\n",
       "       'посёлок Пансионат Зелёный Бор', 'посёлок Перово',\n",
       "       'деревня Ненимяки', 'поселок Пансионат Зелёный Бор',\n",
       "       'деревня Снегирёвка', 'деревня Рапполово', 'деревня Пустынка',\n",
       "       'поселок Рабитицы', 'деревня Большой Сабск', 'посёлок Усть-Ижора',\n",
       "       'деревня Лупполово', 'деревня Большое Рейзино',\n",
       "       'деревня Малая Романовка', 'деревня Суоранда',\n",
       "       'поселок Дружноселье', 'село Паша', 'поселок Володарское',\n",
       "       'деревня Нижняя', 'коттеджный посёлок Лесное', 'деревня Тихковицы',\n",
       "       'деревня Борисова Грива', 'посёлок Дзержинского'], dtype=object)"
      ]
     },
     "execution_count": 57,
     "metadata": {},
     "output_type": "execute_result"
    }
   ],
   "source": [
    "data['locality_name'].unique()"
   ]
  },
  {
   "cell_type": "markdown",
   "metadata": {},
   "source": [
    "*В столбце есть неявные дубликаты, связанные с использованием буквы е или ё: 'посёлок Бугры', 'поселок Бугры', например. Нужно заменить все ё на е*"
   ]
  },
  {
   "cell_type": "code",
   "execution_count": 58,
   "metadata": {},
   "outputs": [],
   "source": [
    "#создадим функцию, которая будет менять ё на е в столбце с названиями населенных пунктов \n",
    "\n",
    "def replace_locality_name(row):\n",
    "    str1 = str(row['locality_name'])\n",
    "    if str1.find('ё') >= 0:\n",
    "        str1 = str1.replace('ё', 'е')\n",
    "    return str1\n",
    "    "
   ]
  },
  {
   "cell_type": "code",
   "execution_count": 59,
   "metadata": {},
   "outputs": [],
   "source": [
    "#применяем функцию к датафрейму и перезаписываем значение столбца locality_name\n",
    "data['locality_name'] = data.apply(replace_locality_name, axis=1)"
   ]
  },
  {
   "cell_type": "code",
   "execution_count": 60,
   "metadata": {},
   "outputs": [
    {
     "data": {
      "text/plain": [
       "array(['Санкт-Петербург', 'поселок Шушары', 'городской поселок Янино-1',\n",
       "       'поселок Парголово', 'поселок Мурино', 'Ломоносов', 'Сертолово',\n",
       "       'Петергоф', 'Пушкин', 'деревня Кудрово', 'Колпино', 'Гатчина',\n",
       "       'деревня Федоровское', 'Выборг', 'Кронштадт', 'Кировск',\n",
       "       'деревня Новое Девяткино', 'поселок Металлострой',\n",
       "       'поселок городского типа Лебяжье',\n",
       "       'поселок городского типа Сиверский', 'поселок Молодцово',\n",
       "       'поселок городского типа Кузьмоловский',\n",
       "       'садовое товарищество Новая Ропша', 'Павловск',\n",
       "       'деревня Пикколово', 'Всеволожск', 'Волхов', 'Кингисепп',\n",
       "       'Приозерск', 'Сестрорецк', 'деревня Куттузи', 'поселок Аннино',\n",
       "       'деревня Заклинье', 'поселок Торковичи', 'поселок Первомайское',\n",
       "       'Красное Село', 'поселок Понтонный', 'деревня Старая',\n",
       "       'деревня Лесколово', 'село Путилово', 'Ивангород', 'Мурино',\n",
       "       'Сланцы', 'Шлиссельбург', 'Сясьстрой', 'Никольское', 'Зеленогорск',\n",
       "       'Сосновый Бор', 'поселок Новый Свет', 'деревня Оржицы',\n",
       "       'деревня Кальтино', 'Кудрово', 'поселок Романовка',\n",
       "       'поселок Бугры', 'поселок городского типа Рощино', 'Кириши',\n",
       "       'Луга', 'Волосово', 'Отрадное', 'село Павлово', 'поселок Оредеж',\n",
       "       'поселок городского типа Красный Бор', 'Коммунар',\n",
       "       'поселок Молодежное', 'деревня Нурма',\n",
       "       'поселок городского типа Синявино', 'Тосно', 'поселок Стрельна',\n",
       "       'Бокситогорск', 'поселок Александровская', 'деревня Лопухинка',\n",
       "       'поселок Терволово', 'поселок городского типа Советский',\n",
       "       'Подпорожье', 'поселок Петровское',\n",
       "       'поселок городского типа Токсово', 'поселок Сельцо',\n",
       "       'поселок городского типа Вырица', 'деревня Келози',\n",
       "       'деревня Вартемяги', 'поселок Тельмана',\n",
       "       'городской поселок Большая Ижора', 'Тихвин', 'nan',\n",
       "       'деревня Агалатово', 'поселок Новогорелово',\n",
       "       'городской поселок Лесогорский', 'деревня Лаголово',\n",
       "       'поселок Цвелодубово', 'поселок городского типа Рахья',\n",
       "       'деревня Белогорка', 'поселок Заводской',\n",
       "       'городской поселок Новоселье', 'деревня Большие Колпаны',\n",
       "       'деревня Горбунки', 'деревня Заневка', 'Приморск',\n",
       "       'городской поселок Федоровское', 'деревня Мистолово',\n",
       "       'Новая Ладога', 'поселок Зимитицы', 'поселок Барышево',\n",
       "       'деревня Разметелево', 'поселок городского типа имени Свердлова',\n",
       "       'деревня Пеники', 'поселок Рябово', 'деревня Пудомяги',\n",
       "       'деревня Бегуницы', 'поселок Поляны', 'городской поселок Мга',\n",
       "       'поселок Елизаветино', 'поселок городского типа Кузнечное',\n",
       "       'деревня Колтуши', 'поселок Запорожское', 'деревня Гостилицы',\n",
       "       'деревня Малое Карлино', 'поселок Мичуринское',\n",
       "       'поселок городского типа имени Морозова', 'поселок Песочный',\n",
       "       'поселок Сосново', 'деревня Аро', 'поселок Ильичево',\n",
       "       'поселок городского типа Тайцы', 'деревня Малое Верево',\n",
       "       'поселок станции Вещево', 'деревня Калитино',\n",
       "       'поселок городского типа Ульяновка', 'деревня Чудской Бор',\n",
       "       'поселок городского типа Дубровка', 'деревня Мины',\n",
       "       'поселок Войсковицы', 'деревня Коркино', 'поселок Ропша',\n",
       "       'поселок городского типа Приладожский', 'поселок Щеглово',\n",
       "       'поселок Гаврилово', 'Лодейное Поле', 'Пикалево',\n",
       "       'деревня Рабитицы', 'деревня Кузьмолово', 'деревня Малые Колпаны',\n",
       "       'городской поселок Назия', 'поселок Репино',\n",
       "       'городской поселок Павлово', 'поселок Углово', 'деревня Низино',\n",
       "       'поселок Старая Малукса', 'садовое товарищество Рахья',\n",
       "       'поселок Победа', 'деревня Меньково', 'деревня Старые Бегуницы',\n",
       "       'поселок Саперный', 'поселок Семрино', 'поселок Глажево',\n",
       "       'поселок Кобринское', 'деревня Гарболово', 'деревня Юкки',\n",
       "       'поселок станции Приветнинское', 'деревня Мануйлово',\n",
       "       'поселок Цвылево', 'поселок Мельниково', 'поселок Плодовое',\n",
       "       'поселок Пудость', 'поселок Усть-Луга', 'Светогорск', 'Любань',\n",
       "       'поселок Селезнево', 'поселок городского типа Рябово',\n",
       "       'Каменногорск', 'деревня Кривко', 'деревня Парицы',\n",
       "       'поселок Жилпоселок', 'поселок городского типа Мга',\n",
       "       'поселок Войскорово', 'село Никольское', 'поселок Стеклянный',\n",
       "       'поселок Мыза-Ивановка', 'село Русско-Высоцкое',\n",
       "       'поселок городского типа Форносово', 'поселок Житково',\n",
       "       'городской поселок Виллози', 'деревня Шпаньково', 'деревня Кипень',\n",
       "       'поселок Сумино', 'поселок Возрождение', 'деревня Старосиверская',\n",
       "       'поселок Кикерино', 'деревня Старое Хинколово',\n",
       "       'поселок Пригородный', 'поселок Торфяное',\n",
       "       'городской поселок Будогощь', 'поселок Суходолье',\n",
       "       'поселок Красная Долина', 'деревня Хапо-Ое',\n",
       "       'поселок городского типа Дружная Горка', 'деревня Извара',\n",
       "       'поселок Лисий Нос', 'деревня Яльгелево', 'село Рождествено',\n",
       "       'деревня Сяськелево', 'деревня Камышовка',\n",
       "       'садоводческое некоммерческое товарищество Лесная Поляна',\n",
       "       'поселок Жилгородок', 'поселок городского типа Павлово',\n",
       "       'деревня Ялгино', 'деревня Батово', 'поселок Новый Учхоз',\n",
       "       'поселок Гончарово', 'поселок Почап', 'поселок Саперное',\n",
       "       'поселок Платформа 69-й километр', 'поселок Каложицы',\n",
       "       'деревня Фалилеево', 'деревня Пельгора',\n",
       "       'поселок городского типа Лесогорский', 'деревня Торошковичи',\n",
       "       'поселок Белоостров', 'поселок Алексеевка',\n",
       "       'поселок городского типа Важины', 'поселок Глебычево',\n",
       "       'поселок Лукаши', 'деревня Щеглово', 'городской поселок Рощино',\n",
       "       'поселок городского типа Никольский', 'поселок Кингисеппский',\n",
       "       'поселок при железнодорожной станции Вещево', 'поселок Ушаки',\n",
       "       'деревня Старополье', 'деревня Котлы', 'деревня Сижно',\n",
       "       'деревня Лампово', 'деревня Торосово',\n",
       "       'поселок Форт Красная Горка', 'деревня Новолисино',\n",
       "       'поселок станции Громово', 'поселок городского типа Ефимовский',\n",
       "       'деревня Глинка', 'поселок городского типа Назия',\n",
       "       'деревня Старая Пустошь', 'поселок Коммунары', 'поселок Починок',\n",
       "       'деревня Разбегаево', 'поселок Гладкое',\n",
       "       'поселок при железнодорожной станции Приветнинское',\n",
       "       'поселок Тесово-4', 'деревня Бор', 'поселок Коробицыно',\n",
       "       'деревня Большая Вруда', 'деревня Курковицы',\n",
       "       'поселок Серебрянский', 'городской поселок Советский',\n",
       "       'поселок Кобралово', 'поселок городского типа Кондратьево',\n",
       "       'село Копорье', 'поселок Любань', 'деревня Реброво',\n",
       "       'деревня Зимитицы', 'деревня Тойворово', 'поселок Семиозерье',\n",
       "       'поселок Лесное', 'поселок Совхозный', 'поселок Суйда',\n",
       "       'деревня Нижние Осельки', 'поселок Перово', 'Высоцк',\n",
       "       'поселок Гарболово', 'село Шум', 'поселок Котельский',\n",
       "       'поселок Ленинское', 'деревня Большая Пустомержа', 'деревня Пижма',\n",
       "       'коттеджный поселок Кивеннапа Север', 'поселок Ромашки',\n",
       "       'деревня Каськово', 'деревня Куровицы',\n",
       "       'поселок городского типа Большая Ижора', 'поселок Кирпичное',\n",
       "       'деревня Ям-Тесово', 'деревня Терпилицы',\n",
       "       'поселок городского типа Вознесенье', 'поселок Шугозеро',\n",
       "       'деревня Ваганово', 'поселок Пушное', 'садовое товарищество Садко',\n",
       "       'деревня Выскатка', 'поселок Громово', 'поселок станции Свирь',\n",
       "       'деревня Кисельня', 'село Старая Ладога', 'поселок Калитино',\n",
       "       'поселок Высокоключевой', 'садовое товарищество Приладожский',\n",
       "       'поселок Пансионат Зеленый Бор', 'деревня Ненимяки',\n",
       "       'деревня Снегиревка', 'деревня Рапполово', 'деревня Пустынка',\n",
       "       'поселок Рабитицы', 'деревня Большой Сабск', 'поселок Усть-Ижора',\n",
       "       'деревня Лупполово', 'деревня Большое Рейзино',\n",
       "       'деревня Малая Романовка', 'деревня Суоранда',\n",
       "       'поселок Дружноселье', 'село Паша', 'поселок Володарское',\n",
       "       'деревня Нижняя', 'коттеджный поселок Лесное', 'деревня Тихковицы',\n",
       "       'деревня Борисова Грива', 'поселок Дзержинского'], dtype=object)"
      ]
     },
     "execution_count": 60,
     "metadata": {},
     "output_type": "execute_result"
    }
   ],
   "source": [
    "#проверим, что все поменялось:\n",
    "data['locality_name'].unique()"
   ]
  },
  {
   "cell_type": "markdown",
   "metadata": {},
   "source": [
    "*От неявных дубликатов избавились. Теперь посчитаем количество явных дубликатов*"
   ]
  },
  {
   "cell_type": "code",
   "execution_count": 61,
   "metadata": {},
   "outputs": [
    {
     "data": {
      "text/plain": [
       "0"
      ]
     },
     "execution_count": 61,
     "metadata": {},
     "output_type": "execute_result"
    }
   ],
   "source": [
    "#метод duplicated() ищет дубликаты, а sum() их посчитает:\n",
    "\n",
    "data.duplicated().sum()"
   ]
  },
  {
   "cell_type": "markdown",
   "metadata": {},
   "source": [
    "*Дубликатов в датасете нет.*"
   ]
  },
  {
   "cell_type": "code",
   "execution_count": 62,
   "metadata": {},
   "outputs": [
    {
     "data": {
      "text/plain": [
       "(20884, 23)"
      ]
     },
     "execution_count": 62,
     "metadata": {},
     "output_type": "execute_result"
    }
   ],
   "source": [
    "#оценим потери после предобработки данных:\n",
    "data.shape"
   ]
  },
  {
   "cell_type": "markdown",
   "metadata": {},
   "source": [
    "*20884 строк против 23699 в первоначальном виде, датасет потерял в общей сложности 11.9% данных*"
   ]
  },
  {
   "cell_type": "markdown",
   "metadata": {},
   "source": [
    "<div class=\"alert alert-info\">\n",
    "Выполнена полная предобработка данных. Заполнены пропуски в столбцах balcony, is_apartment. Пропуски в столбцах ceiling_height, kitchen_area заполнены, исходя из типовой постройки дома. Пропуски в столбцах airports_nearest, cityCenters_nearest заполнены средним значением по данному населенному пункту, но частично.\n",
    "    \n",
    "Изменены типы данных в столбцах is_apartment, balcony, floors_total.\n",
    "Осуществлена проверка на наличие аномальных значений, найденные значения частично заменены. Там, где логически изменить аномалии невозможно, данные были удалены с предварительной оценкой их доли в выборке.\n",
    "    \n",
    "Удалены неявные дубликаты в названиях населенного пункта. \n",
    "Можно приступать к исследовательскому анализу данных.</div>\n",
    "    "
   ]
  },
  {
   "cell_type": "markdown",
   "metadata": {},
   "source": [
    "### Добавление новых столбцов"
   ]
  },
  {
   "cell_type": "markdown",
   "metadata": {},
   "source": [
    "#### Добавление столбца с ценой за 1 кв.м."
   ]
  },
  {
   "cell_type": "markdown",
   "metadata": {},
   "source": [
    "*Стоимость 1 кв.м. рассчитаем по формуле: стоимость квартиры / общая площадь.*"
   ]
  },
  {
   "cell_type": "code",
   "execution_count": 63,
   "metadata": {},
   "outputs": [],
   "source": [
    "#добавим новый столбец, результат деления округлим до 2 цифр после запятой\n",
    "#в total_area нет нулевых значений, как мы выяснили до этого, поэтому можно делить без обработки исключений\n",
    "data['price_1sm'] = round(data['last_price'] / data['total_area'], 2)"
   ]
  },
  {
   "cell_type": "markdown",
   "metadata": {},
   "source": [
    "#### Добавление столбца с днем недели, месяцем и годом публикации объявления\n"
   ]
  },
  {
   "cell_type": "code",
   "execution_count": 64,
   "metadata": {},
   "outputs": [],
   "source": [
    "#предварительно преобразуем столбец first_day_exposition из строки в формат datetime\n",
    "data['first_day_exposition'] = pd.to_datetime(data['first_day_exposition'], format = '%Y-%m-%dT%H:%M:%S')\n",
    "#создаем новые столбцы и записываем в них данные\n",
    "data['week_day'] = pd.DatetimeIndex(data['first_day_exposition']).weekday\n",
    "data['month'] = pd.DatetimeIndex(data['first_day_exposition']).month\n",
    "data['year'] = pd.DatetimeIndex(data['first_day_exposition']).year"
   ]
  },
  {
   "cell_type": "code",
   "execution_count": 65,
   "metadata": {},
   "outputs": [
    {
     "name": "stdout",
     "output_type": "stream",
     "text": [
      "   total_images  last_price  total_area first_day_exposition  rooms  \\\n",
      "0            20  13000000.0       108.0           2019-03-07      3   \n",
      "1             7   3350000.0        40.4           2018-12-04      1   \n",
      "2            10   5196000.0        56.0           2015-08-20      2   \n",
      "4             2  10000000.0       100.0           2018-06-19      2   \n",
      "5            10   2890000.0        30.4           2018-09-10      1   \n",
      "\n",
      "   ceiling_height  floors_total  living_area  floor  is_apartment  ...  \\\n",
      "0            2.70            16         51.0      8         False  ...   \n",
      "1            2.70            11         18.6      1         False  ...   \n",
      "2            3.00             5         34.3      4         False  ...   \n",
      "4            3.03            14         32.0     13         False  ...   \n",
      "5            2.70            12         14.4      5         False  ...   \n",
      "\n",
      "   parks_around3000  parks_nearest  ponds_around3000  ponds_nearest  \\\n",
      "0               1.0          482.0               2.0          755.0   \n",
      "1               0.0            NaN               0.0            NaN   \n",
      "2               1.0           90.0               2.0          574.0   \n",
      "4               2.0          112.0               1.0           48.0   \n",
      "5               NaN            NaN               NaN            NaN   \n",
      "\n",
      "  days_exposition  house_category  price_1sm  week_day  month  year  \n",
      "0             NaN     новостройка  120370.37         3      3  2019  \n",
      "1            81.0     новостройка   82920.79         1     12  2018  \n",
      "2           558.0        сталинка   92785.71         3      8  2015  \n",
      "4           121.0     новостройка  100000.00         1      6  2018  \n",
      "5            55.0     новостройка   95065.79         0      9  2018  \n",
      "\n",
      "[5 rows x 27 columns]\n"
     ]
    }
   ],
   "source": [
    "#проверим, что все ок\n",
    "print(data.head(5))"
   ]
  },
  {
   "cell_type": "markdown",
   "metadata": {},
   "source": [
    "#### Добавление столбца с типом этажа дома\n",
    "\n",
    "*Категоризируем наши данные по этажам. Создадим столбец floor_type, который будет хранить значение \"первый\" в случае первого этажа, \"последний\" - если квартира на самом верхнем этаже и \"другой\" - для промежуточных этажей. Значения присвоим с помощью функции*"
   ]
  },
  {
   "cell_type": "code",
   "execution_count": 66,
   "metadata": {},
   "outputs": [],
   "source": [
    "def floor_range(row):\n",
    "    if row['floor'] == 1:\n",
    "        return 'первый'\n",
    "    if row['floor'] == row['floors_total']:\n",
    "        return 'последний'\n",
    "    return 'другой'"
   ]
  },
  {
   "cell_type": "code",
   "execution_count": 67,
   "metadata": {},
   "outputs": [],
   "source": [
    "data['floor_type'] = data.apply(floor_range, axis = 1)"
   ]
  },
  {
   "cell_type": "code",
   "execution_count": 68,
   "metadata": {},
   "outputs": [
    {
     "name": "stdout",
     "output_type": "stream",
     "text": [
      "0    16\n",
      "1    11\n",
      "2     5\n",
      "4    14\n",
      "5    12\n",
      "Name: floors_total, dtype: int64 0     8\n",
      "1     1\n",
      "2     4\n",
      "4    13\n",
      "5     5\n",
      "Name: floor, dtype: int64 0    другой\n",
      "1    первый\n",
      "2    другой\n",
      "4    другой\n",
      "5    другой\n",
      "Name: floor_type, dtype: object\n"
     ]
    }
   ],
   "source": [
    "#проверим, что все ок\n",
    "print(data['floors_total'].head(5), data['floor'].head(5), data['floor_type'].head(5))"
   ]
  },
  {
   "cell_type": "markdown",
   "metadata": {},
   "source": [
    "#### Добавление столбца с расстоянием до центра в км.\n",
    "\n",
    "*Для получения значений разделим столбец cityCenters_nearest на 1000 и округлим полученный результат до целого значения*"
   ]
  },
  {
   "cell_type": "code",
   "execution_count": 69,
   "metadata": {},
   "outputs": [],
   "source": [
    "data['city_center_km'] = round(data['cityCenters_nearest'] / 1000)"
   ]
  },
  {
   "cell_type": "code",
   "execution_count": 70,
   "metadata": {},
   "outputs": [
    {
     "name": "stdout",
     "output_type": "stream",
     "text": [
      "0    16028.0\n",
      "1    18603.0\n",
      "2    13933.0\n",
      "4     8098.0\n",
      "5        NaN\n",
      "Name: cityCenters_nearest, dtype: float64 0    16.0\n",
      "1    19.0\n",
      "2    14.0\n",
      "4     8.0\n",
      "5     NaN\n",
      "Name: city_center_km, dtype: float64\n"
     ]
    }
   ],
   "source": [
    "#проверим, что все ок\n",
    "print(data['cityCenters_nearest'].head(5), data['city_center_km'].head(5))"
   ]
  },
  {
   "cell_type": "markdown",
   "metadata": {},
   "source": [
    "<div class=\"alert alert-info\">В датасет добавлен столбец с типом этажа, а также год, месяц, день размещения объявления, расстояние до центра города в километрах. Это дополнительные параметры, которые могут оказывать влияние на рыночную стоимость квартир.</div>"
   ]
  },
  {
   "cell_type": "markdown",
   "metadata": {},
   "source": [
    "### Исследовательский анализ данных"
   ]
  },
  {
   "cell_type": "markdown",
   "metadata": {},
   "source": [
    "#### Исследование параметра \"Общая площадь\""
   ]
  },
  {
   "cell_type": "markdown",
   "metadata": {},
   "source": [
    "*Для начала построим гистограмму значений общей площади*"
   ]
  },
  {
   "cell_type": "code",
   "execution_count": 71,
   "metadata": {
    "scrolled": true
   },
   "outputs": [
    {
     "data": {
      "text/plain": [
       "<AxesSubplot:ylabel='Frequency'>"
      ]
     },
     "execution_count": 71,
     "metadata": {},
     "output_type": "execute_result"
    },
    {
     "data": {
      "image/png": "[encoded data removed]",
      "text/plain": [
       "<Figure size 432x288 with 1 Axes>"
      ]
     },
     "metadata": {
      "needs_background": "light"
     },
     "output_type": "display_data"
    }
   ],
   "source": [
    "#используем plot, чтобы указать доп.настройки\n",
    "data.plot(\n",
    "    kind='hist',\n",
    "    y='total_area',\n",
    "    bins=50,\n",
    "    linewidth=5,\n",
    "    alpha=0.7,\n",
    "    label='total square',\n",
    "     grid=True,    \n",
    "    legend=True,\n",
    "    color='deeppink'\n",
    ") "
   ]
  },
  {
   "cell_type": "markdown",
   "metadata": {},
   "source": [
    "*По внешнему виду гистограмма схожа с нормальным распределением. По графику видно, что чаще всего объекты недвижимости имеют площадь в пределах от 40 до 60 кв.м. Квартир с площадью более 260 кв.м. практически нет, так же как квартир с площадью менее 20 кв.м.* "
   ]
  },
  {
   "cell_type": "markdown",
   "metadata": {},
   "source": [
    "*Проанализируем описание выборки по общей площади:*"
   ]
  },
  {
   "cell_type": "code",
   "execution_count": 72,
   "metadata": {
    "scrolled": false
   },
   "outputs": [
    {
     "data": {
      "text/plain": [
       "count    20884.000000\n",
       "mean        60.068471\n",
       "std         32.451128\n",
       "min         14.000000\n",
       "25%         40.400000\n",
       "50%         52.000000\n",
       "75%         69.825000\n",
       "max        631.200000\n",
       "Name: total_area, dtype: float64"
      ]
     },
     "execution_count": 72,
     "metadata": {},
     "output_type": "execute_result"
    }
   ],
   "source": [
    "data['total_area'].describe()"
   ]
  },
  {
   "cell_type": "markdown",
   "metadata": {},
   "source": [
    "*Средняя общая площадь - 59 кв.м, медианное значение - 52 кв.м., минимум - 14 кв.м., максимум - 631.2, стандартное отклонение составляет 30. Межквартильный размах выборки: от 40.2 до 68.7 кв.м.*"
   ]
  },
  {
   "cell_type": "markdown",
   "metadata": {},
   "source": [
    "#### Исследование параметра \"Жилая площадь\""
   ]
  },
  {
   "cell_type": "markdown",
   "metadata": {},
   "source": [
    "*Построим гистограмму значений жилой площади*"
   ]
  },
  {
   "cell_type": "code",
   "execution_count": 73,
   "metadata": {},
   "outputs": [
    {
     "data": {
      "image/png": "[encoded data removed]",
      "text/plain": [
       "<Figure size 432x288 with 1 Axes>"
      ]
     },
     "metadata": {
      "needs_background": "light"
     },
     "output_type": "display_data"
    }
   ],
   "source": [
    "#используем plot, чтобы указать доп.настройки\n",
    "data.plot(\n",
    "    kind='hist',\n",
    "    y='living_area',\n",
    "    bins=50,\n",
    "    linewidth=5,\n",
    "    alpha=0.7,\n",
    "    label='living square',\n",
    "     grid=True,    \n",
    "    legend=True,\n",
    "    color='green'\n",
    ");"
   ]
  },
  {
   "cell_type": "markdown",
   "metadata": {},
   "source": [
    "*Гистограмма имеет 2 пика приблизительно в 20 и 40 кв.м., но по форме оно также близко к нормальному распределению*"
   ]
  },
  {
   "cell_type": "markdown",
   "metadata": {},
   "source": [
    "*Проанализируем описание выборки по жилой площади:*"
   ]
  },
  {
   "cell_type": "code",
   "execution_count": 74,
   "metadata": {},
   "outputs": [
    {
     "data": {
      "text/plain": [
       "count    20884.000000\n",
       "mean        34.433016\n",
       "std         21.004747\n",
       "min          3.000000\n",
       "25%         18.800000\n",
       "50%         30.000000\n",
       "75%         42.485000\n",
       "max        347.500000\n",
       "Name: living_area, dtype: float64"
      ]
     },
     "execution_count": 74,
     "metadata": {},
     "output_type": "execute_result"
    }
   ],
   "source": [
    "data['living_area'].describe()"
   ]
  },
  {
   "cell_type": "markdown",
   "metadata": {},
   "source": [
    "*Межквартильный размах выборки по жилой площади: от 18.7 до 42 кв.м., медианное значение - 50 кв.м., стандартное отклонение составляет 19.8 кв.м., минимум - 3 кв.м. (c ним мы уже поработали до этого, дальнейшее удаление данных уже критично), максимум - 347.5*"
   ]
  },
  {
   "cell_type": "markdown",
   "metadata": {},
   "source": [
    "#### Исследование параметра \"Площадь кухни\""
   ]
  },
  {
   "cell_type": "markdown",
   "metadata": {},
   "source": [
    "*Построим гистограмму по столбцу kitchen_area, чтобы проанализировать характер распределения значений площади кухни в датасете.*"
   ]
  },
  {
   "cell_type": "code",
   "execution_count": 75,
   "metadata": {},
   "outputs": [
    {
     "data": {
      "image/png": "[encoded data removed]",
      "text/plain": [
       "<Figure size 432x288 with 1 Axes>"
      ]
     },
     "metadata": {
      "needs_background": "light"
     },
     "output_type": "display_data"
    }
   ],
   "source": [
    "#используем plot, чтобы указать доп.настройки\n",
    "data.plot(\n",
    "    kind='hist',\n",
    "    y='kitchen_area',\n",
    "    bins=50,\n",
    "    linewidth=5,\n",
    "    alpha=0.7,\n",
    "    label='kitchen square',\n",
    "     grid=True,    \n",
    "    legend=True,\n",
    "    color='red'\n",
    ");"
   ]
  },
  {
   "cell_type": "markdown",
   "metadata": {},
   "source": [
    "*На гистограмме выделяется сразу несколько пиков, возможно, на характере распределения сказалось заполнение пропусков. Наиболее часто втречаются квартиры с площадью кухни в 6 кв.м. и 10,5 кв.м., что вполне объяснимо, так как 6 кв.м. - это некий стандарт \"хрущевок\"*"
   ]
  },
  {
   "cell_type": "markdown",
   "metadata": {},
   "source": [
    "*Рассмотрим описание выборки по площади кухни:*"
   ]
  },
  {
   "cell_type": "code",
   "execution_count": 76,
   "metadata": {},
   "outputs": [
    {
     "data": {
      "text/plain": [
       "count    20884.000000\n",
       "mean        10.370253\n",
       "std          5.112680\n",
       "min          1.300000\n",
       "25%          7.000000\n",
       "50%          9.000000\n",
       "75%         12.000000\n",
       "max         49.400000\n",
       "Name: kitchen_area, dtype: float64"
      ]
     },
     "execution_count": 76,
     "metadata": {},
     "output_type": "execute_result"
    }
   ],
   "source": [
    "data['kitchen_area'].describe()"
   ]
  },
  {
   "cell_type": "markdown",
   "metadata": {},
   "source": [
    "*Межквартильный размах выборки: от 7 до 11.7 кв.м., минимум - 1.3, максимум - 29.9, медиана - 9 кв.м. Стандартное отклонение - 4 кв.м. В целом, данные никак не выбиваются от реальных.*"
   ]
  },
  {
   "cell_type": "markdown",
   "metadata": {},
   "source": [
    "#### Исследование параметра \"Цена объекта\""
   ]
  },
  {
   "cell_type": "markdown",
   "metadata": {},
   "source": [
    "*Построим гистограмму по цене объектов недвижимости. Построенная гистограмма при первом знакомстве с данными показала сильный разброс в значениях цены, поэтому дополнительно укажем ранжирование, чтобы график стал более детальным*"
   ]
  },
  {
   "cell_type": "code",
   "execution_count": 77,
   "metadata": {},
   "outputs": [
    {
     "data": {
      "image/png": "[encoded data removed]",
      "text/plain": [
       "<Figure size 432x288 with 1 Axes>"
      ]
     },
     "metadata": {
      "needs_background": "light"
     },
     "output_type": "display_data"
    }
   ],
   "source": [
    "#используем plot, чтобы указать доп.настройки\n",
    "data['last_price'] = data['last_price'] / 1000000 #разделим цену в столбце, чтобы на выходе были более понятные цифры\n",
    "data.hist('last_price', range = (0, 100), bins = 150);"
   ]
  },
  {
   "cell_type": "markdown",
   "metadata": {},
   "source": [
    "*Для построения гистограммы мы указали пределы значений, чтобы получить более детальную картинку. Но характер распределения соответствует нормальному.Чаще всего квартиры продают по стоимости в районе 6.000.000 рублей*"
   ]
  },
  {
   "cell_type": "markdown",
   "metadata": {},
   "source": [
    "*Получим описание выборки по цене объектов недвижимости:*"
   ]
  },
  {
   "cell_type": "code",
   "execution_count": 78,
   "metadata": {},
   "outputs": [
    {
     "data": {
      "text/plain": [
       "count    20884.000000\n",
       "mean         6.352626\n",
       "std          8.437724\n",
       "min          0.012190\n",
       "25%          3.500000\n",
       "50%          4.690000\n",
       "75%          6.765044\n",
       "max        401.300000\n",
       "Name: last_price, dtype: float64"
      ]
     },
     "execution_count": 78,
     "metadata": {},
     "output_type": "execute_result"
    }
   ],
   "source": [
    "data['last_price'].describe()"
   ]
  },
  {
   "cell_type": "markdown",
   "metadata": {},
   "source": [
    "*Межквартильный размах выборки - от 3.500.000 до 6.765.044 рублей. Медианное значение - 4.690.000. Минимальная стоимость - 12 190, максимальная - 401.300.000 рублей. Стандартное отклонение составляет 8.437.724, что свидетельствует о сильном разбросе стоимости объектов*"
   ]
  },
  {
   "cell_type": "markdown",
   "metadata": {},
   "source": [
    "#### Исследование параметра \"Количество комнат\""
   ]
  },
  {
   "cell_type": "markdown",
   "metadata": {},
   "source": [
    "*Построим гистограмму по количеству комнат*"
   ]
  },
  {
   "cell_type": "code",
   "execution_count": 79,
   "metadata": {},
   "outputs": [
    {
     "data": {
      "text/plain": [
       "<AxesSubplot:ylabel='Frequency'>"
      ]
     },
     "execution_count": 79,
     "metadata": {},
     "output_type": "execute_result"
    },
    {
     "data": {
      "image/png": "[encoded data removed]",
      "text/plain": [
       "<Figure size 432x288 with 1 Axes>"
      ]
     },
     "metadata": {
      "needs_background": "light"
     },
     "output_type": "display_data"
    }
   ],
   "source": [
    "#используем plot, чтобы указать доп.настройки\n",
    "data.plot(\n",
    "    kind='hist',\n",
    "    y='rooms',\n",
    "    bins=50,\n",
    "    linewidth=5,\n",
    "    alpha=0.7,\n",
    "    label='Rooms number',\n",
    "     grid=True,    \n",
    "    legend=True,\n",
    "    color='orange'\n",
    ")"
   ]
  },
  {
   "cell_type": "markdown",
   "metadata": {},
   "source": [
    "*Гистограмма имеет вид отдельных пиков, что обосновано характером данных в столбце количества комнат. Наибольшее количество квартир - однокомнатные, двухкомнатные, трехкомнатные. Характер распределения выборки нормальный.*"
   ]
  },
  {
   "cell_type": "markdown",
   "metadata": {},
   "source": [
    "*Получим описание выборки по количеству комнат:*"
   ]
  },
  {
   "cell_type": "code",
   "execution_count": 80,
   "metadata": {},
   "outputs": [
    {
     "data": {
      "text/plain": [
       "count    20884.000000\n",
       "mean         2.090356\n",
       "std          1.053483\n",
       "min          1.000000\n",
       "25%          1.000000\n",
       "50%          2.000000\n",
       "75%          3.000000\n",
       "max         19.000000\n",
       "Name: rooms, dtype: float64"
      ]
     },
     "execution_count": 80,
     "metadata": {},
     "output_type": "execute_result"
    }
   ],
   "source": [
    "data['rooms'].describe()"
   ]
  },
  {
   "cell_type": "markdown",
   "metadata": {},
   "source": [
    "*Межквартильный размах - от 1 до 3 комнат, максимум - 19 комнат. Медианное значение - 2 комнаты.*"
   ]
  },
  {
   "cell_type": "markdown",
   "metadata": {},
   "source": [
    "#### Исследование параметра \"Высота потолков\""
   ]
  },
  {
   "cell_type": "markdown",
   "metadata": {},
   "source": [
    "*Этот столбец мы активно заполняли, поэтому имеет особый смысл посмотреть на распределение значений и характер выборки. Строим гистограмму*"
   ]
  },
  {
   "cell_type": "code",
   "execution_count": 81,
   "metadata": {},
   "outputs": [
    {
     "data": {
      "text/plain": [
       "<AxesSubplot:ylabel='Frequency'>"
      ]
     },
     "execution_count": 81,
     "metadata": {},
     "output_type": "execute_result"
    },
    {
     "data": {
      "image/png": "[encoded data removed]",
      "text/plain": [
       "<Figure size 432x288 with 1 Axes>"
      ]
     },
     "metadata": {
      "needs_background": "light"
     },
     "output_type": "display_data"
    }
   ],
   "source": [
    "#используем plot, чтобы указать доп.настройки\n",
    "data.plot(\n",
    "    kind='hist',\n",
    "    y='ceiling_height',\n",
    "    bins=150,\n",
    "    range = (1.0, 6.0),\n",
    "    linewidth=5,\n",
    "    alpha=0.7,\n",
    "    label='Ceiling height',\n",
    "     grid=True,    \n",
    "    legend=True,\n",
    "    color='purple'\n",
    ")"
   ]
  },
  {
   "cell_type": "markdown",
   "metadata": {},
   "source": [
    "*На гистограмме присутствуют отдельные пики около значений в 2.5, 2.6, 2.7 и 3.0, что не противоречит действительности. Это наиболее частое значение высоты потолка в хрущевках, новостройках и сталинских домах.*"
   ]
  },
  {
   "cell_type": "markdown",
   "metadata": {},
   "source": [
    "*Рассмотрим характерные значения для этой выборки:*"
   ]
  },
  {
   "cell_type": "code",
   "execution_count": 82,
   "metadata": {},
   "outputs": [
    {
     "data": {
      "text/plain": [
       "count    20884.000000\n",
       "mean         2.712928\n",
       "std          0.254587\n",
       "min          1.200000\n",
       "25%          2.570000\n",
       "50%          2.700000\n",
       "75%          2.750000\n",
       "max         14.000000\n",
       "Name: ceiling_height, dtype: float64"
      ]
     },
     "execution_count": 82,
     "metadata": {},
     "output_type": "execute_result"
    }
   ],
   "source": [
    "data['ceiling_height'].describe()"
   ]
  },
  {
   "cell_type": "markdown",
   "metadata": {},
   "source": [
    "*Межквартильный размах у этой выборки от 2.57 до 2.75 (что вполне реалистично). Максимум - 14.0 (с максимальными значениями в этом столбце мы уже поработали)*"
   ]
  },
  {
   "cell_type": "markdown",
   "metadata": {},
   "source": [
    "#### Исследование параметра \"Этаж квартиры\""
   ]
  },
  {
   "cell_type": "markdown",
   "metadata": {},
   "source": [
    "*Построим гистограмму:*"
   ]
  },
  {
   "cell_type": "code",
   "execution_count": 83,
   "metadata": {},
   "outputs": [
    {
     "data": {
      "text/plain": [
       "<AxesSubplot:ylabel='Frequency'>"
      ]
     },
     "execution_count": 83,
     "metadata": {},
     "output_type": "execute_result"
    },
    {
     "data": {
      "image/png": "[encoded data removed]",
      "text/plain": [
       "<Figure size 432x288 with 1 Axes>"
      ]
     },
     "metadata": {
      "needs_background": "light"
     },
     "output_type": "display_data"
    }
   ],
   "source": [
    "#используем plot, чтобы указать доп.настройки\n",
    "data.plot(\n",
    "    kind='hist',\n",
    "    y='floor',\n",
    "    bins=150,\n",
    "    linewidth=5,\n",
    "    alpha=0.7,\n",
    "    label='Floor',\n",
    "     grid=True,    \n",
    "    legend=True,\n",
    "    color='brown'\n",
    ")"
   ]
  },
  {
   "cell_type": "markdown",
   "metadata": {},
   "source": [
    "*Получили гистограмму с нормальным распределением. Чаще всего объекты расположены на 2 этаже, пиковые значения гистограммы - от 1 до 5 этажей. Квартиры на более высоких этажах встречаются гораздо реже*"
   ]
  },
  {
   "cell_type": "markdown",
   "metadata": {},
   "source": [
    "*Посмотрим описание:*"
   ]
  },
  {
   "cell_type": "code",
   "execution_count": 84,
   "metadata": {},
   "outputs": [
    {
     "data": {
      "text/plain": [
       "count    20884.000000\n",
       "mean         5.837244\n",
       "std          4.815605\n",
       "min          1.000000\n",
       "25%          2.000000\n",
       "50%          4.000000\n",
       "75%          8.000000\n",
       "max         33.000000\n",
       "Name: floor, dtype: float64"
      ]
     },
     "execution_count": 84,
     "metadata": {},
     "output_type": "execute_result"
    }
   ],
   "source": [
    "data['floor'].describe()"
   ]
  },
  {
   "cell_type": "markdown",
   "metadata": {},
   "source": [
    "*Межквартильный размах у нас от 2 до 8 этажа. Медианное значение = 4*"
   ]
  },
  {
   "cell_type": "markdown",
   "metadata": {},
   "source": [
    "#### Исследование параметра \"Тип этажа квартиры\""
   ]
  },
  {
   "cell_type": "markdown",
   "metadata": {},
   "source": [
    "*Данный столбец мы добавили и заполнили с помощью функции, проверим характер выборки, который получился в итоге:*"
   ]
  },
  {
   "cell_type": "code",
   "execution_count": 85,
   "metadata": {},
   "outputs": [
    {
     "data": {
      "text/plain": [
       "другой       15345\n",
       "последний     2983\n",
       "первый        2556\n",
       "Name: floor_type, dtype: int64"
      ]
     },
     "execution_count": 85,
     "metadata": {},
     "output_type": "execute_result"
    }
   ],
   "source": [
    "#посчитаем количество по каждому из значений\n",
    "data['floor_type'].value_counts()"
   ]
  },
  {
   "cell_type": "code",
   "execution_count": 86,
   "metadata": {},
   "outputs": [
    {
     "data": {
      "text/plain": [
       "<AxesSubplot:>"
      ]
     },
     "execution_count": 86,
     "metadata": {},
     "output_type": "execute_result"
    },
    {
     "data": {
      "image/png": "[encoded data removed]",
      "text/plain": [
       "<Figure size 432x288 with 1 Axes>"
      ]
     },
     "metadata": {
      "needs_background": "light"
     },
     "output_type": "display_data"
    }
   ],
   "source": [
    "#в столбце нечисловые значения, поэтому гистограмму напрямую построить не удастся\n",
    "#поскольку значений всего 3, построим столбчатую диаграмму с указанием количества по каждому из типов этажей\n",
    "floors = data['floor_type'].unique()\n",
    "frequency = [15156, 2540, 2920]\n",
    "sns.barplot(x = floors, y = frequency)\n"
   ]
  },
  {
   "cell_type": "markdown",
   "metadata": {},
   "source": [
    "*Наибольшую долю среди объектов недвижимости составляют квартиры, находящиеся между первым и последним этажом. Доля квартир на первом этаже самая маленькая.*"
   ]
  },
  {
   "cell_type": "markdown",
   "metadata": {},
   "source": [
    "#### Исследование параметра \"Количество этажей в доме\""
   ]
  },
  {
   "cell_type": "markdown",
   "metadata": {},
   "source": [
    "*Построим гистограмму*"
   ]
  },
  {
   "cell_type": "code",
   "execution_count": 87,
   "metadata": {},
   "outputs": [
    {
     "data": {
      "text/plain": [
       "<AxesSubplot:ylabel='Frequency'>"
      ]
     },
     "execution_count": 87,
     "metadata": {},
     "output_type": "execute_result"
    },
    {
     "data": {
      "image/png": "[encoded data removed]",
      "text/plain": [
       "<Figure size 432x288 with 1 Axes>"
      ]
     },
     "metadata": {
      "needs_background": "light"
     },
     "output_type": "display_data"
    }
   ],
   "source": [
    "#используем plot, чтобы указать доп.настройки\n",
    "data.plot(\n",
    "    kind='hist',\n",
    "    y='floors_total',\n",
    "    bins=50,\n",
    "    linewidth=5,\n",
    "    alpha=0.7,\n",
    "    label='Floors total',\n",
    "     grid=True,    \n",
    "    legend=True,\n",
    "    color='magenta'\n",
    ")"
   ]
  },
  {
   "cell_type": "markdown",
   "metadata": {},
   "source": [
    "*Как показывает гистограмма, чаще всего объекты недвижимости расположены в 5-этажных и 9-этажных домах. Присутствуют также пики с меньшей частотностью у значений в 12, 16, 25 этажей.*"
   ]
  },
  {
   "cell_type": "code",
   "execution_count": 88,
   "metadata": {},
   "outputs": [
    {
     "data": {
      "text/plain": [
       "count    20884.000000\n",
       "mean        10.566319\n",
       "std          6.522542\n",
       "min          1.000000\n",
       "25%          5.000000\n",
       "50%          9.000000\n",
       "75%         15.000000\n",
       "max         60.000000\n",
       "Name: floors_total, dtype: float64"
      ]
     },
     "execution_count": 88,
     "metadata": {},
     "output_type": "execute_result"
    }
   ],
   "source": [
    "data['floors_total'].describe()"
   ]
  },
  {
   "cell_type": "markdown",
   "metadata": {},
   "source": [
    "*Межквартильный размах этой выборки - от 5 до 15 этажей. 9 этажей является медианой. Минимальное значение - 1, максимальное - 60 этажей.*"
   ]
  },
  {
   "cell_type": "markdown",
   "metadata": {},
   "source": [
    "#### Исследование параметра \"Расстояние до центра города в метрах\""
   ]
  },
  {
   "cell_type": "markdown",
   "metadata": {},
   "source": [
    "*Ознакомимся с характером распределения значений в этом столбце, построим гистограмму:*"
   ]
  },
  {
   "cell_type": "code",
   "execution_count": 89,
   "metadata": {},
   "outputs": [
    {
     "data": {
      "text/plain": [
       "<AxesSubplot:ylabel='Frequency'>"
      ]
     },
     "execution_count": 89,
     "metadata": {},
     "output_type": "execute_result"
    },
    {
     "data": {
      "image/png": "[encoded data removed]",
      "text/plain": [
       "<Figure size 432x288 with 1 Axes>"
      ]
     },
     "metadata": {
      "needs_background": "light"
     },
     "output_type": "display_data"
    }
   ],
   "source": [
    "#используем plot, чтобы указать доп.настройки\n",
    "data.plot(\n",
    "    kind='hist',\n",
    "    y='cityCenters_nearest',\n",
    "    bins=50,\n",
    "    linewidth=5,\n",
    "    alpha=0.7,\n",
    "    label='City center in metres',\n",
    "     grid=True,    \n",
    "    legend=True,\n",
    "    color='green'\n",
    ")"
   ]
  },
  {
   "cell_type": "markdown",
   "metadata": {},
   "source": [
    "*Общий вид графика близок к нормальному распределению. Имеются пики значений, соответствующие 12000 и 15000 метров. Что может говорить о том, что в выборке чаще встречаются квартиры, расположенные на окраинах городов или соседних с ними населенных пунктах.*"
   ]
  },
  {
   "cell_type": "code",
   "execution_count": 90,
   "metadata": {},
   "outputs": [
    {
     "data": {
      "text/plain": [
       "count    16237.000000\n",
       "mean     14256.666810\n",
       "std       8665.416021\n",
       "min        181.000000\n",
       "25%       9380.000000\n",
       "50%      13114.000000\n",
       "75%      16268.000000\n",
       "max      65968.000000\n",
       "Name: cityCenters_nearest, dtype: float64"
      ]
     },
     "execution_count": 90,
     "metadata": {},
     "output_type": "execute_result"
    }
   ],
   "source": [
    "data['cityCenters_nearest'].describe()"
   ]
  },
  {
   "cell_type": "markdown",
   "metadata": {},
   "source": [
    "*Межквартильный размах выборки - от 9380 до 16293 метров. Минимальное значение - 181 м., максимальное - 65968 м., медиана - 13114 м.*"
   ]
  },
  {
   "cell_type": "markdown",
   "metadata": {},
   "source": [
    "#### Исследование параметра \"Расстояние до аэропорта в метрах\""
   ]
  },
  {
   "cell_type": "markdown",
   "metadata": {},
   "source": [
    "*Ознакомимся с характером распределения значений в этом столбце, построим гистограмму:*"
   ]
  },
  {
   "cell_type": "code",
   "execution_count": 91,
   "metadata": {},
   "outputs": [
    {
     "data": {
      "text/plain": [
       "<AxesSubplot:ylabel='Frequency'>"
      ]
     },
     "execution_count": 91,
     "metadata": {},
     "output_type": "execute_result"
    },
    {
     "data": {
      "image/png": "[encoded data removed]",
      "text/plain": [
       "<Figure size 432x288 with 1 Axes>"
      ]
     },
     "metadata": {
      "needs_background": "light"
     },
     "output_type": "display_data"
    }
   ],
   "source": [
    "#используем plot, чтобы указать доп.настройки\n",
    "data.plot(\n",
    "    kind='hist',\n",
    "    y='airports_nearest',\n",
    "    bins=50,\n",
    "    linewidth=5,\n",
    "    alpha=0.7,\n",
    "    label='Airport in metres',\n",
    "     grid=True,    \n",
    "    legend=True,\n",
    "    color='purple'\n",
    ")"
   ]
  },
  {
   "cell_type": "markdown",
   "metadata": {},
   "source": [
    "*Наиболее часто объекты недвижимости в выборке расположены приблизительно в 16-25 км. от аэропорта. Несмотря на наличие некоторых пиков, в целом график распределения совпадает с нормальным.*"
   ]
  },
  {
   "cell_type": "code",
   "execution_count": 92,
   "metadata": {},
   "outputs": [
    {
     "data": {
      "text/plain": [
       "count    16216.000000\n",
       "mean     28783.158300\n",
       "std      12659.846783\n",
       "min          0.000000\n",
       "25%      18506.750000\n",
       "50%      26711.000000\n",
       "75%      37227.000000\n",
       "max      84869.000000\n",
       "Name: airports_nearest, dtype: float64"
      ]
     },
     "execution_count": 92,
     "metadata": {},
     "output_type": "execute_result"
    }
   ],
   "source": [
    "data['airports_nearest'].describe()"
   ]
  },
  {
   "cell_type": "markdown",
   "metadata": {},
   "source": [
    "*Межквартильный размах выборки - от 18507 до 37227 м., минимальное значение в 0 метров настораживает, скорее всего это аномалия.*"
   ]
  },
  {
   "cell_type": "markdown",
   "metadata": {},
   "source": [
    "#### Исследование параметра \"Расстояние до ближайшего парка\""
   ]
  },
  {
   "cell_type": "markdown",
   "metadata": {},
   "source": [
    "*Изучим распределение значений, постоим гистограмму:*"
   ]
  },
  {
   "cell_type": "code",
   "execution_count": 93,
   "metadata": {},
   "outputs": [
    {
     "data": {
      "text/plain": [
       "<AxesSubplot:ylabel='Frequency'>"
      ]
     },
     "execution_count": 93,
     "metadata": {},
     "output_type": "execute_result"
    },
    {
     "data": {
      "image/png": "[encoded data removed]",
      "text/plain": [
       "<Figure size 432x288 with 1 Axes>"
      ]
     },
     "metadata": {
      "needs_background": "light"
     },
     "output_type": "display_data"
    }
   ],
   "source": [
    "#используем plot, чтобы указать доп.настройки\n",
    "data.plot(\n",
    "    kind='hist',\n",
    "    y='parks_nearest',\n",
    "    bins=50,\n",
    "    linewidth=5,\n",
    "    alpha=0.7,\n",
    "    label='Park in metres',\n",
    "     grid=True,    \n",
    "    legend=True,\n",
    "    color='yellow'\n",
    ")"
   ]
  },
  {
   "cell_type": "markdown",
   "metadata": {},
   "source": [
    "*Данные о расстоянии до парка распределены довольно нормально, чаще всего квартиры находятся на расстоянии от 400 до 500 м. от парка (пиковые значения гистограммы)*"
   ]
  },
  {
   "cell_type": "code",
   "execution_count": 94,
   "metadata": {},
   "outputs": [
    {
     "data": {
      "text/plain": [
       "count    7215.000000\n",
       "mean      488.171171\n",
       "std       337.308354\n",
       "min         1.000000\n",
       "25%       288.000000\n",
       "50%       454.000000\n",
       "75%       610.000000\n",
       "max      3190.000000\n",
       "Name: parks_nearest, dtype: float64"
      ]
     },
     "execution_count": 94,
     "metadata": {},
     "output_type": "execute_result"
    }
   ],
   "source": [
    "data['parks_nearest'].describe()"
   ]
  },
  {
   "cell_type": "markdown",
   "metadata": {},
   "source": [
    "*Межквартильный размах выборки - от 288 до 610 метров. Минимальное значение - 1м., оно имеет право на существование в реальности, если дом расположен, например, внутри парка.*"
   ]
  },
  {
   "cell_type": "markdown",
   "metadata": {},
   "source": [
    "#### Исследование параметра \"День публикации объявления\""
   ]
  },
  {
   "cell_type": "markdown",
   "metadata": {},
   "source": [
    "*Проверим, как распределены по выборке значения дня недели публикации объявления. Построим гистограмму:*"
   ]
  },
  {
   "cell_type": "code",
   "execution_count": 95,
   "metadata": {},
   "outputs": [
    {
     "data": {
      "text/plain": [
       "<AxesSubplot:ylabel='Frequency'>"
      ]
     },
     "execution_count": 95,
     "metadata": {},
     "output_type": "execute_result"
    },
    {
     "data": {
      "image/png": "[encoded data removed]",
      "text/plain": [
       "<Figure size 432x288 with 1 Axes>"
      ]
     },
     "metadata": {
      "needs_background": "light"
     },
     "output_type": "display_data"
    }
   ],
   "source": [
    "#используем plot, чтобы указать доп.настройки\n",
    "data.plot(\n",
    "    kind='hist',\n",
    "    y='week_day',\n",
    "    bins=50,\n",
    "    linewidth=5,\n",
    "    alpha=0.7,\n",
    "    label='Week day',\n",
    "     grid=True,    \n",
    "    legend=True,\n",
    "    color='deeppink'\n",
    ")"
   ]
  },
  {
   "cell_type": "markdown",
   "metadata": {},
   "source": [
    "*По гистограмме видно, что наибольшее количество объявлений о продаже квартир было опубликовано в рабочие дни. В выходные (5-й и 6-й день) количество публикаций заметно меньше*"
   ]
  },
  {
   "cell_type": "markdown",
   "metadata": {},
   "source": [
    "#### Исследование параметра \"Месяц публикации объявления\""
   ]
  },
  {
   "cell_type": "markdown",
   "metadata": {},
   "source": []
  },
  {
   "cell_type": "code",
   "execution_count": 96,
   "metadata": {},
   "outputs": [
    {
     "data": {
      "text/plain": [
       "<AxesSubplot:ylabel='Frequency'>"
      ]
     },
     "execution_count": 96,
     "metadata": {},
     "output_type": "execute_result"
    },
    {
     "data": {
      "image/png": "[encoded data removed]",
      "text/plain": [
       "<Figure size 432x288 with 1 Axes>"
      ]
     },
     "metadata": {
      "needs_background": "light"
     },
     "output_type": "display_data"
    }
   ],
   "source": [
    "#используем plot, чтобы указать доп.настройки\n",
    "data.plot(\n",
    "    kind='hist',\n",
    "    y='month',\n",
    "    bins=50,\n",
    "    linewidth=5,\n",
    "    alpha=0.7,\n",
    "    label='Month',\n",
    "     grid=True,    \n",
    "    legend=True,\n",
    "    color='orange'\n",
    ")"
   ]
  },
  {
   "cell_type": "markdown",
   "metadata": {},
   "source": [
    "*Наибольшее количество объявлений о продаже публикуется в феврале-апреле, а также с августа по ноябрь. В декабре-январе и в летние месяцы наблюдается спад активности. Скорее всего это связано с новогодними каникулами и сезоном отпусков.*"
   ]
  },
  {
   "cell_type": "markdown",
   "metadata": {},
   "source": [
    "#### Оценка скорости продажи объектов недвижимости (столбец days_exposition)"
   ]
  },
  {
   "cell_type": "markdown",
   "metadata": {},
   "source": [
    "*Оценим, как быстро продаются квартиры, построим гистограмму по столбцу days_exposition*"
   ]
  },
  {
   "cell_type": "code",
   "execution_count": 97,
   "metadata": {},
   "outputs": [
    {
     "data": {
      "text/plain": [
       "<AxesSubplot:ylabel='Frequency'>"
      ]
     },
     "execution_count": 97,
     "metadata": {},
     "output_type": "execute_result"
    },
    {
     "data": {
      "image/png": "[encoded data removed]",
      "text/plain": [
       "<Figure size 432x288 with 1 Axes>"
      ]
     },
     "metadata": {
      "needs_background": "light"
     },
     "output_type": "display_data"
    }
   ],
   "source": [
    "#используем plot, чтобы указать доп.настройки\n",
    "data.plot(\n",
    "    kind='hist',\n",
    "    y='days_exposition',\n",
    "    bins=150,\n",
    "    linewidth=5,\n",
    "    alpha=0.7,\n",
    "    label='Selling speed',\n",
    "     grid=True,    \n",
    "    legend=True,\n",
    "    color='blue'\n",
    ")"
   ]
  },
  {
   "cell_type": "markdown",
   "metadata": {},
   "source": [
    "*Пик гистограммы показывает значение от 0 до 50 дней, это говорит о том, что рынок недвижимости очень активный, чаще всего квартира продается в течении приблизительно 2 месяцев с момента размещения объявления. У гистограммы практически отсутствует \"левый ус\" - область с маленькими значениями, а вот \"правый ус\" довольно длинный и тянется практически до 1600 дней. \n",
    "Продажа недвижимости - довольно сложный процесс. Сначала нужно организовать просмотр, в случае нахождения покупателей - получить аванс, затем подготовить необходимый пакет документов. На мой взгляд, продажа квартиры в срок до 30 дней можно считать очень быстрой.*"
   ]
  },
  {
   "cell_type": "markdown",
   "metadata": {},
   "source": [
    "*Рассмотрим более детально описание данной выборки:*"
   ]
  },
  {
   "cell_type": "code",
   "execution_count": 98,
   "metadata": {},
   "outputs": [
    {
     "data": {
      "text/plain": [
       "count    18007.000000\n",
       "mean       185.454768\n",
       "std        221.838157\n",
       "min          1.000000\n",
       "25%         45.000000\n",
       "50%        102.000000\n",
       "75%        239.000000\n",
       "max       1580.000000\n",
       "Name: days_exposition, dtype: float64"
      ]
     },
     "execution_count": 98,
     "metadata": {},
     "output_type": "execute_result"
    }
   ],
   "source": [
    "data['days_exposition'].describe()"
   ]
  },
  {
   "cell_type": "markdown",
   "metadata": {},
   "source": [
    "*Межквартильный размах выборки - от 45 до 239 дней. \n",
    "Можно сделать вывод, что продажа квартиры в срок до 45 дней является быстрой, а свыше 239 дней - необычно долгой. \n",
    "У выборки большой разброс данных (стандартное отклонение составляет 221 дней), поэтому более информативно для нас медианное значение - 102 дня (среднее - 185), столько дней в среднем занимает продажа на основе имеющихся данных.*"
   ]
  },
  {
   "cell_type": "markdown",
   "metadata": {},
   "source": [
    "*Рассмотрим более детально диапазон продаж от 0 до 100 дней*"
   ]
  },
  {
   "cell_type": "code",
   "execution_count": 99,
   "metadata": {},
   "outputs": [
    {
     "data": {
      "image/png": "[encoded data removed]",
      "text/plain": [
       "<Figure size 432x288 with 1 Axes>"
      ]
     },
     "metadata": {
      "needs_background": "light"
     },
     "output_type": "display_data"
    }
   ],
   "source": [
    "#используем plot, чтобы указать доп.настройки\n",
    "data.plot(\n",
    "    kind='hist',\n",
    "    y='days_exposition',\n",
    "    bins=150,\n",
    "    linewidth=5,\n",
    "    range = (0, 100),\n",
    "    alpha=0.7,\n",
    "    label='Selling speed',\n",
    "     grid=True,    \n",
    "    legend=True,\n",
    "    color='blue'\n",
    ");"
   ]
  },
  {
   "cell_type": "markdown",
   "metadata": {},
   "source": [
    "*На гистограмме выделяются отдельные пики в 30, 45 и 60 дней.*"
   ]
  },
  {
   "cell_type": "markdown",
   "metadata": {},
   "source": [
    "#### Оценка зависимости цены квартиры от общей площади, количества комнат и ряда других параметров."
   ]
  },
  {
   "cell_type": "markdown",
   "metadata": {},
   "source": [
    "*Оценим зависимость стоимости квартиры от каких параметров, как:*\n",
    "- общая площадь\n",
    "- жилая площадь\n",
    "- площадь кухни\n",
    "- количество комнат\n",
    "- этаж, на котором расположена квартиры\n",
    "- день недели размещения объявления\n",
    "- месяц размещения объявления\n",
    "- год размещения объявления\n",
    "\n",
    "*Построим матрицу корреляции по соответствующим столбцам датасета и вычислим коэффициент корреляции Пирсона. С такими параметрами, как этаж, день, месяц и год, стоимость квартир имеет нелинейную зависимость, поэтому данные столбцы в матрицу включать не будем. По ним построим отдельные графики зависимостей.*"
   ]
  },
  {
   "cell_type": "code",
   "execution_count": 100,
   "metadata": {},
   "outputs": [
    {
     "data": {
      "text/html": [
       "<style  type=\"text/css\" >\n",
       "#T_e93e2_row0_col0,#T_e93e2_row1_col1,#T_e93e2_row2_col2,#T_e93e2_row3_col3,#T_e93e2_row4_col4{\n",
       "            background-color:  #b40426;\n",
       "            color:  #f1f1f1;\n",
       "        }#T_e93e2_row0_col1{\n",
       "            background-color:  #7da0f9;\n",
       "            color:  #000000;\n",
       "        }#T_e93e2_row0_col2{\n",
       "            background-color:  #7699f6;\n",
       "            color:  #000000;\n",
       "        }#T_e93e2_row0_col3{\n",
       "            background-color:  #a7c5fe;\n",
       "            color:  #000000;\n",
       "        }#T_e93e2_row0_col4{\n",
       "            background-color:  #98b9ff;\n",
       "            color:  #000000;\n",
       "        }#T_e93e2_row1_col0{\n",
       "            background-color:  #d2dbe8;\n",
       "            color:  #000000;\n",
       "        }#T_e93e2_row1_col2{\n",
       "            background-color:  #f7aa8c;\n",
       "            color:  #000000;\n",
       "        }#T_e93e2_row1_col3{\n",
       "            background-color:  #d65244;\n",
       "            color:  #000000;\n",
       "        }#T_e93e2_row1_col4{\n",
       "            background-color:  #cdd9ec;\n",
       "            color:  #000000;\n",
       "        }#T_e93e2_row2_col0,#T_e93e2_row2_col4,#T_e93e2_row4_col1,#T_e93e2_row4_col2,#T_e93e2_row4_col3{\n",
       "            background-color:  #3b4cc0;\n",
       "            color:  #f1f1f1;\n",
       "        }#T_e93e2_row2_col1{\n",
       "            background-color:  #d5dbe5;\n",
       "            color:  #000000;\n",
       "        }#T_e93e2_row2_col3{\n",
       "            background-color:  #f39577;\n",
       "            color:  #000000;\n",
       "        }#T_e93e2_row3_col0{\n",
       "            background-color:  #abc8fd;\n",
       "            color:  #000000;\n",
       "        }#T_e93e2_row3_col1{\n",
       "            background-color:  #e26952;\n",
       "            color:  #000000;\n",
       "        }#T_e93e2_row3_col2{\n",
       "            background-color:  #ec8165;\n",
       "            color:  #000000;\n",
       "        }#T_e93e2_row3_col4{\n",
       "            background-color:  #7a9df8;\n",
       "            color:  #000000;\n",
       "        }#T_e93e2_row4_col0{\n",
       "            background-color:  #5f7fe8;\n",
       "            color:  #000000;\n",
       "        }</style><table id=\"T_e93e2_\" ><thead>    <tr>        <th class=\"blank level0\" ></th>        <th class=\"col_heading level0 col0\" >last_price</th>        <th class=\"col_heading level0 col1\" >total_area</th>        <th class=\"col_heading level0 col2\" >rooms</th>        <th class=\"col_heading level0 col3\" >living_area</th>        <th class=\"col_heading level0 col4\" >kitchen_area</th>    </tr></thead><tbody>\n",
       "                <tr>\n",
       "                        <th id=\"T_e93e2_level0_row0\" class=\"row_heading level0 row0\" >last_price</th>\n",
       "                        <td id=\"T_e93e2_row0_col0\" class=\"data row0 col0\" >1.000000</td>\n",
       "                        <td id=\"T_e93e2_row0_col1\" class=\"data row0 col1\" >0.669177</td>\n",
       "                        <td id=\"T_e93e2_row0_col2\" class=\"data row0 col2\" >0.390400</td>\n",
       "                        <td id=\"T_e93e2_row0_col3\" class=\"data row0 col3\" >0.595590</td>\n",
       "                        <td id=\"T_e93e2_row0_col4\" class=\"data row0 col4\" >0.463484</td>\n",
       "            </tr>\n",
       "            <tr>\n",
       "                        <th id=\"T_e93e2_level0_row1\" class=\"row_heading level0 row1\" >total_area</th>\n",
       "                        <td id=\"T_e93e2_row1_col0\" class=\"data row1 col0\" >0.669177</td>\n",
       "                        <td id=\"T_e93e2_row1_col1\" class=\"data row1 col1\" >1.000000</td>\n",
       "                        <td id=\"T_e93e2_row1_col2\" class=\"data row1 col2\" >0.780032</td>\n",
       "                        <td id=\"T_e93e2_row1_col3\" class=\"data row1 col3\" >0.940173</td>\n",
       "                        <td id=\"T_e93e2_row1_col4\" class=\"data row1 col4\" >0.582964</td>\n",
       "            </tr>\n",
       "            <tr>\n",
       "                        <th id=\"T_e93e2_level0_row2\" class=\"row_heading level0 row2\" >rooms</th>\n",
       "                        <td id=\"T_e93e2_row2_col0\" class=\"data row2 col0\" >0.390400</td>\n",
       "                        <td id=\"T_e93e2_row2_col1\" class=\"data row2 col1\" >0.780032</td>\n",
       "                        <td id=\"T_e93e2_row2_col2\" class=\"data row2 col2\" >1.000000</td>\n",
       "                        <td id=\"T_e93e2_row2_col3\" class=\"data row2 col3\" >0.856241</td>\n",
       "                        <td id=\"T_e93e2_row2_col4\" class=\"data row2 col4\" >0.252261</td>\n",
       "            </tr>\n",
       "            <tr>\n",
       "                        <th id=\"T_e93e2_level0_row3\" class=\"row_heading level0 row3\" >living_area</th>\n",
       "                        <td id=\"T_e93e2_row3_col0\" class=\"data row3 col0\" >0.595590</td>\n",
       "                        <td id=\"T_e93e2_row3_col1\" class=\"data row3 col1\" >0.940173</td>\n",
       "                        <td id=\"T_e93e2_row3_col2\" class=\"data row3 col2\" >0.856241</td>\n",
       "                        <td id=\"T_e93e2_row3_col3\" class=\"data row3 col3\" >1.000000</td>\n",
       "                        <td id=\"T_e93e2_row3_col4\" class=\"data row3 col4\" >0.399459</td>\n",
       "            </tr>\n",
       "            <tr>\n",
       "                        <th id=\"T_e93e2_level0_row4\" class=\"row_heading level0 row4\" >kitchen_area</th>\n",
       "                        <td id=\"T_e93e2_row4_col0\" class=\"data row4 col0\" >0.463484</td>\n",
       "                        <td id=\"T_e93e2_row4_col1\" class=\"data row4 col1\" >0.582964</td>\n",
       "                        <td id=\"T_e93e2_row4_col2\" class=\"data row4 col2\" >0.252261</td>\n",
       "                        <td id=\"T_e93e2_row4_col3\" class=\"data row4 col3\" >0.399459</td>\n",
       "                        <td id=\"T_e93e2_row4_col4\" class=\"data row4 col4\" >1.000000</td>\n",
       "            </tr>\n",
       "    </tbody></table>"
      ],
      "text/plain": [
       "<pandas.io.formats.style.Styler at 0x7f5fbf77ae50>"
      ]
     },
     "execution_count": 100,
     "metadata": {},
     "output_type": "execute_result"
    }
   ],
   "source": [
    "#перечень нужных столбцов записываем в переменную\n",
    "numeric_col = ['last_price', 'total_area', 'rooms', 'living_area', 'kitchen_area']\n",
    "#с помощью метода corr() находим коэффициент корреляции \n",
    "corr = data.loc[:, numeric_col].corr()\n",
    "#раскрашиваем ячейки для большей наглядности\n",
    "corr.style.background_gradient(cmap='coolwarm')\n"
   ]
  },
  {
   "cell_type": "markdown",
   "metadata": {},
   "source": [
    "Главную ценность представляет первая строка матрицы. По ней видно, что:\n",
    "- между ценой и общей площадью сильная линейная связь, коэффициент положительный и близок к 1, значит при увеличении общей площади увеличивается и цена\n",
    "- количество комнат и цена так же имеют зависимость, но связь умеренная, при увеличении количества комнат цена так же возрастает, но в меньшей степени, чем при увеличении общей площади\n",
    "- между жилой площадью и ценой имеется сильная линейная связь, при увеличении жилой площади увеличивается и цена\n",
    "- площадь кухни и цена имеют умеренную линейную связь, при увеличении площади кухни цена увеличивается, но в меньшей степени, чем, к примеру, от общей площади\n"
   ]
  },
  {
   "cell_type": "markdown",
   "metadata": {},
   "source": [
    "*Чтобы получить еще более визуальное представление о связи общей площади со стоимостью квартиры построим диаграмму рассеяния:*"
   ]
  },
  {
   "cell_type": "code",
   "execution_count": 101,
   "metadata": {},
   "outputs": [
    {
     "data": {
      "text/plain": [
       "Text(0, 0.5, 'Площадь, кв.м.')"
      ]
     },
     "execution_count": 101,
     "metadata": {},
     "output_type": "execute_result"
    },
    {
     "data": {
      "image/png": "[encoded data removed]",
      "text/plain": [
       "<Figure size 720x504 with 1 Axes>"
      ]
     },
     "metadata": {
      "needs_background": "light"
     },
     "output_type": "display_data"
    }
   ],
   "source": [
    "#строим диаграмму рассеяния с помощью библиотеки seaborn\n",
    "fig = plt.figure(figsize=(10,7))\n",
    "sns.regplot(x=data['last_price'],y=data['total_area'],color='blue', marker='+')\n",
    "\n",
    "\n",
    "#Легенда, заголовок и подписи осей\n",
    "plt.title('Зависимость между общей площадью и рыночной стоимостью', size=18)\n",
    "plt.xlabel('Цена, руб.', size=14)\n",
    "plt.ylabel('Площадь, кв.м.', size=14)"
   ]
  },
  {
   "cell_type": "markdown",
   "metadata": {},
   "source": [
    "*График имеет вид наклонного облака, что говорит о линейной связи. Однако в выборке имеются данные, выбивающиеся из общего тренда - квартиры с высокой стоимостью и маленькой площадью и наоборот. Можно сказать, что для диапазона площади от 0 до 300 кв.м. и цены до 50 000 000 между величинами сильная линейная связь, при выходе из этого диапазона характер связи либо усложняется, возможно, вследствие влияния других факторов, либо в выборке присутствуют выбросы.*"
   ]
  },
  {
   "cell_type": "markdown",
   "metadata": {},
   "source": [
    "*Зависимость между жилой площадью и стоимостью квартиры в визуальном представлении:*                        "
   ]
  },
  {
   "cell_type": "code",
   "execution_count": 102,
   "metadata": {},
   "outputs": [
    {
     "data": {
      "text/plain": [
       "Text(0, 0.5, 'Жилая площадь, кв.м.')"
      ]
     },
     "execution_count": 102,
     "metadata": {},
     "output_type": "execute_result"
    },
    {
     "data": {
      "image/png": "[encoded data removed]",
      "text/plain": [
       "<Figure size 720x504 with 1 Axes>"
      ]
     },
     "metadata": {
      "needs_background": "light"
     },
     "output_type": "display_data"
    }
   ],
   "source": [
    "#строим диаграмму рассеяния с помощью библиотеки seaborn\n",
    "fig = plt.figure(figsize=(10,7))\n",
    "sns.regplot(x=data['last_price'],y=data['living_area'],color='magenta', marker='+')\n",
    "\n",
    "\n",
    "#Легенда, заголовок и подписи осей\n",
    "plt.title('Зависимость между жилой площадью и рыночной стоимостью', size=18)\n",
    "plt.xlabel('Цена, руб.', size=14)\n",
    "plt.ylabel('Жилая площадь, кв.м.', size=14)"
   ]
  },
  {
   "cell_type": "markdown",
   "metadata": {},
   "source": [
    "*Вид диаграммы рассеяния практически повторяет построенную для параметра жилой площади, что вполне логично, так как параметры имеют общую природу.*"
   ]
  },
  {
   "cell_type": "code",
   "execution_count": 103,
   "metadata": {},
   "outputs": [
    {
     "data": {
      "text/plain": [
       "Text(0, 0.5, 'Площадь кухни, кв.м.')"
      ]
     },
     "execution_count": 103,
     "metadata": {},
     "output_type": "execute_result"
    },
    {
     "data": {
      "image/png": "[encoded data removed]",
      "text/plain": [
       "<Figure size 720x504 with 1 Axes>"
      ]
     },
     "metadata": {
      "needs_background": "light"
     },
     "output_type": "display_data"
    }
   ],
   "source": [
    "#строим диаграмму рассеяния с помощью библиотеки seaborn\n",
    "fig = plt.figure(figsize=(10,7))\n",
    "sns.regplot(x=data['last_price'],y=data['kitchen_area'],color='green', marker='+')\n",
    "\n",
    "\n",
    "#Легенда, заголовок и подписи осей\n",
    "plt.title('Зависимость между площадью кухни и рыночной стоимостью', size=18)\n",
    "plt.xlabel('Цена, руб.', size=14)\n",
    "plt.ylabel('Площадь кухни, кв.м.', size=14)"
   ]
  },
  {
   "cell_type": "markdown",
   "metadata": {},
   "source": [
    "*Угол поворота облака чуть меньше, чем у предыдущих параметров. Это подтверждается значением коэффициента корреляции, он ниже. Также видно, что квартиры со стоимостью свыше 50 000 000 практически не зависят от площади кухни, либо это выбросы данных*"
   ]
  },
  {
   "cell_type": "code",
   "execution_count": 104,
   "metadata": {},
   "outputs": [
    {
     "data": {
      "text/plain": [
       "Text(0, 0.5, 'Кол-во комнат')"
      ]
     },
     "execution_count": 104,
     "metadata": {},
     "output_type": "execute_result"
    },
    {
     "data": {
      "image/png": "[encoded data removed]",
      "text/plain": [
       "<Figure size 720x504 with 1 Axes>"
      ]
     },
     "metadata": {
      "needs_background": "light"
     },
     "output_type": "display_data"
    }
   ],
   "source": [
    "#строим диаграмму рассеяния с помощью библиотеки seaborn\n",
    "fig = plt.figure(figsize=(10,7))\n",
    "sns.regplot(x=data['last_price'],y=data['rooms'],color='deeppink', marker='+')\n",
    "\n",
    "\n",
    "#Легенда, заголовок и подписи осей\n",
    "plt.title('Зависимость между количеством комнат и рыночной стоимостью', size=18)\n",
    "plt.xlabel('Цена, руб.', size=14)\n",
    "plt.ylabel('Кол-во комнат', size=14)"
   ]
  },
  {
   "cell_type": "markdown",
   "metadata": {},
   "source": [
    "*По графику видно, что при увеличении количества комнат свыше 6 характер зависимости между этими величинами перестает быть линейным и становится более сложным.* "
   ]
  },
  {
   "cell_type": "markdown",
   "metadata": {},
   "source": [
    "*Для таких параметров, как этаж расположения квартиры, дата, месяц, год размещения объявления необходимо исследовать нелинейную связь со стоимостью. Попробуем выявить зависимость между этими параметрами, используя построение графиков медианной цены.*"
   ]
  },
  {
   "cell_type": "code",
   "execution_count": 105,
   "metadata": {},
   "outputs": [
    {
     "name": "stdout",
     "output_type": "stream",
     "text": [
      "            median_price\n",
      "floor_type              \n",
      "другой              4.90\n",
      "первый              3.95\n",
      "последний           4.35\n"
     ]
    }
   ],
   "source": [
    "#найдем медианное значение цены по каждому типу этажа, построим сводную таблицу\n",
    "data_floor = data.pivot_table(index = 'floor_type', values = 'last_price', aggfunc = ['median'])\n",
    "data_floor.columns = ['median_price']\n",
    "print(data_floor)"
   ]
  },
  {
   "cell_type": "code",
   "execution_count": 106,
   "metadata": {},
   "outputs": [
    {
     "data": {
      "text/plain": [
       "Text(0, 0.5, 'Цена, млн.руб.')"
      ]
     },
     "execution_count": 106,
     "metadata": {},
     "output_type": "execute_result"
    },
    {
     "data": {
      "image/png": "[encoded data removed]",
      "text/plain": [
       "<Figure size 720x360 with 1 Axes>"
      ]
     },
     "metadata": {
      "needs_background": "light"
     },
     "output_type": "display_data"
    }
   ],
   "source": [
    "#построим столбчатую диаграмму по данным полученной сводной таблицы \n",
    "(\n",
    "    data_floor\n",
    "    .sort_values(by = 'median_price')\n",
    "    .plot(y = 'median_price', kind = 'bar', grid = True, figsize = (10, 5))\n",
    ")\n",
    "#Легенда, заголовок и подписи осей\n",
    "plt.title('Зависимость между типом этажа и рыночной стоимостью', size=16)\n",
    "plt.xlabel('Тип этажа', size=14)\n",
    "plt.ylabel('Цена, млн.руб.', size=14)"
   ]
  },
  {
   "cell_type": "markdown",
   "metadata": {},
   "source": [
    "*Данный график показывает, что квартиры, расположенные на первом и последнем этажах, стоят в среднем меньше. Предельная разница в средней стоимости квартир на первом этаже и средней стоимости квартир, расположенных выше, составляет 950 000 рублей*"
   ]
  },
  {
   "cell_type": "code",
   "execution_count": 107,
   "metadata": {},
   "outputs": [
    {
     "name": "stdout",
     "output_type": "stream",
     "text": [
      "          median_price\n",
      "week_day              \n",
      "0             4.700000\n",
      "1             4.750000\n",
      "2             4.725142\n",
      "3             4.700000\n",
      "4             4.600000\n",
      "5             4.600000\n",
      "6             4.570000\n"
     ]
    }
   ],
   "source": [
    "#сгруппируем данные по дням недели, найдем медианную цену для каждого из дней с помощью сводной таблицы\n",
    "data_day = data.pivot_table(index = 'week_day', values = 'last_price', aggfunc = ['median'])\n",
    "data_day.columns = ['median_price']\n",
    "print(data_day)"
   ]
  },
  {
   "cell_type": "code",
   "execution_count": 108,
   "metadata": {},
   "outputs": [
    {
     "data": {
      "text/plain": [
       "Text(0, 0.5, 'Цена, млн.руб.')"
      ]
     },
     "execution_count": 108,
     "metadata": {},
     "output_type": "execute_result"
    },
    {
     "data": {
      "image/png": "[encoded data removed]",
      "text/plain": [
       "<Figure size 720x360 with 1 Axes>"
      ]
     },
     "metadata": {
      "needs_background": "light"
     },
     "output_type": "display_data"
    }
   ],
   "source": [
    "#построим столбчатую диаграмму по данным полученной сводной таблицы \n",
    "(\n",
    "    data_day\n",
    "    \n",
    "    .plot(y = 'median_price', kind = 'bar', grid = True, figsize = (10, 5))\n",
    ")\n",
    "#Легенда, заголовок и подписи осей\n",
    "plt.title('Зависимость между днем размещения объявления и рыночной стоимостью', size=12)\n",
    "plt.xlabel('День недели', size=10)\n",
    "plt.ylabel('Цена, млн.руб.', size=10)"
   ]
  },
  {
   "cell_type": "markdown",
   "metadata": {},
   "source": [
    "*Медианные значения цены по каждому из дней недели не сильно отличаются друг от друга, что говорит об отсутствии влияния данного параметра на рыночную стоимость квартиры*"
   ]
  },
  {
   "cell_type": "code",
   "execution_count": 109,
   "metadata": {},
   "outputs": [
    {
     "name": "stdout",
     "output_type": "stream",
     "text": [
      "       median_price\n",
      "month              \n",
      "1             4.650\n",
      "2             4.700\n",
      "3             4.700\n",
      "4             4.800\n",
      "5             4.550\n",
      "6             4.490\n",
      "7             4.650\n",
      "8             4.600\n",
      "9             4.740\n",
      "10            4.575\n",
      "11            4.700\n",
      "12            4.850\n"
     ]
    }
   ],
   "source": [
    "#сгруппируем данные по месяцам, найдем медианную цену для каждого месяца с помощью сводной таблицы\n",
    "data_month = data.pivot_table(index = 'month', values = 'last_price', aggfunc = ['median'])\n",
    "data_month.columns = ['median_price']\n",
    "print(data_month)"
   ]
  },
  {
   "cell_type": "code",
   "execution_count": 110,
   "metadata": {},
   "outputs": [
    {
     "data": {
      "text/plain": [
       "Text(0, 0.5, 'Цена, млн.руб.')"
      ]
     },
     "execution_count": 110,
     "metadata": {},
     "output_type": "execute_result"
    },
    {
     "data": {
      "image/png": "[encoded data removed]",
      "text/plain": [
       "<Figure size 720x360 with 1 Axes>"
      ]
     },
     "metadata": {
      "needs_background": "light"
     },
     "output_type": "display_data"
    }
   ],
   "source": [
    "#построим столбчатую диаграмму по данным полученной сводной таблицы \n",
    "(\n",
    "    data_month\n",
    "    \n",
    "    .plot(y = 'median_price', kind = 'bar', grid = True, figsize = (10, 5))\n",
    ")\n",
    "#Легенда, заголовок и подписи осей\n",
    "plt.title('Зависимость между месяцем размещения объявления и рыночной стоимостью', size=12)\n",
    "plt.xlabel('Месяц', size=10)\n",
    "plt.ylabel('Цена, млн.руб.', size=10)"
   ]
  },
  {
   "cell_type": "markdown",
   "metadata": {},
   "source": [
    "*Медианные значения цены по каждому месяцу слегка напоминают кривую потребительского спроса с \"проседанием\" в начале лета и конце осени. Однако разница в значениях цен небольшая, что говорит о слабом влиянии этого параметра на рыночную стоимость квартиры*"
   ]
  },
  {
   "cell_type": "code",
   "execution_count": 111,
   "metadata": {},
   "outputs": [
    {
     "name": "stdout",
     "output_type": "stream",
     "text": [
      "      median_price\n",
      "year              \n",
      "2014       7.58000\n",
      "2015       5.24450\n",
      "2016       4.55000\n",
      "2017       4.50000\n",
      "2018       4.62827\n",
      "2019       5.05000\n"
     ]
    }
   ],
   "source": [
    "#сгруппируем данные по годам, найдем медианную цену для каждого года с помощью сводной таблицы\n",
    "data_year = data.pivot_table(index = 'year', values = 'last_price', aggfunc = ['median'])\n",
    "data_year.columns = ['median_price']\n",
    "print(data_year)"
   ]
  },
  {
   "cell_type": "code",
   "execution_count": 112,
   "metadata": {},
   "outputs": [
    {
     "data": {
      "text/plain": [
       "Text(0, 0.5, 'Цена, млн.руб.')"
      ]
     },
     "execution_count": 112,
     "metadata": {},
     "output_type": "execute_result"
    },
    {
     "data": {
      "image/png": "[encoded data removed]",
      "text/plain": [
       "<Figure size 720x360 with 1 Axes>"
      ]
     },
     "metadata": {
      "needs_background": "light"
     },
     "output_type": "display_data"
    }
   ],
   "source": [
    "#построим столбчатую диаграмму по данным полученной сводной таблицы \n",
    "(\n",
    "    data_year\n",
    "    \n",
    "    .plot(y = 'median_price', kind = 'bar', grid = True, figsize = (10, 5))\n",
    ")\n",
    "#Легенда, заголовок и подписи осей\n",
    "plt.title('Зависимость между годом размещения объявления и рыночной стоимостью', size=12)\n",
    "plt.xlabel('Год', size=10)\n",
    "plt.ylabel('Цена, млн.руб.', size=10)"
   ]
  },
  {
   "cell_type": "markdown",
   "metadata": {},
   "source": [
    "*В выборке присутствуют данные за период с 2014 по 2019 годы. Анализ медианной стоимости квартир показал, что стоимость жилья в 2014 году была самой высокой. Затем произошел резкий спад цен, который продолжался до 2016 года. Начиная с 2017 года стоимость объектов недвижимости повышается в пределах 2-8%.*"
   ]
  },
  {
   "cell_type": "markdown",
   "metadata": {},
   "source": [
    "#### Населенные пункты с самой высокой и самой низкой стоимостью квадратного метра"
   ]
  },
  {
   "cell_type": "markdown",
   "metadata": {},
   "source": [
    "*Найдем населенные пункты с наибольшим числом объявлений*"
   ]
  },
  {
   "cell_type": "code",
   "execution_count": 113,
   "metadata": {},
   "outputs": [
    {
     "name": "stdout",
     "output_type": "stream",
     "text": [
      "                   mean_square_price  count\n",
      "locality_name                              \n",
      "Санкт-Петербург             113275.8  13984\n",
      "поселок Мурино               85364.5    429\n",
      "поселок Шушары               78393.7    392\n",
      "Всеволожск                   69029.2    357\n",
      "Пушкин                      103078.7    332\n",
      "Колпино                      75226.3    322\n",
      "Гатчина                      68635.6    290\n",
      "поселок Парголово            90756.0    288\n",
      "деревня Кудрово              92248.5    226\n",
      "Выборг                       58319.4    190\n"
     ]
    }
   ],
   "source": [
    "#группируем данные по населенному пункту, вычисляем количество объявлений и среднюю стоимость квадратного метра\n",
    "data_grouped = data.pivot_table(index = 'locality_name', values = 'price_1sm', aggfunc = ['mean', 'count'])\n",
    "data_grouped.columns = ['mean_square_price', 'count']\n",
    "data_grouped['mean_square_price'] = round(data_grouped['mean_square_price'], 1)\n",
    "\n",
    "#записываем топ 10 в переменную и выводим ее на экран\n",
    "data_grouped10 = data_grouped.sort_values(by = 'count', ascending = False).head(10)\n",
    "print(data_grouped10)"
   ]
  },
  {
   "cell_type": "markdown",
   "metadata": {},
   "source": [
    "*В таблице выше представлены 10 населенных пунктов с наибольшим количеством объявлений о продаже недвижимости. Лидирует конечно же г. Санкт-Петербург, доля объявлений в нем значительно выше, как и средняя стоимость 1-го квадратного метра.*"
   ]
  },
  {
   "cell_type": "code",
   "execution_count": 114,
   "metadata": {},
   "outputs": [
    {
     "name": "stdout",
     "output_type": "stream",
     "text": [
      "                 mean_square_price  count\n",
      "locality_name                            \n",
      "Санкт-Петербург           113275.8  13984\n"
     ]
    }
   ],
   "source": [
    "#проверяем, что мы не ошиблись выше, выводим населенный пункт с самой высокой стоимостью 1 кв.м.\n",
    "print(data_grouped10.sort_values(by = 'mean_square_price', ascending = False).head(1))"
   ]
  },
  {
   "cell_type": "markdown",
   "metadata": {},
   "source": [
    "*Лидером по стоимости 1-го квадратного метра жилья является Санкт-Петербург, средняя цена 1-го квадратного метра здесь составляет 113.275 рублей 80 коп.*"
   ]
  },
  {
   "cell_type": "markdown",
   "metadata": {},
   "source": [
    "*Посмотрим, в каких населенных пунктах из топ-10 самое дешевое жилье:*"
   ]
  },
  {
   "cell_type": "code",
   "execution_count": 115,
   "metadata": {},
   "outputs": [
    {
     "name": "stdout",
     "output_type": "stream",
     "text": [
      "               mean_square_price  count\n",
      "locality_name                          \n",
      "Выборг                   58319.4    190\n"
     ]
    }
   ],
   "source": [
    "print(data_grouped10.sort_values(by = 'mean_square_price', ascending = True).head(1))"
   ]
  },
  {
   "cell_type": "markdown",
   "metadata": {},
   "source": [
    "*Самая низкая средняя стоимость за 1 кв.м. обнаружена в г. Выборг, она составляет 58319 рублей 40 коп.*"
   ]
  },
  {
   "cell_type": "markdown",
   "metadata": {},
   "source": [
    "#### Исследование зависимости расстояния до центра города на рыночную стоимость"
   ]
  },
  {
   "cell_type": "markdown",
   "metadata": {},
   "source": [
    "*Самый крупный населенный пункт в выборке - г.Санкт-Петербург. Выберем все объявления в нем и посмотрим, как расстояние до центра города влияет на рыночную стоимость квартиры.*"
   ]
  },
  {
   "cell_type": "code",
   "execution_count": 116,
   "metadata": {},
   "outputs": [
    {
     "name": "stdout",
     "output_type": "stream",
     "text": [
      "                mean_square_price\n",
      "city_center_km                   \n",
      "0.0                      238242.8\n",
      "1.0                      168671.8\n",
      "2.0                      160150.1\n",
      "3.0                      119356.7\n",
      "4.0                      128983.8\n",
      "5.0                      135142.8\n",
      "6.0                      145728.7\n",
      "7.0                      153226.8\n",
      "8.0                      123766.0\n",
      "9.0                      112382.6\n",
      "10.0                     111312.9\n",
      "11.0                     107908.5\n",
      "12.0                     107218.7\n",
      "13.0                     107455.6\n",
      "14.0                     103490.1\n",
      "15.0                     104099.6\n",
      "16.0                     100228.2\n",
      "17.0                      96810.1\n",
      "18.0                      96726.6\n",
      "19.0                      98545.2\n",
      "20.0                     100863.4\n",
      "21.0                      90590.2\n",
      "22.0                      89631.4\n",
      "23.0                      92304.9\n",
      "24.0                      84552.5\n",
      "25.0                      86111.0\n",
      "26.0                      84614.3\n",
      "27.0                     132115.7\n",
      "28.0                      81161.9\n",
      "29.0                      76148.7\n"
     ]
    }
   ],
   "source": [
    "#делаем срез данных по г.Санкт-Петербург\n",
    "data_piter = data.query('locality_name == \"Санкт-Петербург\"')\n",
    "#строим сводную таблицу, в которой считаем среднюю стоимость 1 кв.м. для каждого километра\n",
    "data_piter = data_piter.pivot_table(index = 'city_center_km', values = 'price_1sm', aggfunc = ['mean'])\n",
    "data_piter.columns = ['mean_square_price']\n",
    "#округлим данные для наглядности\n",
    "data_piter['mean_square_price'] = round(data_piter['mean_square_price'], 1)\n",
    "print(data_piter.sort_values(by = 'city_center_km'))"
   ]
  },
  {
   "cell_type": "code",
   "execution_count": 117,
   "metadata": {},
   "outputs": [
    {
     "data": {
      "text/plain": [
       "<AxesSubplot:ylabel='city_center_km'>"
      ]
     },
     "execution_count": 117,
     "metadata": {},
     "output_type": "execute_result"
    },
    {
     "data": {
      "image/png": "[encoded data removed]",
      "text/plain": [
       "<Figure size 432x288 with 2 Axes>"
      ]
     },
     "metadata": {
      "needs_background": "light"
     },
     "output_type": "display_data"
    }
   ],
   "source": [
    "#построим тепловую карту по полученным результатам\n",
    "sns.heatmap(data_piter)"
   ]
  },
  {
   "cell_type": "markdown",
   "metadata": {},
   "source": [
    "*В целом, общий тренд полученных результатов говорит о том, что чем ближе к центру расположена квартира, тем выше средняя стоимость 1 кв.метра в ней. Однако присутствуют значения с высокой средней стоимостью 1 кв.м. при сравнительно большой удаленности от центра (к примеру, 27-й километр). Возможно, эти объекты расположены в элитных пригородных поселках.*"
   ]
  },
  {
   "cell_type": "markdown",
   "metadata": {},
   "source": [
    "*Центром г.Санкт-Петербург нужно, на мой взгляд, считать территорию Центрального района. Она имеет площадь 17 кв.км., то есть приблизительно 0-4 км. являются центром, а начиная с 5-го киломентра центр заканчивается.*\n"
   ]
  },
  {
   "cell_type": "markdown",
   "metadata": {},
   "source": [
    "<div class=\"alert alert-info\">Исследовательский анализ данных позволил выявить следующие закономерности.\n",
    "    \n",
    "Чаще всего встречаются квартиры с общей площадью от 40 до 60 кв.м., жилой площадью от 20 до 40 кв.м., площадью кухни от 6 до 11 кв.м., 1,2,3-комнатные, с высотой потолка от 2.5 до 2.8 м, расположенные между первым и последним этажами, в 5 и 9-этажных домах, в 12-15 км от центра города, в 16-25 км. от аэропорта, в 400-500 м до ближайшего парка. \n",
    "Как правило, объявления размещаются в рабочие дни. Существует также изменение активности продаж по месяцам, схожее с кривой покупательского спроса. \n",
    "\n",
    "Чаще всего квартиры продаются в течении первых 2 месяцев с момента размещения объявления. Анализ выборки показал, что быстрой продажей можно считать срок до 45 дней, а необычно долгой - более 239 дней. Медианное значение длительности размещения объявления (продажи) составляет 102 дня.\n",
    "    \n",
    "Изучение зависимости рыночной стоимости от разных параметров показало, что общая площадь и цена имеют сильную линейную зависимость, при увеличении площади растет и цена (коэффициент корреляции = 0.7). От параметра \"жилая площадь\" рыночная стоимость также находится в линейной зависимости (коэффициент корреляции = 0.6). Корреляция цены с площадью кухни чуть меньше и составляет 0.46, это чуть больше, чем параметр \"количество комнат\" - 0.4.\n",
    "Удалось также найти нелинейную зависимость рыночной стоимости от таких параметров, как тип этажа. Квартиры на первом этаже и последнем имеют в среднем меньшую стоимость, чем квартиры, расположенные на других этажах. \n",
    "\n",
    "Анализ влияния дня и месяца размещения объявления показал, что зависимость рыночной цены от данных параметров слабая.\n",
    "\n",
    "Зарегистрированы спады и рост цен, в зависимости от года размещения объявления. Скорее всего это связано с общей ситуацией в экономике.\n",
    "\n",
    "Анализ цен на объекты недвижимости в г.Санкт-Петербурге показал, что в целом стоимость квартиры растет при приближении к центру города. Однако существуют исключения из общего тренда - квартиры с большой стоимостью, отдаленные от центра. Скорее всего они расположены в элитных загородных поселках.\n",
    "    \n",
    "Лидером по количеству объявлений среди населенных пунктов является г.Санкт-Петербург. Самая высокая стоимость квадратного метра жилья также зафиксирована в Санкт-Петербурге (113.275 р. за 1 кв.м.), самая низкая - в г. Выборг (58319.4 р. за 1 кв.м.)</div>\n"
   ]
  },
  {
   "cell_type": "markdown",
   "metadata": {},
   "source": [
    "### Общий вывод"
   ]
  },
  {
   "cell_type": "markdown",
   "metadata": {},
   "source": [
    "<div class=\"alert alert-info\"><strong>На основе данных по статистике объявлений о продаже объектов недвижимости был проведен анализ зависимости разных параметров на рыночную стоимость. Результаты исследования будут учтены при построении автоматизированной системы, которая определяет рыночную цену недвижимости.\n",
    "    Перед исследованием были выдвинуты следующие гипотезы:\n",
    "\n",
    "Гипотеза 1. Общая площадь, жилая площадь влияет на рыночную стоимость\n",
    "\n",
    "Гипотеза 2. Площадь кухни влияет на рыночную стоимость\n",
    "\n",
    "Гипотеза 3. Количество комнат влияет на рыночную стоимость\n",
    "\n",
    "Гипотеза 4. Тип этажа, на котором расположена квартира, влияет на рыночную стоимость\n",
    "    \n",
    "Гипотеза 5. День, месяц и год размещения объявления влияет на рыночную стоимость\n",
    "    \n",
    "Гипотеза 6. Расстояние до центра города влияет на рыночную стоимость    \n",
    "\n",
    "В ходе анализа был изучен каждый из вышеперечисленных параметров, построены гистограммы распределения значений, найдены коэффициенты корреляции с ценой, построены гистограммы медианных значений стоимости. В результате выявлены следующие зависимости:\n",
    "\n",
    "Гипотеза 1: подтверждена, общая площадь и жилая площадь имеют линейную зависимость с ценой, коэффициент корреляции 0.7 и 0.6 соответственно\n",
    "    \n",
    "Гипотеза 2: подтверждена, коэффициент корреляции составляет 0.46, что говорит об умеренной зависимости данного параметра на цену\n",
    "    \n",
    "Гипотеза 3: подтверждена, коэффициент корреляции составляет 0.4, что говорит об умеренной зависимости данного параметра на цену\n",
    "    \n",
    "Гипотеза 4. подтверждена. Квартиры, расположенные на первом и последнем этажах, стоят ниже, чем квартиры на других этажах\n",
    "    \n",
    "Гипотеза 5: не подтверждена. Коэффициенты корреляции и гистограммы медианных значений цены с группировкой по дням недели и месяцам размещения объявления свидетельствуют о слабом влиянии этих параметров на стоимость. Однако выявлен значительный спад и рост цены с разбивкой по годам размещения объявления. Скорее всего изменение цены связано с общей ситуацией в экономике.\n",
    "    \n",
    "Гипотеза 6: частично подтверждена. Как правило, чем ближе к центру города расположена квартира, тем дороже она стоит. Однако в выборке присутствуют объекты с большой стоимостью и большим расстоянием от города, выбивающиеся из общего тренда.      \n",
    "\n",
    "Исследовательский анализ данных также позволил выявить следующие закономерности:\n",
    "    \n",
    "Объявления о продаже объектов недвижимости размещаются в основном в рабочие дни, и реже - в выходные. Чаще всего квартиры продаются в первые 2 месяца с момента размещения объявления. \n",
    "    \n",
    "Таким образом, для построения автоматизированной системы можно использовать зависимости из гипотез 1, 2, 3, 4. Необходимо провести дополнительный анализ данных для подтверждения гипотезы 6 на более репрезентативной выборке данных.      \n",
    "    \n",
    "</strong></div>"
   ]
  },
  {
   "cell_type": "code",
   "execution_count": null,
   "metadata": {},
   "outputs": [],
   "source": []
  }
 ],
 "metadata": {
  "ExecuteTimeLog": [
   {
    "duration": 681,
    "start_time": "2022-10-28T13:54:06.127Z"
   },
   {
    "duration": 7,
    "start_time": "2022-10-28T13:54:09.442Z"
   },
   {
    "duration": 198,
    "start_time": "2022-10-28T14:00:02.300Z"
   },
   {
    "duration": 87,
    "start_time": "2022-10-28T14:00:37.658Z"
   },
   {
    "duration": 87,
    "start_time": "2022-10-28T14:00:48.120Z"
   },
   {
    "duration": 109,
    "start_time": "2022-10-28T14:01:02.883Z"
   },
   {
    "duration": 17,
    "start_time": "2022-10-28T14:08:30.102Z"
   },
   {
    "duration": 15,
    "start_time": "2022-10-28T14:13:07.216Z"
   },
   {
    "duration": 5,
    "start_time": "2022-10-28T14:38:16.685Z"
   },
   {
    "duration": 81,
    "start_time": "2022-10-28T14:41:37.849Z"
   },
   {
    "duration": 6,
    "start_time": "2022-10-28T14:47:51.293Z"
   },
   {
    "duration": 7,
    "start_time": "2022-10-28T14:48:13.483Z"
   },
   {
    "duration": 5,
    "start_time": "2022-10-28T14:48:50.712Z"
   },
   {
    "duration": 7,
    "start_time": "2022-10-28T14:49:25.748Z"
   },
   {
    "duration": 6,
    "start_time": "2022-10-28T14:49:38.387Z"
   },
   {
    "duration": 6,
    "start_time": "2022-10-28T14:49:51.589Z"
   },
   {
    "duration": 6,
    "start_time": "2022-10-28T14:50:27.342Z"
   },
   {
    "duration": 75,
    "start_time": "2022-10-28T14:53:08.002Z"
   },
   {
    "duration": 7,
    "start_time": "2022-10-28T14:53:56.941Z"
   },
   {
    "duration": 4,
    "start_time": "2022-10-28T14:54:02.382Z"
   },
   {
    "duration": 6,
    "start_time": "2022-10-28T14:54:19.924Z"
   },
   {
    "duration": 5,
    "start_time": "2022-10-28T14:55:12.070Z"
   },
   {
    "duration": 5,
    "start_time": "2022-10-28T14:55:48.944Z"
   },
   {
    "duration": 5,
    "start_time": "2022-10-28T14:56:06.017Z"
   },
   {
    "duration": 6,
    "start_time": "2022-10-28T14:56:29.299Z"
   },
   {
    "duration": 14,
    "start_time": "2022-10-28T14:58:59.440Z"
   },
   {
    "duration": 3,
    "start_time": "2022-10-28T15:10:32.003Z"
   },
   {
    "duration": 4,
    "start_time": "2022-10-28T15:10:55.121Z"
   },
   {
    "duration": 14,
    "start_time": "2022-10-28T15:11:33.806Z"
   },
   {
    "duration": 4,
    "start_time": "2022-10-28T15:12:08.541Z"
   },
   {
    "duration": 7,
    "start_time": "2022-10-28T15:17:03.606Z"
   },
   {
    "duration": 14,
    "start_time": "2022-10-28T15:17:50.057Z"
   },
   {
    "duration": 4,
    "start_time": "2022-10-28T15:18:56.041Z"
   },
   {
    "duration": 33,
    "start_time": "2022-10-28T15:24:50.262Z"
   },
   {
    "duration": 6,
    "start_time": "2022-10-28T15:26:08.965Z"
   },
   {
    "duration": 75,
    "start_time": "2022-10-31T10:01:04.862Z"
   },
   {
    "duration": 814,
    "start_time": "2022-10-31T10:04:43.648Z"
   },
   {
    "duration": 147,
    "start_time": "2022-10-31T10:04:44.931Z"
   },
   {
    "duration": 6,
    "start_time": "2022-10-31T10:04:48.589Z"
   },
   {
    "duration": 114,
    "start_time": "2022-10-31T10:05:18.655Z"
   },
   {
    "duration": 111,
    "start_time": "2022-10-31T10:05:34.843Z"
   },
   {
    "duration": 84,
    "start_time": "2022-10-31T10:26:22.001Z"
   },
   {
    "duration": 16,
    "start_time": "2022-10-31T10:26:27.976Z"
   },
   {
    "duration": 3,
    "start_time": "2022-10-31T10:26:37.955Z"
   },
   {
    "duration": 89,
    "start_time": "2022-10-31T10:26:39.181Z"
   },
   {
    "duration": 109,
    "start_time": "2022-10-31T10:26:42.253Z"
   },
   {
    "duration": 15,
    "start_time": "2022-10-31T10:26:46.460Z"
   },
   {
    "duration": 11,
    "start_time": "2022-10-31T10:27:05.623Z"
   },
   {
    "duration": 8,
    "start_time": "2022-10-31T10:27:14.539Z"
   },
   {
    "duration": 6,
    "start_time": "2022-10-31T10:29:10.207Z"
   },
   {
    "duration": 7,
    "start_time": "2022-10-31T10:29:31.224Z"
   },
   {
    "duration": 7,
    "start_time": "2022-10-31T10:34:51.555Z"
   },
   {
    "duration": 7,
    "start_time": "2022-10-31T12:03:23.862Z"
   },
   {
    "duration": 6,
    "start_time": "2022-10-31T12:34:13.750Z"
   },
   {
    "duration": 6,
    "start_time": "2022-10-31T12:34:38.662Z"
   },
   {
    "duration": 13,
    "start_time": "2022-10-31T12:36:37.338Z"
   },
   {
    "duration": 6,
    "start_time": "2022-10-31T12:36:40.068Z"
   },
   {
    "duration": 4,
    "start_time": "2022-10-31T12:55:58.975Z"
   },
   {
    "duration": 4,
    "start_time": "2022-10-31T12:56:24.859Z"
   },
   {
    "duration": 10,
    "start_time": "2022-10-31T13:03:14.106Z"
   },
   {
    "duration": 19,
    "start_time": "2022-10-31T13:54:17.252Z"
   },
   {
    "duration": 5,
    "start_time": "2022-10-31T13:57:35.140Z"
   },
   {
    "duration": 4,
    "start_time": "2022-10-31T13:57:53.456Z"
   },
   {
    "duration": 5,
    "start_time": "2022-10-31T13:58:15.452Z"
   },
   {
    "duration": 34,
    "start_time": "2022-10-31T14:05:04.908Z"
   },
   {
    "duration": 8,
    "start_time": "2022-10-31T14:05:42.192Z"
   },
   {
    "duration": 5,
    "start_time": "2022-10-31T14:05:45.058Z"
   },
   {
    "duration": 7,
    "start_time": "2022-10-31T14:06:28.183Z"
   },
   {
    "duration": 6,
    "start_time": "2022-10-31T14:06:33.767Z"
   },
   {
    "duration": 6,
    "start_time": "2022-10-31T14:06:53.827Z"
   },
   {
    "duration": 6,
    "start_time": "2022-10-31T14:06:55.500Z"
   },
   {
    "duration": 8,
    "start_time": "2022-10-31T14:07:19.798Z"
   },
   {
    "duration": 8,
    "start_time": "2022-10-31T14:07:36.356Z"
   },
   {
    "duration": 5,
    "start_time": "2022-10-31T14:07:38.524Z"
   },
   {
    "duration": 8,
    "start_time": "2022-10-31T14:09:34.590Z"
   },
   {
    "duration": 6,
    "start_time": "2022-10-31T14:09:36.251Z"
   },
   {
    "duration": 9,
    "start_time": "2022-10-31T14:11:24.163Z"
   },
   {
    "duration": 6,
    "start_time": "2022-10-31T14:11:26.310Z"
   },
   {
    "duration": 10,
    "start_time": "2022-10-31T14:12:42.320Z"
   },
   {
    "duration": 7,
    "start_time": "2022-10-31T14:12:44.174Z"
   },
   {
    "duration": 6,
    "start_time": "2022-10-31T14:13:00.084Z"
   },
   {
    "duration": 17,
    "start_time": "2022-10-31T14:13:18.062Z"
   },
   {
    "duration": 89,
    "start_time": "2022-10-31T14:14:21.264Z"
   },
   {
    "duration": 12,
    "start_time": "2022-10-31T14:15:00.442Z"
   },
   {
    "duration": 4,
    "start_time": "2022-10-31T14:16:37.551Z"
   },
   {
    "duration": 4,
    "start_time": "2022-10-31T14:18:57.601Z"
   },
   {
    "duration": 69,
    "start_time": "2022-10-31T14:27:01.098Z"
   },
   {
    "duration": 77,
    "start_time": "2022-10-31T14:34:00.436Z"
   },
   {
    "duration": 73,
    "start_time": "2022-10-31T14:34:33.413Z"
   },
   {
    "duration": 95,
    "start_time": "2022-10-31T14:35:31.998Z"
   },
   {
    "duration": 11,
    "start_time": "2022-10-31T14:40:10.842Z"
   },
   {
    "duration": 3,
    "start_time": "2022-10-31T14:41:27.007Z"
   },
   {
    "duration": 1139,
    "start_time": "2022-10-31T14:43:05.939Z"
   },
   {
    "duration": 1135,
    "start_time": "2022-10-31T14:44:06.803Z"
   },
   {
    "duration": 5,
    "start_time": "2022-10-31T14:44:39.985Z"
   },
   {
    "duration": 5,
    "start_time": "2022-10-31T14:46:25.202Z"
   },
   {
    "duration": 1118,
    "start_time": "2022-10-31T14:46:51.225Z"
   },
   {
    "duration": 11,
    "start_time": "2022-10-31T14:47:35.155Z"
   },
   {
    "duration": 13,
    "start_time": "2022-10-31T14:49:38.521Z"
   },
   {
    "duration": 9,
    "start_time": "2022-10-31T14:50:54.884Z"
   },
   {
    "duration": 4,
    "start_time": "2022-10-31T14:51:08.609Z"
   },
   {
    "duration": 9,
    "start_time": "2022-10-31T14:51:37.442Z"
   },
   {
    "duration": 4,
    "start_time": "2022-10-31T14:51:48.403Z"
   },
   {
    "duration": 1152,
    "start_time": "2022-10-31T14:57:53.551Z"
   },
   {
    "duration": 1133,
    "start_time": "2022-10-31T14:59:26.284Z"
   },
   {
    "duration": 9,
    "start_time": "2022-10-31T14:59:43.356Z"
   },
   {
    "duration": 1311,
    "start_time": "2022-10-31T15:00:31.300Z"
   },
   {
    "duration": 835,
    "start_time": "2022-10-31T15:01:52.100Z"
   },
   {
    "duration": 24,
    "start_time": "2022-10-31T15:03:04.088Z"
   },
   {
    "duration": 824,
    "start_time": "2022-10-31T15:03:32.422Z"
   },
   {
    "duration": 26,
    "start_time": "2022-10-31T15:03:34.893Z"
   },
   {
    "duration": 5,
    "start_time": "2022-10-31T15:03:54.032Z"
   },
   {
    "duration": 5,
    "start_time": "2022-10-31T15:17:19.824Z"
   },
   {
    "duration": 1294,
    "start_time": "2022-10-31T15:21:11.872Z"
   },
   {
    "duration": 1127,
    "start_time": "2022-10-31T15:28:03.389Z"
   },
   {
    "duration": 4,
    "start_time": "2022-10-31T15:35:06.975Z"
   },
   {
    "duration": 4,
    "start_time": "2022-10-31T15:37:15.785Z"
   },
   {
    "duration": 5,
    "start_time": "2022-10-31T15:38:15.896Z"
   },
   {
    "duration": 8,
    "start_time": "2022-10-31T15:39:49.741Z"
   },
   {
    "duration": 10,
    "start_time": "2022-10-31T15:40:21.358Z"
   },
   {
    "duration": 11,
    "start_time": "2022-10-31T15:42:21.885Z"
   },
   {
    "duration": 5,
    "start_time": "2022-10-31T15:46:28.127Z"
   },
   {
    "duration": 8,
    "start_time": "2022-10-31T15:46:44.888Z"
   },
   {
    "duration": 9,
    "start_time": "2022-10-31T15:47:01.451Z"
   },
   {
    "duration": 11,
    "start_time": "2022-10-31T15:52:37.679Z"
   },
   {
    "duration": 10,
    "start_time": "2022-10-31T15:53:30.092Z"
   },
   {
    "duration": 12,
    "start_time": "2022-10-31T15:55:49.603Z"
   },
   {
    "duration": 12,
    "start_time": "2022-10-31T15:56:41.959Z"
   },
   {
    "duration": 10,
    "start_time": "2022-10-31T15:57:54.854Z"
   },
   {
    "duration": 12,
    "start_time": "2022-10-31T15:58:00.572Z"
   },
   {
    "duration": 11,
    "start_time": "2022-10-31T16:09:20.619Z"
   },
   {
    "duration": 11,
    "start_time": "2022-10-31T16:20:33.352Z"
   },
   {
    "duration": 13,
    "start_time": "2022-10-31T16:20:35.998Z"
   },
   {
    "duration": 13,
    "start_time": "2022-10-31T16:21:47.679Z"
   },
   {
    "duration": 10,
    "start_time": "2022-10-31T16:23:55.275Z"
   },
   {
    "duration": 19,
    "start_time": "2022-10-31T16:24:02.671Z"
   },
   {
    "duration": 7,
    "start_time": "2022-10-31T16:37:52.314Z"
   },
   {
    "duration": 3,
    "start_time": "2022-10-31T16:38:21.421Z"
   },
   {
    "duration": 91,
    "start_time": "2022-10-31T16:38:23.767Z"
   },
   {
    "duration": 119,
    "start_time": "2022-10-31T16:38:26.431Z"
   },
   {
    "duration": 15,
    "start_time": "2022-10-31T16:38:28.628Z"
   },
   {
    "duration": 10,
    "start_time": "2022-10-31T16:38:32.091Z"
   },
   {
    "duration": 6,
    "start_time": "2022-10-31T16:38:35.934Z"
   },
   {
    "duration": 6,
    "start_time": "2022-10-31T16:38:38.424Z"
   },
   {
    "duration": 6,
    "start_time": "2022-10-31T16:38:41.180Z"
   },
   {
    "duration": 5,
    "start_time": "2022-10-31T16:38:43.439Z"
   },
   {
    "duration": 3,
    "start_time": "2022-10-31T16:38:46.215Z"
   },
   {
    "duration": 4,
    "start_time": "2022-10-31T16:38:48.627Z"
   },
   {
    "duration": 6,
    "start_time": "2022-10-31T16:39:01.451Z"
   },
   {
    "duration": 6,
    "start_time": "2022-10-31T16:39:06.474Z"
   },
   {
    "duration": 8,
    "start_time": "2022-10-31T16:41:34.224Z"
   },
   {
    "duration": 7,
    "start_time": "2022-10-31T16:42:13.415Z"
   },
   {
    "duration": 8,
    "start_time": "2022-10-31T16:42:42.934Z"
   },
   {
    "duration": 8,
    "start_time": "2022-10-31T16:45:02.287Z"
   },
   {
    "duration": 6,
    "start_time": "2022-10-31T16:45:06.930Z"
   },
   {
    "duration": 8,
    "start_time": "2022-10-31T16:45:33.672Z"
   },
   {
    "duration": 6,
    "start_time": "2022-10-31T16:45:36.392Z"
   },
   {
    "duration": 9,
    "start_time": "2022-10-31T16:46:21.778Z"
   },
   {
    "duration": 5,
    "start_time": "2022-10-31T16:46:25.063Z"
   },
   {
    "duration": 72,
    "start_time": "2022-10-31T16:47:28.479Z"
   },
   {
    "duration": 12,
    "start_time": "2022-10-31T16:47:38.032Z"
   },
   {
    "duration": 7,
    "start_time": "2022-10-31T16:48:10.326Z"
   },
   {
    "duration": 8,
    "start_time": "2022-10-31T16:48:11.935Z"
   },
   {
    "duration": 85,
    "start_time": "2022-10-31T17:02:09.457Z"
   },
   {
    "duration": 6,
    "start_time": "2022-10-31T17:02:31.252Z"
   },
   {
    "duration": 366,
    "start_time": "2022-10-31T17:02:33.782Z"
   },
   {
    "duration": 27,
    "start_time": "2022-10-31T17:02:46.841Z"
   },
   {
    "duration": 9,
    "start_time": "2022-10-31T17:06:33.187Z"
   },
   {
    "duration": 20,
    "start_time": "2022-10-31T17:10:48.858Z"
   },
   {
    "duration": 5,
    "start_time": "2022-10-31T17:11:20.433Z"
   },
   {
    "duration": 49,
    "start_time": "2022-11-01T07:30:39.650Z"
   },
   {
    "duration": 705,
    "start_time": "2022-11-01T07:32:05.665Z"
   },
   {
    "duration": 295,
    "start_time": "2022-11-01T07:32:06.372Z"
   },
   {
    "duration": 8,
    "start_time": "2022-11-01T07:32:06.669Z"
   },
   {
    "duration": 85,
    "start_time": "2022-11-01T07:32:06.680Z"
   },
   {
    "duration": 16,
    "start_time": "2022-11-01T07:32:06.767Z"
   },
   {
    "duration": 11,
    "start_time": "2022-11-01T07:32:06.784Z"
   },
   {
    "duration": 6,
    "start_time": "2022-11-01T07:32:06.796Z"
   },
   {
    "duration": 6,
    "start_time": "2022-11-01T07:32:06.821Z"
   },
   {
    "duration": 9,
    "start_time": "2022-11-01T07:32:06.828Z"
   },
   {
    "duration": 4,
    "start_time": "2022-11-01T07:32:06.840Z"
   },
   {
    "duration": 10,
    "start_time": "2022-11-01T07:32:06.846Z"
   },
   {
    "duration": 8,
    "start_time": "2022-11-01T07:32:06.857Z"
   },
   {
    "duration": 8,
    "start_time": "2022-11-01T07:32:06.867Z"
   },
   {
    "duration": 13,
    "start_time": "2022-11-01T07:32:06.876Z"
   },
   {
    "duration": 33,
    "start_time": "2022-11-01T07:32:06.891Z"
   },
   {
    "duration": 6,
    "start_time": "2022-11-01T07:32:06.926Z"
   },
   {
    "duration": 12,
    "start_time": "2022-11-01T07:32:06.933Z"
   },
   {
    "duration": 5,
    "start_time": "2022-11-01T07:32:06.947Z"
   },
   {
    "duration": 349,
    "start_time": "2022-11-01T07:32:06.954Z"
   },
   {
    "duration": 28,
    "start_time": "2022-11-01T07:32:07.305Z"
   },
   {
    "duration": 32,
    "start_time": "2022-11-01T07:32:07.335Z"
   },
   {
    "duration": 4,
    "start_time": "2022-11-01T07:32:07.369Z"
   },
   {
    "duration": 16,
    "start_time": "2022-11-01T07:32:07.374Z"
   },
   {
    "duration": 9,
    "start_time": "2022-11-01T07:32:07.392Z"
   },
   {
    "duration": 10,
    "start_time": "2022-11-01T07:32:07.403Z"
   },
   {
    "duration": 8,
    "start_time": "2022-11-01T07:32:07.414Z"
   },
   {
    "duration": 7,
    "start_time": "2022-11-01T07:32:07.423Z"
   },
   {
    "duration": 19,
    "start_time": "2022-11-01T07:32:07.432Z"
   },
   {
    "duration": 29,
    "start_time": "2022-11-01T07:32:07.452Z"
   },
   {
    "duration": 10,
    "start_time": "2022-11-01T07:38:21.869Z"
   },
   {
    "duration": 7,
    "start_time": "2022-11-01T07:44:18.557Z"
   },
   {
    "duration": 7,
    "start_time": "2022-11-01T07:48:21.620Z"
   },
   {
    "duration": 7,
    "start_time": "2022-11-01T07:53:40.175Z"
   },
   {
    "duration": 10,
    "start_time": "2022-11-01T07:54:04.919Z"
   },
   {
    "duration": 21,
    "start_time": "2022-11-01T07:57:27.161Z"
   },
   {
    "duration": 9,
    "start_time": "2022-11-01T08:02:26.630Z"
   },
   {
    "duration": 9,
    "start_time": "2022-11-01T08:03:24.326Z"
   },
   {
    "duration": 12,
    "start_time": "2022-11-01T08:04:19.826Z"
   },
   {
    "duration": 7,
    "start_time": "2022-11-01T08:04:40.524Z"
   },
   {
    "duration": 9,
    "start_time": "2022-11-01T08:04:54.039Z"
   },
   {
    "duration": 7,
    "start_time": "2022-11-01T08:06:00.299Z"
   },
   {
    "duration": 7,
    "start_time": "2022-11-01T08:06:15.252Z"
   },
   {
    "duration": 8,
    "start_time": "2022-11-01T08:06:25.245Z"
   },
   {
    "duration": 6,
    "start_time": "2022-11-01T08:06:33.707Z"
   },
   {
    "duration": 8,
    "start_time": "2022-11-01T08:06:41.446Z"
   },
   {
    "duration": 8,
    "start_time": "2022-11-01T08:06:52.238Z"
   },
   {
    "duration": 4,
    "start_time": "2022-11-01T08:08:45.944Z"
   },
   {
    "duration": 7,
    "start_time": "2022-11-01T08:17:59.491Z"
   },
   {
    "duration": 7,
    "start_time": "2022-11-01T08:19:04.486Z"
   },
   {
    "duration": 7,
    "start_time": "2022-11-01T08:19:13.737Z"
   },
   {
    "duration": 7,
    "start_time": "2022-11-01T08:19:36.495Z"
   },
   {
    "duration": 6,
    "start_time": "2022-11-01T08:20:05.219Z"
   },
   {
    "duration": 71,
    "start_time": "2022-11-01T08:21:50.102Z"
   },
   {
    "duration": 980,
    "start_time": "2022-11-01T08:22:46.043Z"
   },
   {
    "duration": 7,
    "start_time": "2022-11-01T08:25:48.646Z"
   },
   {
    "duration": 973,
    "start_time": "2022-11-01T08:25:51.221Z"
   },
   {
    "duration": 5,
    "start_time": "2022-11-01T08:25:52.982Z"
   },
   {
    "duration": 6,
    "start_time": "2022-11-01T08:27:07.672Z"
   },
   {
    "duration": 1042,
    "start_time": "2022-11-01T08:27:13.974Z"
   },
   {
    "duration": 5,
    "start_time": "2022-11-01T08:27:21.320Z"
   },
   {
    "duration": 13647,
    "start_time": "2022-11-01T08:27:48.491Z"
   },
   {
    "duration": 6,
    "start_time": "2022-11-01T08:28:02.158Z"
   },
   {
    "duration": 6,
    "start_time": "2022-11-01T08:28:05.914Z"
   },
   {
    "duration": 14120,
    "start_time": "2022-11-01T08:28:17.788Z"
   },
   {
    "duration": 10,
    "start_time": "2022-11-01T08:28:31.910Z"
   },
   {
    "duration": 1018,
    "start_time": "2022-11-01T08:36:18.105Z"
   },
   {
    "duration": 5,
    "start_time": "2022-11-01T08:36:21.263Z"
   },
   {
    "duration": 920,
    "start_time": "2022-11-01T08:37:56.538Z"
   },
   {
    "duration": 5,
    "start_time": "2022-11-01T08:38:13.127Z"
   },
   {
    "duration": 6,
    "start_time": "2022-11-01T08:39:03.492Z"
   },
   {
    "duration": 6,
    "start_time": "2022-11-01T08:43:36.403Z"
   },
   {
    "duration": 8,
    "start_time": "2022-11-01T08:44:46.142Z"
   },
   {
    "duration": 6,
    "start_time": "2022-11-01T08:44:57.592Z"
   },
   {
    "duration": 7,
    "start_time": "2022-11-01T08:45:19.069Z"
   },
   {
    "duration": 3,
    "start_time": "2022-11-01T09:14:10.760Z"
   },
   {
    "duration": 72,
    "start_time": "2022-11-01T09:23:03.562Z"
   },
   {
    "duration": 48,
    "start_time": "2022-11-01T09:23:10.323Z"
   },
   {
    "duration": 14,
    "start_time": "2022-11-01T09:25:35.510Z"
   },
   {
    "duration": 4,
    "start_time": "2022-11-01T09:31:22.394Z"
   },
   {
    "duration": 6,
    "start_time": "2022-11-01T09:31:45.069Z"
   },
   {
    "duration": 5,
    "start_time": "2022-11-01T09:32:10.879Z"
   },
   {
    "duration": 5,
    "start_time": "2022-11-01T09:32:38.910Z"
   },
   {
    "duration": 4,
    "start_time": "2022-11-01T09:32:55.466Z"
   },
   {
    "duration": 5,
    "start_time": "2022-11-01T09:33:14.576Z"
   },
   {
    "duration": 5,
    "start_time": "2022-11-01T09:34:06.505Z"
   },
   {
    "duration": 5,
    "start_time": "2022-11-01T09:34:31.305Z"
   },
   {
    "duration": 11,
    "start_time": "2022-11-01T09:34:46.946Z"
   },
   {
    "duration": 5,
    "start_time": "2022-11-01T09:35:16.070Z"
   },
   {
    "duration": 6,
    "start_time": "2022-11-01T09:39:30.809Z"
   },
   {
    "duration": 5,
    "start_time": "2022-11-01T09:46:46.376Z"
   },
   {
    "duration": 18,
    "start_time": "2022-11-01T09:47:08.568Z"
   },
   {
    "duration": 35,
    "start_time": "2022-11-01T09:49:34.439Z"
   },
   {
    "duration": 30,
    "start_time": "2022-11-01T09:51:05.283Z"
   },
   {
    "duration": 615,
    "start_time": "2022-11-01T09:55:36.776Z"
   },
   {
    "duration": 87,
    "start_time": "2022-11-01T09:55:37.393Z"
   },
   {
    "duration": 6,
    "start_time": "2022-11-01T09:55:37.483Z"
   },
   {
    "duration": 93,
    "start_time": "2022-11-01T09:55:37.491Z"
   },
   {
    "duration": 14,
    "start_time": "2022-11-01T09:55:37.585Z"
   },
   {
    "duration": 26,
    "start_time": "2022-11-01T09:55:37.601Z"
   },
   {
    "duration": 5,
    "start_time": "2022-11-01T09:55:37.629Z"
   },
   {
    "duration": 11,
    "start_time": "2022-11-01T09:55:37.635Z"
   },
   {
    "duration": 10,
    "start_time": "2022-11-01T09:55:37.648Z"
   },
   {
    "duration": 4,
    "start_time": "2022-11-01T09:55:37.661Z"
   },
   {
    "duration": 6,
    "start_time": "2022-11-01T09:55:37.667Z"
   },
   {
    "duration": 7,
    "start_time": "2022-11-01T09:55:37.674Z"
   },
   {
    "duration": 9,
    "start_time": "2022-11-01T09:55:37.682Z"
   },
   {
    "duration": 38,
    "start_time": "2022-11-01T09:55:37.692Z"
   },
   {
    "duration": 16,
    "start_time": "2022-11-01T09:55:37.731Z"
   },
   {
    "duration": 6,
    "start_time": "2022-11-01T09:55:37.749Z"
   },
   {
    "duration": 7,
    "start_time": "2022-11-01T09:55:37.756Z"
   },
   {
    "duration": 4,
    "start_time": "2022-11-01T09:55:37.765Z"
   },
   {
    "duration": 373,
    "start_time": "2022-11-01T09:55:37.770Z"
   },
   {
    "duration": 19,
    "start_time": "2022-11-01T09:55:38.145Z"
   },
   {
    "duration": 22,
    "start_time": "2022-11-01T09:55:38.166Z"
   },
   {
    "duration": 5,
    "start_time": "2022-11-01T09:55:38.190Z"
   },
   {
    "duration": 31,
    "start_time": "2022-11-01T09:55:38.196Z"
   },
   {
    "duration": 7,
    "start_time": "2022-11-01T09:55:38.228Z"
   },
   {
    "duration": 7,
    "start_time": "2022-11-01T09:55:38.237Z"
   },
   {
    "duration": 22,
    "start_time": "2022-11-01T09:55:38.245Z"
   },
   {
    "duration": 6,
    "start_time": "2022-11-01T09:55:38.269Z"
   },
   {
    "duration": 10,
    "start_time": "2022-11-01T09:55:38.278Z"
   },
   {
    "duration": 34,
    "start_time": "2022-11-01T09:55:38.289Z"
   },
   {
    "duration": 11,
    "start_time": "2022-11-01T09:55:38.325Z"
   },
   {
    "duration": 8,
    "start_time": "2022-11-01T09:55:38.338Z"
   },
   {
    "duration": 5,
    "start_time": "2022-11-01T09:55:38.347Z"
   },
   {
    "duration": 8,
    "start_time": "2022-11-01T09:55:38.354Z"
   },
   {
    "duration": 7,
    "start_time": "2022-11-01T09:55:38.364Z"
   },
   {
    "duration": 1060,
    "start_time": "2022-11-01T09:55:38.372Z"
   },
   {
    "duration": 5,
    "start_time": "2022-11-01T09:55:39.433Z"
   },
   {
    "duration": 34,
    "start_time": "2022-11-01T09:55:39.440Z"
   },
   {
    "duration": 963,
    "start_time": "2022-11-01T09:55:39.476Z"
   },
   {
    "duration": 4,
    "start_time": "2022-11-01T09:55:40.441Z"
   },
   {
    "duration": 10,
    "start_time": "2022-11-01T09:55:40.447Z"
   },
   {
    "duration": 6,
    "start_time": "2022-11-01T09:55:40.459Z"
   },
   {
    "duration": 12,
    "start_time": "2022-11-01T09:55:40.467Z"
   },
   {
    "duration": 5,
    "start_time": "2022-11-01T09:55:40.480Z"
   },
   {
    "duration": 25,
    "start_time": "2022-11-01T09:55:40.486Z"
   },
   {
    "duration": 5,
    "start_time": "2022-11-01T09:55:40.520Z"
   },
   {
    "duration": 9,
    "start_time": "2022-11-01T09:55:40.527Z"
   },
   {
    "duration": 16,
    "start_time": "2022-11-01T09:55:40.537Z"
   },
   {
    "duration": 9,
    "start_time": "2022-11-01T09:55:40.555Z"
   },
   {
    "duration": 7,
    "start_time": "2022-11-01T09:55:40.566Z"
   },
   {
    "duration": 11,
    "start_time": "2022-11-01T09:55:40.574Z"
   },
   {
    "duration": 7,
    "start_time": "2022-11-01T09:55:40.586Z"
   },
   {
    "duration": 8,
    "start_time": "2022-11-01T09:55:40.595Z"
   },
   {
    "duration": 19,
    "start_time": "2022-11-01T09:55:40.604Z"
   },
   {
    "duration": 8,
    "start_time": "2022-11-01T09:55:40.625Z"
   },
   {
    "duration": 3,
    "start_time": "2022-11-01T09:55:40.635Z"
   },
   {
    "duration": 7,
    "start_time": "2022-11-01T09:55:40.640Z"
   },
   {
    "duration": 28,
    "start_time": "2022-11-01T09:55:40.648Z"
   },
   {
    "duration": 20,
    "start_time": "2022-11-01T09:55:55.506Z"
   },
   {
    "duration": 4,
    "start_time": "2022-11-01T09:58:27.446Z"
   },
   {
    "duration": 7,
    "start_time": "2022-11-01T09:58:34.364Z"
   },
   {
    "duration": 5,
    "start_time": "2022-11-01T09:59:55.476Z"
   },
   {
    "duration": 17,
    "start_time": "2022-11-01T09:59:58.817Z"
   },
   {
    "duration": 32,
    "start_time": "2022-11-01T10:00:57.182Z"
   },
   {
    "duration": 653,
    "start_time": "2022-11-01T10:10:22.228Z"
   },
   {
    "duration": 86,
    "start_time": "2022-11-01T10:10:22.883Z"
   },
   {
    "duration": 6,
    "start_time": "2022-11-01T10:10:22.971Z"
   },
   {
    "duration": 120,
    "start_time": "2022-11-01T10:10:22.979Z"
   },
   {
    "duration": 20,
    "start_time": "2022-11-01T10:10:23.100Z"
   },
   {
    "duration": 19,
    "start_time": "2022-11-01T10:10:23.122Z"
   },
   {
    "duration": 24,
    "start_time": "2022-11-01T10:10:23.143Z"
   },
   {
    "duration": 10,
    "start_time": "2022-11-01T10:10:23.170Z"
   },
   {
    "duration": 9,
    "start_time": "2022-11-01T10:10:23.182Z"
   },
   {
    "duration": 5,
    "start_time": "2022-11-01T10:10:23.193Z"
   },
   {
    "duration": 8,
    "start_time": "2022-11-01T10:10:23.199Z"
   },
   {
    "duration": 12,
    "start_time": "2022-11-01T10:10:23.209Z"
   },
   {
    "duration": 8,
    "start_time": "2022-11-01T10:10:23.223Z"
   },
   {
    "duration": 10,
    "start_time": "2022-11-01T10:10:23.232Z"
   },
   {
    "duration": 10,
    "start_time": "2022-11-01T10:10:23.244Z"
   },
   {
    "duration": 6,
    "start_time": "2022-11-01T10:10:23.256Z"
   },
   {
    "duration": 6,
    "start_time": "2022-11-01T10:10:23.263Z"
   },
   {
    "duration": 5,
    "start_time": "2022-11-01T10:10:23.271Z"
   },
   {
    "duration": 389,
    "start_time": "2022-11-01T10:10:23.278Z"
   },
   {
    "duration": 18,
    "start_time": "2022-11-01T10:10:23.669Z"
   },
   {
    "duration": 31,
    "start_time": "2022-11-01T10:10:23.689Z"
   },
   {
    "duration": 5,
    "start_time": "2022-11-01T10:10:23.722Z"
   },
   {
    "duration": 12,
    "start_time": "2022-11-01T10:10:23.729Z"
   },
   {
    "duration": 9,
    "start_time": "2022-11-01T10:10:23.742Z"
   },
   {
    "duration": 11,
    "start_time": "2022-11-01T10:10:23.753Z"
   },
   {
    "duration": 24,
    "start_time": "2022-11-01T10:10:23.765Z"
   },
   {
    "duration": 7,
    "start_time": "2022-11-01T10:10:23.820Z"
   },
   {
    "duration": 17,
    "start_time": "2022-11-01T10:10:23.831Z"
   },
   {
    "duration": 8,
    "start_time": "2022-11-01T10:10:23.850Z"
   },
   {
    "duration": 10,
    "start_time": "2022-11-01T10:10:23.860Z"
   },
   {
    "duration": 9,
    "start_time": "2022-11-01T10:10:23.872Z"
   },
   {
    "duration": 10,
    "start_time": "2022-11-01T10:10:23.883Z"
   },
   {
    "duration": 27,
    "start_time": "2022-11-01T10:10:23.894Z"
   },
   {
    "duration": 6,
    "start_time": "2022-11-01T10:10:23.923Z"
   },
   {
    "duration": 1011,
    "start_time": "2022-11-01T10:10:23.931Z"
   },
   {
    "duration": 4,
    "start_time": "2022-11-01T10:10:24.944Z"
   },
   {
    "duration": 11,
    "start_time": "2022-11-01T10:10:24.949Z"
   },
   {
    "duration": 985,
    "start_time": "2022-11-01T10:10:24.962Z"
   },
   {
    "duration": 5,
    "start_time": "2022-11-01T10:10:25.949Z"
   },
   {
    "duration": 19,
    "start_time": "2022-11-01T10:10:25.956Z"
   },
   {
    "duration": 5,
    "start_time": "2022-11-01T10:10:25.977Z"
   },
   {
    "duration": 10,
    "start_time": "2022-11-01T10:10:25.983Z"
   },
   {
    "duration": 7,
    "start_time": "2022-11-01T10:10:25.995Z"
   },
   {
    "duration": 24,
    "start_time": "2022-11-01T10:10:26.003Z"
   },
   {
    "duration": 4,
    "start_time": "2022-11-01T10:10:26.030Z"
   },
   {
    "duration": 7,
    "start_time": "2022-11-01T10:10:26.036Z"
   },
   {
    "duration": 6,
    "start_time": "2022-11-01T10:10:26.045Z"
   },
   {
    "duration": 4,
    "start_time": "2022-11-01T10:10:26.053Z"
   },
   {
    "duration": 9,
    "start_time": "2022-11-01T10:10:26.059Z"
   },
   {
    "duration": 6,
    "start_time": "2022-11-01T10:10:26.070Z"
   },
   {
    "duration": 6,
    "start_time": "2022-11-01T10:10:26.078Z"
   },
   {
    "duration": 4,
    "start_time": "2022-11-01T10:10:26.121Z"
   },
   {
    "duration": 9,
    "start_time": "2022-11-01T10:10:26.127Z"
   },
   {
    "duration": 7,
    "start_time": "2022-11-01T10:10:26.138Z"
   },
   {
    "duration": 8,
    "start_time": "2022-11-01T10:10:26.147Z"
   },
   {
    "duration": 11,
    "start_time": "2022-11-01T10:10:26.156Z"
   },
   {
    "duration": 22,
    "start_time": "2022-11-01T10:10:26.169Z"
   },
   {
    "duration": 68,
    "start_time": "2022-11-01T10:10:26.192Z"
   },
   {
    "duration": 5,
    "start_time": "2022-11-01T10:17:31.978Z"
   },
   {
    "duration": 6,
    "start_time": "2022-11-01T10:17:35.524Z"
   },
   {
    "duration": 4,
    "start_time": "2022-11-01T10:19:40.590Z"
   },
   {
    "duration": 6,
    "start_time": "2022-11-01T10:19:45.512Z"
   },
   {
    "duration": 4,
    "start_time": "2022-11-01T10:29:13.775Z"
   },
   {
    "duration": 66,
    "start_time": "2022-11-01T10:29:16.248Z"
   },
   {
    "duration": 9,
    "start_time": "2022-11-01T10:29:25.341Z"
   },
   {
    "duration": 15,
    "start_time": "2022-11-01T10:29:38.084Z"
   },
   {
    "duration": 34,
    "start_time": "2022-11-01T10:30:47.116Z"
   },
   {
    "duration": 3,
    "start_time": "2022-11-01T10:31:46.705Z"
   },
   {
    "duration": 37,
    "start_time": "2022-11-01T10:31:50.211Z"
   },
   {
    "duration": 4,
    "start_time": "2022-11-01T10:35:49.060Z"
   },
   {
    "duration": 33,
    "start_time": "2022-11-01T10:35:52.791Z"
   },
   {
    "duration": 3,
    "start_time": "2022-11-01T10:37:07.164Z"
   },
   {
    "duration": 142,
    "start_time": "2022-11-01T10:37:10.234Z"
   },
   {
    "duration": 7,
    "start_time": "2022-11-01T10:37:17.184Z"
   },
   {
    "duration": 21,
    "start_time": "2022-11-01T10:39:32.809Z"
   },
   {
    "duration": 2,
    "start_time": "2022-11-01T10:40:03.736Z"
   },
   {
    "duration": 138,
    "start_time": "2022-11-01T10:40:06.235Z"
   },
   {
    "duration": 8,
    "start_time": "2022-11-01T10:40:08.388Z"
   },
   {
    "duration": 26,
    "start_time": "2022-11-01T10:40:55.907Z"
   },
   {
    "duration": 4,
    "start_time": "2022-11-01T10:46:37.556Z"
   },
   {
    "duration": 14,
    "start_time": "2022-11-01T10:46:55.183Z"
   },
   {
    "duration": 12,
    "start_time": "2022-11-01T10:56:56.294Z"
   },
   {
    "duration": 8,
    "start_time": "2022-11-01T10:57:56.804Z"
   },
   {
    "duration": 8,
    "start_time": "2022-11-01T10:58:44.522Z"
   },
   {
    "duration": 9,
    "start_time": "2022-11-01T10:59:06.924Z"
   },
   {
    "duration": 7,
    "start_time": "2022-11-01T10:59:41.028Z"
   },
   {
    "duration": 7,
    "start_time": "2022-11-01T11:00:10.147Z"
   },
   {
    "duration": 589,
    "start_time": "2022-11-01T11:02:04.789Z"
   },
   {
    "duration": 8,
    "start_time": "2022-11-01T11:10:19.304Z"
   },
   {
    "duration": 427,
    "start_time": "2022-11-01T11:11:37.504Z"
   },
   {
    "duration": 504,
    "start_time": "2022-11-01T11:11:55.857Z"
   },
   {
    "duration": 7,
    "start_time": "2022-11-01T11:12:27.468Z"
   },
   {
    "duration": 14,
    "start_time": "2022-11-01T11:12:47.302Z"
   },
   {
    "duration": 17,
    "start_time": "2022-11-01T11:13:43.011Z"
   },
   {
    "duration": 18,
    "start_time": "2022-11-01T11:13:54.505Z"
   },
   {
    "duration": 13,
    "start_time": "2022-11-01T11:17:37.458Z"
   },
   {
    "duration": 15,
    "start_time": "2022-11-01T11:17:41.783Z"
   },
   {
    "duration": 60,
    "start_time": "2022-11-01T11:18:29.938Z"
   },
   {
    "duration": 14,
    "start_time": "2022-11-01T11:18:34.451Z"
   },
   {
    "duration": 18,
    "start_time": "2022-11-01T11:19:40.095Z"
   },
   {
    "duration": 15,
    "start_time": "2022-11-01T11:19:43.105Z"
   },
   {
    "duration": 3,
    "start_time": "2022-11-01T11:27:42.171Z"
   },
   {
    "duration": 288,
    "start_time": "2022-11-01T11:27:44.681Z"
   },
   {
    "duration": 15,
    "start_time": "2022-11-01T11:28:01.551Z"
   },
   {
    "duration": 13,
    "start_time": "2022-11-01T11:29:10.172Z"
   },
   {
    "duration": 17,
    "start_time": "2022-11-01T11:29:19.756Z"
   },
   {
    "duration": 5,
    "start_time": "2022-11-01T11:34:24.843Z"
   },
   {
    "duration": 13,
    "start_time": "2022-11-01T11:34:45.552Z"
   },
   {
    "duration": 5,
    "start_time": "2022-11-01T11:36:24.122Z"
   },
   {
    "duration": 5,
    "start_time": "2022-11-01T11:38:08.793Z"
   },
   {
    "duration": 4,
    "start_time": "2022-11-01T11:55:50.657Z"
   },
   {
    "duration": 196,
    "start_time": "2022-11-01T11:58:36.065Z"
   },
   {
    "duration": 9,
    "start_time": "2022-11-01T12:00:35.690Z"
   },
   {
    "duration": 196,
    "start_time": "2022-11-01T12:01:34.412Z"
   },
   {
    "duration": 191,
    "start_time": "2022-11-01T12:01:43.912Z"
   },
   {
    "duration": 197,
    "start_time": "2022-11-01T12:02:17.217Z"
   },
   {
    "duration": 189,
    "start_time": "2022-11-01T12:02:28.504Z"
   },
   {
    "duration": 189,
    "start_time": "2022-11-01T12:02:36.433Z"
   },
   {
    "duration": 302,
    "start_time": "2022-11-01T12:04:22.364Z"
   },
   {
    "duration": 0,
    "start_time": "2022-11-01T12:05:32.196Z"
   },
   {
    "duration": 677,
    "start_time": "2022-11-01T12:13:27.517Z"
   },
   {
    "duration": 84,
    "start_time": "2022-11-01T12:13:28.196Z"
   },
   {
    "duration": 8,
    "start_time": "2022-11-01T12:13:28.281Z"
   },
   {
    "duration": 106,
    "start_time": "2022-11-01T12:13:28.292Z"
   },
   {
    "duration": 21,
    "start_time": "2022-11-01T12:13:28.400Z"
   },
   {
    "duration": 11,
    "start_time": "2022-11-01T12:13:28.423Z"
   },
   {
    "duration": 15,
    "start_time": "2022-11-01T12:13:28.436Z"
   },
   {
    "duration": 22,
    "start_time": "2022-11-01T12:13:28.453Z"
   },
   {
    "duration": 10,
    "start_time": "2022-11-01T12:13:28.477Z"
   },
   {
    "duration": 10,
    "start_time": "2022-11-01T12:13:28.489Z"
   },
   {
    "duration": 15,
    "start_time": "2022-11-01T12:13:28.500Z"
   },
   {
    "duration": 20,
    "start_time": "2022-11-01T12:13:28.517Z"
   },
   {
    "duration": 25,
    "start_time": "2022-11-01T12:13:28.539Z"
   },
   {
    "duration": 15,
    "start_time": "2022-11-01T12:13:28.566Z"
   },
   {
    "duration": 12,
    "start_time": "2022-11-01T12:13:28.583Z"
   },
   {
    "duration": 7,
    "start_time": "2022-11-01T12:13:28.597Z"
   },
   {
    "duration": 10,
    "start_time": "2022-11-01T12:13:28.606Z"
   },
   {
    "duration": 6,
    "start_time": "2022-11-01T12:13:28.617Z"
   },
   {
    "duration": 395,
    "start_time": "2022-11-01T12:13:28.625Z"
   },
   {
    "duration": 30,
    "start_time": "2022-11-01T12:13:29.023Z"
   },
   {
    "duration": 22,
    "start_time": "2022-11-01T12:13:29.056Z"
   },
   {
    "duration": 28,
    "start_time": "2022-11-01T12:13:29.080Z"
   },
   {
    "duration": 21,
    "start_time": "2022-11-01T12:13:29.111Z"
   },
   {
    "duration": 14,
    "start_time": "2022-11-01T12:13:29.134Z"
   },
   {
    "duration": 42,
    "start_time": "2022-11-01T12:13:29.150Z"
   },
   {
    "duration": 28,
    "start_time": "2022-11-01T12:13:29.195Z"
   },
   {
    "duration": 7,
    "start_time": "2022-11-01T12:13:29.224Z"
   },
   {
    "duration": 8,
    "start_time": "2022-11-01T12:13:29.236Z"
   },
   {
    "duration": 14,
    "start_time": "2022-11-01T12:13:29.246Z"
   },
   {
    "duration": 18,
    "start_time": "2022-11-01T12:13:29.262Z"
   },
   {
    "duration": 17,
    "start_time": "2022-11-01T12:13:29.281Z"
   },
   {
    "duration": 10,
    "start_time": "2022-11-01T12:13:29.300Z"
   },
   {
    "duration": 10,
    "start_time": "2022-11-01T12:13:29.312Z"
   },
   {
    "duration": 8,
    "start_time": "2022-11-01T12:13:29.324Z"
   },
   {
    "duration": 993,
    "start_time": "2022-11-01T12:13:29.333Z"
   },
   {
    "duration": 5,
    "start_time": "2022-11-01T12:13:30.328Z"
   },
   {
    "duration": 43,
    "start_time": "2022-11-01T12:13:30.335Z"
   },
   {
    "duration": 1013,
    "start_time": "2022-11-01T12:13:30.380Z"
   },
   {
    "duration": 5,
    "start_time": "2022-11-01T12:13:31.394Z"
   },
   {
    "duration": 45,
    "start_time": "2022-11-01T12:13:31.401Z"
   },
   {
    "duration": 38,
    "start_time": "2022-11-01T12:13:31.448Z"
   },
   {
    "duration": 27,
    "start_time": "2022-11-01T12:13:31.488Z"
   },
   {
    "duration": 30,
    "start_time": "2022-11-01T12:13:31.517Z"
   },
   {
    "duration": 29,
    "start_time": "2022-11-01T12:13:31.548Z"
   },
   {
    "duration": 4,
    "start_time": "2022-11-01T12:13:31.579Z"
   },
   {
    "duration": 12,
    "start_time": "2022-11-01T12:13:31.585Z"
   },
   {
    "duration": 12,
    "start_time": "2022-11-01T12:13:31.599Z"
   },
   {
    "duration": 14,
    "start_time": "2022-11-01T12:13:31.612Z"
   },
   {
    "duration": 21,
    "start_time": "2022-11-01T12:13:31.627Z"
   },
   {
    "duration": 30,
    "start_time": "2022-11-01T12:13:31.650Z"
   },
   {
    "duration": 6,
    "start_time": "2022-11-01T12:13:31.682Z"
   },
   {
    "duration": 6,
    "start_time": "2022-11-01T12:13:31.689Z"
   },
   {
    "duration": 11,
    "start_time": "2022-11-01T12:13:31.697Z"
   },
   {
    "duration": 18,
    "start_time": "2022-11-01T12:13:31.710Z"
   },
   {
    "duration": 5,
    "start_time": "2022-11-01T12:13:31.730Z"
   },
   {
    "duration": 172,
    "start_time": "2022-11-01T12:13:31.737Z"
   },
   {
    "duration": 11,
    "start_time": "2022-11-01T12:13:31.910Z"
   },
   {
    "duration": 34,
    "start_time": "2022-11-01T12:13:31.923Z"
   },
   {
    "duration": 5,
    "start_time": "2022-11-01T12:13:31.958Z"
   },
   {
    "duration": 22,
    "start_time": "2022-11-01T12:13:31.965Z"
   },
   {
    "duration": 16,
    "start_time": "2022-11-01T12:13:31.989Z"
   },
   {
    "duration": 54,
    "start_time": "2022-11-01T12:13:32.006Z"
   },
   {
    "duration": 289,
    "start_time": "2022-11-01T12:13:32.061Z"
   },
   {
    "duration": 5,
    "start_time": "2022-11-01T12:13:32.352Z"
   },
   {
    "duration": 44,
    "start_time": "2022-11-01T12:13:32.358Z"
   },
   {
    "duration": 18,
    "start_time": "2022-11-01T12:13:32.404Z"
   },
   {
    "duration": 13,
    "start_time": "2022-11-01T12:13:32.424Z"
   },
   {
    "duration": 82,
    "start_time": "2022-11-01T12:13:32.439Z"
   },
   {
    "duration": 0,
    "start_time": "2022-11-01T12:13:32.523Z"
   },
   {
    "duration": 11,
    "start_time": "2022-11-01T12:15:08.964Z"
   },
   {
    "duration": 7,
    "start_time": "2022-11-01T12:15:23.215Z"
   },
   {
    "duration": 204,
    "start_time": "2022-11-01T12:16:03.450Z"
   },
   {
    "duration": 9,
    "start_time": "2022-11-01T12:17:42.038Z"
   },
   {
    "duration": 6,
    "start_time": "2022-11-01T12:17:44.038Z"
   },
   {
    "duration": 238,
    "start_time": "2022-11-01T12:17:49.451Z"
   },
   {
    "duration": 77879,
    "start_time": "2022-11-01T12:18:50.156Z"
   },
   {
    "duration": 443,
    "start_time": "2022-11-01T12:59:00.617Z"
   },
   {
    "duration": 1578,
    "start_time": "2022-11-01T13:10:40.743Z"
   },
   {
    "duration": 208,
    "start_time": "2022-11-01T13:11:45.207Z"
   },
   {
    "duration": 1092,
    "start_time": "2022-11-01T13:16:46.060Z"
   },
   {
    "duration": 202,
    "start_time": "2022-11-01T13:20:14.929Z"
   },
   {
    "duration": 169,
    "start_time": "2022-11-01T13:25:41.175Z"
   },
   {
    "duration": 3,
    "start_time": "2022-11-01T13:28:13.193Z"
   },
   {
    "duration": 133,
    "start_time": "2022-11-01T13:29:32.009Z"
   },
   {
    "duration": 136,
    "start_time": "2022-11-01T14:40:42.488Z"
   },
   {
    "duration": 205,
    "start_time": "2022-11-01T14:41:09.015Z"
   },
   {
    "duration": 89,
    "start_time": "2022-11-01T14:41:54.434Z"
   },
   {
    "duration": 212,
    "start_time": "2022-11-01T14:42:03.855Z"
   },
   {
    "duration": 204,
    "start_time": "2022-11-01T14:42:14.476Z"
   },
   {
    "duration": 212,
    "start_time": "2022-11-01T14:42:37.441Z"
   },
   {
    "duration": 103,
    "start_time": "2022-11-01T14:42:50.672Z"
   },
   {
    "duration": 219,
    "start_time": "2022-11-01T14:43:07.166Z"
   },
   {
    "duration": 1163,
    "start_time": "2022-11-01T14:48:10.186Z"
   },
   {
    "duration": 233,
    "start_time": "2022-11-01T14:49:57.811Z"
   },
   {
    "duration": 208,
    "start_time": "2022-11-01T14:50:29.091Z"
   },
   {
    "duration": 201,
    "start_time": "2022-11-01T14:50:59.393Z"
   },
   {
    "duration": 113,
    "start_time": "2022-11-01T14:51:09.919Z"
   },
   {
    "duration": 208,
    "start_time": "2022-11-01T14:51:14.420Z"
   },
   {
    "duration": 5,
    "start_time": "2022-11-01T14:54:11.813Z"
   },
   {
    "duration": 1057,
    "start_time": "2022-11-01T14:58:49.604Z"
   },
   {
    "duration": 234,
    "start_time": "2022-11-01T15:03:40.380Z"
   },
   {
    "duration": 204,
    "start_time": "2022-11-01T15:04:23.615Z"
   },
   {
    "duration": 5,
    "start_time": "2022-11-01T15:09:07.860Z"
   },
   {
    "duration": 197,
    "start_time": "2022-11-01T15:19:12.108Z"
   },
   {
    "duration": 1305,
    "start_time": "2022-11-01T15:20:44.430Z"
   },
   {
    "duration": 1282,
    "start_time": "2022-11-01T15:29:08.098Z"
   },
   {
    "duration": 1568,
    "start_time": "2022-11-01T15:30:24.859Z"
   },
   {
    "duration": 220,
    "start_time": "2022-11-01T15:37:42.402Z"
   },
   {
    "duration": 2189,
    "start_time": "2022-11-01T15:38:12.472Z"
   },
   {
    "duration": 2540,
    "start_time": "2022-11-01T15:38:15.052Z"
   },
   {
    "duration": 238,
    "start_time": "2022-11-01T15:40:08.342Z"
   },
   {
    "duration": 185,
    "start_time": "2022-11-01T15:40:26.592Z"
   },
   {
    "duration": 287,
    "start_time": "2022-11-01T15:40:32.728Z"
   },
   {
    "duration": 168,
    "start_time": "2022-11-01T15:41:01.442Z"
   },
   {
    "duration": 260,
    "start_time": "2022-11-01T15:41:09.673Z"
   },
   {
    "duration": 187,
    "start_time": "2022-11-01T15:45:37.056Z"
   },
   {
    "duration": 11,
    "start_time": "2022-11-01T15:46:59.223Z"
   },
   {
    "duration": 55,
    "start_time": "2022-11-01T15:53:48.729Z"
   },
   {
    "duration": 10,
    "start_time": "2022-11-01T15:54:16.622Z"
   },
   {
    "duration": 12,
    "start_time": "2022-11-01T16:02:11.993Z"
   },
   {
    "duration": 6,
    "start_time": "2022-11-01T16:02:19.464Z"
   },
   {
    "duration": 7,
    "start_time": "2022-11-01T16:02:37.590Z"
   },
   {
    "duration": 6,
    "start_time": "2022-11-01T16:02:50.462Z"
   },
   {
    "duration": 6,
    "start_time": "2022-11-01T16:03:10.463Z"
   },
   {
    "duration": 6,
    "start_time": "2022-11-01T16:03:56.303Z"
   },
   {
    "duration": 4,
    "start_time": "2022-11-01T16:04:08.615Z"
   },
   {
    "duration": 5,
    "start_time": "2022-11-01T16:04:26.323Z"
   },
   {
    "duration": 4,
    "start_time": "2022-11-01T16:04:39.880Z"
   },
   {
    "duration": 4,
    "start_time": "2022-11-01T16:08:53.905Z"
   },
   {
    "duration": 9,
    "start_time": "2022-11-01T16:09:25.151Z"
   },
   {
    "duration": 4,
    "start_time": "2022-11-01T16:09:51.989Z"
   },
   {
    "duration": 9,
    "start_time": "2022-11-01T16:10:14.965Z"
   },
   {
    "duration": 1219,
    "start_time": "2022-11-01T16:10:27.203Z"
   },
   {
    "duration": 86,
    "start_time": "2022-11-01T16:10:28.423Z"
   },
   {
    "duration": 9,
    "start_time": "2022-11-01T16:10:28.511Z"
   },
   {
    "duration": 99,
    "start_time": "2022-11-01T16:10:28.524Z"
   },
   {
    "duration": 14,
    "start_time": "2022-11-01T16:10:28.626Z"
   },
   {
    "duration": 11,
    "start_time": "2022-11-01T16:10:28.641Z"
   },
   {
    "duration": 6,
    "start_time": "2022-11-01T16:10:28.653Z"
   },
   {
    "duration": 17,
    "start_time": "2022-11-01T16:10:28.660Z"
   },
   {
    "duration": 27,
    "start_time": "2022-11-01T16:10:28.679Z"
   },
   {
    "duration": 21,
    "start_time": "2022-11-01T16:10:28.709Z"
   },
   {
    "duration": 31,
    "start_time": "2022-11-01T16:10:28.732Z"
   },
   {
    "duration": 26,
    "start_time": "2022-11-01T16:10:28.764Z"
   },
   {
    "duration": 27,
    "start_time": "2022-11-01T16:10:28.791Z"
   },
   {
    "duration": 40,
    "start_time": "2022-11-01T16:10:28.820Z"
   },
   {
    "duration": 54,
    "start_time": "2022-11-01T16:10:28.866Z"
   },
   {
    "duration": 40,
    "start_time": "2022-11-01T16:10:28.922Z"
   },
   {
    "duration": 37,
    "start_time": "2022-11-01T16:10:28.964Z"
   },
   {
    "duration": 28,
    "start_time": "2022-11-01T16:10:29.003Z"
   },
   {
    "duration": 418,
    "start_time": "2022-11-01T16:10:29.034Z"
   },
   {
    "duration": 19,
    "start_time": "2022-11-01T16:10:29.454Z"
   },
   {
    "duration": 23,
    "start_time": "2022-11-01T16:10:29.475Z"
   },
   {
    "duration": 13,
    "start_time": "2022-11-01T16:10:29.500Z"
   },
   {
    "duration": 30,
    "start_time": "2022-11-01T16:10:29.521Z"
   },
   {
    "duration": 16,
    "start_time": "2022-11-01T16:10:29.553Z"
   },
   {
    "duration": 26,
    "start_time": "2022-11-01T16:10:29.571Z"
   },
   {
    "duration": 39,
    "start_time": "2022-11-01T16:10:29.599Z"
   },
   {
    "duration": 6,
    "start_time": "2022-11-01T16:10:29.639Z"
   },
   {
    "duration": 21,
    "start_time": "2022-11-01T16:10:29.652Z"
   },
   {
    "duration": 32,
    "start_time": "2022-11-01T16:10:29.675Z"
   },
   {
    "duration": 28,
    "start_time": "2022-11-01T16:10:29.709Z"
   },
   {
    "duration": 18,
    "start_time": "2022-11-01T16:10:29.739Z"
   },
   {
    "duration": 48,
    "start_time": "2022-11-01T16:10:29.760Z"
   },
   {
    "duration": 46,
    "start_time": "2022-11-01T16:10:29.810Z"
   },
   {
    "duration": 27,
    "start_time": "2022-11-01T16:10:29.858Z"
   },
   {
    "duration": 1012,
    "start_time": "2022-11-01T16:10:29.887Z"
   },
   {
    "duration": 5,
    "start_time": "2022-11-01T16:10:30.901Z"
   },
   {
    "duration": 55,
    "start_time": "2022-11-01T16:10:30.908Z"
   },
   {
    "duration": 1022,
    "start_time": "2022-11-01T16:10:30.965Z"
   },
   {
    "duration": 6,
    "start_time": "2022-11-01T16:10:31.989Z"
   },
   {
    "duration": 35,
    "start_time": "2022-11-01T16:10:31.997Z"
   },
   {
    "duration": 55,
    "start_time": "2022-11-01T16:10:32.034Z"
   },
   {
    "duration": 47,
    "start_time": "2022-11-01T16:10:32.092Z"
   },
   {
    "duration": 39,
    "start_time": "2022-11-01T16:10:32.141Z"
   },
   {
    "duration": 64,
    "start_time": "2022-11-01T16:10:32.182Z"
   },
   {
    "duration": 16,
    "start_time": "2022-11-01T16:10:32.248Z"
   },
   {
    "duration": 29,
    "start_time": "2022-11-01T16:10:32.267Z"
   },
   {
    "duration": 21,
    "start_time": "2022-11-01T16:10:32.298Z"
   },
   {
    "duration": 35,
    "start_time": "2022-11-01T16:10:32.320Z"
   },
   {
    "duration": 49,
    "start_time": "2022-11-01T16:10:32.358Z"
   },
   {
    "duration": 56,
    "start_time": "2022-11-01T16:10:32.410Z"
   },
   {
    "duration": 72,
    "start_time": "2022-11-01T16:10:32.468Z"
   },
   {
    "duration": 33,
    "start_time": "2022-11-01T16:10:32.542Z"
   },
   {
    "duration": 22,
    "start_time": "2022-11-01T16:10:32.577Z"
   },
   {
    "duration": 34,
    "start_time": "2022-11-01T16:10:32.601Z"
   },
   {
    "duration": 50,
    "start_time": "2022-11-01T16:10:32.638Z"
   },
   {
    "duration": 25,
    "start_time": "2022-11-01T16:10:32.690Z"
   },
   {
    "duration": 24,
    "start_time": "2022-11-01T16:10:32.717Z"
   },
   {
    "duration": 39,
    "start_time": "2022-11-01T16:10:32.743Z"
   },
   {
    "duration": 23,
    "start_time": "2022-11-01T16:10:32.785Z"
   },
   {
    "duration": 12,
    "start_time": "2022-11-01T16:10:32.810Z"
   },
   {
    "duration": 20,
    "start_time": "2022-11-01T16:10:32.825Z"
   },
   {
    "duration": 14,
    "start_time": "2022-11-01T16:10:32.848Z"
   },
   {
    "duration": 210,
    "start_time": "2022-11-01T16:10:32.864Z"
   },
   {
    "duration": 7,
    "start_time": "2022-11-01T16:10:33.075Z"
   },
   {
    "duration": 38,
    "start_time": "2022-11-01T16:10:33.084Z"
   },
   {
    "duration": 7,
    "start_time": "2022-11-01T16:10:33.124Z"
   },
   {
    "duration": 65,
    "start_time": "2022-11-01T16:10:33.132Z"
   },
   {
    "duration": 56,
    "start_time": "2022-11-01T16:10:33.199Z"
   },
   {
    "duration": 4,
    "start_time": "2022-11-01T16:10:33.256Z"
   },
   {
    "duration": 357,
    "start_time": "2022-11-01T16:10:33.261Z"
   },
   {
    "duration": 6,
    "start_time": "2022-11-01T16:10:33.622Z"
   },
   {
    "duration": 19,
    "start_time": "2022-11-01T16:10:33.630Z"
   },
   {
    "duration": 29,
    "start_time": "2022-11-01T16:10:33.651Z"
   },
   {
    "duration": 330,
    "start_time": "2022-11-01T16:10:33.682Z"
   },
   {
    "duration": 11,
    "start_time": "2022-11-01T16:10:34.020Z"
   },
   {
    "duration": 272,
    "start_time": "2022-11-01T16:10:34.034Z"
   },
   {
    "duration": 18,
    "start_time": "2022-11-01T16:10:34.308Z"
   },
   {
    "duration": 260,
    "start_time": "2022-11-01T16:10:34.328Z"
   },
   {
    "duration": 5,
    "start_time": "2022-11-01T16:10:34.590Z"
   },
   {
    "duration": 1404,
    "start_time": "2022-11-01T16:10:34.597Z"
   },
   {
    "duration": 219,
    "start_time": "2022-11-01T16:10:36.004Z"
   },
   {
    "duration": 7,
    "start_time": "2022-11-01T16:14:24.507Z"
   },
   {
    "duration": 7,
    "start_time": "2022-11-01T16:15:14.530Z"
   },
   {
    "duration": 10,
    "start_time": "2022-11-01T16:15:30.452Z"
   },
   {
    "duration": 222,
    "start_time": "2022-11-01T16:16:27.216Z"
   },
   {
    "duration": 56,
    "start_time": "2022-11-01T16:17:23.646Z"
   },
   {
    "duration": 9,
    "start_time": "2022-11-01T16:18:31.861Z"
   },
   {
    "duration": 8,
    "start_time": "2022-11-01T16:21:37.583Z"
   },
   {
    "duration": 314,
    "start_time": "2022-11-01T16:29:35.438Z"
   },
   {
    "duration": 321,
    "start_time": "2022-11-01T16:30:22.038Z"
   },
   {
    "duration": 383,
    "start_time": "2022-11-01T16:30:40.705Z"
   },
   {
    "duration": 292,
    "start_time": "2022-11-01T16:31:16.782Z"
   },
   {
    "duration": 247,
    "start_time": "2022-11-01T16:34:50.711Z"
   },
   {
    "duration": 254,
    "start_time": "2022-11-01T16:35:52.322Z"
   },
   {
    "duration": 8,
    "start_time": "2022-11-01T16:36:16.488Z"
   },
   {
    "duration": 248,
    "start_time": "2022-11-01T16:41:35.306Z"
   },
   {
    "duration": 213,
    "start_time": "2022-11-01T16:42:12.411Z"
   },
   {
    "duration": 473,
    "start_time": "2022-11-01T16:42:32.868Z"
   },
   {
    "duration": 374,
    "start_time": "2022-11-01T16:43:05.385Z"
   },
   {
    "duration": 378,
    "start_time": "2022-11-01T16:43:22.672Z"
   },
   {
    "duration": 9,
    "start_time": "2022-11-01T16:47:09.208Z"
   },
   {
    "duration": 10,
    "start_time": "2022-11-01T16:51:16.436Z"
   },
   {
    "duration": 10,
    "start_time": "2022-11-01T16:51:28.317Z"
   },
   {
    "duration": 505,
    "start_time": "2022-11-01T16:52:25.236Z"
   },
   {
    "duration": 478,
    "start_time": "2022-11-01T16:53:59.058Z"
   },
   {
    "duration": 9,
    "start_time": "2022-11-01T16:57:11.437Z"
   },
   {
    "duration": 122,
    "start_time": "2022-11-01T16:59:59.933Z"
   },
   {
    "duration": 21,
    "start_time": "2022-11-01T17:00:41.164Z"
   },
   {
    "duration": 24,
    "start_time": "2022-11-01T17:01:01.406Z"
   },
   {
    "duration": 15,
    "start_time": "2022-11-01T17:02:06.433Z"
   },
   {
    "duration": 13,
    "start_time": "2022-11-01T17:02:55.595Z"
   },
   {
    "duration": 5,
    "start_time": "2022-11-01T17:03:48.236Z"
   },
   {
    "duration": 3,
    "start_time": "2022-11-01T17:03:59.758Z"
   },
   {
    "duration": 6,
    "start_time": "2022-11-01T17:04:49.639Z"
   },
   {
    "duration": 169,
    "start_time": "2022-11-01T17:05:29.778Z"
   },
   {
    "duration": 103,
    "start_time": "2022-11-01T17:09:02.090Z"
   },
   {
    "duration": 16,
    "start_time": "2022-11-01T17:09:48.887Z"
   },
   {
    "duration": 49,
    "start_time": "2022-11-01T17:11:32.838Z"
   },
   {
    "duration": 82,
    "start_time": "2022-11-01T17:11:40.517Z"
   },
   {
    "duration": 68,
    "start_time": "2022-11-01T17:12:07.046Z"
   },
   {
    "duration": 89,
    "start_time": "2022-11-01T17:12:22.067Z"
   },
   {
    "duration": 13,
    "start_time": "2022-11-01T17:13:30.682Z"
   },
   {
    "duration": 64,
    "start_time": "2022-11-01T20:03:20.989Z"
   },
   {
    "duration": 1304,
    "start_time": "2022-11-01T20:03:39.117Z"
   },
   {
    "duration": 652,
    "start_time": "2022-11-01T20:03:40.423Z"
   },
   {
    "duration": 7,
    "start_time": "2022-11-01T20:03:41.077Z"
   },
   {
    "duration": 116,
    "start_time": "2022-11-01T20:03:41.086Z"
   },
   {
    "duration": 15,
    "start_time": "2022-11-01T20:03:41.203Z"
   },
   {
    "duration": 11,
    "start_time": "2022-11-01T20:03:41.220Z"
   },
   {
    "duration": 6,
    "start_time": "2022-11-01T20:03:41.232Z"
   },
   {
    "duration": 7,
    "start_time": "2022-11-01T20:03:41.239Z"
   },
   {
    "duration": 8,
    "start_time": "2022-11-01T20:03:41.247Z"
   },
   {
    "duration": 7,
    "start_time": "2022-11-01T20:03:41.258Z"
   },
   {
    "duration": 43,
    "start_time": "2022-11-01T20:03:41.266Z"
   },
   {
    "duration": 7,
    "start_time": "2022-11-01T20:03:41.311Z"
   },
   {
    "duration": 11,
    "start_time": "2022-11-01T20:03:41.320Z"
   },
   {
    "duration": 23,
    "start_time": "2022-11-01T20:03:41.333Z"
   },
   {
    "duration": 70,
    "start_time": "2022-11-01T20:03:41.358Z"
   },
   {
    "duration": 46,
    "start_time": "2022-11-01T20:03:41.430Z"
   },
   {
    "duration": 46,
    "start_time": "2022-11-01T20:03:41.478Z"
   },
   {
    "duration": 26,
    "start_time": "2022-11-01T20:03:41.526Z"
   },
   {
    "duration": 478,
    "start_time": "2022-11-01T20:03:41.555Z"
   },
   {
    "duration": 23,
    "start_time": "2022-11-01T20:03:42.035Z"
   },
   {
    "duration": 60,
    "start_time": "2022-11-01T20:03:42.060Z"
   },
   {
    "duration": 90,
    "start_time": "2022-11-01T20:03:42.123Z"
   },
   {
    "duration": 53,
    "start_time": "2022-11-01T20:03:42.215Z"
   },
   {
    "duration": 70,
    "start_time": "2022-11-01T20:03:42.271Z"
   },
   {
    "duration": 34,
    "start_time": "2022-11-01T20:03:42.343Z"
   },
   {
    "duration": 88,
    "start_time": "2022-11-01T20:03:42.379Z"
   },
   {
    "duration": 31,
    "start_time": "2022-11-01T20:03:42.469Z"
   },
   {
    "duration": 40,
    "start_time": "2022-11-01T20:03:42.505Z"
   },
   {
    "duration": 109,
    "start_time": "2022-11-01T20:03:42.546Z"
   },
   {
    "duration": 73,
    "start_time": "2022-11-01T20:03:42.657Z"
   },
   {
    "duration": 58,
    "start_time": "2022-11-01T20:03:42.732Z"
   },
   {
    "duration": 133,
    "start_time": "2022-11-01T20:03:42.792Z"
   },
   {
    "duration": 51,
    "start_time": "2022-11-01T20:03:42.926Z"
   },
   {
    "duration": 40,
    "start_time": "2022-11-01T20:03:42.979Z"
   },
   {
    "duration": 1065,
    "start_time": "2022-11-01T20:03:43.021Z"
   },
   {
    "duration": 6,
    "start_time": "2022-11-01T20:03:44.089Z"
   },
   {
    "duration": 16,
    "start_time": "2022-11-01T20:03:44.097Z"
   },
   {
    "duration": 1060,
    "start_time": "2022-11-01T20:03:44.115Z"
   },
   {
    "duration": 4,
    "start_time": "2022-11-01T20:03:45.177Z"
   },
   {
    "duration": 12,
    "start_time": "2022-11-01T20:03:45.183Z"
   },
   {
    "duration": 14,
    "start_time": "2022-11-01T20:03:45.209Z"
   },
   {
    "duration": 16,
    "start_time": "2022-11-01T20:03:45.225Z"
   },
   {
    "duration": 18,
    "start_time": "2022-11-01T20:03:45.243Z"
   },
   {
    "duration": 43,
    "start_time": "2022-11-01T20:03:45.263Z"
   },
   {
    "duration": 5,
    "start_time": "2022-11-01T20:03:45.308Z"
   },
   {
    "duration": 20,
    "start_time": "2022-11-01T20:03:45.315Z"
   },
   {
    "duration": 21,
    "start_time": "2022-11-01T20:03:45.337Z"
   },
   {
    "duration": 14,
    "start_time": "2022-11-01T20:03:45.360Z"
   },
   {
    "duration": 20,
    "start_time": "2022-11-01T20:03:45.376Z"
   },
   {
    "duration": 21,
    "start_time": "2022-11-01T20:03:45.398Z"
   },
   {
    "duration": 37,
    "start_time": "2022-11-01T20:03:45.421Z"
   },
   {
    "duration": 20,
    "start_time": "2022-11-01T20:03:45.460Z"
   },
   {
    "duration": 35,
    "start_time": "2022-11-01T20:03:45.482Z"
   },
   {
    "duration": 43,
    "start_time": "2022-11-01T20:03:45.518Z"
   },
   {
    "duration": 16,
    "start_time": "2022-11-01T20:03:45.563Z"
   },
   {
    "duration": 18,
    "start_time": "2022-11-01T20:03:45.581Z"
   },
   {
    "duration": 14,
    "start_time": "2022-11-01T20:03:45.601Z"
   },
   {
    "duration": 19,
    "start_time": "2022-11-01T20:03:45.618Z"
   },
   {
    "duration": 17,
    "start_time": "2022-11-01T20:03:45.639Z"
   },
   {
    "duration": 16,
    "start_time": "2022-11-01T20:03:45.657Z"
   },
   {
    "duration": 9,
    "start_time": "2022-11-01T20:03:45.674Z"
   },
   {
    "duration": 12,
    "start_time": "2022-11-01T20:03:45.685Z"
   },
   {
    "duration": 4,
    "start_time": "2022-11-01T20:03:45.698Z"
   },
   {
    "duration": 185,
    "start_time": "2022-11-01T20:03:45.704Z"
   },
   {
    "duration": 6,
    "start_time": "2022-11-01T20:03:45.891Z"
   },
   {
    "duration": 47,
    "start_time": "2022-11-01T20:03:45.899Z"
   },
   {
    "duration": 5,
    "start_time": "2022-11-01T20:03:45.948Z"
   },
   {
    "duration": 39,
    "start_time": "2022-11-01T20:03:45.955Z"
   },
   {
    "duration": 14,
    "start_time": "2022-11-01T20:03:45.996Z"
   },
   {
    "duration": 19,
    "start_time": "2022-11-01T20:03:46.011Z"
   },
   {
    "duration": 347,
    "start_time": "2022-11-01T20:03:46.032Z"
   },
   {
    "duration": 6,
    "start_time": "2022-11-01T20:03:46.381Z"
   },
   {
    "duration": 10,
    "start_time": "2022-11-01T20:03:46.389Z"
   },
   {
    "duration": 11,
    "start_time": "2022-11-01T20:03:46.401Z"
   },
   {
    "duration": 235,
    "start_time": "2022-11-01T20:03:46.414Z"
   },
   {
    "duration": 9,
    "start_time": "2022-11-01T20:03:46.650Z"
   },
   {
    "duration": 219,
    "start_time": "2022-11-01T20:03:46.660Z"
   },
   {
    "duration": 8,
    "start_time": "2022-11-01T20:03:46.880Z"
   },
   {
    "duration": 222,
    "start_time": "2022-11-01T20:03:46.890Z"
   },
   {
    "duration": 9,
    "start_time": "2022-11-01T20:03:47.114Z"
   },
   {
    "duration": 374,
    "start_time": "2022-11-01T20:03:47.125Z"
   },
   {
    "duration": 10,
    "start_time": "2022-11-01T20:03:47.509Z"
   },
   {
    "duration": 231,
    "start_time": "2022-11-01T20:03:47.521Z"
   },
   {
    "duration": 8,
    "start_time": "2022-11-01T20:03:47.754Z"
   },
   {
    "duration": 337,
    "start_time": "2022-11-01T20:03:47.763Z"
   },
   {
    "duration": 12,
    "start_time": "2022-11-01T20:03:48.102Z"
   },
   {
    "duration": 352,
    "start_time": "2022-11-01T20:03:48.115Z"
   },
   {
    "duration": 9,
    "start_time": "2022-11-01T20:03:48.469Z"
   },
   {
    "duration": 17,
    "start_time": "2022-11-01T20:03:48.479Z"
   },
   {
    "duration": 156,
    "start_time": "2022-11-01T20:03:48.497Z"
   },
   {
    "duration": 32,
    "start_time": "2022-11-01T20:06:49.542Z"
   },
   {
    "duration": 16,
    "start_time": "2022-11-01T20:11:03.846Z"
   },
   {
    "duration": 22,
    "start_time": "2022-11-01T20:11:54.195Z"
   },
   {
    "duration": 19,
    "start_time": "2022-11-01T20:14:27.318Z"
   },
   {
    "duration": 116,
    "start_time": "2022-11-01T20:14:46.981Z"
   },
   {
    "duration": 186,
    "start_time": "2022-11-01T20:15:40.776Z"
   },
   {
    "duration": 113,
    "start_time": "2022-11-01T20:17:23.318Z"
   },
   {
    "duration": 132,
    "start_time": "2022-11-01T20:17:49.304Z"
   },
   {
    "duration": 12,
    "start_time": "2022-11-01T20:18:29.134Z"
   },
   {
    "duration": 100,
    "start_time": "2022-11-01T20:19:19.201Z"
   },
   {
    "duration": 203,
    "start_time": "2022-11-01T20:26:59.830Z"
   },
   {
    "duration": 8,
    "start_time": "2022-11-01T20:34:57.516Z"
   },
   {
    "duration": 8,
    "start_time": "2022-11-01T20:55:53.005Z"
   },
   {
    "duration": 1142,
    "start_time": "2022-11-01T20:56:44.255Z"
   },
   {
    "duration": 87,
    "start_time": "2022-11-01T20:56:45.399Z"
   },
   {
    "duration": 7,
    "start_time": "2022-11-01T20:56:45.487Z"
   },
   {
    "duration": 85,
    "start_time": "2022-11-01T20:56:45.496Z"
   },
   {
    "duration": 13,
    "start_time": "2022-11-01T20:56:45.583Z"
   },
   {
    "duration": 19,
    "start_time": "2022-11-01T20:56:45.597Z"
   },
   {
    "duration": 4,
    "start_time": "2022-11-01T20:56:45.617Z"
   },
   {
    "duration": 7,
    "start_time": "2022-11-01T20:56:45.623Z"
   },
   {
    "duration": 5,
    "start_time": "2022-11-01T20:56:45.632Z"
   },
   {
    "duration": 3,
    "start_time": "2022-11-01T20:56:45.640Z"
   },
   {
    "duration": 4,
    "start_time": "2022-11-01T20:56:45.645Z"
   },
   {
    "duration": 5,
    "start_time": "2022-11-01T20:56:45.651Z"
   },
   {
    "duration": 12,
    "start_time": "2022-11-01T20:56:45.657Z"
   },
   {
    "duration": 39,
    "start_time": "2022-11-01T20:56:45.670Z"
   },
   {
    "duration": 9,
    "start_time": "2022-11-01T20:56:45.710Z"
   },
   {
    "duration": 11,
    "start_time": "2022-11-01T20:56:45.721Z"
   },
   {
    "duration": 14,
    "start_time": "2022-11-01T20:56:45.733Z"
   },
   {
    "duration": 6,
    "start_time": "2022-11-01T20:56:45.749Z"
   },
   {
    "duration": 370,
    "start_time": "2022-11-01T20:56:45.756Z"
   },
   {
    "duration": 21,
    "start_time": "2022-11-01T20:56:46.127Z"
   },
   {
    "duration": 26,
    "start_time": "2022-11-01T20:56:46.149Z"
   },
   {
    "duration": 5,
    "start_time": "2022-11-01T20:56:46.177Z"
   },
   {
    "duration": 27,
    "start_time": "2022-11-01T20:56:46.183Z"
   },
   {
    "duration": 8,
    "start_time": "2022-11-01T20:56:46.211Z"
   },
   {
    "duration": 7,
    "start_time": "2022-11-01T20:56:46.221Z"
   },
   {
    "duration": 48,
    "start_time": "2022-11-01T20:56:46.230Z"
   },
   {
    "duration": 6,
    "start_time": "2022-11-01T20:56:46.279Z"
   },
   {
    "duration": 22,
    "start_time": "2022-11-01T20:56:46.290Z"
   },
   {
    "duration": 14,
    "start_time": "2022-11-01T20:56:46.314Z"
   },
   {
    "duration": 31,
    "start_time": "2022-11-01T20:56:46.329Z"
   },
   {
    "duration": 13,
    "start_time": "2022-11-01T20:56:46.361Z"
   },
   {
    "duration": 23,
    "start_time": "2022-11-01T20:56:46.375Z"
   },
   {
    "duration": 28,
    "start_time": "2022-11-01T20:56:46.400Z"
   },
   {
    "duration": 15,
    "start_time": "2022-11-01T20:56:46.430Z"
   },
   {
    "duration": 1007,
    "start_time": "2022-11-01T20:56:46.447Z"
   },
   {
    "duration": 4,
    "start_time": "2022-11-01T20:56:47.456Z"
   },
   {
    "duration": 24,
    "start_time": "2022-11-01T20:56:47.461Z"
   },
   {
    "duration": 1124,
    "start_time": "2022-11-01T20:56:47.487Z"
   },
   {
    "duration": 5,
    "start_time": "2022-11-01T20:56:48.612Z"
   },
   {
    "duration": 23,
    "start_time": "2022-11-01T20:56:48.619Z"
   },
   {
    "duration": 20,
    "start_time": "2022-11-01T20:56:48.644Z"
   },
   {
    "duration": 21,
    "start_time": "2022-11-01T20:56:48.665Z"
   },
   {
    "duration": 27,
    "start_time": "2022-11-01T20:56:48.687Z"
   },
   {
    "duration": 17,
    "start_time": "2022-11-01T20:56:48.715Z"
   },
   {
    "duration": 19,
    "start_time": "2022-11-01T20:56:48.733Z"
   },
   {
    "duration": 4,
    "start_time": "2022-11-01T20:56:48.753Z"
   },
   {
    "duration": 7,
    "start_time": "2022-11-01T20:56:48.759Z"
   },
   {
    "duration": 9,
    "start_time": "2022-11-01T20:56:48.767Z"
   },
   {
    "duration": 7,
    "start_time": "2022-11-01T20:56:48.778Z"
   },
   {
    "duration": 8,
    "start_time": "2022-11-01T20:56:48.786Z"
   },
   {
    "duration": 6,
    "start_time": "2022-11-01T20:56:48.795Z"
   },
   {
    "duration": 7,
    "start_time": "2022-11-01T20:56:48.802Z"
   },
   {
    "duration": 8,
    "start_time": "2022-11-01T20:56:48.810Z"
   },
   {
    "duration": 6,
    "start_time": "2022-11-01T20:56:48.819Z"
   },
   {
    "duration": 6,
    "start_time": "2022-11-01T20:56:48.827Z"
   },
   {
    "duration": 15,
    "start_time": "2022-11-01T20:56:48.834Z"
   },
   {
    "duration": 7,
    "start_time": "2022-11-01T20:56:48.851Z"
   },
   {
    "duration": 11,
    "start_time": "2022-11-01T20:56:48.859Z"
   },
   {
    "duration": 5,
    "start_time": "2022-11-01T20:56:48.872Z"
   },
   {
    "duration": 7,
    "start_time": "2022-11-01T20:56:48.879Z"
   },
   {
    "duration": 24,
    "start_time": "2022-11-01T20:56:48.887Z"
   },
   {
    "duration": 9,
    "start_time": "2022-11-01T20:56:48.912Z"
   },
   {
    "duration": 14,
    "start_time": "2022-11-01T20:56:48.922Z"
   },
   {
    "duration": 9,
    "start_time": "2022-11-01T20:56:48.937Z"
   },
   {
    "duration": 159,
    "start_time": "2022-11-01T20:56:48.948Z"
   },
   {
    "duration": 6,
    "start_time": "2022-11-01T20:56:49.109Z"
   },
   {
    "duration": 20,
    "start_time": "2022-11-01T20:56:49.117Z"
   },
   {
    "duration": 4,
    "start_time": "2022-11-01T20:56:49.139Z"
   },
   {
    "duration": 16,
    "start_time": "2022-11-01T20:56:49.144Z"
   },
   {
    "duration": 13,
    "start_time": "2022-11-01T20:56:49.162Z"
   },
   {
    "duration": 3,
    "start_time": "2022-11-01T20:56:49.176Z"
   },
   {
    "duration": 306,
    "start_time": "2022-11-01T20:56:49.209Z"
   },
   {
    "duration": 5,
    "start_time": "2022-11-01T20:56:49.517Z"
   },
   {
    "duration": 11,
    "start_time": "2022-11-01T20:56:49.523Z"
   },
   {
    "duration": 8,
    "start_time": "2022-11-01T20:56:49.535Z"
   },
   {
    "duration": 227,
    "start_time": "2022-11-01T20:56:49.545Z"
   },
   {
    "duration": 11,
    "start_time": "2022-11-01T20:56:49.774Z"
   },
   {
    "duration": 217,
    "start_time": "2022-11-01T20:56:49.787Z"
   },
   {
    "duration": 8,
    "start_time": "2022-11-01T20:56:50.009Z"
   },
   {
    "duration": 241,
    "start_time": "2022-11-01T20:56:50.018Z"
   },
   {
    "duration": 9,
    "start_time": "2022-11-01T20:56:50.261Z"
   },
   {
    "duration": 334,
    "start_time": "2022-11-01T20:56:50.277Z"
   },
   {
    "duration": 8,
    "start_time": "2022-11-01T20:56:50.613Z"
   },
   {
    "duration": 240,
    "start_time": "2022-11-01T20:56:50.622Z"
   },
   {
    "duration": 8,
    "start_time": "2022-11-01T20:56:50.864Z"
   },
   {
    "duration": 328,
    "start_time": "2022-11-01T20:56:50.874Z"
   },
   {
    "duration": 8,
    "start_time": "2022-11-01T20:56:51.208Z"
   },
   {
    "duration": 339,
    "start_time": "2022-11-01T20:56:51.218Z"
   },
   {
    "duration": 8,
    "start_time": "2022-11-01T20:56:51.559Z"
   },
   {
    "duration": 12,
    "start_time": "2022-11-01T20:56:51.568Z"
   },
   {
    "duration": 112,
    "start_time": "2022-11-01T20:56:51.581Z"
   },
   {
    "duration": 289,
    "start_time": "2022-11-01T20:56:51.695Z"
   },
   {
    "duration": 7,
    "start_time": "2022-11-01T20:56:51.985Z"
   },
   {
    "duration": 202,
    "start_time": "2022-11-01T21:03:21.991Z"
   },
   {
    "duration": 208,
    "start_time": "2022-11-01T21:04:13.318Z"
   },
   {
    "duration": 198,
    "start_time": "2022-11-01T21:04:31.212Z"
   },
   {
    "duration": 9,
    "start_time": "2022-11-01T21:07:26.836Z"
   },
   {
    "duration": 206,
    "start_time": "2022-11-01T21:14:11.689Z"
   },
   {
    "duration": 179,
    "start_time": "2022-11-01T21:15:08.456Z"
   },
   {
    "duration": 9,
    "start_time": "2022-11-01T21:18:53.938Z"
   },
   {
    "duration": 107,
    "start_time": "2022-11-01T21:23:59.442Z"
   },
   {
    "duration": 9,
    "start_time": "2022-11-01T21:24:12.891Z"
   },
   {
    "duration": 5,
    "start_time": "2022-11-01T21:25:26.688Z"
   },
   {
    "duration": 6,
    "start_time": "2022-11-01T21:25:44.756Z"
   },
   {
    "duration": 115,
    "start_time": "2022-11-01T21:30:51.778Z"
   },
   {
    "duration": 208,
    "start_time": "2022-11-01T21:31:13.146Z"
   },
   {
    "duration": 11,
    "start_time": "2022-11-01T21:34:10.151Z"
   },
   {
    "duration": 283,
    "start_time": "2022-11-01T21:39:51.315Z"
   },
   {
    "duration": 207,
    "start_time": "2022-11-01T21:43:20.595Z"
   },
   {
    "duration": 2517,
    "start_time": "2022-11-01T21:50:20.340Z"
   },
   {
    "duration": 52,
    "start_time": "2022-11-02T10:00:36.810Z"
   },
   {
    "duration": 1463,
    "start_time": "2022-11-02T10:00:45.771Z"
   },
   {
    "duration": 619,
    "start_time": "2022-11-02T10:00:47.236Z"
   },
   {
    "duration": 88,
    "start_time": "2022-11-02T10:00:47.856Z"
   },
   {
    "duration": 15,
    "start_time": "2022-11-02T10:00:47.946Z"
   },
   {
    "duration": 2031,
    "start_time": "2022-11-02T10:00:47.962Z"
   },
   {
    "duration": 11,
    "start_time": "2022-11-02T10:00:49.995Z"
   },
   {
    "duration": 20,
    "start_time": "2022-11-02T10:00:50.008Z"
   },
   {
    "duration": 10,
    "start_time": "2022-11-02T10:00:50.030Z"
   },
   {
    "duration": 9,
    "start_time": "2022-11-02T10:00:50.041Z"
   },
   {
    "duration": 5,
    "start_time": "2022-11-02T10:00:50.054Z"
   },
   {
    "duration": 10,
    "start_time": "2022-11-02T10:00:50.061Z"
   },
   {
    "duration": 8,
    "start_time": "2022-11-02T10:00:50.073Z"
   },
   {
    "duration": 8,
    "start_time": "2022-11-02T10:00:50.083Z"
   },
   {
    "duration": 13,
    "start_time": "2022-11-02T10:00:50.093Z"
   },
   {
    "duration": 32,
    "start_time": "2022-11-02T10:00:50.108Z"
   },
   {
    "duration": 9,
    "start_time": "2022-11-02T10:00:50.142Z"
   },
   {
    "duration": 9,
    "start_time": "2022-11-02T10:00:50.153Z"
   },
   {
    "duration": 14,
    "start_time": "2022-11-02T10:00:50.164Z"
   },
   {
    "duration": 381,
    "start_time": "2022-11-02T10:00:50.179Z"
   },
   {
    "duration": 22,
    "start_time": "2022-11-02T10:00:50.561Z"
   },
   {
    "duration": 22,
    "start_time": "2022-11-02T10:00:50.585Z"
   },
   {
    "duration": 25,
    "start_time": "2022-11-02T10:00:50.609Z"
   },
   {
    "duration": 10,
    "start_time": "2022-11-02T10:00:50.636Z"
   },
   {
    "duration": 7,
    "start_time": "2022-11-02T10:00:50.648Z"
   },
   {
    "duration": 6,
    "start_time": "2022-11-02T10:00:50.657Z"
   },
   {
    "duration": 28,
    "start_time": "2022-11-02T10:00:50.665Z"
   },
   {
    "duration": 7,
    "start_time": "2022-11-02T10:00:50.694Z"
   },
   {
    "duration": 7,
    "start_time": "2022-11-02T10:00:50.735Z"
   },
   {
    "duration": 13,
    "start_time": "2022-11-02T10:00:50.743Z"
   },
   {
    "duration": 8,
    "start_time": "2022-11-02T10:00:50.758Z"
   },
   {
    "duration": 8,
    "start_time": "2022-11-02T10:00:50.767Z"
   },
   {
    "duration": 5,
    "start_time": "2022-11-02T10:00:50.777Z"
   },
   {
    "duration": 9,
    "start_time": "2022-11-02T10:00:50.783Z"
   },
   {
    "duration": 45,
    "start_time": "2022-11-02T10:00:50.793Z"
   },
   {
    "duration": 1137,
    "start_time": "2022-11-02T10:00:50.839Z"
   },
   {
    "duration": 4,
    "start_time": "2022-11-02T10:00:51.977Z"
   },
   {
    "duration": 11,
    "start_time": "2022-11-02T10:00:51.983Z"
   },
   {
    "duration": 1181,
    "start_time": "2022-11-02T10:00:51.995Z"
   },
   {
    "duration": 5,
    "start_time": "2022-11-02T10:00:53.178Z"
   },
   {
    "duration": 11,
    "start_time": "2022-11-02T10:00:53.185Z"
   },
   {
    "duration": 7,
    "start_time": "2022-11-02T10:00:53.198Z"
   },
   {
    "duration": 12,
    "start_time": "2022-11-02T10:00:53.206Z"
   },
   {
    "duration": 18,
    "start_time": "2022-11-02T10:00:53.220Z"
   },
   {
    "duration": 16,
    "start_time": "2022-11-02T10:00:53.240Z"
   },
   {
    "duration": 23,
    "start_time": "2022-11-02T10:00:53.258Z"
   },
   {
    "duration": 4,
    "start_time": "2022-11-02T10:00:53.284Z"
   },
   {
    "duration": 8,
    "start_time": "2022-11-02T10:00:53.290Z"
   },
   {
    "duration": 13,
    "start_time": "2022-11-02T10:00:53.300Z"
   },
   {
    "duration": 24,
    "start_time": "2022-11-02T10:00:53.315Z"
   },
   {
    "duration": 7,
    "start_time": "2022-11-02T10:00:53.342Z"
   },
   {
    "duration": 5,
    "start_time": "2022-11-02T10:00:53.352Z"
   },
   {
    "duration": 10,
    "start_time": "2022-11-02T10:00:53.359Z"
   },
   {
    "duration": 8,
    "start_time": "2022-11-02T10:00:53.371Z"
   },
   {
    "duration": 9,
    "start_time": "2022-11-02T10:00:53.380Z"
   },
   {
    "duration": 7,
    "start_time": "2022-11-02T10:00:53.391Z"
   },
   {
    "duration": 6,
    "start_time": "2022-11-02T10:00:53.400Z"
   },
   {
    "duration": 5,
    "start_time": "2022-11-02T10:00:53.434Z"
   },
   {
    "duration": 10,
    "start_time": "2022-11-02T10:00:53.441Z"
   },
   {
    "duration": 10,
    "start_time": "2022-11-02T10:00:53.453Z"
   },
   {
    "duration": 10,
    "start_time": "2022-11-02T10:00:53.465Z"
   },
   {
    "duration": 13,
    "start_time": "2022-11-02T10:00:53.477Z"
   },
   {
    "duration": 7,
    "start_time": "2022-11-02T10:00:53.492Z"
   },
   {
    "duration": 7,
    "start_time": "2022-11-02T10:00:53.500Z"
   },
   {
    "duration": 5,
    "start_time": "2022-11-02T10:00:53.534Z"
   },
   {
    "duration": 166,
    "start_time": "2022-11-02T10:00:53.541Z"
   },
   {
    "duration": 7,
    "start_time": "2022-11-02T10:00:53.708Z"
   },
   {
    "duration": 35,
    "start_time": "2022-11-02T10:00:53.717Z"
   },
   {
    "duration": 4,
    "start_time": "2022-11-02T10:00:53.754Z"
   },
   {
    "duration": 20,
    "start_time": "2022-11-02T10:00:53.759Z"
   },
   {
    "duration": 15,
    "start_time": "2022-11-02T10:00:53.780Z"
   },
   {
    "duration": 3,
    "start_time": "2022-11-02T10:00:53.797Z"
   },
   {
    "duration": 310,
    "start_time": "2022-11-02T10:00:53.801Z"
   },
   {
    "duration": 5,
    "start_time": "2022-11-02T10:00:54.113Z"
   },
   {
    "duration": 15,
    "start_time": "2022-11-02T10:00:54.119Z"
   },
   {
    "duration": 5,
    "start_time": "2022-11-02T10:00:54.136Z"
   },
   {
    "duration": 239,
    "start_time": "2022-11-02T10:00:54.142Z"
   },
   {
    "duration": 9,
    "start_time": "2022-11-02T10:00:54.383Z"
   },
   {
    "duration": 244,
    "start_time": "2022-11-02T10:00:54.393Z"
   },
   {
    "duration": 10,
    "start_time": "2022-11-02T10:00:54.639Z"
   },
   {
    "duration": 251,
    "start_time": "2022-11-02T10:00:54.651Z"
   },
   {
    "duration": 11,
    "start_time": "2022-11-02T10:00:54.903Z"
   },
   {
    "duration": 338,
    "start_time": "2022-11-02T10:00:54.919Z"
   },
   {
    "duration": 10,
    "start_time": "2022-11-02T10:00:55.258Z"
   },
   {
    "duration": 333,
    "start_time": "2022-11-02T10:00:55.269Z"
   },
   {
    "duration": 8,
    "start_time": "2022-11-02T10:00:55.603Z"
   },
   {
    "duration": 361,
    "start_time": "2022-11-02T10:00:55.613Z"
   },
   {
    "duration": 8,
    "start_time": "2022-11-02T10:00:55.976Z"
   },
   {
    "duration": 459,
    "start_time": "2022-11-02T10:00:55.986Z"
   },
   {
    "duration": 11,
    "start_time": "2022-11-02T10:00:56.447Z"
   },
   {
    "duration": 17,
    "start_time": "2022-11-02T10:00:56.460Z"
   },
   {
    "duration": 130,
    "start_time": "2022-11-02T10:00:56.479Z"
   },
   {
    "duration": 225,
    "start_time": "2022-11-02T10:00:56.611Z"
   },
   {
    "duration": 9,
    "start_time": "2022-11-02T10:00:56.838Z"
   },
   {
    "duration": 237,
    "start_time": "2022-11-02T10:00:56.848Z"
   },
   {
    "duration": 10,
    "start_time": "2022-11-02T10:00:57.086Z"
   },
   {
    "duration": 321,
    "start_time": "2022-11-02T10:00:57.097Z"
   },
   {
    "duration": 16,
    "start_time": "2022-11-02T10:00:57.420Z"
   },
   {
    "duration": 247,
    "start_time": "2022-11-02T10:00:57.438Z"
   },
   {
    "duration": 10,
    "start_time": "2022-11-02T10:00:57.687Z"
   },
   {
    "duration": 237,
    "start_time": "2022-11-02T10:00:57.699Z"
   },
   {
    "duration": 228,
    "start_time": "2022-11-02T10:00:57.938Z"
   },
   {
    "duration": 242,
    "start_time": "2022-11-02T10:00:58.168Z"
   },
   {
    "duration": 411,
    "start_time": "2022-11-02T10:01:25.850Z"
   },
   {
    "duration": 11,
    "start_time": "2022-11-02T10:14:54.372Z"
   },
   {
    "duration": 78,
    "start_time": "2022-11-02T10:45:21.302Z"
   },
   {
    "duration": 17,
    "start_time": "2022-11-02T10:55:39.852Z"
   },
   {
    "duration": 14,
    "start_time": "2022-11-02T10:56:01.268Z"
   },
   {
    "duration": 77,
    "start_time": "2022-11-02T11:04:39.760Z"
   },
   {
    "duration": 32,
    "start_time": "2022-11-02T11:05:21.867Z"
   },
   {
    "duration": 9,
    "start_time": "2022-11-02T11:26:54.168Z"
   },
   {
    "duration": 14,
    "start_time": "2022-11-02T11:27:03.330Z"
   },
   {
    "duration": 149,
    "start_time": "2022-11-02T12:02:41.081Z"
   },
   {
    "duration": 26,
    "start_time": "2022-11-02T12:03:24.401Z"
   },
   {
    "duration": 23,
    "start_time": "2022-11-02T12:03:48.044Z"
   },
   {
    "duration": 1412,
    "start_time": "2022-11-02T12:04:51.471Z"
   },
   {
    "duration": 528,
    "start_time": "2022-11-02T12:06:20.523Z"
   },
   {
    "duration": 73,
    "start_time": "2022-11-02T12:24:55.649Z"
   },
   {
    "duration": 128,
    "start_time": "2022-11-02T12:28:00.816Z"
   },
   {
    "duration": 3,
    "start_time": "2022-11-02T12:35:15.792Z"
   },
   {
    "duration": 10,
    "start_time": "2022-11-02T12:35:17.492Z"
   },
   {
    "duration": 26,
    "start_time": "2022-11-02T12:38:55.726Z"
   },
   {
    "duration": 4,
    "start_time": "2022-11-02T12:39:10.075Z"
   },
   {
    "duration": 10,
    "start_time": "2022-11-02T12:39:11.960Z"
   },
   {
    "duration": 21,
    "start_time": "2022-11-02T12:39:15.164Z"
   },
   {
    "duration": 24,
    "start_time": "2022-11-02T12:39:37.589Z"
   },
   {
    "duration": 17,
    "start_time": "2022-11-02T12:39:57.457Z"
   },
   {
    "duration": 1892,
    "start_time": "2022-11-02T12:40:21.819Z"
   },
   {
    "duration": 876,
    "start_time": "2022-11-02T12:40:27.789Z"
   },
   {
    "duration": 23,
    "start_time": "2022-11-02T12:41:43.163Z"
   },
   {
    "duration": 29,
    "start_time": "2022-11-02T12:43:02.689Z"
   },
   {
    "duration": 28,
    "start_time": "2022-11-02T12:43:19.778Z"
   },
   {
    "duration": 1364,
    "start_time": "2022-11-02T13:09:52.784Z"
   },
   {
    "duration": 1183,
    "start_time": "2022-11-02T13:12:04.030Z"
   },
   {
    "duration": 1173,
    "start_time": "2022-11-02T13:19:32.404Z"
   },
   {
    "duration": 1297,
    "start_time": "2022-11-02T13:25:17.930Z"
   },
   {
    "duration": 1326,
    "start_time": "2022-11-02T13:25:41.482Z"
   },
   {
    "duration": 13,
    "start_time": "2022-11-02T13:34:38.558Z"
   },
   {
    "duration": 25,
    "start_time": "2022-11-02T13:36:02.773Z"
   },
   {
    "duration": 15,
    "start_time": "2022-11-02T13:37:39.558Z"
   },
   {
    "duration": 18,
    "start_time": "2022-11-02T13:38:21.796Z"
   },
   {
    "duration": 17,
    "start_time": "2022-11-02T13:39:02.250Z"
   },
   {
    "duration": 13,
    "start_time": "2022-11-02T14:45:08.473Z"
   },
   {
    "duration": 177,
    "start_time": "2022-11-02T14:45:10.901Z"
   },
   {
    "duration": 12,
    "start_time": "2022-11-02T14:47:33.463Z"
   },
   {
    "duration": 212,
    "start_time": "2022-11-02T14:47:36.668Z"
   },
   {
    "duration": 160,
    "start_time": "2022-11-02T14:48:27.062Z"
   },
   {
    "duration": 184,
    "start_time": "2022-11-02T14:51:42.974Z"
   },
   {
    "duration": 14,
    "start_time": "2022-11-02T14:54:56.091Z"
   },
   {
    "duration": 401,
    "start_time": "2022-11-02T14:55:16.614Z"
   },
   {
    "duration": 13,
    "start_time": "2022-11-02T14:55:24.667Z"
   },
   {
    "duration": 200,
    "start_time": "2022-11-02T14:56:24.425Z"
   },
   {
    "duration": 13,
    "start_time": "2022-11-02T14:59:37.776Z"
   },
   {
    "duration": 224,
    "start_time": "2022-11-02T15:00:35.578Z"
   },
   {
    "duration": 279,
    "start_time": "2022-11-02T15:01:36.702Z"
   },
   {
    "duration": 232,
    "start_time": "2022-11-02T15:01:49.277Z"
   },
   {
    "duration": 14,
    "start_time": "2022-11-02T15:06:30.804Z"
   },
   {
    "duration": 197,
    "start_time": "2022-11-02T15:07:10.156Z"
   },
   {
    "duration": 23,
    "start_time": "2022-11-02T15:31:39.829Z"
   },
   {
    "duration": 22,
    "start_time": "2022-11-02T15:32:20.364Z"
   },
   {
    "duration": 21,
    "start_time": "2022-11-02T15:33:43.457Z"
   },
   {
    "duration": 28,
    "start_time": "2022-11-02T15:33:56.398Z"
   },
   {
    "duration": 21,
    "start_time": "2022-11-02T15:34:09.894Z"
   },
   {
    "duration": 22,
    "start_time": "2022-11-02T15:35:41.053Z"
   },
   {
    "duration": 12,
    "start_time": "2022-11-02T15:42:20.752Z"
   },
   {
    "duration": 8,
    "start_time": "2022-11-02T15:48:22.447Z"
   },
   {
    "duration": 8,
    "start_time": "2022-11-02T15:50:21.262Z"
   },
   {
    "duration": 19,
    "start_time": "2022-11-02T15:59:16.901Z"
   },
   {
    "duration": 1197,
    "start_time": "2022-11-02T16:00:11.182Z"
   },
   {
    "duration": 104,
    "start_time": "2022-11-02T16:00:12.381Z"
   },
   {
    "duration": 97,
    "start_time": "2022-11-02T16:00:12.487Z"
   },
   {
    "duration": 16,
    "start_time": "2022-11-02T16:00:12.586Z"
   },
   {
    "duration": 2110,
    "start_time": "2022-11-02T16:00:12.603Z"
   },
   {
    "duration": 14,
    "start_time": "2022-11-02T16:00:14.715Z"
   },
   {
    "duration": 12,
    "start_time": "2022-11-02T16:00:14.731Z"
   },
   {
    "duration": 12,
    "start_time": "2022-11-02T16:00:14.746Z"
   },
   {
    "duration": 10,
    "start_time": "2022-11-02T16:00:14.759Z"
   },
   {
    "duration": 6,
    "start_time": "2022-11-02T16:00:14.772Z"
   },
   {
    "duration": 5,
    "start_time": "2022-11-02T16:00:14.779Z"
   },
   {
    "duration": 8,
    "start_time": "2022-11-02T16:00:14.786Z"
   },
   {
    "duration": 11,
    "start_time": "2022-11-02T16:00:14.795Z"
   },
   {
    "duration": 11,
    "start_time": "2022-11-02T16:00:14.808Z"
   },
   {
    "duration": 27,
    "start_time": "2022-11-02T16:00:14.820Z"
   },
   {
    "duration": 10,
    "start_time": "2022-11-02T16:00:14.853Z"
   },
   {
    "duration": 12,
    "start_time": "2022-11-02T16:00:14.865Z"
   },
   {
    "duration": 7,
    "start_time": "2022-11-02T16:00:14.879Z"
   },
   {
    "duration": 384,
    "start_time": "2022-11-02T16:00:14.887Z"
   },
   {
    "duration": 20,
    "start_time": "2022-11-02T16:00:15.273Z"
   },
   {
    "duration": 22,
    "start_time": "2022-11-02T16:00:15.294Z"
   },
   {
    "duration": 19,
    "start_time": "2022-11-02T16:00:15.317Z"
   },
   {
    "duration": 27,
    "start_time": "2022-11-02T16:00:15.338Z"
   },
   {
    "duration": 8,
    "start_time": "2022-11-02T16:00:15.366Z"
   },
   {
    "duration": 7,
    "start_time": "2022-11-02T16:00:15.375Z"
   },
   {
    "duration": 26,
    "start_time": "2022-11-02T16:00:15.384Z"
   },
   {
    "duration": 6,
    "start_time": "2022-11-02T16:00:15.412Z"
   },
   {
    "duration": 13,
    "start_time": "2022-11-02T16:00:15.436Z"
   },
   {
    "duration": 9,
    "start_time": "2022-11-02T16:00:15.450Z"
   },
   {
    "duration": 9,
    "start_time": "2022-11-02T16:00:15.461Z"
   },
   {
    "duration": 20,
    "start_time": "2022-11-02T16:00:15.471Z"
   },
   {
    "duration": 9,
    "start_time": "2022-11-02T16:00:15.493Z"
   },
   {
    "duration": 21,
    "start_time": "2022-11-02T16:00:15.504Z"
   },
   {
    "duration": 25,
    "start_time": "2022-11-02T16:00:15.532Z"
   },
   {
    "duration": 1241,
    "start_time": "2022-11-02T16:00:15.558Z"
   },
   {
    "duration": 5,
    "start_time": "2022-11-02T16:00:16.801Z"
   },
   {
    "duration": 11,
    "start_time": "2022-11-02T16:00:16.808Z"
   },
   {
    "duration": 1152,
    "start_time": "2022-11-02T16:00:16.820Z"
   },
   {
    "duration": 5,
    "start_time": "2022-11-02T16:00:17.973Z"
   },
   {
    "duration": 9,
    "start_time": "2022-11-02T16:00:17.980Z"
   },
   {
    "duration": 4,
    "start_time": "2022-11-02T16:00:17.991Z"
   },
   {
    "duration": 10,
    "start_time": "2022-11-02T16:00:17.997Z"
   },
   {
    "duration": 26,
    "start_time": "2022-11-02T16:00:18.009Z"
   },
   {
    "duration": 13,
    "start_time": "2022-11-02T16:00:18.040Z"
   },
   {
    "duration": 23,
    "start_time": "2022-11-02T16:00:18.055Z"
   },
   {
    "duration": 5,
    "start_time": "2022-11-02T16:00:18.079Z"
   },
   {
    "duration": 14,
    "start_time": "2022-11-02T16:00:18.086Z"
   },
   {
    "duration": 7,
    "start_time": "2022-11-02T16:00:18.102Z"
   },
   {
    "duration": 6,
    "start_time": "2022-11-02T16:00:18.111Z"
   },
   {
    "duration": 8,
    "start_time": "2022-11-02T16:00:18.133Z"
   },
   {
    "duration": 25,
    "start_time": "2022-11-02T16:00:18.143Z"
   },
   {
    "duration": 8,
    "start_time": "2022-11-02T16:00:18.169Z"
   },
   {
    "duration": 8,
    "start_time": "2022-11-02T16:00:18.179Z"
   },
   {
    "duration": 9,
    "start_time": "2022-11-02T16:00:18.189Z"
   },
   {
    "duration": 19,
    "start_time": "2022-11-02T16:00:18.200Z"
   },
   {
    "duration": 7,
    "start_time": "2022-11-02T16:00:18.220Z"
   },
   {
    "duration": 9,
    "start_time": "2022-11-02T16:00:18.229Z"
   },
   {
    "duration": 16,
    "start_time": "2022-11-02T16:00:18.239Z"
   },
   {
    "duration": 10,
    "start_time": "2022-11-02T16:00:18.257Z"
   },
   {
    "duration": 7,
    "start_time": "2022-11-02T16:00:18.269Z"
   },
   {
    "duration": 9,
    "start_time": "2022-11-02T16:00:18.278Z"
   },
   {
    "duration": 7,
    "start_time": "2022-11-02T16:00:18.289Z"
   },
   {
    "duration": 6,
    "start_time": "2022-11-02T16:00:18.298Z"
   },
   {
    "duration": 5,
    "start_time": "2022-11-02T16:00:18.306Z"
   },
   {
    "duration": 168,
    "start_time": "2022-11-02T16:00:18.313Z"
   },
   {
    "duration": 6,
    "start_time": "2022-11-02T16:00:18.483Z"
   },
   {
    "duration": 21,
    "start_time": "2022-11-02T16:00:18.491Z"
   },
   {
    "duration": 28,
    "start_time": "2022-11-02T16:00:18.514Z"
   },
   {
    "duration": 25,
    "start_time": "2022-11-02T16:00:18.544Z"
   },
   {
    "duration": 14,
    "start_time": "2022-11-02T16:00:18.571Z"
   },
   {
    "duration": 6,
    "start_time": "2022-11-02T16:00:18.587Z"
   },
   {
    "duration": 337,
    "start_time": "2022-11-02T16:00:18.595Z"
   },
   {
    "duration": 12,
    "start_time": "2022-11-02T16:00:18.936Z"
   },
   {
    "duration": 11,
    "start_time": "2022-11-02T16:00:18.949Z"
   },
   {
    "duration": 7,
    "start_time": "2022-11-02T16:00:18.962Z"
   },
   {
    "duration": 233,
    "start_time": "2022-11-02T16:00:18.971Z"
   },
   {
    "duration": 8,
    "start_time": "2022-11-02T16:00:19.206Z"
   },
   {
    "duration": 247,
    "start_time": "2022-11-02T16:00:19.216Z"
   },
   {
    "duration": 10,
    "start_time": "2022-11-02T16:00:19.465Z"
   },
   {
    "duration": 281,
    "start_time": "2022-11-02T16:00:19.477Z"
   },
   {
    "duration": 11,
    "start_time": "2022-11-02T16:00:19.760Z"
   },
   {
    "duration": 358,
    "start_time": "2022-11-02T16:00:19.779Z"
   },
   {
    "duration": 14,
    "start_time": "2022-11-02T16:00:20.145Z"
   },
   {
    "duration": 361,
    "start_time": "2022-11-02T16:00:20.161Z"
   },
   {
    "duration": 26,
    "start_time": "2022-11-02T16:00:20.524Z"
   },
   {
    "duration": 369,
    "start_time": "2022-11-02T16:00:20.552Z"
   },
   {
    "duration": 27,
    "start_time": "2022-11-02T16:00:20.923Z"
   },
   {
    "duration": 410,
    "start_time": "2022-11-02T16:00:20.952Z"
   },
   {
    "duration": 8,
    "start_time": "2022-11-02T16:00:21.364Z"
   },
   {
    "duration": 8,
    "start_time": "2022-11-02T16:00:21.374Z"
   },
   {
    "duration": 125,
    "start_time": "2022-11-02T16:00:21.383Z"
   },
   {
    "duration": 239,
    "start_time": "2022-11-02T16:00:21.509Z"
   },
   {
    "duration": 9,
    "start_time": "2022-11-02T16:00:21.750Z"
   },
   {
    "duration": 243,
    "start_time": "2022-11-02T16:00:21.760Z"
   },
   {
    "duration": 12,
    "start_time": "2022-11-02T16:00:22.005Z"
   },
   {
    "duration": 366,
    "start_time": "2022-11-02T16:00:22.019Z"
   },
   {
    "duration": 10,
    "start_time": "2022-11-02T16:00:22.387Z"
   },
   {
    "duration": 280,
    "start_time": "2022-11-02T16:00:22.398Z"
   },
   {
    "duration": 11,
    "start_time": "2022-11-02T16:00:22.680Z"
   },
   {
    "duration": 293,
    "start_time": "2022-11-02T16:00:22.693Z"
   },
   {
    "duration": 241,
    "start_time": "2022-11-02T16:00:22.988Z"
   },
   {
    "duration": 442,
    "start_time": "2022-11-02T16:00:23.234Z"
   },
   {
    "duration": 9,
    "start_time": "2022-11-02T16:00:23.678Z"
   },
   {
    "duration": 9,
    "start_time": "2022-11-02T16:00:23.689Z"
   },
   {
    "duration": 91,
    "start_time": "2022-11-02T16:00:23.700Z"
   },
   {
    "duration": 1230,
    "start_time": "2022-11-02T16:00:23.793Z"
   },
   {
    "duration": 1254,
    "start_time": "2022-11-02T16:00:25.034Z"
   },
   {
    "duration": 1298,
    "start_time": "2022-11-02T16:00:26.291Z"
   },
   {
    "duration": 1320,
    "start_time": "2022-11-02T16:00:27.592Z"
   },
   {
    "duration": 26,
    "start_time": "2022-11-02T16:00:28.913Z"
   },
   {
    "duration": 168,
    "start_time": "2022-11-02T16:00:28.940Z"
   },
   {
    "duration": 12,
    "start_time": "2022-11-02T16:00:29.110Z"
   },
   {
    "duration": 333,
    "start_time": "2022-11-02T16:00:29.136Z"
   },
   {
    "duration": 15,
    "start_time": "2022-11-02T16:00:29.471Z"
   },
   {
    "duration": 279,
    "start_time": "2022-11-02T16:00:29.488Z"
   },
   {
    "duration": 14,
    "start_time": "2022-11-02T16:00:29.769Z"
   },
   {
    "duration": 204,
    "start_time": "2022-11-02T16:00:29.785Z"
   },
   {
    "duration": 22,
    "start_time": "2022-11-02T16:00:29.990Z"
   },
   {
    "duration": 23,
    "start_time": "2022-11-02T16:00:30.014Z"
   },
   {
    "duration": 22,
    "start_time": "2022-11-02T16:00:30.038Z"
   },
   {
    "duration": 37,
    "start_time": "2022-11-02T16:00:30.062Z"
   },
   {
    "duration": 19,
    "start_time": "2022-11-02T16:02:34.113Z"
   },
   {
    "duration": 17,
    "start_time": "2022-11-02T16:03:10.595Z"
   },
   {
    "duration": 30,
    "start_time": "2022-11-02T16:04:16.219Z"
   },
   {
    "duration": 132,
    "start_time": "2022-11-02T16:04:50.951Z"
   },
   {
    "duration": 21,
    "start_time": "2022-11-02T16:04:55.946Z"
   },
   {
    "duration": 19,
    "start_time": "2022-11-02T16:05:25.167Z"
   },
   {
    "duration": 405,
    "start_time": "2022-11-02T16:06:51.814Z"
   },
   {
    "duration": 19,
    "start_time": "2022-11-02T16:12:47.050Z"
   },
   {
    "duration": 387,
    "start_time": "2022-11-02T16:12:52.905Z"
   },
   {
    "duration": 42,
    "start_time": "2022-11-03T08:21:07.782Z"
   },
   {
    "duration": 1322,
    "start_time": "2022-11-03T08:21:14.641Z"
   },
   {
    "duration": 133,
    "start_time": "2022-11-03T08:21:15.965Z"
   },
   {
    "duration": 79,
    "start_time": "2022-11-03T08:21:16.100Z"
   },
   {
    "duration": 13,
    "start_time": "2022-11-03T08:21:16.181Z"
   },
   {
    "duration": 1915,
    "start_time": "2022-11-03T08:21:16.196Z"
   },
   {
    "duration": 9,
    "start_time": "2022-11-03T08:21:18.113Z"
   },
   {
    "duration": 15,
    "start_time": "2022-11-03T08:21:18.123Z"
   },
   {
    "duration": 10,
    "start_time": "2022-11-03T08:21:18.139Z"
   },
   {
    "duration": 24,
    "start_time": "2022-11-03T08:21:18.150Z"
   },
   {
    "duration": 9,
    "start_time": "2022-11-03T08:21:18.176Z"
   },
   {
    "duration": 19,
    "start_time": "2022-11-03T08:21:18.187Z"
   },
   {
    "duration": 27,
    "start_time": "2022-11-03T08:21:18.207Z"
   },
   {
    "duration": 11,
    "start_time": "2022-11-03T08:21:18.236Z"
   },
   {
    "duration": 35,
    "start_time": "2022-11-03T08:21:18.248Z"
   },
   {
    "duration": 14,
    "start_time": "2022-11-03T08:21:18.302Z"
   },
   {
    "duration": 18,
    "start_time": "2022-11-03T08:21:18.318Z"
   },
   {
    "duration": 42,
    "start_time": "2022-11-03T08:21:18.337Z"
   },
   {
    "duration": 29,
    "start_time": "2022-11-03T08:21:18.380Z"
   },
   {
    "duration": 332,
    "start_time": "2022-11-03T08:21:18.410Z"
   },
   {
    "duration": 20,
    "start_time": "2022-11-03T08:21:18.744Z"
   },
   {
    "duration": 26,
    "start_time": "2022-11-03T08:21:18.766Z"
   },
   {
    "duration": 21,
    "start_time": "2022-11-03T08:21:18.794Z"
   },
   {
    "duration": 22,
    "start_time": "2022-11-03T08:21:18.816Z"
   },
   {
    "duration": 17,
    "start_time": "2022-11-03T08:21:18.840Z"
   },
   {
    "duration": 25,
    "start_time": "2022-11-03T08:21:18.859Z"
   },
   {
    "duration": 21,
    "start_time": "2022-11-03T08:21:18.885Z"
   },
   {
    "duration": 8,
    "start_time": "2022-11-03T08:21:18.908Z"
   },
   {
    "duration": 11,
    "start_time": "2022-11-03T08:21:18.919Z"
   },
   {
    "duration": 21,
    "start_time": "2022-11-03T08:21:18.931Z"
   },
   {
    "duration": 20,
    "start_time": "2022-11-03T08:21:18.953Z"
   },
   {
    "duration": 18,
    "start_time": "2022-11-03T08:21:18.974Z"
   },
   {
    "duration": 9,
    "start_time": "2022-11-03T08:21:18.993Z"
   },
   {
    "duration": 15,
    "start_time": "2022-11-03T08:21:19.003Z"
   },
   {
    "duration": 942,
    "start_time": "2022-11-03T08:21:19.019Z"
   },
   {
    "duration": 4,
    "start_time": "2022-11-03T08:21:19.963Z"
   },
   {
    "duration": 8,
    "start_time": "2022-11-03T08:21:19.968Z"
   },
   {
    "duration": 920,
    "start_time": "2022-11-03T08:21:19.978Z"
   },
   {
    "duration": 6,
    "start_time": "2022-11-03T08:21:20.899Z"
   },
   {
    "duration": 5,
    "start_time": "2022-11-03T08:21:20.907Z"
   },
   {
    "duration": 6,
    "start_time": "2022-11-03T08:21:20.913Z"
   },
   {
    "duration": 11,
    "start_time": "2022-11-03T08:21:20.920Z"
   },
   {
    "duration": 4,
    "start_time": "2022-11-03T08:21:20.932Z"
   },
   {
    "duration": 6,
    "start_time": "2022-11-03T08:21:20.937Z"
   },
   {
    "duration": 15,
    "start_time": "2022-11-03T08:21:20.945Z"
   },
   {
    "duration": 4,
    "start_time": "2022-11-03T08:21:20.961Z"
   },
   {
    "duration": 43,
    "start_time": "2022-11-03T08:21:20.966Z"
   },
   {
    "duration": 6,
    "start_time": "2022-11-03T08:21:21.011Z"
   },
   {
    "duration": 5,
    "start_time": "2022-11-03T08:21:21.018Z"
   },
   {
    "duration": 12,
    "start_time": "2022-11-03T08:21:21.025Z"
   },
   {
    "duration": 10,
    "start_time": "2022-11-03T08:21:21.039Z"
   },
   {
    "duration": 6,
    "start_time": "2022-11-03T08:21:21.050Z"
   },
   {
    "duration": 10,
    "start_time": "2022-11-03T08:21:21.058Z"
   },
   {
    "duration": 6,
    "start_time": "2022-11-03T08:21:21.070Z"
   },
   {
    "duration": 31,
    "start_time": "2022-11-03T08:21:21.078Z"
   },
   {
    "duration": 6,
    "start_time": "2022-11-03T08:21:21.111Z"
   },
   {
    "duration": 6,
    "start_time": "2022-11-03T08:21:21.118Z"
   },
   {
    "duration": 7,
    "start_time": "2022-11-03T08:21:21.125Z"
   },
   {
    "duration": 5,
    "start_time": "2022-11-03T08:21:21.133Z"
   },
   {
    "duration": 6,
    "start_time": "2022-11-03T08:21:21.139Z"
   },
   {
    "duration": 7,
    "start_time": "2022-11-03T08:21:21.147Z"
   },
   {
    "duration": 4,
    "start_time": "2022-11-03T08:21:21.155Z"
   },
   {
    "duration": 6,
    "start_time": "2022-11-03T08:21:21.206Z"
   },
   {
    "duration": 6,
    "start_time": "2022-11-03T08:21:21.213Z"
   },
   {
    "duration": 142,
    "start_time": "2022-11-03T08:21:21.220Z"
   },
   {
    "duration": 6,
    "start_time": "2022-11-03T08:21:21.364Z"
   },
   {
    "duration": 35,
    "start_time": "2022-11-03T08:21:21.371Z"
   },
   {
    "duration": 4,
    "start_time": "2022-11-03T08:21:21.407Z"
   },
   {
    "duration": 18,
    "start_time": "2022-11-03T08:21:21.413Z"
   },
   {
    "duration": 13,
    "start_time": "2022-11-03T08:21:21.432Z"
   },
   {
    "duration": 8,
    "start_time": "2022-11-03T08:21:21.446Z"
   },
   {
    "duration": 271,
    "start_time": "2022-11-03T08:21:21.455Z"
   },
   {
    "duration": 5,
    "start_time": "2022-11-03T08:21:21.727Z"
   },
   {
    "duration": 7,
    "start_time": "2022-11-03T08:21:21.733Z"
   },
   {
    "duration": 8,
    "start_time": "2022-11-03T08:21:21.741Z"
   },
   {
    "duration": 206,
    "start_time": "2022-11-03T08:21:21.751Z"
   },
   {
    "duration": 8,
    "start_time": "2022-11-03T08:21:21.958Z"
   },
   {
    "duration": 201,
    "start_time": "2022-11-03T08:21:21.968Z"
   },
   {
    "duration": 8,
    "start_time": "2022-11-03T08:21:22.171Z"
   },
   {
    "duration": 216,
    "start_time": "2022-11-03T08:21:22.181Z"
   },
   {
    "duration": 13,
    "start_time": "2022-11-03T08:21:22.398Z"
   },
   {
    "duration": 285,
    "start_time": "2022-11-03T08:21:22.412Z"
   },
   {
    "duration": 11,
    "start_time": "2022-11-03T08:21:22.708Z"
   },
   {
    "duration": 315,
    "start_time": "2022-11-03T08:21:22.721Z"
   },
   {
    "duration": 8,
    "start_time": "2022-11-03T08:21:23.037Z"
   },
   {
    "duration": 326,
    "start_time": "2022-11-03T08:21:23.047Z"
   },
   {
    "duration": 9,
    "start_time": "2022-11-03T08:21:23.374Z"
   },
   {
    "duration": 336,
    "start_time": "2022-11-03T08:21:23.385Z"
   },
   {
    "duration": 8,
    "start_time": "2022-11-03T08:21:23.723Z"
   },
   {
    "duration": 6,
    "start_time": "2022-11-03T08:21:23.732Z"
   },
   {
    "duration": 116,
    "start_time": "2022-11-03T08:21:23.740Z"
   },
   {
    "duration": 195,
    "start_time": "2022-11-03T08:21:23.857Z"
   },
   {
    "duration": 8,
    "start_time": "2022-11-03T08:21:24.053Z"
   },
   {
    "duration": 214,
    "start_time": "2022-11-03T08:21:24.062Z"
   },
   {
    "duration": 9,
    "start_time": "2022-11-03T08:21:24.278Z"
   },
   {
    "duration": 288,
    "start_time": "2022-11-03T08:21:24.288Z"
   },
   {
    "duration": 8,
    "start_time": "2022-11-03T08:21:24.577Z"
   },
   {
    "duration": 207,
    "start_time": "2022-11-03T08:21:24.586Z"
   },
   {
    "duration": 16,
    "start_time": "2022-11-03T08:21:24.795Z"
   },
   {
    "duration": 204,
    "start_time": "2022-11-03T08:21:24.813Z"
   },
   {
    "duration": 190,
    "start_time": "2022-11-03T08:21:25.019Z"
   },
   {
    "duration": 335,
    "start_time": "2022-11-03T08:21:25.210Z"
   },
   {
    "duration": 9,
    "start_time": "2022-11-03T08:21:25.546Z"
   },
   {
    "duration": 9,
    "start_time": "2022-11-03T08:21:25.556Z"
   },
   {
    "duration": 81,
    "start_time": "2022-11-03T08:21:25.566Z"
   },
   {
    "duration": 1177,
    "start_time": "2022-11-03T08:21:25.648Z"
   },
   {
    "duration": 1039,
    "start_time": "2022-11-03T08:21:26.827Z"
   },
   {
    "duration": 1019,
    "start_time": "2022-11-03T08:21:27.867Z"
   },
   {
    "duration": 1027,
    "start_time": "2022-11-03T08:21:28.887Z"
   },
   {
    "duration": 12,
    "start_time": "2022-11-03T08:21:29.915Z"
   },
   {
    "duration": 142,
    "start_time": "2022-11-03T08:21:29.929Z"
   },
   {
    "duration": 10,
    "start_time": "2022-11-03T08:21:30.073Z"
   },
   {
    "duration": 294,
    "start_time": "2022-11-03T08:21:30.085Z"
   },
   {
    "duration": 10,
    "start_time": "2022-11-03T08:21:30.381Z"
   },
   {
    "duration": 186,
    "start_time": "2022-11-03T08:21:30.393Z"
   },
   {
    "duration": 12,
    "start_time": "2022-11-03T08:21:30.580Z"
   },
   {
    "duration": 173,
    "start_time": "2022-11-03T08:21:30.593Z"
   },
   {
    "duration": 20,
    "start_time": "2022-11-03T08:21:30.768Z"
   },
   {
    "duration": 20,
    "start_time": "2022-11-03T08:21:30.789Z"
   },
   {
    "duration": 6,
    "start_time": "2022-11-03T08:21:30.810Z"
   },
   {
    "duration": 27,
    "start_time": "2022-11-03T08:21:30.817Z"
   },
   {
    "duration": 98,
    "start_time": "2022-11-03T08:21:30.846Z"
   },
   {
    "duration": 8,
    "start_time": "2022-11-03T08:27:12.902Z"
   },
   {
    "duration": 336,
    "start_time": "2022-11-03T08:27:21.671Z"
   },
   {
    "duration": 46,
    "start_time": "2022-11-04T07:49:14.245Z"
   },
   {
    "duration": 1398,
    "start_time": "2022-11-04T07:49:20.404Z"
   },
   {
    "duration": 320,
    "start_time": "2022-11-04T07:49:21.805Z"
   },
   {
    "duration": 89,
    "start_time": "2022-11-04T07:49:22.127Z"
   },
   {
    "duration": 14,
    "start_time": "2022-11-04T07:49:22.218Z"
   },
   {
    "duration": 1979,
    "start_time": "2022-11-04T07:49:22.234Z"
   },
   {
    "duration": 8,
    "start_time": "2022-11-04T07:49:24.215Z"
   },
   {
    "duration": 8,
    "start_time": "2022-11-04T07:49:24.225Z"
   },
   {
    "duration": 7,
    "start_time": "2022-11-04T07:49:24.235Z"
   },
   {
    "duration": 7,
    "start_time": "2022-11-04T07:49:24.244Z"
   },
   {
    "duration": 4,
    "start_time": "2022-11-04T07:49:24.254Z"
   },
   {
    "duration": 4,
    "start_time": "2022-11-04T07:49:24.260Z"
   },
   {
    "duration": 23,
    "start_time": "2022-11-04T07:49:24.265Z"
   },
   {
    "duration": 10,
    "start_time": "2022-11-04T07:49:24.290Z"
   },
   {
    "duration": 11,
    "start_time": "2022-11-04T07:49:24.302Z"
   },
   {
    "duration": 15,
    "start_time": "2022-11-04T07:49:24.314Z"
   },
   {
    "duration": 11,
    "start_time": "2022-11-04T07:49:24.331Z"
   },
   {
    "duration": 16,
    "start_time": "2022-11-04T07:49:24.344Z"
   },
   {
    "duration": 5,
    "start_time": "2022-11-04T07:49:24.362Z"
   },
   {
    "duration": 358,
    "start_time": "2022-11-04T07:49:24.368Z"
   },
   {
    "duration": 27,
    "start_time": "2022-11-04T07:49:24.728Z"
   },
   {
    "duration": 19,
    "start_time": "2022-11-04T07:49:24.757Z"
   },
   {
    "duration": 4,
    "start_time": "2022-11-04T07:49:24.778Z"
   },
   {
    "duration": 21,
    "start_time": "2022-11-04T07:49:24.784Z"
   },
   {
    "duration": 7,
    "start_time": "2022-11-04T07:49:24.807Z"
   },
   {
    "duration": 8,
    "start_time": "2022-11-04T07:49:24.815Z"
   },
   {
    "duration": 43,
    "start_time": "2022-11-04T07:49:24.825Z"
   },
   {
    "duration": 6,
    "start_time": "2022-11-04T07:49:24.870Z"
   },
   {
    "duration": 23,
    "start_time": "2022-11-04T07:49:24.880Z"
   },
   {
    "duration": 9,
    "start_time": "2022-11-04T07:49:24.904Z"
   },
   {
    "duration": 25,
    "start_time": "2022-11-04T07:49:24.914Z"
   },
   {
    "duration": 14,
    "start_time": "2022-11-04T07:49:24.940Z"
   },
   {
    "duration": 19,
    "start_time": "2022-11-04T07:49:24.956Z"
   },
   {
    "duration": 9,
    "start_time": "2022-11-04T07:49:24.977Z"
   },
   {
    "duration": 991,
    "start_time": "2022-11-04T07:49:24.988Z"
   },
   {
    "duration": 5,
    "start_time": "2022-11-04T07:49:25.981Z"
   },
   {
    "duration": 15,
    "start_time": "2022-11-04T07:49:25.989Z"
   },
   {
    "duration": 971,
    "start_time": "2022-11-04T07:49:26.005Z"
   },
   {
    "duration": 4,
    "start_time": "2022-11-04T07:49:26.978Z"
   },
   {
    "duration": 13,
    "start_time": "2022-11-04T07:49:26.983Z"
   },
   {
    "duration": 5,
    "start_time": "2022-11-04T07:49:26.997Z"
   },
   {
    "duration": 10,
    "start_time": "2022-11-04T07:49:27.003Z"
   },
   {
    "duration": 4,
    "start_time": "2022-11-04T07:49:27.015Z"
   },
   {
    "duration": 6,
    "start_time": "2022-11-04T07:49:27.020Z"
   },
   {
    "duration": 34,
    "start_time": "2022-11-04T07:49:27.027Z"
   },
   {
    "duration": 4,
    "start_time": "2022-11-04T07:49:27.062Z"
   },
   {
    "duration": 7,
    "start_time": "2022-11-04T07:49:27.068Z"
   },
   {
    "duration": 5,
    "start_time": "2022-11-04T07:49:27.076Z"
   },
   {
    "duration": 6,
    "start_time": "2022-11-04T07:49:27.083Z"
   },
   {
    "duration": 7,
    "start_time": "2022-11-04T07:49:27.090Z"
   },
   {
    "duration": 6,
    "start_time": "2022-11-04T07:49:27.098Z"
   },
   {
    "duration": 18,
    "start_time": "2022-11-04T07:49:27.105Z"
   },
   {
    "duration": 29,
    "start_time": "2022-11-04T07:49:27.125Z"
   },
   {
    "duration": 4,
    "start_time": "2022-11-04T07:49:27.155Z"
   },
   {
    "duration": 7,
    "start_time": "2022-11-04T07:49:27.161Z"
   },
   {
    "duration": 6,
    "start_time": "2022-11-04T07:49:27.169Z"
   },
   {
    "duration": 5,
    "start_time": "2022-11-04T07:49:27.176Z"
   },
   {
    "duration": 7,
    "start_time": "2022-11-04T07:49:27.183Z"
   },
   {
    "duration": 7,
    "start_time": "2022-11-04T07:49:27.191Z"
   },
   {
    "duration": 11,
    "start_time": "2022-11-04T07:49:27.199Z"
   },
   {
    "duration": 12,
    "start_time": "2022-11-04T07:49:27.211Z"
   },
   {
    "duration": 29,
    "start_time": "2022-11-04T07:49:27.225Z"
   },
   {
    "duration": 8,
    "start_time": "2022-11-04T07:49:27.256Z"
   },
   {
    "duration": 5,
    "start_time": "2022-11-04T07:49:27.265Z"
   },
   {
    "duration": 153,
    "start_time": "2022-11-04T07:49:27.271Z"
   },
   {
    "duration": 8,
    "start_time": "2022-11-04T07:49:27.426Z"
   },
   {
    "duration": 41,
    "start_time": "2022-11-04T07:49:27.436Z"
   },
   {
    "duration": 5,
    "start_time": "2022-11-04T07:49:27.478Z"
   },
   {
    "duration": 20,
    "start_time": "2022-11-04T07:49:27.484Z"
   },
   {
    "duration": 14,
    "start_time": "2022-11-04T07:49:27.506Z"
   },
   {
    "duration": 17,
    "start_time": "2022-11-04T07:49:27.522Z"
   },
   {
    "duration": 279,
    "start_time": "2022-11-04T07:49:27.541Z"
   },
   {
    "duration": 5,
    "start_time": "2022-11-04T07:49:27.822Z"
   },
   {
    "duration": 7,
    "start_time": "2022-11-04T07:49:27.829Z"
   },
   {
    "duration": 18,
    "start_time": "2022-11-04T07:49:27.838Z"
   },
   {
    "duration": 224,
    "start_time": "2022-11-04T07:49:27.857Z"
   },
   {
    "duration": 10,
    "start_time": "2022-11-04T07:49:28.082Z"
   },
   {
    "duration": 245,
    "start_time": "2022-11-04T07:49:28.094Z"
   },
   {
    "duration": 17,
    "start_time": "2022-11-04T07:49:28.341Z"
   },
   {
    "duration": 245,
    "start_time": "2022-11-04T07:49:28.360Z"
   },
   {
    "duration": 9,
    "start_time": "2022-11-04T07:49:28.608Z"
   },
   {
    "duration": 322,
    "start_time": "2022-11-04T07:49:28.619Z"
   },
   {
    "duration": 14,
    "start_time": "2022-11-04T07:49:28.946Z"
   },
   {
    "duration": 340,
    "start_time": "2022-11-04T07:49:28.962Z"
   },
   {
    "duration": 9,
    "start_time": "2022-11-04T07:49:29.304Z"
   },
   {
    "duration": 377,
    "start_time": "2022-11-04T07:49:29.315Z"
   },
   {
    "duration": 10,
    "start_time": "2022-11-04T07:49:29.694Z"
   },
   {
    "duration": 393,
    "start_time": "2022-11-04T07:49:29.706Z"
   },
   {
    "duration": 10,
    "start_time": "2022-11-04T07:49:30.101Z"
   },
   {
    "duration": 19,
    "start_time": "2022-11-04T07:49:30.113Z"
   },
   {
    "duration": 142,
    "start_time": "2022-11-04T07:49:30.134Z"
   },
   {
    "duration": 260,
    "start_time": "2022-11-04T07:49:30.278Z"
   },
   {
    "duration": 16,
    "start_time": "2022-11-04T07:49:30.540Z"
   },
   {
    "duration": 266,
    "start_time": "2022-11-04T07:49:30.558Z"
   },
   {
    "duration": 10,
    "start_time": "2022-11-04T07:49:30.826Z"
   },
   {
    "duration": 387,
    "start_time": "2022-11-04T07:49:30.838Z"
   },
   {
    "duration": 10,
    "start_time": "2022-11-04T07:49:31.226Z"
   },
   {
    "duration": 278,
    "start_time": "2022-11-04T07:49:31.238Z"
   },
   {
    "duration": 16,
    "start_time": "2022-11-04T07:49:31.518Z"
   },
   {
    "duration": 320,
    "start_time": "2022-11-04T07:49:31.536Z"
   },
   {
    "duration": 236,
    "start_time": "2022-11-04T07:49:31.858Z"
   },
   {
    "duration": 439,
    "start_time": "2022-11-04T07:49:32.096Z"
   },
   {
    "duration": 9,
    "start_time": "2022-11-04T07:49:32.536Z"
   },
   {
    "duration": 8,
    "start_time": "2022-11-04T07:49:32.554Z"
   },
   {
    "duration": 11,
    "start_time": "2022-11-04T07:49:32.563Z"
   },
   {
    "duration": 95,
    "start_time": "2022-11-04T07:49:32.575Z"
   },
   {
    "duration": 1362,
    "start_time": "2022-11-04T07:49:32.671Z"
   },
   {
    "duration": 1187,
    "start_time": "2022-11-04T07:49:34.035Z"
   },
   {
    "duration": 1181,
    "start_time": "2022-11-04T07:49:35.224Z"
   },
   {
    "duration": 1179,
    "start_time": "2022-11-04T07:49:36.407Z"
   },
   {
    "duration": 14,
    "start_time": "2022-11-04T07:49:37.588Z"
   },
   {
    "duration": 204,
    "start_time": "2022-11-04T07:49:37.603Z"
   },
   {
    "duration": 13,
    "start_time": "2022-11-04T07:49:37.809Z"
   },
   {
    "duration": 359,
    "start_time": "2022-11-04T07:49:37.824Z"
   },
   {
    "duration": 12,
    "start_time": "2022-11-04T07:49:38.185Z"
   },
   {
    "duration": 223,
    "start_time": "2022-11-04T07:49:38.199Z"
   },
   {
    "duration": 13,
    "start_time": "2022-11-04T07:49:38.424Z"
   },
   {
    "duration": 221,
    "start_time": "2022-11-04T07:49:38.439Z"
   },
   {
    "duration": 26,
    "start_time": "2022-11-04T07:49:38.662Z"
   },
   {
    "duration": 6,
    "start_time": "2022-11-04T07:49:38.690Z"
   },
   {
    "duration": 26,
    "start_time": "2022-11-04T07:49:38.698Z"
   },
   {
    "duration": 46,
    "start_time": "2022-11-04T07:49:38.725Z"
   },
   {
    "duration": 327,
    "start_time": "2022-11-04T07:49:38.773Z"
   },
   {
    "duration": 61,
    "start_time": "2022-11-04T07:50:34.539Z"
   },
   {
    "duration": 48,
    "start_time": "2022-11-04T07:50:38.911Z"
   },
   {
    "duration": 9,
    "start_time": "2022-11-04T07:50:54.246Z"
   },
   {
    "duration": 1232,
    "start_time": "2022-11-04T08:06:49.460Z"
   },
   {
    "duration": 84,
    "start_time": "2022-11-04T08:06:50.694Z"
   },
   {
    "duration": 96,
    "start_time": "2022-11-04T08:06:50.780Z"
   },
   {
    "duration": 14,
    "start_time": "2022-11-04T08:06:50.878Z"
   },
   {
    "duration": 2072,
    "start_time": "2022-11-04T08:06:50.893Z"
   },
   {
    "duration": 10,
    "start_time": "2022-11-04T08:06:52.967Z"
   },
   {
    "duration": 9,
    "start_time": "2022-11-04T08:06:52.978Z"
   },
   {
    "duration": 7,
    "start_time": "2022-11-04T08:06:52.989Z"
   },
   {
    "duration": 18,
    "start_time": "2022-11-04T08:06:52.998Z"
   },
   {
    "duration": 5,
    "start_time": "2022-11-04T08:06:53.019Z"
   },
   {
    "duration": 13,
    "start_time": "2022-11-04T08:06:53.025Z"
   },
   {
    "duration": 13,
    "start_time": "2022-11-04T08:06:53.041Z"
   },
   {
    "duration": 9,
    "start_time": "2022-11-04T08:06:53.055Z"
   },
   {
    "duration": 12,
    "start_time": "2022-11-04T08:06:53.066Z"
   },
   {
    "duration": 10,
    "start_time": "2022-11-04T08:06:53.079Z"
   },
   {
    "duration": 7,
    "start_time": "2022-11-04T08:06:53.091Z"
   },
   {
    "duration": 7,
    "start_time": "2022-11-04T08:06:53.099Z"
   },
   {
    "duration": 6,
    "start_time": "2022-11-04T08:06:53.107Z"
   },
   {
    "duration": 397,
    "start_time": "2022-11-04T08:06:53.114Z"
   },
   {
    "duration": 21,
    "start_time": "2022-11-04T08:06:53.513Z"
   },
   {
    "duration": 31,
    "start_time": "2022-11-04T08:06:53.535Z"
   },
   {
    "duration": 5,
    "start_time": "2022-11-04T08:06:53.568Z"
   },
   {
    "duration": 13,
    "start_time": "2022-11-04T08:06:53.575Z"
   },
   {
    "duration": 8,
    "start_time": "2022-11-04T08:06:53.590Z"
   },
   {
    "duration": 7,
    "start_time": "2022-11-04T08:06:53.599Z"
   },
   {
    "duration": 52,
    "start_time": "2022-11-04T08:06:53.608Z"
   },
   {
    "duration": 6,
    "start_time": "2022-11-04T08:06:53.663Z"
   },
   {
    "duration": 9,
    "start_time": "2022-11-04T08:06:53.674Z"
   },
   {
    "duration": 7,
    "start_time": "2022-11-04T08:06:53.685Z"
   },
   {
    "duration": 6,
    "start_time": "2022-11-04T08:06:53.694Z"
   },
   {
    "duration": 7,
    "start_time": "2022-11-04T08:06:53.702Z"
   },
   {
    "duration": 5,
    "start_time": "2022-11-04T08:06:53.711Z"
   },
   {
    "duration": 41,
    "start_time": "2022-11-04T08:06:53.717Z"
   },
   {
    "duration": 1128,
    "start_time": "2022-11-04T08:06:53.759Z"
   },
   {
    "duration": 4,
    "start_time": "2022-11-04T08:06:54.889Z"
   },
   {
    "duration": 16,
    "start_time": "2022-11-04T08:06:54.895Z"
   },
   {
    "duration": 1096,
    "start_time": "2022-11-04T08:06:54.912Z"
   },
   {
    "duration": 6,
    "start_time": "2022-11-04T08:06:56.010Z"
   },
   {
    "duration": 24,
    "start_time": "2022-11-04T08:06:56.018Z"
   },
   {
    "duration": 20,
    "start_time": "2022-11-04T08:06:56.044Z"
   },
   {
    "duration": 27,
    "start_time": "2022-11-04T08:06:56.066Z"
   },
   {
    "duration": 7,
    "start_time": "2022-11-04T08:06:56.094Z"
   },
   {
    "duration": 15,
    "start_time": "2022-11-04T08:06:56.103Z"
   },
   {
    "duration": 29,
    "start_time": "2022-11-04T08:06:56.119Z"
   },
   {
    "duration": 8,
    "start_time": "2022-11-04T08:06:56.149Z"
   },
   {
    "duration": 20,
    "start_time": "2022-11-04T08:06:56.158Z"
   },
   {
    "duration": 18,
    "start_time": "2022-11-04T08:06:56.180Z"
   },
   {
    "duration": 34,
    "start_time": "2022-11-04T08:06:56.200Z"
   },
   {
    "duration": 68,
    "start_time": "2022-11-04T08:06:56.236Z"
   },
   {
    "duration": 23,
    "start_time": "2022-11-04T08:06:56.306Z"
   },
   {
    "duration": 48,
    "start_time": "2022-11-04T08:06:56.331Z"
   },
   {
    "duration": 50,
    "start_time": "2022-11-04T08:06:56.381Z"
   },
   {
    "duration": 25,
    "start_time": "2022-11-04T08:06:56.432Z"
   },
   {
    "duration": 35,
    "start_time": "2022-11-04T08:06:56.459Z"
   },
   {
    "duration": 36,
    "start_time": "2022-11-04T08:06:56.496Z"
   },
   {
    "duration": 30,
    "start_time": "2022-11-04T08:06:56.534Z"
   },
   {
    "duration": 31,
    "start_time": "2022-11-04T08:06:56.565Z"
   },
   {
    "duration": 22,
    "start_time": "2022-11-04T08:06:56.598Z"
   },
   {
    "duration": 53,
    "start_time": "2022-11-04T08:06:56.622Z"
   },
   {
    "duration": 59,
    "start_time": "2022-11-04T08:06:56.677Z"
   },
   {
    "duration": 38,
    "start_time": "2022-11-04T08:06:56.738Z"
   },
   {
    "duration": 44,
    "start_time": "2022-11-04T08:06:56.778Z"
   },
   {
    "duration": 41,
    "start_time": "2022-11-04T08:06:56.824Z"
   },
   {
    "duration": 191,
    "start_time": "2022-11-04T08:06:56.867Z"
   },
   {
    "duration": 7,
    "start_time": "2022-11-04T08:06:57.060Z"
   },
   {
    "duration": 36,
    "start_time": "2022-11-04T08:06:57.069Z"
   },
   {
    "duration": 4,
    "start_time": "2022-11-04T08:06:57.106Z"
   },
   {
    "duration": 39,
    "start_time": "2022-11-04T08:06:57.112Z"
   },
   {
    "duration": 26,
    "start_time": "2022-11-04T08:06:57.153Z"
   },
   {
    "duration": 19,
    "start_time": "2022-11-04T08:06:57.181Z"
   },
   {
    "duration": 320,
    "start_time": "2022-11-04T08:06:57.202Z"
   },
   {
    "duration": 6,
    "start_time": "2022-11-04T08:06:57.527Z"
   },
   {
    "duration": 23,
    "start_time": "2022-11-04T08:06:57.535Z"
   },
   {
    "duration": 23,
    "start_time": "2022-11-04T08:06:57.560Z"
   },
   {
    "duration": 232,
    "start_time": "2022-11-04T08:06:57.585Z"
   },
   {
    "duration": 13,
    "start_time": "2022-11-04T08:06:57.818Z"
   },
   {
    "duration": 238,
    "start_time": "2022-11-04T08:06:57.833Z"
   },
   {
    "duration": 9,
    "start_time": "2022-11-04T08:06:58.073Z"
   },
   {
    "duration": 261,
    "start_time": "2022-11-04T08:06:58.084Z"
   },
   {
    "duration": 14,
    "start_time": "2022-11-04T08:06:58.347Z"
   },
   {
    "duration": 327,
    "start_time": "2022-11-04T08:06:58.362Z"
   },
   {
    "duration": 9,
    "start_time": "2022-11-04T08:06:58.695Z"
   },
   {
    "duration": 341,
    "start_time": "2022-11-04T08:06:58.706Z"
   },
   {
    "duration": 11,
    "start_time": "2022-11-04T08:06:59.049Z"
   },
   {
    "duration": 379,
    "start_time": "2022-11-04T08:06:59.062Z"
   },
   {
    "duration": 16,
    "start_time": "2022-11-04T08:06:59.443Z"
   },
   {
    "duration": 405,
    "start_time": "2022-11-04T08:06:59.461Z"
   },
   {
    "duration": 11,
    "start_time": "2022-11-04T08:06:59.868Z"
   },
   {
    "duration": 9,
    "start_time": "2022-11-04T08:06:59.880Z"
   },
   {
    "duration": 134,
    "start_time": "2022-11-04T08:06:59.891Z"
   },
   {
    "duration": 230,
    "start_time": "2022-11-04T08:07:00.027Z"
   },
   {
    "duration": 9,
    "start_time": "2022-11-04T08:07:00.259Z"
   },
   {
    "duration": 283,
    "start_time": "2022-11-04T08:07:00.269Z"
   },
   {
    "duration": 9,
    "start_time": "2022-11-04T08:07:00.554Z"
   },
   {
    "duration": 427,
    "start_time": "2022-11-04T08:07:00.565Z"
   },
   {
    "duration": 11,
    "start_time": "2022-11-04T08:07:00.994Z"
   },
   {
    "duration": 275,
    "start_time": "2022-11-04T08:07:01.007Z"
   },
   {
    "duration": 11,
    "start_time": "2022-11-04T08:07:01.284Z"
   },
   {
    "duration": 326,
    "start_time": "2022-11-04T08:07:01.297Z"
   },
   {
    "duration": 257,
    "start_time": "2022-11-04T08:07:01.625Z"
   },
   {
    "duration": 422,
    "start_time": "2022-11-04T08:07:01.884Z"
   },
   {
    "duration": 13,
    "start_time": "2022-11-04T08:07:02.308Z"
   },
   {
    "duration": 87,
    "start_time": "2022-11-04T08:07:02.323Z"
   },
   {
    "duration": 1199,
    "start_time": "2022-11-04T08:07:02.412Z"
   },
   {
    "duration": 1129,
    "start_time": "2022-11-04T08:07:03.613Z"
   },
   {
    "duration": 1205,
    "start_time": "2022-11-04T08:07:04.753Z"
   },
   {
    "duration": 1175,
    "start_time": "2022-11-04T08:07:05.960Z"
   },
   {
    "duration": 21,
    "start_time": "2022-11-04T08:07:07.136Z"
   },
   {
    "duration": 159,
    "start_time": "2022-11-04T08:07:07.159Z"
   },
   {
    "duration": 12,
    "start_time": "2022-11-04T08:07:07.320Z"
   },
   {
    "duration": 339,
    "start_time": "2022-11-04T08:07:07.334Z"
   },
   {
    "duration": 19,
    "start_time": "2022-11-04T08:07:07.675Z"
   },
   {
    "duration": 242,
    "start_time": "2022-11-04T08:07:07.696Z"
   },
   {
    "duration": 23,
    "start_time": "2022-11-04T08:07:07.940Z"
   },
   {
    "duration": 195,
    "start_time": "2022-11-04T08:07:07.965Z"
   },
   {
    "duration": 23,
    "start_time": "2022-11-04T08:07:08.162Z"
   },
   {
    "duration": 7,
    "start_time": "2022-11-04T08:07:08.188Z"
   },
   {
    "duration": 6,
    "start_time": "2022-11-04T08:07:08.197Z"
   },
   {
    "duration": 55,
    "start_time": "2022-11-04T08:07:08.205Z"
   },
   {
    "duration": 337,
    "start_time": "2022-11-04T08:07:08.263Z"
   },
   {
    "duration": 1279,
    "start_time": "2022-11-04T08:15:40.120Z"
   },
   {
    "duration": 315,
    "start_time": "2022-11-04T08:15:41.401Z"
   },
   {
    "duration": 83,
    "start_time": "2022-11-04T08:15:41.718Z"
   },
   {
    "duration": 25,
    "start_time": "2022-11-04T08:15:41.803Z"
   },
   {
    "duration": 1763,
    "start_time": "2022-11-04T08:15:41.830Z"
   },
   {
    "duration": 10,
    "start_time": "2022-11-04T08:15:43.595Z"
   },
   {
    "duration": 27,
    "start_time": "2022-11-04T08:15:43.607Z"
   },
   {
    "duration": 13,
    "start_time": "2022-11-04T08:15:43.636Z"
   },
   {
    "duration": 25,
    "start_time": "2022-11-04T08:15:43.650Z"
   },
   {
    "duration": 13,
    "start_time": "2022-11-04T08:15:43.677Z"
   },
   {
    "duration": 17,
    "start_time": "2022-11-04T08:15:43.692Z"
   },
   {
    "duration": 8,
    "start_time": "2022-11-04T08:15:43.711Z"
   },
   {
    "duration": 24,
    "start_time": "2022-11-04T08:15:43.720Z"
   },
   {
    "duration": 13,
    "start_time": "2022-11-04T08:15:43.748Z"
   },
   {
    "duration": 16,
    "start_time": "2022-11-04T08:15:43.762Z"
   },
   {
    "duration": 16,
    "start_time": "2022-11-04T08:15:43.780Z"
   },
   {
    "duration": 12,
    "start_time": "2022-11-04T08:15:43.797Z"
   },
   {
    "duration": 11,
    "start_time": "2022-11-04T08:15:43.810Z"
   },
   {
    "duration": 355,
    "start_time": "2022-11-04T08:15:43.823Z"
   },
   {
    "duration": 21,
    "start_time": "2022-11-04T08:15:44.180Z"
   },
   {
    "duration": 48,
    "start_time": "2022-11-04T08:15:44.203Z"
   },
   {
    "duration": 15,
    "start_time": "2022-11-04T08:15:44.253Z"
   },
   {
    "duration": 21,
    "start_time": "2022-11-04T08:15:44.270Z"
   },
   {
    "duration": 12,
    "start_time": "2022-11-04T08:15:44.293Z"
   },
   {
    "duration": 11,
    "start_time": "2022-11-04T08:15:44.307Z"
   },
   {
    "duration": 25,
    "start_time": "2022-11-04T08:15:44.321Z"
   },
   {
    "duration": 5,
    "start_time": "2022-11-04T08:15:44.348Z"
   },
   {
    "duration": 20,
    "start_time": "2022-11-04T08:15:44.354Z"
   },
   {
    "duration": 11,
    "start_time": "2022-11-04T08:15:44.375Z"
   },
   {
    "duration": 9,
    "start_time": "2022-11-04T08:15:44.387Z"
   },
   {
    "duration": 7,
    "start_time": "2022-11-04T08:15:44.397Z"
   },
   {
    "duration": 17,
    "start_time": "2022-11-04T08:15:44.405Z"
   },
   {
    "duration": 5,
    "start_time": "2022-11-04T08:15:44.424Z"
   },
   {
    "duration": 1003,
    "start_time": "2022-11-04T08:15:44.430Z"
   },
   {
    "duration": 4,
    "start_time": "2022-11-04T08:15:45.435Z"
   },
   {
    "duration": 8,
    "start_time": "2022-11-04T08:15:45.440Z"
   },
   {
    "duration": 993,
    "start_time": "2022-11-04T08:15:45.450Z"
   },
   {
    "duration": 5,
    "start_time": "2022-11-04T08:15:46.445Z"
   },
   {
    "duration": 13,
    "start_time": "2022-11-04T08:15:46.452Z"
   },
   {
    "duration": 3,
    "start_time": "2022-11-04T08:15:46.467Z"
   },
   {
    "duration": 6,
    "start_time": "2022-11-04T08:15:46.475Z"
   },
   {
    "duration": 8,
    "start_time": "2022-11-04T08:15:46.483Z"
   },
   {
    "duration": 29,
    "start_time": "2022-11-04T08:15:46.493Z"
   },
   {
    "duration": 12,
    "start_time": "2022-11-04T08:15:46.523Z"
   },
   {
    "duration": 3,
    "start_time": "2022-11-04T08:15:46.537Z"
   },
   {
    "duration": 5,
    "start_time": "2022-11-04T08:15:46.542Z"
   },
   {
    "duration": 4,
    "start_time": "2022-11-04T08:15:46.549Z"
   },
   {
    "duration": 5,
    "start_time": "2022-11-04T08:15:46.554Z"
   },
   {
    "duration": 5,
    "start_time": "2022-11-04T08:15:46.561Z"
   },
   {
    "duration": 11,
    "start_time": "2022-11-04T08:15:46.567Z"
   },
   {
    "duration": 44,
    "start_time": "2022-11-04T08:15:46.579Z"
   },
   {
    "duration": 4,
    "start_time": "2022-11-04T08:15:46.624Z"
   },
   {
    "duration": 7,
    "start_time": "2022-11-04T08:15:46.629Z"
   },
   {
    "duration": 7,
    "start_time": "2022-11-04T08:15:46.637Z"
   },
   {
    "duration": 6,
    "start_time": "2022-11-04T08:15:46.645Z"
   },
   {
    "duration": 6,
    "start_time": "2022-11-04T08:15:46.652Z"
   },
   {
    "duration": 8,
    "start_time": "2022-11-04T08:15:46.659Z"
   },
   {
    "duration": 7,
    "start_time": "2022-11-04T08:15:46.669Z"
   },
   {
    "duration": 13,
    "start_time": "2022-11-04T08:15:46.677Z"
   },
   {
    "duration": 34,
    "start_time": "2022-11-04T08:15:46.691Z"
   },
   {
    "duration": 5,
    "start_time": "2022-11-04T08:15:46.727Z"
   },
   {
    "duration": 6,
    "start_time": "2022-11-04T08:15:46.734Z"
   },
   {
    "duration": 4,
    "start_time": "2022-11-04T08:15:46.742Z"
   },
   {
    "duration": 152,
    "start_time": "2022-11-04T08:15:46.748Z"
   },
   {
    "duration": 7,
    "start_time": "2022-11-04T08:15:46.902Z"
   },
   {
    "duration": 21,
    "start_time": "2022-11-04T08:15:46.922Z"
   },
   {
    "duration": 4,
    "start_time": "2022-11-04T08:15:46.945Z"
   },
   {
    "duration": 16,
    "start_time": "2022-11-04T08:15:46.950Z"
   },
   {
    "duration": 14,
    "start_time": "2022-11-04T08:15:46.968Z"
   },
   {
    "duration": 3,
    "start_time": "2022-11-04T08:15:46.984Z"
   },
   {
    "duration": 261,
    "start_time": "2022-11-04T08:15:47.022Z"
   },
   {
    "duration": 5,
    "start_time": "2022-11-04T08:15:47.285Z"
   },
   {
    "duration": 5,
    "start_time": "2022-11-04T08:15:47.292Z"
   },
   {
    "duration": 6,
    "start_time": "2022-11-04T08:15:47.299Z"
   },
   {
    "duration": 197,
    "start_time": "2022-11-04T08:15:47.321Z"
   },
   {
    "duration": 9,
    "start_time": "2022-11-04T08:15:47.522Z"
   },
   {
    "duration": 213,
    "start_time": "2022-11-04T08:15:47.532Z"
   },
   {
    "duration": 9,
    "start_time": "2022-11-04T08:15:47.747Z"
   },
   {
    "duration": 217,
    "start_time": "2022-11-04T08:15:47.758Z"
   },
   {
    "duration": 8,
    "start_time": "2022-11-04T08:15:47.977Z"
   },
   {
    "duration": 373,
    "start_time": "2022-11-04T08:15:47.987Z"
   },
   {
    "duration": 7,
    "start_time": "2022-11-04T08:15:48.362Z"
   },
   {
    "duration": 218,
    "start_time": "2022-11-04T08:15:48.371Z"
   },
   {
    "duration": 7,
    "start_time": "2022-11-04T08:15:48.591Z"
   },
   {
    "duration": 361,
    "start_time": "2022-11-04T08:15:48.600Z"
   },
   {
    "duration": 9,
    "start_time": "2022-11-04T08:15:48.963Z"
   },
   {
    "duration": 385,
    "start_time": "2022-11-04T08:15:48.974Z"
   },
   {
    "duration": 8,
    "start_time": "2022-11-04T08:15:49.361Z"
   },
   {
    "duration": 13,
    "start_time": "2022-11-04T08:15:49.370Z"
   },
   {
    "duration": 109,
    "start_time": "2022-11-04T08:15:49.384Z"
   },
   {
    "duration": 197,
    "start_time": "2022-11-04T08:15:49.495Z"
   },
   {
    "duration": 8,
    "start_time": "2022-11-04T08:15:49.693Z"
   },
   {
    "duration": 315,
    "start_time": "2022-11-04T08:15:49.703Z"
   },
   {
    "duration": 10,
    "start_time": "2022-11-04T08:15:50.019Z"
   },
   {
    "duration": 206,
    "start_time": "2022-11-04T08:15:50.031Z"
   },
   {
    "duration": 9,
    "start_time": "2022-11-04T08:15:50.239Z"
   },
   {
    "duration": 220,
    "start_time": "2022-11-04T08:15:50.250Z"
   },
   {
    "duration": 9,
    "start_time": "2022-11-04T08:15:50.472Z"
   },
   {
    "duration": 215,
    "start_time": "2022-11-04T08:15:50.483Z"
   },
   {
    "duration": 198,
    "start_time": "2022-11-04T08:15:50.700Z"
   },
   {
    "duration": 356,
    "start_time": "2022-11-04T08:15:50.899Z"
   },
   {
    "duration": 8,
    "start_time": "2022-11-04T08:15:51.257Z"
   },
   {
    "duration": 73,
    "start_time": "2022-11-04T08:15:51.267Z"
   },
   {
    "duration": 1206,
    "start_time": "2022-11-04T08:15:51.341Z"
   },
   {
    "duration": 1019,
    "start_time": "2022-11-04T08:15:52.549Z"
   },
   {
    "duration": 1057,
    "start_time": "2022-11-04T08:15:53.569Z"
   },
   {
    "duration": 1275,
    "start_time": "2022-11-04T08:15:54.628Z"
   },
   {
    "duration": 23,
    "start_time": "2022-11-04T08:15:55.905Z"
   },
   {
    "duration": 149,
    "start_time": "2022-11-04T08:15:55.929Z"
   },
   {
    "duration": 10,
    "start_time": "2022-11-04T08:15:56.080Z"
   },
   {
    "duration": 160,
    "start_time": "2022-11-04T08:15:56.092Z"
   },
   {
    "duration": 11,
    "start_time": "2022-11-04T08:15:56.254Z"
   },
   {
    "duration": 188,
    "start_time": "2022-11-04T08:15:56.266Z"
   },
   {
    "duration": 12,
    "start_time": "2022-11-04T08:15:56.456Z"
   },
   {
    "duration": 167,
    "start_time": "2022-11-04T08:15:56.469Z"
   },
   {
    "duration": 20,
    "start_time": "2022-11-04T08:15:56.638Z"
   },
   {
    "duration": 5,
    "start_time": "2022-11-04T08:15:56.660Z"
   },
   {
    "duration": 7,
    "start_time": "2022-11-04T08:15:56.667Z"
   },
   {
    "duration": 24,
    "start_time": "2022-11-04T08:15:56.675Z"
   },
   {
    "duration": 316,
    "start_time": "2022-11-04T08:15:56.722Z"
   },
   {
    "duration": 13,
    "start_time": "2022-11-04T09:14:12.105Z"
   },
   {
    "duration": 78,
    "start_time": "2022-11-04T09:15:29.841Z"
   },
   {
    "duration": 15,
    "start_time": "2022-11-04T09:16:21.059Z"
   },
   {
    "duration": 78,
    "start_time": "2022-11-04T09:16:25.429Z"
   },
   {
    "duration": 6,
    "start_time": "2022-11-04T09:16:46.984Z"
   },
   {
    "duration": 6,
    "start_time": "2022-11-04T09:17:00.634Z"
   },
   {
    "duration": 97,
    "start_time": "2022-11-04T09:21:58.661Z"
   },
   {
    "duration": 30,
    "start_time": "2022-11-04T09:22:08.990Z"
   },
   {
    "duration": 44,
    "start_time": "2022-11-04T13:40:49.977Z"
   },
   {
    "duration": 1215,
    "start_time": "2022-11-04T13:40:53.330Z"
   },
   {
    "duration": 133,
    "start_time": "2022-11-04T13:40:54.741Z"
   },
   {
    "duration": 114,
    "start_time": "2022-11-04T13:40:56.638Z"
   },
   {
    "duration": 1802,
    "start_time": "2022-11-04T13:41:25.949Z"
   },
   {
    "duration": 37,
    "start_time": "2022-11-04T13:42:40.527Z"
   },
   {
    "duration": 1125,
    "start_time": "2022-11-04T13:48:25.958Z"
   },
   {
    "duration": 78,
    "start_time": "2022-11-04T13:48:27.085Z"
   },
   {
    "duration": 109,
    "start_time": "2022-11-04T13:48:27.164Z"
   },
   {
    "duration": 18,
    "start_time": "2022-11-04T13:48:27.275Z"
   },
   {
    "duration": 1955,
    "start_time": "2022-11-04T13:48:27.304Z"
   },
   {
    "duration": 9,
    "start_time": "2022-11-04T13:48:29.262Z"
   },
   {
    "duration": 6,
    "start_time": "2022-11-04T13:48:29.273Z"
   },
   {
    "duration": 8,
    "start_time": "2022-11-04T13:48:29.281Z"
   },
   {
    "duration": 9,
    "start_time": "2022-11-04T13:48:29.290Z"
   },
   {
    "duration": 7,
    "start_time": "2022-11-04T13:48:29.302Z"
   },
   {
    "duration": 5,
    "start_time": "2022-11-04T13:48:29.310Z"
   },
   {
    "duration": 9,
    "start_time": "2022-11-04T13:48:29.316Z"
   },
   {
    "duration": 7,
    "start_time": "2022-11-04T13:48:29.327Z"
   },
   {
    "duration": 11,
    "start_time": "2022-11-04T13:48:29.335Z"
   },
   {
    "duration": 10,
    "start_time": "2022-11-04T13:48:29.348Z"
   },
   {
    "duration": 6,
    "start_time": "2022-11-04T13:48:29.360Z"
   },
   {
    "duration": 6,
    "start_time": "2022-11-04T13:48:29.368Z"
   },
   {
    "duration": 6,
    "start_time": "2022-11-04T13:48:29.406Z"
   },
   {
    "duration": 339,
    "start_time": "2022-11-04T13:48:29.413Z"
   },
   {
    "duration": 54,
    "start_time": "2022-11-04T13:48:29.753Z"
   },
   {
    "duration": 17,
    "start_time": "2022-11-04T13:48:29.808Z"
   },
   {
    "duration": 4,
    "start_time": "2022-11-04T13:48:29.827Z"
   },
   {
    "duration": 14,
    "start_time": "2022-11-04T13:48:29.832Z"
   },
   {
    "duration": 7,
    "start_time": "2022-11-04T13:48:29.848Z"
   },
   {
    "duration": 7,
    "start_time": "2022-11-04T13:48:29.857Z"
   },
   {
    "duration": 55,
    "start_time": "2022-11-04T13:48:29.865Z"
   },
   {
    "duration": 5,
    "start_time": "2022-11-04T13:48:29.922Z"
   },
   {
    "duration": 5,
    "start_time": "2022-11-04T13:48:29.931Z"
   },
   {
    "duration": 6,
    "start_time": "2022-11-04T13:48:29.938Z"
   },
   {
    "duration": 5,
    "start_time": "2022-11-04T13:48:29.945Z"
   },
   {
    "duration": 6,
    "start_time": "2022-11-04T13:48:29.952Z"
   },
   {
    "duration": 7,
    "start_time": "2022-11-04T13:48:29.960Z"
   },
   {
    "duration": 7,
    "start_time": "2022-11-04T13:48:30.006Z"
   },
   {
    "duration": 11,
    "start_time": "2022-11-04T13:48:30.015Z"
   },
   {
    "duration": 11,
    "start_time": "2022-11-04T13:48:30.028Z"
   },
   {
    "duration": 16,
    "start_time": "2022-11-04T13:48:30.041Z"
   },
   {
    "duration": 14,
    "start_time": "2022-11-04T13:48:30.059Z"
   },
   {
    "duration": 17,
    "start_time": "2022-11-04T13:48:30.074Z"
   },
   {
    "duration": 4,
    "start_time": "2022-11-04T13:48:30.093Z"
   },
   {
    "duration": 18,
    "start_time": "2022-11-04T13:48:30.098Z"
   },
   {
    "duration": 8,
    "start_time": "2022-11-04T13:48:30.118Z"
   },
   {
    "duration": 13,
    "start_time": "2022-11-04T13:48:30.127Z"
   },
   {
    "duration": 14,
    "start_time": "2022-11-04T13:48:30.142Z"
   },
   {
    "duration": 12,
    "start_time": "2022-11-04T13:48:30.158Z"
   },
   {
    "duration": 20,
    "start_time": "2022-11-04T13:48:30.171Z"
   },
   {
    "duration": 14,
    "start_time": "2022-11-04T13:48:30.192Z"
   },
   {
    "duration": 15,
    "start_time": "2022-11-04T13:48:30.208Z"
   },
   {
    "duration": 9,
    "start_time": "2022-11-04T13:48:30.225Z"
   },
   {
    "duration": 27,
    "start_time": "2022-11-04T13:48:30.235Z"
   },
   {
    "duration": 24,
    "start_time": "2022-11-04T13:48:30.263Z"
   },
   {
    "duration": 18,
    "start_time": "2022-11-04T13:48:30.289Z"
   },
   {
    "duration": 18,
    "start_time": "2022-11-04T13:48:30.308Z"
   },
   {
    "duration": 25,
    "start_time": "2022-11-04T13:48:30.328Z"
   },
   {
    "duration": 19,
    "start_time": "2022-11-04T13:48:30.354Z"
   },
   {
    "duration": 14,
    "start_time": "2022-11-04T13:48:30.375Z"
   },
   {
    "duration": 23,
    "start_time": "2022-11-04T13:48:30.390Z"
   },
   {
    "duration": 18,
    "start_time": "2022-11-04T13:48:30.415Z"
   },
   {
    "duration": 135,
    "start_time": "2022-11-04T13:48:30.435Z"
   },
   {
    "duration": 6,
    "start_time": "2022-11-04T13:48:30.571Z"
   },
   {
    "duration": 31,
    "start_time": "2022-11-04T13:48:30.578Z"
   },
   {
    "duration": 3,
    "start_time": "2022-11-04T13:48:30.611Z"
   },
   {
    "duration": 24,
    "start_time": "2022-11-04T13:48:30.616Z"
   },
   {
    "duration": 27,
    "start_time": "2022-11-04T13:48:30.642Z"
   },
   {
    "duration": 6,
    "start_time": "2022-11-04T13:48:30.672Z"
   },
   {
    "duration": 262,
    "start_time": "2022-11-04T13:48:30.680Z"
   },
   {
    "duration": 4,
    "start_time": "2022-11-04T13:48:30.944Z"
   },
   {
    "duration": 12,
    "start_time": "2022-11-04T13:48:30.950Z"
   },
   {
    "duration": 11,
    "start_time": "2022-11-04T13:48:30.963Z"
   },
   {
    "duration": 201,
    "start_time": "2022-11-04T13:48:30.976Z"
   },
   {
    "duration": 9,
    "start_time": "2022-11-04T13:48:31.179Z"
   },
   {
    "duration": 211,
    "start_time": "2022-11-04T13:48:31.189Z"
   },
   {
    "duration": 8,
    "start_time": "2022-11-04T13:48:31.404Z"
   },
   {
    "duration": 215,
    "start_time": "2022-11-04T13:48:31.414Z"
   },
   {
    "duration": 9,
    "start_time": "2022-11-04T13:48:31.631Z"
   },
   {
    "duration": 380,
    "start_time": "2022-11-04T13:48:31.641Z"
   },
   {
    "duration": 8,
    "start_time": "2022-11-04T13:48:32.022Z"
   },
   {
    "duration": 206,
    "start_time": "2022-11-04T13:48:32.031Z"
   },
   {
    "duration": 9,
    "start_time": "2022-11-04T13:48:32.239Z"
   },
   {
    "duration": 329,
    "start_time": "2022-11-04T13:48:32.249Z"
   },
   {
    "duration": 8,
    "start_time": "2022-11-04T13:48:32.580Z"
   },
   {
    "duration": 342,
    "start_time": "2022-11-04T13:48:32.589Z"
   },
   {
    "duration": 8,
    "start_time": "2022-11-04T13:48:32.936Z"
   },
   {
    "duration": 27,
    "start_time": "2022-11-04T13:48:32.945Z"
   },
   {
    "duration": 123,
    "start_time": "2022-11-04T13:48:32.974Z"
   },
   {
    "duration": 190,
    "start_time": "2022-11-04T13:48:33.099Z"
   },
   {
    "duration": 18,
    "start_time": "2022-11-04T13:48:33.290Z"
   },
   {
    "duration": 268,
    "start_time": "2022-11-04T13:48:33.309Z"
   },
   {
    "duration": 8,
    "start_time": "2022-11-04T13:48:33.578Z"
   },
   {
    "duration": 195,
    "start_time": "2022-11-04T13:48:33.588Z"
   },
   {
    "duration": 8,
    "start_time": "2022-11-04T13:48:33.784Z"
   },
   {
    "duration": 213,
    "start_time": "2022-11-04T13:48:33.794Z"
   },
   {
    "duration": 9,
    "start_time": "2022-11-04T13:48:34.009Z"
   },
   {
    "duration": 202,
    "start_time": "2022-11-04T13:48:34.019Z"
   },
   {
    "duration": 190,
    "start_time": "2022-11-04T13:48:34.223Z"
   },
   {
    "duration": 356,
    "start_time": "2022-11-04T13:48:34.414Z"
   },
   {
    "duration": 15,
    "start_time": "2022-11-04T13:48:34.772Z"
   },
   {
    "duration": 68,
    "start_time": "2022-11-04T13:48:34.789Z"
   },
   {
    "duration": 1184,
    "start_time": "2022-11-04T13:48:34.859Z"
   },
   {
    "duration": 1026,
    "start_time": "2022-11-04T13:48:36.045Z"
   },
   {
    "duration": 1150,
    "start_time": "2022-11-04T13:48:37.073Z"
   },
   {
    "duration": 1013,
    "start_time": "2022-11-04T13:48:38.225Z"
   },
   {
    "duration": 13,
    "start_time": "2022-11-04T13:48:39.239Z"
   },
   {
    "duration": 145,
    "start_time": "2022-11-04T13:48:39.254Z"
   },
   {
    "duration": 10,
    "start_time": "2022-11-04T13:48:39.406Z"
   },
   {
    "duration": 154,
    "start_time": "2022-11-04T13:48:39.418Z"
   },
   {
    "duration": 11,
    "start_time": "2022-11-04T13:48:39.574Z"
   },
   {
    "duration": 183,
    "start_time": "2022-11-04T13:48:39.586Z"
   },
   {
    "duration": 11,
    "start_time": "2022-11-04T13:48:39.770Z"
   },
   {
    "duration": 174,
    "start_time": "2022-11-04T13:48:39.782Z"
   },
   {
    "duration": 19,
    "start_time": "2022-11-04T13:48:39.958Z"
   },
   {
    "duration": 5,
    "start_time": "2022-11-04T13:48:39.978Z"
   },
   {
    "duration": 21,
    "start_time": "2022-11-04T13:48:39.985Z"
   },
   {
    "duration": 18,
    "start_time": "2022-11-04T13:48:40.007Z"
   },
   {
    "duration": 318,
    "start_time": "2022-11-04T13:48:40.027Z"
   },
   {
    "duration": 90,
    "start_time": "2022-11-04T13:49:04.122Z"
   },
   {
    "duration": 3,
    "start_time": "2022-11-04T13:50:16.428Z"
   },
   {
    "duration": 1143,
    "start_time": "2022-11-04T13:50:24.780Z"
   },
   {
    "duration": 78,
    "start_time": "2022-11-04T13:50:25.925Z"
   },
   {
    "duration": 94,
    "start_time": "2022-11-04T13:50:26.004Z"
   },
   {
    "duration": 17,
    "start_time": "2022-11-04T13:50:26.100Z"
   },
   {
    "duration": 3,
    "start_time": "2022-11-04T13:50:26.118Z"
   },
   {
    "duration": 2082,
    "start_time": "2022-11-04T13:50:26.122Z"
   },
   {
    "duration": 9,
    "start_time": "2022-11-04T13:50:28.205Z"
   },
   {
    "duration": 5,
    "start_time": "2022-11-04T13:50:28.215Z"
   },
   {
    "duration": 8,
    "start_time": "2022-11-04T13:50:28.221Z"
   },
   {
    "duration": 9,
    "start_time": "2022-11-04T13:50:28.231Z"
   },
   {
    "duration": 5,
    "start_time": "2022-11-04T13:50:28.242Z"
   },
   {
    "duration": 5,
    "start_time": "2022-11-04T13:50:28.248Z"
   },
   {
    "duration": 8,
    "start_time": "2022-11-04T13:50:28.254Z"
   },
   {
    "duration": 7,
    "start_time": "2022-11-04T13:50:28.263Z"
   },
   {
    "duration": 10,
    "start_time": "2022-11-04T13:50:28.305Z"
   },
   {
    "duration": 10,
    "start_time": "2022-11-04T13:50:28.316Z"
   },
   {
    "duration": 6,
    "start_time": "2022-11-04T13:50:28.327Z"
   },
   {
    "duration": 6,
    "start_time": "2022-11-04T13:50:28.334Z"
   },
   {
    "duration": 5,
    "start_time": "2022-11-04T13:50:28.341Z"
   },
   {
    "duration": 350,
    "start_time": "2022-11-04T13:50:28.347Z"
   },
   {
    "duration": 38,
    "start_time": "2022-11-04T13:50:28.698Z"
   },
   {
    "duration": 18,
    "start_time": "2022-11-04T13:50:28.738Z"
   },
   {
    "duration": 9,
    "start_time": "2022-11-04T13:50:28.757Z"
   },
   {
    "duration": 17,
    "start_time": "2022-11-04T13:50:28.768Z"
   },
   {
    "duration": 20,
    "start_time": "2022-11-04T13:50:28.786Z"
   },
   {
    "duration": 5,
    "start_time": "2022-11-04T13:50:28.807Z"
   },
   {
    "duration": 22,
    "start_time": "2022-11-04T13:50:28.813Z"
   },
   {
    "duration": 6,
    "start_time": "2022-11-04T13:50:28.838Z"
   },
   {
    "duration": 24,
    "start_time": "2022-11-04T13:50:28.846Z"
   },
   {
    "duration": 12,
    "start_time": "2022-11-04T13:50:28.872Z"
   },
   {
    "duration": 15,
    "start_time": "2022-11-04T13:50:28.885Z"
   },
   {
    "duration": 14,
    "start_time": "2022-11-04T13:50:28.902Z"
   },
   {
    "duration": 27,
    "start_time": "2022-11-04T13:50:28.918Z"
   },
   {
    "duration": 19,
    "start_time": "2022-11-04T13:50:28.946Z"
   },
   {
    "duration": 3,
    "start_time": "2022-11-04T13:50:28.967Z"
   },
   {
    "duration": 9,
    "start_time": "2022-11-04T13:50:28.971Z"
   },
   {
    "duration": 4,
    "start_time": "2022-11-04T13:50:28.982Z"
   },
   {
    "duration": 7,
    "start_time": "2022-11-04T13:50:28.987Z"
   },
   {
    "duration": 30,
    "start_time": "2022-11-04T13:50:28.996Z"
   },
   {
    "duration": 7,
    "start_time": "2022-11-04T13:50:29.028Z"
   },
   {
    "duration": 19,
    "start_time": "2022-11-04T13:50:29.038Z"
   },
   {
    "duration": 15,
    "start_time": "2022-11-04T13:50:29.058Z"
   },
   {
    "duration": 25,
    "start_time": "2022-11-04T13:50:29.075Z"
   },
   {
    "duration": 27,
    "start_time": "2022-11-04T13:50:29.102Z"
   },
   {
    "duration": 8,
    "start_time": "2022-11-04T13:50:29.130Z"
   },
   {
    "duration": 26,
    "start_time": "2022-11-04T13:50:29.140Z"
   },
   {
    "duration": 17,
    "start_time": "2022-11-04T13:50:29.168Z"
   },
   {
    "duration": 19,
    "start_time": "2022-11-04T13:50:29.187Z"
   },
   {
    "duration": 20,
    "start_time": "2022-11-04T13:50:29.208Z"
   },
   {
    "duration": 21,
    "start_time": "2022-11-04T13:50:29.229Z"
   },
   {
    "duration": 21,
    "start_time": "2022-11-04T13:50:29.252Z"
   },
   {
    "duration": 29,
    "start_time": "2022-11-04T13:50:29.275Z"
   },
   {
    "duration": 18,
    "start_time": "2022-11-04T13:50:29.306Z"
   },
   {
    "duration": 9,
    "start_time": "2022-11-04T13:50:29.326Z"
   },
   {
    "duration": 14,
    "start_time": "2022-11-04T13:50:29.337Z"
   },
   {
    "duration": 6,
    "start_time": "2022-11-04T13:50:29.352Z"
   },
   {
    "duration": 12,
    "start_time": "2022-11-04T13:50:29.359Z"
   },
   {
    "duration": 9,
    "start_time": "2022-11-04T13:50:29.372Z"
   },
   {
    "duration": 128,
    "start_time": "2022-11-04T13:50:29.383Z"
   },
   {
    "duration": 6,
    "start_time": "2022-11-04T13:50:29.513Z"
   },
   {
    "duration": 27,
    "start_time": "2022-11-04T13:50:29.521Z"
   },
   {
    "duration": 4,
    "start_time": "2022-11-04T13:50:29.550Z"
   },
   {
    "duration": 23,
    "start_time": "2022-11-04T13:50:29.555Z"
   },
   {
    "duration": 25,
    "start_time": "2022-11-04T13:50:29.580Z"
   },
   {
    "duration": 3,
    "start_time": "2022-11-04T13:50:29.607Z"
   },
   {
    "duration": 259,
    "start_time": "2022-11-04T13:50:29.612Z"
   },
   {
    "duration": 5,
    "start_time": "2022-11-04T13:50:29.873Z"
   },
   {
    "duration": 19,
    "start_time": "2022-11-04T13:50:29.879Z"
   },
   {
    "duration": 11,
    "start_time": "2022-11-04T13:50:29.900Z"
   },
   {
    "duration": 202,
    "start_time": "2022-11-04T13:50:29.912Z"
   },
   {
    "duration": 8,
    "start_time": "2022-11-04T13:50:30.116Z"
   },
   {
    "duration": 226,
    "start_time": "2022-11-04T13:50:30.125Z"
   },
   {
    "duration": 8,
    "start_time": "2022-11-04T13:50:30.353Z"
   },
   {
    "duration": 221,
    "start_time": "2022-11-04T13:50:30.363Z"
   },
   {
    "duration": 9,
    "start_time": "2022-11-04T13:50:30.585Z"
   },
   {
    "duration": 430,
    "start_time": "2022-11-04T13:50:30.595Z"
   },
   {
    "duration": 11,
    "start_time": "2022-11-04T13:50:31.027Z"
   },
   {
    "duration": 234,
    "start_time": "2022-11-04T13:50:31.040Z"
   },
   {
    "duration": 8,
    "start_time": "2022-11-04T13:50:31.276Z"
   },
   {
    "duration": 324,
    "start_time": "2022-11-04T13:50:31.286Z"
   },
   {
    "duration": 9,
    "start_time": "2022-11-04T13:50:31.611Z"
   },
   {
    "duration": 342,
    "start_time": "2022-11-04T13:50:31.626Z"
   },
   {
    "duration": 9,
    "start_time": "2022-11-04T13:50:31.969Z"
   },
   {
    "duration": 6,
    "start_time": "2022-11-04T13:50:31.979Z"
   },
   {
    "duration": 119,
    "start_time": "2022-11-04T13:50:31.986Z"
   },
   {
    "duration": 212,
    "start_time": "2022-11-04T13:50:32.106Z"
   },
   {
    "duration": 7,
    "start_time": "2022-11-04T13:50:32.320Z"
   },
   {
    "duration": 292,
    "start_time": "2022-11-04T13:50:32.328Z"
   },
   {
    "duration": 9,
    "start_time": "2022-11-04T13:50:32.622Z"
   },
   {
    "duration": 199,
    "start_time": "2022-11-04T13:50:32.632Z"
   },
   {
    "duration": 9,
    "start_time": "2022-11-04T13:50:32.832Z"
   },
   {
    "duration": 213,
    "start_time": "2022-11-04T13:50:32.842Z"
   },
   {
    "duration": 9,
    "start_time": "2022-11-04T13:50:33.057Z"
   },
   {
    "duration": 229,
    "start_time": "2022-11-04T13:50:33.067Z"
   },
   {
    "duration": 199,
    "start_time": "2022-11-04T13:50:33.298Z"
   },
   {
    "duration": 344,
    "start_time": "2022-11-04T13:50:33.499Z"
   },
   {
    "duration": 8,
    "start_time": "2022-11-04T13:50:33.844Z"
   },
   {
    "duration": 69,
    "start_time": "2022-11-04T13:50:33.854Z"
   },
   {
    "duration": 1111,
    "start_time": "2022-11-04T13:50:33.924Z"
   },
   {
    "duration": 997,
    "start_time": "2022-11-04T13:50:35.036Z"
   },
   {
    "duration": 1026,
    "start_time": "2022-11-04T13:50:36.035Z"
   },
   {
    "duration": 1167,
    "start_time": "2022-11-04T13:50:37.063Z"
   },
   {
    "duration": 14,
    "start_time": "2022-11-04T13:50:38.232Z"
   },
   {
    "duration": 158,
    "start_time": "2022-11-04T13:50:38.247Z"
   },
   {
    "duration": 11,
    "start_time": "2022-11-04T13:50:38.407Z"
   },
   {
    "duration": 166,
    "start_time": "2022-11-04T13:50:38.419Z"
   },
   {
    "duration": 22,
    "start_time": "2022-11-04T13:50:38.586Z"
   },
   {
    "duration": 179,
    "start_time": "2022-11-04T13:50:38.610Z"
   },
   {
    "duration": 17,
    "start_time": "2022-11-04T13:50:38.791Z"
   },
   {
    "duration": 169,
    "start_time": "2022-11-04T13:50:38.810Z"
   },
   {
    "duration": 25,
    "start_time": "2022-11-04T13:50:38.981Z"
   },
   {
    "duration": 6,
    "start_time": "2022-11-04T13:50:39.007Z"
   },
   {
    "duration": 8,
    "start_time": "2022-11-04T13:50:39.014Z"
   },
   {
    "duration": 22,
    "start_time": "2022-11-04T13:50:39.023Z"
   },
   {
    "duration": 300,
    "start_time": "2022-11-04T13:50:39.046Z"
   },
   {
    "duration": 1104,
    "start_time": "2022-11-04T13:52:39.486Z"
   },
   {
    "duration": 78,
    "start_time": "2022-11-04T13:52:40.591Z"
   },
   {
    "duration": 89,
    "start_time": "2022-11-04T13:52:40.670Z"
   },
   {
    "duration": 12,
    "start_time": "2022-11-04T13:52:40.761Z"
   },
   {
    "duration": 3,
    "start_time": "2022-11-04T13:52:40.774Z"
   },
   {
    "duration": 1793,
    "start_time": "2022-11-04T13:52:40.778Z"
   },
   {
    "duration": 8,
    "start_time": "2022-11-04T13:52:42.573Z"
   },
   {
    "duration": 8,
    "start_time": "2022-11-04T13:52:42.582Z"
   },
   {
    "duration": 10,
    "start_time": "2022-11-04T13:52:42.591Z"
   },
   {
    "duration": 5,
    "start_time": "2022-11-04T13:52:42.604Z"
   },
   {
    "duration": 4,
    "start_time": "2022-11-04T13:52:42.611Z"
   },
   {
    "duration": 3,
    "start_time": "2022-11-04T13:52:42.617Z"
   },
   {
    "duration": 6,
    "start_time": "2022-11-04T13:52:42.621Z"
   },
   {
    "duration": 7,
    "start_time": "2022-11-04T13:52:42.629Z"
   },
   {
    "duration": 10,
    "start_time": "2022-11-04T13:52:42.637Z"
   },
   {
    "duration": 10,
    "start_time": "2022-11-04T13:52:42.649Z"
   },
   {
    "duration": 8,
    "start_time": "2022-11-04T13:52:42.660Z"
   },
   {
    "duration": 37,
    "start_time": "2022-11-04T13:52:42.670Z"
   },
   {
    "duration": 5,
    "start_time": "2022-11-04T13:52:42.709Z"
   },
   {
    "duration": 329,
    "start_time": "2022-11-04T13:52:42.716Z"
   },
   {
    "duration": 17,
    "start_time": "2022-11-04T13:52:43.047Z"
   },
   {
    "duration": 18,
    "start_time": "2022-11-04T13:52:43.066Z"
   },
   {
    "duration": 21,
    "start_time": "2022-11-04T13:52:43.086Z"
   },
   {
    "duration": 10,
    "start_time": "2022-11-04T13:52:43.109Z"
   },
   {
    "duration": 7,
    "start_time": "2022-11-04T13:52:43.120Z"
   },
   {
    "duration": 6,
    "start_time": "2022-11-04T13:52:43.128Z"
   },
   {
    "duration": 20,
    "start_time": "2022-11-04T13:52:43.136Z"
   },
   {
    "duration": 6,
    "start_time": "2022-11-04T13:52:43.160Z"
   },
   {
    "duration": 41,
    "start_time": "2022-11-04T13:52:43.167Z"
   },
   {
    "duration": 6,
    "start_time": "2022-11-04T13:52:43.209Z"
   },
   {
    "duration": 9,
    "start_time": "2022-11-04T13:52:43.216Z"
   },
   {
    "duration": 6,
    "start_time": "2022-11-04T13:52:43.226Z"
   },
   {
    "duration": 4,
    "start_time": "2022-11-04T13:52:43.234Z"
   },
   {
    "duration": 7,
    "start_time": "2022-11-04T13:52:43.239Z"
   },
   {
    "duration": 5,
    "start_time": "2022-11-04T13:52:43.248Z"
   },
   {
    "duration": 8,
    "start_time": "2022-11-04T13:52:43.254Z"
   },
   {
    "duration": 3,
    "start_time": "2022-11-04T13:52:43.264Z"
   },
   {
    "duration": 37,
    "start_time": "2022-11-04T13:52:43.268Z"
   },
   {
    "duration": 13,
    "start_time": "2022-11-04T13:52:43.307Z"
   },
   {
    "duration": 5,
    "start_time": "2022-11-04T13:52:43.321Z"
   },
   {
    "duration": 5,
    "start_time": "2022-11-04T13:52:43.327Z"
   },
   {
    "duration": 7,
    "start_time": "2022-11-04T13:52:43.333Z"
   },
   {
    "duration": 6,
    "start_time": "2022-11-04T13:52:43.341Z"
   },
   {
    "duration": 6,
    "start_time": "2022-11-04T13:52:43.348Z"
   },
   {
    "duration": 7,
    "start_time": "2022-11-04T13:52:43.355Z"
   },
   {
    "duration": 6,
    "start_time": "2022-11-04T13:52:43.363Z"
   },
   {
    "duration": 35,
    "start_time": "2022-11-04T13:52:43.371Z"
   },
   {
    "duration": 4,
    "start_time": "2022-11-04T13:52:43.408Z"
   },
   {
    "duration": 7,
    "start_time": "2022-11-04T13:52:43.413Z"
   },
   {
    "duration": 6,
    "start_time": "2022-11-04T13:52:43.422Z"
   },
   {
    "duration": 4,
    "start_time": "2022-11-04T13:52:43.430Z"
   },
   {
    "duration": 7,
    "start_time": "2022-11-04T13:52:43.436Z"
   },
   {
    "duration": 6,
    "start_time": "2022-11-04T13:52:43.444Z"
   },
   {
    "duration": 5,
    "start_time": "2022-11-04T13:52:43.452Z"
   },
   {
    "duration": 7,
    "start_time": "2022-11-04T13:52:43.458Z"
   },
   {
    "duration": 43,
    "start_time": "2022-11-04T13:52:43.466Z"
   },
   {
    "duration": 7,
    "start_time": "2022-11-04T13:52:43.510Z"
   },
   {
    "duration": 5,
    "start_time": "2022-11-04T13:52:43.518Z"
   },
   {
    "duration": 169,
    "start_time": "2022-11-04T13:52:43.525Z"
   },
   {
    "duration": 6,
    "start_time": "2022-11-04T13:52:43.696Z"
   },
   {
    "duration": 22,
    "start_time": "2022-11-04T13:52:43.705Z"
   },
   {
    "duration": 4,
    "start_time": "2022-11-04T13:52:43.728Z"
   },
   {
    "duration": 18,
    "start_time": "2022-11-04T13:52:43.734Z"
   },
   {
    "duration": 14,
    "start_time": "2022-11-04T13:52:43.754Z"
   },
   {
    "duration": 3,
    "start_time": "2022-11-04T13:52:43.770Z"
   },
   {
    "duration": 306,
    "start_time": "2022-11-04T13:52:43.775Z"
   },
   {
    "duration": 5,
    "start_time": "2022-11-04T13:52:44.084Z"
   },
   {
    "duration": 12,
    "start_time": "2022-11-04T13:52:44.090Z"
   },
   {
    "duration": 6,
    "start_time": "2022-11-04T13:52:44.104Z"
   },
   {
    "duration": 206,
    "start_time": "2022-11-04T13:52:44.111Z"
   },
   {
    "duration": 8,
    "start_time": "2022-11-04T13:52:44.319Z"
   },
   {
    "duration": 206,
    "start_time": "2022-11-04T13:52:44.329Z"
   },
   {
    "duration": 9,
    "start_time": "2022-11-04T13:52:44.536Z"
   },
   {
    "duration": 216,
    "start_time": "2022-11-04T13:52:44.546Z"
   },
   {
    "duration": 8,
    "start_time": "2022-11-04T13:52:44.764Z"
   },
   {
    "duration": 404,
    "start_time": "2022-11-04T13:52:44.774Z"
   },
   {
    "duration": 9,
    "start_time": "2022-11-04T13:52:45.180Z"
   },
   {
    "duration": 218,
    "start_time": "2022-11-04T13:52:45.191Z"
   },
   {
    "duration": 8,
    "start_time": "2022-11-04T13:52:45.411Z"
   },
   {
    "duration": 332,
    "start_time": "2022-11-04T13:52:45.420Z"
   },
   {
    "duration": 9,
    "start_time": "2022-11-04T13:52:45.754Z"
   },
   {
    "duration": 342,
    "start_time": "2022-11-04T13:52:45.769Z"
   },
   {
    "duration": 7,
    "start_time": "2022-11-04T13:52:46.113Z"
   },
   {
    "duration": 6,
    "start_time": "2022-11-04T13:52:46.121Z"
   },
   {
    "duration": 116,
    "start_time": "2022-11-04T13:52:46.128Z"
   },
   {
    "duration": 184,
    "start_time": "2022-11-04T13:52:46.245Z"
   },
   {
    "duration": 8,
    "start_time": "2022-11-04T13:52:46.431Z"
   },
   {
    "duration": 293,
    "start_time": "2022-11-04T13:52:46.441Z"
   },
   {
    "duration": 9,
    "start_time": "2022-11-04T13:52:46.735Z"
   },
   {
    "duration": 186,
    "start_time": "2022-11-04T13:52:46.745Z"
   },
   {
    "duration": 9,
    "start_time": "2022-11-04T13:52:46.932Z"
   },
   {
    "duration": 216,
    "start_time": "2022-11-04T13:52:46.942Z"
   },
   {
    "duration": 8,
    "start_time": "2022-11-04T13:52:47.159Z"
   },
   {
    "duration": 261,
    "start_time": "2022-11-04T13:52:47.169Z"
   },
   {
    "duration": 220,
    "start_time": "2022-11-04T13:52:47.433Z"
   },
   {
    "duration": 377,
    "start_time": "2022-11-04T13:52:47.655Z"
   },
   {
    "duration": 10,
    "start_time": "2022-11-04T13:52:48.033Z"
   },
   {
    "duration": 77,
    "start_time": "2022-11-04T13:52:48.045Z"
   },
   {
    "duration": 1109,
    "start_time": "2022-11-04T13:52:48.124Z"
   },
   {
    "duration": 993,
    "start_time": "2022-11-04T13:52:49.235Z"
   },
   {
    "duration": 1013,
    "start_time": "2022-11-04T13:52:50.230Z"
   },
   {
    "duration": 1006,
    "start_time": "2022-11-04T13:52:51.244Z"
   },
   {
    "duration": 13,
    "start_time": "2022-11-04T13:52:52.253Z"
   },
   {
    "duration": 156,
    "start_time": "2022-11-04T13:52:52.267Z"
   },
   {
    "duration": 12,
    "start_time": "2022-11-04T13:52:52.425Z"
   },
   {
    "duration": 168,
    "start_time": "2022-11-04T13:52:52.439Z"
   },
   {
    "duration": 12,
    "start_time": "2022-11-04T13:52:52.609Z"
   },
   {
    "duration": 195,
    "start_time": "2022-11-04T13:52:52.623Z"
   },
   {
    "duration": 12,
    "start_time": "2022-11-04T13:52:52.820Z"
   },
   {
    "duration": 174,
    "start_time": "2022-11-04T13:52:52.833Z"
   },
   {
    "duration": 20,
    "start_time": "2022-11-04T13:52:53.009Z"
   },
   {
    "duration": 5,
    "start_time": "2022-11-04T13:52:53.030Z"
   },
   {
    "duration": 12,
    "start_time": "2022-11-04T13:52:53.037Z"
   },
   {
    "duration": 20,
    "start_time": "2022-11-04T13:52:53.051Z"
   },
   {
    "duration": 335,
    "start_time": "2022-11-04T13:52:53.072Z"
   },
   {
    "duration": 21,
    "start_time": "2022-11-04T13:53:40.492Z"
   },
   {
    "duration": 345,
    "start_time": "2022-11-04T13:53:48.093Z"
   },
   {
    "duration": 34,
    "start_time": "2022-11-04T13:53:58.444Z"
   },
   {
    "duration": 3,
    "start_time": "2022-11-04T13:55:29.272Z"
   },
   {
    "duration": 82,
    "start_time": "2022-11-04T13:55:30.666Z"
   },
   {
    "duration": 116,
    "start_time": "2022-11-04T13:55:32.204Z"
   },
   {
    "duration": 14,
    "start_time": "2022-11-04T13:55:35.508Z"
   },
   {
    "duration": 89,
    "start_time": "2022-11-04T13:55:39.566Z"
   },
   {
    "duration": 9,
    "start_time": "2022-11-04T13:55:49.198Z"
   },
   {
    "duration": 1177,
    "start_time": "2022-11-04T13:56:06.003Z"
   },
   {
    "duration": 80,
    "start_time": "2022-11-04T13:56:07.182Z"
   },
   {
    "duration": 108,
    "start_time": "2022-11-04T13:56:07.264Z"
   },
   {
    "duration": 17,
    "start_time": "2022-11-04T13:56:07.374Z"
   },
   {
    "duration": 130,
    "start_time": "2022-11-04T13:56:07.393Z"
   },
   {
    "duration": 0,
    "start_time": "2022-11-04T13:56:07.527Z"
   },
   {
    "duration": 0,
    "start_time": "2022-11-04T13:56:07.528Z"
   },
   {
    "duration": 0,
    "start_time": "2022-11-04T13:56:07.530Z"
   },
   {
    "duration": 0,
    "start_time": "2022-11-04T13:56:07.532Z"
   },
   {
    "duration": 0,
    "start_time": "2022-11-04T13:56:07.533Z"
   },
   {
    "duration": 0,
    "start_time": "2022-11-04T13:56:07.534Z"
   },
   {
    "duration": 0,
    "start_time": "2022-11-04T13:56:07.535Z"
   },
   {
    "duration": 0,
    "start_time": "2022-11-04T13:56:07.536Z"
   },
   {
    "duration": 0,
    "start_time": "2022-11-04T13:56:07.537Z"
   },
   {
    "duration": 0,
    "start_time": "2022-11-04T13:56:07.539Z"
   },
   {
    "duration": 0,
    "start_time": "2022-11-04T13:56:07.540Z"
   },
   {
    "duration": 0,
    "start_time": "2022-11-04T13:56:07.540Z"
   },
   {
    "duration": 0,
    "start_time": "2022-11-04T13:56:07.542Z"
   },
   {
    "duration": 0,
    "start_time": "2022-11-04T13:56:07.543Z"
   },
   {
    "duration": 0,
    "start_time": "2022-11-04T13:56:07.546Z"
   },
   {
    "duration": 0,
    "start_time": "2022-11-04T13:56:07.547Z"
   },
   {
    "duration": 0,
    "start_time": "2022-11-04T13:56:07.548Z"
   },
   {
    "duration": 0,
    "start_time": "2022-11-04T13:56:07.550Z"
   },
   {
    "duration": 0,
    "start_time": "2022-11-04T13:56:07.552Z"
   },
   {
    "duration": 0,
    "start_time": "2022-11-04T13:56:07.553Z"
   },
   {
    "duration": 0,
    "start_time": "2022-11-04T13:56:07.555Z"
   },
   {
    "duration": 0,
    "start_time": "2022-11-04T13:56:07.556Z"
   },
   {
    "duration": 0,
    "start_time": "2022-11-04T13:56:07.558Z"
   },
   {
    "duration": 0,
    "start_time": "2022-11-04T13:56:07.559Z"
   },
   {
    "duration": 0,
    "start_time": "2022-11-04T13:56:07.560Z"
   },
   {
    "duration": 0,
    "start_time": "2022-11-04T13:56:07.560Z"
   },
   {
    "duration": 0,
    "start_time": "2022-11-04T13:56:07.561Z"
   },
   {
    "duration": 0,
    "start_time": "2022-11-04T13:56:07.561Z"
   },
   {
    "duration": 0,
    "start_time": "2022-11-04T13:56:07.605Z"
   },
   {
    "duration": 0,
    "start_time": "2022-11-04T13:56:07.607Z"
   },
   {
    "duration": 0,
    "start_time": "2022-11-04T13:56:07.608Z"
   },
   {
    "duration": 0,
    "start_time": "2022-11-04T13:56:07.610Z"
   },
   {
    "duration": 0,
    "start_time": "2022-11-04T13:56:07.611Z"
   },
   {
    "duration": 0,
    "start_time": "2022-11-04T13:56:07.613Z"
   },
   {
    "duration": 0,
    "start_time": "2022-11-04T13:56:07.614Z"
   },
   {
    "duration": 0,
    "start_time": "2022-11-04T13:56:07.615Z"
   },
   {
    "duration": 0,
    "start_time": "2022-11-04T13:56:07.616Z"
   },
   {
    "duration": 0,
    "start_time": "2022-11-04T13:56:07.618Z"
   },
   {
    "duration": 0,
    "start_time": "2022-11-04T13:56:07.619Z"
   },
   {
    "duration": 0,
    "start_time": "2022-11-04T13:56:07.620Z"
   },
   {
    "duration": 0,
    "start_time": "2022-11-04T13:56:07.622Z"
   },
   {
    "duration": 0,
    "start_time": "2022-11-04T13:56:07.623Z"
   },
   {
    "duration": 0,
    "start_time": "2022-11-04T13:56:07.625Z"
   },
   {
    "duration": 0,
    "start_time": "2022-11-04T13:56:07.626Z"
   },
   {
    "duration": 0,
    "start_time": "2022-11-04T13:56:07.627Z"
   },
   {
    "duration": 0,
    "start_time": "2022-11-04T13:56:07.627Z"
   },
   {
    "duration": 0,
    "start_time": "2022-11-04T13:56:07.628Z"
   },
   {
    "duration": 0,
    "start_time": "2022-11-04T13:56:07.629Z"
   },
   {
    "duration": 0,
    "start_time": "2022-11-04T13:56:07.630Z"
   },
   {
    "duration": 0,
    "start_time": "2022-11-04T13:56:07.634Z"
   },
   {
    "duration": 0,
    "start_time": "2022-11-04T13:56:07.635Z"
   },
   {
    "duration": 0,
    "start_time": "2022-11-04T13:56:07.637Z"
   },
   {
    "duration": 0,
    "start_time": "2022-11-04T13:56:07.638Z"
   },
   {
    "duration": 0,
    "start_time": "2022-11-04T13:56:07.639Z"
   },
   {
    "duration": 0,
    "start_time": "2022-11-04T13:56:07.641Z"
   },
   {
    "duration": 0,
    "start_time": "2022-11-04T13:56:07.642Z"
   },
   {
    "duration": 0,
    "start_time": "2022-11-04T13:56:07.706Z"
   },
   {
    "duration": 0,
    "start_time": "2022-11-04T13:56:07.707Z"
   },
   {
    "duration": 0,
    "start_time": "2022-11-04T13:56:07.708Z"
   },
   {
    "duration": 0,
    "start_time": "2022-11-04T13:56:07.709Z"
   },
   {
    "duration": 0,
    "start_time": "2022-11-04T13:56:07.710Z"
   },
   {
    "duration": 0,
    "start_time": "2022-11-04T13:56:07.711Z"
   },
   {
    "duration": 0,
    "start_time": "2022-11-04T13:56:07.711Z"
   },
   {
    "duration": 0,
    "start_time": "2022-11-04T13:56:07.712Z"
   },
   {
    "duration": 0,
    "start_time": "2022-11-04T13:56:07.713Z"
   },
   {
    "duration": 0,
    "start_time": "2022-11-04T13:56:07.714Z"
   },
   {
    "duration": 0,
    "start_time": "2022-11-04T13:56:07.715Z"
   },
   {
    "duration": 0,
    "start_time": "2022-11-04T13:56:07.716Z"
   },
   {
    "duration": 0,
    "start_time": "2022-11-04T13:56:07.717Z"
   },
   {
    "duration": 0,
    "start_time": "2022-11-04T13:56:07.717Z"
   },
   {
    "duration": 0,
    "start_time": "2022-11-04T13:56:07.718Z"
   },
   {
    "duration": 0,
    "start_time": "2022-11-04T13:56:07.719Z"
   },
   {
    "duration": 0,
    "start_time": "2022-11-04T13:56:07.720Z"
   },
   {
    "duration": 0,
    "start_time": "2022-11-04T13:56:07.722Z"
   },
   {
    "duration": 0,
    "start_time": "2022-11-04T13:56:07.723Z"
   },
   {
    "duration": 0,
    "start_time": "2022-11-04T13:56:07.724Z"
   },
   {
    "duration": 0,
    "start_time": "2022-11-04T13:56:07.725Z"
   },
   {
    "duration": 0,
    "start_time": "2022-11-04T13:56:07.726Z"
   },
   {
    "duration": 0,
    "start_time": "2022-11-04T13:56:07.727Z"
   },
   {
    "duration": 0,
    "start_time": "2022-11-04T13:56:07.728Z"
   },
   {
    "duration": 0,
    "start_time": "2022-11-04T13:56:07.729Z"
   },
   {
    "duration": 0,
    "start_time": "2022-11-04T13:56:07.730Z"
   },
   {
    "duration": 0,
    "start_time": "2022-11-04T13:56:07.731Z"
   },
   {
    "duration": 0,
    "start_time": "2022-11-04T13:56:07.732Z"
   },
   {
    "duration": 0,
    "start_time": "2022-11-04T13:56:07.733Z"
   },
   {
    "duration": 0,
    "start_time": "2022-11-04T13:56:07.734Z"
   },
   {
    "duration": 0,
    "start_time": "2022-11-04T13:56:07.736Z"
   },
   {
    "duration": 0,
    "start_time": "2022-11-04T13:56:07.737Z"
   },
   {
    "duration": 0,
    "start_time": "2022-11-04T13:56:07.738Z"
   },
   {
    "duration": 0,
    "start_time": "2022-11-04T13:56:07.739Z"
   },
   {
    "duration": 0,
    "start_time": "2022-11-04T13:56:07.741Z"
   },
   {
    "duration": 0,
    "start_time": "2022-11-04T13:56:07.742Z"
   },
   {
    "duration": 0,
    "start_time": "2022-11-04T13:56:07.743Z"
   },
   {
    "duration": 0,
    "start_time": "2022-11-04T13:56:07.745Z"
   },
   {
    "duration": 0,
    "start_time": "2022-11-04T13:56:07.808Z"
   },
   {
    "duration": 0,
    "start_time": "2022-11-04T13:56:07.809Z"
   },
   {
    "duration": 0,
    "start_time": "2022-11-04T13:56:07.811Z"
   },
   {
    "duration": 0,
    "start_time": "2022-11-04T13:56:07.812Z"
   },
   {
    "duration": 0,
    "start_time": "2022-11-04T13:56:07.813Z"
   },
   {
    "duration": 0,
    "start_time": "2022-11-04T13:56:07.814Z"
   },
   {
    "duration": 0,
    "start_time": "2022-11-04T13:56:07.815Z"
   },
   {
    "duration": 0,
    "start_time": "2022-11-04T13:56:07.816Z"
   },
   {
    "duration": 0,
    "start_time": "2022-11-04T13:56:07.817Z"
   },
   {
    "duration": 0,
    "start_time": "2022-11-04T13:56:07.818Z"
   },
   {
    "duration": 0,
    "start_time": "2022-11-04T13:56:07.819Z"
   },
   {
    "duration": 0,
    "start_time": "2022-11-04T13:56:07.820Z"
   },
   {
    "duration": 0,
    "start_time": "2022-11-04T13:56:07.821Z"
   },
   {
    "duration": 0,
    "start_time": "2022-11-04T13:56:07.822Z"
   },
   {
    "duration": 0,
    "start_time": "2022-11-04T13:56:07.823Z"
   },
   {
    "duration": 0,
    "start_time": "2022-11-04T13:56:07.824Z"
   },
   {
    "duration": 4,
    "start_time": "2022-11-04T13:57:08.450Z"
   },
   {
    "duration": 2,
    "start_time": "2022-11-04T13:58:25.448Z"
   },
   {
    "duration": 3,
    "start_time": "2022-11-04T13:58:42.757Z"
   },
   {
    "duration": 1873,
    "start_time": "2022-11-04T13:58:46.686Z"
   },
   {
    "duration": 9,
    "start_time": "2022-11-04T13:58:53.237Z"
   },
   {
    "duration": 6,
    "start_time": "2022-11-04T13:58:55.847Z"
   },
   {
    "duration": 5,
    "start_time": "2022-11-04T13:58:58.145Z"
   },
   {
    "duration": 5,
    "start_time": "2022-11-04T13:58:59.627Z"
   },
   {
    "duration": 5,
    "start_time": "2022-11-04T13:59:02.864Z"
   },
   {
    "duration": 3,
    "start_time": "2022-11-04T13:59:05.430Z"
   },
   {
    "duration": 5,
    "start_time": "2022-11-04T13:59:07.737Z"
   },
   {
    "duration": 5,
    "start_time": "2022-11-04T13:59:10.993Z"
   },
   {
    "duration": 11,
    "start_time": "2022-11-04T13:59:14.732Z"
   },
   {
    "duration": 10,
    "start_time": "2022-11-04T13:59:16.346Z"
   },
   {
    "duration": 7,
    "start_time": "2022-11-04T13:59:31.922Z"
   },
   {
    "duration": 5,
    "start_time": "2022-11-04T13:59:33.795Z"
   },
   {
    "duration": 5,
    "start_time": "2022-11-04T13:59:39.883Z"
   },
   {
    "duration": 304,
    "start_time": "2022-11-04T13:59:41.862Z"
   },
   {
    "duration": 33,
    "start_time": "2022-11-04T13:59:45.087Z"
   },
   {
    "duration": 17,
    "start_time": "2022-11-04T13:59:49.903Z"
   },
   {
    "duration": 5,
    "start_time": "2022-11-04T13:59:52.909Z"
   },
   {
    "duration": 10,
    "start_time": "2022-11-04T13:59:57.757Z"
   },
   {
    "duration": 8,
    "start_time": "2022-11-04T14:00:03.837Z"
   },
   {
    "duration": 6,
    "start_time": "2022-11-04T14:00:06.411Z"
   },
   {
    "duration": 24,
    "start_time": "2022-11-04T14:00:08.059Z"
   },
   {
    "duration": 6,
    "start_time": "2022-11-04T14:00:11.810Z"
   },
   {
    "duration": 6,
    "start_time": "2022-11-04T14:00:14.061Z"
   },
   {
    "duration": 7,
    "start_time": "2022-11-04T14:00:15.858Z"
   },
   {
    "duration": 7,
    "start_time": "2022-11-04T14:00:17.693Z"
   },
   {
    "duration": 6,
    "start_time": "2022-11-04T14:00:21.608Z"
   },
   {
    "duration": 5,
    "start_time": "2022-11-04T14:00:26.336Z"
   },
   {
    "duration": 6,
    "start_time": "2022-11-04T14:00:34.448Z"
   },
   {
    "duration": 3,
    "start_time": "2022-11-04T14:00:37.184Z"
   },
   {
    "duration": 7,
    "start_time": "2022-11-04T14:00:39.523Z"
   },
   {
    "duration": 4,
    "start_time": "2022-11-04T14:00:41.223Z"
   },
   {
    "duration": 5,
    "start_time": "2022-11-04T14:00:42.757Z"
   },
   {
    "duration": 14,
    "start_time": "2022-11-04T14:00:47.224Z"
   },
   {
    "duration": 5,
    "start_time": "2022-11-04T14:00:56.073Z"
   },
   {
    "duration": 5,
    "start_time": "2022-11-04T14:00:57.802Z"
   },
   {
    "duration": 5,
    "start_time": "2022-11-04T14:00:59.526Z"
   },
   {
    "duration": 5,
    "start_time": "2022-11-04T14:01:01.155Z"
   },
   {
    "duration": 5,
    "start_time": "2022-11-04T14:01:03.657Z"
   },
   {
    "duration": 4,
    "start_time": "2022-11-04T14:01:05.196Z"
   },
   {
    "duration": 4,
    "start_time": "2022-11-04T14:01:06.627Z"
   },
   {
    "duration": 5,
    "start_time": "2022-11-04T14:01:08.322Z"
   },
   {
    "duration": 4,
    "start_time": "2022-11-04T14:01:11.264Z"
   },
   {
    "duration": 5,
    "start_time": "2022-11-04T14:01:13.388Z"
   },
   {
    "duration": 4,
    "start_time": "2022-11-04T14:01:14.755Z"
   },
   {
    "duration": 9,
    "start_time": "2022-11-04T14:01:17.974Z"
   },
   {
    "duration": 6,
    "start_time": "2022-11-04T14:01:20.028Z"
   },
   {
    "duration": 4,
    "start_time": "2022-11-04T14:01:22.493Z"
   },
   {
    "duration": 5,
    "start_time": "2022-11-04T14:01:26.166Z"
   },
   {
    "duration": 5,
    "start_time": "2022-11-04T14:01:28.343Z"
   },
   {
    "duration": 7,
    "start_time": "2022-11-04T14:01:37.390Z"
   },
   {
    "duration": 3,
    "start_time": "2022-11-04T14:01:40.922Z"
   },
   {
    "duration": 123,
    "start_time": "2022-11-04T14:01:42.923Z"
   },
   {
    "duration": 7,
    "start_time": "2022-11-04T14:01:44.706Z"
   },
   {
    "duration": 19,
    "start_time": "2022-11-04T14:01:50.303Z"
   },
   {
    "duration": 10,
    "start_time": "2022-11-04T14:02:33.154Z"
   },
   {
    "duration": 3,
    "start_time": "2022-11-04T14:02:49.250Z"
   },
   {
    "duration": 8,
    "start_time": "2022-11-04T14:03:35.565Z"
   },
   {
    "duration": 9,
    "start_time": "2022-11-04T14:04:24.383Z"
   },
   {
    "duration": 7,
    "start_time": "2022-11-04T14:04:42.623Z"
   },
   {
    "duration": 9,
    "start_time": "2022-11-04T14:04:51.647Z"
   },
   {
    "duration": 9,
    "start_time": "2022-11-04T14:05:01.722Z"
   },
   {
    "duration": 8,
    "start_time": "2022-11-04T14:05:06.067Z"
   },
   {
    "duration": 9,
    "start_time": "2022-11-04T14:05:12.989Z"
   },
   {
    "duration": 5,
    "start_time": "2022-11-04T14:05:28.429Z"
   },
   {
    "duration": 9,
    "start_time": "2022-11-04T14:06:00.234Z"
   },
   {
    "duration": 9,
    "start_time": "2022-11-04T14:06:17.035Z"
   },
   {
    "duration": 8,
    "start_time": "2022-11-04T14:06:20.526Z"
   },
   {
    "duration": 4,
    "start_time": "2022-11-04T14:06:25.029Z"
   },
   {
    "duration": 3,
    "start_time": "2022-11-04T14:06:49.870Z"
   },
   {
    "duration": 77,
    "start_time": "2022-11-04T14:07:02.069Z"
   },
   {
    "duration": 3,
    "start_time": "2022-11-04T14:07:04.336Z"
   },
   {
    "duration": 79,
    "start_time": "2022-11-04T14:07:06.048Z"
   },
   {
    "duration": 123,
    "start_time": "2022-11-04T14:07:07.869Z"
   },
   {
    "duration": 5,
    "start_time": "2022-11-04T14:07:14.373Z"
   },
   {
    "duration": 1484,
    "start_time": "2022-11-04T19:30:46.687Z"
   },
   {
    "duration": 291,
    "start_time": "2022-11-04T19:30:48.173Z"
   },
   {
    "duration": 107,
    "start_time": "2022-11-04T19:30:48.466Z"
   },
   {
    "duration": 15,
    "start_time": "2022-11-04T19:30:48.575Z"
   },
   {
    "duration": 10,
    "start_time": "2022-11-04T19:30:48.592Z"
   },
   {
    "duration": 1976,
    "start_time": "2022-11-04T19:30:48.603Z"
   },
   {
    "duration": 9,
    "start_time": "2022-11-04T19:30:50.581Z"
   },
   {
    "duration": 6,
    "start_time": "2022-11-04T19:30:50.592Z"
   },
   {
    "duration": 9,
    "start_time": "2022-11-04T19:30:50.600Z"
   },
   {
    "duration": 10,
    "start_time": "2022-11-04T19:30:50.612Z"
   },
   {
    "duration": 14,
    "start_time": "2022-11-04T19:30:50.624Z"
   },
   {
    "duration": 4,
    "start_time": "2022-11-04T19:30:50.640Z"
   },
   {
    "duration": 9,
    "start_time": "2022-11-04T19:30:50.645Z"
   },
   {
    "duration": 9,
    "start_time": "2022-11-04T19:30:50.656Z"
   },
   {
    "duration": 18,
    "start_time": "2022-11-04T19:30:50.668Z"
   },
   {
    "duration": 15,
    "start_time": "2022-11-04T19:30:50.688Z"
   },
   {
    "duration": 34,
    "start_time": "2022-11-04T19:30:50.705Z"
   },
   {
    "duration": 9,
    "start_time": "2022-11-04T19:30:50.742Z"
   },
   {
    "duration": 6,
    "start_time": "2022-11-04T19:30:50.753Z"
   },
   {
    "duration": 422,
    "start_time": "2022-11-04T19:30:50.762Z"
   },
   {
    "duration": 40,
    "start_time": "2022-11-04T19:30:51.197Z"
   },
   {
    "duration": 21,
    "start_time": "2022-11-04T19:30:51.238Z"
   },
   {
    "duration": 5,
    "start_time": "2022-11-04T19:30:51.260Z"
   },
   {
    "duration": 13,
    "start_time": "2022-11-04T19:30:51.266Z"
   },
   {
    "duration": 7,
    "start_time": "2022-11-04T19:30:51.280Z"
   },
   {
    "duration": 9,
    "start_time": "2022-11-04T19:30:51.288Z"
   },
   {
    "duration": 48,
    "start_time": "2022-11-04T19:30:51.298Z"
   },
   {
    "duration": 7,
    "start_time": "2022-11-04T19:30:51.351Z"
   },
   {
    "duration": 8,
    "start_time": "2022-11-04T19:30:51.360Z"
   },
   {
    "duration": 11,
    "start_time": "2022-11-04T19:30:51.370Z"
   },
   {
    "duration": 8,
    "start_time": "2022-11-04T19:30:51.383Z"
   },
   {
    "duration": 9,
    "start_time": "2022-11-04T19:30:51.392Z"
   },
   {
    "duration": 5,
    "start_time": "2022-11-04T19:30:51.403Z"
   },
   {
    "duration": 33,
    "start_time": "2022-11-04T19:30:51.410Z"
   },
   {
    "duration": 8,
    "start_time": "2022-11-04T19:30:51.445Z"
   },
   {
    "duration": 12,
    "start_time": "2022-11-04T19:30:51.455Z"
   },
   {
    "duration": 15,
    "start_time": "2022-11-04T19:30:51.469Z"
   },
   {
    "duration": 13,
    "start_time": "2022-11-04T19:30:51.487Z"
   },
   {
    "duration": 21,
    "start_time": "2022-11-04T19:30:51.501Z"
   },
   {
    "duration": 5,
    "start_time": "2022-11-04T19:30:51.524Z"
   },
   {
    "duration": 12,
    "start_time": "2022-11-04T19:30:51.530Z"
   },
   {
    "duration": 4,
    "start_time": "2022-11-04T19:30:51.543Z"
   },
   {
    "duration": 6,
    "start_time": "2022-11-04T19:30:51.549Z"
   },
   {
    "duration": 5,
    "start_time": "2022-11-04T19:30:51.557Z"
   },
   {
    "duration": 7,
    "start_time": "2022-11-04T19:30:51.563Z"
   },
   {
    "duration": 5,
    "start_time": "2022-11-04T19:30:51.571Z"
   },
   {
    "duration": 5,
    "start_time": "2022-11-04T19:30:51.577Z"
   },
   {
    "duration": 5,
    "start_time": "2022-11-04T19:30:51.584Z"
   },
   {
    "duration": 6,
    "start_time": "2022-11-04T19:30:51.590Z"
   },
   {
    "duration": 6,
    "start_time": "2022-11-04T19:30:51.638Z"
   },
   {
    "duration": 5,
    "start_time": "2022-11-04T19:30:51.645Z"
   },
   {
    "duration": 9,
    "start_time": "2022-11-04T19:30:51.652Z"
   },
   {
    "duration": 6,
    "start_time": "2022-11-04T19:30:51.663Z"
   },
   {
    "duration": 5,
    "start_time": "2022-11-04T19:30:51.671Z"
   },
   {
    "duration": 7,
    "start_time": "2022-11-04T19:30:51.677Z"
   },
   {
    "duration": 6,
    "start_time": "2022-11-04T19:30:51.685Z"
   },
   {
    "duration": 49,
    "start_time": "2022-11-04T19:30:51.693Z"
   },
   {
    "duration": 4,
    "start_time": "2022-11-04T19:30:51.744Z"
   },
   {
    "duration": 158,
    "start_time": "2022-11-04T19:30:51.750Z"
   },
   {
    "duration": 6,
    "start_time": "2022-11-04T19:30:51.910Z"
   },
   {
    "duration": 33,
    "start_time": "2022-11-04T19:30:51.918Z"
   },
   {
    "duration": 4,
    "start_time": "2022-11-04T19:30:51.953Z"
   },
   {
    "duration": 6,
    "start_time": "2022-11-04T19:30:51.958Z"
   },
   {
    "duration": 21,
    "start_time": "2022-11-04T19:30:51.966Z"
   },
   {
    "duration": 15,
    "start_time": "2022-11-04T19:30:51.988Z"
   },
   {
    "duration": 6,
    "start_time": "2022-11-04T19:30:52.004Z"
   },
   {
    "duration": 328,
    "start_time": "2022-11-04T19:30:52.011Z"
   },
   {
    "duration": 5,
    "start_time": "2022-11-04T19:30:52.340Z"
   },
   {
    "duration": 7,
    "start_time": "2022-11-04T19:30:52.347Z"
   },
   {
    "duration": 7,
    "start_time": "2022-11-04T19:30:52.355Z"
   },
   {
    "duration": 232,
    "start_time": "2022-11-04T19:30:52.363Z"
   },
   {
    "duration": 10,
    "start_time": "2022-11-04T19:30:52.596Z"
   },
   {
    "duration": 231,
    "start_time": "2022-11-04T19:30:52.607Z"
   },
   {
    "duration": 9,
    "start_time": "2022-11-04T19:30:52.840Z"
   },
   {
    "duration": 220,
    "start_time": "2022-11-04T19:30:52.851Z"
   },
   {
    "duration": 12,
    "start_time": "2022-11-04T19:30:53.072Z"
   },
   {
    "duration": 465,
    "start_time": "2022-11-04T19:30:53.086Z"
   },
   {
    "duration": 10,
    "start_time": "2022-11-04T19:30:53.553Z"
   },
   {
    "duration": 253,
    "start_time": "2022-11-04T19:30:53.564Z"
   },
   {
    "duration": 10,
    "start_time": "2022-11-04T19:30:53.819Z"
   },
   {
    "duration": 389,
    "start_time": "2022-11-04T19:30:53.839Z"
   },
   {
    "duration": 8,
    "start_time": "2022-11-04T19:30:54.238Z"
   },
   {
    "duration": 400,
    "start_time": "2022-11-04T19:30:54.247Z"
   },
   {
    "duration": 10,
    "start_time": "2022-11-04T19:30:54.648Z"
   },
   {
    "duration": 10,
    "start_time": "2022-11-04T19:30:54.659Z"
   },
   {
    "duration": 136,
    "start_time": "2022-11-04T19:30:54.670Z"
   },
   {
    "duration": 233,
    "start_time": "2022-11-04T19:30:54.808Z"
   },
   {
    "duration": 9,
    "start_time": "2022-11-04T19:30:55.042Z"
   },
   {
    "duration": 335,
    "start_time": "2022-11-04T19:30:55.053Z"
   },
   {
    "duration": 14,
    "start_time": "2022-11-04T19:30:55.389Z"
   },
   {
    "duration": 244,
    "start_time": "2022-11-04T19:30:55.406Z"
   },
   {
    "duration": 10,
    "start_time": "2022-11-04T19:30:55.652Z"
   },
   {
    "duration": 254,
    "start_time": "2022-11-04T19:30:55.663Z"
   },
   {
    "duration": 9,
    "start_time": "2022-11-04T19:30:55.918Z"
   },
   {
    "duration": 245,
    "start_time": "2022-11-04T19:30:55.939Z"
   },
   {
    "duration": 227,
    "start_time": "2022-11-04T19:30:56.186Z"
   },
   {
    "duration": 419,
    "start_time": "2022-11-04T19:30:56.415Z"
   },
   {
    "duration": 9,
    "start_time": "2022-11-04T19:30:56.838Z"
   },
   {
    "duration": 60,
    "start_time": "2022-11-04T19:30:56.848Z"
   },
   {
    "duration": 1530,
    "start_time": "2022-11-04T19:30:56.910Z"
   },
   {
    "duration": 1172,
    "start_time": "2022-11-04T19:30:58.442Z"
   },
   {
    "duration": 1191,
    "start_time": "2022-11-04T19:30:59.616Z"
   },
   {
    "duration": 1185,
    "start_time": "2022-11-04T19:31:00.809Z"
   },
   {
    "duration": 14,
    "start_time": "2022-11-04T19:31:01.996Z"
   },
   {
    "duration": 181,
    "start_time": "2022-11-04T19:31:02.012Z"
   },
   {
    "duration": 12,
    "start_time": "2022-11-04T19:31:02.195Z"
   },
   {
    "duration": 177,
    "start_time": "2022-11-04T19:31:02.209Z"
   },
   {
    "duration": 13,
    "start_time": "2022-11-04T19:31:02.388Z"
   },
   {
    "duration": 217,
    "start_time": "2022-11-04T19:31:02.402Z"
   },
   {
    "duration": 23,
    "start_time": "2022-11-04T19:31:02.621Z"
   },
   {
    "duration": 168,
    "start_time": "2022-11-04T19:31:02.645Z"
   },
   {
    "duration": 36,
    "start_time": "2022-11-04T19:31:02.815Z"
   },
   {
    "duration": 6,
    "start_time": "2022-11-04T19:31:02.852Z"
   },
   {
    "duration": 20,
    "start_time": "2022-11-04T19:31:02.859Z"
   },
   {
    "duration": 19,
    "start_time": "2022-11-04T19:31:02.881Z"
   },
   {
    "duration": 360,
    "start_time": "2022-11-04T19:31:02.902Z"
   },
   {
    "duration": 7,
    "start_time": "2022-11-04T19:34:20.375Z"
   },
   {
    "duration": 4,
    "start_time": "2022-11-04T19:34:31.340Z"
   },
   {
    "duration": 79,
    "start_time": "2022-11-04T19:34:32.909Z"
   },
   {
    "duration": 135,
    "start_time": "2022-11-04T19:34:34.797Z"
   },
   {
    "duration": 15,
    "start_time": "2022-11-04T19:34:38.431Z"
   },
   {
    "duration": 3,
    "start_time": "2022-11-04T19:34:41.457Z"
   },
   {
    "duration": 1971,
    "start_time": "2022-11-04T19:34:43.891Z"
   },
   {
    "duration": 9,
    "start_time": "2022-11-04T19:34:49.013Z"
   },
   {
    "duration": 5,
    "start_time": "2022-11-04T19:34:52.492Z"
   },
   {
    "duration": 6,
    "start_time": "2022-11-04T19:34:56.209Z"
   },
   {
    "duration": 7,
    "start_time": "2022-11-04T19:34:58.406Z"
   },
   {
    "duration": 5,
    "start_time": "2022-11-04T19:35:01.236Z"
   },
   {
    "duration": 4,
    "start_time": "2022-11-04T19:35:03.165Z"
   },
   {
    "duration": 5,
    "start_time": "2022-11-04T19:35:08.414Z"
   },
   {
    "duration": 6,
    "start_time": "2022-11-04T19:35:14.210Z"
   },
   {
    "duration": 12,
    "start_time": "2022-11-04T19:35:17.761Z"
   },
   {
    "duration": 12,
    "start_time": "2022-11-04T19:35:19.686Z"
   },
   {
    "duration": 8,
    "start_time": "2022-11-04T19:35:22.835Z"
   },
   {
    "duration": 6,
    "start_time": "2022-11-04T19:35:25.435Z"
   },
   {
    "duration": 6,
    "start_time": "2022-11-04T19:35:31.103Z"
   },
   {
    "duration": 415,
    "start_time": "2022-11-04T19:35:33.314Z"
   },
   {
    "duration": 19,
    "start_time": "2022-11-04T19:35:36.913Z"
   },
   {
    "duration": 6,
    "start_time": "2022-11-04T19:35:39.742Z"
   },
   {
    "duration": 14,
    "start_time": "2022-11-04T19:35:42.887Z"
   },
   {
    "duration": 9,
    "start_time": "2022-11-04T19:35:49.815Z"
   },
   {
    "duration": 7,
    "start_time": "2022-11-04T19:36:33.464Z"
   },
   {
    "duration": 6,
    "start_time": "2022-11-04T19:37:47.526Z"
   },
   {
    "duration": 23,
    "start_time": "2022-11-04T19:37:53.046Z"
   },
   {
    "duration": 7,
    "start_time": "2022-11-04T19:37:55.051Z"
   },
   {
    "duration": 7,
    "start_time": "2022-11-04T19:38:00.512Z"
   },
   {
    "duration": 9,
    "start_time": "2022-11-04T19:38:06.548Z"
   },
   {
    "duration": 9,
    "start_time": "2022-11-04T19:38:08.780Z"
   },
   {
    "duration": 8,
    "start_time": "2022-11-04T19:38:10.657Z"
   },
   {
    "duration": 5,
    "start_time": "2022-11-04T19:38:14.528Z"
   },
   {
    "duration": 7,
    "start_time": "2022-11-04T19:38:20.596Z"
   },
   {
    "duration": 4,
    "start_time": "2022-11-04T19:38:23.585Z"
   },
   {
    "duration": 7,
    "start_time": "2022-11-04T19:38:35.488Z"
   },
   {
    "duration": 5,
    "start_time": "2022-11-04T19:38:38.512Z"
   },
   {
    "duration": 6,
    "start_time": "2022-11-04T19:38:40.626Z"
   },
   {
    "duration": 15,
    "start_time": "2022-11-04T19:38:44.056Z"
   },
   {
    "duration": 6,
    "start_time": "2022-11-04T19:38:47.061Z"
   },
   {
    "duration": 5,
    "start_time": "2022-11-04T19:38:49.308Z"
   },
   {
    "duration": 6,
    "start_time": "2022-11-04T19:38:51.529Z"
   },
   {
    "duration": 6,
    "start_time": "2022-11-04T19:38:53.658Z"
   },
   {
    "duration": 6,
    "start_time": "2022-11-04T19:38:56.229Z"
   },
   {
    "duration": 7,
    "start_time": "2022-11-04T19:38:58.601Z"
   },
   {
    "duration": 5,
    "start_time": "2022-11-04T19:39:00.573Z"
   },
   {
    "duration": 5,
    "start_time": "2022-11-04T19:39:02.899Z"
   },
   {
    "duration": 4,
    "start_time": "2022-11-04T19:39:05.159Z"
   },
   {
    "duration": 5,
    "start_time": "2022-11-04T19:39:06.940Z"
   },
   {
    "duration": 6,
    "start_time": "2022-11-04T19:39:10.333Z"
   },
   {
    "duration": 5,
    "start_time": "2022-11-04T19:39:13.096Z"
   },
   {
    "duration": 7,
    "start_time": "2022-11-04T19:40:03.483Z"
   },
   {
    "duration": 6,
    "start_time": "2022-11-04T19:40:41.556Z"
   },
   {
    "duration": 6,
    "start_time": "2022-11-04T19:40:44.057Z"
   },
   {
    "duration": 6,
    "start_time": "2022-11-04T19:40:47.506Z"
   },
   {
    "duration": 6,
    "start_time": "2022-11-04T19:40:50.296Z"
   },
   {
    "duration": 7,
    "start_time": "2022-11-04T19:40:57.693Z"
   },
   {
    "duration": 3,
    "start_time": "2022-11-04T19:41:01.626Z"
   },
   {
    "duration": 155,
    "start_time": "2022-11-04T19:41:03.163Z"
   },
   {
    "duration": 7,
    "start_time": "2022-11-04T19:41:05.245Z"
   },
   {
    "duration": 22,
    "start_time": "2022-11-04T19:41:09.995Z"
   },
   {
    "duration": 4,
    "start_time": "2022-11-04T19:41:13.837Z"
   },
   {
    "duration": 1233,
    "start_time": "2022-11-04T19:47:03.052Z"
   },
   {
    "duration": 287,
    "start_time": "2022-11-04T19:47:04.288Z"
   },
   {
    "duration": 117,
    "start_time": "2022-11-04T19:47:04.577Z"
   },
   {
    "duration": 17,
    "start_time": "2022-11-04T19:47:04.696Z"
   },
   {
    "duration": 23,
    "start_time": "2022-11-04T19:47:04.716Z"
   },
   {
    "duration": 2111,
    "start_time": "2022-11-04T19:47:04.741Z"
   },
   {
    "duration": 14,
    "start_time": "2022-11-04T19:47:06.855Z"
   },
   {
    "duration": 7,
    "start_time": "2022-11-04T19:47:06.871Z"
   },
   {
    "duration": 45,
    "start_time": "2022-11-04T19:47:06.880Z"
   },
   {
    "duration": 23,
    "start_time": "2022-11-04T19:47:06.927Z"
   },
   {
    "duration": 26,
    "start_time": "2022-11-04T19:47:06.952Z"
   },
   {
    "duration": 14,
    "start_time": "2022-11-04T19:47:06.980Z"
   },
   {
    "duration": 22,
    "start_time": "2022-11-04T19:47:06.997Z"
   },
   {
    "duration": 12,
    "start_time": "2022-11-04T19:47:07.025Z"
   },
   {
    "duration": 31,
    "start_time": "2022-11-04T19:47:07.040Z"
   },
   {
    "duration": 39,
    "start_time": "2022-11-04T19:47:07.073Z"
   },
   {
    "duration": 19,
    "start_time": "2022-11-04T19:47:07.113Z"
   },
   {
    "duration": 13,
    "start_time": "2022-11-04T19:47:07.134Z"
   },
   {
    "duration": 12,
    "start_time": "2022-11-04T19:47:07.148Z"
   },
   {
    "duration": 477,
    "start_time": "2022-11-04T19:47:07.162Z"
   },
   {
    "duration": 52,
    "start_time": "2022-11-04T19:47:07.641Z"
   },
   {
    "duration": 27,
    "start_time": "2022-11-04T19:47:07.695Z"
   },
   {
    "duration": 27,
    "start_time": "2022-11-04T19:47:07.739Z"
   },
   {
    "duration": 43,
    "start_time": "2022-11-04T19:47:07.768Z"
   },
   {
    "duration": 24,
    "start_time": "2022-11-04T19:47:07.813Z"
   },
   {
    "duration": 29,
    "start_time": "2022-11-04T19:47:07.840Z"
   },
   {
    "duration": 62,
    "start_time": "2022-11-04T19:47:07.872Z"
   },
   {
    "duration": 7,
    "start_time": "2022-11-04T19:47:07.936Z"
   },
   {
    "duration": 14,
    "start_time": "2022-11-04T19:47:07.945Z"
   },
   {
    "duration": 42,
    "start_time": "2022-11-04T19:47:07.961Z"
   },
   {
    "duration": 16,
    "start_time": "2022-11-04T19:47:08.006Z"
   },
   {
    "duration": 29,
    "start_time": "2022-11-04T19:47:08.024Z"
   },
   {
    "duration": 15,
    "start_time": "2022-11-04T19:47:08.055Z"
   },
   {
    "duration": 18,
    "start_time": "2022-11-04T19:47:08.072Z"
   },
   {
    "duration": 29,
    "start_time": "2022-11-04T19:47:08.092Z"
   },
   {
    "duration": 14,
    "start_time": "2022-11-04T19:47:08.123Z"
   },
   {
    "duration": 7,
    "start_time": "2022-11-04T19:47:08.139Z"
   },
   {
    "duration": 23,
    "start_time": "2022-11-04T19:47:08.149Z"
   },
   {
    "duration": 28,
    "start_time": "2022-11-04T19:47:08.173Z"
   },
   {
    "duration": 11,
    "start_time": "2022-11-04T19:47:08.203Z"
   },
   {
    "duration": 10,
    "start_time": "2022-11-04T19:47:08.220Z"
   },
   {
    "duration": 21,
    "start_time": "2022-11-04T19:47:08.231Z"
   },
   {
    "duration": 13,
    "start_time": "2022-11-04T19:47:08.253Z"
   },
   {
    "duration": 22,
    "start_time": "2022-11-04T19:47:08.268Z"
   },
   {
    "duration": 28,
    "start_time": "2022-11-04T19:47:08.293Z"
   },
   {
    "duration": 10,
    "start_time": "2022-11-04T19:47:08.323Z"
   },
   {
    "duration": 26,
    "start_time": "2022-11-04T19:47:08.335Z"
   },
   {
    "duration": 28,
    "start_time": "2022-11-04T19:47:08.363Z"
   },
   {
    "duration": 36,
    "start_time": "2022-11-04T19:47:08.392Z"
   },
   {
    "duration": 19,
    "start_time": "2022-11-04T19:47:08.430Z"
   },
   {
    "duration": 25,
    "start_time": "2022-11-04T19:47:08.451Z"
   },
   {
    "duration": 33,
    "start_time": "2022-11-04T19:47:08.479Z"
   },
   {
    "duration": 33,
    "start_time": "2022-11-04T19:47:08.514Z"
   },
   {
    "duration": 16,
    "start_time": "2022-11-04T19:47:08.548Z"
   },
   {
    "duration": 25,
    "start_time": "2022-11-04T19:47:08.565Z"
   },
   {
    "duration": 23,
    "start_time": "2022-11-04T19:47:08.592Z"
   },
   {
    "duration": 28,
    "start_time": "2022-11-04T19:47:08.616Z"
   },
   {
    "duration": 17,
    "start_time": "2022-11-04T19:47:08.645Z"
   },
   {
    "duration": 180,
    "start_time": "2022-11-04T19:47:08.663Z"
   },
   {
    "duration": 7,
    "start_time": "2022-11-04T19:47:08.844Z"
   },
   {
    "duration": 32,
    "start_time": "2022-11-04T19:47:08.852Z"
   },
   {
    "duration": 7,
    "start_time": "2022-11-04T19:47:08.886Z"
   },
   {
    "duration": 21,
    "start_time": "2022-11-04T19:47:08.895Z"
   },
   {
    "duration": 42,
    "start_time": "2022-11-04T19:47:08.918Z"
   },
   {
    "duration": 21,
    "start_time": "2022-11-04T19:47:08.962Z"
   },
   {
    "duration": 10,
    "start_time": "2022-11-04T19:47:08.985Z"
   },
   {
    "duration": 302,
    "start_time": "2022-11-04T19:47:08.997Z"
   },
   {
    "duration": 5,
    "start_time": "2022-11-04T19:47:09.301Z"
   },
   {
    "duration": 11,
    "start_time": "2022-11-04T19:47:09.307Z"
   },
   {
    "duration": 10,
    "start_time": "2022-11-04T19:47:09.319Z"
   },
   {
    "duration": 233,
    "start_time": "2022-11-04T19:47:09.339Z"
   },
   {
    "duration": 10,
    "start_time": "2022-11-04T19:47:09.574Z"
   },
   {
    "duration": 241,
    "start_time": "2022-11-04T19:47:09.586Z"
   },
   {
    "duration": 14,
    "start_time": "2022-11-04T19:47:09.829Z"
   },
   {
    "duration": 231,
    "start_time": "2022-11-04T19:47:09.844Z"
   },
   {
    "duration": 10,
    "start_time": "2022-11-04T19:47:10.077Z"
   },
   {
    "duration": 461,
    "start_time": "2022-11-04T19:47:10.089Z"
   },
   {
    "duration": 12,
    "start_time": "2022-11-04T19:47:10.552Z"
   },
   {
    "duration": 285,
    "start_time": "2022-11-04T19:47:10.565Z"
   },
   {
    "duration": 9,
    "start_time": "2022-11-04T19:47:10.852Z"
   },
   {
    "duration": 446,
    "start_time": "2022-11-04T19:47:10.863Z"
   },
   {
    "duration": 14,
    "start_time": "2022-11-04T19:47:11.312Z"
   },
   {
    "duration": 431,
    "start_time": "2022-11-04T19:47:11.339Z"
   },
   {
    "duration": 11,
    "start_time": "2022-11-04T19:47:11.772Z"
   },
   {
    "duration": 13,
    "start_time": "2022-11-04T19:47:11.785Z"
   },
   {
    "duration": 126,
    "start_time": "2022-11-04T19:47:11.800Z"
   },
   {
    "duration": 223,
    "start_time": "2022-11-04T19:47:11.928Z"
   },
   {
    "duration": 12,
    "start_time": "2022-11-04T19:47:12.153Z"
   },
   {
    "duration": 358,
    "start_time": "2022-11-04T19:47:12.167Z"
   },
   {
    "duration": 21,
    "start_time": "2022-11-04T19:47:12.528Z"
   },
   {
    "duration": 215,
    "start_time": "2022-11-04T19:47:12.551Z"
   },
   {
    "duration": 11,
    "start_time": "2022-11-04T19:47:12.768Z"
   },
   {
    "duration": 258,
    "start_time": "2022-11-04T19:47:12.781Z"
   },
   {
    "duration": 10,
    "start_time": "2022-11-04T19:47:13.040Z"
   },
   {
    "duration": 239,
    "start_time": "2022-11-04T19:47:13.051Z"
   },
   {
    "duration": 229,
    "start_time": "2022-11-04T19:47:13.292Z"
   },
   {
    "duration": 379,
    "start_time": "2022-11-04T19:47:13.522Z"
   },
   {
    "duration": 12,
    "start_time": "2022-11-04T19:47:13.903Z"
   },
   {
    "duration": 85,
    "start_time": "2022-11-04T19:47:13.917Z"
   },
   {
    "duration": 1256,
    "start_time": "2022-11-04T19:47:14.003Z"
   },
   {
    "duration": 1134,
    "start_time": "2022-11-04T19:47:15.261Z"
   },
   {
    "duration": 1255,
    "start_time": "2022-11-04T19:47:16.396Z"
   },
   {
    "duration": 1149,
    "start_time": "2022-11-04T19:47:17.652Z"
   },
   {
    "duration": 15,
    "start_time": "2022-11-04T19:47:18.802Z"
   },
   {
    "duration": 176,
    "start_time": "2022-11-04T19:47:18.818Z"
   },
   {
    "duration": 12,
    "start_time": "2022-11-04T19:47:18.995Z"
   },
   {
    "duration": 185,
    "start_time": "2022-11-04T19:47:19.009Z"
   },
   {
    "duration": 12,
    "start_time": "2022-11-04T19:47:19.196Z"
   },
   {
    "duration": 220,
    "start_time": "2022-11-04T19:47:19.209Z"
   },
   {
    "duration": 13,
    "start_time": "2022-11-04T19:47:19.437Z"
   },
   {
    "duration": 201,
    "start_time": "2022-11-04T19:47:19.452Z"
   },
   {
    "duration": 25,
    "start_time": "2022-11-04T19:47:19.655Z"
   },
   {
    "duration": 7,
    "start_time": "2022-11-04T19:47:19.681Z"
   },
   {
    "duration": 14,
    "start_time": "2022-11-04T19:47:19.689Z"
   },
   {
    "duration": 54,
    "start_time": "2022-11-04T19:47:19.706Z"
   },
   {
    "duration": 334,
    "start_time": "2022-11-04T19:47:19.761Z"
   },
   {
    "duration": 1189,
    "start_time": "2022-11-04T19:49:09.084Z"
   },
   {
    "duration": 87,
    "start_time": "2022-11-04T19:49:10.275Z"
   },
   {
    "duration": 119,
    "start_time": "2022-11-04T19:49:10.364Z"
   },
   {
    "duration": 15,
    "start_time": "2022-11-04T19:49:10.485Z"
   },
   {
    "duration": 4,
    "start_time": "2022-11-04T19:49:10.501Z"
   },
   {
    "duration": 2218,
    "start_time": "2022-11-04T19:49:10.506Z"
   },
   {
    "duration": 11,
    "start_time": "2022-11-04T19:49:12.725Z"
   },
   {
    "duration": 21,
    "start_time": "2022-11-04T19:49:12.737Z"
   },
   {
    "duration": 15,
    "start_time": "2022-11-04T19:49:12.759Z"
   },
   {
    "duration": 18,
    "start_time": "2022-11-04T19:49:12.777Z"
   },
   {
    "duration": 18,
    "start_time": "2022-11-04T19:49:12.797Z"
   },
   {
    "duration": 22,
    "start_time": "2022-11-04T19:49:12.817Z"
   },
   {
    "duration": 23,
    "start_time": "2022-11-04T19:49:12.841Z"
   },
   {
    "duration": 182,
    "start_time": "2022-11-04T19:49:12.866Z"
   },
   {
    "duration": 25,
    "start_time": "2022-11-04T19:49:13.049Z"
   },
   {
    "duration": 31,
    "start_time": "2022-11-04T19:49:13.075Z"
   },
   {
    "duration": 26,
    "start_time": "2022-11-04T19:49:13.108Z"
   },
   {
    "duration": 19,
    "start_time": "2022-11-04T19:49:13.136Z"
   },
   {
    "duration": 14,
    "start_time": "2022-11-04T19:49:13.157Z"
   },
   {
    "duration": 343,
    "start_time": "2022-11-04T19:49:13.172Z"
   },
   {
    "duration": 44,
    "start_time": "2022-11-04T19:49:13.516Z"
   },
   {
    "duration": 53,
    "start_time": "2022-11-04T19:49:13.561Z"
   },
   {
    "duration": 5,
    "start_time": "2022-11-04T19:49:13.615Z"
   },
   {
    "duration": 39,
    "start_time": "2022-11-04T19:49:13.621Z"
   },
   {
    "duration": 16,
    "start_time": "2022-11-04T19:49:13.662Z"
   },
   {
    "duration": 37,
    "start_time": "2022-11-04T19:49:13.679Z"
   },
   {
    "duration": 38,
    "start_time": "2022-11-04T19:49:13.718Z"
   },
   {
    "duration": 19,
    "start_time": "2022-11-04T19:49:13.761Z"
   },
   {
    "duration": 27,
    "start_time": "2022-11-04T19:49:13.782Z"
   },
   {
    "duration": 22,
    "start_time": "2022-11-04T19:49:13.811Z"
   },
   {
    "duration": 17,
    "start_time": "2022-11-04T19:49:13.835Z"
   },
   {
    "duration": 36,
    "start_time": "2022-11-04T19:49:13.854Z"
   },
   {
    "duration": 11,
    "start_time": "2022-11-04T19:49:13.891Z"
   },
   {
    "duration": 20,
    "start_time": "2022-11-04T19:49:13.903Z"
   },
   {
    "duration": 10,
    "start_time": "2022-11-04T19:49:13.924Z"
   },
   {
    "duration": 21,
    "start_time": "2022-11-04T19:49:13.935Z"
   },
   {
    "duration": 8,
    "start_time": "2022-11-04T19:49:13.958Z"
   },
   {
    "duration": 17,
    "start_time": "2022-11-04T19:49:13.968Z"
   },
   {
    "duration": 36,
    "start_time": "2022-11-04T19:49:13.987Z"
   },
   {
    "duration": 14,
    "start_time": "2022-11-04T19:49:14.025Z"
   },
   {
    "duration": 21,
    "start_time": "2022-11-04T19:49:14.041Z"
   },
   {
    "duration": 24,
    "start_time": "2022-11-04T19:49:14.064Z"
   },
   {
    "duration": 30,
    "start_time": "2022-11-04T19:49:14.090Z"
   },
   {
    "duration": 20,
    "start_time": "2022-11-04T19:49:14.122Z"
   },
   {
    "duration": 18,
    "start_time": "2022-11-04T19:49:14.144Z"
   },
   {
    "duration": 25,
    "start_time": "2022-11-04T19:49:14.163Z"
   },
   {
    "duration": 26,
    "start_time": "2022-11-04T19:49:14.190Z"
   },
   {
    "duration": 14,
    "start_time": "2022-11-04T19:49:14.218Z"
   },
   {
    "duration": 21,
    "start_time": "2022-11-04T19:49:14.234Z"
   },
   {
    "duration": 14,
    "start_time": "2022-11-04T19:49:14.257Z"
   },
   {
    "duration": 19,
    "start_time": "2022-11-04T19:49:14.273Z"
   },
   {
    "duration": 13,
    "start_time": "2022-11-04T19:49:14.293Z"
   },
   {
    "duration": 19,
    "start_time": "2022-11-04T19:49:14.308Z"
   },
   {
    "duration": 18,
    "start_time": "2022-11-04T19:49:14.329Z"
   },
   {
    "duration": 13,
    "start_time": "2022-11-04T19:49:14.349Z"
   },
   {
    "duration": 12,
    "start_time": "2022-11-04T19:49:14.364Z"
   },
   {
    "duration": 12,
    "start_time": "2022-11-04T19:49:14.377Z"
   },
   {
    "duration": 15,
    "start_time": "2022-11-04T19:49:14.390Z"
   },
   {
    "duration": 170,
    "start_time": "2022-11-04T19:49:14.407Z"
   },
   {
    "duration": 6,
    "start_time": "2022-11-04T19:49:14.579Z"
   },
   {
    "duration": 35,
    "start_time": "2022-11-04T19:49:14.587Z"
   },
   {
    "duration": 4,
    "start_time": "2022-11-04T19:49:14.624Z"
   },
   {
    "duration": 18,
    "start_time": "2022-11-04T19:49:14.629Z"
   },
   {
    "duration": 19,
    "start_time": "2022-11-04T19:49:14.649Z"
   },
   {
    "duration": 19,
    "start_time": "2022-11-04T19:49:14.670Z"
   },
   {
    "duration": 4,
    "start_time": "2022-11-04T19:49:14.691Z"
   },
   {
    "duration": 292,
    "start_time": "2022-11-04T19:49:14.697Z"
   },
   {
    "duration": 5,
    "start_time": "2022-11-04T19:49:14.990Z"
   },
   {
    "duration": 6,
    "start_time": "2022-11-04T19:49:14.997Z"
   },
   {
    "duration": 31,
    "start_time": "2022-11-04T19:49:15.004Z"
   },
   {
    "duration": 230,
    "start_time": "2022-11-04T19:49:15.037Z"
   },
   {
    "duration": 9,
    "start_time": "2022-11-04T19:49:15.268Z"
   },
   {
    "duration": 222,
    "start_time": "2022-11-04T19:49:15.278Z"
   },
   {
    "duration": 9,
    "start_time": "2022-11-04T19:49:15.501Z"
   },
   {
    "duration": 219,
    "start_time": "2022-11-04T19:49:15.512Z"
   },
   {
    "duration": 11,
    "start_time": "2022-11-04T19:49:15.738Z"
   },
   {
    "duration": 443,
    "start_time": "2022-11-04T19:49:15.751Z"
   },
   {
    "duration": 11,
    "start_time": "2022-11-04T19:49:16.196Z"
   },
   {
    "duration": 231,
    "start_time": "2022-11-04T19:49:16.209Z"
   },
   {
    "duration": 11,
    "start_time": "2022-11-04T19:49:16.442Z"
   },
   {
    "duration": 362,
    "start_time": "2022-11-04T19:49:16.455Z"
   },
   {
    "duration": 18,
    "start_time": "2022-11-04T19:49:16.823Z"
   },
   {
    "duration": 389,
    "start_time": "2022-11-04T19:49:16.844Z"
   },
   {
    "duration": 12,
    "start_time": "2022-11-04T19:49:17.235Z"
   },
   {
    "duration": 31,
    "start_time": "2022-11-04T19:49:17.249Z"
   },
   {
    "duration": 217,
    "start_time": "2022-11-04T19:49:17.283Z"
   },
   {
    "duration": 224,
    "start_time": "2022-11-04T19:49:17.502Z"
   },
   {
    "duration": 11,
    "start_time": "2022-11-04T19:49:17.728Z"
   },
   {
    "duration": 315,
    "start_time": "2022-11-04T19:49:17.740Z"
   },
   {
    "duration": 9,
    "start_time": "2022-11-04T19:49:18.057Z"
   },
   {
    "duration": 212,
    "start_time": "2022-11-04T19:49:18.067Z"
   },
   {
    "duration": 11,
    "start_time": "2022-11-04T19:49:18.281Z"
   },
   {
    "duration": 258,
    "start_time": "2022-11-04T19:49:18.294Z"
   },
   {
    "duration": 12,
    "start_time": "2022-11-04T19:49:18.554Z"
   },
   {
    "duration": 236,
    "start_time": "2022-11-04T19:49:18.567Z"
   },
   {
    "duration": 214,
    "start_time": "2022-11-04T19:49:18.805Z"
   },
   {
    "duration": 391,
    "start_time": "2022-11-04T19:49:19.021Z"
   },
   {
    "duration": 10,
    "start_time": "2022-11-04T19:49:19.414Z"
   },
   {
    "duration": 56,
    "start_time": "2022-11-04T19:49:19.439Z"
   },
   {
    "duration": 1254,
    "start_time": "2022-11-04T19:49:19.497Z"
   },
   {
    "duration": 1138,
    "start_time": "2022-11-04T19:49:20.753Z"
   },
   {
    "duration": 1146,
    "start_time": "2022-11-04T19:49:21.893Z"
   },
   {
    "duration": 1162,
    "start_time": "2022-11-04T19:49:23.040Z"
   },
   {
    "duration": 15,
    "start_time": "2022-11-04T19:49:24.203Z"
   },
   {
    "duration": 206,
    "start_time": "2022-11-04T19:49:24.221Z"
   },
   {
    "duration": 13,
    "start_time": "2022-11-04T19:49:24.429Z"
   },
   {
    "duration": 191,
    "start_time": "2022-11-04T19:49:24.444Z"
   },
   {
    "duration": 14,
    "start_time": "2022-11-04T19:49:24.637Z"
   },
   {
    "duration": 212,
    "start_time": "2022-11-04T19:49:24.653Z"
   },
   {
    "duration": 13,
    "start_time": "2022-11-04T19:49:24.867Z"
   },
   {
    "duration": 184,
    "start_time": "2022-11-04T19:49:24.881Z"
   },
   {
    "duration": 22,
    "start_time": "2022-11-04T19:49:25.066Z"
   },
   {
    "duration": 5,
    "start_time": "2022-11-04T19:49:25.090Z"
   },
   {
    "duration": 7,
    "start_time": "2022-11-04T19:49:25.097Z"
   },
   {
    "duration": 46,
    "start_time": "2022-11-04T19:49:25.105Z"
   },
   {
    "duration": 333,
    "start_time": "2022-11-04T19:49:25.153Z"
   },
   {
    "duration": 1213,
    "start_time": "2022-11-04T19:57:18.948Z"
   },
   {
    "duration": 90,
    "start_time": "2022-11-04T19:57:20.163Z"
   },
   {
    "duration": 118,
    "start_time": "2022-11-04T19:57:20.255Z"
   },
   {
    "duration": 15,
    "start_time": "2022-11-04T19:57:20.376Z"
   },
   {
    "duration": 3,
    "start_time": "2022-11-04T19:57:20.393Z"
   },
   {
    "duration": 2090,
    "start_time": "2022-11-04T19:57:20.398Z"
   },
   {
    "duration": 9,
    "start_time": "2022-11-04T19:57:22.489Z"
   },
   {
    "duration": 6,
    "start_time": "2022-11-04T19:57:22.499Z"
   },
   {
    "duration": 10,
    "start_time": "2022-11-04T19:57:22.506Z"
   },
   {
    "duration": 7,
    "start_time": "2022-11-04T19:57:22.520Z"
   },
   {
    "duration": 5,
    "start_time": "2022-11-04T19:57:22.528Z"
   },
   {
    "duration": 5,
    "start_time": "2022-11-04T19:57:22.538Z"
   },
   {
    "duration": 16,
    "start_time": "2022-11-04T19:57:22.545Z"
   },
   {
    "duration": 11,
    "start_time": "2022-11-04T19:57:22.563Z"
   },
   {
    "duration": 16,
    "start_time": "2022-11-04T19:57:22.575Z"
   },
   {
    "duration": 10,
    "start_time": "2022-11-04T19:57:22.592Z"
   },
   {
    "duration": 9,
    "start_time": "2022-11-04T19:57:22.603Z"
   },
   {
    "duration": 6,
    "start_time": "2022-11-04T19:57:22.613Z"
   },
   {
    "duration": 21,
    "start_time": "2022-11-04T19:57:22.621Z"
   },
   {
    "duration": 322,
    "start_time": "2022-11-04T19:57:22.643Z"
   },
   {
    "duration": 36,
    "start_time": "2022-11-04T19:57:22.967Z"
   },
   {
    "duration": 34,
    "start_time": "2022-11-04T19:57:23.004Z"
   },
   {
    "duration": 4,
    "start_time": "2022-11-04T19:57:23.040Z"
   },
   {
    "duration": 18,
    "start_time": "2022-11-04T19:57:23.045Z"
   },
   {
    "duration": 7,
    "start_time": "2022-11-04T19:57:23.065Z"
   },
   {
    "duration": 14,
    "start_time": "2022-11-04T19:57:23.073Z"
   },
   {
    "duration": 24,
    "start_time": "2022-11-04T19:57:23.089Z"
   },
   {
    "duration": 7,
    "start_time": "2022-11-04T19:57:23.117Z"
   },
   {
    "duration": 18,
    "start_time": "2022-11-04T19:57:23.125Z"
   },
   {
    "duration": 8,
    "start_time": "2022-11-04T19:57:23.145Z"
   },
   {
    "duration": 7,
    "start_time": "2022-11-04T19:57:23.155Z"
   },
   {
    "duration": 11,
    "start_time": "2022-11-04T19:57:23.163Z"
   },
   {
    "duration": 12,
    "start_time": "2022-11-04T19:57:23.175Z"
   },
   {
    "duration": 11,
    "start_time": "2022-11-04T19:57:23.189Z"
   },
   {
    "duration": 8,
    "start_time": "2022-11-04T19:57:23.201Z"
   },
   {
    "duration": 27,
    "start_time": "2022-11-04T19:57:23.211Z"
   },
   {
    "duration": 4,
    "start_time": "2022-11-04T19:57:23.240Z"
   },
   {
    "duration": 4,
    "start_time": "2022-11-04T19:57:23.246Z"
   },
   {
    "duration": 15,
    "start_time": "2022-11-04T19:57:23.252Z"
   },
   {
    "duration": 4,
    "start_time": "2022-11-04T19:57:23.268Z"
   },
   {
    "duration": 9,
    "start_time": "2022-11-04T19:57:23.273Z"
   },
   {
    "duration": 9,
    "start_time": "2022-11-04T19:57:23.283Z"
   },
   {
    "duration": 7,
    "start_time": "2022-11-04T19:57:23.294Z"
   },
   {
    "duration": 6,
    "start_time": "2022-11-04T19:57:23.303Z"
   },
   {
    "duration": 30,
    "start_time": "2022-11-04T19:57:23.311Z"
   },
   {
    "duration": 4,
    "start_time": "2022-11-04T19:57:23.342Z"
   },
   {
    "duration": 6,
    "start_time": "2022-11-04T19:57:23.347Z"
   },
   {
    "duration": 13,
    "start_time": "2022-11-04T19:57:23.354Z"
   },
   {
    "duration": 5,
    "start_time": "2022-11-04T19:57:23.369Z"
   },
   {
    "duration": 8,
    "start_time": "2022-11-04T19:57:23.376Z"
   },
   {
    "duration": 6,
    "start_time": "2022-11-04T19:57:23.386Z"
   },
   {
    "duration": 14,
    "start_time": "2022-11-04T19:57:23.394Z"
   },
   {
    "duration": 9,
    "start_time": "2022-11-04T19:57:23.409Z"
   },
   {
    "duration": 21,
    "start_time": "2022-11-04T19:57:23.419Z"
   },
   {
    "duration": 15,
    "start_time": "2022-11-04T19:57:23.441Z"
   },
   {
    "duration": 10,
    "start_time": "2022-11-04T19:57:23.457Z"
   },
   {
    "duration": 10,
    "start_time": "2022-11-04T19:57:23.468Z"
   },
   {
    "duration": 4,
    "start_time": "2022-11-04T19:57:23.480Z"
   },
   {
    "duration": 154,
    "start_time": "2022-11-04T19:57:23.485Z"
   },
   {
    "duration": 7,
    "start_time": "2022-11-04T19:57:23.641Z"
   },
   {
    "duration": 27,
    "start_time": "2022-11-04T19:57:23.650Z"
   },
   {
    "duration": 5,
    "start_time": "2022-11-04T19:57:23.679Z"
   },
   {
    "duration": 8,
    "start_time": "2022-11-04T19:57:23.686Z"
   },
   {
    "duration": 20,
    "start_time": "2022-11-04T19:57:23.695Z"
   },
   {
    "duration": 33,
    "start_time": "2022-11-04T19:57:23.717Z"
   },
   {
    "duration": 5,
    "start_time": "2022-11-04T19:57:23.752Z"
   },
   {
    "duration": 282,
    "start_time": "2022-11-04T19:57:23.758Z"
   },
   {
    "duration": 6,
    "start_time": "2022-11-04T19:57:24.041Z"
   },
   {
    "duration": 24,
    "start_time": "2022-11-04T19:57:24.048Z"
   },
   {
    "duration": 11,
    "start_time": "2022-11-04T19:57:24.073Z"
   },
   {
    "duration": 204,
    "start_time": "2022-11-04T19:57:24.086Z"
   },
   {
    "duration": 9,
    "start_time": "2022-11-04T19:57:24.291Z"
   },
   {
    "duration": 217,
    "start_time": "2022-11-04T19:57:24.301Z"
   },
   {
    "duration": 20,
    "start_time": "2022-11-04T19:57:24.519Z"
   },
   {
    "duration": 223,
    "start_time": "2022-11-04T19:57:24.541Z"
   },
   {
    "duration": 9,
    "start_time": "2022-11-04T19:57:24.765Z"
   },
   {
    "duration": 434,
    "start_time": "2022-11-04T19:57:24.775Z"
   },
   {
    "duration": 10,
    "start_time": "2022-11-04T19:57:25.210Z"
   },
   {
    "duration": 235,
    "start_time": "2022-11-04T19:57:25.221Z"
   },
   {
    "duration": 8,
    "start_time": "2022-11-04T19:57:25.457Z"
   },
   {
    "duration": 374,
    "start_time": "2022-11-04T19:57:25.467Z"
   },
   {
    "duration": 9,
    "start_time": "2022-11-04T19:57:25.846Z"
   },
   {
    "duration": 359,
    "start_time": "2022-11-04T19:57:25.856Z"
   },
   {
    "duration": 8,
    "start_time": "2022-11-04T19:57:26.217Z"
   },
   {
    "duration": 7,
    "start_time": "2022-11-04T19:57:26.238Z"
   },
   {
    "duration": 116,
    "start_time": "2022-11-04T19:57:26.247Z"
   },
   {
    "duration": 229,
    "start_time": "2022-11-04T19:57:26.365Z"
   },
   {
    "duration": 9,
    "start_time": "2022-11-04T19:57:26.596Z"
   },
   {
    "duration": 333,
    "start_time": "2022-11-04T19:57:26.606Z"
   },
   {
    "duration": 8,
    "start_time": "2022-11-04T19:57:26.941Z"
   },
   {
    "duration": 238,
    "start_time": "2022-11-04T19:57:26.951Z"
   },
   {
    "duration": 9,
    "start_time": "2022-11-04T19:57:27.190Z"
   },
   {
    "duration": 309,
    "start_time": "2022-11-04T19:57:27.201Z"
   },
   {
    "duration": 11,
    "start_time": "2022-11-04T19:57:27.512Z"
   },
   {
    "duration": 242,
    "start_time": "2022-11-04T19:57:27.525Z"
   },
   {
    "duration": 210,
    "start_time": "2022-11-04T19:57:27.769Z"
   },
   {
    "duration": 394,
    "start_time": "2022-11-04T19:57:27.980Z"
   },
   {
    "duration": 10,
    "start_time": "2022-11-04T19:57:28.375Z"
   },
   {
    "duration": 71,
    "start_time": "2022-11-04T19:57:28.387Z"
   },
   {
    "duration": 1246,
    "start_time": "2022-11-04T19:57:28.460Z"
   },
   {
    "duration": 1225,
    "start_time": "2022-11-04T19:57:29.707Z"
   },
   {
    "duration": 1147,
    "start_time": "2022-11-04T19:57:30.934Z"
   },
   {
    "duration": 1104,
    "start_time": "2022-11-04T19:57:32.082Z"
   },
   {
    "duration": 13,
    "start_time": "2022-11-04T19:57:33.187Z"
   },
   {
    "duration": 162,
    "start_time": "2022-11-04T19:57:33.201Z"
   },
   {
    "duration": 12,
    "start_time": "2022-11-04T19:57:33.365Z"
   },
   {
    "duration": 168,
    "start_time": "2022-11-04T19:57:33.378Z"
   },
   {
    "duration": 12,
    "start_time": "2022-11-04T19:57:33.547Z"
   },
   {
    "duration": 202,
    "start_time": "2022-11-04T19:57:33.560Z"
   },
   {
    "duration": 11,
    "start_time": "2022-11-04T19:57:33.764Z"
   },
   {
    "duration": 179,
    "start_time": "2022-11-04T19:57:33.777Z"
   },
   {
    "duration": 19,
    "start_time": "2022-11-04T19:57:33.958Z"
   },
   {
    "duration": 5,
    "start_time": "2022-11-04T19:57:33.979Z"
   },
   {
    "duration": 10,
    "start_time": "2022-11-04T19:57:33.986Z"
   },
   {
    "duration": 28,
    "start_time": "2022-11-04T19:57:33.997Z"
   },
   {
    "duration": 323,
    "start_time": "2022-11-04T19:57:34.039Z"
   },
   {
    "duration": 1257,
    "start_time": "2022-11-04T19:58:49.727Z"
   },
   {
    "duration": 87,
    "start_time": "2022-11-04T19:58:50.986Z"
   },
   {
    "duration": 117,
    "start_time": "2022-11-04T19:58:51.075Z"
   },
   {
    "duration": 14,
    "start_time": "2022-11-04T19:58:51.194Z"
   },
   {
    "duration": 4,
    "start_time": "2022-11-04T19:58:51.209Z"
   },
   {
    "duration": 1876,
    "start_time": "2022-11-04T19:58:51.215Z"
   },
   {
    "duration": 11,
    "start_time": "2022-11-04T19:58:53.094Z"
   },
   {
    "duration": 6,
    "start_time": "2022-11-04T19:58:53.107Z"
   },
   {
    "duration": 7,
    "start_time": "2022-11-04T19:58:53.115Z"
   },
   {
    "duration": 9,
    "start_time": "2022-11-04T19:58:53.126Z"
   },
   {
    "duration": 5,
    "start_time": "2022-11-04T19:58:53.138Z"
   },
   {
    "duration": 6,
    "start_time": "2022-11-04T19:58:53.144Z"
   },
   {
    "duration": 6,
    "start_time": "2022-11-04T19:58:53.152Z"
   },
   {
    "duration": 7,
    "start_time": "2022-11-04T19:58:53.160Z"
   },
   {
    "duration": 12,
    "start_time": "2022-11-04T19:58:53.169Z"
   },
   {
    "duration": 11,
    "start_time": "2022-11-04T19:58:53.183Z"
   },
   {
    "duration": 45,
    "start_time": "2022-11-04T19:58:53.196Z"
   },
   {
    "duration": 7,
    "start_time": "2022-11-04T19:58:53.243Z"
   },
   {
    "duration": 5,
    "start_time": "2022-11-04T19:58:53.252Z"
   },
   {
    "duration": 343,
    "start_time": "2022-11-04T19:58:53.259Z"
   },
   {
    "duration": 45,
    "start_time": "2022-11-04T19:58:53.604Z"
   },
   {
    "duration": 19,
    "start_time": "2022-11-04T19:58:53.651Z"
   },
   {
    "duration": 4,
    "start_time": "2022-11-04T19:58:53.672Z"
   },
   {
    "duration": 14,
    "start_time": "2022-11-04T19:58:53.678Z"
   },
   {
    "duration": 8,
    "start_time": "2022-11-04T19:58:53.694Z"
   },
   {
    "duration": 36,
    "start_time": "2022-11-04T19:58:53.703Z"
   },
   {
    "duration": 23,
    "start_time": "2022-11-04T19:58:53.740Z"
   },
   {
    "duration": 7,
    "start_time": "2022-11-04T19:58:53.767Z"
   },
   {
    "duration": 11,
    "start_time": "2022-11-04T19:58:53.776Z"
   },
   {
    "duration": 8,
    "start_time": "2022-11-04T19:58:53.789Z"
   },
   {
    "duration": 8,
    "start_time": "2022-11-04T19:58:53.799Z"
   },
   {
    "duration": 6,
    "start_time": "2022-11-04T19:58:53.839Z"
   },
   {
    "duration": 6,
    "start_time": "2022-11-04T19:58:53.847Z"
   },
   {
    "duration": 7,
    "start_time": "2022-11-04T19:58:53.855Z"
   },
   {
    "duration": 3,
    "start_time": "2022-11-04T19:58:53.864Z"
   },
   {
    "duration": 13,
    "start_time": "2022-11-04T19:58:53.869Z"
   },
   {
    "duration": 4,
    "start_time": "2022-11-04T19:58:53.884Z"
   },
   {
    "duration": 7,
    "start_time": "2022-11-04T19:58:53.890Z"
   },
   {
    "duration": 49,
    "start_time": "2022-11-04T19:58:53.898Z"
   },
   {
    "duration": 4,
    "start_time": "2022-11-04T19:58:53.949Z"
   },
   {
    "duration": 10,
    "start_time": "2022-11-04T19:58:53.955Z"
   },
   {
    "duration": 5,
    "start_time": "2022-11-04T19:58:53.966Z"
   },
   {
    "duration": 6,
    "start_time": "2022-11-04T19:58:53.972Z"
   },
   {
    "duration": 6,
    "start_time": "2022-11-04T19:58:53.979Z"
   },
   {
    "duration": 4,
    "start_time": "2022-11-04T19:58:53.987Z"
   },
   {
    "duration": 5,
    "start_time": "2022-11-04T19:58:53.993Z"
   },
   {
    "duration": 41,
    "start_time": "2022-11-04T19:58:54.000Z"
   },
   {
    "duration": 9,
    "start_time": "2022-11-04T19:58:54.043Z"
   },
   {
    "duration": 6,
    "start_time": "2022-11-04T19:58:54.053Z"
   },
   {
    "duration": 6,
    "start_time": "2022-11-04T19:58:54.061Z"
   },
   {
    "duration": 5,
    "start_time": "2022-11-04T19:58:54.069Z"
   },
   {
    "duration": 18,
    "start_time": "2022-11-04T19:58:54.075Z"
   },
   {
    "duration": 6,
    "start_time": "2022-11-04T19:58:54.096Z"
   },
   {
    "duration": 8,
    "start_time": "2022-11-04T19:58:54.104Z"
   },
   {
    "duration": 9,
    "start_time": "2022-11-04T19:58:54.139Z"
   },
   {
    "duration": 18,
    "start_time": "2022-11-04T19:58:54.150Z"
   },
   {
    "duration": 7,
    "start_time": "2022-11-04T19:58:54.170Z"
   },
   {
    "duration": 8,
    "start_time": "2022-11-04T19:58:54.179Z"
   },
   {
    "duration": 158,
    "start_time": "2022-11-04T19:58:54.189Z"
   },
   {
    "duration": 6,
    "start_time": "2022-11-04T19:58:54.349Z"
   },
   {
    "duration": 30,
    "start_time": "2022-11-04T19:58:54.357Z"
   },
   {
    "duration": 5,
    "start_time": "2022-11-04T19:58:54.388Z"
   },
   {
    "duration": 6,
    "start_time": "2022-11-04T19:58:54.394Z"
   },
   {
    "duration": 37,
    "start_time": "2022-11-04T19:58:54.402Z"
   },
   {
    "duration": 14,
    "start_time": "2022-11-04T19:58:54.441Z"
   },
   {
    "duration": 7,
    "start_time": "2022-11-04T19:58:54.456Z"
   },
   {
    "duration": 300,
    "start_time": "2022-11-04T19:58:54.464Z"
   },
   {
    "duration": 5,
    "start_time": "2022-11-04T19:58:54.766Z"
   },
   {
    "duration": 6,
    "start_time": "2022-11-04T19:58:54.772Z"
   },
   {
    "duration": 7,
    "start_time": "2022-11-04T19:58:54.779Z"
   },
   {
    "duration": 221,
    "start_time": "2022-11-04T19:58:54.787Z"
   },
   {
    "duration": 9,
    "start_time": "2022-11-04T19:58:55.010Z"
   },
   {
    "duration": 219,
    "start_time": "2022-11-04T19:58:55.020Z"
   },
   {
    "duration": 9,
    "start_time": "2022-11-04T19:58:55.240Z"
   },
   {
    "duration": 200,
    "start_time": "2022-11-04T19:58:55.251Z"
   },
   {
    "duration": 8,
    "start_time": "2022-11-04T19:58:55.453Z"
   },
   {
    "duration": 413,
    "start_time": "2022-11-04T19:58:55.463Z"
   },
   {
    "duration": 9,
    "start_time": "2022-11-04T19:58:55.877Z"
   },
   {
    "duration": 230,
    "start_time": "2022-11-04T19:58:55.888Z"
   },
   {
    "duration": 9,
    "start_time": "2022-11-04T19:58:56.119Z"
   },
   {
    "duration": 351,
    "start_time": "2022-11-04T19:58:56.129Z"
   },
   {
    "duration": 9,
    "start_time": "2022-11-04T19:58:56.485Z"
   },
   {
    "duration": 356,
    "start_time": "2022-11-04T19:58:56.495Z"
   },
   {
    "duration": 10,
    "start_time": "2022-11-04T19:58:56.853Z"
   },
   {
    "duration": 8,
    "start_time": "2022-11-04T19:58:56.864Z"
   },
   {
    "duration": 131,
    "start_time": "2022-11-04T19:58:56.873Z"
   },
   {
    "duration": 270,
    "start_time": "2022-11-04T19:58:57.006Z"
   },
   {
    "duration": 11,
    "start_time": "2022-11-04T19:58:57.279Z"
   },
   {
    "duration": 347,
    "start_time": "2022-11-04T19:58:57.292Z"
   },
   {
    "duration": 10,
    "start_time": "2022-11-04T19:58:57.640Z"
   },
   {
    "duration": 215,
    "start_time": "2022-11-04T19:58:57.652Z"
   },
   {
    "duration": 9,
    "start_time": "2022-11-04T19:58:57.869Z"
   },
   {
    "duration": 225,
    "start_time": "2022-11-04T19:58:57.880Z"
   },
   {
    "duration": 9,
    "start_time": "2022-11-04T19:58:58.107Z"
   },
   {
    "duration": 247,
    "start_time": "2022-11-04T19:58:58.118Z"
   },
   {
    "duration": 223,
    "start_time": "2022-11-04T19:58:58.366Z"
   },
   {
    "duration": 381,
    "start_time": "2022-11-04T19:58:58.591Z"
   },
   {
    "duration": 10,
    "start_time": "2022-11-04T19:58:58.973Z"
   },
   {
    "duration": 68,
    "start_time": "2022-11-04T19:58:58.984Z"
   },
   {
    "duration": 1255,
    "start_time": "2022-11-04T19:58:59.054Z"
   },
   {
    "duration": 1153,
    "start_time": "2022-11-04T19:59:00.311Z"
   },
   {
    "duration": 1115,
    "start_time": "2022-11-04T19:59:01.466Z"
   },
   {
    "duration": 1075,
    "start_time": "2022-11-04T19:59:02.582Z"
   },
   {
    "duration": 14,
    "start_time": "2022-11-04T19:59:03.659Z"
   },
   {
    "duration": 166,
    "start_time": "2022-11-04T19:59:03.674Z"
   },
   {
    "duration": 12,
    "start_time": "2022-11-04T19:59:03.842Z"
   },
   {
    "duration": 167,
    "start_time": "2022-11-04T19:59:03.856Z"
   },
   {
    "duration": 19,
    "start_time": "2022-11-04T19:59:04.025Z"
   },
   {
    "duration": 193,
    "start_time": "2022-11-04T19:59:04.046Z"
   },
   {
    "duration": 11,
    "start_time": "2022-11-04T19:59:04.240Z"
   },
   {
    "duration": 178,
    "start_time": "2022-11-04T19:59:04.253Z"
   },
   {
    "duration": 24,
    "start_time": "2022-11-04T19:59:04.439Z"
   },
   {
    "duration": 6,
    "start_time": "2022-11-04T19:59:04.465Z"
   },
   {
    "duration": 9,
    "start_time": "2022-11-04T19:59:04.473Z"
   },
   {
    "duration": 26,
    "start_time": "2022-11-04T19:59:04.483Z"
   },
   {
    "duration": 374,
    "start_time": "2022-11-04T19:59:04.511Z"
   },
   {
    "duration": 1214,
    "start_time": "2022-11-04T20:03:05.973Z"
   },
   {
    "duration": 98,
    "start_time": "2022-11-04T20:03:07.190Z"
   },
   {
    "duration": 144,
    "start_time": "2022-11-04T20:03:07.290Z"
   },
   {
    "duration": 14,
    "start_time": "2022-11-04T20:03:07.438Z"
   },
   {
    "duration": 9,
    "start_time": "2022-11-04T20:03:07.454Z"
   },
   {
    "duration": 1950,
    "start_time": "2022-11-04T20:03:07.465Z"
   },
   {
    "duration": 10,
    "start_time": "2022-11-04T20:03:09.417Z"
   },
   {
    "duration": 5,
    "start_time": "2022-11-04T20:03:09.428Z"
   },
   {
    "duration": 6,
    "start_time": "2022-11-04T20:03:09.435Z"
   },
   {
    "duration": 6,
    "start_time": "2022-11-04T20:03:09.444Z"
   },
   {
    "duration": 6,
    "start_time": "2022-11-04T20:03:09.452Z"
   },
   {
    "duration": 3,
    "start_time": "2022-11-04T20:03:09.460Z"
   },
   {
    "duration": 6,
    "start_time": "2022-11-04T20:03:09.465Z"
   },
   {
    "duration": 7,
    "start_time": "2022-11-04T20:03:09.472Z"
   },
   {
    "duration": 11,
    "start_time": "2022-11-04T20:03:09.481Z"
   },
   {
    "duration": 10,
    "start_time": "2022-11-04T20:03:09.493Z"
   },
   {
    "duration": 43,
    "start_time": "2022-11-04T20:03:09.504Z"
   },
   {
    "duration": 6,
    "start_time": "2022-11-04T20:03:09.548Z"
   },
   {
    "duration": 5,
    "start_time": "2022-11-04T20:03:09.556Z"
   },
   {
    "duration": 344,
    "start_time": "2022-11-04T20:03:09.563Z"
   },
   {
    "duration": 45,
    "start_time": "2022-11-04T20:03:09.909Z"
   },
   {
    "duration": 21,
    "start_time": "2022-11-04T20:03:09.955Z"
   },
   {
    "duration": 4,
    "start_time": "2022-11-04T20:03:09.977Z"
   },
   {
    "duration": 11,
    "start_time": "2022-11-04T20:03:09.982Z"
   },
   {
    "duration": 7,
    "start_time": "2022-11-04T20:03:09.995Z"
   },
   {
    "duration": 5,
    "start_time": "2022-11-04T20:03:10.003Z"
   },
   {
    "duration": 23,
    "start_time": "2022-11-04T20:03:10.038Z"
   },
   {
    "duration": 6,
    "start_time": "2022-11-04T20:03:10.065Z"
   },
   {
    "duration": 7,
    "start_time": "2022-11-04T20:03:10.073Z"
   },
   {
    "duration": 6,
    "start_time": "2022-11-04T20:03:10.081Z"
   },
   {
    "duration": 6,
    "start_time": "2022-11-04T20:03:10.088Z"
   },
   {
    "duration": 6,
    "start_time": "2022-11-04T20:03:10.096Z"
   },
   {
    "duration": 37,
    "start_time": "2022-11-04T20:03:10.103Z"
   },
   {
    "duration": 6,
    "start_time": "2022-11-04T20:03:10.141Z"
   },
   {
    "duration": 8,
    "start_time": "2022-11-04T20:03:10.148Z"
   },
   {
    "duration": 12,
    "start_time": "2022-11-04T20:03:10.157Z"
   },
   {
    "duration": 4,
    "start_time": "2022-11-04T20:03:10.171Z"
   },
   {
    "duration": 8,
    "start_time": "2022-11-04T20:03:10.176Z"
   },
   {
    "duration": 16,
    "start_time": "2022-11-04T20:03:10.185Z"
   },
   {
    "duration": 3,
    "start_time": "2022-11-04T20:03:10.203Z"
   },
   {
    "duration": 7,
    "start_time": "2022-11-04T20:03:10.208Z"
   },
   {
    "duration": 4,
    "start_time": "2022-11-04T20:03:10.239Z"
   },
   {
    "duration": 8,
    "start_time": "2022-11-04T20:03:10.244Z"
   },
   {
    "duration": 6,
    "start_time": "2022-11-04T20:03:10.253Z"
   },
   {
    "duration": 4,
    "start_time": "2022-11-04T20:03:10.261Z"
   },
   {
    "duration": 8,
    "start_time": "2022-11-04T20:03:10.266Z"
   },
   {
    "duration": 8,
    "start_time": "2022-11-04T20:03:10.275Z"
   },
   {
    "duration": 16,
    "start_time": "2022-11-04T20:03:10.284Z"
   },
   {
    "duration": 21,
    "start_time": "2022-11-04T20:03:10.302Z"
   },
   {
    "duration": 16,
    "start_time": "2022-11-04T20:03:10.326Z"
   },
   {
    "duration": 9,
    "start_time": "2022-11-04T20:03:10.344Z"
   },
   {
    "duration": 13,
    "start_time": "2022-11-04T20:03:10.354Z"
   },
   {
    "duration": 14,
    "start_time": "2022-11-04T20:03:10.369Z"
   },
   {
    "duration": 9,
    "start_time": "2022-11-04T20:03:10.384Z"
   },
   {
    "duration": 17,
    "start_time": "2022-11-04T20:03:10.395Z"
   },
   {
    "duration": 15,
    "start_time": "2022-11-04T20:03:10.414Z"
   },
   {
    "duration": 17,
    "start_time": "2022-11-04T20:03:10.431Z"
   },
   {
    "duration": 12,
    "start_time": "2022-11-04T20:03:10.449Z"
   },
   {
    "duration": 143,
    "start_time": "2022-11-04T20:03:10.463Z"
   },
   {
    "duration": 6,
    "start_time": "2022-11-04T20:03:10.608Z"
   },
   {
    "duration": 54,
    "start_time": "2022-11-04T20:03:10.615Z"
   },
   {
    "duration": 10,
    "start_time": "2022-11-04T20:03:10.671Z"
   },
   {
    "duration": 18,
    "start_time": "2022-11-04T20:03:10.683Z"
   },
   {
    "duration": 21,
    "start_time": "2022-11-04T20:03:10.703Z"
   },
   {
    "duration": 20,
    "start_time": "2022-11-04T20:03:10.726Z"
   },
   {
    "duration": 4,
    "start_time": "2022-11-04T20:03:10.748Z"
   },
   {
    "duration": 281,
    "start_time": "2022-11-04T20:03:10.755Z"
   },
   {
    "duration": 5,
    "start_time": "2022-11-04T20:03:11.039Z"
   },
   {
    "duration": 7,
    "start_time": "2022-11-04T20:03:11.046Z"
   },
   {
    "duration": 9,
    "start_time": "2022-11-04T20:03:11.054Z"
   },
   {
    "duration": 229,
    "start_time": "2022-11-04T20:03:11.065Z"
   },
   {
    "duration": 8,
    "start_time": "2022-11-04T20:03:11.296Z"
   },
   {
    "duration": 231,
    "start_time": "2022-11-04T20:03:11.305Z"
   },
   {
    "duration": 9,
    "start_time": "2022-11-04T20:03:11.538Z"
   },
   {
    "duration": 235,
    "start_time": "2022-11-04T20:03:11.549Z"
   },
   {
    "duration": 9,
    "start_time": "2022-11-04T20:03:11.786Z"
   },
   {
    "duration": 441,
    "start_time": "2022-11-04T20:03:11.797Z"
   },
   {
    "duration": 10,
    "start_time": "2022-11-04T20:03:12.240Z"
   },
   {
    "duration": 237,
    "start_time": "2022-11-04T20:03:12.252Z"
   },
   {
    "duration": 8,
    "start_time": "2022-11-04T20:03:12.491Z"
   },
   {
    "duration": 364,
    "start_time": "2022-11-04T20:03:12.501Z"
   },
   {
    "duration": 9,
    "start_time": "2022-11-04T20:03:12.870Z"
   },
   {
    "duration": 358,
    "start_time": "2022-11-04T20:03:12.881Z"
   },
   {
    "duration": 8,
    "start_time": "2022-11-04T20:03:13.241Z"
   },
   {
    "duration": 6,
    "start_time": "2022-11-04T20:03:13.250Z"
   },
   {
    "duration": 120,
    "start_time": "2022-11-04T20:03:13.258Z"
   },
   {
    "duration": 208,
    "start_time": "2022-11-04T20:03:13.379Z"
   },
   {
    "duration": 7,
    "start_time": "2022-11-04T20:03:13.589Z"
   },
   {
    "duration": 315,
    "start_time": "2022-11-04T20:03:13.598Z"
   },
   {
    "duration": 9,
    "start_time": "2022-11-04T20:03:13.915Z"
   },
   {
    "duration": 191,
    "start_time": "2022-11-04T20:03:13.926Z"
   },
   {
    "duration": 8,
    "start_time": "2022-11-04T20:03:14.119Z"
   },
   {
    "duration": 215,
    "start_time": "2022-11-04T20:03:14.138Z"
   },
   {
    "duration": 8,
    "start_time": "2022-11-04T20:03:14.355Z"
   },
   {
    "duration": 230,
    "start_time": "2022-11-04T20:03:14.365Z"
   },
   {
    "duration": 207,
    "start_time": "2022-11-04T20:03:14.596Z"
   },
   {
    "duration": 356,
    "start_time": "2022-11-04T20:03:14.805Z"
   },
   {
    "duration": 9,
    "start_time": "2022-11-04T20:03:15.162Z"
   },
   {
    "duration": 66,
    "start_time": "2022-11-04T20:03:15.172Z"
   },
   {
    "duration": 1183,
    "start_time": "2022-11-04T20:03:15.240Z"
   },
   {
    "duration": 1202,
    "start_time": "2022-11-04T20:03:16.425Z"
   },
   {
    "duration": 1137,
    "start_time": "2022-11-04T20:03:17.629Z"
   },
   {
    "duration": 1166,
    "start_time": "2022-11-04T20:03:18.767Z"
   },
   {
    "duration": 13,
    "start_time": "2022-11-04T20:03:19.938Z"
   },
   {
    "duration": 168,
    "start_time": "2022-11-04T20:03:19.952Z"
   },
   {
    "duration": 21,
    "start_time": "2022-11-04T20:03:20.122Z"
   },
   {
    "duration": 159,
    "start_time": "2022-11-04T20:03:20.145Z"
   },
   {
    "duration": 17,
    "start_time": "2022-11-04T20:03:20.305Z"
   },
   {
    "duration": 217,
    "start_time": "2022-11-04T20:03:20.324Z"
   },
   {
    "duration": 12,
    "start_time": "2022-11-04T20:03:20.543Z"
   },
   {
    "duration": 204,
    "start_time": "2022-11-04T20:03:20.557Z"
   },
   {
    "duration": 21,
    "start_time": "2022-11-04T20:03:20.763Z"
   },
   {
    "duration": 6,
    "start_time": "2022-11-04T20:03:20.786Z"
   },
   {
    "duration": 14,
    "start_time": "2022-11-04T20:03:20.793Z"
   },
   {
    "duration": 35,
    "start_time": "2022-11-04T20:03:20.808Z"
   },
   {
    "duration": 326,
    "start_time": "2022-11-04T20:03:20.845Z"
   },
   {
    "duration": 1246,
    "start_time": "2022-11-04T20:07:20.439Z"
   },
   {
    "duration": 86,
    "start_time": "2022-11-04T20:07:21.687Z"
   },
   {
    "duration": 120,
    "start_time": "2022-11-04T20:07:21.774Z"
   },
   {
    "duration": 14,
    "start_time": "2022-11-04T20:07:21.896Z"
   },
   {
    "duration": 3,
    "start_time": "2022-11-04T20:07:21.911Z"
   },
   {
    "duration": 1884,
    "start_time": "2022-11-04T20:07:21.939Z"
   },
   {
    "duration": 9,
    "start_time": "2022-11-04T20:07:23.825Z"
   },
   {
    "duration": 5,
    "start_time": "2022-11-04T20:07:23.836Z"
   },
   {
    "duration": 11,
    "start_time": "2022-11-04T20:07:23.843Z"
   },
   {
    "duration": 7,
    "start_time": "2022-11-04T20:07:23.858Z"
   },
   {
    "duration": 13,
    "start_time": "2022-11-04T20:07:23.867Z"
   },
   {
    "duration": 6,
    "start_time": "2022-11-04T20:07:23.882Z"
   },
   {
    "duration": 10,
    "start_time": "2022-11-04T20:07:23.889Z"
   },
   {
    "duration": 11,
    "start_time": "2022-11-04T20:07:23.900Z"
   },
   {
    "duration": 28,
    "start_time": "2022-11-04T20:07:23.913Z"
   },
   {
    "duration": 10,
    "start_time": "2022-11-04T20:07:23.943Z"
   },
   {
    "duration": 10,
    "start_time": "2022-11-04T20:07:23.954Z"
   },
   {
    "duration": 8,
    "start_time": "2022-11-04T20:07:23.965Z"
   },
   {
    "duration": 6,
    "start_time": "2022-11-04T20:07:23.974Z"
   },
   {
    "duration": 347,
    "start_time": "2022-11-04T20:07:23.981Z"
   },
   {
    "duration": 42,
    "start_time": "2022-11-04T20:07:24.330Z"
   },
   {
    "duration": 21,
    "start_time": "2022-11-04T20:07:24.373Z"
   },
   {
    "duration": 5,
    "start_time": "2022-11-04T20:07:24.395Z"
   },
   {
    "duration": 16,
    "start_time": "2022-11-04T20:07:24.401Z"
   },
   {
    "duration": 26,
    "start_time": "2022-11-04T20:07:24.418Z"
   },
   {
    "duration": 6,
    "start_time": "2022-11-04T20:07:24.445Z"
   },
   {
    "duration": 23,
    "start_time": "2022-11-04T20:07:24.452Z"
   },
   {
    "duration": 8,
    "start_time": "2022-11-04T20:07:24.480Z"
   },
   {
    "duration": 9,
    "start_time": "2022-11-04T20:07:24.489Z"
   },
   {
    "duration": 6,
    "start_time": "2022-11-04T20:07:24.500Z"
   },
   {
    "duration": 35,
    "start_time": "2022-11-04T20:07:24.508Z"
   },
   {
    "duration": 14,
    "start_time": "2022-11-04T20:07:24.545Z"
   },
   {
    "duration": 5,
    "start_time": "2022-11-04T20:07:24.560Z"
   },
   {
    "duration": 10,
    "start_time": "2022-11-04T20:07:24.566Z"
   },
   {
    "duration": 4,
    "start_time": "2022-11-04T20:07:24.577Z"
   },
   {
    "duration": 9,
    "start_time": "2022-11-04T20:07:24.582Z"
   },
   {
    "duration": 5,
    "start_time": "2022-11-04T20:07:24.593Z"
   },
   {
    "duration": 6,
    "start_time": "2022-11-04T20:07:24.600Z"
   },
   {
    "duration": 45,
    "start_time": "2022-11-04T20:07:24.608Z"
   },
   {
    "duration": 5,
    "start_time": "2022-11-04T20:07:24.655Z"
   },
   {
    "duration": 7,
    "start_time": "2022-11-04T20:07:24.662Z"
   },
   {
    "duration": 5,
    "start_time": "2022-11-04T20:07:24.671Z"
   },
   {
    "duration": 11,
    "start_time": "2022-11-04T20:07:24.678Z"
   },
   {
    "duration": 6,
    "start_time": "2022-11-04T20:07:24.691Z"
   },
   {
    "duration": 41,
    "start_time": "2022-11-04T20:07:24.698Z"
   },
   {
    "duration": 4,
    "start_time": "2022-11-04T20:07:24.740Z"
   },
   {
    "duration": 14,
    "start_time": "2022-11-04T20:07:24.746Z"
   },
   {
    "duration": 6,
    "start_time": "2022-11-04T20:07:24.761Z"
   },
   {
    "duration": 6,
    "start_time": "2022-11-04T20:07:24.769Z"
   },
   {
    "duration": 6,
    "start_time": "2022-11-04T20:07:24.776Z"
   },
   {
    "duration": 5,
    "start_time": "2022-11-04T20:07:24.784Z"
   },
   {
    "duration": 8,
    "start_time": "2022-11-04T20:07:24.790Z"
   },
   {
    "duration": 6,
    "start_time": "2022-11-04T20:07:24.799Z"
   },
   {
    "duration": 33,
    "start_time": "2022-11-04T20:07:24.806Z"
   },
   {
    "duration": 7,
    "start_time": "2022-11-04T20:07:24.841Z"
   },
   {
    "duration": 5,
    "start_time": "2022-11-04T20:07:24.849Z"
   },
   {
    "duration": 5,
    "start_time": "2022-11-04T20:07:24.855Z"
   },
   {
    "duration": 9,
    "start_time": "2022-11-04T20:07:24.862Z"
   },
   {
    "duration": 151,
    "start_time": "2022-11-04T20:07:24.873Z"
   },
   {
    "duration": 14,
    "start_time": "2022-11-04T20:07:25.026Z"
   },
   {
    "duration": 24,
    "start_time": "2022-11-04T20:07:25.041Z"
   },
   {
    "duration": 3,
    "start_time": "2022-11-04T20:07:25.067Z"
   },
   {
    "duration": 11,
    "start_time": "2022-11-04T20:07:25.071Z"
   },
   {
    "duration": 17,
    "start_time": "2022-11-04T20:07:25.084Z"
   },
   {
    "duration": 12,
    "start_time": "2022-11-04T20:07:25.103Z"
   },
   {
    "duration": 23,
    "start_time": "2022-11-04T20:07:25.117Z"
   },
   {
    "duration": 269,
    "start_time": "2022-11-04T20:07:25.142Z"
   },
   {
    "duration": 5,
    "start_time": "2022-11-04T20:07:25.413Z"
   },
   {
    "duration": 15,
    "start_time": "2022-11-04T20:07:25.419Z"
   },
   {
    "duration": 12,
    "start_time": "2022-11-04T20:07:25.435Z"
   },
   {
    "duration": 204,
    "start_time": "2022-11-04T20:07:25.449Z"
   },
   {
    "duration": 9,
    "start_time": "2022-11-04T20:07:25.655Z"
   },
   {
    "duration": 219,
    "start_time": "2022-11-04T20:07:25.666Z"
   },
   {
    "duration": 8,
    "start_time": "2022-11-04T20:07:25.887Z"
   },
   {
    "duration": 205,
    "start_time": "2022-11-04T20:07:25.898Z"
   },
   {
    "duration": 8,
    "start_time": "2022-11-04T20:07:26.105Z"
   },
   {
    "duration": 408,
    "start_time": "2022-11-04T20:07:26.115Z"
   },
   {
    "duration": 19,
    "start_time": "2022-11-04T20:07:26.524Z"
   },
   {
    "duration": 231,
    "start_time": "2022-11-04T20:07:26.545Z"
   },
   {
    "duration": 8,
    "start_time": "2022-11-04T20:07:26.777Z"
   },
   {
    "duration": 369,
    "start_time": "2022-11-04T20:07:26.787Z"
   },
   {
    "duration": 12,
    "start_time": "2022-11-04T20:07:27.165Z"
   },
   {
    "duration": 446,
    "start_time": "2022-11-04T20:07:27.179Z"
   },
   {
    "duration": 13,
    "start_time": "2022-11-04T20:07:27.626Z"
   },
   {
    "duration": 7,
    "start_time": "2022-11-04T20:07:27.641Z"
   },
   {
    "duration": 125,
    "start_time": "2022-11-04T20:07:27.650Z"
   },
   {
    "duration": 211,
    "start_time": "2022-11-04T20:07:27.777Z"
   },
   {
    "duration": 8,
    "start_time": "2022-11-04T20:07:27.989Z"
   },
   {
    "duration": 331,
    "start_time": "2022-11-04T20:07:27.999Z"
   },
   {
    "duration": 15,
    "start_time": "2022-11-04T20:07:28.332Z"
   },
   {
    "duration": 214,
    "start_time": "2022-11-04T20:07:28.349Z"
   },
   {
    "duration": 9,
    "start_time": "2022-11-04T20:07:28.566Z"
   },
   {
    "duration": 246,
    "start_time": "2022-11-04T20:07:28.576Z"
   },
   {
    "duration": 18,
    "start_time": "2022-11-04T20:07:28.824Z"
   },
   {
    "duration": 219,
    "start_time": "2022-11-04T20:07:28.844Z"
   },
   {
    "duration": 214,
    "start_time": "2022-11-04T20:07:29.065Z"
   },
   {
    "duration": 388,
    "start_time": "2022-11-04T20:07:29.281Z"
   },
   {
    "duration": 9,
    "start_time": "2022-11-04T20:07:29.671Z"
   },
   {
    "duration": 70,
    "start_time": "2022-11-04T20:07:29.682Z"
   },
   {
    "duration": 1318,
    "start_time": "2022-11-04T20:07:29.754Z"
   },
   {
    "duration": 1136,
    "start_time": "2022-11-04T20:07:31.074Z"
   },
   {
    "duration": 1092,
    "start_time": "2022-11-04T20:07:32.212Z"
   },
   {
    "duration": 1093,
    "start_time": "2022-11-04T20:07:33.306Z"
   },
   {
    "duration": 14,
    "start_time": "2022-11-04T20:07:34.401Z"
   },
   {
    "duration": 178,
    "start_time": "2022-11-04T20:07:34.417Z"
   },
   {
    "duration": 13,
    "start_time": "2022-11-04T20:07:34.597Z"
   },
   {
    "duration": 172,
    "start_time": "2022-11-04T20:07:34.611Z"
   },
   {
    "duration": 12,
    "start_time": "2022-11-04T20:07:34.785Z"
   },
   {
    "duration": 196,
    "start_time": "2022-11-04T20:07:34.798Z"
   },
   {
    "duration": 12,
    "start_time": "2022-11-04T20:07:34.995Z"
   },
   {
    "duration": 173,
    "start_time": "2022-11-04T20:07:35.009Z"
   },
   {
    "duration": 21,
    "start_time": "2022-11-04T20:07:35.184Z"
   },
   {
    "duration": 6,
    "start_time": "2022-11-04T20:07:35.206Z"
   },
   {
    "duration": 7,
    "start_time": "2022-11-04T20:07:35.213Z"
   },
   {
    "duration": 19,
    "start_time": "2022-11-04T20:07:35.239Z"
   },
   {
    "duration": 320,
    "start_time": "2022-11-04T20:07:35.260Z"
   },
   {
    "duration": 347,
    "start_time": "2022-11-04T20:13:44.594Z"
   },
   {
    "duration": 1237,
    "start_time": "2022-11-04T20:36:51.052Z"
   },
   {
    "duration": 84,
    "start_time": "2022-11-04T20:36:52.291Z"
   },
   {
    "duration": 112,
    "start_time": "2022-11-04T20:36:52.376Z"
   },
   {
    "duration": 18,
    "start_time": "2022-11-04T20:36:52.490Z"
   },
   {
    "duration": 5,
    "start_time": "2022-11-04T20:36:52.511Z"
   },
   {
    "duration": 2006,
    "start_time": "2022-11-04T20:36:52.518Z"
   },
   {
    "duration": 11,
    "start_time": "2022-11-04T20:36:54.526Z"
   },
   {
    "duration": 10,
    "start_time": "2022-11-04T20:36:54.539Z"
   },
   {
    "duration": 16,
    "start_time": "2022-11-04T20:36:54.551Z"
   },
   {
    "duration": 13,
    "start_time": "2022-11-04T20:36:54.569Z"
   },
   {
    "duration": 18,
    "start_time": "2022-11-04T20:36:54.583Z"
   },
   {
    "duration": 17,
    "start_time": "2022-11-04T20:36:54.602Z"
   },
   {
    "duration": 13,
    "start_time": "2022-11-04T20:36:54.620Z"
   },
   {
    "duration": 12,
    "start_time": "2022-11-04T20:36:54.636Z"
   },
   {
    "duration": 15,
    "start_time": "2022-11-04T20:36:54.650Z"
   },
   {
    "duration": 12,
    "start_time": "2022-11-04T20:36:54.666Z"
   },
   {
    "duration": 18,
    "start_time": "2022-11-04T20:36:54.679Z"
   },
   {
    "duration": 11,
    "start_time": "2022-11-04T20:36:54.698Z"
   },
   {
    "duration": 13,
    "start_time": "2022-11-04T20:36:54.711Z"
   },
   {
    "duration": 337,
    "start_time": "2022-11-04T20:36:54.725Z"
   },
   {
    "duration": 37,
    "start_time": "2022-11-04T20:36:55.063Z"
   },
   {
    "duration": 18,
    "start_time": "2022-11-04T20:36:55.102Z"
   },
   {
    "duration": 19,
    "start_time": "2022-11-04T20:36:55.138Z"
   },
   {
    "duration": 31,
    "start_time": "2022-11-04T20:36:55.158Z"
   },
   {
    "duration": 11,
    "start_time": "2022-11-04T20:36:55.191Z"
   },
   {
    "duration": 11,
    "start_time": "2022-11-04T20:36:55.203Z"
   },
   {
    "duration": 30,
    "start_time": "2022-11-04T20:36:55.215Z"
   },
   {
    "duration": 6,
    "start_time": "2022-11-04T20:36:55.247Z"
   },
   {
    "duration": 16,
    "start_time": "2022-11-04T20:36:55.255Z"
   },
   {
    "duration": 16,
    "start_time": "2022-11-04T20:36:55.272Z"
   },
   {
    "duration": 13,
    "start_time": "2022-11-04T20:36:55.289Z"
   },
   {
    "duration": 29,
    "start_time": "2022-11-04T20:36:55.303Z"
   },
   {
    "duration": 12,
    "start_time": "2022-11-04T20:36:55.333Z"
   },
   {
    "duration": 21,
    "start_time": "2022-11-04T20:36:55.347Z"
   },
   {
    "duration": 21,
    "start_time": "2022-11-04T20:36:55.369Z"
   },
   {
    "duration": 20,
    "start_time": "2022-11-04T20:36:55.391Z"
   },
   {
    "duration": 21,
    "start_time": "2022-11-04T20:36:55.413Z"
   },
   {
    "duration": 13,
    "start_time": "2022-11-04T20:36:55.436Z"
   },
   {
    "duration": 34,
    "start_time": "2022-11-04T20:36:55.451Z"
   },
   {
    "duration": 13,
    "start_time": "2022-11-04T20:36:55.486Z"
   },
   {
    "duration": 4,
    "start_time": "2022-11-04T20:36:55.505Z"
   },
   {
    "duration": 20,
    "start_time": "2022-11-04T20:36:55.510Z"
   },
   {
    "duration": 16,
    "start_time": "2022-11-04T20:36:55.532Z"
   },
   {
    "duration": 12,
    "start_time": "2022-11-04T20:36:55.549Z"
   },
   {
    "duration": 20,
    "start_time": "2022-11-04T20:36:55.562Z"
   },
   {
    "duration": 5,
    "start_time": "2022-11-04T20:36:55.584Z"
   },
   {
    "duration": 7,
    "start_time": "2022-11-04T20:36:55.591Z"
   },
   {
    "duration": 19,
    "start_time": "2022-11-04T20:36:55.599Z"
   },
   {
    "duration": 14,
    "start_time": "2022-11-04T20:36:55.619Z"
   },
   {
    "duration": 16,
    "start_time": "2022-11-04T20:36:55.634Z"
   },
   {
    "duration": 10,
    "start_time": "2022-11-04T20:36:55.652Z"
   },
   {
    "duration": 24,
    "start_time": "2022-11-04T20:36:55.663Z"
   },
   {
    "duration": 21,
    "start_time": "2022-11-04T20:36:55.688Z"
   },
   {
    "duration": 27,
    "start_time": "2022-11-04T20:36:55.711Z"
   },
   {
    "duration": 17,
    "start_time": "2022-11-04T20:36:55.740Z"
   },
   {
    "duration": 13,
    "start_time": "2022-11-04T20:36:55.759Z"
   },
   {
    "duration": 15,
    "start_time": "2022-11-04T20:36:55.774Z"
   },
   {
    "duration": 15,
    "start_time": "2022-11-04T20:36:55.790Z"
   },
   {
    "duration": 167,
    "start_time": "2022-11-04T20:36:55.807Z"
   },
   {
    "duration": 8,
    "start_time": "2022-11-04T20:36:55.976Z"
   },
   {
    "duration": 36,
    "start_time": "2022-11-04T20:36:55.987Z"
   },
   {
    "duration": 4,
    "start_time": "2022-11-04T20:36:56.025Z"
   },
   {
    "duration": 18,
    "start_time": "2022-11-04T20:36:56.030Z"
   },
   {
    "duration": 42,
    "start_time": "2022-11-04T20:36:56.050Z"
   },
   {
    "duration": 18,
    "start_time": "2022-11-04T20:36:56.093Z"
   },
   {
    "duration": 35,
    "start_time": "2022-11-04T20:36:56.113Z"
   },
   {
    "duration": 278,
    "start_time": "2022-11-04T20:36:56.149Z"
   },
   {
    "duration": 9,
    "start_time": "2022-11-04T20:36:56.429Z"
   },
   {
    "duration": 22,
    "start_time": "2022-11-04T20:36:56.440Z"
   },
   {
    "duration": 28,
    "start_time": "2022-11-04T20:36:56.464Z"
   },
   {
    "duration": 256,
    "start_time": "2022-11-04T20:36:56.494Z"
   },
   {
    "duration": 10,
    "start_time": "2022-11-04T20:36:56.751Z"
   },
   {
    "duration": 234,
    "start_time": "2022-11-04T20:36:56.762Z"
   },
   {
    "duration": 9,
    "start_time": "2022-11-04T20:36:56.998Z"
   },
   {
    "duration": 293,
    "start_time": "2022-11-04T20:36:57.009Z"
   },
   {
    "duration": 12,
    "start_time": "2022-11-04T20:36:57.304Z"
   },
   {
    "duration": 444,
    "start_time": "2022-11-04T20:36:57.318Z"
   },
   {
    "duration": 8,
    "start_time": "2022-11-04T20:36:57.764Z"
   },
   {
    "duration": 235,
    "start_time": "2022-11-04T20:36:57.773Z"
   },
   {
    "duration": 8,
    "start_time": "2022-11-04T20:36:58.009Z"
   },
   {
    "duration": 377,
    "start_time": "2022-11-04T20:36:58.019Z"
   },
   {
    "duration": 10,
    "start_time": "2022-11-04T20:36:58.398Z"
   },
   {
    "duration": 391,
    "start_time": "2022-11-04T20:36:58.410Z"
   },
   {
    "duration": 9,
    "start_time": "2022-11-04T20:36:58.803Z"
   },
   {
    "duration": 25,
    "start_time": "2022-11-04T20:36:58.814Z"
   },
   {
    "duration": 125,
    "start_time": "2022-11-04T20:36:58.841Z"
   },
   {
    "duration": 221,
    "start_time": "2022-11-04T20:36:58.968Z"
   },
   {
    "duration": 9,
    "start_time": "2022-11-04T20:36:59.191Z"
   },
   {
    "duration": 325,
    "start_time": "2022-11-04T20:36:59.202Z"
   },
   {
    "duration": 16,
    "start_time": "2022-11-04T20:36:59.528Z"
   },
   {
    "duration": 214,
    "start_time": "2022-11-04T20:36:59.546Z"
   },
   {
    "duration": 10,
    "start_time": "2022-11-04T20:36:59.761Z"
   },
   {
    "duration": 235,
    "start_time": "2022-11-04T20:36:59.772Z"
   },
   {
    "duration": 9,
    "start_time": "2022-11-04T20:37:00.009Z"
   },
   {
    "duration": 233,
    "start_time": "2022-11-04T20:37:00.020Z"
   },
   {
    "duration": 227,
    "start_time": "2022-11-04T20:37:00.255Z"
   },
   {
    "duration": 392,
    "start_time": "2022-11-04T20:37:00.484Z"
   },
   {
    "duration": 9,
    "start_time": "2022-11-04T20:37:00.878Z"
   },
   {
    "duration": 467,
    "start_time": "2022-11-04T20:37:00.889Z"
   },
   {
    "duration": 56,
    "start_time": "2022-11-04T20:37:01.358Z"
   },
   {
    "duration": 1126,
    "start_time": "2022-11-04T20:37:01.415Z"
   },
   {
    "duration": 1123,
    "start_time": "2022-11-04T20:37:02.543Z"
   },
   {
    "duration": 1173,
    "start_time": "2022-11-04T20:37:03.668Z"
   },
   {
    "duration": 1154,
    "start_time": "2022-11-04T20:37:04.843Z"
   },
   {
    "duration": 13,
    "start_time": "2022-11-04T20:37:05.999Z"
   },
   {
    "duration": 158,
    "start_time": "2022-11-04T20:37:06.013Z"
   },
   {
    "duration": 11,
    "start_time": "2022-11-04T20:37:06.172Z"
   },
   {
    "duration": 168,
    "start_time": "2022-11-04T20:37:06.185Z"
   },
   {
    "duration": 11,
    "start_time": "2022-11-04T20:37:06.355Z"
   },
   {
    "duration": 209,
    "start_time": "2022-11-04T20:37:06.368Z"
   },
   {
    "duration": 13,
    "start_time": "2022-11-04T20:37:06.578Z"
   },
   {
    "duration": 201,
    "start_time": "2022-11-04T20:37:06.593Z"
   },
   {
    "duration": 23,
    "start_time": "2022-11-04T20:37:06.796Z"
   },
   {
    "duration": 19,
    "start_time": "2022-11-04T20:37:06.820Z"
   },
   {
    "duration": 7,
    "start_time": "2022-11-04T20:37:06.841Z"
   },
   {
    "duration": 28,
    "start_time": "2022-11-04T20:37:06.850Z"
   },
   {
    "duration": 369,
    "start_time": "2022-11-04T20:37:06.880Z"
   },
   {
    "duration": 1269,
    "start_time": "2022-11-04T20:38:37.309Z"
   },
   {
    "duration": 86,
    "start_time": "2022-11-04T20:38:38.580Z"
   },
   {
    "duration": 124,
    "start_time": "2022-11-04T20:38:38.668Z"
   },
   {
    "duration": 15,
    "start_time": "2022-11-04T20:38:38.794Z"
   },
   {
    "duration": 3,
    "start_time": "2022-11-04T20:38:38.811Z"
   },
   {
    "duration": 1998,
    "start_time": "2022-11-04T20:38:38.838Z"
   },
   {
    "duration": 10,
    "start_time": "2022-11-04T20:38:40.837Z"
   },
   {
    "duration": 4,
    "start_time": "2022-11-04T20:38:40.849Z"
   },
   {
    "duration": 7,
    "start_time": "2022-11-04T20:38:40.855Z"
   },
   {
    "duration": 7,
    "start_time": "2022-11-04T20:38:40.865Z"
   },
   {
    "duration": 4,
    "start_time": "2022-11-04T20:38:40.874Z"
   },
   {
    "duration": 6,
    "start_time": "2022-11-04T20:38:40.880Z"
   },
   {
    "duration": 6,
    "start_time": "2022-11-04T20:38:40.887Z"
   },
   {
    "duration": 7,
    "start_time": "2022-11-04T20:38:40.938Z"
   },
   {
    "duration": 13,
    "start_time": "2022-11-04T20:38:40.947Z"
   },
   {
    "duration": 10,
    "start_time": "2022-11-04T20:38:40.961Z"
   },
   {
    "duration": 8,
    "start_time": "2022-11-04T20:38:40.972Z"
   },
   {
    "duration": 6,
    "start_time": "2022-11-04T20:38:40.981Z"
   },
   {
    "duration": 6,
    "start_time": "2022-11-04T20:38:40.988Z"
   },
   {
    "duration": 345,
    "start_time": "2022-11-04T20:38:41.038Z"
   },
   {
    "duration": 36,
    "start_time": "2022-11-04T20:38:41.385Z"
   },
   {
    "duration": 20,
    "start_time": "2022-11-04T20:38:41.438Z"
   },
   {
    "duration": 5,
    "start_time": "2022-11-04T20:38:41.459Z"
   },
   {
    "duration": 14,
    "start_time": "2022-11-04T20:38:41.465Z"
   },
   {
    "duration": 7,
    "start_time": "2022-11-04T20:38:41.481Z"
   },
   {
    "duration": 6,
    "start_time": "2022-11-04T20:38:41.489Z"
   },
   {
    "duration": 62,
    "start_time": "2022-11-04T20:38:41.496Z"
   },
   {
    "duration": 7,
    "start_time": "2022-11-04T20:38:41.562Z"
   },
   {
    "duration": 13,
    "start_time": "2022-11-04T20:38:41.571Z"
   },
   {
    "duration": 8,
    "start_time": "2022-11-04T20:38:41.586Z"
   },
   {
    "duration": 8,
    "start_time": "2022-11-04T20:38:41.596Z"
   },
   {
    "duration": 39,
    "start_time": "2022-11-04T20:38:41.606Z"
   },
   {
    "duration": 7,
    "start_time": "2022-11-04T20:38:41.646Z"
   },
   {
    "duration": 14,
    "start_time": "2022-11-04T20:38:41.654Z"
   },
   {
    "duration": 4,
    "start_time": "2022-11-04T20:38:41.670Z"
   },
   {
    "duration": 11,
    "start_time": "2022-11-04T20:38:41.676Z"
   },
   {
    "duration": 5,
    "start_time": "2022-11-04T20:38:41.689Z"
   },
   {
    "duration": 9,
    "start_time": "2022-11-04T20:38:41.695Z"
   },
   {
    "duration": 39,
    "start_time": "2022-11-04T20:38:41.706Z"
   },
   {
    "duration": 4,
    "start_time": "2022-11-04T20:38:41.747Z"
   },
   {
    "duration": 8,
    "start_time": "2022-11-04T20:38:41.753Z"
   },
   {
    "duration": 6,
    "start_time": "2022-11-04T20:38:41.762Z"
   },
   {
    "duration": 5,
    "start_time": "2022-11-04T20:38:41.770Z"
   },
   {
    "duration": 6,
    "start_time": "2022-11-04T20:38:41.776Z"
   },
   {
    "duration": 5,
    "start_time": "2022-11-04T20:38:41.784Z"
   },
   {
    "duration": 6,
    "start_time": "2022-11-04T20:38:41.790Z"
   },
   {
    "duration": 7,
    "start_time": "2022-11-04T20:38:41.798Z"
   },
   {
    "duration": 5,
    "start_time": "2022-11-04T20:38:41.838Z"
   },
   {
    "duration": 8,
    "start_time": "2022-11-04T20:38:41.844Z"
   },
   {
    "duration": 6,
    "start_time": "2022-11-04T20:38:41.853Z"
   },
   {
    "duration": 5,
    "start_time": "2022-11-04T20:38:41.860Z"
   },
   {
    "duration": 8,
    "start_time": "2022-11-04T20:38:41.866Z"
   },
   {
    "duration": 7,
    "start_time": "2022-11-04T20:38:41.876Z"
   },
   {
    "duration": 5,
    "start_time": "2022-11-04T20:38:41.885Z"
   },
   {
    "duration": 48,
    "start_time": "2022-11-04T20:38:41.892Z"
   },
   {
    "duration": 5,
    "start_time": "2022-11-04T20:38:41.942Z"
   },
   {
    "duration": 8,
    "start_time": "2022-11-04T20:38:41.948Z"
   },
   {
    "duration": 4,
    "start_time": "2022-11-04T20:38:41.958Z"
   },
   {
    "duration": 157,
    "start_time": "2022-11-04T20:38:41.964Z"
   },
   {
    "duration": 6,
    "start_time": "2022-11-04T20:38:42.123Z"
   },
   {
    "duration": 26,
    "start_time": "2022-11-04T20:38:42.131Z"
   },
   {
    "duration": 3,
    "start_time": "2022-11-04T20:38:42.159Z"
   },
   {
    "duration": 5,
    "start_time": "2022-11-04T20:38:42.164Z"
   },
   {
    "duration": 16,
    "start_time": "2022-11-04T20:38:42.170Z"
   },
   {
    "duration": 14,
    "start_time": "2022-11-04T20:38:42.188Z"
   },
   {
    "duration": 35,
    "start_time": "2022-11-04T20:38:42.204Z"
   },
   {
    "duration": 282,
    "start_time": "2022-11-04T20:38:42.241Z"
   },
   {
    "duration": 6,
    "start_time": "2022-11-04T20:38:42.525Z"
   },
   {
    "duration": 9,
    "start_time": "2022-11-04T20:38:42.533Z"
   },
   {
    "duration": 8,
    "start_time": "2022-11-04T20:38:42.544Z"
   },
   {
    "duration": 233,
    "start_time": "2022-11-04T20:38:42.554Z"
   },
   {
    "duration": 9,
    "start_time": "2022-11-04T20:38:42.789Z"
   },
   {
    "duration": 212,
    "start_time": "2022-11-04T20:38:42.800Z"
   },
   {
    "duration": 10,
    "start_time": "2022-11-04T20:38:43.013Z"
   },
   {
    "duration": 200,
    "start_time": "2022-11-04T20:38:43.039Z"
   },
   {
    "duration": 9,
    "start_time": "2022-11-04T20:38:43.241Z"
   },
   {
    "duration": 406,
    "start_time": "2022-11-04T20:38:43.251Z"
   },
   {
    "duration": 9,
    "start_time": "2022-11-04T20:38:43.659Z"
   },
   {
    "duration": 233,
    "start_time": "2022-11-04T20:38:43.670Z"
   },
   {
    "duration": 9,
    "start_time": "2022-11-04T20:38:43.905Z"
   },
   {
    "duration": 359,
    "start_time": "2022-11-04T20:38:43.916Z"
   },
   {
    "duration": 9,
    "start_time": "2022-11-04T20:38:44.281Z"
   },
   {
    "duration": 371,
    "start_time": "2022-11-04T20:38:44.292Z"
   },
   {
    "duration": 10,
    "start_time": "2022-11-04T20:38:44.666Z"
   },
   {
    "duration": 7,
    "start_time": "2022-11-04T20:38:44.677Z"
   },
   {
    "duration": 128,
    "start_time": "2022-11-04T20:38:44.686Z"
   },
   {
    "duration": 211,
    "start_time": "2022-11-04T20:38:44.816Z"
   },
   {
    "duration": 16,
    "start_time": "2022-11-04T20:38:45.029Z"
   },
   {
    "duration": 321,
    "start_time": "2022-11-04T20:38:45.046Z"
   },
   {
    "duration": 11,
    "start_time": "2022-11-04T20:38:45.369Z"
   },
   {
    "duration": 219,
    "start_time": "2022-11-04T20:38:45.381Z"
   },
   {
    "duration": 11,
    "start_time": "2022-11-04T20:38:45.602Z"
   },
   {
    "duration": 243,
    "start_time": "2022-11-04T20:38:45.615Z"
   },
   {
    "duration": 11,
    "start_time": "2022-11-04T20:38:45.860Z"
   },
   {
    "duration": 250,
    "start_time": "2022-11-04T20:38:45.873Z"
   },
   {
    "duration": 209,
    "start_time": "2022-11-04T20:38:46.124Z"
   },
   {
    "duration": 385,
    "start_time": "2022-11-04T20:38:46.338Z"
   },
   {
    "duration": 17,
    "start_time": "2022-11-04T20:38:46.725Z"
   },
   {
    "duration": 531,
    "start_time": "2022-11-04T20:38:46.744Z"
   },
   {
    "duration": 83,
    "start_time": "2022-11-04T20:38:47.277Z"
   },
   {
    "duration": 1197,
    "start_time": "2022-11-04T20:38:47.362Z"
   },
   {
    "duration": 1160,
    "start_time": "2022-11-04T20:38:48.560Z"
   },
   {
    "duration": 1145,
    "start_time": "2022-11-04T20:38:49.722Z"
   },
   {
    "duration": 1097,
    "start_time": "2022-11-04T20:38:50.868Z"
   },
   {
    "duration": 17,
    "start_time": "2022-11-04T20:38:51.967Z"
   },
   {
    "duration": 160,
    "start_time": "2022-11-04T20:38:51.986Z"
   },
   {
    "duration": 11,
    "start_time": "2022-11-04T20:38:52.148Z"
   },
   {
    "duration": 178,
    "start_time": "2022-11-04T20:38:52.161Z"
   },
   {
    "duration": 11,
    "start_time": "2022-11-04T20:38:52.341Z"
   },
   {
    "duration": 210,
    "start_time": "2022-11-04T20:38:52.354Z"
   },
   {
    "duration": 12,
    "start_time": "2022-11-04T20:38:52.565Z"
   },
   {
    "duration": 175,
    "start_time": "2022-11-04T20:38:52.579Z"
   },
   {
    "duration": 22,
    "start_time": "2022-11-04T20:38:52.755Z"
   },
   {
    "duration": 5,
    "start_time": "2022-11-04T20:38:52.778Z"
   },
   {
    "duration": 8,
    "start_time": "2022-11-04T20:38:52.784Z"
   },
   {
    "duration": 46,
    "start_time": "2022-11-04T20:38:52.793Z"
   },
   {
    "duration": 331,
    "start_time": "2022-11-04T20:38:52.841Z"
   }
  ],
  "kernelspec": {
   "display_name": "Python 3 (ipykernel)",
   "language": "python",
   "name": "python3"
  },
  "language_info": {
   "codemirror_mode": {
    "name": "ipython",
    "version": 3
   },
   "file_extension": ".py",
   "mimetype": "text/x-python",
   "name": "python",
   "nbconvert_exporter": "python",
   "pygments_lexer": "ipython3",
   "version": "3.9.12"
  },
  "toc": {
   "base_numbering": 1,
   "nav_menu": {},
   "number_sections": true,
   "sideBar": true,
   "skip_h1_title": true,
   "title_cell": "Table of Contents",
   "title_sidebar": "Contents",
   "toc_cell": false,
   "toc_position": {},
   "toc_section_display": true,
   "toc_window_display": false
  }
 },
 "nbformat": 4,
 "nbformat_minor": 2
}
