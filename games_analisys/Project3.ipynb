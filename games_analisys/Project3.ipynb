{
 "cells": [
  {
   "cell_type": "markdown",
   "metadata": {},
   "source": [
    "# Изучение закономерностей, определяющих успешность игр"
   ]
  },
  {
   "cell_type": "markdown",
   "metadata": {},
   "source": [
    "### Цель проекта:"
   ]
  },
  {
   "cell_type": "markdown",
   "metadata": {},
   "source": [
    "Исследовать параметры, влияющие на успешность игр, изучить все закономерности. Результаты исследования будут использованы для планирования рекламных кампаний в 2017 году."
   ]
  },
  {
   "cell_type": "markdown",
   "metadata": {},
   "source": [
    "### Изучение общей информации о данных"
   ]
  },
  {
   "cell_type": "code",
   "execution_count": 1,
   "metadata": {},
   "outputs": [],
   "source": [
    "#импортируем все необходимые библиотеки\n",
    "import pandas as pd\n",
    "import seaborn as sb\n",
    "import matplotlib.pyplot as plt\n",
    "from scipy import stats as st\n",
    "import numpy as np"
   ]
  },
  {
   "cell_type": "code",
   "execution_count": 2,
   "metadata": {},
   "outputs": [],
   "source": [
    "#открываем файл и указываем разделитель\n",
    "data = pd.read_csv('/datasets/games.csv', sep=',')"
   ]
  },
  {
   "cell_type": "code",
   "execution_count": 3,
   "metadata": {},
   "outputs": [
    {
     "data": {
      "text/html": [
       "<div>\n",
       "<style scoped>\n",
       "    .dataframe tbody tr th:only-of-type {\n",
       "        vertical-align: middle;\n",
       "    }\n",
       "\n",
       "    .dataframe tbody tr th {\n",
       "        vertical-align: top;\n",
       "    }\n",
       "\n",
       "    .dataframe thead th {\n",
       "        text-align: right;\n",
       "    }\n",
       "</style>\n",
       "<table border=\"1\" class=\"dataframe\">\n",
       "  <thead>\n",
       "    <tr style=\"text-align: right;\">\n",
       "      <th></th>\n",
       "      <th>Name</th>\n",
       "      <th>Platform</th>\n",
       "      <th>Year_of_Release</th>\n",
       "      <th>Genre</th>\n",
       "      <th>NA_sales</th>\n",
       "      <th>EU_sales</th>\n",
       "      <th>JP_sales</th>\n",
       "      <th>Other_sales</th>\n",
       "      <th>Critic_Score</th>\n",
       "      <th>User_Score</th>\n",
       "      <th>Rating</th>\n",
       "    </tr>\n",
       "  </thead>\n",
       "  <tbody>\n",
       "    <tr>\n",
       "      <th>0</th>\n",
       "      <td>Wii Sports</td>\n",
       "      <td>Wii</td>\n",
       "      <td>2006.0</td>\n",
       "      <td>Sports</td>\n",
       "      <td>41.36</td>\n",
       "      <td>28.96</td>\n",
       "      <td>3.77</td>\n",
       "      <td>8.45</td>\n",
       "      <td>76.0</td>\n",
       "      <td>8</td>\n",
       "      <td>E</td>\n",
       "    </tr>\n",
       "    <tr>\n",
       "      <th>1</th>\n",
       "      <td>Super Mario Bros.</td>\n",
       "      <td>NES</td>\n",
       "      <td>1985.0</td>\n",
       "      <td>Platform</td>\n",
       "      <td>29.08</td>\n",
       "      <td>3.58</td>\n",
       "      <td>6.81</td>\n",
       "      <td>0.77</td>\n",
       "      <td>NaN</td>\n",
       "      <td>NaN</td>\n",
       "      <td>NaN</td>\n",
       "    </tr>\n",
       "    <tr>\n",
       "      <th>2</th>\n",
       "      <td>Mario Kart Wii</td>\n",
       "      <td>Wii</td>\n",
       "      <td>2008.0</td>\n",
       "      <td>Racing</td>\n",
       "      <td>15.68</td>\n",
       "      <td>12.76</td>\n",
       "      <td>3.79</td>\n",
       "      <td>3.29</td>\n",
       "      <td>82.0</td>\n",
       "      <td>8.3</td>\n",
       "      <td>E</td>\n",
       "    </tr>\n",
       "    <tr>\n",
       "      <th>3</th>\n",
       "      <td>Wii Sports Resort</td>\n",
       "      <td>Wii</td>\n",
       "      <td>2009.0</td>\n",
       "      <td>Sports</td>\n",
       "      <td>15.61</td>\n",
       "      <td>10.93</td>\n",
       "      <td>3.28</td>\n",
       "      <td>2.95</td>\n",
       "      <td>80.0</td>\n",
       "      <td>8</td>\n",
       "      <td>E</td>\n",
       "    </tr>\n",
       "    <tr>\n",
       "      <th>4</th>\n",
       "      <td>Pokemon Red/Pokemon Blue</td>\n",
       "      <td>GB</td>\n",
       "      <td>1996.0</td>\n",
       "      <td>Role-Playing</td>\n",
       "      <td>11.27</td>\n",
       "      <td>8.89</td>\n",
       "      <td>10.22</td>\n",
       "      <td>1.00</td>\n",
       "      <td>NaN</td>\n",
       "      <td>NaN</td>\n",
       "      <td>NaN</td>\n",
       "    </tr>\n",
       "  </tbody>\n",
       "</table>\n",
       "</div>"
      ],
      "text/plain": [
       "                       Name Platform  Year_of_Release         Genre  NA_sales  \\\n",
       "0                Wii Sports      Wii           2006.0        Sports     41.36   \n",
       "1         Super Mario Bros.      NES           1985.0      Platform     29.08   \n",
       "2            Mario Kart Wii      Wii           2008.0        Racing     15.68   \n",
       "3         Wii Sports Resort      Wii           2009.0        Sports     15.61   \n",
       "4  Pokemon Red/Pokemon Blue       GB           1996.0  Role-Playing     11.27   \n",
       "\n",
       "   EU_sales  JP_sales  Other_sales  Critic_Score User_Score Rating  \n",
       "0     28.96      3.77         8.45          76.0          8      E  \n",
       "1      3.58      6.81         0.77           NaN        NaN    NaN  \n",
       "2     12.76      3.79         3.29          82.0        8.3      E  \n",
       "3     10.93      3.28         2.95          80.0          8      E  \n",
       "4      8.89     10.22         1.00           NaN        NaN    NaN  "
      ]
     },
     "execution_count": 3,
     "metadata": {},
     "output_type": "execute_result"
    }
   ],
   "source": [
    "#выводим для проверки первые 5 строк\n",
    "data.head(5)"
   ]
  },
  {
   "cell_type": "markdown",
   "metadata": {},
   "source": [
    "На первый взгляд, в данных много пропущенных значений в столбцах с рейтингами, и некорректные названия столбцов"
   ]
  },
  {
   "cell_type": "code",
   "execution_count": 4,
   "metadata": {},
   "outputs": [
    {
     "name": "stdout",
     "output_type": "stream",
     "text": [
      "<class 'pandas.core.frame.DataFrame'>\n",
      "RangeIndex: 16715 entries, 0 to 16714\n",
      "Data columns (total 11 columns):\n",
      " #   Column           Non-Null Count  Dtype  \n",
      "---  ------           --------------  -----  \n",
      " 0   Name             16713 non-null  object \n",
      " 1   Platform         16715 non-null  object \n",
      " 2   Year_of_Release  16446 non-null  float64\n",
      " 3   Genre            16713 non-null  object \n",
      " 4   NA_sales         16715 non-null  float64\n",
      " 5   EU_sales         16715 non-null  float64\n",
      " 6   JP_sales         16715 non-null  float64\n",
      " 7   Other_sales      16715 non-null  float64\n",
      " 8   Critic_Score     8137 non-null   float64\n",
      " 9   User_Score       10014 non-null  object \n",
      " 10  Rating           9949 non-null   object \n",
      "dtypes: float64(6), object(5)\n",
      "memory usage: 1.4+ MB\n"
     ]
    }
   ],
   "source": [
    "#выведем общую информацию о датасете\n",
    "data.info()"
   ]
  },
  {
   "cell_type": "markdown",
   "metadata": {},
   "source": [
    "В таблице 16715 строк, 11 столбцов. Столбец с годом выпуска игры имеет вещественный тип, нужно будет поменять на целый. В столбце с рейтингом пользователей нужно, на мой взгляд, поменять тип данных, согласно столбцу critic_score, множественные пропуски в столбцах с рейтингами подтверждаются, есть также небольшое количество пропусков в столбце с годом выпуска игры"
   ]
  },
  {
   "cell_type": "code",
   "execution_count": 5,
   "metadata": {},
   "outputs": [
    {
     "name": "stdout",
     "output_type": "stream",
     "text": [
      "16715\n"
     ]
    }
   ],
   "source": [
    "#оценим первоначальное количество строк, чтобы после предобработки данных посчитать долю удаленных строк\n",
    "data_old = data.shape[0]\n",
    "print(data_old)"
   ]
  },
  {
   "cell_type": "markdown",
   "metadata": {},
   "source": [
    "### Предобработка данных "
   ]
  },
  {
   "cell_type": "markdown",
   "metadata": {},
   "source": [
    "#### Переименование столбцов"
   ]
  },
  {
   "cell_type": "markdown",
   "metadata": {},
   "source": [
    "Приведем все столбцы к нижнему регистру:"
   ]
  },
  {
   "cell_type": "code",
   "execution_count": 6,
   "metadata": {},
   "outputs": [],
   "source": [
    "data.columns = data.columns.str.lower()"
   ]
  },
  {
   "cell_type": "code",
   "execution_count": 7,
   "metadata": {},
   "outputs": [
    {
     "data": {
      "text/html": [
       "<div>\n",
       "<style scoped>\n",
       "    .dataframe tbody tr th:only-of-type {\n",
       "        vertical-align: middle;\n",
       "    }\n",
       "\n",
       "    .dataframe tbody tr th {\n",
       "        vertical-align: top;\n",
       "    }\n",
       "\n",
       "    .dataframe thead th {\n",
       "        text-align: right;\n",
       "    }\n",
       "</style>\n",
       "<table border=\"1\" class=\"dataframe\">\n",
       "  <thead>\n",
       "    <tr style=\"text-align: right;\">\n",
       "      <th></th>\n",
       "      <th>name</th>\n",
       "      <th>platform</th>\n",
       "      <th>year_of_release</th>\n",
       "      <th>genre</th>\n",
       "      <th>na_sales</th>\n",
       "      <th>eu_sales</th>\n",
       "      <th>jp_sales</th>\n",
       "      <th>other_sales</th>\n",
       "      <th>critic_score</th>\n",
       "      <th>user_score</th>\n",
       "      <th>rating</th>\n",
       "    </tr>\n",
       "  </thead>\n",
       "  <tbody>\n",
       "    <tr>\n",
       "      <th>0</th>\n",
       "      <td>Wii Sports</td>\n",
       "      <td>Wii</td>\n",
       "      <td>2006.0</td>\n",
       "      <td>Sports</td>\n",
       "      <td>41.36</td>\n",
       "      <td>28.96</td>\n",
       "      <td>3.77</td>\n",
       "      <td>8.45</td>\n",
       "      <td>76.0</td>\n",
       "      <td>8</td>\n",
       "      <td>E</td>\n",
       "    </tr>\n",
       "    <tr>\n",
       "      <th>1</th>\n",
       "      <td>Super Mario Bros.</td>\n",
       "      <td>NES</td>\n",
       "      <td>1985.0</td>\n",
       "      <td>Platform</td>\n",
       "      <td>29.08</td>\n",
       "      <td>3.58</td>\n",
       "      <td>6.81</td>\n",
       "      <td>0.77</td>\n",
       "      <td>NaN</td>\n",
       "      <td>NaN</td>\n",
       "      <td>NaN</td>\n",
       "    </tr>\n",
       "    <tr>\n",
       "      <th>2</th>\n",
       "      <td>Mario Kart Wii</td>\n",
       "      <td>Wii</td>\n",
       "      <td>2008.0</td>\n",
       "      <td>Racing</td>\n",
       "      <td>15.68</td>\n",
       "      <td>12.76</td>\n",
       "      <td>3.79</td>\n",
       "      <td>3.29</td>\n",
       "      <td>82.0</td>\n",
       "      <td>8.3</td>\n",
       "      <td>E</td>\n",
       "    </tr>\n",
       "    <tr>\n",
       "      <th>3</th>\n",
       "      <td>Wii Sports Resort</td>\n",
       "      <td>Wii</td>\n",
       "      <td>2009.0</td>\n",
       "      <td>Sports</td>\n",
       "      <td>15.61</td>\n",
       "      <td>10.93</td>\n",
       "      <td>3.28</td>\n",
       "      <td>2.95</td>\n",
       "      <td>80.0</td>\n",
       "      <td>8</td>\n",
       "      <td>E</td>\n",
       "    </tr>\n",
       "    <tr>\n",
       "      <th>4</th>\n",
       "      <td>Pokemon Red/Pokemon Blue</td>\n",
       "      <td>GB</td>\n",
       "      <td>1996.0</td>\n",
       "      <td>Role-Playing</td>\n",
       "      <td>11.27</td>\n",
       "      <td>8.89</td>\n",
       "      <td>10.22</td>\n",
       "      <td>1.00</td>\n",
       "      <td>NaN</td>\n",
       "      <td>NaN</td>\n",
       "      <td>NaN</td>\n",
       "    </tr>\n",
       "  </tbody>\n",
       "</table>\n",
       "</div>"
      ],
      "text/plain": [
       "                       name platform  year_of_release         genre  na_sales  \\\n",
       "0                Wii Sports      Wii           2006.0        Sports     41.36   \n",
       "1         Super Mario Bros.      NES           1985.0      Platform     29.08   \n",
       "2            Mario Kart Wii      Wii           2008.0        Racing     15.68   \n",
       "3         Wii Sports Resort      Wii           2009.0        Sports     15.61   \n",
       "4  Pokemon Red/Pokemon Blue       GB           1996.0  Role-Playing     11.27   \n",
       "\n",
       "   eu_sales  jp_sales  other_sales  critic_score user_score rating  \n",
       "0     28.96      3.77         8.45          76.0          8      E  \n",
       "1      3.58      6.81         0.77           NaN        NaN    NaN  \n",
       "2     12.76      3.79         3.29          82.0        8.3      E  \n",
       "3     10.93      3.28         2.95          80.0          8      E  \n",
       "4      8.89     10.22         1.00           NaN        NaN    NaN  "
      ]
     },
     "execution_count": 7,
     "metadata": {},
     "output_type": "execute_result"
    }
   ],
   "source": [
    "#выводим для проверки первые 5 строк\n",
    "data.head(5)"
   ]
  },
  {
   "cell_type": "markdown",
   "metadata": {},
   "source": [
    "#### Обработка пропусков"
   ]
  },
  {
   "cell_type": "markdown",
   "metadata": {},
   "source": [
    "Выведем общую информацию о пропусках"
   ]
  },
  {
   "cell_type": "code",
   "execution_count": 8,
   "metadata": {},
   "outputs": [
    {
     "data": {
      "text/plain": [
       "name                  2\n",
       "platform              0\n",
       "year_of_release     269\n",
       "genre                 2\n",
       "na_sales              0\n",
       "eu_sales              0\n",
       "jp_sales              0\n",
       "other_sales           0\n",
       "critic_score       8578\n",
       "user_score         6701\n",
       "rating             6766\n",
       "dtype: int64"
      ]
     },
     "execution_count": 8,
     "metadata": {},
     "output_type": "execute_result"
    }
   ],
   "source": [
    "data.isnull().sum()"
   ]
  },
  {
   "cell_type": "markdown",
   "metadata": {},
   "source": [
    "По 2 пропуска в столбце name и genre. Есть небольшое количество пропусков в year_of_release. А вот в рейтингах очень много пропусков. В том числе в рейтинге ESRB. "
   ]
  },
  {
   "cell_type": "code",
   "execution_count": 9,
   "metadata": {},
   "outputs": [
    {
     "data": {
      "text/plain": [
       "name               0.000120\n",
       "platform           0.000000\n",
       "year_of_release    0.016093\n",
       "genre              0.000120\n",
       "na_sales           0.000000\n",
       "eu_sales           0.000000\n",
       "jp_sales           0.000000\n",
       "other_sales        0.000000\n",
       "critic_score       0.513192\n",
       "user_score         0.400897\n",
       "rating             0.404786\n",
       "dtype: float64"
      ]
     },
     "execution_count": 9,
     "metadata": {},
     "output_type": "execute_result"
    }
   ],
   "source": [
    "data.isna().mean()"
   ]
  },
  {
   "cell_type": "markdown",
   "metadata": {},
   "source": [
    "Пропусков в столбцах с рейтингами  - 51, 40, 40% от общего объема данных. Это очень высокая цифра, заполнение их средним, медианным значением даже с группировкой по жанру и платформе игры может сильно исказить общую картину, к тому же определить логику проставления рейтинга ESRB не представляется возможным."
   ]
  },
  {
   "cell_type": "markdown",
   "metadata": {},
   "source": [
    "Рейтинг ESRB - категориальная переменная, поэтому пропуски в данных (NaN) мы можем заполнить значением \"Unknown\", так мы не потеряем 40% данных при анализе."
   ]
  },
  {
   "cell_type": "code",
   "execution_count": 10,
   "metadata": {},
   "outputs": [],
   "source": [
    "data['rating'] = data['rating'].fillna('Unknown')"
   ]
  },
  {
   "cell_type": "code",
   "execution_count": 11,
   "metadata": {},
   "outputs": [
    {
     "data": {
      "text/plain": [
       "array(['E', 'Unknown', 'M', 'T', 'E10+', 'K-A', 'AO', 'EC', 'RP'],\n",
       "      dtype=object)"
      ]
     },
     "execution_count": 11,
     "metadata": {},
     "output_type": "execute_result"
    }
   ],
   "source": [
    "#проверяем результат:\n",
    "data['rating'].unique()"
   ]
  },
  {
   "cell_type": "markdown",
   "metadata": {},
   "source": [
    "С рейтингом критиков и пользовательским рейтингом все немного сложнее. В них проставлены числовые значения, а значит, заполнение 0, например, пропусков сместит их средние значения. Поэтому оставим в них значения NaN."
   ]
  },
  {
   "cell_type": "markdown",
   "metadata": {},
   "source": [
    "Доля пропусков в столбце с годами выпуска составляет 1.6%, заполнить эти пропуски не представляется возможным, однако в исследовательском анализе данных этот столбец будет довольно активно задействован, а пропущенные значения будут искажать графики, поэтому считаю целесообразным их удалить."
   ]
  },
  {
   "cell_type": "code",
   "execution_count": 12,
   "metadata": {},
   "outputs": [],
   "source": [
    "#удаляем пропуски в столбце year_of_release\n",
    "data = data.dropna(subset = ['year_of_release'])"
   ]
  },
  {
   "cell_type": "code",
   "execution_count": 13,
   "metadata": {},
   "outputs": [
    {
     "data": {
      "text/plain": [
       "0"
      ]
     },
     "execution_count": 13,
     "metadata": {},
     "output_type": "execute_result"
    }
   ],
   "source": [
    "#проверяем, что все ок\n",
    "data['year_of_release'].isnull().sum()"
   ]
  },
  {
   "cell_type": "markdown",
   "metadata": {},
   "source": [
    "Пропуски в имени игры и жанре также удалим, поскольку они единичны:"
   ]
  },
  {
   "cell_type": "code",
   "execution_count": 14,
   "metadata": {},
   "outputs": [],
   "source": [
    "data = data.dropna(subset = ['name'])"
   ]
  },
  {
   "cell_type": "code",
   "execution_count": 15,
   "metadata": {},
   "outputs": [],
   "source": [
    "data = data.dropna(subset = ['genre'])"
   ]
  },
  {
   "cell_type": "code",
   "execution_count": 16,
   "metadata": {},
   "outputs": [
    {
     "data": {
      "text/plain": [
       "name                  0\n",
       "platform              0\n",
       "year_of_release       0\n",
       "genre                 0\n",
       "na_sales              0\n",
       "eu_sales              0\n",
       "jp_sales              0\n",
       "other_sales           0\n",
       "critic_score       8461\n",
       "user_score         6605\n",
       "rating                0\n",
       "dtype: int64"
      ]
     },
     "execution_count": 16,
     "metadata": {},
     "output_type": "execute_result"
    }
   ],
   "source": [
    "#проверяем итоговую информацию по пропускам\n",
    "data.isnull().sum()"
   ]
  },
  {
   "cell_type": "markdown",
   "metadata": {},
   "source": [
    "#### Изменение типов данных"
   ]
  },
  {
   "cell_type": "code",
   "execution_count": 17,
   "metadata": {},
   "outputs": [
    {
     "data": {
      "text/plain": [
       "array([2006., 1985., 2008., 2009., 1996., 1989., 1984., 2005., 1999.,\n",
       "       2007., 2010., 2013., 2004., 1990., 1988., 2002., 2001., 2011.,\n",
       "       1998., 2015., 2012., 2014., 1992., 1997., 1993., 1994., 1982.,\n",
       "       2016., 2003., 1986., 2000., 1995., 1991., 1981., 1987., 1980.,\n",
       "       1983.])"
      ]
     },
     "execution_count": 17,
     "metadata": {},
     "output_type": "execute_result"
    }
   ],
   "source": [
    "#проверяем, что находится в столбце с годом выпуска перед изменением типа данных\n",
    "data['year_of_release'].unique()"
   ]
  },
  {
   "cell_type": "markdown",
   "metadata": {},
   "source": [
    "Со значениями все в порядке, можно поменять тип:"
   ]
  },
  {
   "cell_type": "code",
   "execution_count": 18,
   "metadata": {},
   "outputs": [],
   "source": [
    "#меняем тип на int:\n",
    "data['year_of_release'] = data['year_of_release'].astype('int')"
   ]
  },
  {
   "cell_type": "code",
   "execution_count": 19,
   "metadata": {},
   "outputs": [
    {
     "data": {
      "text/plain": [
       "array([2006, 1985, 2008, 2009, 1996, 1989, 1984, 2005, 1999, 2007, 2010,\n",
       "       2013, 2004, 1990, 1988, 2002, 2001, 2011, 1998, 2015, 2012, 2014,\n",
       "       1992, 1997, 1993, 1994, 1982, 2016, 2003, 1986, 2000, 1995, 1991,\n",
       "       1981, 1987, 1980, 1983])"
      ]
     },
     "execution_count": 19,
     "metadata": {},
     "output_type": "execute_result"
    }
   ],
   "source": [
    "#проверяем, что все ок\n",
    "data['year_of_release'].unique()"
   ]
  },
  {
   "cell_type": "code",
   "execution_count": 20,
   "metadata": {},
   "outputs": [
    {
     "data": {
      "text/plain": [
       "array(['8', nan, '8.3', '8.5', '6.6', '8.4', '8.6', '7.7', '6.3', '7.4',\n",
       "       '8.2', '9', '7.9', '8.1', '8.7', '7.1', '3.4', '5.3', '4.8', '3.2',\n",
       "       '8.9', '6.4', '7.8', '7.5', '2.6', '7.2', '9.2', '7', '7.3', '4.3',\n",
       "       '7.6', '5.7', '5', '9.1', '6.5', 'tbd', '8.8', '6.9', '9.4', '6.8',\n",
       "       '6.1', '6.7', '5.4', '4', '4.9', '4.5', '9.3', '6.2', '4.2', '6',\n",
       "       '3.7', '4.1', '5.8', '5.6', '5.5', '4.4', '4.6', '5.9', '3.9',\n",
       "       '3.1', '2.9', '5.2', '3.3', '4.7', '5.1', '3.5', '2.5', '1.9', '3',\n",
       "       '2.7', '2.2', '2', '9.5', '2.1', '3.6', '2.8', '1.8', '3.8', '0',\n",
       "       '1.6', '9.6', '2.4', '1.7', '1.1', '0.3', '1.5', '0.7', '1.2',\n",
       "       '2.3', '0.5', '1.3', '0.2', '0.6', '1.4', '0.9', '1', '9.7'],\n",
       "      dtype=object)"
      ]
     },
     "execution_count": 20,
     "metadata": {},
     "output_type": "execute_result"
    }
   ],
   "source": [
    "#проверяем, что находится в столбце с рейтингом пользователей перед изменением типа данных\n",
    "data['user_score'].unique()"
   ]
  },
  {
   "cell_type": "markdown",
   "metadata": {},
   "source": [
    "Как и содержится в спецификации, в столбце находятся рейтинги от 0 до 10. Однако помимо NaN, есть значение \"tbd\" (= to be determined???). Опечаткой это быть не может. Скорее всего, строковое значение появилось в столбце в результате системной ошибки. Необходимо сообщить об этом и составить bug report"
   ]
  },
  {
   "cell_type": "code",
   "execution_count": 21,
   "metadata": {},
   "outputs": [
    {
     "name": "stdout",
     "output_type": "stream",
     "text": [
      "0.14449039163220628\n"
     ]
    }
   ],
   "source": [
    "#проверим, какая доля таких значений по отношению к общему количеству данных:\n",
    "print(len(data.query('user_score == \"tbd\"')) / len(data))"
   ]
  },
  {
   "cell_type": "markdown",
   "metadata": {},
   "source": [
    "Более 14%! Игнорировать или удалять такие значения точно нельзя. Заполнять значением 0 также некорректно, это может сильно исказить средние значения рейтингов. Логичнее всего расценивать это аномальное значение, как пропуск."
   ]
  },
  {
   "cell_type": "code",
   "execution_count": 22,
   "metadata": {},
   "outputs": [
    {
     "data": {
      "text/html": [
       "<div>\n",
       "<style scoped>\n",
       "    .dataframe tbody tr th:only-of-type {\n",
       "        vertical-align: middle;\n",
       "    }\n",
       "\n",
       "    .dataframe tbody tr th {\n",
       "        vertical-align: top;\n",
       "    }\n",
       "\n",
       "    .dataframe thead th {\n",
       "        text-align: right;\n",
       "    }\n",
       "</style>\n",
       "<table border=\"1\" class=\"dataframe\">\n",
       "  <thead>\n",
       "    <tr style=\"text-align: right;\">\n",
       "      <th></th>\n",
       "      <th>name</th>\n",
       "      <th>platform</th>\n",
       "      <th>year_of_release</th>\n",
       "      <th>genre</th>\n",
       "      <th>na_sales</th>\n",
       "      <th>eu_sales</th>\n",
       "      <th>jp_sales</th>\n",
       "      <th>other_sales</th>\n",
       "      <th>critic_score</th>\n",
       "      <th>user_score</th>\n",
       "      <th>rating</th>\n",
       "    </tr>\n",
       "  </thead>\n",
       "  <tbody>\n",
       "    <tr>\n",
       "      <th>119</th>\n",
       "      <td>Zumba Fitness</td>\n",
       "      <td>Wii</td>\n",
       "      <td>2010</td>\n",
       "      <td>Sports</td>\n",
       "      <td>3.45</td>\n",
       "      <td>2.59</td>\n",
       "      <td>0.0</td>\n",
       "      <td>0.66</td>\n",
       "      <td>NaN</td>\n",
       "      <td>tbd</td>\n",
       "      <td>E</td>\n",
       "    </tr>\n",
       "    <tr>\n",
       "      <th>301</th>\n",
       "      <td>Namco Museum: 50th Anniversary</td>\n",
       "      <td>PS2</td>\n",
       "      <td>2005</td>\n",
       "      <td>Misc</td>\n",
       "      <td>2.08</td>\n",
       "      <td>1.35</td>\n",
       "      <td>0.0</td>\n",
       "      <td>0.54</td>\n",
       "      <td>61.0</td>\n",
       "      <td>tbd</td>\n",
       "      <td>E10+</td>\n",
       "    </tr>\n",
       "    <tr>\n",
       "      <th>520</th>\n",
       "      <td>Zumba Fitness 2</td>\n",
       "      <td>Wii</td>\n",
       "      <td>2011</td>\n",
       "      <td>Sports</td>\n",
       "      <td>1.51</td>\n",
       "      <td>1.03</td>\n",
       "      <td>0.0</td>\n",
       "      <td>0.27</td>\n",
       "      <td>NaN</td>\n",
       "      <td>tbd</td>\n",
       "      <td>T</td>\n",
       "    </tr>\n",
       "    <tr>\n",
       "      <th>645</th>\n",
       "      <td>uDraw Studio</td>\n",
       "      <td>Wii</td>\n",
       "      <td>2010</td>\n",
       "      <td>Misc</td>\n",
       "      <td>1.65</td>\n",
       "      <td>0.57</td>\n",
       "      <td>0.0</td>\n",
       "      <td>0.20</td>\n",
       "      <td>71.0</td>\n",
       "      <td>tbd</td>\n",
       "      <td>E</td>\n",
       "    </tr>\n",
       "    <tr>\n",
       "      <th>718</th>\n",
       "      <td>Just Dance Kids</td>\n",
       "      <td>Wii</td>\n",
       "      <td>2010</td>\n",
       "      <td>Misc</td>\n",
       "      <td>1.52</td>\n",
       "      <td>0.54</td>\n",
       "      <td>0.0</td>\n",
       "      <td>0.18</td>\n",
       "      <td>NaN</td>\n",
       "      <td>tbd</td>\n",
       "      <td>E</td>\n",
       "    </tr>\n",
       "  </tbody>\n",
       "</table>\n",
       "</div>"
      ],
      "text/plain": [
       "                               name platform  year_of_release   genre  \\\n",
       "119                   Zumba Fitness      Wii             2010  Sports   \n",
       "301  Namco Museum: 50th Anniversary      PS2             2005    Misc   \n",
       "520                 Zumba Fitness 2      Wii             2011  Sports   \n",
       "645                    uDraw Studio      Wii             2010    Misc   \n",
       "718                 Just Dance Kids      Wii             2010    Misc   \n",
       "\n",
       "     na_sales  eu_sales  jp_sales  other_sales  critic_score user_score rating  \n",
       "119      3.45      2.59       0.0         0.66           NaN        tbd      E  \n",
       "301      2.08      1.35       0.0         0.54          61.0        tbd   E10+  \n",
       "520      1.51      1.03       0.0         0.27           NaN        tbd      T  \n",
       "645      1.65      0.57       0.0         0.20          71.0        tbd      E  \n",
       "718      1.52      0.54       0.0         0.18           NaN        tbd      E  "
      ]
     },
     "execution_count": 22,
     "metadata": {},
     "output_type": "execute_result"
    }
   ],
   "source": [
    "#посмотрим, что это за строки\n",
    "data.query('user_score == \"tbd\"').head(5)"
   ]
  },
  {
   "cell_type": "markdown",
   "metadata": {},
   "source": [
    "Все данные в столбцах различаются, какой-то закономерности появления аномального значения в пользовательском рейтинге нет, скорее всего, это техническая ошибка. Переведем аномальные значения к NaN и изменим тип данных в поле"
   ]
  },
  {
   "cell_type": "code",
   "execution_count": 23,
   "metadata": {},
   "outputs": [],
   "source": [
    "#с помощью оператора to_numeric меняем тип, атрибут errors = 'coerce' принудительно проставит NaN в аномалиях\n",
    "data['user_score'] = pd.to_numeric(data['user_score'], errors = 'coerce')"
   ]
  },
  {
   "cell_type": "code",
   "execution_count": 24,
   "metadata": {},
   "outputs": [
    {
     "data": {
      "text/plain": [
       "array([8. , nan, 8.3, 8.5, 6.6, 8.4, 8.6, 7.7, 6.3, 7.4, 8.2, 9. , 7.9,\n",
       "       8.1, 8.7, 7.1, 3.4, 5.3, 4.8, 3.2, 8.9, 6.4, 7.8, 7.5, 2.6, 7.2,\n",
       "       9.2, 7. , 7.3, 4.3, 7.6, 5.7, 5. , 9.1, 6.5, 8.8, 6.9, 9.4, 6.8,\n",
       "       6.1, 6.7, 5.4, 4. , 4.9, 4.5, 9.3, 6.2, 4.2, 6. , 3.7, 4.1, 5.8,\n",
       "       5.6, 5.5, 4.4, 4.6, 5.9, 3.9, 3.1, 2.9, 5.2, 3.3, 4.7, 5.1, 3.5,\n",
       "       2.5, 1.9, 3. , 2.7, 2.2, 2. , 9.5, 2.1, 3.6, 2.8, 1.8, 3.8, 0. ,\n",
       "       1.6, 9.6, 2.4, 1.7, 1.1, 0.3, 1.5, 0.7, 1.2, 2.3, 0.5, 1.3, 0.2,\n",
       "       0.6, 1.4, 0.9, 1. , 9.7])"
      ]
     },
     "execution_count": 24,
     "metadata": {},
     "output_type": "execute_result"
    }
   ],
   "source": [
    "#проверяем, что аномалии больше нет\n",
    "data['user_score'].unique()"
   ]
  },
  {
   "cell_type": "code",
   "execution_count": 25,
   "metadata": {},
   "outputs": [
    {
     "name": "stdout",
     "output_type": "stream",
     "text": [
      "<class 'pandas.core.frame.DataFrame'>\n",
      "Int64Index: 16444 entries, 0 to 16714\n",
      "Data columns (total 11 columns):\n",
      " #   Column           Non-Null Count  Dtype  \n",
      "---  ------           --------------  -----  \n",
      " 0   name             16444 non-null  object \n",
      " 1   platform         16444 non-null  object \n",
      " 2   year_of_release  16444 non-null  int64  \n",
      " 3   genre            16444 non-null  object \n",
      " 4   na_sales         16444 non-null  float64\n",
      " 5   eu_sales         16444 non-null  float64\n",
      " 6   jp_sales         16444 non-null  float64\n",
      " 7   other_sales      16444 non-null  float64\n",
      " 8   critic_score     7983 non-null   float64\n",
      " 9   user_score       7463 non-null   float64\n",
      " 10  rating           16444 non-null  object \n",
      "dtypes: float64(6), int64(1), object(4)\n",
      "memory usage: 1.5+ MB\n"
     ]
    }
   ],
   "source": [
    "#проверяем, что все типы данных корректные\n",
    "data.info()"
   ]
  },
  {
   "cell_type": "markdown",
   "metadata": {},
   "source": [
    "#### Проверка аномалий и неявных дубликатов "
   ]
  },
  {
   "cell_type": "code",
   "execution_count": 26,
   "metadata": {},
   "outputs": [
    {
     "data": {
      "text/plain": [
       "array(['Wii Sports', 'Super Mario Bros.', 'Mario Kart Wii', ...,\n",
       "       'Woody Woodpecker in Crazy Castle 5', 'LMA Manager 2007',\n",
       "       'Haitaka no Psychedelica'], dtype=object)"
      ]
     },
     "execution_count": 26,
     "metadata": {},
     "output_type": "execute_result"
    }
   ],
   "source": [
    "#посмотрим на значения в названиях игр\n",
    "data['name'].unique()"
   ]
  },
  {
   "cell_type": "markdown",
   "metadata": {},
   "source": [
    "Названий в столбце очень много, присутствуют символы как в верхнем, так и в нижнем регистре. А это говорит о том, что потенциально могут возникнуть неявные дубликаты. Проверить вручную этот объем не представляется возможным, поэтому чтобы избавиться от дубликатов, приведем все названия игр к верхнему регистру, после проверки остальных столбцов выполним удаление дубликатов, если они имеются"
   ]
  },
  {
   "cell_type": "code",
   "execution_count": 27,
   "metadata": {},
   "outputs": [],
   "source": [
    "data['name'] = data['name'].str.upper()"
   ]
  },
  {
   "cell_type": "code",
   "execution_count": 28,
   "metadata": {},
   "outputs": [
    {
     "data": {
      "text/plain": [
       "array(['Wii', 'NES', 'GB', 'DS', 'X360', 'PS3', 'PS2', 'SNES', 'GBA',\n",
       "       'PS4', '3DS', 'N64', 'PS', 'XB', 'PC', '2600', 'PSP', 'XOne',\n",
       "       'WiiU', 'GC', 'GEN', 'DC', 'PSV', 'SAT', 'SCD', 'WS', 'NG', 'TG16',\n",
       "       '3DO', 'GG', 'PCFX'], dtype=object)"
      ]
     },
     "execution_count": 28,
     "metadata": {},
     "output_type": "execute_result"
    }
   ],
   "source": [
    "#проверим значения в столбце с платформами\n",
    "data['platform'].unique()"
   ]
  },
  {
   "cell_type": "code",
   "execution_count": 29,
   "metadata": {},
   "outputs": [
    {
     "data": {
      "text/plain": [
       "array(['Sports', 'Platform', 'Racing', 'Role-Playing', 'Puzzle', 'Misc',\n",
       "       'Shooter', 'Simulation', 'Action', 'Fighting', 'Adventure',\n",
       "       'Strategy'], dtype=object)"
      ]
     },
     "execution_count": 29,
     "metadata": {},
     "output_type": "execute_result"
    }
   ],
   "source": [
    "#проверим значения в столбце с жанрами\n",
    "data['genre'].unique()"
   ]
  },
  {
   "cell_type": "code",
   "execution_count": 30,
   "metadata": {},
   "outputs": [
    {
     "name": "stdout",
     "output_type": "stream",
     "text": [
      "0.0 41.36\n"
     ]
    }
   ],
   "source": [
    "#проверим, что в продажах нет отрицательных значений, выведем минимум и максимум по столбцу\n",
    "print(data['na_sales'].min(), data['na_sales'].max())"
   ]
  },
  {
   "cell_type": "code",
   "execution_count": 31,
   "metadata": {},
   "outputs": [
    {
     "name": "stdout",
     "output_type": "stream",
     "text": [
      "0.0 28.96\n"
     ]
    }
   ],
   "source": [
    "#проверим, что в продажах нет отрицательных значений, выведем минимум и максимум по столбцу\n",
    "print(data['eu_sales'].min(), data['eu_sales'].max())"
   ]
  },
  {
   "cell_type": "code",
   "execution_count": 32,
   "metadata": {},
   "outputs": [
    {
     "name": "stdout",
     "output_type": "stream",
     "text": [
      "0.0 10.22\n"
     ]
    }
   ],
   "source": [
    "#проверим, что в продажах нет отрицательных значений, выведем минимум и максимум по столбцу\n",
    "print(data['jp_sales'].min(), data['jp_sales'].max())"
   ]
  },
  {
   "cell_type": "code",
   "execution_count": 33,
   "metadata": {},
   "outputs": [
    {
     "name": "stdout",
     "output_type": "stream",
     "text": [
      "0.0 10.57\n"
     ]
    }
   ],
   "source": [
    "#проверим, что в продажах нет отрицательных значений, выведем минимум и максимум по столбцу\n",
    "print(data['other_sales'].min(), data['other_sales'].max())"
   ]
  },
  {
   "cell_type": "code",
   "execution_count": 34,
   "metadata": {},
   "outputs": [
    {
     "data": {
      "text/plain": [
       "array([76., nan, 82., 80., 89., 58., 87., 91., 61., 97., 95., 77., 88.,\n",
       "       83., 94., 93., 85., 86., 98., 96., 90., 84., 73., 74., 78., 92.,\n",
       "       71., 72., 68., 62., 49., 67., 81., 66., 56., 79., 70., 59., 64.,\n",
       "       75., 60., 63., 69., 50., 25., 42., 44., 55., 48., 57., 29., 47.,\n",
       "       65., 54., 20., 53., 37., 38., 33., 52., 30., 32., 43., 45., 51.,\n",
       "       40., 46., 39., 34., 41., 36., 31., 27., 35., 26., 19., 28., 23.,\n",
       "       24., 21., 17., 13.])"
      ]
     },
     "execution_count": 34,
     "metadata": {},
     "output_type": "execute_result"
    }
   ],
   "source": [
    "#проверим значения в столбце с рейтингами критиков\n",
    "data['critic_score'].unique()"
   ]
  },
  {
   "cell_type": "code",
   "execution_count": 35,
   "metadata": {},
   "outputs": [
    {
     "data": {
      "text/plain": [
       "array(['E', 'Unknown', 'M', 'T', 'E10+', 'K-A', 'AO', 'EC', 'RP'],\n",
       "      dtype=object)"
      ]
     },
     "execution_count": 35,
     "metadata": {},
     "output_type": "execute_result"
    }
   ],
   "source": [
    "#проверим значения в столбце с рейтингами ESRB\n",
    "data['rating'].unique()"
   ]
  },
  {
   "cell_type": "markdown",
   "metadata": {},
   "source": [
    "Проверим, с какой частотой встречаются различные виды значений рейтинга ESRB:"
   ]
  },
  {
   "cell_type": "code",
   "execution_count": 36,
   "metadata": {},
   "outputs": [
    {
     "data": {
      "text/plain": [
       "Unknown    6676\n",
       "E          3921\n",
       "T          2905\n",
       "M          1536\n",
       "E10+       1393\n",
       "EC            8\n",
       "K-A           3\n",
       "AO            1\n",
       "RP            1\n",
       "Name: rating, dtype: int64"
      ]
     },
     "execution_count": 36,
     "metadata": {},
     "output_type": "execute_result"
    }
   ],
   "source": [
    "data['rating'].value_counts()"
   ]
  },
  {
   "cell_type": "markdown",
   "metadata": {},
   "source": [
    "Рейтинг RP, AO проставлен только у одной игры, K-A - у трех. Думаю, что это очень редкие рейтинги, доля их пренебрежимо мала в общем объеме данных, можно исключить их из анализа"
   ]
  },
  {
   "cell_type": "code",
   "execution_count": 37,
   "metadata": {},
   "outputs": [],
   "source": [
    "data = data.loc[(data['rating'] != 'K-A') & (data['rating'] != 'AO') & (data['rating'] != 'RP')]"
   ]
  },
  {
   "cell_type": "code",
   "execution_count": 38,
   "metadata": {},
   "outputs": [
    {
     "data": {
      "text/plain": [
       "array(['E', 'Unknown', 'M', 'T', 'E10+', 'EC'], dtype=object)"
      ]
     },
     "execution_count": 38,
     "metadata": {},
     "output_type": "execute_result"
    }
   ],
   "source": [
    "#смотрим, что получилось\n",
    "data['rating'].unique()"
   ]
  },
  {
   "cell_type": "markdown",
   "metadata": {},
   "source": [
    "Теперь проверим на наличие дубликатов:"
   ]
  },
  {
   "cell_type": "code",
   "execution_count": 39,
   "metadata": {},
   "outputs": [
    {
     "data": {
      "text/plain": [
       "0"
      ]
     },
     "execution_count": 39,
     "metadata": {},
     "output_type": "execute_result"
    }
   ],
   "source": [
    "data.duplicated().sum() "
   ]
  },
  {
   "cell_type": "code",
   "execution_count": 40,
   "metadata": {},
   "outputs": [
    {
     "name": "stdout",
     "output_type": "stream",
     "text": [
      "1.65 % строк удалено\n"
     ]
    }
   ],
   "source": [
    "print(round((data_old - data.shape[0]) / data_old * 100, 2), '% строк удалено')"
   ]
  },
  {
   "cell_type": "markdown",
   "metadata": {},
   "source": [
    " *Таким образом, в ходе предобработки данных были изменены типы и названия столбцов, обработаны аномалии в столбце с пользовательским рейтингом. Аномалий в данных больше не выявлено, дубликатов также нет. Удалено 1.65% строк.*"
   ]
  },
  {
   "cell_type": "markdown",
   "metadata": {},
   "source": [
    "#### Подсчет общей суммы продаж по регионам "
   ]
  },
  {
   "cell_type": "code",
   "execution_count": 41,
   "metadata": {},
   "outputs": [
    {
     "data": {
      "text/html": [
       "<div>\n",
       "<style scoped>\n",
       "    .dataframe tbody tr th:only-of-type {\n",
       "        vertical-align: middle;\n",
       "    }\n",
       "\n",
       "    .dataframe tbody tr th {\n",
       "        vertical-align: top;\n",
       "    }\n",
       "\n",
       "    .dataframe thead th {\n",
       "        text-align: right;\n",
       "    }\n",
       "</style>\n",
       "<table border=\"1\" class=\"dataframe\">\n",
       "  <thead>\n",
       "    <tr style=\"text-align: right;\">\n",
       "      <th></th>\n",
       "      <th>name</th>\n",
       "      <th>platform</th>\n",
       "      <th>year_of_release</th>\n",
       "      <th>genre</th>\n",
       "      <th>na_sales</th>\n",
       "      <th>eu_sales</th>\n",
       "      <th>jp_sales</th>\n",
       "      <th>other_sales</th>\n",
       "      <th>critic_score</th>\n",
       "      <th>user_score</th>\n",
       "      <th>rating</th>\n",
       "      <th>total_sales</th>\n",
       "    </tr>\n",
       "  </thead>\n",
       "  <tbody>\n",
       "    <tr>\n",
       "      <th>0</th>\n",
       "      <td>WII SPORTS</td>\n",
       "      <td>Wii</td>\n",
       "      <td>2006</td>\n",
       "      <td>Sports</td>\n",
       "      <td>41.36</td>\n",
       "      <td>28.96</td>\n",
       "      <td>3.77</td>\n",
       "      <td>8.45</td>\n",
       "      <td>76.0</td>\n",
       "      <td>8.0</td>\n",
       "      <td>E</td>\n",
       "      <td>82.54</td>\n",
       "    </tr>\n",
       "    <tr>\n",
       "      <th>1</th>\n",
       "      <td>SUPER MARIO BROS.</td>\n",
       "      <td>NES</td>\n",
       "      <td>1985</td>\n",
       "      <td>Platform</td>\n",
       "      <td>29.08</td>\n",
       "      <td>3.58</td>\n",
       "      <td>6.81</td>\n",
       "      <td>0.77</td>\n",
       "      <td>NaN</td>\n",
       "      <td>NaN</td>\n",
       "      <td>Unknown</td>\n",
       "      <td>40.24</td>\n",
       "    </tr>\n",
       "    <tr>\n",
       "      <th>2</th>\n",
       "      <td>MARIO KART WII</td>\n",
       "      <td>Wii</td>\n",
       "      <td>2008</td>\n",
       "      <td>Racing</td>\n",
       "      <td>15.68</td>\n",
       "      <td>12.76</td>\n",
       "      <td>3.79</td>\n",
       "      <td>3.29</td>\n",
       "      <td>82.0</td>\n",
       "      <td>8.3</td>\n",
       "      <td>E</td>\n",
       "      <td>35.52</td>\n",
       "    </tr>\n",
       "    <tr>\n",
       "      <th>3</th>\n",
       "      <td>WII SPORTS RESORT</td>\n",
       "      <td>Wii</td>\n",
       "      <td>2009</td>\n",
       "      <td>Sports</td>\n",
       "      <td>15.61</td>\n",
       "      <td>10.93</td>\n",
       "      <td>3.28</td>\n",
       "      <td>2.95</td>\n",
       "      <td>80.0</td>\n",
       "      <td>8.0</td>\n",
       "      <td>E</td>\n",
       "      <td>32.77</td>\n",
       "    </tr>\n",
       "    <tr>\n",
       "      <th>4</th>\n",
       "      <td>POKEMON RED/POKEMON BLUE</td>\n",
       "      <td>GB</td>\n",
       "      <td>1996</td>\n",
       "      <td>Role-Playing</td>\n",
       "      <td>11.27</td>\n",
       "      <td>8.89</td>\n",
       "      <td>10.22</td>\n",
       "      <td>1.00</td>\n",
       "      <td>NaN</td>\n",
       "      <td>NaN</td>\n",
       "      <td>Unknown</td>\n",
       "      <td>31.38</td>\n",
       "    </tr>\n",
       "  </tbody>\n",
       "</table>\n",
       "</div>"
      ],
      "text/plain": [
       "                       name platform  year_of_release         genre  na_sales  \\\n",
       "0                WII SPORTS      Wii             2006        Sports     41.36   \n",
       "1         SUPER MARIO BROS.      NES             1985      Platform     29.08   \n",
       "2            MARIO KART WII      Wii             2008        Racing     15.68   \n",
       "3         WII SPORTS RESORT      Wii             2009        Sports     15.61   \n",
       "4  POKEMON RED/POKEMON BLUE       GB             1996  Role-Playing     11.27   \n",
       "\n",
       "   eu_sales  jp_sales  other_sales  critic_score  user_score   rating  \\\n",
       "0     28.96      3.77         8.45          76.0         8.0        E   \n",
       "1      3.58      6.81         0.77           NaN         NaN  Unknown   \n",
       "2     12.76      3.79         3.29          82.0         8.3        E   \n",
       "3     10.93      3.28         2.95          80.0         8.0        E   \n",
       "4      8.89     10.22         1.00           NaN         NaN  Unknown   \n",
       "\n",
       "   total_sales  \n",
       "0        82.54  \n",
       "1        40.24  \n",
       "2        35.52  \n",
       "3        32.77  \n",
       "4        31.38  "
      ]
     },
     "execution_count": 41,
     "metadata": {},
     "output_type": "execute_result"
    }
   ],
   "source": [
    "#добавим столбец с общей суммой продаж:\n",
    "data['total_sales'] = data[['na_sales','eu_sales','jp_sales', 'other_sales']].sum(axis = 1)\n",
    "\n",
    "#посмотрим, что получилось:\n",
    "data.head(5)"
   ]
  },
  {
   "cell_type": "markdown",
   "metadata": {},
   "source": [
    "### Исследовательский анализ данных "
   ]
  },
  {
   "cell_type": "markdown",
   "metadata": {},
   "source": [
    "#### Выпуск игр по годам "
   ]
  },
  {
   "cell_type": "markdown",
   "metadata": {},
   "source": [
    "Посчитаем, какое количество игр выпускалось в каждом году:"
   ]
  },
  {
   "cell_type": "code",
   "execution_count": 42,
   "metadata": {},
   "outputs": [
    {
     "data": {
      "text/html": [
       "<div>\n",
       "<style scoped>\n",
       "    .dataframe tbody tr th:only-of-type {\n",
       "        vertical-align: middle;\n",
       "    }\n",
       "\n",
       "    .dataframe tbody tr th {\n",
       "        vertical-align: top;\n",
       "    }\n",
       "\n",
       "    .dataframe thead th {\n",
       "        text-align: right;\n",
       "    }\n",
       "</style>\n",
       "<table border=\"1\" class=\"dataframe\">\n",
       "  <thead>\n",
       "    <tr style=\"text-align: right;\">\n",
       "      <th></th>\n",
       "      <th>count</th>\n",
       "    </tr>\n",
       "    <tr>\n",
       "      <th>year_of_release</th>\n",
       "      <th></th>\n",
       "    </tr>\n",
       "  </thead>\n",
       "  <tbody>\n",
       "    <tr>\n",
       "      <th>1980</th>\n",
       "      <td>9</td>\n",
       "    </tr>\n",
       "    <tr>\n",
       "      <th>1981</th>\n",
       "      <td>46</td>\n",
       "    </tr>\n",
       "    <tr>\n",
       "      <th>1982</th>\n",
       "      <td>36</td>\n",
       "    </tr>\n",
       "    <tr>\n",
       "      <th>1983</th>\n",
       "      <td>17</td>\n",
       "    </tr>\n",
       "    <tr>\n",
       "      <th>1984</th>\n",
       "      <td>14</td>\n",
       "    </tr>\n",
       "    <tr>\n",
       "      <th>1985</th>\n",
       "      <td>14</td>\n",
       "    </tr>\n",
       "    <tr>\n",
       "      <th>1986</th>\n",
       "      <td>21</td>\n",
       "    </tr>\n",
       "    <tr>\n",
       "      <th>1987</th>\n",
       "      <td>16</td>\n",
       "    </tr>\n",
       "    <tr>\n",
       "      <th>1988</th>\n",
       "      <td>15</td>\n",
       "    </tr>\n",
       "    <tr>\n",
       "      <th>1989</th>\n",
       "      <td>17</td>\n",
       "    </tr>\n",
       "    <tr>\n",
       "      <th>1990</th>\n",
       "      <td>16</td>\n",
       "    </tr>\n",
       "    <tr>\n",
       "      <th>1991</th>\n",
       "      <td>41</td>\n",
       "    </tr>\n",
       "    <tr>\n",
       "      <th>1992</th>\n",
       "      <td>43</td>\n",
       "    </tr>\n",
       "    <tr>\n",
       "      <th>1993</th>\n",
       "      <td>60</td>\n",
       "    </tr>\n",
       "    <tr>\n",
       "      <th>1994</th>\n",
       "      <td>121</td>\n",
       "    </tr>\n",
       "    <tr>\n",
       "      <th>1995</th>\n",
       "      <td>219</td>\n",
       "    </tr>\n",
       "    <tr>\n",
       "      <th>1996</th>\n",
       "      <td>262</td>\n",
       "    </tr>\n",
       "    <tr>\n",
       "      <th>1997</th>\n",
       "      <td>287</td>\n",
       "    </tr>\n",
       "    <tr>\n",
       "      <th>1998</th>\n",
       "      <td>379</td>\n",
       "    </tr>\n",
       "    <tr>\n",
       "      <th>1999</th>\n",
       "      <td>338</td>\n",
       "    </tr>\n",
       "    <tr>\n",
       "      <th>2000</th>\n",
       "      <td>350</td>\n",
       "    </tr>\n",
       "    <tr>\n",
       "      <th>2001</th>\n",
       "      <td>482</td>\n",
       "    </tr>\n",
       "    <tr>\n",
       "      <th>2002</th>\n",
       "      <td>829</td>\n",
       "    </tr>\n",
       "    <tr>\n",
       "      <th>2003</th>\n",
       "      <td>775</td>\n",
       "    </tr>\n",
       "    <tr>\n",
       "      <th>2004</th>\n",
       "      <td>762</td>\n",
       "    </tr>\n",
       "    <tr>\n",
       "      <th>2005</th>\n",
       "      <td>938</td>\n",
       "    </tr>\n",
       "    <tr>\n",
       "      <th>2006</th>\n",
       "      <td>1006</td>\n",
       "    </tr>\n",
       "    <tr>\n",
       "      <th>2007</th>\n",
       "      <td>1197</td>\n",
       "    </tr>\n",
       "    <tr>\n",
       "      <th>2008</th>\n",
       "      <td>1427</td>\n",
       "    </tr>\n",
       "    <tr>\n",
       "      <th>2009</th>\n",
       "      <td>1426</td>\n",
       "    </tr>\n",
       "    <tr>\n",
       "      <th>2010</th>\n",
       "      <td>1255</td>\n",
       "    </tr>\n",
       "    <tr>\n",
       "      <th>2011</th>\n",
       "      <td>1135</td>\n",
       "    </tr>\n",
       "    <tr>\n",
       "      <th>2012</th>\n",
       "      <td>653</td>\n",
       "    </tr>\n",
       "    <tr>\n",
       "      <th>2013</th>\n",
       "      <td>544</td>\n",
       "    </tr>\n",
       "    <tr>\n",
       "      <th>2014</th>\n",
       "      <td>581</td>\n",
       "    </tr>\n",
       "    <tr>\n",
       "      <th>2015</th>\n",
       "      <td>606</td>\n",
       "    </tr>\n",
       "    <tr>\n",
       "      <th>2016</th>\n",
       "      <td>502</td>\n",
       "    </tr>\n",
       "  </tbody>\n",
       "</table>\n",
       "</div>"
      ],
      "text/plain": [
       "                 count\n",
       "year_of_release       \n",
       "1980                 9\n",
       "1981                46\n",
       "1982                36\n",
       "1983                17\n",
       "1984                14\n",
       "1985                14\n",
       "1986                21\n",
       "1987                16\n",
       "1988                15\n",
       "1989                17\n",
       "1990                16\n",
       "1991                41\n",
       "1992                43\n",
       "1993                60\n",
       "1994               121\n",
       "1995               219\n",
       "1996               262\n",
       "1997               287\n",
       "1998               379\n",
       "1999               338\n",
       "2000               350\n",
       "2001               482\n",
       "2002               829\n",
       "2003               775\n",
       "2004               762\n",
       "2005               938\n",
       "2006              1006\n",
       "2007              1197\n",
       "2008              1427\n",
       "2009              1426\n",
       "2010              1255\n",
       "2011              1135\n",
       "2012               653\n",
       "2013               544\n",
       "2014               581\n",
       "2015               606\n",
       "2016               502"
      ]
     },
     "execution_count": 42,
     "metadata": {},
     "output_type": "execute_result"
    }
   ],
   "source": [
    "#создаем сводную таблицу с группировкой по годам\n",
    "data_year = data.pivot_table(index = 'year_of_release', values=['name'],aggfunc=['count'])\n",
    "#для красоты меняем название столбца\n",
    "data_year.columns = ['count']\n",
    "#смотрим, что получилось\n",
    "data_year"
   ]
  },
  {
   "cell_type": "code",
   "execution_count": 43,
   "metadata": {},
   "outputs": [
    {
     "data": {
      "image/png": "[encoded data removed]",
      "text/plain": [
       "<Figure size 720x360 with 1 Axes>"
      ]
     },
     "metadata": {
      "needs_background": "light"
     },
     "output_type": "display_data"
    }
   ],
   "source": [
    "#а теперь построим столбчатую диаграмму для визуализации полученных результатов\n",
    "(\n",
    "    data_year\n",
    "    .plot(y = 'count', \n",
    "          kind = 'bar', \n",
    "          grid = True, \n",
    "          figsize = (10, 5), \n",
    "          title = 'Выпуск игр по годам',\n",
    "          xlabel = 'Годы',\n",
    "          ylabel = 'Кол-во игр'\n",
    "         )\n",
    ");\n"
   ]
  },
  {
   "cell_type": "markdown",
   "metadata": {},
   "source": [
    "Полученная гистограмма показывает, что до 1994 года игр выпускалось довольно мало. Рост этой индустрии начался с 1995 года, а в 2008-2009 годах было создано рекордное количество - около 1500 новых игр. Затем рост сменился падением. С 2012 по 2016 год ситуация в игровой индустрии стабилизировалась, динамические росты и падения сменились небольшими колебаниями около средней цифры в 500 игр. Таким образом, более информативный характер будут иметь данные о выпуске игр, начиная с 1994 года"
   ]
  },
  {
   "cell_type": "markdown",
   "metadata": {},
   "source": []
  },
  {
   "cell_type": "markdown",
   "metadata": {},
   "source": [
    "#### Исследование продаж по платформам "
   ]
  },
  {
   "cell_type": "markdown",
   "metadata": {},
   "source": [
    "Изучим продажи по разным платформам. Для этого построим сводную таблицу, в которой будут суммироваться продажи игр с группировкой по платформам"
   ]
  },
  {
   "cell_type": "code",
   "execution_count": 44,
   "metadata": {},
   "outputs": [
    {
     "data": {
      "text/html": [
       "<div>\n",
       "<style scoped>\n",
       "    .dataframe tbody tr th:only-of-type {\n",
       "        vertical-align: middle;\n",
       "    }\n",
       "\n",
       "    .dataframe tbody tr th {\n",
       "        vertical-align: top;\n",
       "    }\n",
       "\n",
       "    .dataframe thead th {\n",
       "        text-align: right;\n",
       "    }\n",
       "</style>\n",
       "<table border=\"1\" class=\"dataframe\">\n",
       "  <thead>\n",
       "    <tr style=\"text-align: right;\">\n",
       "      <th></th>\n",
       "      <th>total_sales</th>\n",
       "    </tr>\n",
       "    <tr>\n",
       "      <th>platform</th>\n",
       "      <th></th>\n",
       "    </tr>\n",
       "  </thead>\n",
       "  <tbody>\n",
       "    <tr>\n",
       "      <th>PS2</th>\n",
       "      <td>1233.56</td>\n",
       "    </tr>\n",
       "    <tr>\n",
       "      <th>X360</th>\n",
       "      <td>961.24</td>\n",
       "    </tr>\n",
       "    <tr>\n",
       "      <th>PS3</th>\n",
       "      <td>931.34</td>\n",
       "    </tr>\n",
       "    <tr>\n",
       "      <th>Wii</th>\n",
       "      <td>891.18</td>\n",
       "    </tr>\n",
       "    <tr>\n",
       "      <th>DS</th>\n",
       "      <td>802.78</td>\n",
       "    </tr>\n",
       "    <tr>\n",
       "      <th>PS</th>\n",
       "      <td>725.67</td>\n",
       "    </tr>\n",
       "    <tr>\n",
       "      <th>PS4</th>\n",
       "      <td>314.14</td>\n",
       "    </tr>\n",
       "    <tr>\n",
       "      <th>GBA</th>\n",
       "      <td>312.88</td>\n",
       "    </tr>\n",
       "    <tr>\n",
       "      <th>PSP</th>\n",
       "      <td>289.53</td>\n",
       "    </tr>\n",
       "    <tr>\n",
       "      <th>3DS</th>\n",
       "      <td>257.81</td>\n",
       "    </tr>\n",
       "    <tr>\n",
       "      <th>GB</th>\n",
       "      <td>254.43</td>\n",
       "    </tr>\n",
       "    <tr>\n",
       "      <th>PC</th>\n",
       "      <td>253.31</td>\n",
       "    </tr>\n",
       "    <tr>\n",
       "      <th>NES</th>\n",
       "      <td>251.05</td>\n",
       "    </tr>\n",
       "    <tr>\n",
       "      <th>XB</th>\n",
       "      <td>249.61</td>\n",
       "    </tr>\n",
       "    <tr>\n",
       "      <th>N64</th>\n",
       "      <td>218.01</td>\n",
       "    </tr>\n",
       "    <tr>\n",
       "      <th>SNES</th>\n",
       "      <td>200.04</td>\n",
       "    </tr>\n",
       "    <tr>\n",
       "      <th>GC</th>\n",
       "      <td>196.73</td>\n",
       "    </tr>\n",
       "    <tr>\n",
       "      <th>XOne</th>\n",
       "      <td>159.32</td>\n",
       "    </tr>\n",
       "    <tr>\n",
       "      <th>2600</th>\n",
       "      <td>86.48</td>\n",
       "    </tr>\n",
       "    <tr>\n",
       "      <th>WiiU</th>\n",
       "      <td>82.19</td>\n",
       "    </tr>\n",
       "    <tr>\n",
       "      <th>PSV</th>\n",
       "      <td>53.81</td>\n",
       "    </tr>\n",
       "    <tr>\n",
       "      <th>SAT</th>\n",
       "      <td>33.59</td>\n",
       "    </tr>\n",
       "    <tr>\n",
       "      <th>GEN</th>\n",
       "      <td>28.35</td>\n",
       "    </tr>\n",
       "    <tr>\n",
       "      <th>DC</th>\n",
       "      <td>15.95</td>\n",
       "    </tr>\n",
       "    <tr>\n",
       "      <th>SCD</th>\n",
       "      <td>1.86</td>\n",
       "    </tr>\n",
       "    <tr>\n",
       "      <th>NG</th>\n",
       "      <td>1.44</td>\n",
       "    </tr>\n",
       "    <tr>\n",
       "      <th>WS</th>\n",
       "      <td>1.42</td>\n",
       "    </tr>\n",
       "    <tr>\n",
       "      <th>TG16</th>\n",
       "      <td>0.16</td>\n",
       "    </tr>\n",
       "    <tr>\n",
       "      <th>3DO</th>\n",
       "      <td>0.10</td>\n",
       "    </tr>\n",
       "    <tr>\n",
       "      <th>GG</th>\n",
       "      <td>0.04</td>\n",
       "    </tr>\n",
       "    <tr>\n",
       "      <th>PCFX</th>\n",
       "      <td>0.03</td>\n",
       "    </tr>\n",
       "  </tbody>\n",
       "</table>\n",
       "</div>"
      ],
      "text/plain": [
       "          total_sales\n",
       "platform             \n",
       "PS2           1233.56\n",
       "X360           961.24\n",
       "PS3            931.34\n",
       "Wii            891.18\n",
       "DS             802.78\n",
       "PS             725.67\n",
       "PS4            314.14\n",
       "GBA            312.88\n",
       "PSP            289.53\n",
       "3DS            257.81\n",
       "GB             254.43\n",
       "PC             253.31\n",
       "NES            251.05\n",
       "XB             249.61\n",
       "N64            218.01\n",
       "SNES           200.04\n",
       "GC             196.73\n",
       "XOne           159.32\n",
       "2600            86.48\n",
       "WiiU            82.19\n",
       "PSV             53.81\n",
       "SAT             33.59\n",
       "GEN             28.35\n",
       "DC              15.95\n",
       "SCD              1.86\n",
       "NG               1.44\n",
       "WS               1.42\n",
       "TG16             0.16\n",
       "3DO              0.10\n",
       "GG               0.04\n",
       "PCFX             0.03"
      ]
     },
     "execution_count": 44,
     "metadata": {},
     "output_type": "execute_result"
    }
   ],
   "source": [
    "#строим сводную таблицу, данные в столбцах с суммой продаж суммируем\n",
    "data_platform = data.pivot_table(index = ['platform'], values=['total_sales'],aggfunc='sum')\n",
    "\n",
    "#меняем название столбцов для красоты\n",
    "data_platform.columns = ['total_sales']\n",
    "\n",
    "#сортируем таблицу по значению общих продаж по всем регионам\n",
    "data_platform = data_platform.sort_values(by = 'total_sales', ascending = False)\n",
    "data_platform"
   ]
  },
  {
   "cell_type": "markdown",
   "metadata": {},
   "source": [
    "Выберем наиболее популярные платформы и построим их распределение по годам. Думаю, что логично выбрать топ-10 самых продаваемых платформ"
   ]
  },
  {
   "cell_type": "code",
   "execution_count": 45,
   "metadata": {},
   "outputs": [
    {
     "data": {
      "image/png": "[encoded data removed]",
      "text/plain": [
       "<Figure size 1008x504 with 1 Axes>"
      ]
     },
     "metadata": {
      "needs_background": "light"
     },
     "output_type": "display_data"
    }
   ],
   "source": [
    "#запишем в переменную первые 10 платформ с самыми большими продажами\n",
    "top10 = data_platform.head(10).index\n",
    "#строим линейный график по каждой платформе\n",
    "(data.query('platform in @top10')\n",
    "    .pivot_table(index = 'year_of_release', columns = 'platform', values = 'total_sales', aggfunc = 'sum')\n",
    "    .plot( \n",
    "            linewidth=5,\n",
    "            alpha=0.7,\n",
    "            grid=True,    \n",
    "            legend=True,\n",
    "            title='График изменения продаж платформ по годам',\n",
    "            figsize = (14,7))\n",
    ");\n"
   ]
  },
  {
   "cell_type": "markdown",
   "metadata": {},
   "source": [
    "Полученные графики иллюстрируют, что платформы, как правило, популярны в среднем течении 5 лет, а затем спрос на них падает, и они исчезают. Поэтому для прогнозирования продаж на 2017 год подойдут данные за последние 4 года, данные за 2016 год сохраним."
   ]
  },
  {
   "cell_type": "markdown",
   "metadata": {},
   "source": [
    "#### Прогноз популярных платформ в 2017 году "
   ]
  },
  {
   "cell_type": "code",
   "execution_count": 46,
   "metadata": {},
   "outputs": [],
   "source": [
    "#выбираем данные по играм за последние 5 лет\n",
    "data_actual = data.query('year_of_release >= 2014')\n"
   ]
  },
  {
   "cell_type": "code",
   "execution_count": 47,
   "metadata": {},
   "outputs": [
    {
     "data": {
      "image/png": "[encoded data removed]",
      "text/plain": [
       "<Figure size 720x360 with 1 Axes>"
      ]
     },
     "metadata": {
      "needs_background": "light"
     },
     "output_type": "display_data"
    }
   ],
   "source": [
    "#cтроим линейный график по полученным результатам\n",
    "(\n",
    "    data_actual\n",
    "        .pivot_table(index = 'year_of_release', columns = 'platform', values = 'total_sales', aggfunc = 'sum')\n",
    "        .plot( \n",
    "            linewidth=5,\n",
    "            alpha=0.7,\n",
    "            grid=True,    \n",
    "            legend=True,\n",
    "            title='График изменения продаж платформ за последние 4 года',\n",
    "            figsize = (10,5))\n",
    ");"
   ]
  },
  {
   "cell_type": "markdown",
   "metadata": {},
   "source": [
    " По графику видно, что на 2016 год в фазе роста нет ни одной платформы. Лидером по продажам является PS4. В продажах платформ PSV, PC, PS3, X360, WiiU, Wii сильно стагнируют, продажи стремятся к нулю. Даже несмотря на то, что данные за 2016 год могут быть неполными, общий тренд графиков - спад. Из имеющихся платформ наиболее перспективными являются PS4, XOne и 3DS "
   ]
  },
  {
   "cell_type": "markdown",
   "metadata": {},
   "source": [
    "Построим \"ящик с усами\" по глобальным продажам игр в разбивке по платформам:"
   ]
  },
  {
   "cell_type": "code",
   "execution_count": 48,
   "metadata": {},
   "outputs": [
    {
     "data": {
      "image/png": "[encoded data removed]",
      "text/plain": [
       "<Figure size 720x360 with 1 Axes>"
      ]
     },
     "metadata": {
      "needs_background": "light"
     },
     "output_type": "display_data"
    }
   ],
   "source": [
    "(data_actual\n",
    "        .pivot_table(index = 'year_of_release', columns = 'platform', values = 'total_sales', aggfunc = 'sum')\n",
    "        .plot( \n",
    "            kind = 'box',\n",
    "            title='\"Ящик с усами\" по платформам',\n",
    "            ylabel = 'total_sales',\n",
    "            figsize = (10,5))\n",
    ");\n"
   ]
  },
  {
   "cell_type": "markdown",
   "metadata": {},
   "source": [
    "Из графика видно, что размах цифр глобальных продаж у разных платформ сильно отличается. У платформы PS4 и PS3 он самый большой, однако существуют платформы с очень узким размахом, например, Wii и PC. Медианное значение продаж, в основном, у платформ не смещено, находится на серединной позиции, за исключением WiiU, X360, Wii, PS3, у этих платформ оно сильно смещено. "
   ]
  },
  {
   "cell_type": "markdown",
   "metadata": {},
   "source": [
    "#### Влияние рейтингов критиков и пользователей на продажи по платформе "
   ]
  },
  {
   "cell_type": "markdown",
   "metadata": {},
   "source": [
    "Для изучения влияния отзывов пользователей и критиков на продажи возьмем данные о продажах самой популярной платформы. Лидером по продажам, как было выявлено ранее, является платформа PS2"
   ]
  },
  {
   "cell_type": "code",
   "execution_count": 49,
   "metadata": {},
   "outputs": [
    {
     "data": {
      "text/html": [
       "<style  type=\"text/css\" >\n",
       "#T_80847_row0_col0,#T_80847_row1_col1,#T_80847_row2_col2{\n",
       "            background-color:  #b40426;\n",
       "            color:  #f1f1f1;\n",
       "        }#T_80847_row0_col1,#T_80847_row0_col2,#T_80847_row2_col0{\n",
       "            background-color:  #3b4cc0;\n",
       "            color:  #f1f1f1;\n",
       "        }#T_80847_row1_col0{\n",
       "            background-color:  #92b4fe;\n",
       "            color:  #000000;\n",
       "        }#T_80847_row1_col2{\n",
       "            background-color:  #d6dce4;\n",
       "            color:  #000000;\n",
       "        }#T_80847_row2_col1{\n",
       "            background-color:  #9abbff;\n",
       "            color:  #000000;\n",
       "        }</style><table id=\"T_80847_\" ><thead>    <tr>        <th class=\"blank level0\" ></th>        <th class=\"col_heading level0 col0\" >total_sales</th>        <th class=\"col_heading level0 col1\" >critic_score</th>        <th class=\"col_heading level0 col2\" >user_score</th>    </tr></thead><tbody>\n",
       "                <tr>\n",
       "                        <th id=\"T_80847_level0_row0\" class=\"row_heading level0 row0\" >total_sales</th>\n",
       "                        <td id=\"T_80847_row0_col0\" class=\"data row0 col0\" >1.000000</td>\n",
       "                        <td id=\"T_80847_row0_col1\" class=\"data row0 col1\" >0.392536</td>\n",
       "                        <td id=\"T_80847_row0_col2\" class=\"data row0 col2\" >0.175055</td>\n",
       "            </tr>\n",
       "            <tr>\n",
       "                        <th id=\"T_80847_level0_row1\" class=\"row_heading level0 row1\" >critic_score</th>\n",
       "                        <td id=\"T_80847_row1_col0\" class=\"data row1 col0\" >0.392536</td>\n",
       "                        <td id=\"T_80847_row1_col1\" class=\"data row1 col1\" >1.000000</td>\n",
       "                        <td id=\"T_80847_row1_col2\" class=\"data row1 col2\" >0.565841</td>\n",
       "            </tr>\n",
       "            <tr>\n",
       "                        <th id=\"T_80847_level0_row2\" class=\"row_heading level0 row2\" >user_score</th>\n",
       "                        <td id=\"T_80847_row2_col0\" class=\"data row2 col0\" >0.175055</td>\n",
       "                        <td id=\"T_80847_row2_col1\" class=\"data row2 col1\" >0.565841</td>\n",
       "                        <td id=\"T_80847_row2_col2\" class=\"data row2 col2\" >1.000000</td>\n",
       "            </tr>\n",
       "    </tbody></table>"
      ],
      "text/plain": [
       "<pandas.io.formats.style.Styler at 0x7f7cc4bbca60>"
      ]
     },
     "execution_count": 49,
     "metadata": {},
     "output_type": "execute_result"
    }
   ],
   "source": [
    "#перечень нужных столбцов записываем в переменную\n",
    "numeric_col = ['total_sales', 'critic_score', 'user_score']\n",
    "#с помощью метода corr() находим коэффициент корреляции внутри платформы PS2\n",
    "corr = data.loc[(data['platform'] == 'PS2'), numeric_col].corr()\n",
    "#раскрашиваем ячейки для большей наглядности\n",
    "corr.style.background_gradient(cmap='coolwarm')"
   ]
  },
  {
   "cell_type": "markdown",
   "metadata": {},
   "source": [
    "Полученный коэффициент корреляции Пирсона между продажами и рейтингом критиков составляет 0.39. Это говорит о наличии умеренной положительной связи. То есть при повышении рейтинга в незначительной степени повышаются продажи игры. Вычисленный коэффициент корреляции для пользовательского рейтинга и продаж составляет 0.18, что свидетельствует о слабой связи, либо зависимость между этими величинами носит более сложный, нелинейный характер."
   ]
  },
  {
   "cell_type": "code",
   "execution_count": 50,
   "metadata": {},
   "outputs": [
    {
     "data": {
      "image/png": "[encoded data removed]",
      "text/plain": [
       "<Figure size 720x504 with 1 Axes>"
      ]
     },
     "metadata": {
      "needs_background": "light"
     },
     "output_type": "display_data"
    }
   ],
   "source": [
    "#строим диаграмму рассеяния с помощью библиотеки seaborn\n",
    "fig = plt.figure(figsize=(10,7));\n",
    "sb.regplot(x=data['total_sales'], y=data['user_score'],color='magenta', marker='+');\n",
    "\n",
    "\n",
    "#Легенда, заголовок и подписи осей\n",
    "plt.title('Зависимость между продажами и пользовательским рейтингом', size=18);\n",
    "plt.xlabel('Продажи, млн.копий', size=14);\n",
    "plt.ylabel('Рейтинг', size=14);"
   ]
  },
  {
   "cell_type": "code",
   "execution_count": 51,
   "metadata": {},
   "outputs": [
    {
     "data": {
      "image/png": "[encoded data removed]",
      "text/plain": [
       "<Figure size 720x504 with 1 Axes>"
      ]
     },
     "metadata": {
      "needs_background": "light"
     },
     "output_type": "display_data"
    }
   ],
   "source": [
    "#строим диаграмму рассеяния с помощью библиотеки seaborn\n",
    "fig = plt.figure(figsize=(10,7));\n",
    "sb.regplot(x=data['total_sales'],y=data['critic_score'],color='blue', marker='+');\n",
    "\n",
    "\n",
    "#Легенда, заголовок и подписи осей\n",
    "plt.title('Зависимость между продажами и рейтингом критиков', size=18);\n",
    "plt.xlabel('Продажи, млн.копий', size=14);\n",
    "plt.ylabel('Рейтинг', size=14);"
   ]
  },
  {
   "cell_type": "markdown",
   "metadata": {},
   "source": [
    "Получившееся облако не имеет наклона ни вверх, ни вниз, что как раз является показателем слабой связи. "
   ]
  },
  {
   "cell_type": "markdown",
   "metadata": {},
   "source": [
    "Попробуем посчитать коэффициент Пирсона для данных показателей в масштабах продаж по всем платформам:"
   ]
  },
  {
   "cell_type": "code",
   "execution_count": 52,
   "metadata": {},
   "outputs": [
    {
     "data": {
      "text/html": [
       "<style  type=\"text/css\" >\n",
       "#T_69b53_row0_col0,#T_69b53_row1_col1,#T_69b53_row2_col2{\n",
       "            background-color:  #b40426;\n",
       "            color:  #f1f1f1;\n",
       "        }#T_69b53_row0_col1,#T_69b53_row0_col2,#T_69b53_row2_col0{\n",
       "            background-color:  #3b4cc0;\n",
       "            color:  #f1f1f1;\n",
       "        }#T_69b53_row1_col0{\n",
       "            background-color:  #7295f4;\n",
       "            color:  #000000;\n",
       "        }#T_69b53_row1_col2{\n",
       "            background-color:  #e7d7ce;\n",
       "            color:  #000000;\n",
       "        }#T_69b53_row2_col1{\n",
       "            background-color:  #cdd9ec;\n",
       "            color:  #000000;\n",
       "        }</style><table id=\"T_69b53_\" ><thead>    <tr>        <th class=\"blank level0\" ></th>        <th class=\"col_heading level0 col0\" >total_sales</th>        <th class=\"col_heading level0 col1\" >critic_score</th>        <th class=\"col_heading level0 col2\" >user_score</th>    </tr></thead><tbody>\n",
       "                <tr>\n",
       "                        <th id=\"T_69b53_level0_row0\" class=\"row_heading level0 row0\" >total_sales</th>\n",
       "                        <td id=\"T_69b53_row0_col0\" class=\"data row0 col0\" >1.000000</td>\n",
       "                        <td id=\"T_69b53_row0_col1\" class=\"data row0 col1\" >0.245149</td>\n",
       "                        <td id=\"T_69b53_row0_col2\" class=\"data row0 col2\" >0.087789</td>\n",
       "            </tr>\n",
       "            <tr>\n",
       "                        <th id=\"T_69b53_level0_row1\" class=\"row_heading level0 row1\" >critic_score</th>\n",
       "                        <td id=\"T_69b53_row1_col0\" class=\"data row1 col0\" >0.245149</td>\n",
       "                        <td id=\"T_69b53_row1_col1\" class=\"data row1 col1\" >1.000000</td>\n",
       "                        <td id=\"T_69b53_row1_col2\" class=\"data row1 col2\" >0.579655</td>\n",
       "            </tr>\n",
       "            <tr>\n",
       "                        <th id=\"T_69b53_level0_row2\" class=\"row_heading level0 row2\" >user_score</th>\n",
       "                        <td id=\"T_69b53_row2_col0\" class=\"data row2 col0\" >0.087789</td>\n",
       "                        <td id=\"T_69b53_row2_col1\" class=\"data row2 col1\" >0.579655</td>\n",
       "                        <td id=\"T_69b53_row2_col2\" class=\"data row2 col2\" >1.000000</td>\n",
       "            </tr>\n",
       "    </tbody></table>"
      ],
      "text/plain": [
       "<pandas.io.formats.style.Styler at 0x7f7cbef47e50>"
      ]
     },
     "execution_count": 52,
     "metadata": {},
     "output_type": "execute_result"
    }
   ],
   "source": [
    "#считаем коэффициент корреляции по всем строкам, для 3 столбцов\n",
    "corr = data.loc[:, numeric_col].corr()\n",
    "#раскрашиваем ячейки для большей наглядности\n",
    "corr.style.background_gradient(cmap='coolwarm')"
   ]
  },
  {
   "cell_type": "markdown",
   "metadata": {},
   "source": [
    "*Полученные коэффициенты корреляции еще более низкие в масштабе всех платформ. Таким образом, зависимость продаж от рейтинга критиков и пользователей не подтвеждается. Однако желательно провести повторный анализ на более репрезентативной выборке.*"
   ]
  },
  {
   "cell_type": "markdown",
   "metadata": {},
   "source": [
    "#### Изучение зависимости между продажами и рейтингом ESRB "
   ]
  },
  {
   "cell_type": "markdown",
   "metadata": {},
   "source": [
    "Проведем анализ, существует ли какая-либо закономерность между значениями рейтинга ESRB и продажами игры. Поскольку это категориальная переменная, вычислить коэффициент корреляции не получится. Найдем суммарные продажи по каждому виду рейтинга:"
   ]
  },
  {
   "cell_type": "code",
   "execution_count": 53,
   "metadata": {},
   "outputs": [
    {
     "data": {
      "text/html": [
       "<div>\n",
       "<style scoped>\n",
       "    .dataframe tbody tr th:only-of-type {\n",
       "        vertical-align: middle;\n",
       "    }\n",
       "\n",
       "    .dataframe tbody tr th {\n",
       "        vertical-align: top;\n",
       "    }\n",
       "\n",
       "    .dataframe thead th {\n",
       "        text-align: right;\n",
       "    }\n",
       "</style>\n",
       "<table border=\"1\" class=\"dataframe\">\n",
       "  <thead>\n",
       "    <tr style=\"text-align: right;\">\n",
       "      <th></th>\n",
       "      <th>mean_sales</th>\n",
       "      <th>total_sales</th>\n",
       "      <th>share,%</th>\n",
       "    </tr>\n",
       "    <tr>\n",
       "      <th>rating</th>\n",
       "      <th></th>\n",
       "      <th></th>\n",
       "      <th></th>\n",
       "    </tr>\n",
       "  </thead>\n",
       "  <tbody>\n",
       "    <tr>\n",
       "      <th>Unknown</th>\n",
       "      <td>0.422723</td>\n",
       "      <td>2822.10</td>\n",
       "      <td>32.0</td>\n",
       "    </tr>\n",
       "    <tr>\n",
       "      <th>E</th>\n",
       "      <td>0.614030</td>\n",
       "      <td>2407.61</td>\n",
       "      <td>27.0</td>\n",
       "    </tr>\n",
       "    <tr>\n",
       "      <th>M</th>\n",
       "      <td>0.952168</td>\n",
       "      <td>1462.53</td>\n",
       "      <td>17.0</td>\n",
       "    </tr>\n",
       "    <tr>\n",
       "      <th>T</th>\n",
       "      <td>0.507084</td>\n",
       "      <td>1473.08</td>\n",
       "      <td>17.0</td>\n",
       "    </tr>\n",
       "    <tr>\n",
       "      <th>E10+</th>\n",
       "      <td>0.460144</td>\n",
       "      <td>640.98</td>\n",
       "      <td>7.0</td>\n",
       "    </tr>\n",
       "    <tr>\n",
       "      <th>EC</th>\n",
       "      <td>0.218750</td>\n",
       "      <td>1.75</td>\n",
       "      <td>0.0</td>\n",
       "    </tr>\n",
       "  </tbody>\n",
       "</table>\n",
       "</div>"
      ],
      "text/plain": [
       "         mean_sales  total_sales  share,%\n",
       "rating                                   \n",
       "Unknown    0.422723      2822.10     32.0\n",
       "E          0.614030      2407.61     27.0\n",
       "M          0.952168      1462.53     17.0\n",
       "T          0.507084      1473.08     17.0\n",
       "E10+       0.460144       640.98      7.0\n",
       "EC         0.218750         1.75      0.0"
      ]
     },
     "metadata": {},
     "output_type": "display_data"
    }
   ],
   "source": [
    "data_rating = data.pivot_table(index = ['rating'], values=['total_sales'], aggfunc=['mean','sum'])\n",
    "#меняем название столбцов для красоты\n",
    "data_rating.columns = ['mean_sales', 'total_sales']\n",
    "#записываем в переменную общую сумму продаж\n",
    "total = data['total_sales'].sum()\n",
    "#добавляем столбец с долей продаж\n",
    "data_rating['share,%'] = round(data_rating['total_sales'] / total, 2) * 100\n",
    "\n",
    "display(data_rating.sort_values(by = 'share,%', ascending = False))"
   ]
  },
  {
   "cell_type": "code",
   "execution_count": 54,
   "metadata": {},
   "outputs": [
    {
     "data": {
      "image/png": "[encoded data removed]",
      "text/plain": [
       "<Figure size 720x360 with 2 Axes>"
      ]
     },
     "metadata": {
      "needs_background": "light"
     },
     "output_type": "display_data"
    }
   ],
   "source": [
    "fig, axes = plt.subplots(1, 2, sharex=True, figsize=(10,5));\n",
    "fig.suptitle('Зависимость между продажами и рейтингом ESRB', fontsize=15);\n",
    "                    \n",
    "axes[0].set_title('Суммарные продажи игр по рейтингу ESRB');  \n",
    "axes[0].set_xlabel('Рейтинг');\n",
    "axes[0].set_ylabel('Суммарные продажи, млн.копий');\n",
    "axes[0].grid(True);\n",
    "sb.barplot(ax=axes[0], x=data_rating.index, y=data_rating['total_sales']);\n",
    "\n",
    "sb.barplot(ax=axes[1], x=data_rating.index, y=data_rating['mean_sales']);\n",
    "axes[1].set_title('Средние продажи игр по рейтингу ESRB');\n",
    "axes[1].set_xlabel('Рейтинг');\n",
    "axes[1].set_ylabel('Средние продажи, млн.копий');\n",
    "axes[1].grid(True);\n"
   ]
  },
  {
   "cell_type": "markdown",
   "metadata": {},
   "source": [
    "*В зависимости от того, по какой сумме продаж сравнивать рейтинги, мы получаем очень противоречивые данные. Если судить по суммарным продажам, то лидируют игры без указания рейтинга, затем рейтинг E, T и М. Но если посчитать средние продажи по рейтингу, то самый большой показатель здесь у рейтинга M, затем E и потом T. \n",
    "Значения рейтингов: Е - everyone (для всех), T - teenagers (подростки от 13 и выше), M - mature (от 17 и взрослее).*"
   ]
  },
  {
   "cell_type": "markdown",
   "metadata": {},
   "source": [
    "#### Влияние жанров игр на продажи "
   ]
  },
  {
   "cell_type": "code",
   "execution_count": 55,
   "metadata": {},
   "outputs": [
    {
     "data": {
      "text/html": [
       "<div>\n",
       "<style scoped>\n",
       "    .dataframe tbody tr th:only-of-type {\n",
       "        vertical-align: middle;\n",
       "    }\n",
       "\n",
       "    .dataframe tbody tr th {\n",
       "        vertical-align: top;\n",
       "    }\n",
       "\n",
       "    .dataframe thead th {\n",
       "        text-align: right;\n",
       "    }\n",
       "</style>\n",
       "<table border=\"1\" class=\"dataframe\">\n",
       "  <thead>\n",
       "    <tr style=\"text-align: right;\">\n",
       "      <th></th>\n",
       "      <th>mean_sales</th>\n",
       "      <th>total_sales</th>\n",
       "      <th>share,%</th>\n",
       "    </tr>\n",
       "    <tr>\n",
       "      <th>genre</th>\n",
       "      <th></th>\n",
       "      <th></th>\n",
       "      <th></th>\n",
       "    </tr>\n",
       "  </thead>\n",
       "  <tbody>\n",
       "    <tr>\n",
       "      <th>Platform</th>\n",
       "      <td>0.940262</td>\n",
       "      <td>825.55</td>\n",
       "      <td>9.0</td>\n",
       "    </tr>\n",
       "    <tr>\n",
       "      <th>Shooter</th>\n",
       "      <td>0.803519</td>\n",
       "      <td>1041.36</td>\n",
       "      <td>12.0</td>\n",
       "    </tr>\n",
       "    <tr>\n",
       "      <th>Role-Playing</th>\n",
       "      <td>0.628683</td>\n",
       "      <td>931.08</td>\n",
       "      <td>11.0</td>\n",
       "    </tr>\n",
       "    <tr>\n",
       "      <th>Racing</th>\n",
       "      <td>0.590122</td>\n",
       "      <td>723.49</td>\n",
       "      <td>8.0</td>\n",
       "    </tr>\n",
       "    <tr>\n",
       "      <th>Sports</th>\n",
       "      <td>0.567940</td>\n",
       "      <td>1309.67</td>\n",
       "      <td>15.0</td>\n",
       "    </tr>\n",
       "    <tr>\n",
       "      <th>Fighting</th>\n",
       "      <td>0.528865</td>\n",
       "      <td>442.66</td>\n",
       "      <td>5.0</td>\n",
       "    </tr>\n",
       "    <tr>\n",
       "      <th>Action</th>\n",
       "      <td>0.518621</td>\n",
       "      <td>1714.56</td>\n",
       "      <td>19.0</td>\n",
       "    </tr>\n",
       "    <tr>\n",
       "      <th>Misc</th>\n",
       "      <td>0.458360</td>\n",
       "      <td>788.38</td>\n",
       "      <td>9.0</td>\n",
       "    </tr>\n",
       "    <tr>\n",
       "      <th>Simulation</th>\n",
       "      <td>0.452695</td>\n",
       "      <td>387.96</td>\n",
       "      <td>4.0</td>\n",
       "    </tr>\n",
       "    <tr>\n",
       "      <th>Puzzle</th>\n",
       "      <td>0.421599</td>\n",
       "      <td>239.89</td>\n",
       "      <td>3.0</td>\n",
       "    </tr>\n",
       "    <tr>\n",
       "      <th>Strategy</th>\n",
       "      <td>0.253910</td>\n",
       "      <td>170.12</td>\n",
       "      <td>2.0</td>\n",
       "    </tr>\n",
       "    <tr>\n",
       "      <th>Adventure</th>\n",
       "      <td>0.180456</td>\n",
       "      <td>233.33</td>\n",
       "      <td>3.0</td>\n",
       "    </tr>\n",
       "  </tbody>\n",
       "</table>\n",
       "</div>"
      ],
      "text/plain": [
       "              mean_sales  total_sales  share,%\n",
       "genre                                         \n",
       "Platform        0.940262       825.55      9.0\n",
       "Shooter         0.803519      1041.36     12.0\n",
       "Role-Playing    0.628683       931.08     11.0\n",
       "Racing          0.590122       723.49      8.0\n",
       "Sports          0.567940      1309.67     15.0\n",
       "Fighting        0.528865       442.66      5.0\n",
       "Action          0.518621      1714.56     19.0\n",
       "Misc            0.458360       788.38      9.0\n",
       "Simulation      0.452695       387.96      4.0\n",
       "Puzzle          0.421599       239.89      3.0\n",
       "Strategy        0.253910       170.12      2.0\n",
       "Adventure       0.180456       233.33      3.0"
      ]
     },
     "metadata": {},
     "output_type": "display_data"
    }
   ],
   "source": [
    "#строим сводную таблицу, данные в столбцах с суммой продаж суммируем\n",
    "data_genre = data.pivot_table(index = ['genre'], values=['total_sales'], aggfunc=['mean', 'sum'])\n",
    "\n",
    "#меняем название столбцов для красоты\n",
    "data_genre.columns = ['mean_sales', 'total_sales']\n",
    "#добавляем столбец с долей\n",
    "data_genre['share,%'] = round(data_genre['total_sales'] / total, 2) * 100\n",
    "#сортируем таблицу по значению средних продаж по всем регионам\n",
    "data_genre = data_genre.sort_values(by = ['mean_sales'], ascending = False)\n",
    "display(data_genre)"
   ]
  },
  {
   "cell_type": "code",
   "execution_count": 56,
   "metadata": {},
   "outputs": [
    {
     "data": {
      "image/png": "[encoded data removed]",
      "text/plain": [
       "<Figure size 720x360 with 1 Axes>"
      ]
     },
     "metadata": {
      "needs_background": "light"
     },
     "output_type": "display_data"
    }
   ],
   "source": [
    "#построим столбчатую гистограмму, чтобы визуализировать полученный результат\n",
    "(\n",
    "    data_genre\n",
    "    .plot(y = 'mean_sales', \n",
    "          kind = 'bar', \n",
    "          grid = True, \n",
    "          figsize = (10, 5), \n",
    "          title = 'Продажа игр по жанрам',\n",
    "          xlabel = 'Жанры',\n",
    "          ylabel = 'Средние продажи, млн.копий',\n",
    "          color = 'purple'\n",
    "         )\n",
    ");\n"
   ]
  },
  {
   "cell_type": "markdown",
   "metadata": {},
   "source": [
    "*Итак, если сравнить игровые жанры по средней выручке, то в ТОП-5 самых прибыльных вошли жанры Platform, Shooter, Role_playing, Racing, Sports. При этом стоит заметить, что у Platform, лидера по средним продажам, доля в общих продажах всего 9%, такая же невысокая доля у Racing - всего 8%. Жанр Action, не вошедший в пятерку по средним продажам, занимает самую высокую долю - 19% продаж*"
   ]
  },
  {
   "cell_type": "markdown",
   "metadata": {},
   "source": [
    "### Портрет пользователя по каждому региону "
   ]
  },
  {
   "cell_type": "markdown",
   "metadata": {},
   "source": [
    "#### Топ-5 самых популярных платформ, жанров и рейтингов в регионах "
   ]
  },
  {
   "cell_type": "markdown",
   "metadata": {},
   "source": [
    "Определим, какие платформы самые популярные в Северной Америке (NA), Европе (EU) и Японии (JP)"
   ]
  },
  {
   "cell_type": "code",
   "execution_count": 57,
   "metadata": {},
   "outputs": [],
   "source": [
    "#создадим функцию, которая на вход будет получать датафрейм и продажи по региону, \n",
    "#а на выходе возвращать сводную таблицу, отсортированную по убыванию значений\n",
    "def region_portrait(rowdata, sales,  total, pivot_ind):\n",
    "    data_portrait = rowdata.pivot_table(index = pivot_ind, values=sales, aggfunc=['sum', 'mean'])\n",
    "    data_portrait.columns = ['total_sales', 'mean_sales']\n",
    "    data_portrait['mean_sales'] = round(data_portrait['mean_sales'], 2)\n",
    "    data_portrait['share_of_sales, %'] = round(data_portrait['total_sales'] / total, 2)\n",
    "    data_portrait = data_portrait.sort_values(by = 'share_of_sales, %', ascending = False)\n",
    "\n",
    "    return data_portrait.head(5)\n"
   ]
  },
  {
   "cell_type": "code",
   "execution_count": 58,
   "metadata": {},
   "outputs": [
    {
     "name": "stdout",
     "output_type": "stream",
     "text": [
      "ТОП-5 самых популярных платформ\n"
     ]
    },
    {
     "data": {
      "text/html": [
       "<div>\n",
       "<style scoped>\n",
       "    .dataframe tbody tr th:only-of-type {\n",
       "        vertical-align: middle;\n",
       "    }\n",
       "\n",
       "    .dataframe tbody tr th {\n",
       "        vertical-align: top;\n",
       "    }\n",
       "\n",
       "    .dataframe thead th {\n",
       "        text-align: right;\n",
       "    }\n",
       "</style>\n",
       "<table border=\"1\" class=\"dataframe\">\n",
       "  <thead>\n",
       "    <tr style=\"text-align: right;\">\n",
       "      <th></th>\n",
       "      <th>total_sales</th>\n",
       "      <th>mean_sales</th>\n",
       "      <th>share_of_sales, %</th>\n",
       "    </tr>\n",
       "    <tr>\n",
       "      <th>platform</th>\n",
       "      <th></th>\n",
       "      <th></th>\n",
       "      <th></th>\n",
       "    </tr>\n",
       "  </thead>\n",
       "  <tbody>\n",
       "    <tr>\n",
       "      <th>X360</th>\n",
       "      <td>595.74</td>\n",
       "      <td>0.48</td>\n",
       "      <td>0.14</td>\n",
       "    </tr>\n",
       "    <tr>\n",
       "      <th>PS2</th>\n",
       "      <td>572.92</td>\n",
       "      <td>0.27</td>\n",
       "      <td>0.13</td>\n",
       "    </tr>\n",
       "    <tr>\n",
       "      <th>Wii</th>\n",
       "      <td>486.87</td>\n",
       "      <td>0.38</td>\n",
       "      <td>0.11</td>\n",
       "    </tr>\n",
       "    <tr>\n",
       "      <th>DS</th>\n",
       "      <td>380.31</td>\n",
       "      <td>0.18</td>\n",
       "      <td>0.09</td>\n",
       "    </tr>\n",
       "    <tr>\n",
       "      <th>PS3</th>\n",
       "      <td>390.13</td>\n",
       "      <td>0.30</td>\n",
       "      <td>0.09</td>\n",
       "    </tr>\n",
       "  </tbody>\n",
       "</table>\n",
       "</div>"
      ],
      "text/plain": [
       "          total_sales  mean_sales  share_of_sales, %\n",
       "platform                                            \n",
       "X360           595.74        0.48               0.14\n",
       "PS2            572.92        0.27               0.13\n",
       "Wii            486.87        0.38               0.11\n",
       "DS             380.31        0.18               0.09\n",
       "PS3            390.13        0.30               0.09"
      ]
     },
     "metadata": {},
     "output_type": "display_data"
    },
    {
     "name": "stdout",
     "output_type": "stream",
     "text": [
      "Распределение продаж по жанрам\n"
     ]
    },
    {
     "data": {
      "text/html": [
       "<div>\n",
       "<style scoped>\n",
       "    .dataframe tbody tr th:only-of-type {\n",
       "        vertical-align: middle;\n",
       "    }\n",
       "\n",
       "    .dataframe tbody tr th {\n",
       "        vertical-align: top;\n",
       "    }\n",
       "\n",
       "    .dataframe thead th {\n",
       "        text-align: right;\n",
       "    }\n",
       "</style>\n",
       "<table border=\"1\" class=\"dataframe\">\n",
       "  <thead>\n",
       "    <tr style=\"text-align: right;\">\n",
       "      <th></th>\n",
       "      <th>total_sales</th>\n",
       "      <th>mean_sales</th>\n",
       "      <th>share_of_sales, %</th>\n",
       "    </tr>\n",
       "    <tr>\n",
       "      <th>genre</th>\n",
       "      <th></th>\n",
       "      <th></th>\n",
       "      <th></th>\n",
       "    </tr>\n",
       "  </thead>\n",
       "  <tbody>\n",
       "    <tr>\n",
       "      <th>Action</th>\n",
       "      <td>861.91</td>\n",
       "      <td>0.26</td>\n",
       "      <td>0.20</td>\n",
       "    </tr>\n",
       "    <tr>\n",
       "      <th>Sports</th>\n",
       "      <td>671.20</td>\n",
       "      <td>0.29</td>\n",
       "      <td>0.15</td>\n",
       "    </tr>\n",
       "    <tr>\n",
       "      <th>Shooter</th>\n",
       "      <td>584.83</td>\n",
       "      <td>0.45</td>\n",
       "      <td>0.13</td>\n",
       "    </tr>\n",
       "    <tr>\n",
       "      <th>Platform</th>\n",
       "      <td>444.44</td>\n",
       "      <td>0.51</td>\n",
       "      <td>0.10</td>\n",
       "    </tr>\n",
       "    <tr>\n",
       "      <th>Misc</th>\n",
       "      <td>399.31</td>\n",
       "      <td>0.23</td>\n",
       "      <td>0.09</td>\n",
       "    </tr>\n",
       "  </tbody>\n",
       "</table>\n",
       "</div>"
      ],
      "text/plain": [
       "          total_sales  mean_sales  share_of_sales, %\n",
       "genre                                               \n",
       "Action         861.91        0.26               0.20\n",
       "Sports         671.20        0.29               0.15\n",
       "Shooter        584.83        0.45               0.13\n",
       "Platform       444.44        0.51               0.10\n",
       "Misc           399.31        0.23               0.09"
      ]
     },
     "metadata": {},
     "output_type": "display_data"
    },
    {
     "name": "stdout",
     "output_type": "stream",
     "text": [
      "Распределение продаж по рейтингам\n"
     ]
    },
    {
     "data": {
      "text/html": [
       "<div>\n",
       "<style scoped>\n",
       "    .dataframe tbody tr th:only-of-type {\n",
       "        vertical-align: middle;\n",
       "    }\n",
       "\n",
       "    .dataframe tbody tr th {\n",
       "        vertical-align: top;\n",
       "    }\n",
       "\n",
       "    .dataframe thead th {\n",
       "        text-align: right;\n",
       "    }\n",
       "</style>\n",
       "<table border=\"1\" class=\"dataframe\">\n",
       "  <thead>\n",
       "    <tr style=\"text-align: right;\">\n",
       "      <th></th>\n",
       "      <th>total_sales</th>\n",
       "      <th>mean_sales</th>\n",
       "      <th>share_of_sales, %</th>\n",
       "    </tr>\n",
       "    <tr>\n",
       "      <th>rating</th>\n",
       "      <th></th>\n",
       "      <th></th>\n",
       "      <th></th>\n",
       "    </tr>\n",
       "  </thead>\n",
       "  <tbody>\n",
       "    <tr>\n",
       "      <th>E</th>\n",
       "      <td>1274.24</td>\n",
       "      <td>0.32</td>\n",
       "      <td>0.29</td>\n",
       "    </tr>\n",
       "    <tr>\n",
       "      <th>Unknown</th>\n",
       "      <td>1225.84</td>\n",
       "      <td>0.18</td>\n",
       "      <td>0.28</td>\n",
       "    </tr>\n",
       "    <tr>\n",
       "      <th>M</th>\n",
       "      <td>742.89</td>\n",
       "      <td>0.48</td>\n",
       "      <td>0.17</td>\n",
       "    </tr>\n",
       "    <tr>\n",
       "      <th>T</th>\n",
       "      <td>747.60</td>\n",
       "      <td>0.26</td>\n",
       "      <td>0.17</td>\n",
       "    </tr>\n",
       "    <tr>\n",
       "      <th>E10+</th>\n",
       "      <td>345.50</td>\n",
       "      <td>0.25</td>\n",
       "      <td>0.08</td>\n",
       "    </tr>\n",
       "  </tbody>\n",
       "</table>\n",
       "</div>"
      ],
      "text/plain": [
       "         total_sales  mean_sales  share_of_sales, %\n",
       "rating                                             \n",
       "E            1274.24        0.32               0.29\n",
       "Unknown      1225.84        0.18               0.28\n",
       "M             742.89        0.48               0.17\n",
       "T             747.60        0.26               0.17\n",
       "E10+          345.50        0.25               0.08"
      ]
     },
     "metadata": {},
     "output_type": "display_data"
    }
   ],
   "source": [
    "#предварительно рассчитаем суммарные продажи по региону\n",
    "total_sum = data['na_sales'].sum()\n",
    "#вызываем функцию, указываем аргументы, выводим на экран\n",
    "#результаты вызова функции записываем в переменные, они понадобятся для дальнейшей визуализации данных\n",
    "print('ТОП-5 самых популярных платформ')\n",
    "usa1 = region_portrait(rowdata = data, sales = 'na_sales', total = total_sum, pivot_ind = 'platform' )\n",
    "display(usa1)\n",
    "\n",
    "print('Распределение продаж по жанрам')\n",
    "usa2 = region_portrait(rowdata = data, sales = 'na_sales', total = total_sum, pivot_ind = 'genre' )\n",
    "display(usa2)\n",
    "\n",
    "print('Распределение продаж по рейтингам')\n",
    "usa3 = region_portrait(rowdata = data, sales = 'na_sales', total = total_sum, pivot_ind = 'rating' )\n",
    "display(usa3)\n"
   ]
  },
  {
   "cell_type": "markdown",
   "metadata": {},
   "source": [
    "Таким образом, самыми популярными платформами (в учете по доле в общих продажах по региону) в Северной Америке являются X360, PS2, Wii, DS, PS3. В анализ также добавлено значение средней выручки по платформе, которое иллюстрирует, что у самой популярной платформы может быть не самая большая средняя выручка, например, средняя выручка по платформе Wii выше, чем у лидера X360. \n",
    "Пользователи отдают предпочтение играм жанра Action, Sports, Shooter, Platform, Misc. Здесь также наблюдается тенденция, что средняя выручка у игр не на первой позиции по доле в продажах выше. \n",
    "\n",
    "Распределение продаж по рейтингу ESRB в данном регионе: Е, игры без рейтинга, M, T, Е10+"
   ]
  },
  {
   "cell_type": "markdown",
   "metadata": {},
   "source": [
    "Повторяем предыдущие операции для региона - Европа"
   ]
  },
  {
   "cell_type": "code",
   "execution_count": 59,
   "metadata": {},
   "outputs": [
    {
     "name": "stdout",
     "output_type": "stream",
     "text": [
      "ТОП-5 самых популярных платформ\n"
     ]
    },
    {
     "data": {
      "text/html": [
       "<div>\n",
       "<style scoped>\n",
       "    .dataframe tbody tr th:only-of-type {\n",
       "        vertical-align: middle;\n",
       "    }\n",
       "\n",
       "    .dataframe tbody tr th {\n",
       "        vertical-align: top;\n",
       "    }\n",
       "\n",
       "    .dataframe thead th {\n",
       "        text-align: right;\n",
       "    }\n",
       "</style>\n",
       "<table border=\"1\" class=\"dataframe\">\n",
       "  <thead>\n",
       "    <tr style=\"text-align: right;\">\n",
       "      <th></th>\n",
       "      <th>total_sales</th>\n",
       "      <th>mean_sales</th>\n",
       "      <th>share_of_sales, %</th>\n",
       "    </tr>\n",
       "    <tr>\n",
       "      <th>platform</th>\n",
       "      <th></th>\n",
       "      <th></th>\n",
       "      <th></th>\n",
       "    </tr>\n",
       "  </thead>\n",
       "  <tbody>\n",
       "    <tr>\n",
       "      <th>PS3</th>\n",
       "      <td>327.21</td>\n",
       "      <td>0.25</td>\n",
       "      <td>0.14</td>\n",
       "    </tr>\n",
       "    <tr>\n",
       "      <th>PS2</th>\n",
       "      <td>332.63</td>\n",
       "      <td>0.16</td>\n",
       "      <td>0.14</td>\n",
       "    </tr>\n",
       "    <tr>\n",
       "      <th>X360</th>\n",
       "      <td>268.32</td>\n",
       "      <td>0.22</td>\n",
       "      <td>0.11</td>\n",
       "    </tr>\n",
       "    <tr>\n",
       "      <th>Wii</th>\n",
       "      <td>258.32</td>\n",
       "      <td>0.20</td>\n",
       "      <td>0.11</td>\n",
       "    </tr>\n",
       "    <tr>\n",
       "      <th>PS</th>\n",
       "      <td>212.23</td>\n",
       "      <td>0.18</td>\n",
       "      <td>0.09</td>\n",
       "    </tr>\n",
       "  </tbody>\n",
       "</table>\n",
       "</div>"
      ],
      "text/plain": [
       "          total_sales  mean_sales  share_of_sales, %\n",
       "platform                                            \n",
       "PS3            327.21        0.25               0.14\n",
       "PS2            332.63        0.16               0.14\n",
       "X360           268.32        0.22               0.11\n",
       "Wii            258.32        0.20               0.11\n",
       "PS             212.23        0.18               0.09"
      ]
     },
     "metadata": {},
     "output_type": "display_data"
    },
    {
     "name": "stdout",
     "output_type": "stream",
     "text": [
      "Распределение продаж по жанрам\n"
     ]
    },
    {
     "data": {
      "text/html": [
       "<div>\n",
       "<style scoped>\n",
       "    .dataframe tbody tr th:only-of-type {\n",
       "        vertical-align: middle;\n",
       "    }\n",
       "\n",
       "    .dataframe tbody tr th {\n",
       "        vertical-align: top;\n",
       "    }\n",
       "\n",
       "    .dataframe thead th {\n",
       "        text-align: right;\n",
       "    }\n",
       "</style>\n",
       "<table border=\"1\" class=\"dataframe\">\n",
       "  <thead>\n",
       "    <tr style=\"text-align: right;\">\n",
       "      <th></th>\n",
       "      <th>total_sales</th>\n",
       "      <th>mean_sales</th>\n",
       "      <th>share_of_sales, %</th>\n",
       "    </tr>\n",
       "    <tr>\n",
       "      <th>genre</th>\n",
       "      <th></th>\n",
       "      <th></th>\n",
       "      <th></th>\n",
       "    </tr>\n",
       "  </thead>\n",
       "  <tbody>\n",
       "    <tr>\n",
       "      <th>Action</th>\n",
       "      <td>510.38</td>\n",
       "      <td>0.15</td>\n",
       "      <td>0.21</td>\n",
       "    </tr>\n",
       "    <tr>\n",
       "      <th>Sports</th>\n",
       "      <td>371.33</td>\n",
       "      <td>0.16</td>\n",
       "      <td>0.15</td>\n",
       "    </tr>\n",
       "    <tr>\n",
       "      <th>Shooter</th>\n",
       "      <td>314.52</td>\n",
       "      <td>0.24</td>\n",
       "      <td>0.13</td>\n",
       "    </tr>\n",
       "    <tr>\n",
       "      <th>Racing</th>\n",
       "      <td>234.49</td>\n",
       "      <td>0.19</td>\n",
       "      <td>0.10</td>\n",
       "    </tr>\n",
       "    <tr>\n",
       "      <th>Misc</th>\n",
       "      <td>210.44</td>\n",
       "      <td>0.12</td>\n",
       "      <td>0.09</td>\n",
       "    </tr>\n",
       "  </tbody>\n",
       "</table>\n",
       "</div>"
      ],
      "text/plain": [
       "         total_sales  mean_sales  share_of_sales, %\n",
       "genre                                              \n",
       "Action        510.38        0.15               0.21\n",
       "Sports        371.33        0.16               0.15\n",
       "Shooter       314.52        0.24               0.13\n",
       "Racing        234.49        0.19               0.10\n",
       "Misc          210.44        0.12               0.09"
      ]
     },
     "metadata": {},
     "output_type": "display_data"
    },
    {
     "name": "stdout",
     "output_type": "stream",
     "text": [
      "Распределение продаж по рейтингам\n"
     ]
    },
    {
     "data": {
      "text/html": [
       "<div>\n",
       "<style scoped>\n",
       "    .dataframe tbody tr th:only-of-type {\n",
       "        vertical-align: middle;\n",
       "    }\n",
       "\n",
       "    .dataframe tbody tr th {\n",
       "        vertical-align: top;\n",
       "    }\n",
       "\n",
       "    .dataframe thead th {\n",
       "        text-align: right;\n",
       "    }\n",
       "</style>\n",
       "<table border=\"1\" class=\"dataframe\">\n",
       "  <thead>\n",
       "    <tr style=\"text-align: right;\">\n",
       "      <th></th>\n",
       "      <th>total_sales</th>\n",
       "      <th>mean_sales</th>\n",
       "      <th>share_of_sales, %</th>\n",
       "    </tr>\n",
       "    <tr>\n",
       "      <th>rating</th>\n",
       "      <th></th>\n",
       "      <th></th>\n",
       "      <th></th>\n",
       "    </tr>\n",
       "  </thead>\n",
       "  <tbody>\n",
       "    <tr>\n",
       "      <th>E</th>\n",
       "      <td>703.87</td>\n",
       "      <td>0.18</td>\n",
       "      <td>0.29</td>\n",
       "    </tr>\n",
       "    <tr>\n",
       "      <th>Unknown</th>\n",
       "      <td>609.65</td>\n",
       "      <td>0.09</td>\n",
       "      <td>0.25</td>\n",
       "    </tr>\n",
       "    <tr>\n",
       "      <th>M</th>\n",
       "      <td>480.00</td>\n",
       "      <td>0.31</td>\n",
       "      <td>0.20</td>\n",
       "    </tr>\n",
       "    <tr>\n",
       "      <th>T</th>\n",
       "      <td>421.79</td>\n",
       "      <td>0.15</td>\n",
       "      <td>0.18</td>\n",
       "    </tr>\n",
       "    <tr>\n",
       "      <th>E10+</th>\n",
       "      <td>183.35</td>\n",
       "      <td>0.13</td>\n",
       "      <td>0.08</td>\n",
       "    </tr>\n",
       "  </tbody>\n",
       "</table>\n",
       "</div>"
      ],
      "text/plain": [
       "         total_sales  mean_sales  share_of_sales, %\n",
       "rating                                             \n",
       "E             703.87        0.18               0.29\n",
       "Unknown       609.65        0.09               0.25\n",
       "M             480.00        0.31               0.20\n",
       "T             421.79        0.15               0.18\n",
       "E10+          183.35        0.13               0.08"
      ]
     },
     "metadata": {},
     "output_type": "display_data"
    }
   ],
   "source": [
    "#предварительно рассчитаем суммарные продажи по региону\n",
    "total_sum = data['eu_sales'].sum()\n",
    "#вызываем функцию, указываем аргументы, выводим на экран\n",
    "print('ТОП-5 самых популярных платформ')\n",
    "eu1 = region_portrait(rowdata = data, sales = 'eu_sales', total = total_sum, pivot_ind = 'platform')\n",
    "display(eu1)\n",
    "\n",
    "print('Распределение продаж по жанрам')\n",
    "eu2 = region_portrait(rowdata = data, sales = 'eu_sales', total = total_sum, pivot_ind = 'genre' )\n",
    "display(eu2)\n",
    "\n",
    "print('Распределение продаж по рейтингам')\n",
    "eu3 = region_portrait(rowdata = data, sales = 'eu_sales', total = total_sum, pivot_ind = 'rating' )\n",
    "display(eu3)\n"
   ]
  },
  {
   "cell_type": "markdown",
   "metadata": {},
   "source": [
    "Cамыми популярными платформами в Европе являются PS3, PS2, X360, Wii, PS. Пользователи отдают предпочтение играм жанра Action, Sports, Shooter, Racing, Misc. Распределение продаж по рейтингу ESRB в данном регионе: лидируют E, игры без рейтинга, M, T, Е10+. В целом, можно сказать, что игровые предпочтения в регионах Северная Америка и Европа довольно схожие."
   ]
  },
  {
   "cell_type": "markdown",
   "metadata": {},
   "source": [
    "Рассмотрим основные пользовательские характеристики для региона Япония"
   ]
  },
  {
   "cell_type": "code",
   "execution_count": 60,
   "metadata": {},
   "outputs": [
    {
     "name": "stdout",
     "output_type": "stream",
     "text": [
      "ТОП-5 самых популярных платформ\n"
     ]
    },
    {
     "data": {
      "text/html": [
       "<div>\n",
       "<style scoped>\n",
       "    .dataframe tbody tr th:only-of-type {\n",
       "        vertical-align: middle;\n",
       "    }\n",
       "\n",
       "    .dataframe tbody tr th {\n",
       "        vertical-align: top;\n",
       "    }\n",
       "\n",
       "    .dataframe thead th {\n",
       "        text-align: right;\n",
       "    }\n",
       "</style>\n",
       "<table border=\"1\" class=\"dataframe\">\n",
       "  <thead>\n",
       "    <tr style=\"text-align: right;\">\n",
       "      <th></th>\n",
       "      <th>total_sales</th>\n",
       "      <th>mean_sales</th>\n",
       "      <th>share_of_sales, %</th>\n",
       "    </tr>\n",
       "    <tr>\n",
       "      <th>platform</th>\n",
       "      <th></th>\n",
       "      <th></th>\n",
       "      <th></th>\n",
       "    </tr>\n",
       "  </thead>\n",
       "  <tbody>\n",
       "    <tr>\n",
       "      <th>DS</th>\n",
       "      <td>175.02</td>\n",
       "      <td>0.08</td>\n",
       "      <td>0.14</td>\n",
       "    </tr>\n",
       "    <tr>\n",
       "      <th>PS</th>\n",
       "      <td>138.32</td>\n",
       "      <td>0.12</td>\n",
       "      <td>0.11</td>\n",
       "    </tr>\n",
       "    <tr>\n",
       "      <th>PS2</th>\n",
       "      <td>137.54</td>\n",
       "      <td>0.06</td>\n",
       "      <td>0.11</td>\n",
       "    </tr>\n",
       "    <tr>\n",
       "      <th>SNES</th>\n",
       "      <td>116.55</td>\n",
       "      <td>0.49</td>\n",
       "      <td>0.09</td>\n",
       "    </tr>\n",
       "    <tr>\n",
       "      <th>NES</th>\n",
       "      <td>98.65</td>\n",
       "      <td>1.01</td>\n",
       "      <td>0.08</td>\n",
       "    </tr>\n",
       "  </tbody>\n",
       "</table>\n",
       "</div>"
      ],
      "text/plain": [
       "          total_sales  mean_sales  share_of_sales, %\n",
       "platform                                            \n",
       "DS             175.02        0.08               0.14\n",
       "PS             138.32        0.12               0.11\n",
       "PS2            137.54        0.06               0.11\n",
       "SNES           116.55        0.49               0.09\n",
       "NES             98.65        1.01               0.08"
      ]
     },
     "metadata": {},
     "output_type": "display_data"
    },
    {
     "name": "stdout",
     "output_type": "stream",
     "text": [
      "Распределение продаж по жанрам\n"
     ]
    },
    {
     "data": {
      "text/html": [
       "<div>\n",
       "<style scoped>\n",
       "    .dataframe tbody tr th:only-of-type {\n",
       "        vertical-align: middle;\n",
       "    }\n",
       "\n",
       "    .dataframe tbody tr th {\n",
       "        vertical-align: top;\n",
       "    }\n",
       "\n",
       "    .dataframe thead th {\n",
       "        text-align: right;\n",
       "    }\n",
       "</style>\n",
       "<table border=\"1\" class=\"dataframe\">\n",
       "  <thead>\n",
       "    <tr style=\"text-align: right;\">\n",
       "      <th></th>\n",
       "      <th>total_sales</th>\n",
       "      <th>mean_sales</th>\n",
       "      <th>share_of_sales, %</th>\n",
       "    </tr>\n",
       "    <tr>\n",
       "      <th>genre</th>\n",
       "      <th></th>\n",
       "      <th></th>\n",
       "      <th></th>\n",
       "    </tr>\n",
       "  </thead>\n",
       "  <tbody>\n",
       "    <tr>\n",
       "      <th>Role-Playing</th>\n",
       "      <td>353.39</td>\n",
       "      <td>0.24</td>\n",
       "      <td>0.27</td>\n",
       "    </tr>\n",
       "    <tr>\n",
       "      <th>Action</th>\n",
       "      <td>160.14</td>\n",
       "      <td>0.05</td>\n",
       "      <td>0.12</td>\n",
       "    </tr>\n",
       "    <tr>\n",
       "      <th>Platform</th>\n",
       "      <td>130.71</td>\n",
       "      <td>0.15</td>\n",
       "      <td>0.10</td>\n",
       "    </tr>\n",
       "    <tr>\n",
       "      <th>Sports</th>\n",
       "      <td>134.93</td>\n",
       "      <td>0.06</td>\n",
       "      <td>0.10</td>\n",
       "    </tr>\n",
       "    <tr>\n",
       "      <th>Misc</th>\n",
       "      <td>105.56</td>\n",
       "      <td>0.06</td>\n",
       "      <td>0.08</td>\n",
       "    </tr>\n",
       "  </tbody>\n",
       "</table>\n",
       "</div>"
      ],
      "text/plain": [
       "              total_sales  mean_sales  share_of_sales, %\n",
       "genre                                                   \n",
       "Role-Playing       353.39        0.24               0.27\n",
       "Action             160.14        0.05               0.12\n",
       "Platform           130.71        0.15               0.10\n",
       "Sports             134.93        0.06               0.10\n",
       "Misc               105.56        0.06               0.08"
      ]
     },
     "metadata": {},
     "output_type": "display_data"
    },
    {
     "name": "stdout",
     "output_type": "stream",
     "text": [
      "Распределение продаж по рейтингам\n"
     ]
    },
    {
     "data": {
      "text/html": [
       "<div>\n",
       "<style scoped>\n",
       "    .dataframe tbody tr th:only-of-type {\n",
       "        vertical-align: middle;\n",
       "    }\n",
       "\n",
       "    .dataframe tbody tr th {\n",
       "        vertical-align: top;\n",
       "    }\n",
       "\n",
       "    .dataframe thead th {\n",
       "        text-align: right;\n",
       "    }\n",
       "</style>\n",
       "<table border=\"1\" class=\"dataframe\">\n",
       "  <thead>\n",
       "    <tr style=\"text-align: right;\">\n",
       "      <th></th>\n",
       "      <th>total_sales</th>\n",
       "      <th>mean_sales</th>\n",
       "      <th>share_of_sales, %</th>\n",
       "    </tr>\n",
       "    <tr>\n",
       "      <th>rating</th>\n",
       "      <th></th>\n",
       "      <th></th>\n",
       "      <th></th>\n",
       "    </tr>\n",
       "  </thead>\n",
       "  <tbody>\n",
       "    <tr>\n",
       "      <th>Unknown</th>\n",
       "      <td>836.74</td>\n",
       "      <td>0.13</td>\n",
       "      <td>0.65</td>\n",
       "    </tr>\n",
       "    <tr>\n",
       "      <th>E</th>\n",
       "      <td>197.96</td>\n",
       "      <td>0.05</td>\n",
       "      <td>0.15</td>\n",
       "    </tr>\n",
       "    <tr>\n",
       "      <th>T</th>\n",
       "      <td>150.70</td>\n",
       "      <td>0.05</td>\n",
       "      <td>0.12</td>\n",
       "    </tr>\n",
       "    <tr>\n",
       "      <th>M</th>\n",
       "      <td>63.58</td>\n",
       "      <td>0.04</td>\n",
       "      <td>0.05</td>\n",
       "    </tr>\n",
       "    <tr>\n",
       "      <th>E10+</th>\n",
       "      <td>40.20</td>\n",
       "      <td>0.03</td>\n",
       "      <td>0.03</td>\n",
       "    </tr>\n",
       "  </tbody>\n",
       "</table>\n",
       "</div>"
      ],
      "text/plain": [
       "         total_sales  mean_sales  share_of_sales, %\n",
       "rating                                             \n",
       "Unknown       836.74        0.13               0.65\n",
       "E             197.96        0.05               0.15\n",
       "T             150.70        0.05               0.12\n",
       "M              63.58        0.04               0.05\n",
       "E10+           40.20        0.03               0.03"
      ]
     },
     "metadata": {},
     "output_type": "display_data"
    }
   ],
   "source": [
    "#предварительно рассчитаем суммарные продажи по региону\n",
    "total_sum = data['jp_sales'].sum()\n",
    "#вызываем функцию, указываем аргументы, выводим на экран\n",
    "print('ТОП-5 самых популярных платформ')\n",
    "jp1 = region_portrait(rowdata = data, sales = 'jp_sales', total = total_sum, pivot_ind = 'platform')\n",
    "display(jp1)\n",
    "\n",
    "print('Распределение продаж по жанрам')\n",
    "jp2 = region_portrait(rowdata = data, sales = 'jp_sales', total = total_sum, pivot_ind = 'genre')\n",
    "display(jp2)\n",
    "\n",
    "print('Распределение продаж по рейтингам')\n",
    "jp3 = region_portrait(rowdata = data, sales = 'jp_sales', total = total_sum, pivot_ind = 'rating')\n",
    "display(jp3)"
   ]
  },
  {
   "cell_type": "markdown",
   "metadata": {},
   "source": [
    "Итак, в Японии лидирующие доли по продажам занимают платформы DS, PS, PS2, SNES, NES, что очень сильно отличает этот регион от Северной Америки и Европы. По жанрам лидирующие позиции (доля в общих продажах по региону): Role-playing, Action, Platform, Sports, Misc. Здесь только есть отличия от других регионов. А вот распределение по рейтингам довольно схожее: игры без рейтинга, затем E, T, M"
   ]
  },
  {
   "cell_type": "markdown",
   "metadata": {},
   "source": [
    "#### Визуализация портрета пользователя по регионам "
   ]
  },
  {
   "cell_type": "markdown",
   "metadata": {},
   "source": [
    "Для большей наглядности визуализируем все полученные портреты."
   ]
  },
  {
   "cell_type": "code",
   "execution_count": 61,
   "metadata": {
    "scrolled": false
   },
   "outputs": [
    {
     "data": {
      "image/png": "[encoded data removed]",
      "text/plain": [
       "<Figure size 1008x1008 with 9 Axes>"
      ]
     },
     "metadata": {
      "needs_background": "light"
     },
     "output_type": "display_data"
    }
   ],
   "source": [
    "plt.figure(figsize=[14, 14])\n",
    "plt.suptitle('Портрет пользователя по каждому региону', y=1.00, fontsize=17, fontweight='bold') \n",
    "#График 1\n",
    "plt.subplot(3, 3, 1)\n",
    "sb.barplot(x=usa1.index, y=usa1['total_sales']);\n",
    "plt.title('Северная Америка', fontsize=15, pad=12)\n",
    "plt.xlabel('Платформа', fontsize=13)\n",
    "plt.ylabel('Суммарные продажи, млн.копий', fontsize=13)\n",
    "plt.grid(alpha=0.8, color='blue', linestyle=':', linewidth=1.2)\n",
    "\n",
    "#График 2\n",
    "plt.subplot(3, 3, 2)\n",
    "\n",
    "sb.barplot(x=eu1.index, y=eu1['total_sales']);\n",
    "plt.title('Европа', fontsize=15, pad=12)\n",
    "plt.xlabel('Платформа', fontsize=13)\n",
    "plt.ylabel('Суммарные продажи, млн.копий', fontsize=13)\n",
    "plt.grid(alpha=0.8, color='blue', linestyle=':', linewidth=1.2)\n",
    "\n",
    "#График 3\n",
    "plt.subplot(3, 3, 3)\n",
    "\n",
    "sb.barplot(x=jp1.index, y=jp1['total_sales']);\n",
    "plt.title('Япония', fontsize=15, pad=12)\n",
    "plt.xlabel('Платформа', fontsize=13)\n",
    "plt.ylabel('Суммарные продажи, млн.копий', fontsize=13)\n",
    "plt.grid(alpha=0.8, color='blue', linestyle=':', linewidth=1.2)\n",
    "\n",
    "#График 4\n",
    "plt.subplot(3, 3, 4)\n",
    "sb.barplot(x=usa2.index, y=usa2['total_sales']);\n",
    "plt.title('Северная Америка', fontsize=15, pad=12)\n",
    "plt.xlabel('Жанр', fontsize=13)\n",
    "plt.ylabel('Суммарные продажи, млн.копий', fontsize=13)\n",
    "plt.grid(alpha=0.8, color='blue', linestyle=':', linewidth=1.2)\n",
    "\n",
    "#График 5\n",
    "plt.subplot(3, 3, 5)\n",
    "\n",
    "sb.barplot(x=eu2.index, y=eu2['total_sales']);\n",
    "plt.title('Европа', fontsize=15, pad=12)\n",
    "plt.xlabel('Жанр', fontsize=13)\n",
    "plt.ylabel('Суммарные продажи, млн.копий', fontsize=13)\n",
    "plt.grid(alpha=0.8, color='blue', linestyle=':', linewidth=1.2)\n",
    "\n",
    "#График 6\n",
    "plt.subplot(3, 3, 6)\n",
    "\n",
    "sb.barplot(x=jp2.index, y=jp2['total_sales']);\n",
    "plt.title('Япония', fontsize=15, pad=12)\n",
    "plt.xlabel('Жанр', fontsize=13)\n",
    "plt.ylabel('Суммарные продажи, млн.копий', fontsize=13)\n",
    "plt.grid(alpha=0.8, color='blue', linestyle=':', linewidth=1.2)\n",
    "\n",
    "#График 7\n",
    "plt.subplot(3, 3, 7)\n",
    "sb.barplot(x=usa3.index, y=usa3['total_sales']);\n",
    "plt.title('Северная Америка', fontsize=15, pad=12)\n",
    "plt.xlabel('Рейтинг', fontsize=13)\n",
    "plt.ylabel('Суммарные продажи, млн.копий', fontsize=13)\n",
    "plt.grid(alpha=0.8, color='blue', linestyle=':', linewidth=1.2)\n",
    "\n",
    "#График 8\n",
    "plt.subplot(3, 3, 8)\n",
    "\n",
    "sb.barplot(x=eu3.index, y=eu3['total_sales']);\n",
    "plt.title('Европа', fontsize=15, pad=12)\n",
    "plt.xlabel('Рейтинг', fontsize=13)\n",
    "plt.ylabel('Суммарные продажи, млн.копий', fontsize=13)\n",
    "plt.grid(alpha=0.8, color='blue', linestyle=':', linewidth=1.2)\n",
    "\n",
    "#График 9\n",
    "plt.subplot(3, 3, 9)\n",
    "\n",
    "sb.barplot(x=jp3.index, y=jp3['total_sales']);\n",
    "plt.title('Япония', fontsize=15, pad=12)\n",
    "plt.xlabel('Рейтинг', fontsize=13)\n",
    "plt.ylabel('Суммарные продажи, млн.копий', fontsize=13)\n",
    "plt.grid(alpha=0.8, color='blue', linestyle=':', linewidth=1.2)\n",
    "\n",
    "plt.tight_layout()\n",
    "plt.show()"
   ]
  },
  {
   "cell_type": "markdown",
   "metadata": {},
   "source": [
    "Визуализация данных о региональных предпочтениях в части платформ показывает, что в Северной Америке и Европе практически идентичный набор платформ, различия только в долях этих платформ по общим продажам региона. В Японии пятерка самых популярных платформ совсем другая.\n",
    "\n",
    "Жанровые предпочтения: Северная Америка и Европа имеют практически одинаковые предпочтения по жанрам, даже их доли в общих продажах по региону довольно близки. А в Японии лидирующую позицию занимает жанр Role-playing, которого нет в топ-5 в Северной Америке и Европе. Причем доля этого жанра в Японии очень высокая по сравнению с остальными. \n",
    "\n",
    "Если рассмотреть распределение продаж игр в разрезе рейтинга ESRB, то у Северной Америки и Европы снова весьма схожие результаты, одна и та же последовательность лидеров, с небольшими отличиями по долям в общих продажах по региону. В Японии у игр без рейтинга самая высокая доля в продажах, все остальные рейтинги заметно уступают в долях. \n",
    "Полученные визуальные результаты портретов пользователей вполне объясняют, почему страна Япония была выделена в отдельный регион."
   ]
  },
  {
   "cell_type": "markdown",
   "metadata": {},
   "source": [
    "### Проверка гипотез "
   ]
  },
  {
   "cell_type": "markdown",
   "metadata": {},
   "source": [
    "#### Средние пользовательские рейтинги платформ XOne и PC одинаковые "
   ]
  },
  {
   "cell_type": "markdown",
   "metadata": {},
   "source": [
    "H_0: Пользовательский рейтинг (user_score) платформы XOne = пользовательский рейтинг (user_score) платформы PC\n",
    "H_a: Пользовательский рейтинг (user_score) платформы XOne ≠ пользовательский рейтинг (user_score) платформы PC\n",
    "\n",
    "Установим пороговое значение alpha = 0.05\n",
    "\n",
    "В столбце с пользовательским рейтингом почти половина пропусков, этого статистические методы не любят, поэтому предварительно удалим пропуски:"
   ]
  },
  {
   "cell_type": "code",
   "execution_count": 62,
   "metadata": {},
   "outputs": [],
   "source": [
    "#удаляем пропуски в столбце user_score\n",
    "data = data.dropna(subset = ['user_score'])"
   ]
  },
  {
   "cell_type": "code",
   "execution_count": 63,
   "metadata": {},
   "outputs": [
    {
     "data": {
      "text/plain": [
       "0"
      ]
     },
     "execution_count": 63,
     "metadata": {},
     "output_type": "execute_result"
    }
   ],
   "source": [
    "#проверяем, что пропусков нет\n",
    "data['user_score'].isnull().sum()"
   ]
  },
  {
   "cell_type": "code",
   "execution_count": 64,
   "metadata": {},
   "outputs": [
    {
     "name": "stdout",
     "output_type": "stream",
     "text": [
      "Среднее значение по платформе XOne: 6.52\n",
      "Среднее значение по платформе PC: 7.06\n",
      "5.2790724212074864e-06\n",
      "Отвергаем нулевую гипотезу\n"
     ]
    }
   ],
   "source": [
    "user_score_xone = data.loc[data['platform'] == 'XOne', 'user_score']\n",
    "user_score_pc = data.loc[data['platform'] == 'PC', 'user_score']\n",
    "# results = вызов метода для проверки гипотезы\n",
    "#equal_var устанавливаем в False, поскольку нет уверенности о равенстве дисперсий этих выборок\n",
    "alpha = .05\n",
    "results = st.ttest_ind(\n",
    "    user_score_xone, \n",
    "    user_score_pc,\n",
    "    equal_var = False)\n",
    "# вывод значения p-value на экран \n",
    "print('Среднее значение по платформе XOne:', round(user_score_xone.mean(), 2))\n",
    "print('Среднее значение по платформе PC:', round(user_score_pc.mean(),2))\n",
    "print(results.pvalue)\n",
    "# условный оператор с выводом строки с ответом\n",
    "if results.pvalue < alpha:\n",
    "    print(\"Отвергаем нулевую гипотезу\")\n",
    "else:\n",
    "    print(\"Не получилось отвергнуть нулевую гипотезу\")"
   ]
  },
  {
   "cell_type": "markdown",
   "metadata": {},
   "source": [
    "*По результатам теста нулевую гипотезу нужно отвергнуть, в расчет следует принять альтернативную гипотезу о том, что средний пользовательский рейтинг платформы XOne не совпадает со средним пользовательским рейтингом платформы PC\n",
    "Выведенные средние значения по платформам еще раз подтверждают верность результата статистического теста*"
   ]
  },
  {
   "cell_type": "markdown",
   "metadata": {},
   "source": [
    "#### Средние пользовательские рейтинги жанра Action и Sports разные "
   ]
  },
  {
   "cell_type": "markdown",
   "metadata": {},
   "source": [
    "H_0: Пользовательский рейтинг (user_score) жанра Action = пользовательский рейтинг (user_score) жанра Sports\n",
    "H_1: Пользовательский рейтинг (user_score) жанра Action ≠ пользовательский рейтинг (user_score) жанра Sports\n",
    "\n",
    "Установим пороговое значение alpha = 0.05"
   ]
  },
  {
   "cell_type": "code",
   "execution_count": 65,
   "metadata": {},
   "outputs": [
    {
     "name": "stdout",
     "output_type": "stream",
     "text": [
      "Среднее значение по жанру Action: 7.06\n",
      "Среднее значение по жанру Sports: 6.95\n",
      "0.07607291840585198\n",
      "Не получилось отвергнуть нулевую гипотезу\n"
     ]
    }
   ],
   "source": [
    "user_score_action = data.loc[data['genre'] == 'Action', 'user_score']\n",
    "user_score_sports = data.loc[data['genre'] == 'Sports', 'user_score']\n",
    "# results = вызов метода для проверки гипотезы\n",
    "#equal_var устанавливаем в False, поскольку нет уверенности о равенстве дисперсий этих выборок\n",
    "alpha = .05\n",
    "results = st.ttest_ind(\n",
    "    user_score_action, \n",
    "    user_score_sports,\n",
    "    equal_var = False)\n",
    "# вывод значения p-value на экран \n",
    "print('Среднее значение по жанру Action:', round(user_score_action.mean(), 2))\n",
    "print('Среднее значение по жанру Sports:', round(user_score_sports.mean(),2))\n",
    "print(results.pvalue)\n",
    "# условный оператор с выводом строки с ответом\n",
    "if results.pvalue < alpha:\n",
    "    print(\"Отвергаем нулевую гипотезу\")\n",
    "else:\n",
    "    print(\"Не получилось отвергнуть нулевую гипотезу\")"
   ]
  },
  {
   "cell_type": "markdown",
   "metadata": {},
   "source": [
    "*По результатам теста не получилось отвергнуть нулевую гипотезу о том, что средний пользовательский рейтинг жанра Action совпадает со средним пользовательским рейтингом жанра Sports.*\n",
    "\n",
    "*Выведенное среднее значение рейтингов по этим жанрам дополнительно подтверждает корректность результата статистического теста*"
   ]
  },
  {
   "cell_type": "markdown",
   "metadata": {},
   "source": [
    "### Общий вывод "
   ]
  },
  {
   "cell_type": "markdown",
   "metadata": {},
   "source": [
    "<div class=\"alert alert-info\"> <b>\n",
    "На основе данных по статистике продаж игр был проведен анализ зависимости разных параметров на их популярность (= продаваемость). Результаты исследования будут учтены при построении маркетингового прогноза на 2017 год. </b> \n",
    "    \n",
    "<b>        На этапе предобработки данных в исходном датафрейме были изменены типы данных в столбцах, удалены немногочисленные пропуски. В целом данные довольно качественные, дубликатов нет, аномальных значений в большинстве столбцов нет, однако в столбцах с информацией о рейтингах (пользовательский, рейтинг критиков и ESRB) от 40 до 50% составляют пропуски. Также была выявлена аномалия в значениях пользовательского рейтинга. Редкие значения рейтингов ESRB (единичная частота в данных) были исключены из анализа, а пропущенные значения заменены значением \"Unknown\", чтобы не потерять эту долю при исследовательском анализе. Из-за большой доли пропусков исходный датасет в части данных о рейтингах критиков и пользовательском рейтинге сложно назвать репрезентативным. \n",
    "   \n",
    "<b>    Перед исследованием были выдвинуты следующие гипотезы: </b>\n",
    "    \n",
    "<b>     Гипотеза 1. Выпуск игр меняется от года к году</b>\n",
    "    \n",
    "<b>     Гипотеза 2. На продажи игры влияет платформа, которую она поддерживает</b>\n",
    "    \n",
    "<b>     Гипотеза 3. Продажи игры зависят от рейтингов пользователей и критиков</b>\n",
    "    \n",
    "<b>     Гипотеза 4. Жанр игры влияет на ее популярность</b>\n",
    "    \n",
    "<b>     Гипотеза 5. Портрет пользователей в регионах NA, EU, JP различается</b>\n",
    "    \n",
    "<b>     Гипотеза 6. Средние пользовательские рейтинги платформ XOne и PC одинаковые</b>\n",
    "    \n",
    "<b>      Гипотеза 7. Средние пользовательские рейтинги жанров Action и Sports разные</b>\n",
    "    \n",
    "<b>    В ходе анализа был изучен каждый из вышеперечисленных параметров, построены столбчатые диаграммы распределения значений, найдены коэффициенты корреляции с продажами, построены диаграммы рассеяния. В результате выявлены следующие зависимости:</b>\n",
    "    \n",
    "<b>     Гипотеза 1: подтверждена, рост выпуска игр начался в 1995 году, в 2008-2009 годах выпущено рекордное количество игр, а в последующие годы на рынке наметился спад. С 2012 по 2016 год выпуск игр более-менее стабилизировался - цифры находятся на среднем уровне, без сильных падений и взлетов.</b> \n",
    "    \n",
    "<b>    Гипотеза 2: подтверждена, \"средний срок жизни\" платформы - около 5 лет, затем продажи на ней падают, и она исчезает. По состоянию продаж на 2016 год нет ни одной платформы, которая бы находилась в фазе роста. Наиболее перспективными являются платформы PS4, XOne и 3DS</b>\n",
    "    \n",
    "<b>    Гипотеза 3: не подтверждена, вычисленный коэффициент корреляции Пирсона показал наличие слабой связи между рейтингом критиков и продажами, и полное отсутствие зависимости между рейтингом пользователей и продажами игры. Однако желательно повторить этот анализ на более репрезентативной выборке</b>\n",
    "    \n",
    "<b>    Гипотеза 4. подтверждена. Наиболее прибыльными (с учетом анализа средней выручки) являются жанры Platform, Shooter, Role-Playing, Racing, Sports. При этом лидирующие позиции по средней выручке не совпадают с долями в общих продажах. Например, жанр Action, не вошедший в топ-5 по средней выручке, имеет самую большую долю в продажах. Наименее прибыльными являются жанры Strategy и Adventure, у них также маленькие доли в общих продажах</b>\n",
    "    \n",
    "<b>    Гипотеза 5: частично подтверждена. Полученные портреты пользователей для региона Северная Америка и Европа имеют практически одинаковые предпочтения по платформам, жанрам, рейтингам ESRB, имеются лишь небольшие отличия в долях от общих продаж по региону. А регион Япония заметно выделяется на их фоне, здесь популярны другие платформы и жанры. Распределение продаж по рейтингам ESRB также отличает Японию, лидирующую позицию здесь занимают игры без рейтинга. \n",
    "Полученные визуальные результаты портретов пользователей вполне объясняют, почему страна Япония была выделена в отдельный регион.</b>\n",
    "       \n",
    "<b>    Гипотеза 6: не подтверждена. По результатам проведенного статистического теста гипотезу пришлось отвергнуть и принять на рассмотрение альтернативную гипотезу: средние пользовательские рейтинги платформ XOne и PC отличаются. Однако желательно провести дополнительный анализ для подтверждения гипотезы на более репрезентативной выборке данных (в исходном наборе данных 40% пропусков в поле пользовательского рейтинга)</b>\n",
    "    \n",
    "<b>    Гипотеза 7: не подтверждена. По результатам статистического теста нулевую гипотезу о равенстве средних пользовательских рейтингов жанров Action и Sports отвергнуть не удалось. Однако желательно провести дополнительный анализ для подтверждения гипотезы на более репрезентативной выборке данных (в исходном наборе данных 40% пропусков в поле пользовательского рейтинга)</b>\n",
    "    \n",
    "<b>    Bug report: В ходе предобработки данных выявлены аномальные значения в столбце user_score = 'tbd' (более 14% от общего объема данных).</b>   \n",
    "</div>    "
   ]
  },
  {
   "cell_type": "code",
   "execution_count": null,
   "metadata": {},
   "outputs": [],
   "source": []
  }
 ],
 "metadata": {
  "ExecuteTimeLog": [
   {
    "duration": 1301,
    "start_time": "2022-11-21T09:58:36.882Z"
   },
   {
    "duration": 220,
    "start_time": "2022-11-21T09:59:43.757Z"
   },
   {
    "duration": 51,
    "start_time": "2022-11-21T09:59:51.130Z"
   },
   {
    "duration": 11,
    "start_time": "2022-11-21T10:00:39.832Z"
   },
   {
    "duration": 16,
    "start_time": "2022-11-21T10:03:00.779Z"
   },
   {
    "duration": 6,
    "start_time": "2022-11-21T10:14:46.527Z"
   },
   {
    "duration": 16,
    "start_time": "2022-11-21T10:20:40.661Z"
   },
   {
    "duration": 7,
    "start_time": "2022-11-21T10:25:01.635Z"
   },
   {
    "duration": 13,
    "start_time": "2022-11-21T10:25:14.064Z"
   },
   {
    "duration": 3,
    "start_time": "2022-11-21T10:25:21.071Z"
   },
   {
    "duration": 21,
    "start_time": "2022-11-21T10:25:22.926Z"
   },
   {
    "duration": 5,
    "start_time": "2022-11-21T10:31:17.226Z"
   },
   {
    "duration": 101,
    "start_time": "2022-11-21T10:32:42.508Z"
   },
   {
    "duration": 17,
    "start_time": "2022-11-21T10:34:28.227Z"
   },
   {
    "duration": 17,
    "start_time": "2022-11-21T10:34:45.578Z"
   },
   {
    "duration": 6,
    "start_time": "2022-11-21T10:34:56.139Z"
   },
   {
    "duration": 6,
    "start_time": "2022-11-21T10:37:43.118Z"
   },
   {
    "duration": 5,
    "start_time": "2022-11-21T10:38:01.331Z"
   },
   {
    "duration": 5,
    "start_time": "2022-11-21T10:40:10.986Z"
   },
   {
    "duration": 13,
    "start_time": "2022-11-21T10:41:27.596Z"
   },
   {
    "duration": 17,
    "start_time": "2022-11-21T10:41:41.476Z"
   },
   {
    "duration": 655,
    "start_time": "2022-11-21T10:45:41.244Z"
   },
   {
    "duration": 11,
    "start_time": "2022-11-21T10:50:16.225Z"
   },
   {
    "duration": 10,
    "start_time": "2022-11-21T10:50:29.026Z"
   },
   {
    "duration": 10,
    "start_time": "2022-11-21T10:56:59.709Z"
   },
   {
    "duration": 12,
    "start_time": "2022-11-21T11:00:26.138Z"
   },
   {
    "duration": 50,
    "start_time": "2022-11-21T15:35:06.428Z"
   },
   {
    "duration": 1298,
    "start_time": "2022-11-21T15:35:18.650Z"
   },
   {
    "duration": 110,
    "start_time": "2022-11-21T15:35:19.949Z"
   },
   {
    "duration": 16,
    "start_time": "2022-11-21T15:35:20.061Z"
   },
   {
    "duration": 13,
    "start_time": "2022-11-21T15:35:20.079Z"
   },
   {
    "duration": 4,
    "start_time": "2022-11-21T15:35:20.093Z"
   },
   {
    "duration": 7,
    "start_time": "2022-11-21T15:35:20.098Z"
   },
   {
    "duration": 15,
    "start_time": "2022-11-21T15:35:20.106Z"
   },
   {
    "duration": 12,
    "start_time": "2022-11-21T15:35:20.122Z"
   },
   {
    "duration": 3,
    "start_time": "2022-11-21T15:35:20.136Z"
   },
   {
    "duration": 8,
    "start_time": "2022-11-21T15:35:20.141Z"
   },
   {
    "duration": 26,
    "start_time": "2022-11-21T15:35:20.150Z"
   },
   {
    "duration": 4,
    "start_time": "2022-11-21T15:35:20.177Z"
   },
   {
    "duration": 7,
    "start_time": "2022-11-21T15:35:20.182Z"
   },
   {
    "duration": 11,
    "start_time": "2022-11-21T15:35:20.190Z"
   },
   {
    "duration": 575,
    "start_time": "2022-11-21T15:35:20.202Z"
   },
   {
    "duration": 7,
    "start_time": "2022-11-21T15:35:51.907Z"
   },
   {
    "duration": 16,
    "start_time": "2022-11-21T15:46:30.673Z"
   },
   {
    "duration": 15,
    "start_time": "2022-11-21T15:46:48.148Z"
   },
   {
    "duration": 16,
    "start_time": "2022-11-21T15:50:51.053Z"
   },
   {
    "duration": 45,
    "start_time": "2022-11-21T16:02:06.298Z"
   },
   {
    "duration": 9,
    "start_time": "2022-11-21T16:03:04.757Z"
   },
   {
    "duration": 3,
    "start_time": "2022-11-21T16:04:19.361Z"
   },
   {
    "duration": 53,
    "start_time": "2022-11-21T16:04:21.630Z"
   },
   {
    "duration": 14,
    "start_time": "2022-11-21T16:04:23.495Z"
   },
   {
    "duration": 13,
    "start_time": "2022-11-21T16:04:26.096Z"
   },
   {
    "duration": 3,
    "start_time": "2022-11-21T16:04:28.957Z"
   },
   {
    "duration": 4,
    "start_time": "2022-11-21T16:04:32.125Z"
   },
   {
    "duration": 21,
    "start_time": "2022-11-21T16:04:34.893Z"
   },
   {
    "duration": 11,
    "start_time": "2022-11-21T16:04:38.881Z"
   },
   {
    "duration": 8,
    "start_time": "2022-11-21T16:04:44.503Z"
   },
   {
    "duration": 7,
    "start_time": "2022-11-21T16:04:47.752Z"
   },
   {
    "duration": 8,
    "start_time": "2022-11-21T16:06:26.196Z"
   },
   {
    "duration": 16,
    "start_time": "2022-11-21T16:13:19.788Z"
   },
   {
    "duration": 7,
    "start_time": "2022-11-21T16:16:20.518Z"
   },
   {
    "duration": 5,
    "start_time": "2022-11-21T16:16:32.908Z"
   },
   {
    "duration": 13,
    "start_time": "2022-11-21T16:21:21.438Z"
   },
   {
    "duration": 1154,
    "start_time": "2022-11-21T16:21:56.464Z"
   },
   {
    "duration": 51,
    "start_time": "2022-11-21T16:21:57.620Z"
   },
   {
    "duration": 17,
    "start_time": "2022-11-21T16:21:57.673Z"
   },
   {
    "duration": 25,
    "start_time": "2022-11-21T16:21:57.691Z"
   },
   {
    "duration": 9,
    "start_time": "2022-11-21T16:21:57.718Z"
   },
   {
    "duration": 6,
    "start_time": "2022-11-21T16:21:57.729Z"
   },
   {
    "duration": 20,
    "start_time": "2022-11-21T16:21:57.736Z"
   },
   {
    "duration": 20,
    "start_time": "2022-11-21T16:21:57.758Z"
   },
   {
    "duration": 19,
    "start_time": "2022-11-21T16:21:57.780Z"
   },
   {
    "duration": 5,
    "start_time": "2022-11-21T16:21:57.801Z"
   },
   {
    "duration": 8,
    "start_time": "2022-11-21T16:21:57.808Z"
   },
   {
    "duration": 12,
    "start_time": "2022-11-21T16:21:57.817Z"
   },
   {
    "duration": 9,
    "start_time": "2022-11-21T16:21:57.830Z"
   },
   {
    "duration": 12,
    "start_time": "2022-11-21T16:21:57.841Z"
   },
   {
    "duration": 15,
    "start_time": "2022-11-21T16:21:57.854Z"
   },
   {
    "duration": 7,
    "start_time": "2022-11-21T16:21:57.870Z"
   },
   {
    "duration": 14,
    "start_time": "2022-11-21T16:21:57.879Z"
   },
   {
    "duration": 27,
    "start_time": "2022-11-21T16:21:57.894Z"
   },
   {
    "duration": 7,
    "start_time": "2022-11-21T16:24:22.101Z"
   },
   {
    "duration": 5,
    "start_time": "2022-11-21T16:24:41.633Z"
   },
   {
    "duration": 4,
    "start_time": "2022-11-21T16:25:35.917Z"
   },
   {
    "duration": 6,
    "start_time": "2022-11-21T16:26:13.138Z"
   },
   {
    "duration": 4,
    "start_time": "2022-11-21T16:26:42.504Z"
   },
   {
    "duration": 5,
    "start_time": "2022-11-21T16:26:51.397Z"
   },
   {
    "duration": 5,
    "start_time": "2022-11-21T16:27:34.978Z"
   },
   {
    "duration": 4,
    "start_time": "2022-11-21T16:28:17.741Z"
   },
   {
    "duration": 4,
    "start_time": "2022-11-21T16:28:36.827Z"
   },
   {
    "duration": 4,
    "start_time": "2022-11-21T16:28:58.262Z"
   },
   {
    "duration": 5,
    "start_time": "2022-11-21T16:29:00.302Z"
   },
   {
    "duration": 4,
    "start_time": "2022-11-21T16:29:16.996Z"
   },
   {
    "duration": 5,
    "start_time": "2022-11-21T16:30:28.890Z"
   },
   {
    "duration": 5,
    "start_time": "2022-11-21T16:31:39.448Z"
   },
   {
    "duration": 6,
    "start_time": "2022-11-21T16:32:31.056Z"
   },
   {
    "duration": 10,
    "start_time": "2022-11-21T16:35:44.858Z"
   },
   {
    "duration": 16,
    "start_time": "2022-11-21T16:36:18.289Z"
   },
   {
    "duration": 20,
    "start_time": "2022-11-21T16:36:59.172Z"
   },
   {
    "duration": 3,
    "start_time": "2022-11-21T16:45:32.260Z"
   },
   {
    "duration": 20,
    "start_time": "2022-11-21T16:50:33.013Z"
   },
   {
    "duration": 15,
    "start_time": "2022-11-21T16:57:38.478Z"
   },
   {
    "duration": 15,
    "start_time": "2022-11-21T17:01:37.965Z"
   },
   {
    "duration": 161,
    "start_time": "2022-11-21T17:02:03.923Z"
   },
   {
    "duration": 450,
    "start_time": "2022-11-21T17:02:41.138Z"
   },
   {
    "duration": 3,
    "start_time": "2022-11-21T17:03:38.744Z"
   },
   {
    "duration": 351,
    "start_time": "2022-11-21T17:03:51.337Z"
   },
   {
    "duration": 1415,
    "start_time": "2022-11-22T07:32:15.613Z"
   },
   {
    "duration": 209,
    "start_time": "2022-11-22T07:32:17.031Z"
   },
   {
    "duration": 20,
    "start_time": "2022-11-22T07:32:17.242Z"
   },
   {
    "duration": 16,
    "start_time": "2022-11-22T07:32:17.266Z"
   },
   {
    "duration": 7,
    "start_time": "2022-11-22T07:32:17.283Z"
   },
   {
    "duration": 14,
    "start_time": "2022-11-22T07:32:17.291Z"
   },
   {
    "duration": 19,
    "start_time": "2022-11-22T07:32:17.307Z"
   },
   {
    "duration": 19,
    "start_time": "2022-11-22T07:32:17.328Z"
   },
   {
    "duration": 12,
    "start_time": "2022-11-22T07:32:17.349Z"
   },
   {
    "duration": 21,
    "start_time": "2022-11-22T07:32:17.364Z"
   },
   {
    "duration": 9,
    "start_time": "2022-11-22T07:32:17.387Z"
   },
   {
    "duration": 11,
    "start_time": "2022-11-22T07:32:17.398Z"
   },
   {
    "duration": 9,
    "start_time": "2022-11-22T07:32:17.411Z"
   },
   {
    "duration": 12,
    "start_time": "2022-11-22T07:32:17.422Z"
   },
   {
    "duration": 19,
    "start_time": "2022-11-22T07:32:17.436Z"
   },
   {
    "duration": 9,
    "start_time": "2022-11-22T07:32:17.479Z"
   },
   {
    "duration": 12,
    "start_time": "2022-11-22T07:32:17.489Z"
   },
   {
    "duration": 23,
    "start_time": "2022-11-22T07:32:17.503Z"
   },
   {
    "duration": 7,
    "start_time": "2022-11-22T07:32:17.528Z"
   },
   {
    "duration": 18,
    "start_time": "2022-11-22T07:32:17.536Z"
   },
   {
    "duration": 31,
    "start_time": "2022-11-22T07:32:17.555Z"
   },
   {
    "duration": 8,
    "start_time": "2022-11-22T07:32:17.589Z"
   },
   {
    "duration": 10,
    "start_time": "2022-11-22T07:32:17.599Z"
   },
   {
    "duration": 13,
    "start_time": "2022-11-22T07:32:17.611Z"
   },
   {
    "duration": 8,
    "start_time": "2022-11-22T07:32:17.626Z"
   },
   {
    "duration": 6,
    "start_time": "2022-11-22T07:32:17.637Z"
   },
   {
    "duration": 11,
    "start_time": "2022-11-22T07:32:17.645Z"
   },
   {
    "duration": 7,
    "start_time": "2022-11-22T07:32:17.680Z"
   },
   {
    "duration": 61,
    "start_time": "2022-11-22T07:32:17.689Z"
   },
   {
    "duration": 48,
    "start_time": "2022-11-22T07:32:17.753Z"
   },
   {
    "duration": 30,
    "start_time": "2022-11-22T07:32:17.803Z"
   },
   {
    "duration": 501,
    "start_time": "2022-11-22T07:32:17.835Z"
   },
   {
    "duration": 496,
    "start_time": "2022-11-22T07:35:33.829Z"
   },
   {
    "duration": 376,
    "start_time": "2022-11-22T07:35:44.606Z"
   },
   {
    "duration": 377,
    "start_time": "2022-11-22T07:35:52.440Z"
   },
   {
    "duration": 526,
    "start_time": "2022-11-22T07:37:50.991Z"
   },
   {
    "duration": 378,
    "start_time": "2022-11-22T07:38:37.805Z"
   },
   {
    "duration": 84,
    "start_time": "2022-11-22T07:39:02.396Z"
   },
   {
    "duration": 154,
    "start_time": "2022-11-22T07:39:07.581Z"
   },
   {
    "duration": 374,
    "start_time": "2022-11-22T07:39:27.671Z"
   },
   {
    "duration": 23,
    "start_time": "2022-11-22T07:48:39.208Z"
   },
   {
    "duration": 8,
    "start_time": "2022-11-22T07:50:20.983Z"
   },
   {
    "duration": 1261,
    "start_time": "2022-11-22T07:50:32.583Z"
   },
   {
    "duration": 58,
    "start_time": "2022-11-22T07:50:33.846Z"
   },
   {
    "duration": 19,
    "start_time": "2022-11-22T07:50:33.906Z"
   },
   {
    "duration": 17,
    "start_time": "2022-11-22T07:50:33.928Z"
   },
   {
    "duration": 4,
    "start_time": "2022-11-22T07:50:33.947Z"
   },
   {
    "duration": 4,
    "start_time": "2022-11-22T07:50:33.979Z"
   },
   {
    "duration": 50,
    "start_time": "2022-11-22T07:50:33.985Z"
   },
   {
    "duration": 16,
    "start_time": "2022-11-22T07:50:34.037Z"
   },
   {
    "duration": 19,
    "start_time": "2022-11-22T07:50:34.055Z"
   },
   {
    "duration": 30,
    "start_time": "2022-11-22T07:50:34.078Z"
   },
   {
    "duration": 10,
    "start_time": "2022-11-22T07:50:34.110Z"
   },
   {
    "duration": 8,
    "start_time": "2022-11-22T07:50:34.123Z"
   },
   {
    "duration": 13,
    "start_time": "2022-11-22T07:50:34.133Z"
   },
   {
    "duration": 16,
    "start_time": "2022-11-22T07:50:34.148Z"
   },
   {
    "duration": 29,
    "start_time": "2022-11-22T07:50:34.166Z"
   },
   {
    "duration": 13,
    "start_time": "2022-11-22T07:50:34.197Z"
   },
   {
    "duration": 26,
    "start_time": "2022-11-22T07:50:34.212Z"
   },
   {
    "duration": 26,
    "start_time": "2022-11-22T07:50:34.241Z"
   },
   {
    "duration": 13,
    "start_time": "2022-11-22T07:50:34.270Z"
   },
   {
    "duration": 21,
    "start_time": "2022-11-22T07:50:34.285Z"
   },
   {
    "duration": 16,
    "start_time": "2022-11-22T07:50:34.308Z"
   },
   {
    "duration": 15,
    "start_time": "2022-11-22T07:50:34.326Z"
   },
   {
    "duration": 22,
    "start_time": "2022-11-22T07:50:34.343Z"
   },
   {
    "duration": 18,
    "start_time": "2022-11-22T07:50:34.370Z"
   },
   {
    "duration": 6,
    "start_time": "2022-11-22T07:50:34.390Z"
   },
   {
    "duration": 6,
    "start_time": "2022-11-22T07:50:34.398Z"
   },
   {
    "duration": 9,
    "start_time": "2022-11-22T07:50:34.405Z"
   },
   {
    "duration": 13,
    "start_time": "2022-11-22T07:50:34.417Z"
   },
   {
    "duration": 19,
    "start_time": "2022-11-22T07:50:34.432Z"
   },
   {
    "duration": 40,
    "start_time": "2022-11-22T07:50:34.453Z"
   },
   {
    "duration": 18,
    "start_time": "2022-11-22T07:50:34.495Z"
   },
   {
    "duration": 404,
    "start_time": "2022-11-22T07:50:34.515Z"
   },
   {
    "duration": 24,
    "start_time": "2022-11-22T07:50:34.921Z"
   },
   {
    "duration": 1309,
    "start_time": "2022-11-22T07:56:43.207Z"
   },
   {
    "duration": 56,
    "start_time": "2022-11-22T07:56:44.518Z"
   },
   {
    "duration": 20,
    "start_time": "2022-11-22T07:56:44.575Z"
   },
   {
    "duration": 17,
    "start_time": "2022-11-22T07:56:44.597Z"
   },
   {
    "duration": 9,
    "start_time": "2022-11-22T07:56:44.616Z"
   },
   {
    "duration": 5,
    "start_time": "2022-11-22T07:56:44.628Z"
   },
   {
    "duration": 43,
    "start_time": "2022-11-22T07:56:44.635Z"
   },
   {
    "duration": 10,
    "start_time": "2022-11-22T07:56:44.680Z"
   },
   {
    "duration": 9,
    "start_time": "2022-11-22T07:56:44.692Z"
   },
   {
    "duration": 12,
    "start_time": "2022-11-22T07:56:44.704Z"
   },
   {
    "duration": 5,
    "start_time": "2022-11-22T07:56:44.718Z"
   },
   {
    "duration": 6,
    "start_time": "2022-11-22T07:56:44.724Z"
   },
   {
    "duration": 5,
    "start_time": "2022-11-22T07:56:44.732Z"
   },
   {
    "duration": 40,
    "start_time": "2022-11-22T07:56:44.739Z"
   },
   {
    "duration": 9,
    "start_time": "2022-11-22T07:56:44.781Z"
   },
   {
    "duration": 21,
    "start_time": "2022-11-22T07:56:44.791Z"
   },
   {
    "duration": 8,
    "start_time": "2022-11-22T07:56:44.814Z"
   },
   {
    "duration": 8,
    "start_time": "2022-11-22T07:56:44.824Z"
   },
   {
    "duration": 45,
    "start_time": "2022-11-22T07:56:44.834Z"
   },
   {
    "duration": 6,
    "start_time": "2022-11-22T07:56:44.881Z"
   },
   {
    "duration": 12,
    "start_time": "2022-11-22T07:56:44.889Z"
   },
   {
    "duration": 8,
    "start_time": "2022-11-22T07:56:44.903Z"
   },
   {
    "duration": 12,
    "start_time": "2022-11-22T07:56:44.912Z"
   },
   {
    "duration": 9,
    "start_time": "2022-11-22T07:56:44.926Z"
   },
   {
    "duration": 8,
    "start_time": "2022-11-22T07:56:44.937Z"
   },
   {
    "duration": 6,
    "start_time": "2022-11-22T07:56:44.946Z"
   },
   {
    "duration": 6,
    "start_time": "2022-11-22T07:56:44.978Z"
   },
   {
    "duration": 7,
    "start_time": "2022-11-22T07:56:44.988Z"
   },
   {
    "duration": 5,
    "start_time": "2022-11-22T07:56:44.997Z"
   },
   {
    "duration": 38,
    "start_time": "2022-11-22T07:56:45.003Z"
   },
   {
    "duration": 40,
    "start_time": "2022-11-22T07:56:45.043Z"
   },
   {
    "duration": 18,
    "start_time": "2022-11-22T07:56:45.084Z"
   },
   {
    "duration": 422,
    "start_time": "2022-11-22T07:56:45.104Z"
   },
   {
    "duration": 38,
    "start_time": "2022-11-22T07:56:45.528Z"
   },
   {
    "duration": 5,
    "start_time": "2022-11-22T07:57:53.682Z"
   },
   {
    "duration": 4,
    "start_time": "2022-11-22T07:58:19.912Z"
   },
   {
    "duration": 3,
    "start_time": "2022-11-22T07:59:09.820Z"
   },
   {
    "duration": 3,
    "start_time": "2022-11-22T07:59:21.873Z"
   },
   {
    "duration": 4,
    "start_time": "2022-11-22T08:00:00.137Z"
   },
   {
    "duration": 4,
    "start_time": "2022-11-22T08:00:39.086Z"
   },
   {
    "duration": 1221,
    "start_time": "2022-11-22T08:00:56.437Z"
   },
   {
    "duration": 56,
    "start_time": "2022-11-22T08:00:57.661Z"
   },
   {
    "duration": 20,
    "start_time": "2022-11-22T08:00:57.719Z"
   },
   {
    "duration": 17,
    "start_time": "2022-11-22T08:00:57.741Z"
   },
   {
    "duration": 5,
    "start_time": "2022-11-22T08:00:57.761Z"
   },
   {
    "duration": 4,
    "start_time": "2022-11-22T08:00:57.778Z"
   },
   {
    "duration": 22,
    "start_time": "2022-11-22T08:00:57.784Z"
   },
   {
    "duration": 22,
    "start_time": "2022-11-22T08:00:57.808Z"
   },
   {
    "duration": 11,
    "start_time": "2022-11-22T08:00:57.832Z"
   },
   {
    "duration": 35,
    "start_time": "2022-11-22T08:00:57.845Z"
   },
   {
    "duration": 5,
    "start_time": "2022-11-22T08:00:57.883Z"
   },
   {
    "duration": 15,
    "start_time": "2022-11-22T08:00:57.890Z"
   },
   {
    "duration": 6,
    "start_time": "2022-11-22T08:00:57.906Z"
   },
   {
    "duration": 9,
    "start_time": "2022-11-22T08:00:57.915Z"
   },
   {
    "duration": 8,
    "start_time": "2022-11-22T08:00:57.926Z"
   },
   {
    "duration": 42,
    "start_time": "2022-11-22T08:00:57.936Z"
   },
   {
    "duration": 18,
    "start_time": "2022-11-22T08:00:57.980Z"
   },
   {
    "duration": 11,
    "start_time": "2022-11-22T08:00:58.000Z"
   },
   {
    "duration": 10,
    "start_time": "2022-11-22T08:00:58.012Z"
   },
   {
    "duration": 24,
    "start_time": "2022-11-22T08:00:58.024Z"
   },
   {
    "duration": 33,
    "start_time": "2022-11-22T08:00:58.050Z"
   },
   {
    "duration": 12,
    "start_time": "2022-11-22T08:00:58.085Z"
   },
   {
    "duration": 8,
    "start_time": "2022-11-22T08:00:58.099Z"
   },
   {
    "duration": 10,
    "start_time": "2022-11-22T08:00:58.110Z"
   },
   {
    "duration": 5,
    "start_time": "2022-11-22T08:00:58.122Z"
   },
   {
    "duration": 7,
    "start_time": "2022-11-22T08:00:58.129Z"
   },
   {
    "duration": 44,
    "start_time": "2022-11-22T08:00:58.138Z"
   },
   {
    "duration": 8,
    "start_time": "2022-11-22T08:00:58.184Z"
   },
   {
    "duration": 8,
    "start_time": "2022-11-22T08:00:58.194Z"
   },
   {
    "duration": 11,
    "start_time": "2022-11-22T08:00:58.204Z"
   },
   {
    "duration": 19,
    "start_time": "2022-11-22T08:00:58.217Z"
   },
   {
    "duration": 3,
    "start_time": "2022-11-22T08:00:58.238Z"
   },
   {
    "duration": 34,
    "start_time": "2022-11-22T08:00:58.277Z"
   },
   {
    "duration": 18,
    "start_time": "2022-11-22T08:00:58.313Z"
   },
   {
    "duration": 430,
    "start_time": "2022-11-22T08:00:58.333Z"
   },
   {
    "duration": 27,
    "start_time": "2022-11-22T08:00:58.765Z"
   },
   {
    "duration": 1252,
    "start_time": "2022-11-22T08:01:47.656Z"
   },
   {
    "duration": 56,
    "start_time": "2022-11-22T08:01:48.910Z"
   },
   {
    "duration": 26,
    "start_time": "2022-11-22T08:01:48.969Z"
   },
   {
    "duration": 19,
    "start_time": "2022-11-22T08:01:48.997Z"
   },
   {
    "duration": 12,
    "start_time": "2022-11-22T08:01:49.020Z"
   },
   {
    "duration": 8,
    "start_time": "2022-11-22T08:01:49.034Z"
   },
   {
    "duration": 43,
    "start_time": "2022-11-22T08:01:49.045Z"
   },
   {
    "duration": 17,
    "start_time": "2022-11-22T08:01:49.090Z"
   },
   {
    "duration": 12,
    "start_time": "2022-11-22T08:01:49.109Z"
   },
   {
    "duration": 24,
    "start_time": "2022-11-22T08:01:49.123Z"
   },
   {
    "duration": 13,
    "start_time": "2022-11-22T08:01:49.150Z"
   },
   {
    "duration": 20,
    "start_time": "2022-11-22T08:01:49.165Z"
   },
   {
    "duration": 16,
    "start_time": "2022-11-22T08:01:49.187Z"
   },
   {
    "duration": 7,
    "start_time": "2022-11-22T08:01:49.207Z"
   },
   {
    "duration": 15,
    "start_time": "2022-11-22T08:01:49.216Z"
   },
   {
    "duration": 16,
    "start_time": "2022-11-22T08:01:49.233Z"
   },
   {
    "duration": 36,
    "start_time": "2022-11-22T08:01:49.251Z"
   },
   {
    "duration": 9,
    "start_time": "2022-11-22T08:01:49.289Z"
   },
   {
    "duration": 14,
    "start_time": "2022-11-22T08:01:49.301Z"
   },
   {
    "duration": 25,
    "start_time": "2022-11-22T08:01:49.317Z"
   },
   {
    "duration": 10,
    "start_time": "2022-11-22T08:01:49.344Z"
   },
   {
    "duration": 38,
    "start_time": "2022-11-22T08:01:49.356Z"
   },
   {
    "duration": 8,
    "start_time": "2022-11-22T08:01:49.396Z"
   },
   {
    "duration": 9,
    "start_time": "2022-11-22T08:01:49.406Z"
   },
   {
    "duration": 8,
    "start_time": "2022-11-22T08:01:49.417Z"
   },
   {
    "duration": 6,
    "start_time": "2022-11-22T08:01:49.428Z"
   },
   {
    "duration": 9,
    "start_time": "2022-11-22T08:01:49.435Z"
   },
   {
    "duration": 33,
    "start_time": "2022-11-22T08:01:49.446Z"
   },
   {
    "duration": 9,
    "start_time": "2022-11-22T08:01:49.482Z"
   },
   {
    "duration": 11,
    "start_time": "2022-11-22T08:01:49.494Z"
   },
   {
    "duration": 34,
    "start_time": "2022-11-22T08:01:49.508Z"
   },
   {
    "duration": 4,
    "start_time": "2022-11-22T08:01:49.544Z"
   },
   {
    "duration": 43,
    "start_time": "2022-11-22T08:01:49.551Z"
   },
   {
    "duration": 19,
    "start_time": "2022-11-22T08:01:49.596Z"
   },
   {
    "duration": 403,
    "start_time": "2022-11-22T08:01:49.616Z"
   },
   {
    "duration": 25,
    "start_time": "2022-11-22T08:01:50.021Z"
   },
   {
    "duration": 1298,
    "start_time": "2022-11-22T08:02:56.563Z"
   },
   {
    "duration": 57,
    "start_time": "2022-11-22T08:02:57.863Z"
   },
   {
    "duration": 22,
    "start_time": "2022-11-22T08:02:57.922Z"
   },
   {
    "duration": 34,
    "start_time": "2022-11-22T08:02:57.947Z"
   },
   {
    "duration": 4,
    "start_time": "2022-11-22T08:02:57.983Z"
   },
   {
    "duration": 11,
    "start_time": "2022-11-22T08:02:57.989Z"
   },
   {
    "duration": 30,
    "start_time": "2022-11-22T08:02:58.002Z"
   },
   {
    "duration": 13,
    "start_time": "2022-11-22T08:02:58.033Z"
   },
   {
    "duration": 10,
    "start_time": "2022-11-22T08:02:58.047Z"
   },
   {
    "duration": 9,
    "start_time": "2022-11-22T08:02:58.079Z"
   },
   {
    "duration": 12,
    "start_time": "2022-11-22T08:02:58.090Z"
   },
   {
    "duration": 16,
    "start_time": "2022-11-22T08:02:58.104Z"
   },
   {
    "duration": 15,
    "start_time": "2022-11-22T08:02:58.122Z"
   },
   {
    "duration": 14,
    "start_time": "2022-11-22T08:02:58.139Z"
   },
   {
    "duration": 26,
    "start_time": "2022-11-22T08:02:58.155Z"
   },
   {
    "duration": 26,
    "start_time": "2022-11-22T08:02:58.183Z"
   },
   {
    "duration": 25,
    "start_time": "2022-11-22T08:02:58.211Z"
   },
   {
    "duration": 12,
    "start_time": "2022-11-22T08:02:58.238Z"
   },
   {
    "duration": 19,
    "start_time": "2022-11-22T08:02:58.253Z"
   },
   {
    "duration": 18,
    "start_time": "2022-11-22T08:02:58.274Z"
   },
   {
    "duration": 15,
    "start_time": "2022-11-22T08:02:58.294Z"
   },
   {
    "duration": 13,
    "start_time": "2022-11-22T08:02:58.311Z"
   },
   {
    "duration": 13,
    "start_time": "2022-11-22T08:02:58.325Z"
   },
   {
    "duration": 12,
    "start_time": "2022-11-22T08:02:58.340Z"
   },
   {
    "duration": 24,
    "start_time": "2022-11-22T08:02:58.354Z"
   },
   {
    "duration": 9,
    "start_time": "2022-11-22T08:02:58.380Z"
   },
   {
    "duration": 7,
    "start_time": "2022-11-22T08:02:58.392Z"
   },
   {
    "duration": 7,
    "start_time": "2022-11-22T08:02:58.403Z"
   },
   {
    "duration": 9,
    "start_time": "2022-11-22T08:02:58.413Z"
   },
   {
    "duration": 10,
    "start_time": "2022-11-22T08:02:58.424Z"
   },
   {
    "duration": 54,
    "start_time": "2022-11-22T08:02:58.435Z"
   },
   {
    "duration": 19,
    "start_time": "2022-11-22T08:02:58.491Z"
   },
   {
    "duration": 28,
    "start_time": "2022-11-22T08:02:58.512Z"
   },
   {
    "duration": 17,
    "start_time": "2022-11-22T08:02:58.542Z"
   },
   {
    "duration": 402,
    "start_time": "2022-11-22T08:02:58.561Z"
   },
   {
    "duration": 30,
    "start_time": "2022-11-22T08:02:58.965Z"
   },
   {
    "duration": 6,
    "start_time": "2022-11-22T08:03:27.077Z"
   },
   {
    "duration": 17,
    "start_time": "2022-11-22T08:05:16.190Z"
   },
   {
    "duration": 24,
    "start_time": "2022-11-22T08:06:39.309Z"
   },
   {
    "duration": 27,
    "start_time": "2022-11-22T08:10:25.689Z"
   },
   {
    "duration": 28,
    "start_time": "2022-11-22T08:12:57.086Z"
   },
   {
    "duration": 7,
    "start_time": "2022-11-22T08:22:50.998Z"
   },
   {
    "duration": 14,
    "start_time": "2022-11-22T08:31:40.296Z"
   },
   {
    "duration": 105,
    "start_time": "2022-11-22T08:49:42.314Z"
   },
   {
    "duration": 12,
    "start_time": "2022-11-22T08:49:54.422Z"
   },
   {
    "duration": 23,
    "start_time": "2022-11-22T09:17:31.520Z"
   },
   {
    "duration": 24,
    "start_time": "2022-11-22T09:26:14.318Z"
   },
   {
    "duration": 86,
    "start_time": "2022-11-22T09:30:12.319Z"
   },
   {
    "duration": 1279,
    "start_time": "2022-11-22T09:30:19.135Z"
   },
   {
    "duration": 10,
    "start_time": "2022-11-22T09:41:42.120Z"
   },
   {
    "duration": 40,
    "start_time": "2022-11-22T09:43:44.093Z"
   },
   {
    "duration": 12,
    "start_time": "2022-11-22T09:44:09.231Z"
   },
   {
    "duration": 13,
    "start_time": "2022-11-22T09:44:16.533Z"
   },
   {
    "duration": 1186,
    "start_time": "2022-11-22T09:44:46.993Z"
   },
   {
    "duration": 1196,
    "start_time": "2022-11-22T09:44:59.470Z"
   },
   {
    "duration": 470,
    "start_time": "2022-11-22T09:45:54.612Z"
   },
   {
    "duration": 22,
    "start_time": "2022-11-22T09:46:08.376Z"
   },
   {
    "duration": 215,
    "start_time": "2022-11-22T09:46:15.341Z"
   },
   {
    "duration": 74,
    "start_time": "2022-11-22T09:49:19.735Z"
   },
   {
    "duration": 77,
    "start_time": "2022-11-22T09:49:29.539Z"
   },
   {
    "duration": 30,
    "start_time": "2022-11-22T09:49:49.492Z"
   },
   {
    "duration": 2406,
    "start_time": "2022-11-22T09:50:05.781Z"
   },
   {
    "duration": 30,
    "start_time": "2022-11-22T09:54:35.735Z"
   },
   {
    "duration": 2408,
    "start_time": "2022-11-22T09:54:56.125Z"
   },
   {
    "duration": 13,
    "start_time": "2022-11-22T10:00:04.099Z"
   },
   {
    "duration": 12,
    "start_time": "2022-11-22T10:00:17.639Z"
   },
   {
    "duration": 22,
    "start_time": "2022-11-22T10:00:20.807Z"
   },
   {
    "duration": 29,
    "start_time": "2022-11-22T10:00:23.457Z"
   },
   {
    "duration": 2140,
    "start_time": "2022-11-22T10:00:27.185Z"
   },
   {
    "duration": 79,
    "start_time": "2022-11-22T10:02:18.680Z"
   },
   {
    "duration": 73,
    "start_time": "2022-11-22T10:02:27.623Z"
   },
   {
    "duration": 72,
    "start_time": "2022-11-22T10:02:41.543Z"
   },
   {
    "duration": 91,
    "start_time": "2022-11-22T10:03:13.178Z"
   },
   {
    "duration": 2212,
    "start_time": "2022-11-22T10:03:22.557Z"
   },
   {
    "duration": 72,
    "start_time": "2022-11-22T10:03:44.116Z"
   },
   {
    "duration": 76,
    "start_time": "2022-11-22T10:03:50.658Z"
   },
   {
    "duration": 2231,
    "start_time": "2022-11-22T10:04:45.870Z"
   },
   {
    "duration": 1797,
    "start_time": "2022-11-22T10:25:33.841Z"
   },
   {
    "duration": 191,
    "start_time": "2022-11-22T10:27:18.252Z"
   },
   {
    "duration": 1667,
    "start_time": "2022-11-22T10:37:21.157Z"
   },
   {
    "duration": 149,
    "start_time": "2022-11-22T10:40:47.537Z"
   },
   {
    "duration": 307,
    "start_time": "2022-11-22T10:43:58.225Z"
   },
   {
    "duration": 11,
    "start_time": "2022-11-22T10:44:15.655Z"
   },
   {
    "duration": 1087,
    "start_time": "2022-11-22T10:44:55.613Z"
   },
   {
    "duration": 52,
    "start_time": "2022-11-22T10:44:56.702Z"
   },
   {
    "duration": 17,
    "start_time": "2022-11-22T10:44:56.756Z"
   },
   {
    "duration": 14,
    "start_time": "2022-11-22T10:44:56.774Z"
   },
   {
    "duration": 3,
    "start_time": "2022-11-22T10:44:56.790Z"
   },
   {
    "duration": 7,
    "start_time": "2022-11-22T10:44:56.794Z"
   },
   {
    "duration": 20,
    "start_time": "2022-11-22T10:44:56.802Z"
   },
   {
    "duration": 15,
    "start_time": "2022-11-22T10:44:56.823Z"
   },
   {
    "duration": 7,
    "start_time": "2022-11-22T10:44:56.840Z"
   },
   {
    "duration": 8,
    "start_time": "2022-11-22T10:44:56.850Z"
   },
   {
    "duration": 5,
    "start_time": "2022-11-22T10:44:56.877Z"
   },
   {
    "duration": 9,
    "start_time": "2022-11-22T10:44:56.883Z"
   },
   {
    "duration": 7,
    "start_time": "2022-11-22T10:44:56.894Z"
   },
   {
    "duration": 9,
    "start_time": "2022-11-22T10:44:56.902Z"
   },
   {
    "duration": 9,
    "start_time": "2022-11-22T10:44:56.912Z"
   },
   {
    "duration": 19,
    "start_time": "2022-11-22T10:44:56.923Z"
   },
   {
    "duration": 19,
    "start_time": "2022-11-22T10:44:56.943Z"
   },
   {
    "duration": 15,
    "start_time": "2022-11-22T10:44:56.963Z"
   },
   {
    "duration": 5,
    "start_time": "2022-11-22T10:44:56.979Z"
   },
   {
    "duration": 18,
    "start_time": "2022-11-22T10:44:56.985Z"
   },
   {
    "duration": 5,
    "start_time": "2022-11-22T10:44:57.005Z"
   },
   {
    "duration": 16,
    "start_time": "2022-11-22T10:44:57.012Z"
   },
   {
    "duration": 12,
    "start_time": "2022-11-22T10:44:57.030Z"
   },
   {
    "duration": 8,
    "start_time": "2022-11-22T10:44:57.044Z"
   },
   {
    "duration": 9,
    "start_time": "2022-11-22T10:44:57.053Z"
   },
   {
    "duration": 5,
    "start_time": "2022-11-22T10:44:57.077Z"
   },
   {
    "duration": 6,
    "start_time": "2022-11-22T10:44:57.083Z"
   },
   {
    "duration": 4,
    "start_time": "2022-11-22T10:44:57.092Z"
   },
   {
    "duration": 7,
    "start_time": "2022-11-22T10:44:57.097Z"
   },
   {
    "duration": 6,
    "start_time": "2022-11-22T10:44:57.105Z"
   },
   {
    "duration": 18,
    "start_time": "2022-11-22T10:44:57.112Z"
   },
   {
    "duration": 3,
    "start_time": "2022-11-22T10:44:57.132Z"
   },
   {
    "duration": 56,
    "start_time": "2022-11-22T10:44:57.136Z"
   },
   {
    "duration": 16,
    "start_time": "2022-11-22T10:44:57.193Z"
   },
   {
    "duration": 350,
    "start_time": "2022-11-22T10:44:57.210Z"
   },
   {
    "duration": 33,
    "start_time": "2022-11-22T10:44:57.562Z"
   },
   {
    "duration": 12,
    "start_time": "2022-11-22T10:44:57.597Z"
   },
   {
    "duration": 22,
    "start_time": "2022-11-22T10:44:57.611Z"
   },
   {
    "duration": 74,
    "start_time": "2022-11-22T10:44:57.635Z"
   },
   {
    "duration": 1278,
    "start_time": "2022-11-22T10:44:57.711Z"
   },
   {
    "duration": 12,
    "start_time": "2022-11-22T10:46:23.829Z"
   },
   {
    "duration": 13,
    "start_time": "2022-11-22T10:47:17.210Z"
   },
   {
    "duration": 1137,
    "start_time": "2022-11-22T10:47:37.875Z"
   },
   {
    "duration": 59,
    "start_time": "2022-11-22T10:47:39.014Z"
   },
   {
    "duration": 16,
    "start_time": "2022-11-22T10:47:39.074Z"
   },
   {
    "duration": 14,
    "start_time": "2022-11-22T10:47:39.092Z"
   },
   {
    "duration": 5,
    "start_time": "2022-11-22T10:47:39.107Z"
   },
   {
    "duration": 5,
    "start_time": "2022-11-22T10:47:39.114Z"
   },
   {
    "duration": 16,
    "start_time": "2022-11-22T10:47:39.120Z"
   },
   {
    "duration": 13,
    "start_time": "2022-11-22T10:47:39.137Z"
   },
   {
    "duration": 28,
    "start_time": "2022-11-22T10:47:39.151Z"
   },
   {
    "duration": 8,
    "start_time": "2022-11-22T10:47:39.182Z"
   },
   {
    "duration": 7,
    "start_time": "2022-11-22T10:47:39.192Z"
   },
   {
    "duration": 8,
    "start_time": "2022-11-22T10:47:39.200Z"
   },
   {
    "duration": 7,
    "start_time": "2022-11-22T10:47:39.209Z"
   },
   {
    "duration": 9,
    "start_time": "2022-11-22T10:47:39.217Z"
   },
   {
    "duration": 7,
    "start_time": "2022-11-22T10:47:39.228Z"
   },
   {
    "duration": 8,
    "start_time": "2022-11-22T10:47:39.237Z"
   },
   {
    "duration": 39,
    "start_time": "2022-11-22T10:47:39.247Z"
   },
   {
    "duration": 8,
    "start_time": "2022-11-22T10:47:39.288Z"
   },
   {
    "duration": 8,
    "start_time": "2022-11-22T10:47:39.298Z"
   },
   {
    "duration": 18,
    "start_time": "2022-11-22T10:47:39.307Z"
   },
   {
    "duration": 6,
    "start_time": "2022-11-22T10:47:39.326Z"
   },
   {
    "duration": 13,
    "start_time": "2022-11-22T10:47:39.333Z"
   },
   {
    "duration": 6,
    "start_time": "2022-11-22T10:47:39.347Z"
   },
   {
    "duration": 25,
    "start_time": "2022-11-22T10:47:39.354Z"
   },
   {
    "duration": 20,
    "start_time": "2022-11-22T10:47:39.380Z"
   },
   {
    "duration": 12,
    "start_time": "2022-11-22T10:47:39.402Z"
   },
   {
    "duration": 18,
    "start_time": "2022-11-22T10:47:39.416Z"
   },
   {
    "duration": 20,
    "start_time": "2022-11-22T10:47:39.438Z"
   },
   {
    "duration": 20,
    "start_time": "2022-11-22T10:47:39.460Z"
   },
   {
    "duration": 15,
    "start_time": "2022-11-22T10:47:39.482Z"
   },
   {
    "duration": 20,
    "start_time": "2022-11-22T10:47:39.498Z"
   },
   {
    "duration": 4,
    "start_time": "2022-11-22T10:47:39.519Z"
   },
   {
    "duration": 25,
    "start_time": "2022-11-22T10:47:39.525Z"
   },
   {
    "duration": 18,
    "start_time": "2022-11-22T10:47:39.551Z"
   },
   {
    "duration": 362,
    "start_time": "2022-11-22T10:47:39.578Z"
   },
   {
    "duration": 25,
    "start_time": "2022-11-22T10:47:39.942Z"
   },
   {
    "duration": 21,
    "start_time": "2022-11-22T10:47:39.969Z"
   },
   {
    "duration": 47,
    "start_time": "2022-11-22T10:47:39.991Z"
   },
   {
    "duration": 30,
    "start_time": "2022-11-22T10:47:40.039Z"
   },
   {
    "duration": 122,
    "start_time": "2022-11-22T10:47:40.071Z"
   },
   {
    "duration": 232,
    "start_time": "2022-11-22T10:58:52.108Z"
   },
   {
    "duration": 18,
    "start_time": "2022-11-22T11:03:53.412Z"
   },
   {
    "duration": 266,
    "start_time": "2022-11-22T11:07:23.541Z"
   },
   {
    "duration": 8,
    "start_time": "2022-11-22T11:11:19.290Z"
   },
   {
    "duration": 93,
    "start_time": "2022-11-22T11:12:17.062Z"
   },
   {
    "duration": 7,
    "start_time": "2022-11-22T11:12:42.071Z"
   },
   {
    "duration": 13,
    "start_time": "2022-11-22T11:13:46.093Z"
   },
   {
    "duration": 12,
    "start_time": "2022-11-22T11:13:52.169Z"
   },
   {
    "duration": 7,
    "start_time": "2022-11-22T11:15:10.190Z"
   },
   {
    "duration": 222,
    "start_time": "2022-11-22T11:15:43.595Z"
   },
   {
    "duration": 236,
    "start_time": "2022-11-22T11:18:15.598Z"
   },
   {
    "duration": 73,
    "start_time": "2022-11-22T11:18:47.447Z"
   },
   {
    "duration": 235,
    "start_time": "2022-11-22T11:18:55.676Z"
   },
   {
    "duration": 268,
    "start_time": "2022-11-22T11:21:15.229Z"
   },
   {
    "duration": 6,
    "start_time": "2022-11-22T11:29:51.106Z"
   },
   {
    "duration": 361,
    "start_time": "2022-11-22T11:31:18.726Z"
   },
   {
    "duration": 301,
    "start_time": "2022-11-22T11:32:43.560Z"
   },
   {
    "duration": 6,
    "start_time": "2022-11-22T11:33:48.760Z"
   },
   {
    "duration": 280,
    "start_time": "2022-11-22T11:33:50.640Z"
   },
   {
    "duration": 22,
    "start_time": "2022-11-22T11:34:47.064Z"
   },
   {
    "duration": 243,
    "start_time": "2022-11-22T11:38:07.584Z"
   },
   {
    "duration": 7,
    "start_time": "2022-11-22T11:39:27.745Z"
   },
   {
    "duration": 25,
    "start_time": "2022-11-22T11:39:31.232Z"
   },
   {
    "duration": 6,
    "start_time": "2022-11-22T11:40:23.910Z"
   },
   {
    "duration": 279,
    "start_time": "2022-11-22T11:40:26.200Z"
   },
   {
    "duration": 27,
    "start_time": "2022-11-22T11:42:15.215Z"
   },
   {
    "duration": 31,
    "start_time": "2022-11-22T11:43:34.883Z"
   },
   {
    "duration": 31,
    "start_time": "2022-11-22T11:44:19.968Z"
   },
   {
    "duration": 18,
    "start_time": "2022-11-22T11:44:47.661Z"
   },
   {
    "duration": 27,
    "start_time": "2022-11-22T11:45:02.795Z"
   },
   {
    "duration": 6,
    "start_time": "2022-11-22T11:45:14.231Z"
   },
   {
    "duration": 305,
    "start_time": "2022-11-22T11:45:32.736Z"
   },
   {
    "duration": 316,
    "start_time": "2022-11-22T11:47:40.909Z"
   },
   {
    "duration": 1559,
    "start_time": "2022-11-22T11:48:23.992Z"
   },
   {
    "duration": 1183,
    "start_time": "2022-11-22T11:48:43.420Z"
   },
   {
    "duration": 309,
    "start_time": "2022-11-22T11:50:05.892Z"
   },
   {
    "duration": 299,
    "start_time": "2022-11-22T11:50:25.024Z"
   },
   {
    "duration": 285,
    "start_time": "2022-11-22T11:50:37.922Z"
   },
   {
    "duration": 280,
    "start_time": "2022-11-22T11:50:57.251Z"
   },
   {
    "duration": 6,
    "start_time": "2022-11-22T11:53:05.796Z"
   },
   {
    "duration": 7,
    "start_time": "2022-11-22T11:53:08.527Z"
   },
   {
    "duration": 401,
    "start_time": "2022-11-22T11:53:10.405Z"
   },
   {
    "duration": 6,
    "start_time": "2022-11-22T11:53:17.281Z"
   },
   {
    "duration": 344,
    "start_time": "2022-11-22T11:53:18.910Z"
   },
   {
    "duration": 110,
    "start_time": "2022-11-22T12:11:47.625Z"
   },
   {
    "duration": 3,
    "start_time": "2022-11-22T12:13:31.235Z"
   },
   {
    "duration": 9,
    "start_time": "2022-11-22T12:14:46.569Z"
   },
   {
    "duration": 17,
    "start_time": "2022-11-22T12:15:06.178Z"
   },
   {
    "duration": 95,
    "start_time": "2022-11-22T12:15:25.391Z"
   },
   {
    "duration": 144,
    "start_time": "2022-11-22T12:17:09.314Z"
   },
   {
    "duration": 434,
    "start_time": "2022-11-22T12:17:29.989Z"
   },
   {
    "duration": 700,
    "start_time": "2022-11-22T12:18:59.444Z"
   },
   {
    "duration": 421,
    "start_time": "2022-11-22T12:19:20.215Z"
   },
   {
    "duration": 422,
    "start_time": "2022-11-22T12:20:31.292Z"
   },
   {
    "duration": 67,
    "start_time": "2022-11-22T12:21:15.400Z"
   },
   {
    "duration": 438,
    "start_time": "2022-11-22T12:21:20.316Z"
   },
   {
    "duration": 148,
    "start_time": "2022-11-22T12:21:49.028Z"
   },
   {
    "duration": 443,
    "start_time": "2022-11-22T12:22:19.062Z"
   },
   {
    "duration": 137,
    "start_time": "2022-11-22T12:23:01.511Z"
   },
   {
    "duration": 113,
    "start_time": "2022-11-22T12:23:24.316Z"
   },
   {
    "duration": 517,
    "start_time": "2022-11-22T12:26:07.121Z"
   },
   {
    "duration": 50,
    "start_time": "2022-11-22T15:46:38.100Z"
   },
   {
    "duration": 1314,
    "start_time": "2022-11-22T15:46:53.939Z"
   },
   {
    "duration": 96,
    "start_time": "2022-11-22T15:46:55.255Z"
   },
   {
    "duration": 17,
    "start_time": "2022-11-22T15:46:55.353Z"
   },
   {
    "duration": 14,
    "start_time": "2022-11-22T15:46:55.372Z"
   },
   {
    "duration": 4,
    "start_time": "2022-11-22T15:46:55.389Z"
   },
   {
    "duration": 6,
    "start_time": "2022-11-22T15:46:55.394Z"
   },
   {
    "duration": 22,
    "start_time": "2022-11-22T15:46:55.401Z"
   },
   {
    "duration": 10,
    "start_time": "2022-11-22T15:46:55.424Z"
   },
   {
    "duration": 7,
    "start_time": "2022-11-22T15:46:55.435Z"
   },
   {
    "duration": 8,
    "start_time": "2022-11-22T15:46:55.444Z"
   },
   {
    "duration": 5,
    "start_time": "2022-11-22T15:46:55.453Z"
   },
   {
    "duration": 7,
    "start_time": "2022-11-22T15:46:55.459Z"
   },
   {
    "duration": 46,
    "start_time": "2022-11-22T15:46:55.468Z"
   },
   {
    "duration": 5,
    "start_time": "2022-11-22T15:46:55.518Z"
   },
   {
    "duration": 8,
    "start_time": "2022-11-22T15:46:55.525Z"
   },
   {
    "duration": 10,
    "start_time": "2022-11-22T15:46:55.535Z"
   },
   {
    "duration": 18,
    "start_time": "2022-11-22T15:46:55.546Z"
   },
   {
    "duration": 7,
    "start_time": "2022-11-22T15:46:55.566Z"
   },
   {
    "duration": 38,
    "start_time": "2022-11-22T15:46:55.575Z"
   },
   {
    "duration": 16,
    "start_time": "2022-11-22T15:46:55.614Z"
   },
   {
    "duration": 7,
    "start_time": "2022-11-22T15:46:55.631Z"
   },
   {
    "duration": 12,
    "start_time": "2022-11-22T15:46:55.639Z"
   },
   {
    "duration": 7,
    "start_time": "2022-11-22T15:46:55.653Z"
   },
   {
    "duration": 6,
    "start_time": "2022-11-22T15:46:55.661Z"
   },
   {
    "duration": 8,
    "start_time": "2022-11-22T15:46:55.668Z"
   },
   {
    "duration": 35,
    "start_time": "2022-11-22T15:46:55.678Z"
   },
   {
    "duration": 8,
    "start_time": "2022-11-22T15:46:55.715Z"
   },
   {
    "duration": 11,
    "start_time": "2022-11-22T15:46:55.725Z"
   },
   {
    "duration": 10,
    "start_time": "2022-11-22T15:46:55.738Z"
   },
   {
    "duration": 9,
    "start_time": "2022-11-22T15:46:55.749Z"
   },
   {
    "duration": 27,
    "start_time": "2022-11-22T15:46:55.760Z"
   },
   {
    "duration": 3,
    "start_time": "2022-11-22T15:46:55.789Z"
   },
   {
    "duration": 22,
    "start_time": "2022-11-22T15:46:55.819Z"
   },
   {
    "duration": 17,
    "start_time": "2022-11-22T15:46:55.843Z"
   },
   {
    "duration": 409,
    "start_time": "2022-11-22T15:46:55.862Z"
   },
   {
    "duration": 23,
    "start_time": "2022-11-22T15:46:56.273Z"
   },
   {
    "duration": 346,
    "start_time": "2022-11-22T15:46:56.298Z"
   },
   {
    "duration": 7,
    "start_time": "2022-11-22T15:46:56.646Z"
   },
   {
    "duration": 351,
    "start_time": "2022-11-22T15:46:56.655Z"
   },
   {
    "duration": 254,
    "start_time": "2022-11-22T15:46:57.008Z"
   },
   {
    "duration": 60,
    "start_time": "2022-11-22T15:46:57.267Z"
   },
   {
    "duration": 18,
    "start_time": "2022-11-22T15:47:31.975Z"
   },
   {
    "duration": 1257,
    "start_time": "2022-11-22T15:49:36.028Z"
   },
   {
    "duration": 55,
    "start_time": "2022-11-22T15:49:37.287Z"
   },
   {
    "duration": 21,
    "start_time": "2022-11-22T15:49:37.344Z"
   },
   {
    "duration": 16,
    "start_time": "2022-11-22T15:49:37.367Z"
   },
   {
    "duration": 3,
    "start_time": "2022-11-22T15:49:37.385Z"
   },
   {
    "duration": 4,
    "start_time": "2022-11-22T15:49:37.412Z"
   },
   {
    "duration": 38,
    "start_time": "2022-11-22T15:49:37.418Z"
   },
   {
    "duration": 32,
    "start_time": "2022-11-22T15:49:37.458Z"
   },
   {
    "duration": 17,
    "start_time": "2022-11-22T15:49:37.492Z"
   },
   {
    "duration": 19,
    "start_time": "2022-11-22T15:49:37.513Z"
   },
   {
    "duration": 6,
    "start_time": "2022-11-22T15:49:37.534Z"
   },
   {
    "duration": 14,
    "start_time": "2022-11-22T15:49:37.542Z"
   },
   {
    "duration": 10,
    "start_time": "2022-11-22T15:49:37.558Z"
   },
   {
    "duration": 12,
    "start_time": "2022-11-22T15:49:37.570Z"
   },
   {
    "duration": 22,
    "start_time": "2022-11-22T15:49:37.584Z"
   },
   {
    "duration": 11,
    "start_time": "2022-11-22T15:49:37.608Z"
   },
   {
    "duration": 23,
    "start_time": "2022-11-22T15:49:37.623Z"
   },
   {
    "duration": 9,
    "start_time": "2022-11-22T15:49:37.648Z"
   },
   {
    "duration": 9,
    "start_time": "2022-11-22T15:49:37.659Z"
   },
   {
    "duration": 21,
    "start_time": "2022-11-22T15:49:37.670Z"
   },
   {
    "duration": 20,
    "start_time": "2022-11-22T15:49:37.693Z"
   },
   {
    "duration": 11,
    "start_time": "2022-11-22T15:49:37.715Z"
   },
   {
    "duration": 35,
    "start_time": "2022-11-22T15:49:37.728Z"
   },
   {
    "duration": 24,
    "start_time": "2022-11-22T15:49:37.765Z"
   },
   {
    "duration": 15,
    "start_time": "2022-11-22T15:49:37.791Z"
   },
   {
    "duration": 10,
    "start_time": "2022-11-22T15:49:37.808Z"
   },
   {
    "duration": 11,
    "start_time": "2022-11-22T15:49:37.820Z"
   },
   {
    "duration": 18,
    "start_time": "2022-11-22T15:49:37.835Z"
   },
   {
    "duration": 9,
    "start_time": "2022-11-22T15:49:37.855Z"
   },
   {
    "duration": 19,
    "start_time": "2022-11-22T15:49:37.866Z"
   },
   {
    "duration": 23,
    "start_time": "2022-11-22T15:49:37.887Z"
   },
   {
    "duration": 4,
    "start_time": "2022-11-22T15:49:37.911Z"
   },
   {
    "duration": 32,
    "start_time": "2022-11-22T15:49:37.917Z"
   },
   {
    "duration": 18,
    "start_time": "2022-11-22T15:49:37.951Z"
   },
   {
    "duration": 424,
    "start_time": "2022-11-22T15:49:37.971Z"
   },
   {
    "duration": 32,
    "start_time": "2022-11-22T15:49:38.398Z"
   },
   {
    "duration": 364,
    "start_time": "2022-11-22T15:49:38.432Z"
   },
   {
    "duration": 8,
    "start_time": "2022-11-22T15:49:38.798Z"
   },
   {
    "duration": 308,
    "start_time": "2022-11-22T15:49:38.808Z"
   },
   {
    "duration": 277,
    "start_time": "2022-11-22T15:49:39.117Z"
   },
   {
    "duration": 61,
    "start_time": "2022-11-22T15:49:39.395Z"
   },
   {
    "duration": 18,
    "start_time": "2022-11-22T16:02:24.339Z"
   },
   {
    "duration": 111,
    "start_time": "2022-11-22T16:05:58.861Z"
   },
   {
    "duration": 619,
    "start_time": "2022-11-22T16:06:12.365Z"
   },
   {
    "duration": 707,
    "start_time": "2022-11-22T16:06:56.213Z"
   },
   {
    "duration": 739,
    "start_time": "2022-11-22T16:08:01.597Z"
   },
   {
    "duration": 596,
    "start_time": "2022-11-22T16:08:10.494Z"
   },
   {
    "duration": 641,
    "start_time": "2022-11-22T16:08:28.835Z"
   },
   {
    "duration": 19,
    "start_time": "2022-11-22T16:09:57.957Z"
   },
   {
    "duration": 19,
    "start_time": "2022-11-22T16:17:07.759Z"
   },
   {
    "duration": 17,
    "start_time": "2022-11-22T16:17:22.512Z"
   },
   {
    "duration": 19,
    "start_time": "2022-11-22T16:17:35.085Z"
   },
   {
    "duration": 16,
    "start_time": "2022-11-22T16:17:46.493Z"
   },
   {
    "duration": 15,
    "start_time": "2022-11-22T16:22:25.650Z"
   },
   {
    "duration": 21,
    "start_time": "2022-11-22T16:29:10.141Z"
   },
   {
    "duration": 224,
    "start_time": "2022-11-22T16:31:00.245Z"
   },
   {
    "duration": 264,
    "start_time": "2022-11-22T16:31:21.338Z"
   },
   {
    "duration": 624,
    "start_time": "2022-11-22T16:37:20.522Z"
   },
   {
    "duration": 24,
    "start_time": "2022-11-22T16:54:01.233Z"
   },
   {
    "duration": 21,
    "start_time": "2022-11-22T17:01:26.124Z"
   },
   {
    "duration": 21,
    "start_time": "2022-11-22T17:02:01.464Z"
   },
   {
    "duration": 26,
    "start_time": "2022-11-22T17:02:57.932Z"
   },
   {
    "duration": 35,
    "start_time": "2022-11-22T17:03:03.327Z"
   },
   {
    "duration": 29,
    "start_time": "2022-11-22T17:03:12.607Z"
   },
   {
    "duration": 26,
    "start_time": "2022-11-22T17:03:25.190Z"
   },
   {
    "duration": 24,
    "start_time": "2022-11-22T17:03:39.396Z"
   },
   {
    "duration": 47,
    "start_time": "2022-11-22T19:59:06.820Z"
   },
   {
    "duration": 1259,
    "start_time": "2022-11-22T19:59:16.522Z"
   },
   {
    "duration": 91,
    "start_time": "2022-11-22T19:59:17.783Z"
   },
   {
    "duration": 19,
    "start_time": "2022-11-22T19:59:17.875Z"
   },
   {
    "duration": 16,
    "start_time": "2022-11-22T19:59:17.896Z"
   },
   {
    "duration": 3,
    "start_time": "2022-11-22T19:59:17.914Z"
   },
   {
    "duration": 9,
    "start_time": "2022-11-22T19:59:17.919Z"
   },
   {
    "duration": 24,
    "start_time": "2022-11-22T19:59:17.930Z"
   },
   {
    "duration": 14,
    "start_time": "2022-11-22T19:59:17.956Z"
   },
   {
    "duration": 24,
    "start_time": "2022-11-22T19:59:17.972Z"
   },
   {
    "duration": 8,
    "start_time": "2022-11-22T19:59:17.999Z"
   },
   {
    "duration": 7,
    "start_time": "2022-11-22T19:59:18.008Z"
   },
   {
    "duration": 7,
    "start_time": "2022-11-22T19:59:18.016Z"
   },
   {
    "duration": 8,
    "start_time": "2022-11-22T19:59:18.024Z"
   },
   {
    "duration": 5,
    "start_time": "2022-11-22T19:59:18.033Z"
   },
   {
    "duration": 4,
    "start_time": "2022-11-22T19:59:18.040Z"
   },
   {
    "duration": 14,
    "start_time": "2022-11-22T19:59:18.046Z"
   },
   {
    "duration": 19,
    "start_time": "2022-11-22T19:59:18.062Z"
   },
   {
    "duration": 30,
    "start_time": "2022-11-22T19:59:18.082Z"
   },
   {
    "duration": 8,
    "start_time": "2022-11-22T19:59:18.113Z"
   },
   {
    "duration": 7,
    "start_time": "2022-11-22T19:59:18.122Z"
   },
   {
    "duration": 17,
    "start_time": "2022-11-22T19:59:18.131Z"
   },
   {
    "duration": 6,
    "start_time": "2022-11-22T19:59:18.150Z"
   },
   {
    "duration": 9,
    "start_time": "2022-11-22T19:59:18.158Z"
   },
   {
    "duration": 30,
    "start_time": "2022-11-22T19:59:18.168Z"
   },
   {
    "duration": 7,
    "start_time": "2022-11-22T19:59:18.200Z"
   },
   {
    "duration": 10,
    "start_time": "2022-11-22T19:59:18.208Z"
   },
   {
    "duration": 5,
    "start_time": "2022-11-22T19:59:18.220Z"
   },
   {
    "duration": 5,
    "start_time": "2022-11-22T19:59:18.228Z"
   },
   {
    "duration": 5,
    "start_time": "2022-11-22T19:59:18.235Z"
   },
   {
    "duration": 10,
    "start_time": "2022-11-22T19:59:18.241Z"
   },
   {
    "duration": 14,
    "start_time": "2022-11-22T19:59:18.252Z"
   },
   {
    "duration": 39,
    "start_time": "2022-11-22T19:59:18.268Z"
   },
   {
    "duration": 3,
    "start_time": "2022-11-22T19:59:18.309Z"
   },
   {
    "duration": 26,
    "start_time": "2022-11-22T19:59:18.314Z"
   },
   {
    "duration": 15,
    "start_time": "2022-11-22T19:59:18.342Z"
   },
   {
    "duration": 386,
    "start_time": "2022-11-22T19:59:18.359Z"
   },
   {
    "duration": 23,
    "start_time": "2022-11-22T19:59:18.747Z"
   },
   {
    "duration": 329,
    "start_time": "2022-11-22T19:59:18.772Z"
   },
   {
    "duration": 7,
    "start_time": "2022-11-22T19:59:19.103Z"
   },
   {
    "duration": 306,
    "start_time": "2022-11-22T19:59:19.112Z"
   },
   {
    "duration": 241,
    "start_time": "2022-11-22T19:59:19.420Z"
   },
   {
    "duration": 60,
    "start_time": "2022-11-22T19:59:19.663Z"
   },
   {
    "duration": 713,
    "start_time": "2022-11-22T19:59:19.725Z"
   },
   {
    "duration": 569,
    "start_time": "2022-11-22T19:59:20.440Z"
   },
   {
    "duration": 14,
    "start_time": "2022-11-22T19:59:21.011Z"
   },
   {
    "duration": 16,
    "start_time": "2022-11-22T19:59:21.027Z"
   },
   {
    "duration": 290,
    "start_time": "2022-11-22T19:59:21.044Z"
   },
   {
    "duration": 18,
    "start_time": "2022-11-22T19:59:21.336Z"
   },
   {
    "duration": 9,
    "start_time": "2022-11-22T20:00:31.565Z"
   },
   {
    "duration": 4,
    "start_time": "2022-11-22T20:01:54.559Z"
   },
   {
    "duration": 8,
    "start_time": "2022-11-22T20:01:57.997Z"
   },
   {
    "duration": 1186,
    "start_time": "2022-11-22T20:02:13.179Z"
   },
   {
    "duration": 51,
    "start_time": "2022-11-22T20:02:14.367Z"
   },
   {
    "duration": 18,
    "start_time": "2022-11-22T20:02:14.419Z"
   },
   {
    "duration": 16,
    "start_time": "2022-11-22T20:02:14.439Z"
   },
   {
    "duration": 3,
    "start_time": "2022-11-22T20:02:14.457Z"
   },
   {
    "duration": 6,
    "start_time": "2022-11-22T20:02:14.461Z"
   },
   {
    "duration": 36,
    "start_time": "2022-11-22T20:02:14.469Z"
   },
   {
    "duration": 11,
    "start_time": "2022-11-22T20:02:14.507Z"
   },
   {
    "duration": 15,
    "start_time": "2022-11-22T20:02:14.519Z"
   },
   {
    "duration": 7,
    "start_time": "2022-11-22T20:02:14.537Z"
   },
   {
    "duration": 5,
    "start_time": "2022-11-22T20:02:14.545Z"
   },
   {
    "duration": 9,
    "start_time": "2022-11-22T20:02:14.551Z"
   },
   {
    "duration": 40,
    "start_time": "2022-11-22T20:02:14.562Z"
   },
   {
    "duration": 11,
    "start_time": "2022-11-22T20:02:14.604Z"
   },
   {
    "duration": 10,
    "start_time": "2022-11-22T20:02:14.617Z"
   },
   {
    "duration": 14,
    "start_time": "2022-11-22T20:02:14.629Z"
   },
   {
    "duration": 9,
    "start_time": "2022-11-22T20:02:14.645Z"
   },
   {
    "duration": 14,
    "start_time": "2022-11-22T20:02:14.656Z"
   },
   {
    "duration": 22,
    "start_time": "2022-11-22T20:02:14.672Z"
   },
   {
    "duration": 24,
    "start_time": "2022-11-22T20:02:14.696Z"
   },
   {
    "duration": 9,
    "start_time": "2022-11-22T20:02:14.722Z"
   },
   {
    "duration": 16,
    "start_time": "2022-11-22T20:02:14.732Z"
   },
   {
    "duration": 20,
    "start_time": "2022-11-22T20:02:14.749Z"
   },
   {
    "duration": 27,
    "start_time": "2022-11-22T20:02:14.771Z"
   },
   {
    "duration": 10,
    "start_time": "2022-11-22T20:02:14.800Z"
   },
   {
    "duration": 8,
    "start_time": "2022-11-22T20:02:14.812Z"
   },
   {
    "duration": 7,
    "start_time": "2022-11-22T20:02:14.822Z"
   },
   {
    "duration": 5,
    "start_time": "2022-11-22T20:02:14.832Z"
   },
   {
    "duration": 7,
    "start_time": "2022-11-22T20:02:14.839Z"
   },
   {
    "duration": 12,
    "start_time": "2022-11-22T20:02:14.849Z"
   },
   {
    "duration": 35,
    "start_time": "2022-11-22T20:02:14.863Z"
   },
   {
    "duration": 5,
    "start_time": "2022-11-22T20:02:14.900Z"
   },
   {
    "duration": 7,
    "start_time": "2022-11-22T20:02:14.907Z"
   },
   {
    "duration": 24,
    "start_time": "2022-11-22T20:02:14.916Z"
   },
   {
    "duration": 5,
    "start_time": "2022-11-22T20:02:14.941Z"
   },
   {
    "duration": 25,
    "start_time": "2022-11-22T20:02:14.948Z"
   },
   {
    "duration": 17,
    "start_time": "2022-11-22T20:02:14.997Z"
   },
   {
    "duration": 404,
    "start_time": "2022-11-22T20:02:15.016Z"
   },
   {
    "duration": 21,
    "start_time": "2022-11-22T20:02:15.422Z"
   },
   {
    "duration": 333,
    "start_time": "2022-11-22T20:02:15.444Z"
   },
   {
    "duration": 7,
    "start_time": "2022-11-22T20:02:15.780Z"
   },
   {
    "duration": 342,
    "start_time": "2022-11-22T20:02:15.790Z"
   },
   {
    "duration": 261,
    "start_time": "2022-11-22T20:02:16.135Z"
   },
   {
    "duration": 50,
    "start_time": "2022-11-22T20:02:16.398Z"
   },
   {
    "duration": 607,
    "start_time": "2022-11-22T20:02:16.450Z"
   },
   {
    "duration": 573,
    "start_time": "2022-11-22T20:02:17.059Z"
   },
   {
    "duration": 14,
    "start_time": "2022-11-22T20:02:17.634Z"
   },
   {
    "duration": 16,
    "start_time": "2022-11-22T20:02:17.650Z"
   },
   {
    "duration": 309,
    "start_time": "2022-11-22T20:02:17.668Z"
   },
   {
    "duration": 28,
    "start_time": "2022-11-22T20:02:17.978Z"
   },
   {
    "duration": 1085,
    "start_time": "2022-11-22T20:04:32.532Z"
   },
   {
    "duration": 48,
    "start_time": "2022-11-22T20:04:33.619Z"
   },
   {
    "duration": 17,
    "start_time": "2022-11-22T20:04:33.669Z"
   },
   {
    "duration": 16,
    "start_time": "2022-11-22T20:04:33.688Z"
   },
   {
    "duration": 3,
    "start_time": "2022-11-22T20:04:33.706Z"
   },
   {
    "duration": 6,
    "start_time": "2022-11-22T20:04:33.711Z"
   },
   {
    "duration": 19,
    "start_time": "2022-11-22T20:04:33.719Z"
   },
   {
    "duration": 15,
    "start_time": "2022-11-22T20:04:33.739Z"
   },
   {
    "duration": 7,
    "start_time": "2022-11-22T20:04:33.755Z"
   },
   {
    "duration": 10,
    "start_time": "2022-11-22T20:04:33.765Z"
   },
   {
    "duration": 23,
    "start_time": "2022-11-22T20:04:33.777Z"
   },
   {
    "duration": 12,
    "start_time": "2022-11-22T20:04:33.801Z"
   },
   {
    "duration": 8,
    "start_time": "2022-11-22T20:04:33.815Z"
   },
   {
    "duration": 14,
    "start_time": "2022-11-22T20:04:33.825Z"
   },
   {
    "duration": 9,
    "start_time": "2022-11-22T20:04:33.841Z"
   },
   {
    "duration": 9,
    "start_time": "2022-11-22T20:04:33.852Z"
   },
   {
    "duration": 22,
    "start_time": "2022-11-22T20:04:33.862Z"
   },
   {
    "duration": 11,
    "start_time": "2022-11-22T20:04:33.886Z"
   },
   {
    "duration": 10,
    "start_time": "2022-11-22T20:04:33.899Z"
   },
   {
    "duration": 23,
    "start_time": "2022-11-22T20:04:33.911Z"
   },
   {
    "duration": 6,
    "start_time": "2022-11-22T20:04:33.936Z"
   },
   {
    "duration": 6,
    "start_time": "2022-11-22T20:04:33.944Z"
   },
   {
    "duration": 11,
    "start_time": "2022-11-22T20:04:33.952Z"
   },
   {
    "duration": 33,
    "start_time": "2022-11-22T20:04:33.965Z"
   },
   {
    "duration": 9,
    "start_time": "2022-11-22T20:04:34.000Z"
   },
   {
    "duration": 7,
    "start_time": "2022-11-22T20:04:34.010Z"
   },
   {
    "duration": 6,
    "start_time": "2022-11-22T20:04:34.019Z"
   },
   {
    "duration": 4,
    "start_time": "2022-11-22T20:04:34.029Z"
   },
   {
    "duration": 6,
    "start_time": "2022-11-22T20:04:34.035Z"
   },
   {
    "duration": 5,
    "start_time": "2022-11-22T20:04:34.043Z"
   },
   {
    "duration": 11,
    "start_time": "2022-11-22T20:04:34.050Z"
   },
   {
    "duration": 36,
    "start_time": "2022-11-22T20:04:34.062Z"
   },
   {
    "duration": 13,
    "start_time": "2022-11-22T20:04:34.100Z"
   },
   {
    "duration": 17,
    "start_time": "2022-11-22T20:04:34.114Z"
   },
   {
    "duration": 4,
    "start_time": "2022-11-22T20:04:34.133Z"
   },
   {
    "duration": 20,
    "start_time": "2022-11-22T20:04:34.138Z"
   },
   {
    "duration": 38,
    "start_time": "2022-11-22T20:04:34.160Z"
   },
   {
    "duration": 354,
    "start_time": "2022-11-22T20:04:34.200Z"
   },
   {
    "duration": 16,
    "start_time": "2022-11-22T20:04:34.556Z"
   },
   {
    "duration": 321,
    "start_time": "2022-11-22T20:04:34.573Z"
   },
   {
    "duration": 6,
    "start_time": "2022-11-22T20:04:34.895Z"
   },
   {
    "duration": 294,
    "start_time": "2022-11-22T20:04:34.902Z"
   },
   {
    "duration": 249,
    "start_time": "2022-11-22T20:04:35.198Z"
   },
   {
    "duration": 58,
    "start_time": "2022-11-22T20:04:35.448Z"
   },
   {
    "duration": 622,
    "start_time": "2022-11-22T20:04:35.507Z"
   },
   {
    "duration": 605,
    "start_time": "2022-11-22T20:04:36.132Z"
   },
   {
    "duration": 15,
    "start_time": "2022-11-22T20:04:36.739Z"
   },
   {
    "duration": 17,
    "start_time": "2022-11-22T20:04:36.756Z"
   },
   {
    "duration": 322,
    "start_time": "2022-11-22T20:04:36.775Z"
   },
   {
    "duration": 20,
    "start_time": "2022-11-22T20:04:37.099Z"
   },
   {
    "duration": 15,
    "start_time": "2022-11-22T20:13:17.479Z"
   },
   {
    "duration": 214,
    "start_time": "2022-11-22T20:14:44.349Z"
   },
   {
    "duration": 232,
    "start_time": "2022-11-22T20:17:51.313Z"
   },
   {
    "duration": 10,
    "start_time": "2022-11-22T20:18:03.512Z"
   },
   {
    "duration": 226,
    "start_time": "2022-11-22T20:18:25.117Z"
   },
   {
    "duration": 225,
    "start_time": "2022-11-22T20:19:09.838Z"
   },
   {
    "duration": 206,
    "start_time": "2022-11-22T20:19:48.214Z"
   },
   {
    "duration": 164,
    "start_time": "2022-11-22T20:22:42.807Z"
   },
   {
    "duration": 20,
    "start_time": "2022-11-22T20:32:43.059Z"
   },
   {
    "duration": 17,
    "start_time": "2022-11-22T20:33:26.682Z"
   },
   {
    "duration": 16,
    "start_time": "2022-11-22T20:33:34.239Z"
   },
   {
    "duration": 14,
    "start_time": "2022-11-22T20:36:59.201Z"
   },
   {
    "duration": 15,
    "start_time": "2022-11-22T20:37:24.876Z"
   },
   {
    "duration": 17,
    "start_time": "2022-11-22T20:38:16.038Z"
   },
   {
    "duration": 15,
    "start_time": "2022-11-22T20:39:27.686Z"
   },
   {
    "duration": 17,
    "start_time": "2022-11-22T20:46:12.738Z"
   },
   {
    "duration": 17,
    "start_time": "2022-11-22T20:48:08.382Z"
   },
   {
    "duration": 19,
    "start_time": "2022-11-22T20:49:47.651Z"
   },
   {
    "duration": 18,
    "start_time": "2022-11-22T20:53:17.554Z"
   },
   {
    "duration": 16,
    "start_time": "2022-11-22T20:54:37.445Z"
   },
   {
    "duration": 25,
    "start_time": "2022-11-22T20:56:15.995Z"
   },
   {
    "duration": 21,
    "start_time": "2022-11-22T21:00:14.995Z"
   },
   {
    "duration": 30,
    "start_time": "2022-11-22T21:02:22.995Z"
   },
   {
    "duration": 18,
    "start_time": "2022-11-22T21:02:55.432Z"
   },
   {
    "duration": 16,
    "start_time": "2022-11-22T21:15:30.645Z"
   },
   {
    "duration": 3,
    "start_time": "2022-11-22T21:16:15.227Z"
   },
   {
    "duration": 13,
    "start_time": "2022-11-22T21:16:19.962Z"
   },
   {
    "duration": 1302,
    "start_time": "2022-11-22T21:16:48.973Z"
   },
   {
    "duration": 55,
    "start_time": "2022-11-22T21:16:50.278Z"
   },
   {
    "duration": 22,
    "start_time": "2022-11-22T21:16:50.335Z"
   },
   {
    "duration": 14,
    "start_time": "2022-11-22T21:16:50.361Z"
   },
   {
    "duration": 20,
    "start_time": "2022-11-22T21:16:50.377Z"
   },
   {
    "duration": 25,
    "start_time": "2022-11-22T21:16:50.398Z"
   },
   {
    "duration": 20,
    "start_time": "2022-11-22T21:16:50.425Z"
   },
   {
    "duration": 11,
    "start_time": "2022-11-22T21:16:50.447Z"
   },
   {
    "duration": 12,
    "start_time": "2022-11-22T21:16:50.460Z"
   },
   {
    "duration": 8,
    "start_time": "2022-11-22T21:16:50.475Z"
   },
   {
    "duration": 12,
    "start_time": "2022-11-22T21:16:50.485Z"
   },
   {
    "duration": 10,
    "start_time": "2022-11-22T21:16:50.499Z"
   },
   {
    "duration": 18,
    "start_time": "2022-11-22T21:16:50.511Z"
   },
   {
    "duration": 21,
    "start_time": "2022-11-22T21:16:50.531Z"
   },
   {
    "duration": 17,
    "start_time": "2022-11-22T21:16:50.554Z"
   },
   {
    "duration": 22,
    "start_time": "2022-11-22T21:16:50.574Z"
   },
   {
    "duration": 15,
    "start_time": "2022-11-22T21:16:50.598Z"
   },
   {
    "duration": 8,
    "start_time": "2022-11-22T21:16:50.615Z"
   },
   {
    "duration": 28,
    "start_time": "2022-11-22T21:16:50.625Z"
   },
   {
    "duration": 23,
    "start_time": "2022-11-22T21:16:50.654Z"
   },
   {
    "duration": 12,
    "start_time": "2022-11-22T21:16:50.679Z"
   },
   {
    "duration": 22,
    "start_time": "2022-11-22T21:16:50.693Z"
   },
   {
    "duration": 18,
    "start_time": "2022-11-22T21:16:50.717Z"
   },
   {
    "duration": 21,
    "start_time": "2022-11-22T21:16:50.737Z"
   },
   {
    "duration": 15,
    "start_time": "2022-11-22T21:16:50.760Z"
   },
   {
    "duration": 9,
    "start_time": "2022-11-22T21:16:50.777Z"
   },
   {
    "duration": 8,
    "start_time": "2022-11-22T21:16:50.788Z"
   },
   {
    "duration": 6,
    "start_time": "2022-11-22T21:16:50.801Z"
   },
   {
    "duration": 20,
    "start_time": "2022-11-22T21:16:50.809Z"
   },
   {
    "duration": 8,
    "start_time": "2022-11-22T21:16:50.831Z"
   },
   {
    "duration": 12,
    "start_time": "2022-11-22T21:16:50.841Z"
   },
   {
    "duration": 14,
    "start_time": "2022-11-22T21:16:50.855Z"
   },
   {
    "duration": 36,
    "start_time": "2022-11-22T21:16:50.871Z"
   },
   {
    "duration": 36,
    "start_time": "2022-11-22T21:16:50.909Z"
   },
   {
    "duration": 8,
    "start_time": "2022-11-22T21:16:50.947Z"
   },
   {
    "duration": 31,
    "start_time": "2022-11-22T21:16:50.957Z"
   },
   {
    "duration": 18,
    "start_time": "2022-11-22T21:16:50.989Z"
   },
   {
    "duration": 383,
    "start_time": "2022-11-22T21:16:51.009Z"
   },
   {
    "duration": 17,
    "start_time": "2022-11-22T21:16:51.393Z"
   },
   {
    "duration": 322,
    "start_time": "2022-11-22T21:16:51.412Z"
   },
   {
    "duration": 7,
    "start_time": "2022-11-22T21:16:51.736Z"
   },
   {
    "duration": 329,
    "start_time": "2022-11-22T21:16:51.744Z"
   },
   {
    "duration": 263,
    "start_time": "2022-11-22T21:16:52.075Z"
   },
   {
    "duration": 64,
    "start_time": "2022-11-22T21:16:52.340Z"
   },
   {
    "duration": 568,
    "start_time": "2022-11-22T21:16:52.406Z"
   },
   {
    "duration": 601,
    "start_time": "2022-11-22T21:16:52.976Z"
   },
   {
    "duration": 27,
    "start_time": "2022-11-22T21:16:53.579Z"
   },
   {
    "duration": 16,
    "start_time": "2022-11-22T21:16:53.608Z"
   },
   {
    "duration": 295,
    "start_time": "2022-11-22T21:16:53.626Z"
   },
   {
    "duration": 22,
    "start_time": "2022-11-22T21:16:53.924Z"
   },
   {
    "duration": 249,
    "start_time": "2022-11-22T21:16:53.948Z"
   },
   {
    "duration": 21,
    "start_time": "2022-11-22T21:16:54.200Z"
   },
   {
    "duration": 22,
    "start_time": "2022-11-22T21:16:54.223Z"
   },
   {
    "duration": 19,
    "start_time": "2022-11-22T21:16:54.247Z"
   },
   {
    "duration": 18,
    "start_time": "2022-11-22T21:16:54.297Z"
   },
   {
    "duration": 24,
    "start_time": "2022-11-22T21:16:54.316Z"
   },
   {
    "duration": 20,
    "start_time": "2022-11-22T21:16:54.342Z"
   },
   {
    "duration": 35,
    "start_time": "2022-11-22T21:16:54.365Z"
   },
   {
    "duration": 68,
    "start_time": "2022-11-22T21:16:54.402Z"
   },
   {
    "duration": 37,
    "start_time": "2022-11-22T21:16:54.472Z"
   },
   {
    "duration": 29,
    "start_time": "2022-11-22T21:16:54.510Z"
   },
   {
    "duration": 14,
    "start_time": "2022-11-22T21:17:19.236Z"
   },
   {
    "duration": 1373,
    "start_time": "2022-11-23T09:45:20.802Z"
   },
   {
    "duration": 178,
    "start_time": "2022-11-23T09:45:22.177Z"
   },
   {
    "duration": 19,
    "start_time": "2022-11-23T09:45:22.357Z"
   },
   {
    "duration": 14,
    "start_time": "2022-11-23T09:45:22.378Z"
   },
   {
    "duration": 4,
    "start_time": "2022-11-23T09:45:22.394Z"
   },
   {
    "duration": 7,
    "start_time": "2022-11-23T09:45:22.400Z"
   },
   {
    "duration": 30,
    "start_time": "2022-11-23T09:45:22.409Z"
   },
   {
    "duration": 13,
    "start_time": "2022-11-23T09:45:22.442Z"
   },
   {
    "duration": 8,
    "start_time": "2022-11-23T09:45:22.456Z"
   },
   {
    "duration": 7,
    "start_time": "2022-11-23T09:45:22.467Z"
   },
   {
    "duration": 9,
    "start_time": "2022-11-23T09:45:22.476Z"
   },
   {
    "duration": 11,
    "start_time": "2022-11-23T09:45:22.487Z"
   },
   {
    "duration": 31,
    "start_time": "2022-11-23T09:45:22.500Z"
   },
   {
    "duration": 16,
    "start_time": "2022-11-23T09:45:22.532Z"
   },
   {
    "duration": 5,
    "start_time": "2022-11-23T09:45:22.549Z"
   },
   {
    "duration": 7,
    "start_time": "2022-11-23T09:45:22.556Z"
   },
   {
    "duration": 6,
    "start_time": "2022-11-23T09:45:22.565Z"
   },
   {
    "duration": 10,
    "start_time": "2022-11-23T09:45:22.572Z"
   },
   {
    "duration": 10,
    "start_time": "2022-11-23T09:45:22.584Z"
   },
   {
    "duration": 39,
    "start_time": "2022-11-23T09:45:22.595Z"
   },
   {
    "duration": 9,
    "start_time": "2022-11-23T09:45:22.636Z"
   },
   {
    "duration": 12,
    "start_time": "2022-11-23T09:45:22.647Z"
   },
   {
    "duration": 22,
    "start_time": "2022-11-23T09:45:22.661Z"
   },
   {
    "duration": 7,
    "start_time": "2022-11-23T09:45:22.685Z"
   },
   {
    "duration": 35,
    "start_time": "2022-11-23T09:45:22.694Z"
   },
   {
    "duration": 22,
    "start_time": "2022-11-23T09:45:22.732Z"
   },
   {
    "duration": 10,
    "start_time": "2022-11-23T09:45:22.757Z"
   },
   {
    "duration": 11,
    "start_time": "2022-11-23T09:45:22.772Z"
   },
   {
    "duration": 12,
    "start_time": "2022-11-23T09:45:22.785Z"
   },
   {
    "duration": 13,
    "start_time": "2022-11-23T09:45:22.798Z"
   },
   {
    "duration": 15,
    "start_time": "2022-11-23T09:45:22.813Z"
   },
   {
    "duration": 9,
    "start_time": "2022-11-23T09:45:22.830Z"
   },
   {
    "duration": 12,
    "start_time": "2022-11-23T09:45:22.841Z"
   },
   {
    "duration": 39,
    "start_time": "2022-11-23T09:45:22.855Z"
   },
   {
    "duration": 4,
    "start_time": "2022-11-23T09:45:22.896Z"
   },
   {
    "duration": 23,
    "start_time": "2022-11-23T09:45:22.901Z"
   },
   {
    "duration": 16,
    "start_time": "2022-11-23T09:45:22.926Z"
   },
   {
    "duration": 379,
    "start_time": "2022-11-23T09:45:22.944Z"
   },
   {
    "duration": 17,
    "start_time": "2022-11-23T09:45:23.324Z"
   },
   {
    "duration": 325,
    "start_time": "2022-11-23T09:45:23.343Z"
   },
   {
    "duration": 6,
    "start_time": "2022-11-23T09:45:23.670Z"
   },
   {
    "duration": 319,
    "start_time": "2022-11-23T09:45:23.678Z"
   },
   {
    "duration": 314,
    "start_time": "2022-11-23T09:45:23.999Z"
   },
   {
    "duration": 55,
    "start_time": "2022-11-23T09:45:24.315Z"
   },
   {
    "duration": 748,
    "start_time": "2022-11-23T09:45:24.372Z"
   },
   {
    "duration": 566,
    "start_time": "2022-11-23T09:45:25.122Z"
   },
   {
    "duration": 15,
    "start_time": "2022-11-23T09:45:25.689Z"
   },
   {
    "duration": 27,
    "start_time": "2022-11-23T09:45:25.706Z"
   },
   {
    "duration": 277,
    "start_time": "2022-11-23T09:45:25.735Z"
   },
   {
    "duration": 22,
    "start_time": "2022-11-23T09:45:26.014Z"
   },
   {
    "duration": 228,
    "start_time": "2022-11-23T09:45:26.038Z"
   },
   {
    "duration": 19,
    "start_time": "2022-11-23T09:45:26.268Z"
   },
   {
    "duration": 37,
    "start_time": "2022-11-23T09:45:26.289Z"
   },
   {
    "duration": 17,
    "start_time": "2022-11-23T09:45:26.328Z"
   },
   {
    "duration": 18,
    "start_time": "2022-11-23T09:45:26.346Z"
   },
   {
    "duration": 16,
    "start_time": "2022-11-23T09:45:26.366Z"
   },
   {
    "duration": 44,
    "start_time": "2022-11-23T09:45:26.384Z"
   },
   {
    "duration": 17,
    "start_time": "2022-11-23T09:45:26.430Z"
   },
   {
    "duration": 17,
    "start_time": "2022-11-23T09:45:26.449Z"
   },
   {
    "duration": 18,
    "start_time": "2022-11-23T09:45:26.468Z"
   },
   {
    "duration": 9,
    "start_time": "2022-11-23T09:45:26.523Z"
   },
   {
    "duration": 8,
    "start_time": "2022-11-23T09:45:26.533Z"
   },
   {
    "duration": 9,
    "start_time": "2022-11-23T09:45:26.543Z"
   },
   {
    "duration": 8,
    "start_time": "2022-11-23T09:45:38.652Z"
   },
   {
    "duration": 9,
    "start_time": "2022-11-23T09:54:58.118Z"
   },
   {
    "duration": 1274,
    "start_time": "2022-11-23T10:56:22.024Z"
   },
   {
    "duration": 55,
    "start_time": "2022-11-23T10:56:23.301Z"
   },
   {
    "duration": 22,
    "start_time": "2022-11-23T10:56:23.358Z"
   },
   {
    "duration": 18,
    "start_time": "2022-11-23T10:56:23.382Z"
   },
   {
    "duration": 21,
    "start_time": "2022-11-23T10:56:23.403Z"
   },
   {
    "duration": 8,
    "start_time": "2022-11-23T10:56:23.425Z"
   },
   {
    "duration": 24,
    "start_time": "2022-11-23T10:56:23.435Z"
   },
   {
    "duration": 18,
    "start_time": "2022-11-23T10:56:23.462Z"
   },
   {
    "duration": 10,
    "start_time": "2022-11-23T10:56:23.482Z"
   },
   {
    "duration": 37,
    "start_time": "2022-11-23T10:56:23.495Z"
   },
   {
    "duration": 5,
    "start_time": "2022-11-23T10:56:23.534Z"
   },
   {
    "duration": 11,
    "start_time": "2022-11-23T10:56:23.541Z"
   },
   {
    "duration": 7,
    "start_time": "2022-11-23T10:56:23.554Z"
   },
   {
    "duration": 11,
    "start_time": "2022-11-23T10:56:23.565Z"
   },
   {
    "duration": 5,
    "start_time": "2022-11-23T10:56:23.578Z"
   },
   {
    "duration": 7,
    "start_time": "2022-11-23T10:56:23.585Z"
   },
   {
    "duration": 5,
    "start_time": "2022-11-23T10:56:23.622Z"
   },
   {
    "duration": 8,
    "start_time": "2022-11-23T10:56:23.629Z"
   },
   {
    "duration": 17,
    "start_time": "2022-11-23T10:56:23.639Z"
   },
   {
    "duration": 21,
    "start_time": "2022-11-23T10:56:23.658Z"
   },
   {
    "duration": 9,
    "start_time": "2022-11-23T10:56:23.680Z"
   },
   {
    "duration": 16,
    "start_time": "2022-11-23T10:56:23.690Z"
   },
   {
    "duration": 28,
    "start_time": "2022-11-23T10:56:23.708Z"
   },
   {
    "duration": 18,
    "start_time": "2022-11-23T10:56:23.738Z"
   },
   {
    "duration": 23,
    "start_time": "2022-11-23T10:56:23.757Z"
   },
   {
    "duration": 8,
    "start_time": "2022-11-23T10:56:23.783Z"
   },
   {
    "duration": 7,
    "start_time": "2022-11-23T10:56:23.793Z"
   },
   {
    "duration": 5,
    "start_time": "2022-11-23T10:56:23.802Z"
   },
   {
    "duration": 6,
    "start_time": "2022-11-23T10:56:23.809Z"
   },
   {
    "duration": 8,
    "start_time": "2022-11-23T10:56:23.816Z"
   },
   {
    "duration": 7,
    "start_time": "2022-11-23T10:56:23.825Z"
   },
   {
    "duration": 8,
    "start_time": "2022-11-23T10:56:23.834Z"
   },
   {
    "duration": 23,
    "start_time": "2022-11-23T10:56:23.844Z"
   },
   {
    "duration": 22,
    "start_time": "2022-11-23T10:56:23.868Z"
   },
   {
    "duration": 4,
    "start_time": "2022-11-23T10:56:23.892Z"
   },
   {
    "duration": 18,
    "start_time": "2022-11-23T10:56:23.898Z"
   },
   {
    "duration": 15,
    "start_time": "2022-11-23T10:56:23.918Z"
   },
   {
    "duration": 699,
    "start_time": "2022-11-23T10:56:23.934Z"
   },
   {
    "duration": 18,
    "start_time": "2022-11-23T10:56:24.634Z"
   },
   {
    "duration": 394,
    "start_time": "2022-11-23T10:56:24.654Z"
   },
   {
    "duration": 6,
    "start_time": "2022-11-23T10:56:25.052Z"
   },
   {
    "duration": 297,
    "start_time": "2022-11-23T10:56:25.060Z"
   },
   {
    "duration": 240,
    "start_time": "2022-11-23T10:56:25.359Z"
   },
   {
    "duration": 60,
    "start_time": "2022-11-23T10:56:25.601Z"
   },
   {
    "duration": 605,
    "start_time": "2022-11-23T10:56:25.663Z"
   },
   {
    "duration": 616,
    "start_time": "2022-11-23T10:56:26.270Z"
   },
   {
    "duration": 16,
    "start_time": "2022-11-23T10:56:26.888Z"
   },
   {
    "duration": 26,
    "start_time": "2022-11-23T10:56:26.906Z"
   },
   {
    "duration": 266,
    "start_time": "2022-11-23T10:56:26.933Z"
   },
   {
    "duration": 23,
    "start_time": "2022-11-23T10:56:27.201Z"
   },
   {
    "duration": 224,
    "start_time": "2022-11-23T10:56:27.226Z"
   },
   {
    "duration": 17,
    "start_time": "2022-11-23T10:56:27.452Z"
   },
   {
    "duration": 17,
    "start_time": "2022-11-23T10:56:27.471Z"
   },
   {
    "duration": 45,
    "start_time": "2022-11-23T10:56:27.489Z"
   },
   {
    "duration": 17,
    "start_time": "2022-11-23T10:56:27.535Z"
   },
   {
    "duration": 17,
    "start_time": "2022-11-23T10:56:27.554Z"
   },
   {
    "duration": 17,
    "start_time": "2022-11-23T10:56:27.573Z"
   },
   {
    "duration": 44,
    "start_time": "2022-11-23T10:56:27.591Z"
   },
   {
    "duration": 17,
    "start_time": "2022-11-23T10:56:27.636Z"
   },
   {
    "duration": 17,
    "start_time": "2022-11-23T10:56:27.656Z"
   },
   {
    "duration": 11,
    "start_time": "2022-11-23T10:56:27.675Z"
   },
   {
    "duration": 8,
    "start_time": "2022-11-23T10:56:27.687Z"
   },
   {
    "duration": 7,
    "start_time": "2022-11-23T10:56:27.723Z"
   },
   {
    "duration": 8,
    "start_time": "2022-11-23T10:56:27.732Z"
   },
   {
    "duration": 1101,
    "start_time": "2022-11-23T11:43:13.821Z"
   },
   {
    "duration": 53,
    "start_time": "2022-11-23T11:43:14.924Z"
   },
   {
    "duration": 16,
    "start_time": "2022-11-23T11:43:14.978Z"
   },
   {
    "duration": 13,
    "start_time": "2022-11-23T11:43:42.070Z"
   },
   {
    "duration": 3,
    "start_time": "2022-11-23T11:43:45.962Z"
   },
   {
    "duration": 3,
    "start_time": "2022-11-23T11:43:50.407Z"
   },
   {
    "duration": 13,
    "start_time": "2022-11-23T11:44:53.530Z"
   },
   {
    "duration": 9,
    "start_time": "2022-11-23T11:44:56.443Z"
   },
   {
    "duration": 7,
    "start_time": "2022-11-23T11:44:57.001Z"
   },
   {
    "duration": 8,
    "start_time": "2022-11-23T11:46:02.343Z"
   },
   {
    "duration": 5,
    "start_time": "2022-11-23T11:46:02.832Z"
   },
   {
    "duration": 5,
    "start_time": "2022-11-23T11:46:09.601Z"
   },
   {
    "duration": 5,
    "start_time": "2022-11-23T11:46:18.371Z"
   },
   {
    "duration": 10,
    "start_time": "2022-11-23T11:46:19.698Z"
   },
   {
    "duration": 63,
    "start_time": "2022-11-23T11:46:39.413Z"
   },
   {
    "duration": 5,
    "start_time": "2022-11-23T11:46:54.865Z"
   },
   {
    "duration": 3,
    "start_time": "2022-11-23T11:46:57.169Z"
   },
   {
    "duration": 5,
    "start_time": "2022-11-23T11:46:57.451Z"
   },
   {
    "duration": 5,
    "start_time": "2022-11-23T11:46:59.062Z"
   },
   {
    "duration": 7,
    "start_time": "2022-11-23T11:47:00.724Z"
   },
   {
    "duration": 15,
    "start_time": "2022-11-23T11:47:10.721Z"
   },
   {
    "duration": 8,
    "start_time": "2022-11-23T11:47:35.536Z"
   },
   {
    "duration": 5,
    "start_time": "2022-11-23T11:47:35.781Z"
   },
   {
    "duration": 11,
    "start_time": "2022-11-23T11:47:36.047Z"
   },
   {
    "duration": 6,
    "start_time": "2022-11-23T11:49:57.881Z"
   },
   {
    "duration": 9,
    "start_time": "2022-11-23T11:50:01.641Z"
   },
   {
    "duration": 5,
    "start_time": "2022-11-23T11:50:06.175Z"
   },
   {
    "duration": 4,
    "start_time": "2022-11-23T11:50:09.515Z"
   },
   {
    "duration": 5,
    "start_time": "2022-11-23T11:50:10.925Z"
   },
   {
    "duration": 4,
    "start_time": "2022-11-23T11:50:12.026Z"
   },
   {
    "duration": 4,
    "start_time": "2022-11-23T11:50:14.124Z"
   },
   {
    "duration": 4,
    "start_time": "2022-11-23T11:50:14.433Z"
   },
   {
    "duration": 5,
    "start_time": "2022-11-23T11:50:14.714Z"
   },
   {
    "duration": 4,
    "start_time": "2022-11-23T11:50:19.144Z"
   },
   {
    "duration": 13,
    "start_time": "2022-11-23T11:50:41.710Z"
   },
   {
    "duration": 3,
    "start_time": "2022-11-23T11:50:42.052Z"
   },
   {
    "duration": 15,
    "start_time": "2022-11-23T11:53:06.211Z"
   },
   {
    "duration": 14,
    "start_time": "2022-11-23T11:53:19.691Z"
   },
   {
    "duration": 314,
    "start_time": "2022-11-23T11:53:21.714Z"
   },
   {
    "duration": 15,
    "start_time": "2022-11-23T11:53:38.602Z"
   },
   {
    "duration": 280,
    "start_time": "2022-11-23T11:53:39.498Z"
   },
   {
    "duration": 7,
    "start_time": "2022-11-23T11:54:06.665Z"
   },
   {
    "duration": 244,
    "start_time": "2022-11-23T11:54:06.931Z"
   },
   {
    "duration": 221,
    "start_time": "2022-11-23T11:54:09.435Z"
   },
   {
    "duration": 47,
    "start_time": "2022-11-23T11:54:31.260Z"
   },
   {
    "duration": 627,
    "start_time": "2022-11-23T11:54:34.616Z"
   },
   {
    "duration": 548,
    "start_time": "2022-11-23T11:54:35.245Z"
   },
   {
    "duration": 19,
    "start_time": "2022-11-23T11:54:38.405Z"
   },
   {
    "duration": 16,
    "start_time": "2022-11-23T11:54:50.637Z"
   },
   {
    "duration": 246,
    "start_time": "2022-11-23T11:54:52.516Z"
   },
   {
    "duration": 19,
    "start_time": "2022-11-23T11:55:05.125Z"
   },
   {
    "duration": 207,
    "start_time": "2022-11-23T11:55:06.997Z"
   },
   {
    "duration": 15,
    "start_time": "2022-11-23T11:55:28.703Z"
   },
   {
    "duration": 17,
    "start_time": "2022-11-23T11:55:29.407Z"
   },
   {
    "duration": 15,
    "start_time": "2022-11-23T11:55:29.973Z"
   },
   {
    "duration": 15,
    "start_time": "2022-11-23T11:56:00.326Z"
   },
   {
    "duration": 24,
    "start_time": "2022-11-23T11:56:02.439Z"
   },
   {
    "duration": 16,
    "start_time": "2022-11-23T11:56:03.091Z"
   },
   {
    "duration": 16,
    "start_time": "2022-11-23T11:56:03.635Z"
   },
   {
    "duration": 16,
    "start_time": "2022-11-23T11:56:03.833Z"
   },
   {
    "duration": 17,
    "start_time": "2022-11-23T11:56:04.148Z"
   },
   {
    "duration": 6,
    "start_time": "2022-11-23T11:56:26.026Z"
   },
   {
    "duration": 5,
    "start_time": "2022-11-23T11:56:26.524Z"
   },
   {
    "duration": 8,
    "start_time": "2022-11-23T11:56:27.036Z"
   },
   {
    "duration": 8,
    "start_time": "2022-11-23T11:56:29.804Z"
   },
   {
    "duration": 1264,
    "start_time": "2022-11-24T07:44:56.503Z"
   },
   {
    "duration": 89,
    "start_time": "2022-11-24T07:44:58.489Z"
   },
   {
    "duration": 18,
    "start_time": "2022-11-24T07:45:06.710Z"
   },
   {
    "duration": 4,
    "start_time": "2022-11-24T07:52:16.360Z"
   },
   {
    "duration": 15,
    "start_time": "2022-11-24T07:52:19.836Z"
   },
   {
    "duration": 14,
    "start_time": "2022-11-24T07:52:34.532Z"
   },
   {
    "duration": 14,
    "start_time": "2022-11-24T07:53:41.097Z"
   },
   {
    "duration": 10,
    "start_time": "2022-11-24T07:55:10.104Z"
   },
   {
    "duration": 19,
    "start_time": "2022-11-24T07:58:04.033Z"
   },
   {
    "duration": 4,
    "start_time": "2022-11-24T07:58:06.563Z"
   },
   {
    "duration": 7,
    "start_time": "2022-11-24T07:58:09.728Z"
   },
   {
    "duration": 7,
    "start_time": "2022-11-24T07:58:12.393Z"
   },
   {
    "duration": 13,
    "start_time": "2022-11-24T07:58:15.945Z"
   },
   {
    "duration": 5,
    "start_time": "2022-11-24T08:01:32.325Z"
   },
   {
    "duration": 4,
    "start_time": "2022-11-24T08:01:35.675Z"
   },
   {
    "duration": 4,
    "start_time": "2022-11-24T08:01:38.675Z"
   },
   {
    "duration": 5,
    "start_time": "2022-11-24T08:01:40.989Z"
   },
   {
    "duration": 7,
    "start_time": "2022-11-24T08:01:44.682Z"
   },
   {
    "duration": 16,
    "start_time": "2022-11-24T08:01:56.305Z"
   },
   {
    "duration": 8,
    "start_time": "2022-11-24T08:01:59.899Z"
   },
   {
    "duration": 6,
    "start_time": "2022-11-24T08:02:01.836Z"
   },
   {
    "duration": 13,
    "start_time": "2022-11-24T08:02:04.539Z"
   },
   {
    "duration": 6,
    "start_time": "2022-11-24T08:02:14.106Z"
   },
   {
    "duration": 10,
    "start_time": "2022-11-24T08:02:17.508Z"
   },
   {
    "duration": 5,
    "start_time": "2022-11-24T08:02:52.179Z"
   },
   {
    "duration": 4,
    "start_time": "2022-11-24T08:02:54.074Z"
   },
   {
    "duration": 5,
    "start_time": "2022-11-24T08:02:55.942Z"
   },
   {
    "duration": 4,
    "start_time": "2022-11-24T08:02:58.656Z"
   },
   {
    "duration": 5,
    "start_time": "2022-11-24T08:03:01.542Z"
   },
   {
    "duration": 5,
    "start_time": "2022-11-24T08:03:04.820Z"
   },
   {
    "duration": 14,
    "start_time": "2022-11-24T08:03:07.873Z"
   },
   {
    "duration": 101,
    "start_time": "2022-11-24T08:03:09.888Z"
   },
   {
    "duration": 3,
    "start_time": "2022-11-24T08:03:28.311Z"
   },
   {
    "duration": 4,
    "start_time": "2022-11-24T08:03:46.067Z"
   },
   {
    "duration": 16,
    "start_time": "2022-11-24T08:04:00.866Z"
   },
   {
    "duration": 7,
    "start_time": "2022-11-24T08:07:04.989Z"
   },
   {
    "duration": 311,
    "start_time": "2022-11-24T08:07:09.749Z"
   },
   {
    "duration": 264,
    "start_time": "2022-11-24T08:07:21.259Z"
   },
   {
    "duration": 7,
    "start_time": "2022-11-24T08:11:02.795Z"
   },
   {
    "duration": 8,
    "start_time": "2022-11-24T08:20:08.822Z"
   },
   {
    "duration": 5,
    "start_time": "2022-11-24T08:20:24.424Z"
   },
   {
    "duration": 5,
    "start_time": "2022-11-24T08:30:05.094Z"
   },
   {
    "duration": 8,
    "start_time": "2022-11-24T08:30:13.345Z"
   },
   {
    "duration": 6,
    "start_time": "2022-11-24T08:31:22.433Z"
   },
   {
    "duration": 4,
    "start_time": "2022-11-24T08:31:31.191Z"
   },
   {
    "duration": 15,
    "start_time": "2022-11-24T08:32:24.157Z"
   },
   {
    "duration": 148,
    "start_time": "2022-11-24T08:32:33.546Z"
   },
   {
    "duration": 15,
    "start_time": "2022-11-24T08:39:54.323Z"
   },
   {
    "duration": 152,
    "start_time": "2022-11-24T08:40:05.547Z"
   },
   {
    "duration": 18,
    "start_time": "2022-11-24T08:48:15.254Z"
   },
   {
    "duration": 17,
    "start_time": "2022-11-24T08:49:59.259Z"
   },
   {
    "duration": 25,
    "start_time": "2022-11-24T08:51:02.678Z"
   },
   {
    "duration": 24,
    "start_time": "2022-11-24T08:51:36.152Z"
   },
   {
    "duration": 180,
    "start_time": "2022-11-24T09:04:27.614Z"
   },
   {
    "duration": 194,
    "start_time": "2022-11-24T09:04:51.520Z"
   },
   {
    "duration": 180,
    "start_time": "2022-11-24T09:05:26.769Z"
   },
   {
    "duration": 213,
    "start_time": "2022-11-24T09:06:16.974Z"
   },
   {
    "duration": 271,
    "start_time": "2022-11-24T09:07:53.697Z"
   },
   {
    "duration": 347,
    "start_time": "2022-11-24T09:08:25.752Z"
   },
   {
    "duration": 201,
    "start_time": "2022-11-24T09:12:55.340Z"
   },
   {
    "duration": 193,
    "start_time": "2022-11-24T09:14:41.803Z"
   },
   {
    "duration": 50,
    "start_time": "2022-11-24T09:17:47.183Z"
   },
   {
    "duration": 42,
    "start_time": "2022-11-24T09:17:56.979Z"
   },
   {
    "duration": 23,
    "start_time": "2022-11-24T09:18:30.343Z"
   },
   {
    "duration": 244,
    "start_time": "2022-11-24T09:19:14.999Z"
   },
   {
    "duration": 259,
    "start_time": "2022-11-24T09:19:58.551Z"
   },
   {
    "duration": 204,
    "start_time": "2022-11-24T09:33:43.127Z"
   },
   {
    "duration": 1097,
    "start_time": "2022-11-24T09:35:37.463Z"
   },
   {
    "duration": 205,
    "start_time": "2022-11-24T09:35:47.155Z"
   },
   {
    "duration": 262,
    "start_time": "2022-11-24T09:36:11.565Z"
   },
   {
    "duration": 259,
    "start_time": "2022-11-24T09:36:58.770Z"
   },
   {
    "duration": 338,
    "start_time": "2022-11-24T09:37:12.789Z"
   },
   {
    "duration": 270,
    "start_time": "2022-11-24T09:43:55.775Z"
   },
   {
    "duration": 1060,
    "start_time": "2022-11-24T09:44:28.910Z"
   },
   {
    "duration": 1169,
    "start_time": "2022-11-24T09:45:05.383Z"
   },
   {
    "duration": 287,
    "start_time": "2022-11-24T09:45:24.841Z"
   },
   {
    "duration": 322,
    "start_time": "2022-11-24T09:51:46.769Z"
   },
   {
    "duration": 283,
    "start_time": "2022-11-24T09:52:03.469Z"
   },
   {
    "duration": 308,
    "start_time": "2022-11-24T09:52:15.544Z"
   },
   {
    "duration": 254,
    "start_time": "2022-11-24T09:52:27.673Z"
   },
   {
    "duration": 265,
    "start_time": "2022-11-24T09:55:11.989Z"
   },
   {
    "duration": 414,
    "start_time": "2022-11-24T09:56:37.793Z"
   },
   {
    "duration": 5,
    "start_time": "2022-11-24T10:05:43.382Z"
   },
   {
    "duration": 67,
    "start_time": "2022-11-24T10:13:31.308Z"
   },
   {
    "duration": 32,
    "start_time": "2022-11-24T10:15:28.958Z"
   },
   {
    "duration": 25,
    "start_time": "2022-11-24T10:19:03.170Z"
   },
   {
    "duration": 208,
    "start_time": "2022-11-24T10:20:09.631Z"
   },
   {
    "duration": 235,
    "start_time": "2022-11-24T10:20:30.175Z"
   },
   {
    "duration": 14,
    "start_time": "2022-11-24T10:28:10.062Z"
   },
   {
    "duration": 22,
    "start_time": "2022-11-24T10:28:37.993Z"
   },
   {
    "duration": 8,
    "start_time": "2022-11-24T10:28:45.953Z"
   },
   {
    "duration": 12,
    "start_time": "2022-11-24T10:28:52.849Z"
   },
   {
    "duration": 11,
    "start_time": "2022-11-24T10:29:07.939Z"
   },
   {
    "duration": 73,
    "start_time": "2022-11-24T10:29:29.487Z"
   },
   {
    "duration": 10,
    "start_time": "2022-11-24T10:29:47.709Z"
   },
   {
    "duration": 9,
    "start_time": "2022-11-24T10:30:02.210Z"
   },
   {
    "duration": 9,
    "start_time": "2022-11-24T10:31:57.127Z"
   },
   {
    "duration": 21,
    "start_time": "2022-11-24T10:38:33.829Z"
   },
   {
    "duration": 17,
    "start_time": "2022-11-24T10:38:44.475Z"
   },
   {
    "duration": 20,
    "start_time": "2022-11-24T10:38:48.306Z"
   },
   {
    "duration": 15,
    "start_time": "2022-11-24T10:38:51.613Z"
   },
   {
    "duration": 16,
    "start_time": "2022-11-24T10:39:02.766Z"
   },
   {
    "duration": 20,
    "start_time": "2022-11-24T10:39:06.156Z"
   },
   {
    "duration": 23,
    "start_time": "2022-11-24T10:39:09.714Z"
   },
   {
    "duration": 19,
    "start_time": "2022-11-24T10:39:12.114Z"
   },
   {
    "duration": 23,
    "start_time": "2022-11-24T10:39:14.486Z"
   },
   {
    "duration": 16,
    "start_time": "2022-11-24T10:39:16.818Z"
   },
   {
    "duration": 7,
    "start_time": "2022-11-24T11:07:19.533Z"
   },
   {
    "duration": 9,
    "start_time": "2022-11-24T11:07:22.224Z"
   },
   {
    "duration": 6,
    "start_time": "2022-11-24T11:07:57.576Z"
   },
   {
    "duration": 12,
    "start_time": "2022-11-24T11:08:00.233Z"
   },
   {
    "duration": 9,
    "start_time": "2022-11-24T11:08:05.113Z"
   },
   {
    "duration": 10,
    "start_time": "2022-11-24T11:08:07.519Z"
   },
   {
    "duration": 17,
    "start_time": "2022-11-24T11:08:44.930Z"
   },
   {
    "duration": 10,
    "start_time": "2022-11-24T11:09:15.934Z"
   },
   {
    "duration": 25,
    "start_time": "2022-11-24T11:09:18.274Z"
   },
   {
    "duration": 7,
    "start_time": "2022-11-24T11:11:20.694Z"
   },
   {
    "duration": 25,
    "start_time": "2022-11-24T11:11:27.274Z"
   },
   {
    "duration": 5,
    "start_time": "2022-11-24T11:12:01.273Z"
   },
   {
    "duration": 27,
    "start_time": "2022-11-24T11:12:32.485Z"
   },
   {
    "duration": 4,
    "start_time": "2022-11-24T11:13:17.464Z"
   },
   {
    "duration": 24,
    "start_time": "2022-11-24T11:13:20.170Z"
   },
   {
    "duration": 4,
    "start_time": "2022-11-24T11:14:49.853Z"
   },
   {
    "duration": 14,
    "start_time": "2022-11-24T11:14:51.819Z"
   },
   {
    "duration": 4,
    "start_time": "2022-11-24T11:19:25.441Z"
   },
   {
    "duration": 4,
    "start_time": "2022-11-24T11:19:38.076Z"
   },
   {
    "duration": 1239,
    "start_time": "2022-11-24T11:19:59.944Z"
   },
   {
    "duration": 52,
    "start_time": "2022-11-24T11:20:01.185Z"
   },
   {
    "duration": 24,
    "start_time": "2022-11-24T11:20:01.239Z"
   },
   {
    "duration": 29,
    "start_time": "2022-11-24T11:20:01.266Z"
   },
   {
    "duration": 18,
    "start_time": "2022-11-24T11:20:01.297Z"
   },
   {
    "duration": 23,
    "start_time": "2022-11-24T11:20:01.317Z"
   },
   {
    "duration": 46,
    "start_time": "2022-11-24T11:20:01.342Z"
   },
   {
    "duration": 43,
    "start_time": "2022-11-24T11:20:01.390Z"
   },
   {
    "duration": 30,
    "start_time": "2022-11-24T11:20:01.435Z"
   },
   {
    "duration": 8,
    "start_time": "2022-11-24T11:20:01.468Z"
   },
   {
    "duration": 26,
    "start_time": "2022-11-24T11:20:01.478Z"
   },
   {
    "duration": 21,
    "start_time": "2022-11-24T11:20:01.506Z"
   },
   {
    "duration": 14,
    "start_time": "2022-11-24T11:20:01.529Z"
   },
   {
    "duration": 14,
    "start_time": "2022-11-24T11:20:01.545Z"
   },
   {
    "duration": 30,
    "start_time": "2022-11-24T11:20:01.560Z"
   },
   {
    "duration": 23,
    "start_time": "2022-11-24T11:20:01.593Z"
   },
   {
    "duration": 14,
    "start_time": "2022-11-24T11:20:01.618Z"
   },
   {
    "duration": 7,
    "start_time": "2022-11-24T11:20:01.634Z"
   },
   {
    "duration": 20,
    "start_time": "2022-11-24T11:20:01.644Z"
   },
   {
    "duration": 28,
    "start_time": "2022-11-24T11:20:01.666Z"
   },
   {
    "duration": 17,
    "start_time": "2022-11-24T11:20:01.695Z"
   },
   {
    "duration": 33,
    "start_time": "2022-11-24T11:20:01.714Z"
   },
   {
    "duration": 8,
    "start_time": "2022-11-24T11:20:01.749Z"
   },
   {
    "duration": 34,
    "start_time": "2022-11-24T11:20:01.759Z"
   },
   {
    "duration": 28,
    "start_time": "2022-11-24T11:20:01.795Z"
   },
   {
    "duration": 17,
    "start_time": "2022-11-24T11:20:01.825Z"
   },
   {
    "duration": 18,
    "start_time": "2022-11-24T11:20:01.844Z"
   },
   {
    "duration": 11,
    "start_time": "2022-11-24T11:20:01.867Z"
   },
   {
    "duration": 49,
    "start_time": "2022-11-24T11:20:01.881Z"
   },
   {
    "duration": 27,
    "start_time": "2022-11-24T11:20:01.932Z"
   },
   {
    "duration": 14,
    "start_time": "2022-11-24T11:20:01.962Z"
   },
   {
    "duration": 27,
    "start_time": "2022-11-24T11:20:01.978Z"
   },
   {
    "duration": 12,
    "start_time": "2022-11-24T11:20:02.008Z"
   },
   {
    "duration": 14,
    "start_time": "2022-11-24T11:20:02.022Z"
   },
   {
    "duration": 21,
    "start_time": "2022-11-24T11:20:02.037Z"
   },
   {
    "duration": 23,
    "start_time": "2022-11-24T11:20:02.061Z"
   },
   {
    "duration": 35,
    "start_time": "2022-11-24T11:20:02.086Z"
   },
   {
    "duration": 11,
    "start_time": "2022-11-24T11:20:02.123Z"
   },
   {
    "duration": 33,
    "start_time": "2022-11-24T11:20:02.136Z"
   },
   {
    "duration": 4,
    "start_time": "2022-11-24T11:20:02.171Z"
   },
   {
    "duration": 62,
    "start_time": "2022-11-24T11:20:02.177Z"
   },
   {
    "duration": 24,
    "start_time": "2022-11-24T11:20:02.241Z"
   },
   {
    "duration": 388,
    "start_time": "2022-11-24T11:20:02.268Z"
   },
   {
    "duration": 18,
    "start_time": "2022-11-24T11:20:02.658Z"
   },
   {
    "duration": 324,
    "start_time": "2022-11-24T11:20:02.678Z"
   },
   {
    "duration": 7,
    "start_time": "2022-11-24T11:20:03.005Z"
   },
   {
    "duration": 319,
    "start_time": "2022-11-24T11:20:03.014Z"
   },
   {
    "duration": 249,
    "start_time": "2022-11-24T11:20:03.334Z"
   },
   {
    "duration": 55,
    "start_time": "2022-11-24T11:20:03.585Z"
   },
   {
    "duration": 615,
    "start_time": "2022-11-24T11:20:03.642Z"
   },
   {
    "duration": 604,
    "start_time": "2022-11-24T11:20:04.259Z"
   },
   {
    "duration": 31,
    "start_time": "2022-11-24T11:20:04.865Z"
   },
   {
    "duration": 123,
    "start_time": "2022-11-24T11:20:04.898Z"
   },
   {
    "duration": 292,
    "start_time": "2022-11-24T11:20:05.023Z"
   },
   {
    "duration": 25,
    "start_time": "2022-11-24T11:20:05.317Z"
   },
   {
    "duration": 213,
    "start_time": "2022-11-24T11:20:05.344Z"
   },
   {
    "duration": 4,
    "start_time": "2022-11-24T11:20:05.559Z"
   },
   {
    "duration": 18,
    "start_time": "2022-11-24T11:20:05.565Z"
   },
   {
    "duration": 31,
    "start_time": "2022-11-24T11:20:05.585Z"
   },
   {
    "duration": 16,
    "start_time": "2022-11-24T11:20:05.618Z"
   },
   {
    "duration": 17,
    "start_time": "2022-11-24T11:20:05.635Z"
   },
   {
    "duration": 23,
    "start_time": "2022-11-24T11:20:05.653Z"
   },
   {
    "duration": 40,
    "start_time": "2022-11-24T11:20:05.679Z"
   },
   {
    "duration": 23,
    "start_time": "2022-11-24T11:20:05.721Z"
   },
   {
    "duration": 19,
    "start_time": "2022-11-24T11:20:05.746Z"
   },
   {
    "duration": 43,
    "start_time": "2022-11-24T11:20:05.768Z"
   },
   {
    "duration": 19,
    "start_time": "2022-11-24T11:20:05.813Z"
   },
   {
    "duration": 10,
    "start_time": "2022-11-24T11:20:05.834Z"
   },
   {
    "duration": 16,
    "start_time": "2022-11-24T11:20:05.846Z"
   },
   {
    "duration": 17,
    "start_time": "2022-11-24T11:20:05.864Z"
   },
   {
    "duration": 17,
    "start_time": "2022-11-24T11:20:05.897Z"
   },
   {
    "duration": 109,
    "start_time": "2022-11-24T11:20:47.677Z"
   },
   {
    "duration": 3,
    "start_time": "2022-11-24T11:21:14.597Z"
   },
   {
    "duration": 16,
    "start_time": "2022-11-24T11:21:17.280Z"
   },
   {
    "duration": 18,
    "start_time": "2022-11-24T11:21:27.071Z"
   },
   {
    "duration": 3,
    "start_time": "2022-11-24T11:26:45.340Z"
   },
   {
    "duration": 57,
    "start_time": "2022-11-24T11:34:18.656Z"
   },
   {
    "duration": 77,
    "start_time": "2022-11-24T11:36:05.336Z"
   },
   {
    "duration": 4,
    "start_time": "2022-11-24T11:36:38.562Z"
   },
   {
    "duration": 12,
    "start_time": "2022-11-24T11:36:41.905Z"
   },
   {
    "duration": 5,
    "start_time": "2022-11-24T11:39:01.991Z"
   },
   {
    "duration": 749,
    "start_time": "2022-11-24T11:39:05.049Z"
   },
   {
    "duration": 3,
    "start_time": "2022-11-24T11:39:40.203Z"
   },
   {
    "duration": 14,
    "start_time": "2022-11-24T11:39:41.788Z"
   },
   {
    "duration": 4,
    "start_time": "2022-11-24T11:41:08.449Z"
   },
   {
    "duration": 15,
    "start_time": "2022-11-24T11:41:10.788Z"
   },
   {
    "duration": 19,
    "start_time": "2022-11-24T11:41:43.056Z"
   },
   {
    "duration": 4,
    "start_time": "2022-11-24T11:43:35.884Z"
   },
   {
    "duration": 21,
    "start_time": "2022-11-24T11:44:26.484Z"
   },
   {
    "duration": 4,
    "start_time": "2022-11-24T11:45:15.892Z"
   },
   {
    "duration": 4,
    "start_time": "2022-11-24T11:45:20.053Z"
   },
   {
    "duration": 20,
    "start_time": "2022-11-24T11:45:22.030Z"
   },
   {
    "duration": 4,
    "start_time": "2022-11-24T11:46:08.809Z"
   },
   {
    "duration": 24,
    "start_time": "2022-11-24T11:46:10.257Z"
   },
   {
    "duration": 4,
    "start_time": "2022-11-24T11:46:32.082Z"
   },
   {
    "duration": 21,
    "start_time": "2022-11-24T11:46:33.770Z"
   },
   {
    "duration": 4,
    "start_time": "2022-11-24T11:47:17.220Z"
   },
   {
    "duration": 22,
    "start_time": "2022-11-24T11:47:18.715Z"
   },
   {
    "duration": 44,
    "start_time": "2022-11-24T11:47:52.867Z"
   },
   {
    "duration": 57,
    "start_time": "2022-11-24T11:48:34.281Z"
   },
   {
    "duration": 17,
    "start_time": "2022-11-24T11:49:01.429Z"
   },
   {
    "duration": 16,
    "start_time": "2022-11-24T11:49:14.572Z"
   },
   {
    "duration": 58,
    "start_time": "2022-11-24T11:54:03.623Z"
   },
   {
    "duration": 60,
    "start_time": "2022-11-24T11:56:22.201Z"
   },
   {
    "duration": 17,
    "start_time": "2022-11-24T11:56:33.892Z"
   },
   {
    "duration": 15,
    "start_time": "2022-11-24T11:57:03.809Z"
   },
   {
    "duration": 17,
    "start_time": "2022-11-24T11:57:24.121Z"
   },
   {
    "duration": 1090,
    "start_time": "2022-11-24T11:59:07.939Z"
   },
   {
    "duration": 64,
    "start_time": "2022-11-24T11:59:09.030Z"
   },
   {
    "duration": 17,
    "start_time": "2022-11-24T11:59:09.096Z"
   },
   {
    "duration": 14,
    "start_time": "2022-11-24T11:59:09.115Z"
   },
   {
    "duration": 3,
    "start_time": "2022-11-24T11:59:09.131Z"
   },
   {
    "duration": 6,
    "start_time": "2022-11-24T11:59:09.136Z"
   },
   {
    "duration": 19,
    "start_time": "2022-11-24T11:59:09.143Z"
   },
   {
    "duration": 32,
    "start_time": "2022-11-24T11:59:09.164Z"
   },
   {
    "duration": 14,
    "start_time": "2022-11-24T11:59:09.198Z"
   },
   {
    "duration": 6,
    "start_time": "2022-11-24T11:59:09.214Z"
   },
   {
    "duration": 9,
    "start_time": "2022-11-24T11:59:09.222Z"
   },
   {
    "duration": 10,
    "start_time": "2022-11-24T11:59:09.232Z"
   },
   {
    "duration": 4,
    "start_time": "2022-11-24T11:59:09.243Z"
   },
   {
    "duration": 6,
    "start_time": "2022-11-24T11:59:09.251Z"
   },
   {
    "duration": 37,
    "start_time": "2022-11-24T11:59:09.259Z"
   },
   {
    "duration": 10,
    "start_time": "2022-11-24T11:59:09.298Z"
   },
   {
    "duration": 20,
    "start_time": "2022-11-24T11:59:09.309Z"
   },
   {
    "duration": 6,
    "start_time": "2022-11-24T11:59:09.331Z"
   },
   {
    "duration": 6,
    "start_time": "2022-11-24T11:59:09.338Z"
   },
   {
    "duration": 7,
    "start_time": "2022-11-24T11:59:09.346Z"
   },
   {
    "duration": 11,
    "start_time": "2022-11-24T11:59:09.354Z"
   },
   {
    "duration": 34,
    "start_time": "2022-11-24T11:59:09.367Z"
   },
   {
    "duration": 7,
    "start_time": "2022-11-24T11:59:09.403Z"
   },
   {
    "duration": 17,
    "start_time": "2022-11-24T11:59:09.412Z"
   },
   {
    "duration": 19,
    "start_time": "2022-11-24T11:59:09.431Z"
   },
   {
    "duration": 6,
    "start_time": "2022-11-24T11:59:09.452Z"
   },
   {
    "duration": 10,
    "start_time": "2022-11-24T11:59:09.459Z"
   },
   {
    "duration": 26,
    "start_time": "2022-11-24T11:59:09.471Z"
   },
   {
    "duration": 15,
    "start_time": "2022-11-24T11:59:09.499Z"
   },
   {
    "duration": 8,
    "start_time": "2022-11-24T11:59:09.516Z"
   },
   {
    "duration": 5,
    "start_time": "2022-11-24T11:59:09.526Z"
   },
   {
    "duration": 6,
    "start_time": "2022-11-24T11:59:09.533Z"
   },
   {
    "duration": 5,
    "start_time": "2022-11-24T11:59:09.540Z"
   },
   {
    "duration": 6,
    "start_time": "2022-11-24T11:59:09.547Z"
   },
   {
    "duration": 42,
    "start_time": "2022-11-24T11:59:09.555Z"
   },
   {
    "duration": 6,
    "start_time": "2022-11-24T11:59:09.599Z"
   },
   {
    "duration": 8,
    "start_time": "2022-11-24T11:59:09.607Z"
   },
   {
    "duration": 6,
    "start_time": "2022-11-24T11:59:09.617Z"
   },
   {
    "duration": 13,
    "start_time": "2022-11-24T11:59:09.625Z"
   },
   {
    "duration": 3,
    "start_time": "2022-11-24T11:59:09.639Z"
   },
   {
    "duration": 54,
    "start_time": "2022-11-24T11:59:09.646Z"
   },
   {
    "duration": 14,
    "start_time": "2022-11-24T11:59:09.702Z"
   },
   {
    "duration": 384,
    "start_time": "2022-11-24T11:59:09.717Z"
   },
   {
    "duration": 17,
    "start_time": "2022-11-24T11:59:10.103Z"
   },
   {
    "duration": 331,
    "start_time": "2022-11-24T11:59:10.122Z"
   },
   {
    "duration": 6,
    "start_time": "2022-11-24T11:59:10.455Z"
   },
   {
    "duration": 303,
    "start_time": "2022-11-24T11:59:10.463Z"
   },
   {
    "duration": 253,
    "start_time": "2022-11-24T11:59:10.768Z"
   },
   {
    "duration": 55,
    "start_time": "2022-11-24T11:59:11.024Z"
   },
   {
    "duration": 586,
    "start_time": "2022-11-24T11:59:11.081Z"
   },
   {
    "duration": 608,
    "start_time": "2022-11-24T11:59:11.668Z"
   },
   {
    "duration": 24,
    "start_time": "2022-11-24T11:59:12.277Z"
   },
   {
    "duration": 109,
    "start_time": "2022-11-24T11:59:12.303Z"
   },
   {
    "duration": 267,
    "start_time": "2022-11-24T11:59:12.414Z"
   },
   {
    "duration": 28,
    "start_time": "2022-11-24T11:59:12.683Z"
   },
   {
    "duration": 201,
    "start_time": "2022-11-24T11:59:12.713Z"
   },
   {
    "duration": 4,
    "start_time": "2022-11-24T11:59:12.915Z"
   },
   {
    "duration": 78,
    "start_time": "2022-11-24T11:59:12.921Z"
   },
   {
    "duration": 61,
    "start_time": "2022-11-24T11:59:13.000Z"
   },
   {
    "duration": 40,
    "start_time": "2022-11-24T11:59:13.062Z"
   },
   {
    "duration": 17,
    "start_time": "2022-11-24T11:59:13.103Z"
   },
   {
    "duration": 18,
    "start_time": "2022-11-24T11:59:13.121Z"
   },
   {
    "duration": 45,
    "start_time": "2022-11-24T11:59:13.141Z"
   },
   {
    "duration": 0,
    "start_time": "2022-11-24T11:59:13.188Z"
   },
   {
    "duration": 0,
    "start_time": "2022-11-24T11:59:13.189Z"
   },
   {
    "duration": 0,
    "start_time": "2022-11-24T11:59:13.190Z"
   },
   {
    "duration": 0,
    "start_time": "2022-11-24T11:59:13.191Z"
   },
   {
    "duration": 64,
    "start_time": "2022-11-24T12:03:00.584Z"
   },
   {
    "duration": 49,
    "start_time": "2022-11-24T12:15:04.343Z"
   },
   {
    "duration": 65,
    "start_time": "2022-11-24T12:15:17.058Z"
   },
   {
    "duration": 362,
    "start_time": "2022-11-24T12:16:03.677Z"
   },
   {
    "duration": 270,
    "start_time": "2022-11-24T12:16:38.176Z"
   },
   {
    "duration": 10,
    "start_time": "2022-11-24T12:16:53.489Z"
   },
   {
    "duration": 102,
    "start_time": "2022-11-24T12:17:34.502Z"
   },
   {
    "duration": 4,
    "start_time": "2022-11-24T12:18:27.283Z"
   },
   {
    "duration": 100,
    "start_time": "2022-11-24T12:18:41.209Z"
   },
   {
    "duration": 77,
    "start_time": "2022-11-24T12:19:01.354Z"
   },
   {
    "duration": 100,
    "start_time": "2022-11-24T12:19:44.398Z"
   },
   {
    "duration": 153,
    "start_time": "2022-11-24T12:19:53.285Z"
   },
   {
    "duration": 79,
    "start_time": "2022-11-24T12:20:01.986Z"
   },
   {
    "duration": 75,
    "start_time": "2022-11-24T12:20:24.472Z"
   },
   {
    "duration": 11,
    "start_time": "2022-11-24T12:21:17.183Z"
   },
   {
    "duration": 10,
    "start_time": "2022-11-24T12:22:06.800Z"
   },
   {
    "duration": 96,
    "start_time": "2022-11-24T12:22:31.074Z"
   },
   {
    "duration": 79,
    "start_time": "2022-11-24T12:22:53.180Z"
   },
   {
    "duration": 86,
    "start_time": "2022-11-24T12:23:05.273Z"
   },
   {
    "duration": 91,
    "start_time": "2022-11-24T12:24:07.034Z"
   },
   {
    "duration": 59,
    "start_time": "2022-11-24T12:25:29.203Z"
   },
   {
    "duration": 48,
    "start_time": "2022-11-24T12:25:35.183Z"
   },
   {
    "duration": 60,
    "start_time": "2022-11-24T12:32:24.032Z"
   },
   {
    "duration": 14,
    "start_time": "2022-11-24T12:32:28.496Z"
   },
   {
    "duration": 297,
    "start_time": "2022-11-24T12:32:43.815Z"
   },
   {
    "duration": 362,
    "start_time": "2022-11-24T12:33:32.702Z"
   },
   {
    "duration": 503,
    "start_time": "2022-11-24T12:34:04.245Z"
   },
   {
    "duration": 63,
    "start_time": "2022-11-24T12:38:08.401Z"
   },
   {
    "duration": 59,
    "start_time": "2022-11-24T12:38:49.327Z"
   },
   {
    "duration": 62,
    "start_time": "2022-11-24T12:39:05.448Z"
   },
   {
    "duration": 328,
    "start_time": "2022-11-24T12:39:34.428Z"
   },
   {
    "duration": 330,
    "start_time": "2022-11-24T12:40:15.480Z"
   },
   {
    "duration": 54,
    "start_time": "2022-11-24T20:29:49.992Z"
   },
   {
    "duration": 1508,
    "start_time": "2022-11-24T20:29:59.127Z"
   },
   {
    "duration": 185,
    "start_time": "2022-11-24T20:30:00.638Z"
   },
   {
    "duration": 20,
    "start_time": "2022-11-24T20:30:00.825Z"
   },
   {
    "duration": 28,
    "start_time": "2022-11-24T20:30:00.848Z"
   },
   {
    "duration": 4,
    "start_time": "2022-11-24T20:30:00.878Z"
   },
   {
    "duration": 22,
    "start_time": "2022-11-24T20:30:00.883Z"
   },
   {
    "duration": 29,
    "start_time": "2022-11-24T20:30:00.907Z"
   },
   {
    "duration": 19,
    "start_time": "2022-11-24T20:30:00.938Z"
   },
   {
    "duration": 16,
    "start_time": "2022-11-24T20:30:00.959Z"
   },
   {
    "duration": 8,
    "start_time": "2022-11-24T20:30:00.978Z"
   },
   {
    "duration": 10,
    "start_time": "2022-11-24T20:30:00.989Z"
   },
   {
    "duration": 13,
    "start_time": "2022-11-24T20:30:01.001Z"
   },
   {
    "duration": 17,
    "start_time": "2022-11-24T20:30:01.016Z"
   },
   {
    "duration": 14,
    "start_time": "2022-11-24T20:30:01.034Z"
   },
   {
    "duration": 31,
    "start_time": "2022-11-24T20:30:01.050Z"
   },
   {
    "duration": 32,
    "start_time": "2022-11-24T20:30:01.083Z"
   },
   {
    "duration": 32,
    "start_time": "2022-11-24T20:30:01.118Z"
   },
   {
    "duration": 21,
    "start_time": "2022-11-24T20:30:01.152Z"
   },
   {
    "duration": 18,
    "start_time": "2022-11-24T20:30:01.175Z"
   },
   {
    "duration": 17,
    "start_time": "2022-11-24T20:30:01.195Z"
   },
   {
    "duration": 35,
    "start_time": "2022-11-24T20:30:01.214Z"
   },
   {
    "duration": 27,
    "start_time": "2022-11-24T20:30:01.251Z"
   },
   {
    "duration": 13,
    "start_time": "2022-11-24T20:30:01.280Z"
   },
   {
    "duration": 26,
    "start_time": "2022-11-24T20:30:01.295Z"
   },
   {
    "duration": 19,
    "start_time": "2022-11-24T20:30:01.323Z"
   },
   {
    "duration": 12,
    "start_time": "2022-11-24T20:30:01.344Z"
   },
   {
    "duration": 27,
    "start_time": "2022-11-24T20:30:01.358Z"
   },
   {
    "duration": 11,
    "start_time": "2022-11-24T20:30:01.391Z"
   },
   {
    "duration": 16,
    "start_time": "2022-11-24T20:30:01.404Z"
   },
   {
    "duration": 26,
    "start_time": "2022-11-24T20:30:01.422Z"
   },
   {
    "duration": 24,
    "start_time": "2022-11-24T20:30:01.450Z"
   },
   {
    "duration": 27,
    "start_time": "2022-11-24T20:30:01.476Z"
   },
   {
    "duration": 33,
    "start_time": "2022-11-24T20:30:01.505Z"
   },
   {
    "duration": 10,
    "start_time": "2022-11-24T20:30:01.540Z"
   },
   {
    "duration": 31,
    "start_time": "2022-11-24T20:30:01.551Z"
   },
   {
    "duration": 41,
    "start_time": "2022-11-24T20:30:01.584Z"
   },
   {
    "duration": 16,
    "start_time": "2022-11-24T20:30:01.627Z"
   },
   {
    "duration": 33,
    "start_time": "2022-11-24T20:30:01.644Z"
   },
   {
    "duration": 60,
    "start_time": "2022-11-24T20:30:01.679Z"
   },
   {
    "duration": 12,
    "start_time": "2022-11-24T20:30:01.741Z"
   },
   {
    "duration": 53,
    "start_time": "2022-11-24T20:30:01.755Z"
   },
   {
    "duration": 39,
    "start_time": "2022-11-24T20:30:01.810Z"
   },
   {
    "duration": 438,
    "start_time": "2022-11-24T20:30:01.851Z"
   },
   {
    "duration": 18,
    "start_time": "2022-11-24T20:30:02.292Z"
   },
   {
    "duration": 346,
    "start_time": "2022-11-24T20:30:02.311Z"
   },
   {
    "duration": 6,
    "start_time": "2022-11-24T20:30:02.659Z"
   },
   {
    "duration": 357,
    "start_time": "2022-11-24T20:30:02.667Z"
   },
   {
    "duration": 254,
    "start_time": "2022-11-24T20:30:03.026Z"
   },
   {
    "duration": 55,
    "start_time": "2022-11-24T20:30:03.283Z"
   },
   {
    "duration": 789,
    "start_time": "2022-11-24T20:30:03.352Z"
   },
   {
    "duration": 614,
    "start_time": "2022-11-24T20:30:04.143Z"
   },
   {
    "duration": 28,
    "start_time": "2022-11-24T20:30:04.759Z"
   },
   {
    "duration": 118,
    "start_time": "2022-11-24T20:30:04.788Z"
   },
   {
    "duration": 295,
    "start_time": "2022-11-24T20:30:04.907Z"
   },
   {
    "duration": 29,
    "start_time": "2022-11-24T20:30:05.207Z"
   },
   {
    "duration": 236,
    "start_time": "2022-11-24T20:30:05.250Z"
   },
   {
    "duration": 4,
    "start_time": "2022-11-24T20:30:05.488Z"
   },
   {
    "duration": 96,
    "start_time": "2022-11-24T20:30:05.494Z"
   },
   {
    "duration": 82,
    "start_time": "2022-11-24T20:30:05.592Z"
   },
   {
    "duration": 93,
    "start_time": "2022-11-24T20:30:05.676Z"
   },
   {
    "duration": 405,
    "start_time": "2022-11-24T20:30:05.771Z"
   },
   {
    "duration": 8,
    "start_time": "2022-11-24T20:30:06.178Z"
   },
   {
    "duration": 35,
    "start_time": "2022-11-24T20:30:06.188Z"
   },
   {
    "duration": 14,
    "start_time": "2022-11-24T20:30:06.224Z"
   },
   {
    "duration": 15,
    "start_time": "2022-11-24T20:30:06.240Z"
   },
   {
    "duration": 436,
    "start_time": "2022-11-24T20:32:18.990Z"
   },
   {
    "duration": 414,
    "start_time": "2022-11-24T20:32:38.842Z"
   },
   {
    "duration": 374,
    "start_time": "2022-11-24T20:33:01.414Z"
   },
   {
    "duration": 3,
    "start_time": "2022-11-24T20:33:41.397Z"
   },
   {
    "duration": 497,
    "start_time": "2022-11-24T20:33:45.073Z"
   },
   {
    "duration": 3,
    "start_time": "2022-11-24T20:34:57.223Z"
   },
   {
    "duration": 380,
    "start_time": "2022-11-24T20:35:08.228Z"
   },
   {
    "duration": 365,
    "start_time": "2022-11-24T20:41:23.559Z"
   },
   {
    "duration": 3,
    "start_time": "2022-11-24T20:50:01.844Z"
   },
   {
    "duration": 401,
    "start_time": "2022-11-24T20:50:03.506Z"
   },
   {
    "duration": 381,
    "start_time": "2022-11-24T20:51:09.632Z"
   },
   {
    "duration": 4,
    "start_time": "2022-11-24T20:52:18.206Z"
   },
   {
    "duration": 67,
    "start_time": "2022-11-24T20:52:22.270Z"
   },
   {
    "duration": 67,
    "start_time": "2022-11-24T20:52:27.623Z"
   },
   {
    "duration": 68,
    "start_time": "2022-11-24T20:52:32.805Z"
   },
   {
    "duration": 3,
    "start_time": "2022-11-24T20:52:38.674Z"
   },
   {
    "duration": 308,
    "start_time": "2022-11-24T20:52:42.051Z"
   },
   {
    "duration": 4,
    "start_time": "2022-11-24T20:53:33.749Z"
   },
   {
    "duration": 162,
    "start_time": "2022-11-24T20:53:37.909Z"
   },
   {
    "duration": 65,
    "start_time": "2022-11-24T20:53:41.993Z"
   },
   {
    "duration": 78,
    "start_time": "2022-11-24T20:53:45.173Z"
   },
   {
    "duration": 72,
    "start_time": "2022-11-24T21:02:22.411Z"
   },
   {
    "duration": 89,
    "start_time": "2022-11-24T21:05:28.069Z"
   },
   {
    "duration": 74,
    "start_time": "2022-11-24T21:05:47.357Z"
   },
   {
    "duration": 131,
    "start_time": "2022-11-24T21:06:04.596Z"
   },
   {
    "duration": 146,
    "start_time": "2022-11-24T21:06:31.822Z"
   },
   {
    "duration": 121,
    "start_time": "2022-11-24T21:06:57.609Z"
   },
   {
    "duration": 130,
    "start_time": "2022-11-24T21:07:45.485Z"
   },
   {
    "duration": 128,
    "start_time": "2022-11-24T21:08:51.827Z"
   },
   {
    "duration": 254,
    "start_time": "2022-11-24T21:10:21.564Z"
   },
   {
    "duration": 513,
    "start_time": "2022-11-24T21:11:25.003Z"
   },
   {
    "duration": 196,
    "start_time": "2022-11-24T21:14:59.008Z"
   },
   {
    "duration": 343,
    "start_time": "2022-11-24T21:17:16.394Z"
   },
   {
    "duration": 20,
    "start_time": "2022-11-24T21:17:41.812Z"
   },
   {
    "duration": 556,
    "start_time": "2022-11-24T21:17:59.918Z"
   },
   {
    "duration": 554,
    "start_time": "2022-11-24T21:19:33.077Z"
   },
   {
    "duration": 543,
    "start_time": "2022-11-24T21:19:51.897Z"
   },
   {
    "duration": 534,
    "start_time": "2022-11-24T21:28:31.304Z"
   },
   {
    "duration": 549,
    "start_time": "2022-11-24T21:29:03.284Z"
   },
   {
    "duration": 668,
    "start_time": "2022-11-24T21:29:22.016Z"
   },
   {
    "duration": 71,
    "start_time": "2022-11-24T21:33:36.159Z"
   },
   {
    "duration": 63,
    "start_time": "2022-11-24T21:34:21.423Z"
   },
   {
    "duration": 61,
    "start_time": "2022-11-24T21:34:59.352Z"
   },
   {
    "duration": 1402,
    "start_time": "2022-11-24T21:38:48.466Z"
   },
   {
    "duration": 1532,
    "start_time": "2022-11-24T21:39:13.267Z"
   },
   {
    "duration": 1688,
    "start_time": "2022-11-24T21:41:40.778Z"
   },
   {
    "duration": 1633,
    "start_time": "2022-11-24T21:43:08.889Z"
   },
   {
    "duration": 1651,
    "start_time": "2022-11-24T21:43:43.931Z"
   },
   {
    "duration": 1557,
    "start_time": "2022-11-24T21:44:08.091Z"
   },
   {
    "duration": 1614,
    "start_time": "2022-11-25T11:06:46.272Z"
   },
   {
    "duration": 187,
    "start_time": "2022-11-25T11:06:47.888Z"
   },
   {
    "duration": 19,
    "start_time": "2022-11-25T11:06:48.077Z"
   },
   {
    "duration": 15,
    "start_time": "2022-11-25T11:06:48.098Z"
   },
   {
    "duration": 3,
    "start_time": "2022-11-25T11:06:48.116Z"
   },
   {
    "duration": 8,
    "start_time": "2022-11-25T11:06:48.120Z"
   },
   {
    "duration": 34,
    "start_time": "2022-11-25T11:06:48.129Z"
   },
   {
    "duration": 34,
    "start_time": "2022-11-25T11:06:48.165Z"
   },
   {
    "duration": 12,
    "start_time": "2022-11-25T11:06:48.202Z"
   },
   {
    "duration": 8,
    "start_time": "2022-11-25T11:06:48.216Z"
   },
   {
    "duration": 16,
    "start_time": "2022-11-25T11:06:48.225Z"
   },
   {
    "duration": 8,
    "start_time": "2022-11-25T11:06:48.243Z"
   },
   {
    "duration": 7,
    "start_time": "2022-11-25T11:06:48.254Z"
   },
   {
    "duration": 19,
    "start_time": "2022-11-25T11:06:48.265Z"
   },
   {
    "duration": 9,
    "start_time": "2022-11-25T11:06:48.286Z"
   },
   {
    "duration": 12,
    "start_time": "2022-11-25T11:06:48.297Z"
   },
   {
    "duration": 7,
    "start_time": "2022-11-25T11:06:48.311Z"
   },
   {
    "duration": 4,
    "start_time": "2022-11-25T11:06:48.320Z"
   },
   {
    "duration": 10,
    "start_time": "2022-11-25T11:06:48.350Z"
   },
   {
    "duration": 11,
    "start_time": "2022-11-25T11:06:48.363Z"
   },
   {
    "duration": 10,
    "start_time": "2022-11-25T11:06:48.376Z"
   },
   {
    "duration": 24,
    "start_time": "2022-11-25T11:06:48.387Z"
   },
   {
    "duration": 38,
    "start_time": "2022-11-25T11:06:48.413Z"
   },
   {
    "duration": 15,
    "start_time": "2022-11-25T11:06:48.454Z"
   },
   {
    "duration": 21,
    "start_time": "2022-11-25T11:06:48.470Z"
   },
   {
    "duration": 6,
    "start_time": "2022-11-25T11:06:48.493Z"
   },
   {
    "duration": 11,
    "start_time": "2022-11-25T11:06:48.500Z"
   },
   {
    "duration": 8,
    "start_time": "2022-11-25T11:06:48.513Z"
   },
   {
    "duration": 33,
    "start_time": "2022-11-25T11:06:48.522Z"
   },
   {
    "duration": 6,
    "start_time": "2022-11-25T11:06:48.558Z"
   },
   {
    "duration": 11,
    "start_time": "2022-11-25T11:06:48.566Z"
   },
   {
    "duration": 6,
    "start_time": "2022-11-25T11:06:48.579Z"
   },
   {
    "duration": 7,
    "start_time": "2022-11-25T11:06:48.588Z"
   },
   {
    "duration": 12,
    "start_time": "2022-11-25T11:06:48.597Z"
   },
   {
    "duration": 46,
    "start_time": "2022-11-25T11:06:48.611Z"
   },
   {
    "duration": 10,
    "start_time": "2022-11-25T11:06:48.660Z"
   },
   {
    "duration": 15,
    "start_time": "2022-11-25T11:06:48.672Z"
   },
   {
    "duration": 9,
    "start_time": "2022-11-25T11:06:48.689Z"
   },
   {
    "duration": 20,
    "start_time": "2022-11-25T11:06:48.700Z"
   },
   {
    "duration": 4,
    "start_time": "2022-11-25T11:06:48.722Z"
   },
   {
    "duration": 26,
    "start_time": "2022-11-25T11:06:48.755Z"
   },
   {
    "duration": 22,
    "start_time": "2022-11-25T11:06:48.783Z"
   },
   {
    "duration": 488,
    "start_time": "2022-11-25T11:06:48.807Z"
   },
   {
    "duration": 20,
    "start_time": "2022-11-25T11:06:49.297Z"
   },
   {
    "duration": 391,
    "start_time": "2022-11-25T11:06:49.318Z"
   },
   {
    "duration": 7,
    "start_time": "2022-11-25T11:06:49.711Z"
   },
   {
    "duration": 420,
    "start_time": "2022-11-25T11:06:49.720Z"
   },
   {
    "duration": 293,
    "start_time": "2022-11-25T11:06:50.142Z"
   },
   {
    "duration": 78,
    "start_time": "2022-11-25T11:06:50.437Z"
   },
   {
    "duration": 826,
    "start_time": "2022-11-25T11:06:50.517Z"
   },
   {
    "duration": 651,
    "start_time": "2022-11-25T11:06:51.345Z"
   },
   {
    "duration": 16,
    "start_time": "2022-11-25T11:06:51.997Z"
   },
   {
    "duration": 143,
    "start_time": "2022-11-25T11:06:52.015Z"
   },
   {
    "duration": 299,
    "start_time": "2022-11-25T11:06:52.161Z"
   },
   {
    "duration": 32,
    "start_time": "2022-11-25T11:06:52.463Z"
   },
   {
    "duration": 255,
    "start_time": "2022-11-25T11:06:52.497Z"
   },
   {
    "duration": 8,
    "start_time": "2022-11-25T11:06:52.755Z"
   },
   {
    "duration": 163,
    "start_time": "2022-11-25T11:06:52.766Z"
   },
   {
    "duration": 0,
    "start_time": "2022-11-25T11:06:52.930Z"
   },
   {
    "duration": 0,
    "start_time": "2022-11-25T11:06:52.932Z"
   },
   {
    "duration": 0,
    "start_time": "2022-11-25T11:06:52.933Z"
   },
   {
    "duration": 0,
    "start_time": "2022-11-25T11:06:52.935Z"
   },
   {
    "duration": 0,
    "start_time": "2022-11-25T11:06:52.935Z"
   },
   {
    "duration": 0,
    "start_time": "2022-11-25T11:06:52.951Z"
   },
   {
    "duration": 1,
    "start_time": "2022-11-25T11:06:52.954Z"
   },
   {
    "duration": 17,
    "start_time": "2022-11-25T11:13:07.679Z"
   },
   {
    "duration": 1229,
    "start_time": "2022-11-25T11:13:35.086Z"
   },
   {
    "duration": 63,
    "start_time": "2022-11-25T11:13:36.317Z"
   },
   {
    "duration": 19,
    "start_time": "2022-11-25T11:13:36.381Z"
   },
   {
    "duration": 16,
    "start_time": "2022-11-25T11:13:36.402Z"
   },
   {
    "duration": 4,
    "start_time": "2022-11-25T11:13:36.419Z"
   },
   {
    "duration": 28,
    "start_time": "2022-11-25T11:13:36.424Z"
   },
   {
    "duration": 25,
    "start_time": "2022-11-25T11:13:36.455Z"
   },
   {
    "duration": 13,
    "start_time": "2022-11-25T11:13:36.481Z"
   },
   {
    "duration": 10,
    "start_time": "2022-11-25T11:13:36.496Z"
   },
   {
    "duration": 5,
    "start_time": "2022-11-25T11:13:36.509Z"
   },
   {
    "duration": 8,
    "start_time": "2022-11-25T11:13:36.516Z"
   },
   {
    "duration": 35,
    "start_time": "2022-11-25T11:13:36.525Z"
   },
   {
    "duration": 5,
    "start_time": "2022-11-25T11:13:36.562Z"
   },
   {
    "duration": 15,
    "start_time": "2022-11-25T11:13:36.570Z"
   },
   {
    "duration": 9,
    "start_time": "2022-11-25T11:13:36.587Z"
   },
   {
    "duration": 13,
    "start_time": "2022-11-25T11:13:36.597Z"
   },
   {
    "duration": 8,
    "start_time": "2022-11-25T11:13:36.612Z"
   },
   {
    "duration": 5,
    "start_time": "2022-11-25T11:13:36.622Z"
   },
   {
    "duration": 24,
    "start_time": "2022-11-25T11:13:36.629Z"
   },
   {
    "duration": 14,
    "start_time": "2022-11-25T11:13:36.655Z"
   },
   {
    "duration": 10,
    "start_time": "2022-11-25T11:13:36.671Z"
   },
   {
    "duration": 21,
    "start_time": "2022-11-25T11:13:36.683Z"
   },
   {
    "duration": 8,
    "start_time": "2022-11-25T11:13:36.705Z"
   },
   {
    "duration": 10,
    "start_time": "2022-11-25T11:13:36.715Z"
   },
   {
    "duration": 18,
    "start_time": "2022-11-25T11:13:36.752Z"
   },
   {
    "duration": 6,
    "start_time": "2022-11-25T11:13:36.773Z"
   },
   {
    "duration": 16,
    "start_time": "2022-11-25T11:13:36.781Z"
   },
   {
    "duration": 6,
    "start_time": "2022-11-25T11:13:36.801Z"
   },
   {
    "duration": 6,
    "start_time": "2022-11-25T11:13:36.808Z"
   },
   {
    "duration": 37,
    "start_time": "2022-11-25T11:13:36.816Z"
   },
   {
    "duration": 7,
    "start_time": "2022-11-25T11:13:36.856Z"
   },
   {
    "duration": 11,
    "start_time": "2022-11-25T11:13:36.865Z"
   },
   {
    "duration": 7,
    "start_time": "2022-11-25T11:13:36.877Z"
   },
   {
    "duration": 9,
    "start_time": "2022-11-25T11:13:36.885Z"
   },
   {
    "duration": 6,
    "start_time": "2022-11-25T11:13:36.895Z"
   },
   {
    "duration": 11,
    "start_time": "2022-11-25T11:13:36.903Z"
   },
   {
    "duration": 42,
    "start_time": "2022-11-25T11:13:36.916Z"
   },
   {
    "duration": 10,
    "start_time": "2022-11-25T11:13:36.960Z"
   },
   {
    "duration": 18,
    "start_time": "2022-11-25T11:13:36.973Z"
   },
   {
    "duration": 3,
    "start_time": "2022-11-25T11:13:36.992Z"
   },
   {
    "duration": 19,
    "start_time": "2022-11-25T11:13:36.997Z"
   },
   {
    "duration": 43,
    "start_time": "2022-11-25T11:13:37.018Z"
   },
   {
    "duration": 422,
    "start_time": "2022-11-25T11:13:37.065Z"
   },
   {
    "duration": 17,
    "start_time": "2022-11-25T11:13:37.489Z"
   },
   {
    "duration": 324,
    "start_time": "2022-11-25T11:13:37.508Z"
   },
   {
    "duration": 7,
    "start_time": "2022-11-25T11:13:37.834Z"
   },
   {
    "duration": 326,
    "start_time": "2022-11-25T11:13:37.842Z"
   },
   {
    "duration": 269,
    "start_time": "2022-11-25T11:13:38.170Z"
   },
   {
    "duration": 71,
    "start_time": "2022-11-25T11:13:38.441Z"
   },
   {
    "duration": 667,
    "start_time": "2022-11-25T11:13:38.514Z"
   },
   {
    "duration": 728,
    "start_time": "2022-11-25T11:13:39.183Z"
   },
   {
    "duration": 15,
    "start_time": "2022-11-25T11:13:39.913Z"
   },
   {
    "duration": 141,
    "start_time": "2022-11-25T11:13:39.930Z"
   },
   {
    "duration": 314,
    "start_time": "2022-11-25T11:13:40.074Z"
   },
   {
    "duration": 25,
    "start_time": "2022-11-25T11:13:40.390Z"
   },
   {
    "duration": 259,
    "start_time": "2022-11-25T11:13:40.417Z"
   },
   {
    "duration": 5,
    "start_time": "2022-11-25T11:13:40.678Z"
   },
   {
    "duration": 143,
    "start_time": "2022-11-25T11:13:40.685Z"
   },
   {
    "duration": 0,
    "start_time": "2022-11-25T11:13:40.829Z"
   },
   {
    "duration": 0,
    "start_time": "2022-11-25T11:13:40.831Z"
   },
   {
    "duration": 0,
    "start_time": "2022-11-25T11:13:40.832Z"
   },
   {
    "duration": 0,
    "start_time": "2022-11-25T11:13:40.833Z"
   },
   {
    "duration": 0,
    "start_time": "2022-11-25T11:13:40.834Z"
   },
   {
    "duration": 0,
    "start_time": "2022-11-25T11:13:40.835Z"
   },
   {
    "duration": 0,
    "start_time": "2022-11-25T11:13:40.852Z"
   },
   {
    "duration": 99,
    "start_time": "2022-11-25T11:19:29.866Z"
   },
   {
    "duration": 72,
    "start_time": "2022-11-25T11:21:35.791Z"
   },
   {
    "duration": 68,
    "start_time": "2022-11-25T11:22:11.524Z"
   },
   {
    "duration": 1541,
    "start_time": "2022-11-25T11:26:43.144Z"
   },
   {
    "duration": 7,
    "start_time": "2022-11-25T11:38:19.922Z"
   },
   {
    "duration": 5,
    "start_time": "2022-11-25T11:38:21.223Z"
   },
   {
    "duration": 13,
    "start_time": "2022-11-25T11:38:23.481Z"
   },
   {
    "duration": 14,
    "start_time": "2022-11-25T11:39:52.659Z"
   },
   {
    "duration": 1387,
    "start_time": "2022-11-25T12:17:28.882Z"
   },
   {
    "duration": 60,
    "start_time": "2022-11-25T12:17:30.272Z"
   },
   {
    "duration": 20,
    "start_time": "2022-11-25T12:17:30.334Z"
   },
   {
    "duration": 37,
    "start_time": "2022-11-25T12:17:30.357Z"
   },
   {
    "duration": 20,
    "start_time": "2022-11-25T12:17:30.396Z"
   },
   {
    "duration": 19,
    "start_time": "2022-11-25T12:17:30.419Z"
   },
   {
    "duration": 32,
    "start_time": "2022-11-25T12:17:30.441Z"
   },
   {
    "duration": 27,
    "start_time": "2022-11-25T12:17:30.476Z"
   },
   {
    "duration": 23,
    "start_time": "2022-11-25T12:17:30.506Z"
   },
   {
    "duration": 15,
    "start_time": "2022-11-25T12:17:30.534Z"
   },
   {
    "duration": 50,
    "start_time": "2022-11-25T12:17:30.551Z"
   },
   {
    "duration": 44,
    "start_time": "2022-11-25T12:17:30.603Z"
   },
   {
    "duration": 20,
    "start_time": "2022-11-25T12:17:30.648Z"
   },
   {
    "duration": 17,
    "start_time": "2022-11-25T12:17:30.670Z"
   },
   {
    "duration": 14,
    "start_time": "2022-11-25T12:17:30.690Z"
   },
   {
    "duration": 39,
    "start_time": "2022-11-25T12:17:30.706Z"
   },
   {
    "duration": 9,
    "start_time": "2022-11-25T12:17:30.748Z"
   },
   {
    "duration": 24,
    "start_time": "2022-11-25T12:17:30.759Z"
   },
   {
    "duration": 25,
    "start_time": "2022-11-25T12:17:30.785Z"
   },
   {
    "duration": 17,
    "start_time": "2022-11-25T12:17:30.812Z"
   },
   {
    "duration": 56,
    "start_time": "2022-11-25T12:17:30.831Z"
   },
   {
    "duration": 42,
    "start_time": "2022-11-25T12:17:30.890Z"
   },
   {
    "duration": 31,
    "start_time": "2022-11-25T12:17:30.935Z"
   },
   {
    "duration": 15,
    "start_time": "2022-11-25T12:17:30.968Z"
   },
   {
    "duration": 36,
    "start_time": "2022-11-25T12:17:30.985Z"
   },
   {
    "duration": 37,
    "start_time": "2022-11-25T12:17:31.023Z"
   },
   {
    "duration": 26,
    "start_time": "2022-11-25T12:17:31.062Z"
   },
   {
    "duration": 18,
    "start_time": "2022-11-25T12:17:31.092Z"
   },
   {
    "duration": 28,
    "start_time": "2022-11-25T12:17:31.112Z"
   },
   {
    "duration": 12,
    "start_time": "2022-11-25T12:17:31.141Z"
   },
   {
    "duration": 16,
    "start_time": "2022-11-25T12:17:31.155Z"
   },
   {
    "duration": 8,
    "start_time": "2022-11-25T12:17:31.173Z"
   },
   {
    "duration": 22,
    "start_time": "2022-11-25T12:17:31.183Z"
   },
   {
    "duration": 10,
    "start_time": "2022-11-25T12:17:31.207Z"
   },
   {
    "duration": 9,
    "start_time": "2022-11-25T12:17:31.220Z"
   },
   {
    "duration": 25,
    "start_time": "2022-11-25T12:17:31.231Z"
   },
   {
    "duration": 26,
    "start_time": "2022-11-25T12:17:31.258Z"
   },
   {
    "duration": 19,
    "start_time": "2022-11-25T12:17:31.286Z"
   },
   {
    "duration": 26,
    "start_time": "2022-11-25T12:17:31.307Z"
   },
   {
    "duration": 15,
    "start_time": "2022-11-25T12:17:31.335Z"
   },
   {
    "duration": 29,
    "start_time": "2022-11-25T12:17:31.352Z"
   },
   {
    "duration": 16,
    "start_time": "2022-11-25T12:17:31.384Z"
   },
   {
    "duration": 420,
    "start_time": "2022-11-25T12:17:31.401Z"
   },
   {
    "duration": 29,
    "start_time": "2022-11-25T12:17:31.823Z"
   },
   {
    "duration": 350,
    "start_time": "2022-11-25T12:17:31.854Z"
   },
   {
    "duration": 10,
    "start_time": "2022-11-25T12:17:32.209Z"
   },
   {
    "duration": 312,
    "start_time": "2022-11-25T12:17:32.221Z"
   },
   {
    "duration": 323,
    "start_time": "2022-11-25T12:17:32.536Z"
   },
   {
    "duration": 54,
    "start_time": "2022-11-25T12:17:32.861Z"
   },
   {
    "duration": 616,
    "start_time": "2022-11-25T12:17:32.917Z"
   },
   {
    "duration": 604,
    "start_time": "2022-11-25T12:17:33.535Z"
   },
   {
    "duration": 20,
    "start_time": "2022-11-25T12:17:34.141Z"
   },
   {
    "duration": 137,
    "start_time": "2022-11-25T12:17:34.163Z"
   },
   {
    "duration": 285,
    "start_time": "2022-11-25T12:17:34.302Z"
   },
   {
    "duration": 28,
    "start_time": "2022-11-25T12:17:34.589Z"
   },
   {
    "duration": 237,
    "start_time": "2022-11-25T12:17:34.619Z"
   },
   {
    "duration": 5,
    "start_time": "2022-11-25T12:17:34.858Z"
   },
   {
    "duration": 95,
    "start_time": "2022-11-25T12:17:34.866Z"
   },
   {
    "duration": 116,
    "start_time": "2022-11-25T12:17:34.964Z"
   },
   {
    "duration": 109,
    "start_time": "2022-11-25T12:17:35.082Z"
   },
   {
    "duration": 1676,
    "start_time": "2022-11-25T12:17:35.194Z"
   },
   {
    "duration": 7,
    "start_time": "2022-11-25T12:17:36.872Z"
   },
   {
    "duration": 8,
    "start_time": "2022-11-25T12:17:36.881Z"
   },
   {
    "duration": 13,
    "start_time": "2022-11-25T12:17:36.891Z"
   },
   {
    "duration": 48,
    "start_time": "2022-11-25T12:17:36.907Z"
   }
  ],
  "kernelspec": {
   "display_name": "Python 3 (ipykernel)",
   "language": "python",
   "name": "python3"
  },
  "language_info": {
   "codemirror_mode": {
    "name": "ipython",
    "version": 3
   },
   "file_extension": ".py",
   "mimetype": "text/x-python",
   "name": "python",
   "nbconvert_exporter": "python",
   "pygments_lexer": "ipython3",
   "version": "3.9.12"
  },
  "toc": {
   "base_numbering": 1,
   "nav_menu": {},
   "number_sections": true,
   "sideBar": true,
   "skip_h1_title": true,
   "title_cell": "Table of Contents",
   "title_sidebar": "Contents",
   "toc_cell": false,
   "toc_position": {},
   "toc_section_display": true,
   "toc_window_display": false
  }
 },
 "nbformat": 4,
 "nbformat_minor": 2
}
